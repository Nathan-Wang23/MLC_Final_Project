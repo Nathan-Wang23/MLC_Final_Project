{
 "cells": [
  {
   "cell_type": "code",
   "execution_count": 140,
   "metadata": {},
   "outputs": [],
   "source": [
    "from contextlib import contextmanager\n",
    "import sys\n",
    "import os\n",
    "import torch\n",
    "from ase import Atoms\n",
    "from ase.data import chemical_symbols\n",
    "from ase.calculators.morse import MorsePotential\n",
    "from ase.optimize import QuasiNewton\n",
    "import numpy as np\n",
    "import pickle\n",
    "\n",
    "import numpy as np\n",
    "import torch\n",
    "import torch.nn as nn\n",
    "import torch.optim as optim\n",
    "from ase import Atoms\n",
    "from ase.io import read\n",
    "from torch_geometric.data import Data\n",
    "from torch_geometric.nn import MessagePassing\n",
    "from torch_geometric.utils import to_networkx\n",
    "# from torch_geometric.data import DataLoader, TensorDataset\n",
    "from torch_geometric.loader import DataLoader\n",
    "from sklearn.model_selection import train_test_split\n",
    "from ase.build import molecule\n",
    "import pandas as pd\n",
    "from rdkit import Chem\n",
    "from rdkit.Chem import AllChem\n",
    "import random\n",
    "from torch_geometric.nn import global_add_pool, GATConv, CGConv, GCNConv, RGCNConv\n",
    "from torch_geometric.nn.models.schnet import GaussianSmearing\n",
    "from sklearn.metrics import roc_auc_score, precision_score, confusion_matrix\n",
    "import matplotlib.pyplot as plt\n",
    "import pickle\n",
    "from collections import Counter\n",
    "import seaborn as sns\n",
    "import time\n",
    "from torch.optim.lr_scheduler import StepLR"
   ]
  },
  {
   "cell_type": "code",
   "execution_count": 141,
   "metadata": {},
   "outputs": [],
   "source": [
    "with open('data/bio_data_rcgn.pkl', 'rb') as file:\n",
    "    bio_data = pickle.load(file)\n",
    "# 0 is non-biodegradable, 1 is biodegradable\n",
    "with open('data/bio_labels_rcgn.pkl', 'rb') as file:\n",
    "    bio_labels = pickle.load(file)"
   ]
  },
  {
   "cell_type": "code",
   "execution_count": 142,
   "metadata": {},
   "outputs": [
    {
     "name": "stdout",
     "output_type": "stream",
     "text": [
      "Data(x=[15, 10], edge_index=[2, 14], edge_attr=[14], atom_data=[15, 35])\n",
      "1\n"
     ]
    }
   ],
   "source": [
    "datapoint = bio_data[0]\n",
    "label = bio_labels[0]\n",
    "print(datapoint)\n",
    "print(label)"
   ]
  },
  {
   "cell_type": "code",
   "execution_count": 147,
   "metadata": {},
   "outputs": [
    {
     "name": "stdout",
     "output_type": "stream",
     "text": [
      "Atoms(symbols='X8He3X4', pbc=False)\n",
      "[[5.662457   1.87452294 8.77553164]\n",
      " [1.63353332 5.91587123 6.12384318]\n",
      " [6.6504955  5.36089796 2.06869462]\n",
      " [3.5966397  0.4325894  8.22617301]\n",
      " [0.87490489 2.50358868 3.23672986]\n",
      " [9.88519522 4.77008411 9.33492312]\n",
      " [7.08698532 7.50168302 6.51080645]\n",
      " [3.22368708 7.32855699 9.79528747]\n",
      " [5.86759739 6.17763367 8.44311945]\n",
      " [7.3522386  7.58838951 1.29180116]\n",
      " [1.85930173 4.67549701 7.83789269]\n",
      " [5.12497022 2.66141813 4.82120803]\n",
      " [9.08052918 8.21423991 6.18530514]\n",
      " [4.93075361 5.3464214  5.46693267]\n",
      " [4.26764875 1.92683295 0.86395847]]\n",
      "DFT Energy: 0.0 eV\n"
     ]
    }
   ],
   "source": [
    "def get_molecule(datapoint):\n",
    "    atomic_numbers = datapoint.x.argmax(dim=1).tolist()\n",
    "    # positions = datapoint.positions.numpy()\n",
    "    positions = np.random.rand(len(atomic_numbers), 3) * 10  # Random positions within a 10x10x10 Å box\n",
    "    \n",
    "    molecule = Atoms(numbers=atomic_numbers, positions=positions)\n",
    "    return molecule\n",
    "\n",
    "@contextmanager\n",
    "def suppress_stdout():\n",
    "    with open(os.devnull, \"w\") as devnull:\n",
    "        old_stdout = sys.stdout\n",
    "        sys.stdout = devnull\n",
    "        try:  \n",
    "            yield\n",
    "        finally:\n",
    "            sys.stdout = old_stdout\n",
    "\n",
    "def get_dft(datapoint, De=0.242, re=0.74, alpha=1.5):\n",
    "    molecule = get_molecule(datapoint)\n",
    "    print(molecule)\n",
    "    dft_calculator = MorsePotential(De=De, r0=re, alpha=alpha)\n",
    "    molecule.set_calculator(dft_calculator)\n",
    "    # energy = molecule.get_potential_energy()\n",
    "    with suppress_stdout():\n",
    "        opt = QuasiNewton(molecule)\n",
    "        opt.run(fmax=0.02)\n",
    "    optimized_energy = molecule.get_potential_energy()\n",
    "    pos = molecule.get_positions()\n",
    "    return optimized_energy\n",
    "\n",
    "energy = get_dft(datapoint)\n",
    "\n",
    "print(f'DFT Energy: {energy} eV')"
   ]
  },
  {
   "cell_type": "code",
   "execution_count": 144,
   "metadata": {},
   "outputs": [],
   "source": [
    "class GraphEncoder(nn.Module):\n",
    "    def __init__(self, input_dim, num_relations):\n",
    "        super(GraphEncoder, self).__init__()\n",
    "        self.rgcnconv1 = RGCNConv(input_dim, 512, num_relations=num_relations)\n",
    "        self.rgcnconv2 = RGCNConv(512, 256, num_relations=num_relations)\n",
    "        self.rgcnconv3 = RGCNConv(256, 128, num_relations=num_relations)\n",
    "\n",
    "    def forward(self, x, edge_index, edge_attr):\n",
    "        x = self.rgcnconv1(x, edge_index, edge_attr)\n",
    "        x = nn.ReLU()(x)\n",
    "        x = self.rgcnconv2(x, edge_index, edge_attr)\n",
    "        x = nn.ReLU()(x)\n",
    "        x = self.rgcnconv3(x, edge_index, edge_attr)\n",
    "        x = nn.ReLU()(x)\n",
    "        return x\n",
    "\n",
    "class BioClassifier(nn.Module):\n",
    "    def __init__(self, input_dim, num_heads):\n",
    "        super(BioClassifier, self).__init__()\n",
    "        \n",
    "        self.encoder = GraphEncoder(input_dim, num_heads)\n",
    "        self.fc1 = nn.Linear(128, 64)\n",
    "        self.bn1 = nn.BatchNorm1d(64)\n",
    "        self.fc2 = nn.Linear(64, 1)\n",
    "        self.dropout = nn.Dropout(0.4)\n",
    "\n",
    "    def forward(self, data):\n",
    "        x, edge_index, edge_attr = data.x, data.edge_index, data.edge_attr\n",
    "        x = x.float()\n",
    "\n",
    "        x = self.encoder(x, edge_index, edge_attr)\n",
    "        x = global_add_pool(x, data.batch)\n",
    "        x = self.dropout(x)\n",
    "        x = self.fc1(x)\n",
    "        x = nn.ReLU()(x)\n",
    "        x = self.bn1(x)\n",
    "        x = self.dropout(x)\n",
    "        x = self.fc2(x)\n",
    "        x = torch.sigmoid(x)\n",
    "        return x.squeeze(dim=1)"
   ]
  },
  {
   "cell_type": "code",
   "execution_count": 145,
   "metadata": {},
   "outputs": [],
   "source": [
    "model = BioClassifier(10, 4)\n",
    "\n",
    "state_dict = torch.load('models/rcgn_model_7428.pt')\n",
    "model.load_state_dict(state_dict)\n",
    "\n",
    "model.eval()\n",
    "def get_model_prediction(datapoint):\n",
    "    pred = model(datapoint)\n",
    "    return pred.item()"
   ]
  },
  {
   "cell_type": "code",
   "execution_count": 146,
   "metadata": {},
   "outputs": [
    {
     "name": "stdout",
     "output_type": "stream",
     "text": [
      "Atoms(symbols='X8He3X4', pbc=False)\n",
      "DFT (remember negative is good): -6.110760815807202e-06\n",
      "Chance of Biodgradability: 68.77%\n"
     ]
    }
   ],
   "source": [
    "dft = get_dft(datapoint)\n",
    "y = get_model_prediction(datapoint) * 100\n",
    "\n",
    "print(f'DFT (remember negative is good): {dft}')\n",
    "print(f'Chance of Biodgradability: {y:.2f}%')"
   ]
  }
 ],
 "metadata": {
  "kernelspec": {
   "display_name": ".venv",
   "language": "python",
   "name": "python3"
  },
  "language_info": {
   "codemirror_mode": {
    "name": "ipython",
    "version": 3
   },
   "file_extension": ".py",
   "mimetype": "text/x-python",
   "name": "python",
   "nbconvert_exporter": "python",
   "pygments_lexer": "ipython3",
   "version": "3.11.2"
  }
 },
 "nbformat": 4,
 "nbformat_minor": 2
}
