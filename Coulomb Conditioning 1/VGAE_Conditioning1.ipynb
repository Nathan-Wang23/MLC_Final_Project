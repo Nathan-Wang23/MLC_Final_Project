{
 "cells": [
  {
   "cell_type": "code",
   "execution_count": 1,
   "metadata": {},
   "outputs": [],
   "source": [
    "import torch\n",
    "import torch.nn as nn\n",
    "import torch.nn.functional as F\n",
    "import os\n",
    "import numpy as np\n",
    "from torch_geometric.nn import global_add_pool, GATConv, CGConv, VGAE,GCNConv, RGCNConv, global_mean_pool\n",
    "import pickle\n",
    "from itertools import combinations\n",
    "from sklearn.model_selection import train_test_split\n",
    "from torch_geometric.data import DataLoader, Data\n",
    "from torch.utils.data import Dataset, DataLoader\n",
    "from torch_geometric.data import Data, Batch\n",
    "from tqdm import tqdm\n",
    "import torch.optim as optim\n",
    "import math\n",
    "from torch_geometric.data import DataLoader\n",
    "from torch_geometric.nn import RGCNConv, global_mean_pool\n",
    "from torch_geometric.data import Data, Batch\n",
    "from torch.utils.data import Dataset, DataLoader\n",
    "import pickle\n",
    "from torch.optim import Adam, RMSprop\n",
    "from tqdm import tqdm\n",
    "from rdkit.Chem.rdMolDescriptors import CalcMolFormula\n"
   ]
  },
  {
   "cell_type": "code",
   "execution_count": 3,
   "metadata": {},
   "outputs": [],
   "source": [
    "from contextlib import contextmanager\n",
    "import sys\n",
    "import os\n",
    "import torch\n",
    "from ase import Atoms\n",
    "from ase.data import chemical_symbols\n",
    "from ase.calculators.morse import MorsePotential\n",
    "from ase.optimize import QuasiNewton\n",
    "import numpy as np\n",
    "import pickle\n",
    "from rdkit.Chem import rdchem\n",
    "\n",
    "import numpy as np\n",
    "import torch\n",
    "import torch.nn as nn\n",
    "import torch.optim as optim\n",
    "from ase import Atoms\n",
    "from ase.io import read\n",
    "from torch_geometric.data import Data\n",
    "from torch_geometric.nn import MessagePassing\n",
    "from torch_geometric.utils import to_networkx\n",
    "# from torch_geometric.data import DataLoader, TensorDataset\n",
    "from torch_geometric.loader import DataLoader\n",
    "from sklearn.model_selection import train_test_split\n",
    "from ase.build import molecule\n",
    "import pandas as pd\n",
    "from rdkit import Chem\n",
    "from rdkit.Chem import AllChem\n",
    "import random\n",
    "from torch_geometric.nn import global_add_pool, GATConv, CGConv, GCNConv, RGCNConv\n",
    "from torch_geometric.nn.models.schnet import GaussianSmearing\n",
    "from sklearn.metrics import roc_auc_score, precision_score, confusion_matrix\n",
    "import matplotlib.pyplot as plt\n",
    "import pickle\n",
    "from collections import Counter\n",
    "import seaborn as sns\n",
    "import time\n",
    "from torch.optim.lr_scheduler import StepLR\n",
    "import torch\n",
    "from torch_geometric.data import Data\n",
    "from dscribe.descriptors import SOAP, ACSF, CoulombMatrix"
   ]
  },
  {
   "cell_type": "code",
   "execution_count": 4,
   "metadata": {},
   "outputs": [
    {
     "name": "stdout",
     "output_type": "stream",
     "text": [
      "cuda\n"
     ]
    }
   ],
   "source": [
    "device = torch.device(\"cuda\" if torch.cuda.is_available() else \"cpu\")\n",
    "print(device)"
   ]
  },
  {
   "cell_type": "code",
   "execution_count": 5,
   "metadata": {},
   "outputs": [],
   "source": [
    "def debug_nan(tensor, name=\"Tensor\"):\n",
    "    if torch.isnan(tensor).any():\n",
    "        print(f\"NaN detected in {name}\")\n",
    "        print(tensor)"
   ]
  },
  {
   "cell_type": "code",
   "execution_count": 91,
   "metadata": {},
   "outputs": [],
   "source": [
    "class RGCN_VGAE(nn.Module):\n",
    "    def __init__(self, in_channels, out_channels, num_relations, num_node_features, max_nodes, bond_dim, atom_dim):\n",
    "        super(RGCN_VGAE, self).__init__()\n",
    "        self.num_relations = num_relations\n",
    "        self.max_nodes = max_nodes\n",
    "        self.atom_dim = atom_dim\n",
    "        self.bond_dim = bond_dim\n",
    "\n",
    "        self.rgcn1 = RGCNConv(in_channels, out_channels, num_relations=num_relations)\n",
    "        self.rgcn2 = RGCNConv(out_channels, out_channels, num_relations=num_relations)\n",
    "        self.rgcn3 = RGCNConv(out_channels, out_channels, num_relations=num_relations)\n",
    "\n",
    "        self.fc_mu = nn.Linear(out_channels, out_channels)\n",
    "        self.fc_logvar = nn.Linear(out_channels, out_channels)\n",
    "\n",
    "        self.adj_decoder = nn.Sequential(\n",
    "            nn.Linear(out_channels + 252, out_channels),\n",
    "            nn.ReLU(),\n",
    "            nn.Linear(out_channels, max_nodes * max_nodes * bond_dim)\n",
    "        )\n",
    "        self.feature_decoder = nn.Linear(out_channels + 252, max_nodes * atom_dim)\n",
    "\n",
    "        self.cond_pool1 = nn.AdaptiveAvgPool1d(9901)\n",
    "        self.cond_linear1 = nn.Linear(9901, 3_808)\n",
    "\n",
    "    def reparameterize(self, mu, logvar):\n",
    "        if self.training:\n",
    "            std = torch.exp(0.5 * logvar)\n",
    "            eps = torch.randn_like(std)\n",
    "            return eps.mul(std).add_(mu)\n",
    "        else:\n",
    "            return mu\n",
    "\n",
    "    def forward(self, data):\n",
    "        x, edge_index, edge_attr, batch = data.x, data.edge_index, data.edge_attr, data.batch\n",
    "        conditional = data.descriptor\n",
    "        edge_attr = torch.argmax(edge_attr, dim=1).long()\n",
    "\n",
    "        # print(x.shape)\n",
    "        # print(edge_index.shape)\n",
    "        # print(edge_attr.shape)\n",
    "        x = F.relu(self.rgcn1(x, edge_index, edge_attr))\n",
    "        x = F.relu(self.rgcn2(x, edge_index, edge_attr))\n",
    "        # x = F.relu(self.rgcn3(x, edge_index, edge_attr))\n",
    "        x = global_mean_pool(x, batch)\n",
    "\n",
    "        mu = self.fc_mu(x)\n",
    "        logvar = self.fc_logvar(x)\n",
    "        conditional = conditional.transpose(0,1)\n",
    "        conditional = conditional.unsqueeze(1)\n",
    "        conditional = self.cond_pool1(conditional)\n",
    "        # conditional = conditional.view(1, -1)\n",
    "        conditional = self.cond_linear1(conditional)\n",
    "        conditional = conditional.view(952, -1).squeeze(0)\n",
    "\n",
    "        z = self.reparameterize(mu, logvar)\n",
    "        z = torch.cat((z, conditional), dim=1)\n",
    "\n",
    "        A_pred = self.adj_decoder(z).view(-1, self.max_nodes, self.max_nodes, self.bond_dim)\n",
    "        A_pred = F.softmax(A_pred, dim=-1)\n",
    "\n",
    "        features_pred = self.feature_decoder(z).view(-1, self.max_nodes, self.atom_dim)\n",
    "        features_pred = F.softmax(features_pred, dim=-1)\n",
    "\n",
    "        return A_pred, features_pred, mu, logvar\n",
    "\n",
    "    def decode(self, z):\n",
    "        A_pred = self.adj_decoder(z).view(-1, self.max_nodes, self.max_nodes, self.bond_dim)\n",
    "        A_pred = F.softmax(A_pred, dim=-1)\n",
    "\n",
    "        features_pred = self.feature_decoder(z).view(-1, self.max_nodes, self.atom_dim)\n",
    "        features_pred = F.softmax(features_pred, dim=-1)\n",
    "\n",
    "        return A_pred, features_pred"
   ]
  },
  {
   "cell_type": "code",
   "execution_count": 85,
   "metadata": {},
   "outputs": [],
   "source": [
    "# with open(\"../data/combined_data.pkl\", \"rb\") as file:\n",
    "#     combined_data = pickle.load(file)\n",
    "\n",
    "atomic_number_tensors = torch.load(\"data/atomic_number_tensors.pt\")\n",
    "bond_tensors = torch.load(\"data/bond_tensors.pt\")"
   ]
  },
  {
   "cell_type": "code",
   "execution_count": 92,
   "metadata": {},
   "outputs": [],
   "source": [
    "NUM_ATOMS = 63\n",
    "ATOM_DIM = 11\n",
    "BOND_DIM = 5\n",
    "LATENT_DIM = 256\n",
    "HIDDEN_CHANNELS = 128\n",
    "NUM_RELATION_TYPES = BOND_DIM - 1\n",
    "NODE_FEATURE_DIM = ATOM_DIM - 1\n",
    "# NODE_FEATURE_DIM = ATOM_DIM\n",
    "BATCH_SIZE = 512\n",
    "NUM_EPOCHS = 300"
   ]
  },
  {
   "cell_type": "code",
   "execution_count": 93,
   "metadata": {},
   "outputs": [],
   "source": [
    "model = RGCN_VGAE(NODE_FEATURE_DIM, LATENT_DIM, NUM_RELATION_TYPES, NODE_FEATURE_DIM, NUM_ATOMS, BOND_DIM, ATOM_DIM).to(device)"
   ]
  },
  {
   "cell_type": "code",
   "execution_count": 94,
   "metadata": {},
   "outputs": [],
   "source": [
    "optimizer = torch.optim.Adam(model.parameters(), lr=0.0001)"
   ]
  },
  {
   "cell_type": "code",
   "execution_count": 12,
   "metadata": {},
   "outputs": [],
   "source": [
    "class GraphDataset(Dataset):\n",
    "    def __init__(self, adjacency_matrices, atom_features):\n",
    "        self.adjacency_matrices = adjacency_matrices\n",
    "        self.atom_features = atom_features\n",
    "\n",
    "    def __len__(self):\n",
    "        return self.adjacency_matrices.size(0)\n",
    "\n",
    "    def __getitem__(self, idx):\n",
    "        return self.adjacency_matrices[idx], self.atom_features[idx]\n",
    "\n",
    "dataset = GraphDataset(bond_tensors, atomic_number_tensors)\n",
    "\n",
    "dataloader = DataLoader(dataset, batch_size=BATCH_SIZE, shuffle=True)"
   ]
  },
  {
   "cell_type": "code",
   "execution_count": 95,
   "metadata": {},
   "outputs": [],
   "source": [
    "weights_atoms = torch.ones(ATOM_DIM).to(device)\n",
    "weights_bonds = torch.ones(BOND_DIM).to(device)\n",
    "\n",
    "weights_atoms[0] = 0.5\n",
    "weights_atoms[10] = 8\n",
    "weights_bonds[4] = 0.5\n",
    "\n",
    "weights_atoms.to(device)\n",
    "weights_bonds.to(device)\n",
    "\n",
    "def calculate_kl_divergence(mu, logvar):\n",
    "    kl_divergence = -0.5 * torch.sum(1 + logvar - mu.pow(2) - logvar.exp())\n",
    "    return kl_divergence\n",
    "\n",
    "# def calculate_uniqueness_loss(bonds_pred, atoms_pred):\n",
    "#     datapoints = process_graph_data_to_data_objects(bonds_pred, atoms_pred)\n",
    "#     num_unique = 0\n",
    "#     seen_set = set()\n",
    "#     for dp in datapoints:\n",
    "#         mol, formula = to_chemula(dp)\n",
    "#         if formula not in seen_set:\n",
    "#             num_unique += 1\n",
    "#             seen_set.add(formula)\n",
    "#     return num_unique\n",
    "\n",
    "def loss_function(preds, labels, mu, logvar, preds_atomic, atomic_numbers, lambda_kld, device):\n",
    "\n",
    "    batch_size = preds.shape[0]\n",
    "    labels = torch.argmax(labels, dim=-1)\n",
    "    atomic_numbers = torch.argmax(atomic_numbers, dim=-1)\n",
    "    preds, labels = preds.to(device), labels.to(device)\n",
    "    preds_atomic, atomic_numbers = preds_atomic.to(device), atomic_numbers.to(device)\n",
    "    mu, logvar = mu.to(device), logvar.to(device)\n",
    "\n",
    "    # print(preds.shape)\n",
    "    # print(labels.shape)\n",
    "    # print(preds_atomic.shape)\n",
    "    # print(atomic_numbers.shape)\n",
    "\n",
    "    ce_bond = F.cross_entropy(preds.view(-1, preds.size(-1)), labels.view(-1), weight=weights_bonds.to(device))\n",
    "    ce_atomic = F.cross_entropy(preds_atomic.view(-1, preds_atomic.size(-1)), atomic_numbers.view(-1), weight=weights_atoms.to(device))\n",
    "\n",
    "    kld = calculate_kl_divergence(mu, logvar)\n",
    "\n",
    "    atom_presence_mask = torch.argmax(preds_atomic, dim=-1) != 10\n",
    "    atom_count = torch.sum(atom_presence_mask)\n",
    "    atom_count = atom_count / batch_size\n",
    "    atomic_regulizer = atom_count / batch_size * 3\n",
    "\n",
    "\n",
    "    bond_presence_mask = torch.argmax(preds, dim=-1) != 4\n",
    "    bond_count = torch.sum(bond_presence_mask)\n",
    "    bond_count = bond_count / batch_size\n",
    "\n",
    "    if int(atom_count) <= 50:\n",
    "        print(atom_count)\n",
    "        atomic_regulizer = 2000 - 10 * int(atom_count)\n",
    "\n",
    "    if bond_count < 100:\n",
    "        bond_regulizer = 0.0\n",
    "    elif bond_count <= 50:\n",
    "        bond_regulizer = 2000 - 5 * bond_count\n",
    "    else:\n",
    "        bond_regulizer = 10\n",
    "\n",
    "    # unique_counts = set()\n",
    "\n",
    "    # for b in preds_atomic:\n",
    "    #     atom_counts = np.zeros(11, dtype=int)\n",
    "    #     for j in range(63):\n",
    "    #         for k in range(11):\n",
    "    #             if b[j, k] == 1:\n",
    "    #                 atom_counts[k] += 1\n",
    "    #     counts_tuple = tuple(atom_counts)\n",
    "    #     unique_counts.add(counts_tuple)\n",
    "\n",
    "    # num_same = len(unique_counts)\n",
    "    # print(num_same)\n",
    "\n",
    "    total_loss = 0.7 * ce_bond + lambda_kld * kld + 1.9 * ce_atomic + 0.6 * atomic_regulizer + 0.2 * bond_regulizer\n",
    "\n",
    "    print(kld, ce_atomic, ce_bond, atomic_regulizer, bond_regulizer)\n",
    "    return total_loss\n"
   ]
  },
  {
   "cell_type": "code",
   "execution_count": 15,
   "metadata": {},
   "outputs": [],
   "source": [
    "atomic_mapping = {0: 6, 1: 7, 2:8, 3:9, 4:14, 5:15, 6:16, 7:17, 8:35, 9:53}"
   ]
  },
  {
   "cell_type": "code",
   "execution_count": 16,
   "metadata": {},
   "outputs": [],
   "source": [
    "def create_feature_descriptor(atomic_nums):\n",
    "    numbers = torch.argmax(atomic_nums, dim=-1)\n",
    "    numbers = [atomic_mapping[index.item()] for index in numbers if index < 10]\n",
    "\n",
    "    positions = np.random.rand(len(numbers), 3) * 10\n",
    "\n",
    "    atoms = Atoms(numbers=numbers, positions=positions)\n",
    "\n",
    "    cm = CoulombMatrix(n_atoms_max=len(numbers), permutation=\"sorted_l2\")\n",
    "\n",
    "    cm_descriptor = cm.create(atoms).reshape(len(numbers), len(numbers))\n",
    "    if len(numbers) < 63:\n",
    "        cm_descriptor = np.pad(cm_descriptor, ((0, 63 - len(numbers)), (0, 63 - len(numbers))), mode='constant', constant_values=0)\n",
    "    return cm_descriptor"
   ]
  },
  {
   "cell_type": "code",
   "execution_count": 117,
   "metadata": {},
   "outputs": [],
   "source": [
    "def process_graph_data_to_data_objects(batch_adjacency, batch_atoms, grad = False):\n",
    "    batch_size = batch_adjacency.shape[0]\n",
    "    num_nodes = batch_adjacency.shape[1]\n",
    "    num_bond_types = batch_adjacency.shape[3] - 1\n",
    "    num_atom_types = batch_atoms.shape[2] - 1\n",
    "    # print(num_atom_types)\n",
    "\n",
    "    data_objects = []\n",
    "\n",
    "    for idx in range(batch_size):\n",
    "        edge_index = []\n",
    "        edge_attr = []\n",
    "        x = []\n",
    "        node_index_map = {}\n",
    "\n",
    "        adjacency = batch_adjacency[idx]\n",
    "        atoms = batch_atoms[idx]\n",
    "\n",
    "        new_idx = 0\n",
    "\n",
    "        descriptor = torch.tensor(create_feature_descriptor(atoms), dtype=torch.float32)\n",
    "        # padded_descriptor = np.pad(descriptor, ((0, 0), (0, 9000 - descriptor.shape[1])), mode='constant', constant_values=0)\n",
    "        # padded_descriptor = torch.tensor(padded_descriptor)\n",
    "        # print(padded_descriptor.shape)\n",
    "\n",
    "        for i in range(num_nodes):\n",
    "            for j in range(i + 1, num_nodes):\n",
    "                bond_type = torch.argmax(adjacency[i, j])\n",
    "                # if adjacency[i,j][num_bond_types] > 0.18:\n",
    "                #     # print('overwrite')\n",
    "                    # continue\n",
    "                if bond_type < num_bond_types:  # Bond exists\n",
    "                    atom_type_i = torch.argmax(atoms[i])\n",
    "                    atom_type_j = torch.argmax(atoms[j])\n",
    "                    if atom_type_i == num_atom_types or atom_type_j == num_atom_types: # Both atoms must exist\n",
    "                        continue\n",
    "                    if i not in node_index_map:\n",
    "                        node_index_map[i] = new_idx\n",
    "                        new_idx+=1\n",
    "                        x.append(torch.nn.functional.one_hot(torch.argmax(atoms[i]), num_classes=num_atom_types).float())\n",
    "                    if j not in node_index_map:\n",
    "                        node_index_map[j] = new_idx\n",
    "                        new_idx+=1\n",
    "                        x.append(torch.nn.functional.one_hot(torch.argmax(atoms[j]), num_classes=num_atom_types).float())\n",
    "                    edge_index.append([node_index_map[i], node_index_map[j]])\n",
    "                    bond_one_hot = torch.zeros(num_bond_types)\n",
    "                    bond_one_hot[bond_type] = 1\n",
    "                    edge_attr.append(bond_one_hot)\n",
    "                    # print(bond_type)\n",
    "                    # edge_attr.append(bond_type/num_bond_types)\n",
    "\n",
    "        if edge_index:\n",
    "            edge_index_tensor = torch.tensor(edge_index, dtype=torch.long).t().contiguous()\n",
    "            edge_attr_tensor = torch.stack(edge_attr, dim=0)\n",
    "\n",
    "        else:\n",
    "\n",
    "            edge_index_tensor = torch.empty((2, 0), dtype=torch.long)\n",
    "            edge_attr_tensor = torch.empty((0, num_bond_types), dtype=torch.float)\n",
    "\n",
    "\n",
    "        if x:\n",
    "            node_features_tensor = torch.stack(x, dim=0)\n",
    "        else:\n",
    "\n",
    "            node_features_tensor = torch.empty((0, num_atom_types), dtype=torch.float)\n",
    "\n",
    "\n",
    "        # if grad:\n",
    "        #     node_features_tensor.requires_grad_(True)\n",
    "        #     edge_attr.requires_grad_(True)\n",
    "        graph_data = Data(x=node_features_tensor, edge_index=edge_index_tensor, edge_attr=edge_attr_tensor, adj_matrix=adjacency, node_features=atoms, descriptor=descriptor)\n",
    "        data_objects.append(graph_data)\n",
    "\n",
    "    return data_objects"
   ]
  },
  {
   "cell_type": "code",
   "execution_count": 42,
   "metadata": {},
   "outputs": [],
   "source": [
    "# data_dataset = []\n",
    "# for adj_matrix, node_features in dataloader:\n",
    "#     adj_matrix.to(device)\n",
    "#     node_features.to(device)\n",
    "#     data = process_graph_data_to_data_objects(adj_matrix, node_features)\n",
    "#     data_dataset.append(data)\n",
    "\n",
    "# data_object_loader = DataLoader(data_dataset, batch_size=BATCH_SIZE, shuffle=True)"
   ]
  },
  {
   "cell_type": "code",
   "execution_count": 19,
   "metadata": {},
   "outputs": [
    {
     "name": "stdout",
     "output_type": "stream",
     "text": [
      "DataBatch(x=[154, 10], edge_index=[2, 164], edge_attr=[164, 4], adj_matrix=[441, 63, 5], node_features=[441, 11], descriptor=[441, 63], batch=[154], ptr=[8])\n"
     ]
    }
   ],
   "source": [
    "for b in data_object_loader:\n",
    "    print(b[2])\n",
    "    break"
   ]
  },
  {
   "cell_type": "code",
   "execution_count": 96,
   "metadata": {},
   "outputs": [
    {
     "name": "stdout",
     "output_type": "stream",
     "text": [
      "tensor(489.5607, device='cuda:0', grad_fn=<MulBackward0>) tensor(2.4044, device='cuda:0', grad_fn=<NllLossBackward0>) tensor(1.6158, device='cuda:0', grad_fn=<NllLossBackward0>) tensor(0.1803, device='cuda:0') 10\n",
      "Epoch 1, Loss: 644.2363891601562\n",
      "tensor(456.7978, device='cuda:0', grad_fn=<MulBackward0>) tensor(2.3922, device='cuda:0', grad_fn=<NllLossBackward0>) tensor(1.6128, device='cuda:0', grad_fn=<NllLossBackward0>) tensor(0.1767, device='cuda:0') 10\n",
      "Epoch 2, Loss: 601.617431640625\n",
      "tensor(426.4111, device='cuda:0', grad_fn=<MulBackward0>) tensor(2.3755, device='cuda:0', grad_fn=<NllLossBackward0>) tensor(1.6093, device='cuda:0', grad_fn=<NllLossBackward0>) tensor(0.1722, device='cuda:0') 10\n",
      "Epoch 3, Loss: 562.07763671875\n",
      "tensor(398.2682, device='cuda:0', grad_fn=<MulBackward0>) tensor(2.3627, device='cuda:0', grad_fn=<NllLossBackward0>) tensor(1.6056, device='cuda:0', grad_fn=<NllLossBackward0>) tensor(0.1688, device='cuda:0') 10\n",
      "Epoch 4, Loss: 525.463134765625\n",
      "tensor(372.1891, device='cuda:0', grad_fn=<MulBackward0>) tensor(2.3457, device='cuda:0', grad_fn=<NllLossBackward0>) tensor(1.6011, device='cuda:0', grad_fn=<NllLossBackward0>) tensor(0.1647, device='cuda:0') 10\n",
      "Epoch 5, Loss: 491.52215576171875\n",
      "tensor(50.4349, device='cuda:0')\n",
      "tensor(347.9848, device='cuda:0', grad_fn=<MulBackward0>) tensor(2.3223, device='cuda:0', grad_fn=<NllLossBackward0>) tensor(1.5958, device='cuda:0', grad_fn=<NllLossBackward0>) 1500 10\n",
      "Epoch 6, Loss: 1359.90966796875\n",
      "tensor(49.5683, device='cuda:0')\n",
      "tensor(325.5486, device='cuda:0', grad_fn=<MulBackward0>) tensor(2.3096, device='cuda:0', grad_fn=<NllLossBackward0>) tensor(1.5905, device='cuda:0', grad_fn=<NllLossBackward0>) 1510 10\n",
      "Epoch 7, Loss: 1336.714599609375\n",
      "tensor(47.8876, device='cuda:0')\n",
      "tensor(304.7343, device='cuda:0', grad_fn=<MulBackward0>) tensor(2.2838, device='cuda:0', grad_fn=<NllLossBackward0>) tensor(1.5834, device='cuda:0', grad_fn=<NllLossBackward0>) 1530 10\n",
      "Epoch 8, Loss: 1321.602294921875\n",
      "tensor(46.7090, device='cuda:0')\n",
      "tensor(285.4327, device='cuda:0', grad_fn=<MulBackward0>) tensor(2.2678, device='cuda:0', grad_fn=<NllLossBackward0>) tensor(1.5763, device='cuda:0', grad_fn=<NllLossBackward0>) 1540 10\n",
      "Epoch 9, Loss: 1302.474609375\n",
      "tensor(44.6754, device='cuda:0')\n",
      "tensor(267.5513, device='cuda:0', grad_fn=<MulBackward0>) tensor(2.2401, device='cuda:0', grad_fn=<NllLossBackward0>) tensor(1.5674, device='cuda:0', grad_fn=<NllLossBackward0>) 1560 10\n",
      "Epoch 10, Loss: 1291.170166015625\n",
      "tensor(43.1576, device='cuda:0')\n",
      "tensor(250.9469, device='cuda:0', grad_fn=<MulBackward0>) tensor(2.2205, device='cuda:0', grad_fn=<NllLossBackward0>) tensor(1.5590, device='cuda:0', grad_fn=<NllLossBackward0>) 1570 10\n",
      "Epoch 11, Loss: 1275.5411376953125\n",
      "tensor(41.2374, device='cuda:0')\n",
      "tensor(235.4857, device='cuda:0', grad_fn=<MulBackward0>) tensor(2.1919, device='cuda:0', grad_fn=<NllLossBackward0>) tensor(1.5479, device='cuda:0', grad_fn=<NllLossBackward0>) 1590 10\n",
      "Epoch 12, Loss: 1267.379638671875\n",
      "tensor(40.1082, device='cuda:0')\n",
      "tensor(221.0934, device='cuda:0', grad_fn=<MulBackward0>) tensor(2.1777, device='cuda:0', grad_fn=<NllLossBackward0>) tensor(1.5391, device='cuda:0', grad_fn=<NllLossBackward0>) 1600 10\n",
      "Epoch 13, Loss: 1254.636474609375\n",
      "tensor(37.1975, device='cuda:0')\n",
      "tensor(207.6899, device='cuda:0', grad_fn=<MulBackward0>) tensor(2.1377, device='cuda:0', grad_fn=<NllLossBackward0>) tensor(1.5239, device='cuda:0', grad_fn=<NllLossBackward0>) 1630 10\n",
      "Epoch 14, Loss: 1255.125244140625\n",
      "tensor(35.6691, device='cuda:0')\n",
      "tensor(195.1756, device='cuda:0', grad_fn=<MulBackward0>) tensor(2.1187, device='cuda:0', grad_fn=<NllLossBackward0>) tensor(1.5122, device='cuda:0', grad_fn=<NllLossBackward0>) 1650 10\n",
      "Epoch 15, Loss: 1250.8123779296875\n",
      "tensor(33.4769, device='cuda:0')\n",
      "tensor(183.4728, device='cuda:0', grad_fn=<MulBackward0>) tensor(2.0875, device='cuda:0', grad_fn=<NllLossBackward0>) tensor(1.4956, device='cuda:0', grad_fn=<NllLossBackward0>) 1670 10\n",
      "Epoch 16, Loss: 1247.5279541015625\n",
      "tensor(31.8803, device='cuda:0')\n",
      "tensor(172.5407, device='cuda:0', grad_fn=<MulBackward0>) tensor(2.0715, device='cuda:0', grad_fn=<NllLossBackward0>) tensor(1.4828, device='cuda:0', grad_fn=<NllLossBackward0>) 1690 10\n",
      "Epoch 17, Loss: 1245.2767333984375\n",
      "tensor(30.7111, device='cuda:0')\n",
      "tensor(162.3259, device='cuda:0', grad_fn=<MulBackward0>) tensor(2.0518, device='cuda:0', grad_fn=<NllLossBackward0>) tensor(1.4670, device='cuda:0', grad_fn=<NllLossBackward0>) 1700 10\n",
      "Epoch 18, Loss: 1237.9490966796875\n",
      "tensor(28.2973, device='cuda:0')\n",
      "tensor(152.7615, device='cuda:0', grad_fn=<MulBackward0>) tensor(2.0179, device='cuda:0', grad_fn=<NllLossBackward0>) tensor(1.4461, device='cuda:0', grad_fn=<NllLossBackward0>) 1720 10\n",
      "Epoch 19, Loss: 1237.4361572265625\n",
      "tensor(26.4811, device='cuda:0')\n",
      "tensor(143.7785, device='cuda:0', grad_fn=<MulBackward0>) tensor(1.9855, device='cuda:0', grad_fn=<NllLossBackward0>) tensor(1.4234, device='cuda:0', grad_fn=<NllLossBackward0>) 1740 10\n",
      "Epoch 20, Loss: 1237.680908203125\n",
      "tensor(25.5189, device='cuda:0')\n",
      "tensor(135.3373, device='cuda:0', grad_fn=<MulBackward0>) tensor(1.9791, device='cuda:0', grad_fn=<NllLossBackward0>) tensor(1.4098, device='cuda:0', grad_fn=<NllLossBackward0>) 1750 10\n",
      "Epoch 21, Loss: 1232.6856689453125\n",
      "tensor(24.4706, device='cuda:0')\n",
      "tensor(127.4096, device='cuda:0', grad_fn=<MulBackward0>) tensor(1.9635, device='cuda:0', grad_fn=<NllLossBackward0>) tensor(1.3924, device='cuda:0', grad_fn=<NllLossBackward0>) 1760 10\n",
      "Epoch 22, Loss: 1228.337890625\n",
      "tensor(22.5189, device='cuda:0')\n",
      "tensor(119.9633, device='cuda:0', grad_fn=<MulBackward0>) tensor(1.9289, device='cuda:0', grad_fn=<NllLossBackward0>) tensor(1.3655, device='cuda:0', grad_fn=<NllLossBackward0>) 1780 10\n",
      "Epoch 23, Loss: 1230.572998046875\n",
      "tensor(21.4905, device='cuda:0')\n",
      "tensor(112.9324, device='cuda:0', grad_fn=<MulBackward0>) tensor(1.9121, device='cuda:0', grad_fn=<NllLossBackward0>) tensor(1.3458, device='cuda:0', grad_fn=<NllLossBackward0>) 1790 10\n",
      "Epoch 24, Loss: 1227.38720703125\n",
      "tensor(20.9842, device='cuda:0')\n",
      "tensor(106.3014, device='cuda:0', grad_fn=<MulBackward0>) tensor(1.9080, device='cuda:0', grad_fn=<NllLossBackward0>) tensor(1.3315, device='cuda:0', grad_fn=<NllLossBackward0>) 1800 10\n",
      "Epoch 25, Loss: 1224.7490234375\n",
      "tensor(19.1040, device='cuda:0')\n",
      "tensor(100.0314, device='cuda:0', grad_fn=<MulBackward0>) tensor(1.8772, device='cuda:0', grad_fn=<NllLossBackward0>) tensor(1.3047, device='cuda:0', grad_fn=<NllLossBackward0>) 1810 10\n",
      "Epoch 26, Loss: 1222.520751953125\n",
      "tensor(17.9034, device='cuda:0')\n",
      "tensor(94.1089, device='cuda:0', grad_fn=<MulBackward0>) tensor(1.8548, device='cuda:0', grad_fn=<NllLossBackward0>) tensor(1.2808, device='cuda:0', grad_fn=<NllLossBackward0>) 1830 10\n",
      "Epoch 27, Loss: 1226.7623291015625\n",
      "tensor(17.1775, device='cuda:0')\n",
      "tensor(88.5069, device='cuda:0', grad_fn=<MulBackward0>) tensor(1.8442, device='cuda:0', grad_fn=<NllLossBackward0>) tensor(1.2634, device='cuda:0', grad_fn=<NllLossBackward0>) 1830 10\n",
      "Epoch 28, Loss: 1219.447265625\n",
      "tensor(16.7847, device='cuda:0')\n",
      "tensor(83.1974, device='cuda:0', grad_fn=<MulBackward0>) tensor(1.8399, device='cuda:0', grad_fn=<NllLossBackward0>) tensor(1.2490, device='cuda:0', grad_fn=<NllLossBackward0>) 1840 10\n",
      "Epoch 29, Loss: 1218.526611328125\n",
      "tensor(15.2679, device='cuda:0')\n",
      "tensor(78.1759, device='cuda:0', grad_fn=<MulBackward0>) tensor(1.8024, device='cuda:0', grad_fn=<NllLossBackward0>) tensor(1.2171, device='cuda:0', grad_fn=<NllLossBackward0>) 1850 10\n",
      "Epoch 30, Loss: 1217.9052734375\n",
      "tensor(14.9244, device='cuda:0')\n",
      "tensor(73.4306, device='cuda:0', grad_fn=<MulBackward0>) tensor(1.8029, device='cuda:0', grad_fn=<NllLossBackward0>) tensor(1.2062, device='cuda:0', grad_fn=<NllLossBackward0>) 1860 10\n",
      "Epoch 31, Loss: 1217.729736328125\n",
      "tensor(14.1523, device='cuda:0')\n",
      "tensor(68.9596, device='cuda:0', grad_fn=<MulBackward0>) tensor(1.7823, device='cuda:0', grad_fn=<NllLossBackward0>) tensor(1.1831, device='cuda:0', grad_fn=<NllLossBackward0>) 1860 10\n",
      "Epoch 32, Loss: 1211.8619384765625\n",
      "tensor(14.1355, device='cuda:0')\n",
      "tensor(64.7450, device='cuda:0', grad_fn=<MulBackward0>) tensor(1.7894, device='cuda:0', grad_fn=<NllLossBackward0>) tensor(1.1767, device='cuda:0', grad_fn=<NllLossBackward0>) 1860 10\n",
      "Epoch 33, Loss: 1206.39208984375\n",
      "tensor(13.0095, device='cuda:0')\n",
      "tensor(60.7706, device='cuda:0', grad_fn=<MulBackward0>) tensor(1.7543, device='cuda:0', grad_fn=<NllLossBackward0>) tensor(1.1433, device='cuda:0', grad_fn=<NllLossBackward0>) 1870 10\n",
      "Epoch 34, Loss: 1207.13525390625\n",
      "tensor(12.6733, device='cuda:0')\n",
      "tensor(57.0374, device='cuda:0', grad_fn=<MulBackward0>) tensor(1.7556, device='cuda:0', grad_fn=<NllLossBackward0>) tensor(1.1349, device='cuda:0', grad_fn=<NllLossBackward0>) 1880 10\n",
      "Epoch 35, Loss: 1208.2786865234375\n",
      "tensor(12.6208, device='cuda:0')\n",
      "tensor(53.5406, device='cuda:0', grad_fn=<MulBackward0>) tensor(1.7590, device='cuda:0', grad_fn=<NllLossBackward0>) tensor(1.1280, device='cuda:0', grad_fn=<NllLossBackward0>) 1880 10\n",
      "Epoch 36, Loss: 1203.7344970703125\n",
      "tensor(11.8424, device='cuda:0')\n",
      "tensor(50.2635, device='cuda:0', grad_fn=<MulBackward0>) tensor(1.7418, device='cuda:0', grad_fn=<NllLossBackward0>) tensor(1.1077, device='cuda:0', grad_fn=<NllLossBackward0>) 1890 10\n",
      "Epoch 37, Loss: 1205.42724609375\n",
      "tensor(11.4485, device='cuda:0')\n",
      "tensor(47.1922, device='cuda:0', grad_fn=<MulBackward0>) tensor(1.7466, device='cuda:0', grad_fn=<NllLossBackward0>) tensor(1.1032, device='cuda:0', grad_fn=<NllLossBackward0>) 1890 10\n",
      "Epoch 38, Loss: 1201.440673828125\n",
      "tensor(10.5725, device='cuda:0')\n",
      "tensor(44.3205, device='cuda:0', grad_fn=<MulBackward0>) tensor(1.7242, device='cuda:0', grad_fn=<NllLossBackward0>) tensor(1.0804, device='cuda:0', grad_fn=<NllLossBackward0>) 1900 10\n",
      "Epoch 39, Loss: 1203.6490478515625\n",
      "tensor(10.0042, device='cuda:0')\n",
      "tensor(41.6375, device='cuda:0', grad_fn=<MulBackward0>) tensor(1.7162, device='cuda:0', grad_fn=<NllLossBackward0>) tensor(1.0678, device='cuda:0', grad_fn=<NllLossBackward0>) 1900 10\n",
      "Epoch 40, Loss: 1200.136962890625\n",
      "tensor(10.0861, device='cuda:0')\n",
      "tensor(39.1297, device='cuda:0', grad_fn=<MulBackward0>) tensor(1.7304, device='cuda:0', grad_fn=<NllLossBackward0>) tensor(1.0711, device='cuda:0', grad_fn=<NllLossBackward0>) 1900 10\n",
      "Epoch 41, Loss: 1196.9061279296875\n",
      "tensor(9.5368, device='cuda:0')\n",
      "tensor(36.7985, device='cuda:0', grad_fn=<MulBackward0>) tensor(1.7140, device='cuda:0', grad_fn=<NllLossBackward0>) tensor(1.0531, device='cuda:0', grad_fn=<NllLossBackward0>) 1910 10\n",
      "Epoch 42, Loss: 1199.8319091796875\n",
      "tensor(9.3624, device='cuda:0')\n",
      "tensor(34.6350, device='cuda:0', grad_fn=<MulBackward0>) tensor(1.7128, device='cuda:0', grad_fn=<NllLossBackward0>) tensor(1.0476, device='cuda:0', grad_fn=<NllLossBackward0>) 1910 10\n",
      "Epoch 43, Loss: 1197.0130615234375\n",
      "tensor(9.5651, device='cuda:0')\n",
      "tensor(32.6265, device='cuda:0', grad_fn=<MulBackward0>) tensor(1.7192, device='cuda:0', grad_fn=<NllLossBackward0>) tensor(1.0471, device='cuda:0', grad_fn=<NllLossBackward0>) 1910 10\n",
      "Epoch 44, Loss: 1194.4139404296875\n",
      "tensor(8.8445, device='cuda:0')\n",
      "tensor(30.7669, device='cuda:0', grad_fn=<MulBackward0>) tensor(1.6939, device='cuda:0', grad_fn=<NllLossBackward0>) tensor(1.0256, device='cuda:0', grad_fn=<NllLossBackward0>) 1920 10\n",
      "Epoch 45, Loss: 1197.933349609375\n",
      "tensor(9.3330, device='cuda:0')\n",
      "tensor(29.0487, device='cuda:0', grad_fn=<MulBackward0>) tensor(1.7054, device='cuda:0', grad_fn=<NllLossBackward0>) tensor(1.0298, device='cuda:0', grad_fn=<NllLossBackward0>) 1910 10\n",
      "Epoch 46, Loss: 1189.724365234375\n",
      "tensor(9.3582, device='cuda:0')\n",
      "tensor(27.4605, device='cuda:0', grad_fn=<MulBackward0>) tensor(1.7105, device='cuda:0', grad_fn=<NllLossBackward0>) tensor(1.0301, device='cuda:0', grad_fn=<NllLossBackward0>) 1910 10\n",
      "Epoch 47, Loss: 1187.6695556640625\n",
      "tensor(8.6733, device='cuda:0')\n",
      "tensor(25.9976, device='cuda:0', grad_fn=<MulBackward0>) tensor(1.6902, device='cuda:0', grad_fn=<NllLossBackward0>) tensor(1.0139, device='cuda:0', grad_fn=<NllLossBackward0>) 1920 0.0\n",
      "Epoch 48, Loss: 1189.718017578125\n",
      "tensor(8.6691, device='cuda:0')\n",
      "tensor(24.6509, device='cuda:0', grad_fn=<MulBackward0>) tensor(1.6917, device='cuda:0', grad_fn=<NllLossBackward0>) tensor(1.0121, device='cuda:0', grad_fn=<NllLossBackward0>) 1920 0.0\n",
      "Epoch 49, Loss: 1187.9688720703125\n",
      "tensor(9.0137, device='cuda:0')\n",
      "tensor(23.4059, device='cuda:0', grad_fn=<MulBackward0>) tensor(1.6882, device='cuda:0', grad_fn=<NllLossBackward0>) tensor(1.0085, device='cuda:0', grad_fn=<NllLossBackward0>) 1910 0.0\n",
      "Epoch 50, Loss: 1180.3411865234375\n",
      "tensor(8.6240, device='cuda:0')\n",
      "tensor(22.2612, device='cuda:0', grad_fn=<MulBackward0>) tensor(1.6859, device='cuda:0', grad_fn=<NllLossBackward0>) tensor(1.0039, device='cuda:0', grad_fn=<NllLossBackward0>) 1920 0.0\n",
      "Epoch 51, Loss: 1184.845458984375\n",
      "tensor(8.4559, device='cuda:0')\n",
      "tensor(21.2102, device='cuda:0', grad_fn=<MulBackward0>) tensor(1.6775, device='cuda:0', grad_fn=<NllLossBackward0>) tensor(0.9969, device='cuda:0', grad_fn=<NllLossBackward0>) 1920 0.0\n",
      "Epoch 52, Loss: 1183.4583740234375\n",
      "tensor(8.3561, device='cuda:0')\n",
      "tensor(20.2442, device='cuda:0', grad_fn=<MulBackward0>) tensor(1.6696, device='cuda:0', grad_fn=<NllLossBackward0>) tensor(0.9910, device='cuda:0', grad_fn=<NllLossBackward0>) 1920 0.0\n",
      "Epoch 53, Loss: 1182.1834716796875\n",
      "tensor(8.4422, device='cuda:0')\n",
      "tensor(19.3544, device='cuda:0', grad_fn=<MulBackward0>) tensor(1.6781, device='cuda:0', grad_fn=<NllLossBackward0>) tensor(0.9941, device='cuda:0', grad_fn=<NllLossBackward0>) 1920 0.0\n",
      "Epoch 54, Loss: 1181.044921875\n",
      "tensor(8.2458, device='cuda:0')\n",
      "tensor(18.5374, device='cuda:0', grad_fn=<MulBackward0>) tensor(1.6702, device='cuda:0', grad_fn=<NllLossBackward0>) tensor(0.9884, device='cuda:0', grad_fn=<NllLossBackward0>) 1920 0.0\n",
      "Epoch 55, Loss: 1179.9638671875\n",
      "tensor(8.1408, device='cuda:0')\n",
      "tensor(17.7869, device='cuda:0', grad_fn=<MulBackward0>) tensor(1.6652, device='cuda:0', grad_fn=<NllLossBackward0>) tensor(0.9845, device='cuda:0', grad_fn=<NllLossBackward0>) 1920 0.0\n",
      "Epoch 56, Loss: 1178.97607421875\n",
      "tensor(7.9233, device='cuda:0')\n",
      "tensor(17.0976, device='cuda:0', grad_fn=<MulBackward0>) tensor(1.6658, device='cuda:0', grad_fn=<NllLossBackward0>) tensor(0.9825, device='cuda:0', grad_fn=<NllLossBackward0>) 1930 0.0\n",
      "Epoch 57, Loss: 1184.07958984375\n",
      "tensor(7.8571, device='cuda:0')\n",
      "tensor(16.4642, device='cuda:0', grad_fn=<MulBackward0>) tensor(1.6655, device='cuda:0', grad_fn=<NllLossBackward0>) tensor(0.9815, device='cuda:0', grad_fn=<NllLossBackward0>) 1930 0.0\n",
      "Epoch 58, Loss: 1183.2550048828125\n",
      "tensor(7.9422, device='cuda:0')\n",
      "tensor(15.8820, device='cuda:0', grad_fn=<MulBackward0>) tensor(1.6653, device='cuda:0', grad_fn=<NllLossBackward0>) tensor(0.9811, device='cuda:0', grad_fn=<NllLossBackward0>) 1930 0.0\n",
      "Epoch 59, Loss: 1182.4974365234375\n",
      "tensor(7.7069, device='cuda:0')\n",
      "tensor(15.3460, device='cuda:0', grad_fn=<MulBackward0>) tensor(1.6643, device='cuda:0', grad_fn=<NllLossBackward0>) tensor(0.9797, device='cuda:0', grad_fn=<NllLossBackward0>) 1930 0.0\n",
      "Epoch 60, Loss: 1181.7978515625\n",
      "tensor(7.5179, device='cuda:0')\n",
      "tensor(14.8519, device='cuda:0', grad_fn=<MulBackward0>) tensor(1.6594, device='cuda:0', grad_fn=<NllLossBackward0>) tensor(0.9760, device='cuda:0', grad_fn=<NllLossBackward0>) 1930 0.0\n",
      "Epoch 61, Loss: 1181.1435546875\n",
      "tensor(7.8120, device='cuda:0')\n",
      "tensor(14.3958, device='cuda:0', grad_fn=<MulBackward0>) tensor(1.6680, device='cuda:0', grad_fn=<NllLossBackward0>) tensor(0.9803, device='cuda:0', grad_fn=<NllLossBackward0>) 1930 0.0\n",
      "Epoch 62, Loss: 1180.5699462890625\n",
      "tensor(8.1849, device='cuda:0')\n",
      "tensor(13.9736, device='cuda:0', grad_fn=<MulBackward0>) tensor(1.6739, device='cuda:0', grad_fn=<NllLossBackward0>) tensor(0.9824, device='cuda:0', grad_fn=<NllLossBackward0>) 1920 0.0\n",
      "Epoch 63, Loss: 1174.0338134765625\n",
      "tensor(7.3141, device='cuda:0')\n",
      "tensor(13.5817, device='cuda:0', grad_fn=<MulBackward0>) tensor(1.6539, device='cuda:0', grad_fn=<NllLossBackward0>) tensor(0.9703, device='cuda:0', grad_fn=<NllLossBackward0>) 1930 0.0\n",
      "Epoch 64, Loss: 1179.4779052734375\n",
      "tensor(7.7426, device='cuda:0')\n",
      "tensor(13.2184, device='cuda:0', grad_fn=<MulBackward0>) tensor(1.6578, device='cuda:0', grad_fn=<NllLossBackward0>) tensor(0.9732, device='cuda:0', grad_fn=<NllLossBackward0>) 1930 0.0\n",
      "Epoch 65, Loss: 1179.0150146484375\n",
      "tensor(7.5840, device='cuda:0')\n",
      "tensor(12.8798, device='cuda:0', grad_fn=<MulBackward0>) tensor(1.6602, device='cuda:0', grad_fn=<NllLossBackward0>) tensor(0.9724, device='cuda:0', grad_fn=<NllLossBackward0>) 1930 0.0\n",
      "Epoch 66, Loss: 1178.5787353515625\n",
      "tensor(7.6124, device='cuda:0')\n",
      "tensor(12.5652, device='cuda:0', grad_fn=<MulBackward0>) tensor(1.6589, device='cuda:0', grad_fn=<NllLossBackward0>) tensor(0.9716, device='cuda:0', grad_fn=<NllLossBackward0>) 1930 0.0\n",
      "Epoch 67, Loss: 1178.1668701171875\n",
      "tensor(7.1649, device='cuda:0')\n",
      "tensor(12.2729, device='cuda:0', grad_fn=<MulBackward0>) tensor(1.6514, device='cuda:0', grad_fn=<NllLossBackward0>) tensor(0.9659, device='cuda:0', grad_fn=<NllLossBackward0>) 1930 0.0\n",
      "Epoch 68, Loss: 1177.7686767578125\n",
      "tensor(7.4947, device='cuda:0')\n",
      "tensor(12.0008, device='cuda:0', grad_fn=<MulBackward0>) tensor(1.6590, device='cuda:0', grad_fn=<NllLossBackward0>) tensor(0.9703, device='cuda:0', grad_fn=<NllLossBackward0>) 1930 0.0\n",
      "Epoch 69, Loss: 1177.432373046875\n",
      "tensor(7.2700, device='cuda:0')\n",
      "tensor(11.7475, device='cuda:0', grad_fn=<MulBackward0>) tensor(1.6507, device='cuda:0', grad_fn=<NllLossBackward0>) tensor(0.9654, device='cuda:0', grad_fn=<NllLossBackward0>) 1930 0.0\n",
      "Epoch 70, Loss: 1177.083984375\n",
      "tensor(7.3929, device='cuda:0')\n",
      "tensor(11.5113, device='cuda:0', grad_fn=<MulBackward0>) tensor(1.6530, device='cuda:0', grad_fn=<NllLossBackward0>) tensor(0.9669, device='cuda:0', grad_fn=<NllLossBackward0>) 1930 0.0\n",
      "Epoch 71, Loss: 1176.7822265625\n",
      "tensor(7.2521, device='cuda:0')\n",
      "tensor(11.2904, device='cuda:0', grad_fn=<MulBackward0>) tensor(1.6489, device='cuda:0', grad_fn=<NllLossBackward0>) tensor(0.9643, device='cuda:0', grad_fn=<NllLossBackward0>) 1930 0.0\n",
      "Epoch 72, Loss: 1176.4854736328125\n",
      "tensor(7.6828, device='cuda:0')\n",
      "tensor(11.0833, device='cuda:0', grad_fn=<MulBackward0>) tensor(1.6587, device='cuda:0', grad_fn=<NllLossBackward0>) tensor(0.9691, device='cuda:0', grad_fn=<NllLossBackward0>) 1930 0.0\n",
      "Epoch 73, Loss: 1176.2381591796875\n",
      "tensor(7.3298, device='cuda:0')\n",
      "tensor(10.8885, device='cuda:0', grad_fn=<MulBackward0>) tensor(1.6511, device='cuda:0', grad_fn=<NllLossBackward0>) tensor(0.9644, device='cuda:0', grad_fn=<NllLossBackward0>) 1930 0.0\n",
      "Epoch 74, Loss: 1175.96728515625\n",
      "tensor(7.2973, device='cuda:0')\n",
      "tensor(10.7047, device='cuda:0', grad_fn=<MulBackward0>) tensor(1.6496, device='cuda:0', grad_fn=<NllLossBackward0>) tensor(0.9634, device='cuda:0', grad_fn=<NllLossBackward0>) 1930 0.0\n",
      "Epoch 75, Loss: 1175.7247314453125\n",
      "tensor(7.4748, device='cuda:0')\n",
      "tensor(10.5307, device='cuda:0', grad_fn=<MulBackward0>) tensor(1.6513, device='cuda:0', grad_fn=<NllLossBackward0>) tensor(0.9643, device='cuda:0', grad_fn=<NllLossBackward0>) 1930 0.0\n",
      "Epoch 76, Loss: 1175.50244140625\n",
      "tensor(7.1859, device='cuda:0')\n",
      "tensor(10.3654, device='cuda:0', grad_fn=<MulBackward0>) tensor(1.6461, device='cuda:0', grad_fn=<NllLossBackward0>) tensor(0.9601, device='cuda:0', grad_fn=<NllLossBackward0>) 1930 0.0\n",
      "Epoch 77, Loss: 1175.274658203125\n",
      "tensor(6.9968, device='cuda:0')\n",
      "tensor(10.2074, device='cuda:0', grad_fn=<MulBackward0>) tensor(1.6410, device='cuda:0', grad_fn=<NllLossBackward0>) tensor(0.9574, device='cuda:0', grad_fn=<NllLossBackward0>) 1940 0.0\n",
      "Epoch 78, Loss: 1181.0576171875\n",
      "tensor(7.2700, device='cuda:0')\n",
      "tensor(10.0570, device='cuda:0', grad_fn=<MulBackward0>) tensor(1.6468, device='cuda:0', grad_fn=<NllLossBackward0>) tensor(0.9597, device='cuda:0', grad_fn=<NllLossBackward0>) 1930 0.0\n",
      "Epoch 79, Loss: 1174.8748779296875\n",
      "tensor(7.3120, device='cuda:0')\n",
      "tensor(9.9132, device='cuda:0', grad_fn=<MulBackward0>) tensor(1.6427, device='cuda:0', grad_fn=<NllLossBackward0>) tensor(0.9586, device='cuda:0', grad_fn=<NllLossBackward0>) 1930 0.0\n",
      "Epoch 80, Loss: 1174.6793212890625\n",
      "tensor(7.2637, device='cuda:0')\n",
      "tensor(9.7754, device='cuda:0', grad_fn=<MulBackward0>) tensor(1.6386, device='cuda:0', grad_fn=<NllLossBackward0>) tensor(0.9558, device='cuda:0', grad_fn=<NllLossBackward0>) 1930 0.0\n",
      "Epoch 81, Loss: 1174.490478515625\n",
      "tensor(7.2132, device='cuda:0')\n",
      "tensor(9.6435, device='cuda:0', grad_fn=<MulBackward0>) tensor(1.6391, device='cuda:0', grad_fn=<NllLossBackward0>) tensor(0.9556, device='cuda:0', grad_fn=<NllLossBackward0>) 1930 0.0\n",
      "Epoch 82, Loss: 1174.3197021484375\n",
      "tensor(7.4296, device='cuda:0')\n",
      "tensor(9.5170, device='cuda:0', grad_fn=<MulBackward0>) tensor(1.6477, device='cuda:0', grad_fn=<NllLossBackward0>) tensor(0.9595, device='cuda:0', grad_fn=<NllLossBackward0>) 1930 0.0\n",
      "Epoch 83, Loss: 1174.17431640625\n",
      "tensor(7.2479, device='cuda:0')\n",
      "tensor(9.3953, device='cuda:0', grad_fn=<MulBackward0>) tensor(1.6409, device='cuda:0', grad_fn=<NllLossBackward0>) tensor(0.9564, device='cuda:0', grad_fn=<NllLossBackward0>) 1930 0.0\n",
      "Epoch 84, Loss: 1174.0009765625\n",
      "tensor(7.1681, device='cuda:0')\n",
      "tensor(9.2779, device='cuda:0', grad_fn=<MulBackward0>) tensor(1.6401, device='cuda:0', grad_fn=<NllLossBackward0>) tensor(0.9543, device='cuda:0', grad_fn=<NllLossBackward0>) 1930 0.0\n",
      "Epoch 85, Loss: 1173.8453369140625\n",
      "tensor(7.2595, device='cuda:0')\n",
      "tensor(9.1647, device='cuda:0', grad_fn=<MulBackward0>) tensor(1.6445, device='cuda:0', grad_fn=<NllLossBackward0>) tensor(0.9564, device='cuda:0', grad_fn=<NllLossBackward0>) 1930 0.0\n",
      "Epoch 86, Loss: 1173.7080078125\n",
      "tensor(7.1366, device='cuda:0')\n",
      "tensor(9.0552, device='cuda:0', grad_fn=<MulBackward0>) tensor(1.6380, device='cuda:0', grad_fn=<NllLossBackward0>) tensor(0.9540, device='cuda:0', grad_fn=<NllLossBackward0>) 1930 0.0\n",
      "Epoch 87, Loss: 1173.5518798828125\n",
      "tensor(7.0977, device='cuda:0')\n",
      "tensor(8.9491, device='cuda:0', grad_fn=<MulBackward0>) tensor(1.6387, device='cuda:0', grad_fn=<NllLossBackward0>) tensor(0.9542, device='cuda:0', grad_fn=<NllLossBackward0>) 1930 0.0\n",
      "Epoch 88, Loss: 1173.4154052734375\n",
      "tensor(6.9874, device='cuda:0')\n",
      "tensor(8.8464, device='cuda:0', grad_fn=<MulBackward0>) tensor(1.6365, device='cuda:0', grad_fn=<NllLossBackward0>) tensor(0.9519, device='cuda:0', grad_fn=<NllLossBackward0>) 1940 0.0\n",
      "Epoch 89, Loss: 1179.27587890625\n",
      "tensor(6.8193, device='cuda:0')\n",
      "tensor(8.7466, device='cuda:0', grad_fn=<MulBackward0>) tensor(1.6336, device='cuda:0', grad_fn=<NllLossBackward0>) tensor(0.9493, device='cuda:0', grad_fn=<NllLossBackward0>) 1940 0.0\n",
      "Epoch 90, Loss: 1179.138916015625\n",
      "tensor(7.0137, device='cuda:0')\n",
      "tensor(8.6497, device='cuda:0', grad_fn=<MulBackward0>) tensor(1.6410, device='cuda:0', grad_fn=<NllLossBackward0>) tensor(0.9533, device='cuda:0', grad_fn=<NllLossBackward0>) 1930 0.0\n",
      "Epoch 91, Loss: 1173.02978515625\n",
      "tensor(6.8834, device='cuda:0')\n",
      "tensor(8.5555, device='cuda:0', grad_fn=<MulBackward0>) tensor(1.6346, device='cuda:0', grad_fn=<NllLossBackward0>) tensor(0.9496, device='cuda:0', grad_fn=<NllLossBackward0>) 1940 0.0\n",
      "Epoch 92, Loss: 1178.8927001953125\n",
      "tensor(6.9401, device='cuda:0')\n",
      "tensor(8.4639, device='cuda:0', grad_fn=<MulBackward0>) tensor(1.6377, device='cuda:0', grad_fn=<NllLossBackward0>) tensor(0.9512, device='cuda:0', grad_fn=<NllLossBackward0>) 1940 0.0\n",
      "Epoch 93, Loss: 1178.7806396484375\n",
      "tensor(6.7395, device='cuda:0')\n",
      "tensor(8.3748, device='cuda:0', grad_fn=<MulBackward0>) tensor(1.6304, device='cuda:0', grad_fn=<NllLossBackward0>) tensor(0.9463, device='cuda:0', grad_fn=<NllLossBackward0>) 1940 0.0\n",
      "Epoch 94, Loss: 1178.6474609375\n",
      "tensor(7.0851, device='cuda:0')\n",
      "tensor(8.2881, device='cuda:0', grad_fn=<MulBackward0>) tensor(1.6348, device='cuda:0', grad_fn=<NllLossBackward0>) tensor(0.9503, device='cuda:0', grad_fn=<NllLossBackward0>) 1930 0.0\n",
      "Epoch 95, Loss: 1172.5458984375\n",
      "tensor(7.0504, device='cuda:0')\n",
      "tensor(8.2037, device='cuda:0', grad_fn=<MulBackward0>) tensor(1.6368, device='cuda:0', grad_fn=<NllLossBackward0>) tensor(0.9497, device='cuda:0', grad_fn=<NllLossBackward0>) 1930 0.0\n",
      "Epoch 96, Loss: 1172.4395751953125\n",
      "tensor(7.0011, device='cuda:0')\n",
      "tensor(8.1214, device='cuda:0', grad_fn=<MulBackward0>) tensor(1.6312, device='cuda:0', grad_fn=<NllLossBackward0>) tensor(0.9468, device='cuda:0', grad_fn=<NllLossBackward0>) 1930 0.0\n",
      "Epoch 97, Loss: 1172.3199462890625\n",
      "tensor(7.1071, device='cuda:0')\n",
      "tensor(8.0411, device='cuda:0', grad_fn=<MulBackward0>) tensor(1.6323, device='cuda:0', grad_fn=<NllLossBackward0>) tensor(0.9477, device='cuda:0', grad_fn=<NllLossBackward0>) 1930 0.0\n",
      "Epoch 98, Loss: 1172.2181396484375\n",
      "tensor(6.8603, device='cuda:0')\n",
      "tensor(7.9628, device='cuda:0', grad_fn=<MulBackward0>) tensor(1.6308, device='cuda:0', grad_fn=<NllLossBackward0>) tensor(0.9455, device='cuda:0', grad_fn=<NllLossBackward0>) 1940 0.0\n",
      "Epoch 99, Loss: 1178.112060546875\n",
      "tensor(6.8655, device='cuda:0')\n",
      "tensor(7.8863, device='cuda:0', grad_fn=<MulBackward0>) tensor(1.6309, device='cuda:0', grad_fn=<NllLossBackward0>) tensor(0.9453, device='cuda:0', grad_fn=<NllLossBackward0>) 1940 0.0\n",
      "Epoch 100, Loss: 1178.0126953125\n",
      "tensor(7.0609, device='cuda:0')\n",
      "tensor(7.8116, device='cuda:0', grad_fn=<MulBackward0>) tensor(1.6367, device='cuda:0', grad_fn=<NllLossBackward0>) tensor(0.9496, device='cuda:0', grad_fn=<NllLossBackward0>) 1930 0.0\n",
      "Epoch 101, Loss: 1171.9295654296875\n",
      "tensor(6.6922, device='cuda:0')\n",
      "tensor(7.7386, device='cuda:0', grad_fn=<MulBackward0>) tensor(1.6265, device='cuda:0', grad_fn=<NllLossBackward0>) tensor(0.9435, device='cuda:0', grad_fn=<NllLossBackward0>) 1940 0.0\n",
      "Epoch 102, Loss: 1177.81103515625\n",
      "tensor(6.7206, device='cuda:0')\n",
      "tensor(7.6671, device='cuda:0', grad_fn=<MulBackward0>) tensor(1.6323, device='cuda:0', grad_fn=<NllLossBackward0>) tensor(0.9457, device='cuda:0', grad_fn=<NllLossBackward0>) 1940 0.0\n",
      "Epoch 103, Loss: 1177.7305908203125\n",
      "tensor(6.8151, device='cuda:0')\n",
      "tensor(7.5971, device='cuda:0', grad_fn=<MulBackward0>) tensor(1.6340, device='cuda:0', grad_fn=<NllLossBackward0>) tensor(0.9478, device='cuda:0', grad_fn=<NllLossBackward0>) 1940 0.0\n",
      "Epoch 104, Loss: 1177.6441650390625\n",
      "tensor(6.6880, device='cuda:0')\n",
      "tensor(7.5285, device='cuda:0', grad_fn=<MulBackward0>) tensor(1.6289, device='cuda:0', grad_fn=<NllLossBackward0>) tensor(0.9450, device='cuda:0', grad_fn=<NllLossBackward0>) 1940 0.0\n",
      "Epoch 105, Loss: 1177.5435791015625\n",
      "tensor(6.6586, device='cuda:0')\n",
      "tensor(7.4613, device='cuda:0', grad_fn=<MulBackward0>) tensor(1.6295, device='cuda:0', grad_fn=<NllLossBackward0>) tensor(0.9442, device='cuda:0', grad_fn=<NllLossBackward0>) 1940 0.0\n",
      "Epoch 106, Loss: 1177.4566650390625\n",
      "tensor(6.7195, device='cuda:0')\n",
      "tensor(7.3954, device='cuda:0', grad_fn=<MulBackward0>) tensor(1.6290, device='cuda:0', grad_fn=<NllLossBackward0>) tensor(0.9441, device='cuda:0', grad_fn=<NllLossBackward0>) 1940 0.0\n",
      "Epoch 107, Loss: 1177.3699951171875\n",
      "tensor(6.6933, device='cuda:0')\n",
      "tensor(7.3306, device='cuda:0', grad_fn=<MulBackward0>) tensor(1.6262, device='cuda:0', grad_fn=<NllLossBackward0>) tensor(0.9417, device='cuda:0', grad_fn=<NllLossBackward0>) 1940 0.0\n",
      "Epoch 108, Loss: 1177.27880859375\n",
      "tensor(6.6796, device='cuda:0')\n",
      "tensor(7.2670, device='cuda:0', grad_fn=<MulBackward0>) tensor(1.6251, device='cuda:0', grad_fn=<NllLossBackward0>) tensor(0.9414, device='cuda:0', grad_fn=<NllLossBackward0>) 1940 0.0\n",
      "Epoch 109, Loss: 1177.1937255859375\n",
      "tensor(6.8582, device='cuda:0')\n",
      "tensor(7.2045, device='cuda:0', grad_fn=<MulBackward0>) tensor(1.6283, device='cuda:0', grad_fn=<NllLossBackward0>) tensor(0.9436, device='cuda:0', grad_fn=<NllLossBackward0>) 1940 0.0\n",
      "Epoch 110, Loss: 1177.1202392578125\n",
      "tensor(6.7952, device='cuda:0')\n",
      "tensor(7.1432, device='cuda:0', grad_fn=<MulBackward0>) tensor(1.6255, device='cuda:0', grad_fn=<NllLossBackward0>) tensor(0.9417, device='cuda:0', grad_fn=<NllLossBackward0>) 1940 0.0\n",
      "Epoch 111, Loss: 1177.033935546875\n",
      "tensor(6.8960, device='cuda:0')\n",
      "tensor(7.0830, device='cuda:0', grad_fn=<MulBackward0>) tensor(1.6277, device='cuda:0', grad_fn=<NllLossBackward0>) tensor(0.9416, device='cuda:0', grad_fn=<NllLossBackward0>) 1940 0.0\n",
      "Epoch 112, Loss: 1176.959716796875\n",
      "tensor(6.9674, device='cuda:0')\n",
      "tensor(7.0239, device='cuda:0', grad_fn=<MulBackward0>) tensor(1.6266, device='cuda:0', grad_fn=<NllLossBackward0>) tensor(0.9421, device='cuda:0', grad_fn=<NllLossBackward0>) 1940 0.0\n",
      "Epoch 113, Loss: 1176.881103515625\n",
      "tensor(6.8235, device='cuda:0')\n",
      "tensor(6.9658, device='cuda:0', grad_fn=<MulBackward0>) tensor(1.6216, device='cuda:0', grad_fn=<NllLossBackward0>) tensor(0.9389, device='cuda:0', grad_fn=<NllLossBackward0>) 1940 0.0\n",
      "Epoch 114, Loss: 1176.7938232421875\n",
      "tensor(6.9170, device='cuda:0')\n",
      "tensor(6.9087, device='cuda:0', grad_fn=<MulBackward0>) tensor(1.6292, device='cuda:0', grad_fn=<NllLossBackward0>) tensor(0.9425, device='cuda:0', grad_fn=<NllLossBackward0>) 1940 0.0\n",
      "Epoch 115, Loss: 1176.7364501953125\n",
      "tensor(6.7878, device='cuda:0')\n",
      "tensor(6.8527, device='cuda:0', grad_fn=<MulBackward0>) tensor(1.6259, device='cuda:0', grad_fn=<NllLossBackward0>) tensor(0.9410, device='cuda:0', grad_fn=<NllLossBackward0>) 1940 0.0\n",
      "Epoch 116, Loss: 1176.656494140625\n",
      "tensor(6.6397, device='cuda:0')\n",
      "tensor(6.7975, device='cuda:0', grad_fn=<MulBackward0>) tensor(1.6187, device='cuda:0', grad_fn=<NllLossBackward0>) tensor(0.9370, device='cuda:0', grad_fn=<NllLossBackward0>) 1940 0.0\n",
      "Epoch 117, Loss: 1176.5682373046875\n",
      "tensor(6.6933, device='cuda:0')\n",
      "tensor(6.7433, device='cuda:0', grad_fn=<MulBackward0>) tensor(1.6249, device='cuda:0', grad_fn=<NllLossBackward0>) tensor(0.9398, device='cuda:0', grad_fn=<NllLossBackward0>) 1940 0.0\n",
      "Epoch 118, Loss: 1176.511474609375\n",
      "tensor(6.8309, device='cuda:0')\n",
      "tensor(6.6899, device='cuda:0', grad_fn=<MulBackward0>) tensor(1.6306, device='cuda:0', grad_fn=<NllLossBackward0>) tensor(0.9428, device='cuda:0', grad_fn=<NllLossBackward0>) 1940 0.0\n",
      "Epoch 119, Loss: 1176.4549560546875\n",
      "tensor(6.5336, device='cuda:0')\n",
      "tensor(6.6373, device='cuda:0', grad_fn=<MulBackward0>) tensor(1.6195, device='cuda:0', grad_fn=<NllLossBackward0>) tensor(0.9370, device='cuda:0', grad_fn=<NllLossBackward0>) 1940 0.0\n",
      "Epoch 120, Loss: 1176.3614501953125\n",
      "tensor(6.6282, device='cuda:0')\n",
      "tensor(6.5856, device='cuda:0', grad_fn=<MulBackward0>) tensor(1.6218, device='cuda:0', grad_fn=<NllLossBackward0>) tensor(0.9390, device='cuda:0', grad_fn=<NllLossBackward0>) 1940 0.0\n",
      "Epoch 121, Loss: 1176.300048828125\n",
      "tensor(6.6292, device='cuda:0')\n",
      "tensor(6.5346, device='cuda:0', grad_fn=<MulBackward0>) tensor(1.6208, device='cuda:0', grad_fn=<NllLossBackward0>) tensor(0.9383, device='cuda:0', grad_fn=<NllLossBackward0>) 1940 0.0\n",
      "Epoch 122, Loss: 1176.231201171875\n",
      "tensor(6.6576, device='cuda:0')\n",
      "tensor(6.4844, device='cuda:0', grad_fn=<MulBackward0>) tensor(1.6243, device='cuda:0', grad_fn=<NllLossBackward0>) tensor(0.9387, device='cuda:0', grad_fn=<NllLossBackward0>) 1940 0.0\n",
      "Epoch 123, Loss: 1176.173095703125\n",
      "tensor(6.5189, device='cuda:0')\n",
      "tensor(6.4349, device='cuda:0', grad_fn=<MulBackward0>) tensor(1.6177, device='cuda:0', grad_fn=<NllLossBackward0>) tensor(0.9352, device='cuda:0', grad_fn=<NllLossBackward0>) 1940 0.0\n",
      "Epoch 124, Loss: 1176.09375\n",
      "tensor(6.6649, device='cuda:0')\n",
      "tensor(6.3861, device='cuda:0', grad_fn=<MulBackward0>) tensor(1.6216, device='cuda:0', grad_fn=<NllLossBackward0>) tensor(0.9377, device='cuda:0', grad_fn=<NllLossBackward0>) 1940 0.0\n",
      "Epoch 125, Loss: 1176.039306640625\n",
      "tensor(6.6397, device='cuda:0')\n",
      "tensor(6.3379, device='cuda:0', grad_fn=<MulBackward0>) tensor(1.6175, device='cuda:0', grad_fn=<NllLossBackward0>) tensor(0.9359, device='cuda:0', grad_fn=<NllLossBackward0>) 1940 0.0\n",
      "Epoch 126, Loss: 1175.9677734375\n",
      "tensor(6.7595, device='cuda:0')\n",
      "tensor(6.2905, device='cuda:0', grad_fn=<MulBackward0>) tensor(1.6242, device='cuda:0', grad_fn=<NllLossBackward0>) tensor(0.9380, device='cuda:0', grad_fn=<NllLossBackward0>) 1940 0.0\n",
      "Epoch 127, Loss: 1175.920166015625\n",
      "tensor(6.7426, device='cuda:0')\n",
      "tensor(6.2437, device='cuda:0', grad_fn=<MulBackward0>) tensor(1.6240, device='cuda:0', grad_fn=<NllLossBackward0>) tensor(0.9387, device='cuda:0', grad_fn=<NllLossBackward0>) 1940 0.0\n",
      "Epoch 128, Loss: 1175.8594970703125\n",
      "tensor(6.7731, device='cuda:0')\n",
      "tensor(6.1976, device='cuda:0', grad_fn=<MulBackward0>) tensor(1.6246, device='cuda:0', grad_fn=<NllLossBackward0>) tensor(0.9385, device='cuda:0', grad_fn=<NllLossBackward0>) 1940 0.0\n",
      "Epoch 129, Loss: 1175.8006591796875\n",
      "tensor(6.7553, device='cuda:0')\n",
      "tensor(6.1520, device='cuda:0', grad_fn=<MulBackward0>) tensor(1.6220, device='cuda:0', grad_fn=<NllLossBackward0>) tensor(0.9374, device='cuda:0', grad_fn=<NllLossBackward0>) 1940 0.0\n",
      "Epoch 130, Loss: 1175.735595703125\n",
      "tensor(6.7321, device='cuda:0')\n",
      "tensor(6.1072, device='cuda:0', grad_fn=<MulBackward0>) tensor(1.6204, device='cuda:0', grad_fn=<NllLossBackward0>) tensor(0.9362, device='cuda:0', grad_fn=<NllLossBackward0>) 1940 0.0\n",
      "Epoch 131, Loss: 1175.6734619140625\n",
      "tensor(6.5987, device='cuda:0')\n",
      "tensor(6.0629, device='cuda:0', grad_fn=<MulBackward0>) tensor(1.6192, device='cuda:0', grad_fn=<NllLossBackward0>) tensor(0.9356, device='cuda:0', grad_fn=<NllLossBackward0>) 1940 0.0\n",
      "Epoch 132, Loss: 1175.61328125\n",
      "tensor(6.6166, device='cuda:0')\n",
      "tensor(6.0192, device='cuda:0', grad_fn=<MulBackward0>) tensor(1.6194, device='cuda:0', grad_fn=<NllLossBackward0>) tensor(0.9369, device='cuda:0', grad_fn=<NllLossBackward0>) 1940 0.0\n",
      "Epoch 133, Loss: 1175.5576171875\n",
      "tensor(6.4580, device='cuda:0')\n",
      "tensor(5.9762, device='cuda:0', grad_fn=<MulBackward0>) tensor(1.6127, device='cuda:0', grad_fn=<NllLossBackward0>) tensor(0.9329, device='cuda:0', grad_fn=<NllLossBackward0>) 1940 0.0\n",
      "Epoch 134, Loss: 1175.486083984375\n",
      "tensor(6.6008, device='cuda:0')\n",
      "tensor(5.9336, device='cuda:0', grad_fn=<MulBackward0>) tensor(1.6174, device='cuda:0', grad_fn=<NllLossBackward0>) tensor(0.9349, device='cuda:0', grad_fn=<NllLossBackward0>) 1940 0.0\n",
      "Epoch 135, Loss: 1175.4412841796875\n",
      "tensor(6.5546, device='cuda:0')\n",
      "tensor(5.8917, device='cuda:0', grad_fn=<MulBackward0>) tensor(1.6172, device='cuda:0', grad_fn=<NllLossBackward0>) tensor(0.9348, device='cuda:0', grad_fn=<NllLossBackward0>) 1940 0.0\n",
      "Epoch 136, Loss: 1175.38623046875\n",
      "tensor(6.6261, device='cuda:0')\n",
      "tensor(5.8502, device='cuda:0', grad_fn=<MulBackward0>) tensor(1.6164, device='cuda:0', grad_fn=<NllLossBackward0>) tensor(0.9354, device='cuda:0', grad_fn=<NllLossBackward0>) 1940 0.0\n",
      "Epoch 137, Loss: 1175.3311767578125\n",
      "tensor(6.5158, device='cuda:0')\n",
      "tensor(5.8094, device='cuda:0', grad_fn=<MulBackward0>) tensor(1.6133, device='cuda:0', grad_fn=<NllLossBackward0>) tensor(0.9328, device='cuda:0', grad_fn=<NllLossBackward0>) 1940 0.0\n",
      "Epoch 138, Loss: 1175.2703857421875\n",
      "tensor(6.5924, device='cuda:0')\n",
      "tensor(5.7690, device='cuda:0', grad_fn=<MulBackward0>) tensor(1.6178, device='cuda:0', grad_fn=<NllLossBackward0>) tensor(0.9342, device='cuda:0', grad_fn=<NllLossBackward0>) 1940 0.0\n",
      "Epoch 139, Loss: 1175.2274169921875\n",
      "tensor(6.5599, device='cuda:0')\n",
      "tensor(5.7292, device='cuda:0', grad_fn=<MulBackward0>) tensor(1.6104, device='cuda:0', grad_fn=<NllLossBackward0>) tensor(0.9316, device='cuda:0', grad_fn=<NllLossBackward0>) 1940 0.0\n",
      "Epoch 140, Loss: 1175.1597900390625\n",
      "tensor(6.6471, device='cuda:0')\n",
      "tensor(5.6898, device='cuda:0', grad_fn=<MulBackward0>) tensor(1.6149, device='cuda:0', grad_fn=<NllLossBackward0>) tensor(0.9334, device='cuda:0', grad_fn=<NllLossBackward0>) 1940 0.0\n",
      "Epoch 141, Loss: 1175.118408203125\n",
      "tensor(6.6807, device='cuda:0')\n",
      "tensor(5.6509, device='cuda:0', grad_fn=<MulBackward0>) tensor(1.6158, device='cuda:0', grad_fn=<NllLossBackward0>) tensor(0.9337, device='cuda:0', grad_fn=<NllLossBackward0>) 1940 0.0\n",
      "Epoch 142, Loss: 1175.0699462890625\n",
      "tensor(6.6523, device='cuda:0')\n",
      "tensor(5.6125, device='cuda:0', grad_fn=<MulBackward0>) tensor(1.6164, device='cuda:0', grad_fn=<NllLossBackward0>) tensor(0.9332, device='cuda:0', grad_fn=<NllLossBackward0>) 1940 0.0\n",
      "Epoch 143, Loss: 1175.020751953125\n",
      "tensor(6.7185, device='cuda:0')\n",
      "tensor(5.5746, device='cuda:0', grad_fn=<MulBackward0>) tensor(1.6139, device='cuda:0', grad_fn=<NllLossBackward0>) tensor(0.9335, device='cuda:0', grad_fn=<NllLossBackward0>) 1940 0.0\n",
      "Epoch 144, Loss: 1174.9669189453125\n",
      "tensor(6.6712, device='cuda:0')\n",
      "tensor(5.5372, device='cuda:0', grad_fn=<MulBackward0>) tensor(1.6178, device='cuda:0', grad_fn=<NllLossBackward0>) tensor(0.9346, device='cuda:0', grad_fn=<NllLossBackward0>) 1940 0.0\n",
      "Epoch 145, Loss: 1174.92626953125\n",
      "tensor(6.6807, device='cuda:0')\n",
      "tensor(5.5001, device='cuda:0', grad_fn=<MulBackward0>) tensor(1.6141, device='cuda:0', grad_fn=<NllLossBackward0>) tensor(0.9333, device='cuda:0', grad_fn=<NllLossBackward0>) 1940 0.0\n",
      "Epoch 146, Loss: 1174.8702392578125\n",
      "tensor(6.7395, device='cuda:0')\n",
      "tensor(5.4634, device='cuda:0', grad_fn=<MulBackward0>) tensor(1.6170, device='cuda:0', grad_fn=<NllLossBackward0>) tensor(0.9351, device='cuda:0', grad_fn=<NllLossBackward0>) 1940 0.0\n",
      "Epoch 147, Loss: 1174.829345703125\n",
      "tensor(6.5966, device='cuda:0')\n",
      "tensor(5.4271, device='cuda:0', grad_fn=<MulBackward0>) tensor(1.6157, device='cuda:0', grad_fn=<NllLossBackward0>) tensor(0.9336, device='cuda:0', grad_fn=<NllLossBackward0>) 1940 0.0\n",
      "Epoch 148, Loss: 1174.778564453125\n",
      "tensor(6.4601, device='cuda:0')\n",
      "tensor(5.3911, device='cuda:0', grad_fn=<MulBackward0>) tensor(1.6110, device='cuda:0', grad_fn=<NllLossBackward0>) tensor(0.9312, device='cuda:0', grad_fn=<NllLossBackward0>) 1940 0.0\n",
      "Epoch 149, Loss: 1174.72119140625\n",
      "tensor(6.5357, device='cuda:0')\n",
      "tensor(5.3556, device='cuda:0', grad_fn=<MulBackward0>) tensor(1.6147, device='cuda:0', grad_fn=<NllLossBackward0>) tensor(0.9330, device='cuda:0', grad_fn=<NllLossBackward0>) 1940 0.0\n",
      "Epoch 150, Loss: 1174.6832275390625\n",
      "tensor(6.5693, device='cuda:0')\n",
      "tensor(5.3204, device='cuda:0', grad_fn=<MulBackward0>) tensor(1.6117, device='cuda:0', grad_fn=<NllLossBackward0>) tensor(0.9321, device='cuda:0', grad_fn=<NllLossBackward0>) 1940 0.0\n",
      "Epoch 151, Loss: 1174.6312255859375\n",
      "tensor(6.5651, device='cuda:0')\n",
      "tensor(5.2857, device='cuda:0', grad_fn=<MulBackward0>) tensor(1.6125, device='cuda:0', grad_fn=<NllLossBackward0>) tensor(0.9318, device='cuda:0', grad_fn=<NllLossBackward0>) 1940 0.0\n",
      "Epoch 152, Loss: 1174.5872802734375\n",
      "tensor(6.6145, device='cuda:0')\n",
      "tensor(5.2513, device='cuda:0', grad_fn=<MulBackward0>) tensor(1.6087, device='cuda:0', grad_fn=<NllLossBackward0>) tensor(0.9314, device='cuda:0', grad_fn=<NllLossBackward0>) 1940 0.0\n",
      "Epoch 153, Loss: 1174.53515625\n",
      "tensor(6.6565, device='cuda:0')\n",
      "tensor(5.2173, device='cuda:0', grad_fn=<MulBackward0>) tensor(1.6097, device='cuda:0', grad_fn=<NllLossBackward0>) tensor(0.9315, device='cuda:0', grad_fn=<NllLossBackward0>) 1940 0.0\n",
      "Epoch 154, Loss: 1174.4930419921875\n",
      "tensor(6.6103, device='cuda:0')\n",
      "tensor(5.1837, device='cuda:0', grad_fn=<MulBackward0>) tensor(1.6146, device='cuda:0', grad_fn=<NllLossBackward0>) tensor(0.9321, device='cuda:0', grad_fn=<NllLossBackward0>) 1940 0.0\n",
      "Epoch 155, Loss: 1174.4591064453125\n",
      "tensor(6.6324, device='cuda:0')\n",
      "tensor(5.1506, device='cuda:0', grad_fn=<MulBackward0>) tensor(1.6081, device='cuda:0', grad_fn=<NllLossBackward0>) tensor(0.9311, device='cuda:0', grad_fn=<NllLossBackward0>) 1940 0.0\n",
      "Epoch 156, Loss: 1174.4029541015625\n",
      "tensor(6.4990, device='cuda:0')\n",
      "tensor(5.1177, device='cuda:0', grad_fn=<MulBackward0>) tensor(1.6113, device='cuda:0', grad_fn=<NllLossBackward0>) tensor(0.9309, device='cuda:0', grad_fn=<NllLossBackward0>) 1940 0.0\n",
      "Epoch 157, Loss: 1174.3660888671875\n",
      "tensor(6.5819, device='cuda:0')\n",
      "tensor(5.0852, device='cuda:0', grad_fn=<MulBackward0>) tensor(1.6089, device='cuda:0', grad_fn=<NllLossBackward0>) tensor(0.9311, device='cuda:0', grad_fn=<NllLossBackward0>) 1940 0.0\n",
      "Epoch 158, Loss: 1174.319580078125\n",
      "tensor(6.5641, device='cuda:0')\n",
      "tensor(5.0531, device='cuda:0', grad_fn=<MulBackward0>) tensor(1.6111, device='cuda:0', grad_fn=<NllLossBackward0>) tensor(0.9315, device='cuda:0', grad_fn=<NllLossBackward0>) 1940 0.0\n",
      "Epoch 159, Loss: 1174.2821044921875\n",
      "tensor(6.5588, device='cuda:0')\n",
      "tensor(5.0214, device='cuda:0', grad_fn=<MulBackward0>) tensor(1.6077, device='cuda:0', grad_fn=<NllLossBackward0>) tensor(0.9313, device='cuda:0', grad_fn=<NllLossBackward0>) 1940 0.0\n",
      "Epoch 160, Loss: 1174.2342529296875\n",
      "tensor(6.5336, device='cuda:0')\n",
      "tensor(4.9899, device='cuda:0', grad_fn=<MulBackward0>) tensor(1.6078, device='cuda:0', grad_fn=<NllLossBackward0>) tensor(0.9309, device='cuda:0', grad_fn=<NllLossBackward0>) 1940 0.0\n",
      "Epoch 161, Loss: 1174.193359375\n",
      "tensor(6.5200, device='cuda:0')\n",
      "tensor(4.9589, device='cuda:0', grad_fn=<MulBackward0>) tensor(1.6091, device='cuda:0', grad_fn=<NllLossBackward0>) tensor(0.9303, device='cuda:0', grad_fn=<NllLossBackward0>) 1940 0.0\n",
      "Epoch 162, Loss: 1174.1551513671875\n",
      "tensor(6.5777, device='cuda:0')\n",
      "tensor(4.9282, device='cuda:0', grad_fn=<MulBackward0>) tensor(1.6122, device='cuda:0', grad_fn=<NllLossBackward0>) tensor(0.9316, device='cuda:0', grad_fn=<NllLossBackward0>) 1940 0.0\n",
      "Epoch 163, Loss: 1174.121826171875\n",
      "tensor(6.5966, device='cuda:0')\n",
      "tensor(4.8978, device='cuda:0', grad_fn=<MulBackward0>) tensor(1.6084, device='cuda:0', grad_fn=<NllLossBackward0>) tensor(0.9305, device='cuda:0', grad_fn=<NllLossBackward0>) 1940 0.0\n",
      "Epoch 164, Loss: 1174.0743408203125\n",
      "tensor(6.5767, device='cuda:0')\n",
      "tensor(4.8677, device='cuda:0', grad_fn=<MulBackward0>) tensor(1.6051, device='cuda:0', grad_fn=<NllLossBackward0>) tensor(0.9299, device='cuda:0', grad_fn=<NllLossBackward0>) 1940 0.0\n",
      "Epoch 165, Loss: 1174.028564453125\n",
      "tensor(6.5956, device='cuda:0')\n",
      "tensor(4.8380, device='cuda:0', grad_fn=<MulBackward0>) tensor(1.6102, device='cuda:0', grad_fn=<NllLossBackward0>) tensor(0.9304, device='cuda:0', grad_fn=<NllLossBackward0>) 1940 0.0\n",
      "Epoch 166, Loss: 1174.0\n",
      "tensor(6.6218, device='cuda:0')\n",
      "tensor(4.8085, device='cuda:0', grad_fn=<MulBackward0>) tensor(1.6104, device='cuda:0', grad_fn=<NllLossBackward0>) tensor(0.9309, device='cuda:0', grad_fn=<NllLossBackward0>) 1940 0.0\n",
      "Epoch 167, Loss: 1173.9625244140625\n",
      "tensor(6.5357, device='cuda:0')\n",
      "tensor(4.7794, device='cuda:0', grad_fn=<MulBackward0>) tensor(1.6037, device='cuda:0', grad_fn=<NllLossBackward0>) tensor(0.9290, device='cuda:0', grad_fn=<NllLossBackward0>) 1940 0.0\n",
      "Epoch 168, Loss: 1173.91064453125\n",
      "tensor(6.6071, device='cuda:0')\n",
      "tensor(4.7506, device='cuda:0', grad_fn=<MulBackward0>) tensor(1.6047, device='cuda:0', grad_fn=<NllLossBackward0>) tensor(0.9297, device='cuda:0', grad_fn=<NllLossBackward0>) 1940 0.0\n",
      "Epoch 169, Loss: 1173.8753662109375\n",
      "tensor(6.5945, device='cuda:0')\n",
      "tensor(4.7220, device='cuda:0', grad_fn=<MulBackward0>) tensor(1.6100, device='cuda:0', grad_fn=<NllLossBackward0>) tensor(0.9303, device='cuda:0', grad_fn=<NllLossBackward0>) 1940 0.0\n",
      "Epoch 170, Loss: 1173.8487548828125\n",
      "tensor(6.5630, device='cuda:0')\n",
      "tensor(4.6938, device='cuda:0', grad_fn=<MulBackward0>) tensor(1.6039, device='cuda:0', grad_fn=<NllLossBackward0>) tensor(0.9290, device='cuda:0', grad_fn=<NllLossBackward0>) 1940 0.0\n",
      "Epoch 171, Loss: 1173.7996826171875\n",
      "tensor(6.5641, device='cuda:0')\n",
      "tensor(4.6658, device='cuda:0', grad_fn=<MulBackward0>) tensor(1.6079, device='cuda:0', grad_fn=<NllLossBackward0>) tensor(0.9300, device='cuda:0', grad_fn=<NllLossBackward0>) 1940 0.0\n",
      "Epoch 172, Loss: 1173.7716064453125\n",
      "tensor(6.4244, device='cuda:0')\n",
      "tensor(4.6381, device='cuda:0', grad_fn=<MulBackward0>) tensor(1.6027, device='cuda:0', grad_fn=<NllLossBackward0>) tensor(0.9284, device='cuda:0', grad_fn=<NllLossBackward0>) 1940 0.0\n",
      "Epoch 173, Loss: 1173.7244873046875\n",
      "tensor(6.4790, device='cuda:0')\n",
      "tensor(4.6107, device='cuda:0', grad_fn=<MulBackward0>) tensor(1.6081, device='cuda:0', grad_fn=<NllLossBackward0>) tensor(0.9296, device='cuda:0', grad_fn=<NllLossBackward0>) 1940 0.0\n",
      "Epoch 174, Loss: 1173.7000732421875\n",
      "tensor(6.4412, device='cuda:0')\n",
      "tensor(4.5836, device='cuda:0', grad_fn=<MulBackward0>) tensor(1.6021, device='cuda:0', grad_fn=<NllLossBackward0>) tensor(0.9282, device='cuda:0', grad_fn=<NllLossBackward0>) 1940 0.0\n",
      "Epoch 175, Loss: 1173.6524658203125\n",
      "tensor(6.6292, device='cuda:0')\n",
      "tensor(4.5567, device='cuda:0', grad_fn=<MulBackward0>) tensor(1.6071, device='cuda:0', grad_fn=<NllLossBackward0>) tensor(0.9303, device='cuda:0', grad_fn=<NllLossBackward0>) 1940 0.0\n",
      "Epoch 176, Loss: 1173.6282958984375\n",
      "tensor(6.4475, device='cuda:0')\n",
      "tensor(4.5300, device='cuda:0', grad_fn=<MulBackward0>) tensor(1.6005, device='cuda:0', grad_fn=<NllLossBackward0>) tensor(0.9281, device='cuda:0', grad_fn=<NllLossBackward0>) 1940 0.0\n",
      "Epoch 177, Loss: 1173.57958984375\n",
      "tensor(6.5767, device='cuda:0')\n",
      "tensor(4.5035, device='cuda:0', grad_fn=<MulBackward0>) tensor(1.6043, device='cuda:0', grad_fn=<NllLossBackward0>) tensor(0.9292, device='cuda:0', grad_fn=<NllLossBackward0>) 1940 0.0\n",
      "Epoch 178, Loss: 1173.5531005859375\n",
      "tensor(6.5830, device='cuda:0')\n",
      "tensor(4.4773, device='cuda:0', grad_fn=<MulBackward0>) tensor(1.6012, device='cuda:0', grad_fn=<NllLossBackward0>) tensor(0.9290, device='cuda:0', grad_fn=<NllLossBackward0>) 1940 0.0\n",
      "Epoch 179, Loss: 1173.5130615234375\n",
      "tensor(6.5819, device='cuda:0')\n",
      "tensor(4.4513, device='cuda:0', grad_fn=<MulBackward0>) tensor(1.6059, device='cuda:0', grad_fn=<NllLossBackward0>) tensor(0.9296, device='cuda:0', grad_fn=<NllLossBackward0>) 1940 0.0\n",
      "Epoch 180, Loss: 1173.4886474609375\n",
      "tensor(6.5788, device='cuda:0')\n",
      "tensor(4.4256, device='cuda:0', grad_fn=<MulBackward0>) tensor(1.6031, device='cuda:0', grad_fn=<NllLossBackward0>) tensor(0.9286, device='cuda:0', grad_fn=<NllLossBackward0>) 1940 0.0\n",
      "Epoch 181, Loss: 1173.44921875\n",
      "tensor(6.6113, device='cuda:0')\n",
      "tensor(4.4001, device='cuda:0', grad_fn=<MulBackward0>) tensor(1.6009, device='cuda:0', grad_fn=<NllLossBackward0>) tensor(0.9278, device='cuda:0', grad_fn=<NllLossBackward0>) 1940 0.0\n",
      "Epoch 182, Loss: 1173.4112548828125\n",
      "tensor(6.5683, device='cuda:0')\n",
      "tensor(4.3748, device='cuda:0', grad_fn=<MulBackward0>) tensor(1.6015, device='cuda:0', grad_fn=<NllLossBackward0>) tensor(0.9284, device='cuda:0', grad_fn=<NllLossBackward0>) 1940 0.0\n",
      "Epoch 183, Loss: 1173.380126953125\n",
      "tensor(6.6355, device='cuda:0')\n",
      "tensor(4.3498, device='cuda:0', grad_fn=<MulBackward0>) tensor(1.6091, device='cuda:0', grad_fn=<NllLossBackward0>) tensor(0.9299, device='cuda:0', grad_fn=<NllLossBackward0>) 1940 0.0\n",
      "Epoch 184, Loss: 1173.363037109375\n",
      "tensor(6.5021, device='cuda:0')\n",
      "tensor(4.3250, device='cuda:0', grad_fn=<MulBackward0>) tensor(1.6031, device='cuda:0', grad_fn=<NllLossBackward0>) tensor(0.9281, device='cuda:0', grad_fn=<NllLossBackward0>) 1940 0.0\n",
      "Epoch 185, Loss: 1173.318115234375\n",
      "tensor(6.5021, device='cuda:0')\n",
      "tensor(4.3004, device='cuda:0', grad_fn=<MulBackward0>) tensor(1.6027, device='cuda:0', grad_fn=<NllLossBackward0>) tensor(0.9282, device='cuda:0', grad_fn=<NllLossBackward0>) 1940 0.0\n",
      "Epoch 186, Loss: 1173.2852783203125\n",
      "tensor(6.4916, device='cuda:0')\n",
      "tensor(4.2761, device='cuda:0', grad_fn=<MulBackward0>) tensor(1.6018, device='cuda:0', grad_fn=<NllLossBackward0>) tensor(0.9278, device='cuda:0', grad_fn=<NllLossBackward0>) 1940 0.0\n",
      "Epoch 187, Loss: 1173.251708984375\n",
      "tensor(6.5893, device='cuda:0')\n",
      "tensor(4.2520, device='cuda:0', grad_fn=<MulBackward0>) tensor(1.6047, device='cuda:0', grad_fn=<NllLossBackward0>) tensor(0.9295, device='cuda:0', grad_fn=<NllLossBackward0>) 1940 0.0\n",
      "Epoch 188, Loss: 1173.22705078125\n",
      "tensor(6.5273, device='cuda:0')\n",
      "tensor(4.2280, device='cuda:0', grad_fn=<MulBackward0>) tensor(1.6063, device='cuda:0', grad_fn=<NllLossBackward0>) tensor(0.9292, device='cuda:0', grad_fn=<NllLossBackward0>) 1940 0.0\n",
      "Epoch 189, Loss: 1173.1988525390625\n",
      "tensor(6.4821, device='cuda:0')\n",
      "tensor(4.2043, device='cuda:0', grad_fn=<MulBackward0>) tensor(1.6003, device='cuda:0', grad_fn=<NllLossBackward0>) tensor(0.9280, device='cuda:0', grad_fn=<NllLossBackward0>) 1940 0.0\n",
      "Epoch 190, Loss: 1173.15576171875\n",
      "tensor(6.4811, device='cuda:0')\n",
      "tensor(4.1808, device='cuda:0', grad_fn=<MulBackward0>) tensor(1.6001, device='cuda:0', grad_fn=<NllLossBackward0>) tensor(0.9280, device='cuda:0', grad_fn=<NllLossBackward0>) 1940 0.0\n",
      "Epoch 191, Loss: 1173.1248779296875\n",
      "tensor(6.4926, device='cuda:0')\n",
      "tensor(4.1575, device='cuda:0', grad_fn=<MulBackward0>) tensor(1.6026, device='cuda:0', grad_fn=<NllLossBackward0>) tensor(0.9283, device='cuda:0', grad_fn=<NllLossBackward0>) 1940 0.0\n",
      "Epoch 192, Loss: 1173.099365234375\n",
      "tensor(6.5693, device='cuda:0')\n",
      "tensor(4.1344, device='cuda:0', grad_fn=<MulBackward0>) tensor(1.6016, device='cuda:0', grad_fn=<NllLossBackward0>) tensor(0.9289, device='cuda:0', grad_fn=<NllLossBackward0>) 1940 0.0\n",
      "Epoch 193, Loss: 1173.06787109375\n",
      "tensor(6.4937, device='cuda:0')\n",
      "tensor(4.1115, device='cuda:0', grad_fn=<MulBackward0>) tensor(1.5995, device='cuda:0', grad_fn=<NllLossBackward0>) tensor(0.9277, device='cuda:0', grad_fn=<NllLossBackward0>) 1940 0.0\n",
      "Epoch 194, Loss: 1173.0333251953125\n",
      "tensor(6.5315, device='cuda:0')\n",
      "tensor(4.0888, device='cuda:0', grad_fn=<MulBackward0>) tensor(1.5990, device='cuda:0', grad_fn=<NllLossBackward0>) tensor(0.9278, device='cuda:0', grad_fn=<NllLossBackward0>) 1940 0.0\n",
      "Epoch 195, Loss: 1173.0030517578125\n",
      "tensor(6.5714, device='cuda:0')\n",
      "tensor(4.0663, device='cuda:0', grad_fn=<MulBackward0>) tensor(1.5981, device='cuda:0', grad_fn=<NllLossBackward0>) tensor(0.9277, device='cuda:0', grad_fn=<NllLossBackward0>) 1940 0.0\n",
      "Epoch 196, Loss: 1172.971923828125\n",
      "tensor(6.5431, device='cuda:0')\n",
      "tensor(4.0441, device='cuda:0', grad_fn=<MulBackward0>) tensor(1.6000, device='cuda:0', grad_fn=<NllLossBackward0>) tensor(0.9273, device='cuda:0', grad_fn=<NllLossBackward0>) 1940 0.0\n",
      "Epoch 197, Loss: 1172.9464111328125\n",
      "tensor(6.6124, device='cuda:0')\n",
      "tensor(4.0220, device='cuda:0', grad_fn=<MulBackward0>) tensor(1.5993, device='cuda:0', grad_fn=<NllLossBackward0>) tensor(0.9276, device='cuda:0', grad_fn=<NllLossBackward0>) 1940 0.0\n",
      "Epoch 198, Loss: 1172.91650390625\n",
      "tensor(6.6460, device='cuda:0')\n",
      "tensor(4.0001, device='cuda:0', grad_fn=<MulBackward0>) tensor(1.6063, device='cuda:0', grad_fn=<NllLossBackward0>) tensor(0.9293, device='cuda:0', grad_fn=<NllLossBackward0>) 1940 0.0\n",
      "Epoch 199, Loss: 1172.902587890625\n",
      "tensor(6.5872, device='cuda:0')\n",
      "tensor(3.9784, device='cuda:0', grad_fn=<MulBackward0>) tensor(1.6017, device='cuda:0', grad_fn=<NllLossBackward0>) tensor(0.9281, device='cuda:0', grad_fn=<NllLossBackward0>) 1940 0.0\n",
      "Epoch 200, Loss: 1172.8648681640625\n",
      "tensor(6.5987, device='cuda:0')\n",
      "tensor(3.9569, device='cuda:0', grad_fn=<MulBackward0>) tensor(1.6035, device='cuda:0', grad_fn=<NllLossBackward0>) tensor(0.9289, device='cuda:0', grad_fn=<NllLossBackward0>) 1940 0.0\n",
      "Epoch 201, Loss: 1172.8408203125\n",
      "tensor(6.5704, device='cuda:0')\n",
      "tensor(3.9357, device='cuda:0', grad_fn=<MulBackward0>) tensor(1.5965, device='cuda:0', grad_fn=<NllLossBackward0>) tensor(0.9275, device='cuda:0', grad_fn=<NllLossBackward0>) 1940 0.0\n",
      "Epoch 202, Loss: 1172.799072265625\n",
      "tensor(6.5347, device='cuda:0')\n",
      "tensor(3.9145, device='cuda:0', grad_fn=<MulBackward0>) tensor(1.6018, device='cuda:0', grad_fn=<NllLossBackward0>) tensor(0.9277, device='cuda:0', grad_fn=<NllLossBackward0>) 1940 0.0\n",
      "Epoch 203, Loss: 1172.78173828125\n",
      "tensor(6.4758, device='cuda:0')\n",
      "tensor(3.8936, device='cuda:0', grad_fn=<MulBackward0>) tensor(1.6017, device='cuda:0', grad_fn=<NllLossBackward0>) tensor(0.9272, device='cuda:0', grad_fn=<NllLossBackward0>) 1940 0.0\n",
      "Epoch 204, Loss: 1172.7540283203125\n",
      "tensor(6.4790, device='cuda:0')\n",
      "tensor(3.8729, device='cuda:0', grad_fn=<MulBackward0>) tensor(1.6000, device='cuda:0', grad_fn=<NllLossBackward0>) tensor(0.9274, device='cuda:0', grad_fn=<NllLossBackward0>) 1940 0.0\n",
      "Epoch 205, Loss: 1172.723876953125\n",
      "tensor(6.4443, device='cuda:0')\n",
      "tensor(3.8523, device='cuda:0', grad_fn=<MulBackward0>) tensor(1.5957, device='cuda:0', grad_fn=<NllLossBackward0>) tensor(0.9267, device='cuda:0', grad_fn=<NllLossBackward0>) 1940 0.0\n",
      "Epoch 206, Loss: 1172.6884765625\n",
      "tensor(6.4044, device='cuda:0')\n",
      "tensor(3.8319, device='cuda:0', grad_fn=<MulBackward0>) tensor(1.5999, device='cuda:0', grad_fn=<NllLossBackward0>) tensor(0.9270, device='cuda:0', grad_fn=<NllLossBackward0>) 1940 0.0\n",
      "Epoch 207, Loss: 1172.670166015625\n",
      "tensor(6.4496, device='cuda:0')\n",
      "tensor(3.8117, device='cuda:0', grad_fn=<MulBackward0>) tensor(1.5986, device='cuda:0', grad_fn=<NllLossBackward0>) tensor(0.9268, device='cuda:0', grad_fn=<NllLossBackward0>) 1940 0.0\n",
      "Epoch 208, Loss: 1172.6412353515625\n",
      "tensor(6.4916, device='cuda:0')\n",
      "tensor(3.7916, device='cuda:0', grad_fn=<MulBackward0>) tensor(1.5971, device='cuda:0', grad_fn=<NllLossBackward0>) tensor(0.9278, device='cuda:0', grad_fn=<NllLossBackward0>) 1940 0.0\n",
      "Epoch 209, Loss: 1172.6131591796875\n",
      "tensor(6.4706, device='cuda:0')\n",
      "tensor(3.7717, device='cuda:0', grad_fn=<MulBackward0>) tensor(1.5971, device='cuda:0', grad_fn=<NllLossBackward0>) tensor(0.9272, device='cuda:0', grad_fn=<NllLossBackward0>) 1940 0.0\n",
      "Epoch 210, Loss: 1172.5867919921875\n",
      "tensor(6.5074, device='cuda:0')\n",
      "tensor(3.7520, device='cuda:0', grad_fn=<MulBackward0>) tensor(1.5997, device='cuda:0', grad_fn=<NllLossBackward0>) tensor(0.9273, device='cuda:0', grad_fn=<NllLossBackward0>) 1940 0.0\n",
      "Epoch 211, Loss: 1172.566162109375\n",
      "tensor(6.5147, device='cuda:0')\n",
      "tensor(3.7324, device='cuda:0', grad_fn=<MulBackward0>) tensor(1.5960, device='cuda:0', grad_fn=<NllLossBackward0>) tensor(0.9270, device='cuda:0', grad_fn=<NllLossBackward0>) 1940 0.0\n",
      "Epoch 212, Loss: 1172.533447265625\n",
      "tensor(6.5557, device='cuda:0')\n",
      "tensor(3.7130, device='cuda:0', grad_fn=<MulBackward0>) tensor(1.5999, device='cuda:0', grad_fn=<NllLossBackward0>) tensor(0.9279, device='cuda:0', grad_fn=<NllLossBackward0>) 1940 0.0\n",
      "Epoch 213, Loss: 1172.5162353515625\n",
      "tensor(6.5609, device='cuda:0')\n",
      "tensor(3.6937, device='cuda:0', grad_fn=<MulBackward0>) tensor(1.5969, device='cuda:0', grad_fn=<NllLossBackward0>) tensor(0.9277, device='cuda:0', grad_fn=<NllLossBackward0>) 1940 0.0\n",
      "Epoch 214, Loss: 1172.4853515625\n",
      "tensor(6.5158, device='cuda:0')\n",
      "tensor(3.6746, device='cuda:0', grad_fn=<MulBackward0>) tensor(1.6003, device='cuda:0', grad_fn=<NllLossBackward0>) tensor(0.9280, device='cuda:0', grad_fn=<NllLossBackward0>) 1940 0.0\n",
      "Epoch 215, Loss: 1172.4671630859375\n",
      "tensor(6.5147, device='cuda:0')\n",
      "tensor(3.6556, device='cuda:0', grad_fn=<MulBackward0>) tensor(1.5955, device='cuda:0', grad_fn=<NllLossBackward0>) tensor(0.9263, device='cuda:0', grad_fn=<NllLossBackward0>) 1940 0.0\n",
      "Epoch 216, Loss: 1172.43212890625\n",
      "tensor(6.5399, device='cuda:0')\n",
      "tensor(3.6368, device='cuda:0', grad_fn=<MulBackward0>) tensor(1.5939, device='cuda:0', grad_fn=<NllLossBackward0>) tensor(0.9263, device='cuda:0', grad_fn=<NllLossBackward0>) 1940 0.0\n",
      "Epoch 217, Loss: 1172.4046630859375\n",
      "tensor(6.5284, device='cuda:0')\n",
      "tensor(3.6181, device='cuda:0', grad_fn=<MulBackward0>) tensor(1.5933, device='cuda:0', grad_fn=<NllLossBackward0>) tensor(0.9266, device='cuda:0', grad_fn=<NllLossBackward0>) 1940 0.0\n",
      "Epoch 218, Loss: 1172.37939453125\n",
      "tensor(6.5305, device='cuda:0')\n",
      "tensor(3.5996, device='cuda:0', grad_fn=<MulBackward0>) tensor(1.5921, device='cuda:0', grad_fn=<NllLossBackward0>) tensor(0.9263, device='cuda:0', grad_fn=<NllLossBackward0>) 1940 0.0\n",
      "Epoch 219, Loss: 1172.3529052734375\n",
      "tensor(6.5851, device='cuda:0')\n",
      "tensor(3.5813, device='cuda:0', grad_fn=<MulBackward0>) tensor(1.5992, device='cuda:0', grad_fn=<NllLossBackward0>) tensor(0.9276, device='cuda:0', grad_fn=<NllLossBackward0>) 1940 0.0\n",
      "Epoch 220, Loss: 1172.343505859375\n",
      "tensor(6.5294, device='cuda:0')\n",
      "tensor(3.5630, device='cuda:0', grad_fn=<MulBackward0>) tensor(1.5959, device='cuda:0', grad_fn=<NllLossBackward0>) tensor(0.9268, device='cuda:0', grad_fn=<NllLossBackward0>) 1940 0.0\n",
      "Epoch 221, Loss: 1172.31298828125\n",
      "tensor(6.4947, device='cuda:0')\n",
      "tensor(3.5450, device='cuda:0', grad_fn=<MulBackward0>) tensor(1.5925, device='cuda:0', grad_fn=<NllLossBackward0>) tensor(0.9265, device='cuda:0', grad_fn=<NllLossBackward0>) 1940 0.0\n",
      "Epoch 222, Loss: 1172.2828369140625\n",
      "tensor(6.5294, device='cuda:0')\n",
      "tensor(3.5270, device='cuda:0', grad_fn=<MulBackward0>) tensor(1.5920, device='cuda:0', grad_fn=<NllLossBackward0>) tensor(0.9262, device='cuda:0', grad_fn=<NllLossBackward0>) 1940 0.0\n",
      "Epoch 223, Loss: 1172.2584228515625\n",
      "tensor(6.5609, device='cuda:0')\n",
      "tensor(3.5092, device='cuda:0', grad_fn=<MulBackward0>) tensor(1.5955, device='cuda:0', grad_fn=<NllLossBackward0>) tensor(0.9267, device='cuda:0', grad_fn=<NllLossBackward0>) 1940 0.0\n",
      "Epoch 224, Loss: 1172.2421875\n",
      "tensor(6.5672, device='cuda:0')\n",
      "tensor(3.4915, device='cuda:0', grad_fn=<MulBackward0>) tensor(1.5927, device='cuda:0', grad_fn=<NllLossBackward0>) tensor(0.9261, device='cuda:0', grad_fn=<NllLossBackward0>) 1940 0.0\n",
      "Epoch 225, Loss: 1172.2135009765625\n",
      "tensor(6.5662, device='cuda:0')\n",
      "tensor(3.4740, device='cuda:0', grad_fn=<MulBackward0>) tensor(1.5945, device='cuda:0', grad_fn=<NllLossBackward0>) tensor(0.9272, device='cuda:0', grad_fn=<NllLossBackward0>) 1940 0.0\n",
      "Epoch 226, Loss: 1172.1947021484375\n",
      "tensor(6.5137, device='cuda:0')\n",
      "tensor(3.4565, device='cuda:0', grad_fn=<MulBackward0>) tensor(1.5946, device='cuda:0', grad_fn=<NllLossBackward0>) tensor(0.9262, device='cuda:0', grad_fn=<NllLossBackward0>) 1940 0.0\n",
      "Epoch 227, Loss: 1172.171630859375\n",
      "tensor(6.4737, device='cuda:0')\n",
      "tensor(3.4392, device='cuda:0', grad_fn=<MulBackward0>) tensor(1.5948, device='cuda:0', grad_fn=<NllLossBackward0>) tensor(0.9265, device='cuda:0', grad_fn=<NllLossBackward0>) 1940 0.0\n",
      "Epoch 228, Loss: 1172.149658203125\n",
      "tensor(6.4559, device='cuda:0')\n",
      "tensor(3.4220, device='cuda:0', grad_fn=<MulBackward0>) tensor(1.5921, device='cuda:0', grad_fn=<NllLossBackward0>) tensor(0.9260, device='cuda:0', grad_fn=<NllLossBackward0>) 1940 0.0\n",
      "Epoch 229, Loss: 1172.1217041015625\n",
      "tensor(6.5000, device='cuda:0')\n",
      "tensor(3.4050, device='cuda:0', grad_fn=<MulBackward0>) tensor(1.5927, device='cuda:0', grad_fn=<NllLossBackward0>) tensor(0.9259, device='cuda:0', grad_fn=<NllLossBackward0>) 1940 0.0\n",
      "Epoch 230, Loss: 1172.1007080078125\n",
      "tensor(6.6019, device='cuda:0')\n",
      "tensor(3.3881, device='cuda:0', grad_fn=<MulBackward0>) tensor(1.5979, device='cuda:0', grad_fn=<NllLossBackward0>) tensor(0.9272, device='cuda:0', grad_fn=<NllLossBackward0>) 1940 0.0\n",
      "Epoch 231, Loss: 1172.0894775390625\n",
      "tensor(6.5987, device='cuda:0')\n",
      "tensor(3.3713, device='cuda:0', grad_fn=<MulBackward0>) tensor(1.5959, device='cuda:0', grad_fn=<NllLossBackward0>) tensor(0.9271, device='cuda:0', grad_fn=<NllLossBackward0>) 1940 0.0\n",
      "Epoch 232, Loss: 1172.06396484375\n",
      "tensor(6.5546, device='cuda:0')\n",
      "tensor(3.3547, device='cuda:0', grad_fn=<MulBackward0>) tensor(1.5929, device='cuda:0', grad_fn=<NllLossBackward0>) tensor(0.9263, device='cuda:0', grad_fn=<NllLossBackward0>) 1940 0.0\n",
      "Epoch 233, Loss: 1172.0360107421875\n",
      "tensor(6.5378, device='cuda:0')\n",
      "tensor(3.3382, device='cuda:0', grad_fn=<MulBackward0>) tensor(1.5926, device='cuda:0', grad_fn=<NllLossBackward0>) tensor(0.9260, device='cuda:0', grad_fn=<NllLossBackward0>) 1940 0.0\n",
      "Epoch 234, Loss: 1172.0137939453125\n",
      "tensor(6.4769, device='cuda:0')\n",
      "tensor(3.3218, device='cuda:0', grad_fn=<MulBackward0>) tensor(1.5922, device='cuda:0', grad_fn=<NllLossBackward0>) tensor(0.9262, device='cuda:0', grad_fn=<NllLossBackward0>) 1940 0.0\n",
      "Epoch 235, Loss: 1171.9918212890625\n",
      "tensor(6.4580, device='cuda:0')\n",
      "tensor(3.3056, device='cuda:0', grad_fn=<MulBackward0>) tensor(1.5936, device='cuda:0', grad_fn=<NllLossBackward0>) tensor(0.9263, device='cuda:0', grad_fn=<NllLossBackward0>) 1940 0.0\n",
      "Epoch 236, Loss: 1171.973388671875\n",
      "tensor(6.4265, device='cuda:0')\n",
      "tensor(3.2895, device='cuda:0', grad_fn=<MulBackward0>) tensor(1.5959, device='cuda:0', grad_fn=<NllLossBackward0>) tensor(0.9271, device='cuda:0', grad_fn=<NllLossBackward0>) 1940 0.0\n",
      "Epoch 237, Loss: 1171.9576416015625\n",
      "tensor(6.3845, device='cuda:0')\n",
      "tensor(3.2736, device='cuda:0', grad_fn=<MulBackward0>) tensor(1.5909, device='cuda:0', grad_fn=<NllLossBackward0>) tensor(0.9257, device='cuda:0', grad_fn=<NllLossBackward0>) 1940 0.0\n",
      "Epoch 238, Loss: 1171.92626953125\n",
      "tensor(6.4748, device='cuda:0')\n",
      "tensor(3.2578, device='cuda:0', grad_fn=<MulBackward0>) tensor(1.5955, device='cuda:0', grad_fn=<NllLossBackward0>) tensor(0.9269, device='cuda:0', grad_fn=<NllLossBackward0>) 1940 0.0\n",
      "Epoch 239, Loss: 1171.9154052734375\n",
      "tensor(6.4317, device='cuda:0')\n",
      "tensor(3.2421, device='cuda:0', grad_fn=<MulBackward0>) tensor(1.5906, device='cuda:0', grad_fn=<NllLossBackward0>) tensor(0.9257, device='cuda:0', grad_fn=<NllLossBackward0>) 1940 0.0\n",
      "Epoch 240, Loss: 1171.884765625\n",
      "tensor(6.5105, device='cuda:0')\n",
      "tensor(3.2265, device='cuda:0', grad_fn=<MulBackward0>) tensor(1.5902, device='cuda:0', grad_fn=<NllLossBackward0>) tensor(0.9261, device='cuda:0', grad_fn=<NllLossBackward0>) 1940 0.0\n",
      "Epoch 241, Loss: 1171.8641357421875\n",
      "tensor(6.5567, device='cuda:0')\n",
      "tensor(3.2110, device='cuda:0', grad_fn=<MulBackward0>) tensor(1.5936, device='cuda:0', grad_fn=<NllLossBackward0>) tensor(0.9267, device='cuda:0', grad_fn=<NllLossBackward0>) 1940 0.0\n",
      "Epoch 242, Loss: 1171.8509521484375\n",
      "tensor(6.5284, device='cuda:0')\n",
      "tensor(3.1957, device='cuda:0', grad_fn=<MulBackward0>) tensor(1.5913, device='cuda:0', grad_fn=<NllLossBackward0>) tensor(0.9257, device='cuda:0', grad_fn=<NllLossBackward0>) 1940 0.0\n",
      "Epoch 243, Loss: 1171.8258056640625\n",
      "tensor(6.6229, device='cuda:0')\n",
      "tensor(3.1805, device='cuda:0', grad_fn=<MulBackward0>) tensor(1.5943, device='cuda:0', grad_fn=<NllLossBackward0>) tensor(0.9268, device='cuda:0', grad_fn=<NllLossBackward0>) 1940 0.0\n",
      "Epoch 244, Loss: 1171.8126220703125\n",
      "tensor(6.6208, device='cuda:0')\n",
      "tensor(3.1653, device='cuda:0', grad_fn=<MulBackward0>) tensor(1.5911, device='cuda:0', grad_fn=<NllLossBackward0>) tensor(0.9260, device='cuda:0', grad_fn=<NllLossBackward0>) 1940 0.0\n",
      "Epoch 245, Loss: 1171.7862548828125\n",
      "tensor(6.6197, device='cuda:0')\n",
      "tensor(3.1503, device='cuda:0', grad_fn=<MulBackward0>) tensor(1.5916, device='cuda:0', grad_fn=<NllLossBackward0>) tensor(0.9261, device='cuda:0', grad_fn=<NllLossBackward0>) 1940 0.0\n",
      "Epoch 246, Loss: 1171.7677001953125\n",
      "tensor(6.5882, device='cuda:0')\n",
      "tensor(3.1354, device='cuda:0', grad_fn=<MulBackward0>) tensor(1.5913, device='cuda:0', grad_fn=<NllLossBackward0>) tensor(0.9265, device='cuda:0', grad_fn=<NllLossBackward0>) 1940 0.0\n",
      "Epoch 247, Loss: 1171.7481689453125\n",
      "tensor(6.5462, device='cuda:0')\n",
      "tensor(3.1207, device='cuda:0', grad_fn=<MulBackward0>) tensor(1.5911, device='cuda:0', grad_fn=<NllLossBackward0>) tensor(0.9257, device='cuda:0', grad_fn=<NllLossBackward0>) 1940 0.0\n",
      "Epoch 248, Loss: 1171.7279052734375\n",
      "tensor(6.4811, device='cuda:0')\n",
      "tensor(3.1060, device='cuda:0', grad_fn=<MulBackward0>) tensor(1.5908, device='cuda:0', grad_fn=<NllLossBackward0>) tensor(0.9260, device='cuda:0', grad_fn=<NllLossBackward0>) 1940 0.0\n",
      "Epoch 249, Loss: 1171.70849609375\n",
      "tensor(6.4464, device='cuda:0')\n",
      "tensor(3.0915, device='cuda:0', grad_fn=<MulBackward0>) tensor(1.5926, device='cuda:0', grad_fn=<NllLossBackward0>) tensor(0.9260, device='cuda:0', grad_fn=<NllLossBackward0>) 1940 0.0\n",
      "Epoch 250, Loss: 1171.693115234375\n",
      "tensor(6.4443, device='cuda:0')\n",
      "tensor(3.0770, device='cuda:0', grad_fn=<MulBackward0>) tensor(1.5898, device='cuda:0', grad_fn=<NllLossBackward0>) tensor(0.9257, device='cuda:0', grad_fn=<NllLossBackward0>) 1940 0.0\n",
      "Epoch 251, Loss: 1171.6685791015625\n",
      "tensor(6.4286, device='cuda:0')\n",
      "tensor(3.0627, device='cuda:0', grad_fn=<MulBackward0>) tensor(1.5944, device='cuda:0', grad_fn=<NllLossBackward0>) tensor(0.9265, device='cuda:0', grad_fn=<NllLossBackward0>) 1940 0.0\n",
      "Epoch 252, Loss: 1171.659423828125\n",
      "tensor(6.4391, device='cuda:0')\n",
      "tensor(3.0484, device='cuda:0', grad_fn=<MulBackward0>) tensor(1.5903, device='cuda:0', grad_fn=<NllLossBackward0>) tensor(0.9256, device='cuda:0', grad_fn=<NllLossBackward0>) 1940 0.0\n",
      "Epoch 253, Loss: 1171.63232421875\n",
      "tensor(6.4695, device='cuda:0')\n",
      "tensor(3.0343, device='cuda:0', grad_fn=<MulBackward0>) tensor(1.5915, device='cuda:0', grad_fn=<NllLossBackward0>) tensor(0.9258, device='cuda:0', grad_fn=<NllLossBackward0>) 1940 0.0\n",
      "Epoch 254, Loss: 1171.616455078125\n",
      "tensor(6.4895, device='cuda:0')\n",
      "tensor(3.0203, device='cuda:0', grad_fn=<MulBackward0>) tensor(1.5934, device='cuda:0', grad_fn=<NllLossBackward0>) tensor(0.9264, device='cuda:0', grad_fn=<NllLossBackward0>) 1940 0.0\n",
      "Epoch 255, Loss: 1171.6021728515625\n",
      "tensor(6.5095, device='cuda:0')\n",
      "tensor(3.0063, device='cuda:0', grad_fn=<MulBackward0>) tensor(1.5935, device='cuda:0', grad_fn=<NllLossBackward0>) tensor(0.9265, device='cuda:0', grad_fn=<NllLossBackward0>) 1940 0.0\n",
      "Epoch 256, Loss: 1171.58447265625\n",
      "tensor(6.5021, device='cuda:0')\n",
      "tensor(2.9925, device='cuda:0', grad_fn=<MulBackward0>) tensor(1.5908, device='cuda:0', grad_fn=<NllLossBackward0>) tensor(0.9258, device='cuda:0', grad_fn=<NllLossBackward0>) 1940 0.0\n",
      "Epoch 257, Loss: 1171.560791015625\n",
      "tensor(6.5567, device='cuda:0')\n",
      "tensor(2.9787, device='cuda:0', grad_fn=<MulBackward0>) tensor(1.5918, device='cuda:0', grad_fn=<NllLossBackward0>) tensor(0.9263, device='cuda:0', grad_fn=<NllLossBackward0>) 1940 0.0\n",
      "Epoch 258, Loss: 1171.5452880859375\n",
      "tensor(6.5326, device='cuda:0')\n",
      "tensor(2.9651, device='cuda:0', grad_fn=<MulBackward0>) tensor(1.5897, device='cuda:0', grad_fn=<NllLossBackward0>) tensor(0.9258, device='cuda:0', grad_fn=<NllLossBackward0>) 1940 0.0\n",
      "Epoch 259, Loss: 1171.523193359375\n",
      "tensor(6.5735, device='cuda:0')\n",
      "tensor(2.9516, device='cuda:0', grad_fn=<MulBackward0>) tensor(1.5888, device='cuda:0', grad_fn=<NllLossBackward0>) tensor(0.9254, device='cuda:0', grad_fn=<NllLossBackward0>) 1940 0.0\n",
      "Epoch 260, Loss: 1171.503662109375\n",
      "tensor(6.5641, device='cuda:0')\n",
      "tensor(2.9382, device='cuda:0', grad_fn=<MulBackward0>) tensor(1.5899, device='cuda:0', grad_fn=<NllLossBackward0>) tensor(0.9259, device='cuda:0', grad_fn=<NllLossBackward0>) 1940 0.0\n",
      "Epoch 261, Loss: 1171.4886474609375\n",
      "tensor(6.6082, device='cuda:0')\n",
      "tensor(2.9248, device='cuda:0', grad_fn=<MulBackward0>) tensor(1.5938, device='cuda:0', grad_fn=<NllLossBackward0>) tensor(0.9263, device='cuda:0', grad_fn=<NllLossBackward0>) 1940 0.0\n",
      "Epoch 262, Loss: 1171.47900390625\n",
      "tensor(6.5704, device='cuda:0')\n",
      "tensor(2.9116, device='cuda:0', grad_fn=<MulBackward0>) tensor(1.5912, device='cuda:0', grad_fn=<NllLossBackward0>) tensor(0.9262, device='cuda:0', grad_fn=<NllLossBackward0>) 1940 0.0\n",
      "Epoch 263, Loss: 1171.456787109375\n",
      "tensor(6.5504, device='cuda:0')\n",
      "tensor(2.8984, device='cuda:0', grad_fn=<MulBackward0>) tensor(1.5894, device='cuda:0', grad_fn=<NllLossBackward0>) tensor(0.9261, device='cuda:0', grad_fn=<NllLossBackward0>) 1940 0.0\n",
      "Epoch 264, Loss: 1171.43603515625\n",
      "tensor(6.5609, device='cuda:0')\n",
      "tensor(2.8854, device='cuda:0', grad_fn=<MulBackward0>) tensor(1.5911, device='cuda:0', grad_fn=<NllLossBackward0>) tensor(0.9260, device='cuda:0', grad_fn=<NllLossBackward0>) 1940 0.0\n",
      "Epoch 265, Loss: 1171.4222412109375\n",
      "tensor(6.5756, device='cuda:0')\n",
      "tensor(2.8724, device='cuda:0', grad_fn=<MulBackward0>) tensor(1.5897, device='cuda:0', grad_fn=<NllLossBackward0>) tensor(0.9260, device='cuda:0', grad_fn=<NllLossBackward0>) 1940 0.0\n",
      "Epoch 266, Loss: 1171.4027099609375\n",
      "tensor(6.5126, device='cuda:0')\n",
      "tensor(2.8595, device='cuda:0', grad_fn=<MulBackward0>) tensor(1.5878, device='cuda:0', grad_fn=<NllLossBackward0>) tensor(0.9254, device='cuda:0', grad_fn=<NllLossBackward0>) 1940 0.0\n",
      "Epoch 267, Loss: 1171.3819580078125\n",
      "tensor(6.5578, device='cuda:0')\n",
      "tensor(2.8467, device='cuda:0', grad_fn=<MulBackward0>) tensor(1.5887, device='cuda:0', grad_fn=<NllLossBackward0>) tensor(0.9255, device='cuda:0', grad_fn=<NllLossBackward0>) 1940 0.0\n",
      "Epoch 268, Loss: 1171.3671875\n",
      "tensor(6.5294, device='cuda:0')\n",
      "tensor(2.8340, device='cuda:0', grad_fn=<MulBackward0>) tensor(1.5918, device='cuda:0', grad_fn=<NllLossBackward0>) tensor(0.9259, device='cuda:0', grad_fn=<NllLossBackward0>) 1940 0.0\n",
      "Epoch 269, Loss: 1171.356689453125\n",
      "tensor(6.5525, device='cuda:0')\n",
      "tensor(2.8214, device='cuda:0', grad_fn=<MulBackward0>) tensor(1.5878, device='cuda:0', grad_fn=<NllLossBackward0>) tensor(0.9256, device='cuda:0', grad_fn=<NllLossBackward0>) 1940 0.0\n",
      "Epoch 270, Loss: 1171.3323974609375\n",
      "tensor(6.5158, device='cuda:0')\n",
      "tensor(2.8088, device='cuda:0', grad_fn=<MulBackward0>) tensor(1.5911, device='cuda:0', grad_fn=<NllLossBackward0>) tensor(0.9258, device='cuda:0', grad_fn=<NllLossBackward0>) 1940 0.0\n",
      "Epoch 271, Loss: 1171.32275390625\n",
      "tensor(6.5336, device='cuda:0')\n",
      "tensor(2.7964, device='cuda:0', grad_fn=<MulBackward0>) tensor(1.5877, device='cuda:0', grad_fn=<NllLossBackward0>) tensor(0.9254, device='cuda:0', grad_fn=<NllLossBackward0>) 1940 0.0\n",
      "Epoch 272, Loss: 1171.2996826171875\n",
      "tensor(6.5305, device='cuda:0')\n",
      "tensor(2.7840, device='cuda:0', grad_fn=<MulBackward0>) tensor(1.5894, device='cuda:0', grad_fn=<NllLossBackward0>) tensor(0.9258, device='cuda:0', grad_fn=<NllLossBackward0>) 1940 0.0\n",
      "Epoch 273, Loss: 1171.2872314453125\n",
      "tensor(6.5294, device='cuda:0')\n",
      "tensor(2.7717, device='cuda:0', grad_fn=<MulBackward0>) tensor(1.5909, device='cuda:0', grad_fn=<NllLossBackward0>) tensor(0.9258, device='cuda:0', grad_fn=<NllLossBackward0>) 1940 0.0\n",
      "Epoch 274, Loss: 1171.2740478515625\n",
      "tensor(6.5452, device='cuda:0')\n",
      "tensor(2.7595, device='cuda:0', grad_fn=<MulBackward0>) tensor(1.5881, device='cuda:0', grad_fn=<NllLossBackward0>) tensor(0.9255, device='cuda:0', grad_fn=<NllLossBackward0>) 1940 0.0\n",
      "Epoch 275, Loss: 1171.252685546875\n",
      "tensor(6.5578, device='cuda:0')\n",
      "tensor(2.7474, device='cuda:0', grad_fn=<MulBackward0>) tensor(1.5908, device='cuda:0', grad_fn=<NllLossBackward0>) tensor(0.9260, device='cuda:0', grad_fn=<NllLossBackward0>) 1940 0.0\n",
      "Epoch 276, Loss: 1171.2423095703125\n",
      "tensor(6.5777, device='cuda:0')\n",
      "tensor(2.7354, device='cuda:0', grad_fn=<MulBackward0>) tensor(1.5877, device='cuda:0', grad_fn=<NllLossBackward0>) tensor(0.9255, device='cuda:0', grad_fn=<NllLossBackward0>) 1940 0.0\n",
      "Epoch 277, Loss: 1171.220458984375\n",
      "tensor(6.5651, device='cuda:0')\n",
      "tensor(2.7234, device='cuda:0', grad_fn=<MulBackward0>) tensor(1.5886, device='cuda:0', grad_fn=<NllLossBackward0>) tensor(0.9255, device='cuda:0', grad_fn=<NllLossBackward0>) 1940 0.0\n",
      "Epoch 278, Loss: 1171.20654296875\n",
      "tensor(6.5903, device='cuda:0')\n",
      "tensor(2.7115, device='cuda:0', grad_fn=<MulBackward0>) tensor(1.5876, device='cuda:0', grad_fn=<NllLossBackward0>) tensor(0.9255, device='cuda:0', grad_fn=<NllLossBackward0>) 1940 0.0\n",
      "Epoch 279, Loss: 1171.1893310546875\n",
      "tensor(6.5882, device='cuda:0')\n",
      "tensor(2.6997, device='cuda:0', grad_fn=<MulBackward0>) tensor(1.5894, device='cuda:0', grad_fn=<NllLossBackward0>) tensor(0.9258, device='cuda:0', grad_fn=<NllLossBackward0>) 1940 0.0\n",
      "Epoch 280, Loss: 1171.177734375\n",
      "tensor(6.5777, device='cuda:0')\n",
      "tensor(2.6880, device='cuda:0', grad_fn=<MulBackward0>) tensor(1.5885, device='cuda:0', grad_fn=<NllLossBackward0>) tensor(0.9256, device='cuda:0', grad_fn=<NllLossBackward0>) 1940 0.0\n",
      "Epoch 281, Loss: 1171.1605224609375\n",
      "tensor(6.5903, device='cuda:0')\n",
      "tensor(2.6764, device='cuda:0', grad_fn=<MulBackward0>) tensor(1.5881, device='cuda:0', grad_fn=<NllLossBackward0>) tensor(0.9257, device='cuda:0', grad_fn=<NllLossBackward0>) 1940 0.0\n",
      "Epoch 282, Loss: 1171.1446533203125\n",
      "tensor(6.5284, device='cuda:0')\n",
      "tensor(2.6648, device='cuda:0', grad_fn=<MulBackward0>) tensor(1.5878, device='cuda:0', grad_fn=<NllLossBackward0>) tensor(0.9256, device='cuda:0', grad_fn=<NllLossBackward0>) 1940 0.0\n",
      "Epoch 283, Loss: 1171.1290283203125\n",
      "tensor(6.5105, device='cuda:0')\n",
      "tensor(2.6533, device='cuda:0', grad_fn=<MulBackward0>) tensor(1.5871, device='cuda:0', grad_fn=<NllLossBackward0>) tensor(0.9254, device='cuda:0', grad_fn=<NllLossBackward0>) 1940 0.0\n",
      "Epoch 284, Loss: 1171.1126708984375\n",
      "tensor(6.4853, device='cuda:0')\n",
      "tensor(2.6419, device='cuda:0', grad_fn=<MulBackward0>) tensor(1.5868, device='cuda:0', grad_fn=<NllLossBackward0>) tensor(0.9255, device='cuda:0', grad_fn=<NllLossBackward0>) 1940 0.0\n",
      "Epoch 285, Loss: 1171.0972900390625\n",
      "tensor(6.4958, device='cuda:0')\n",
      "tensor(2.6305, device='cuda:0', grad_fn=<MulBackward0>) tensor(1.5878, device='cuda:0', grad_fn=<NllLossBackward0>) tensor(0.9256, device='cuda:0', grad_fn=<NllLossBackward0>) 1940 0.0\n",
      "Epoch 286, Loss: 1171.08447265625\n",
      "tensor(6.5168, device='cuda:0')\n",
      "tensor(2.6193, device='cuda:0', grad_fn=<MulBackward0>) tensor(1.5874, device='cuda:0', grad_fn=<NllLossBackward0>) tensor(0.9255, device='cuda:0', grad_fn=<NllLossBackward0>) 1940 0.0\n",
      "Epoch 287, Loss: 1171.069091796875\n",
      "tensor(6.5242, device='cuda:0')\n",
      "tensor(2.6081, device='cuda:0', grad_fn=<MulBackward0>) tensor(1.5873, device='cuda:0', grad_fn=<NllLossBackward0>) tensor(0.9252, device='cuda:0', grad_fn=<NllLossBackward0>) 1940 0.0\n",
      "Epoch 288, Loss: 1171.0540771484375\n",
      "tensor(6.4947, device='cuda:0')\n",
      "tensor(2.5970, device='cuda:0', grad_fn=<MulBackward0>) tensor(1.5883, device='cuda:0', grad_fn=<NllLossBackward0>) tensor(0.9255, device='cuda:0', grad_fn=<NllLossBackward0>) 1940 0.0\n",
      "Epoch 289, Loss: 1171.0416259765625\n",
      "tensor(6.5483, device='cuda:0')\n",
      "tensor(2.5859, device='cuda:0', grad_fn=<MulBackward0>) tensor(1.5870, device='cuda:0', grad_fn=<NllLossBackward0>) tensor(0.9252, device='cuda:0', grad_fn=<NllLossBackward0>) 1940 0.0\n",
      "Epoch 290, Loss: 1171.024658203125\n",
      "tensor(6.5294, device='cuda:0')\n",
      "tensor(2.5750, device='cuda:0', grad_fn=<MulBackward0>) tensor(1.5865, device='cuda:0', grad_fn=<NllLossBackward0>) tensor(0.9254, device='cuda:0', grad_fn=<NllLossBackward0>) 1940 0.0\n",
      "Epoch 291, Loss: 1171.009521484375\n",
      "tensor(6.5725, device='cuda:0')\n",
      "tensor(2.5640, device='cuda:0', grad_fn=<MulBackward0>) tensor(1.5875, device='cuda:0', grad_fn=<NllLossBackward0>) tensor(0.9252, device='cuda:0', grad_fn=<NllLossBackward0>) 1940 0.0\n",
      "Epoch 292, Loss: 1170.9970703125\n",
      "tensor(6.5872, device='cuda:0')\n",
      "tensor(2.5532, device='cuda:0', grad_fn=<MulBackward0>) tensor(1.5856, device='cuda:0', grad_fn=<NllLossBackward0>) tensor(0.9252, device='cuda:0', grad_fn=<NllLossBackward0>) 1940 0.0\n",
      "Epoch 293, Loss: 1170.9793701171875\n",
      "tensor(6.6050, device='cuda:0')\n",
      "tensor(2.5424, device='cuda:0', grad_fn=<MulBackward0>) tensor(1.5873, device='cuda:0', grad_fn=<NllLossBackward0>) tensor(0.9252, device='cuda:0', grad_fn=<NllLossBackward0>) 1940 0.0\n",
      "Epoch 294, Loss: 1170.9686279296875\n",
      "tensor(6.6313, device='cuda:0')\n",
      "tensor(2.5318, device='cuda:0', grad_fn=<MulBackward0>) tensor(1.5860, device='cuda:0', grad_fn=<NllLossBackward0>) tensor(0.9253, device='cuda:0', grad_fn=<NllLossBackward0>) 1940 0.0\n",
      "Epoch 295, Loss: 1170.952392578125\n",
      "tensor(6.6061, device='cuda:0')\n",
      "tensor(2.5211, device='cuda:0', grad_fn=<MulBackward0>) tensor(1.5860, device='cuda:0', grad_fn=<NllLossBackward0>) tensor(0.9252, device='cuda:0', grad_fn=<NllLossBackward0>) 1940 0.0\n",
      "Epoch 296, Loss: 1170.9384765625\n",
      "tensor(6.6029, device='cuda:0')\n",
      "tensor(2.5106, device='cuda:0', grad_fn=<MulBackward0>) tensor(1.5868, device='cuda:0', grad_fn=<NllLossBackward0>) tensor(0.9254, device='cuda:0', grad_fn=<NllLossBackward0>) 1940 0.0\n",
      "Epoch 297, Loss: 1170.9263916015625\n",
      "tensor(6.6134, device='cuda:0')\n",
      "tensor(2.5001, device='cuda:0', grad_fn=<MulBackward0>) tensor(1.5854, device='cuda:0', grad_fn=<NllLossBackward0>) tensor(0.9251, device='cuda:0', grad_fn=<NllLossBackward0>) 1940 0.0\n",
      "Epoch 298, Loss: 1170.9100341796875\n",
      "tensor(6.5914, device='cuda:0')\n",
      "tensor(2.4896, device='cuda:0', grad_fn=<MulBackward0>) tensor(1.5851, device='cuda:0', grad_fn=<NllLossBackward0>) tensor(0.9252, device='cuda:0', grad_fn=<NllLossBackward0>) 1940 0.0\n",
      "Epoch 299, Loss: 1170.895751953125\n",
      "tensor(6.5893, device='cuda:0')\n",
      "tensor(2.4793, device='cuda:0', grad_fn=<MulBackward0>) tensor(1.5851, device='cuda:0', grad_fn=<NllLossBackward0>) tensor(0.9251, device='cuda:0', grad_fn=<NllLossBackward0>) 1940 0.0\n",
      "Epoch 300, Loss: 1170.8824462890625\n",
      "tensor(6.5735, device='cuda:0')\n",
      "tensor(2.4690, device='cuda:0', grad_fn=<MulBackward0>) tensor(1.5869, device='cuda:0', grad_fn=<NllLossBackward0>) tensor(0.9253, device='cuda:0', grad_fn=<NllLossBackward0>) 1940 0.0\n",
      "Epoch 301, Loss: 1170.87255859375\n",
      "tensor(6.5546, device='cuda:0')\n",
      "tensor(2.4588, device='cuda:0', grad_fn=<MulBackward0>) tensor(1.5864, device='cuda:0', grad_fn=<NllLossBackward0>) tensor(0.9252, device='cuda:0', grad_fn=<NllLossBackward0>) 1940 0.0\n",
      "Epoch 302, Loss: 1170.8582763671875\n",
      "tensor(6.5494, device='cuda:0')\n",
      "tensor(2.4486, device='cuda:0', grad_fn=<MulBackward0>) tensor(1.5859, device='cuda:0', grad_fn=<NllLossBackward0>) tensor(0.9253, device='cuda:0', grad_fn=<NllLossBackward0>) 1940 0.0\n",
      "Epoch 303, Loss: 1170.84423828125\n",
      "tensor(6.5452, device='cuda:0')\n",
      "tensor(2.4386, device='cuda:0', grad_fn=<MulBackward0>) tensor(1.5846, device='cuda:0', grad_fn=<NllLossBackward0>) tensor(0.9250, device='cuda:0', grad_fn=<NllLossBackward0>) 1940 0.0\n",
      "Epoch 304, Loss: 1170.828369140625\n",
      "tensor(6.5704, device='cuda:0')\n",
      "tensor(2.4285, device='cuda:0', grad_fn=<MulBackward0>) tensor(1.5868, device='cuda:0', grad_fn=<NllLossBackward0>) tensor(0.9253, device='cuda:0', grad_fn=<NllLossBackward0>) 1940 0.0\n",
      "Epoch 305, Loss: 1170.819580078125\n",
      "tensor(6.5536, device='cuda:0')\n",
      "tensor(2.4186, device='cuda:0', grad_fn=<MulBackward0>) tensor(1.5855, device='cuda:0', grad_fn=<NllLossBackward0>) tensor(0.9250, device='cuda:0', grad_fn=<NllLossBackward0>) 1940 0.0\n",
      "Epoch 306, Loss: 1170.8040771484375\n",
      "tensor(6.5567, device='cuda:0')\n",
      "tensor(2.4086, device='cuda:0', grad_fn=<MulBackward0>) tensor(1.5860, device='cuda:0', grad_fn=<NllLossBackward0>) tensor(0.9254, device='cuda:0', grad_fn=<NllLossBackward0>) 1940 0.0\n",
      "Epoch 307, Loss: 1170.7923583984375\n",
      "tensor(6.6166, device='cuda:0')\n",
      "tensor(2.3988, device='cuda:0', grad_fn=<MulBackward0>) tensor(1.5873, device='cuda:0', grad_fn=<NllLossBackward0>) tensor(0.9256, device='cuda:0', grad_fn=<NllLossBackward0>) 1940 0.0\n",
      "Epoch 308, Loss: 1170.7821044921875\n",
      "tensor(6.6092, device='cuda:0')\n",
      "tensor(2.3890, device='cuda:0', grad_fn=<MulBackward0>) tensor(1.5862, device='cuda:0', grad_fn=<NllLossBackward0>) tensor(0.9253, device='cuda:0', grad_fn=<NllLossBackward0>) 1940 0.0\n",
      "Epoch 309, Loss: 1170.76708984375\n",
      "tensor(6.5935, device='cuda:0')\n",
      "tensor(2.3793, device='cuda:0', grad_fn=<MulBackward0>) tensor(1.5872, device='cuda:0', grad_fn=<NllLossBackward0>) tensor(0.9256, device='cuda:0', grad_fn=<NllLossBackward0>) 1940 0.0\n",
      "Epoch 310, Loss: 1170.7567138671875\n",
      "tensor(6.5861, device='cuda:0')\n",
      "tensor(2.3697, device='cuda:0', grad_fn=<MulBackward0>) tensor(1.5867, device='cuda:0', grad_fn=<NllLossBackward0>) tensor(0.9253, device='cuda:0', grad_fn=<NllLossBackward0>) 1940 0.0\n",
      "Epoch 311, Loss: 1170.7430419921875\n",
      "tensor(6.6061, device='cuda:0')\n",
      "tensor(2.3601, device='cuda:0', grad_fn=<MulBackward0>) tensor(1.5877, device='cuda:0', grad_fn=<NllLossBackward0>) tensor(0.9255, device='cuda:0', grad_fn=<NllLossBackward0>) 1940 0.0\n",
      "Epoch 312, Loss: 1170.732666015625\n",
      "tensor(6.5777, device='cuda:0')\n",
      "tensor(2.3505, device='cuda:0', grad_fn=<MulBackward0>) tensor(1.5851, device='cuda:0', grad_fn=<NllLossBackward0>) tensor(0.9252, device='cuda:0', grad_fn=<NllLossBackward0>) 1940 0.0\n",
      "Epoch 313, Loss: 1170.715087890625\n",
      "tensor(6.5683, device='cuda:0')\n",
      "tensor(2.3410, device='cuda:0', grad_fn=<MulBackward0>) tensor(1.5853, device='cuda:0', grad_fn=<NllLossBackward0>) tensor(0.9253, device='cuda:0', grad_fn=<NllLossBackward0>) 1940 0.0\n",
      "Epoch 314, Loss: 1170.703125\n",
      "tensor(6.5956, device='cuda:0')\n",
      "tensor(2.3316, device='cuda:0', grad_fn=<MulBackward0>) tensor(1.5861, device='cuda:0', grad_fn=<NllLossBackward0>) tensor(0.9255, device='cuda:0', grad_fn=<NllLossBackward0>) 1940 0.0\n",
      "Epoch 315, Loss: 1170.6925048828125\n",
      "tensor(6.5525, device='cuda:0')\n",
      "tensor(2.3222, device='cuda:0', grad_fn=<MulBackward0>) tensor(1.5845, device='cuda:0', grad_fn=<NllLossBackward0>) tensor(0.9253, device='cuda:0', grad_fn=<NllLossBackward0>) 1940 0.0\n",
      "Epoch 316, Loss: 1170.677001953125\n",
      "tensor(6.4842, device='cuda:0')\n",
      "tensor(2.3129, device='cuda:0', grad_fn=<MulBackward0>) tensor(1.5869, device='cuda:0', grad_fn=<NllLossBackward0>) tensor(0.9255, device='cuda:0', grad_fn=<NllLossBackward0>) 1940 0.0\n",
      "Epoch 317, Loss: 1170.669677734375\n",
      "tensor(6.5147, device='cuda:0')\n",
      "tensor(2.3036, device='cuda:0', grad_fn=<MulBackward0>) tensor(1.5858, device='cuda:0', grad_fn=<NllLossBackward0>) tensor(0.9253, device='cuda:0', grad_fn=<NllLossBackward0>) 1940 0.0\n",
      "Epoch 318, Loss: 1170.6552734375\n",
      "tensor(6.5410, device='cuda:0')\n",
      "tensor(2.2944, device='cuda:0', grad_fn=<MulBackward0>) tensor(1.5864, device='cuda:0', grad_fn=<NllLossBackward0>) tensor(0.9254, device='cuda:0', grad_fn=<NllLossBackward0>) 1940 0.0\n",
      "Epoch 319, Loss: 1170.6446533203125\n",
      "tensor(6.5504, device='cuda:0')\n",
      "tensor(2.2852, device='cuda:0', grad_fn=<MulBackward0>) tensor(1.5845, device='cuda:0', grad_fn=<NllLossBackward0>) tensor(0.9252, device='cuda:0', grad_fn=<NllLossBackward0>) 1940 0.0\n",
      "Epoch 320, Loss: 1170.62890625\n",
      "tensor(6.6040, device='cuda:0')\n",
      "tensor(2.2761, device='cuda:0', grad_fn=<MulBackward0>) tensor(1.5857, device='cuda:0', grad_fn=<NllLossBackward0>) tensor(0.9251, device='cuda:0', grad_fn=<NllLossBackward0>) 1940 0.0\n",
      "Epoch 321, Loss: 1170.619384765625\n",
      "tensor(6.6071, device='cuda:0')\n",
      "tensor(2.2671, device='cuda:0', grad_fn=<MulBackward0>) tensor(1.5844, device='cuda:0', grad_fn=<NllLossBackward0>) tensor(0.9252, device='cuda:0', grad_fn=<NllLossBackward0>) 1940 0.0\n",
      "Epoch 322, Loss: 1170.605224609375\n",
      "tensor(6.6397, device='cuda:0')\n",
      "tensor(2.2581, device='cuda:0', grad_fn=<MulBackward0>) tensor(1.5836, device='cuda:0', grad_fn=<NllLossBackward0>) tensor(0.9249, device='cuda:0', grad_fn=<NllLossBackward0>) 1940 0.0\n",
      "Epoch 323, Loss: 1170.591796875\n",
      "tensor(6.6450, device='cuda:0')\n",
      "tensor(2.2491, device='cuda:0', grad_fn=<MulBackward0>) tensor(1.5842, device='cuda:0', grad_fn=<NllLossBackward0>) tensor(0.9251, device='cuda:0', grad_fn=<NllLossBackward0>) 1940 0.0\n",
      "Epoch 324, Loss: 1170.581298828125\n",
      "tensor(6.6691, device='cuda:0')\n",
      "tensor(2.2403, device='cuda:0', grad_fn=<MulBackward0>) tensor(1.5850, device='cuda:0', grad_fn=<NllLossBackward0>) tensor(0.9253, device='cuda:0', grad_fn=<NllLossBackward0>) 1940 0.0\n",
      "Epoch 325, Loss: 1170.571533203125\n",
      "tensor(6.6649, device='cuda:0')\n",
      "tensor(2.2314, device='cuda:0', grad_fn=<MulBackward0>) tensor(1.5838, device='cuda:0', grad_fn=<NllLossBackward0>) tensor(0.9251, device='cuda:0', grad_fn=<NllLossBackward0>) 1940 0.0\n",
      "Epoch 326, Loss: 1170.5576171875\n",
      "tensor(6.6355, device='cuda:0')\n",
      "tensor(2.2226, device='cuda:0', grad_fn=<MulBackward0>) tensor(1.5838, device='cuda:0', grad_fn=<NllLossBackward0>) tensor(0.9251, device='cuda:0', grad_fn=<NllLossBackward0>) 1940 0.0\n",
      "Epoch 327, Loss: 1170.5462646484375\n",
      "tensor(6.5998, device='cuda:0')\n",
      "tensor(2.2139, device='cuda:0', grad_fn=<MulBackward0>) tensor(1.5840, device='cuda:0', grad_fn=<NllLossBackward0>) tensor(0.9251, device='cuda:0', grad_fn=<NllLossBackward0>) 1940 0.0\n",
      "Epoch 328, Loss: 1170.5352783203125\n",
      "tensor(6.5630, device='cuda:0')\n",
      "tensor(2.2052, device='cuda:0', grad_fn=<MulBackward0>) tensor(1.5841, device='cuda:0', grad_fn=<NllLossBackward0>) tensor(0.9251, device='cuda:0', grad_fn=<NllLossBackward0>) 1940 0.0\n",
      "Epoch 329, Loss: 1170.5240478515625\n",
      "tensor(6.4937, device='cuda:0')\n",
      "tensor(2.1966, device='cuda:0', grad_fn=<MulBackward0>) tensor(1.5849, device='cuda:0', grad_fn=<NllLossBackward0>) tensor(0.9253, device='cuda:0', grad_fn=<NllLossBackward0>) 1940 0.0\n",
      "Epoch 330, Loss: 1170.5146484375\n",
      "tensor(6.5378, device='cuda:0')\n",
      "tensor(2.1880, device='cuda:0', grad_fn=<MulBackward0>) tensor(1.5841, device='cuda:0', grad_fn=<NllLossBackward0>) tensor(0.9251, device='cuda:0', grad_fn=<NllLossBackward0>) 1940 0.0\n",
      "Epoch 331, Loss: 1170.5018310546875\n",
      "tensor(6.5137, device='cuda:0')\n",
      "tensor(2.1795, device='cuda:0', grad_fn=<MulBackward0>) tensor(1.5840, device='cuda:0', grad_fn=<NllLossBackward0>) tensor(0.9250, device='cuda:0', grad_fn=<NllLossBackward0>) 1940 0.0\n",
      "Epoch 332, Loss: 1170.490478515625\n",
      "tensor(6.5273, device='cuda:0')\n",
      "tensor(2.1711, device='cuda:0', grad_fn=<MulBackward0>) tensor(1.5834, device='cuda:0', grad_fn=<NllLossBackward0>) tensor(0.9251, device='cuda:0', grad_fn=<NllLossBackward0>) 1940 0.0\n",
      "Epoch 333, Loss: 1170.478515625\n",
      "tensor(6.5420, device='cuda:0')\n",
      "tensor(2.1626, device='cuda:0', grad_fn=<MulBackward0>) tensor(1.5832, device='cuda:0', grad_fn=<NllLossBackward0>) tensor(0.9249, device='cuda:0', grad_fn=<NllLossBackward0>) 1940 0.0\n",
      "Epoch 334, Loss: 1170.466796875\n",
      "tensor(6.5756, device='cuda:0')\n",
      "tensor(2.1542, device='cuda:0', grad_fn=<MulBackward0>) tensor(1.5845, device='cuda:0', grad_fn=<NllLossBackward0>) tensor(0.9250, device='cuda:0', grad_fn=<NllLossBackward0>) 1940 0.0\n",
      "Epoch 335, Loss: 1170.45849609375\n",
      "tensor(6.5735, device='cuda:0')\n",
      "tensor(2.1459, device='cuda:0', grad_fn=<MulBackward0>) tensor(1.5850, device='cuda:0', grad_fn=<NllLossBackward0>) tensor(0.9253, device='cuda:0', grad_fn=<NllLossBackward0>) 1940 0.0\n",
      "Epoch 336, Loss: 1170.4488525390625\n",
      "tensor(6.5882, device='cuda:0')\n",
      "tensor(2.1376, device='cuda:0', grad_fn=<MulBackward0>) tensor(1.5848, device='cuda:0', grad_fn=<NllLossBackward0>) tensor(0.9252, device='cuda:0', grad_fn=<NllLossBackward0>) 1940 0.0\n",
      "Epoch 337, Loss: 1170.4375\n",
      "tensor(6.6019, device='cuda:0')\n",
      "tensor(2.1293, device='cuda:0', grad_fn=<MulBackward0>) tensor(1.5848, device='cuda:0', grad_fn=<NllLossBackward0>) tensor(0.9252, device='cuda:0', grad_fn=<NllLossBackward0>) 1940 0.0\n",
      "Epoch 338, Loss: 1170.4268798828125\n",
      "tensor(6.6313, device='cuda:0')\n",
      "tensor(2.1211, device='cuda:0', grad_fn=<MulBackward0>) tensor(1.5838, device='cuda:0', grad_fn=<NllLossBackward0>) tensor(0.9250, device='cuda:0', grad_fn=<NllLossBackward0>) 1940 0.0\n",
      "Epoch 339, Loss: 1170.414306640625\n",
      "tensor(6.6366, device='cuda:0')\n",
      "tensor(2.1130, device='cuda:0', grad_fn=<MulBackward0>) tensor(1.5836, device='cuda:0', grad_fn=<NllLossBackward0>) tensor(0.9250, device='cuda:0', grad_fn=<NllLossBackward0>) 1940 0.0\n",
      "Epoch 340, Loss: 1170.4033203125\n",
      "tensor(6.6187, device='cuda:0')\n",
      "tensor(2.1049, device='cuda:0', grad_fn=<MulBackward0>) tensor(1.5830, device='cuda:0', grad_fn=<NllLossBackward0>) tensor(0.9251, device='cuda:0', grad_fn=<NllLossBackward0>) 1940 0.0\n",
      "Epoch 341, Loss: 1170.3916015625\n",
      "tensor(6.6134, device='cuda:0')\n",
      "tensor(2.0968, device='cuda:0', grad_fn=<MulBackward0>) tensor(1.5839, device='cuda:0', grad_fn=<NllLossBackward0>) tensor(0.9250, device='cuda:0', grad_fn=<NllLossBackward0>) 1940 0.0\n",
      "Epoch 342, Loss: 1170.3828125\n",
      "tensor(6.6092, device='cuda:0')\n",
      "tensor(2.0888, device='cuda:0', grad_fn=<MulBackward0>) tensor(1.5835, device='cuda:0', grad_fn=<NllLossBackward0>) tensor(0.9250, device='cuda:0', grad_fn=<NllLossBackward0>) 1940 0.0\n",
      "Epoch 343, Loss: 1170.3717041015625\n",
      "tensor(6.5924, device='cuda:0')\n",
      "tensor(2.0809, device='cuda:0', grad_fn=<MulBackward0>) tensor(1.5848, device='cuda:0', grad_fn=<NllLossBackward0>) tensor(0.9252, device='cuda:0', grad_fn=<NllLossBackward0>) 1940 0.0\n",
      "Epoch 344, Loss: 1170.36376953125\n",
      "tensor(6.6040, device='cuda:0')\n",
      "tensor(2.0729, device='cuda:0', grad_fn=<MulBackward0>) tensor(1.5838, device='cuda:0', grad_fn=<NllLossBackward0>) tensor(0.9251, device='cuda:0', grad_fn=<NllLossBackward0>) 1940 0.0\n",
      "Epoch 345, Loss: 1170.3516845703125\n",
      "tensor(6.5683, device='cuda:0')\n",
      "tensor(2.0651, device='cuda:0', grad_fn=<MulBackward0>) tensor(1.5834, device='cuda:0', grad_fn=<NllLossBackward0>) tensor(0.9250, device='cuda:0', grad_fn=<NllLossBackward0>) 1940 0.0\n",
      "Epoch 346, Loss: 1170.340576171875\n",
      "tensor(6.5756, device='cuda:0')\n",
      "tensor(2.0572, device='cuda:0', grad_fn=<MulBackward0>) tensor(1.5833, device='cuda:0', grad_fn=<NllLossBackward0>) tensor(0.9250, device='cuda:0', grad_fn=<NllLossBackward0>) 1940 0.0\n",
      "Epoch 347, Loss: 1170.330322265625\n",
      "tensor(6.5704, device='cuda:0')\n",
      "tensor(2.0495, device='cuda:0', grad_fn=<MulBackward0>) tensor(1.5829, device='cuda:0', grad_fn=<NllLossBackward0>) tensor(0.9250, device='cuda:0', grad_fn=<NllLossBackward0>) 1940 0.0\n",
      "Epoch 348, Loss: 1170.3193359375\n",
      "tensor(6.5588, device='cuda:0')\n",
      "tensor(2.0417, device='cuda:0', grad_fn=<MulBackward0>) tensor(1.5828, device='cuda:0', grad_fn=<NllLossBackward0>) tensor(0.9249, device='cuda:0', grad_fn=<NllLossBackward0>) 1940 0.0\n",
      "Epoch 349, Loss: 1170.3089599609375\n",
      "tensor(6.5735, device='cuda:0')\n",
      "tensor(2.0341, device='cuda:0', grad_fn=<MulBackward0>) tensor(1.5830, device='cuda:0', grad_fn=<NllLossBackward0>) tensor(0.9250, device='cuda:0', grad_fn=<NllLossBackward0>) 1940 0.0\n",
      "Epoch 350, Loss: 1170.299560546875\n",
      "tensor(6.5756, device='cuda:0')\n",
      "tensor(2.0264, device='cuda:0', grad_fn=<MulBackward0>) tensor(1.5824, device='cuda:0', grad_fn=<NllLossBackward0>) tensor(0.9248, device='cuda:0', grad_fn=<NllLossBackward0>) 1940 0.0\n",
      "Epoch 351, Loss: 1170.288330078125\n",
      "tensor(6.5788, device='cuda:0')\n",
      "tensor(2.0188, device='cuda:0', grad_fn=<MulBackward0>) tensor(1.5821, device='cuda:0', grad_fn=<NllLossBackward0>) tensor(0.9248, device='cuda:0', grad_fn=<NllLossBackward0>) 1940 0.0\n",
      "Epoch 352, Loss: 1170.27783203125\n",
      "tensor(6.6071, device='cuda:0')\n",
      "tensor(2.0113, device='cuda:0', grad_fn=<MulBackward0>) tensor(1.5829, device='cuda:0', grad_fn=<NllLossBackward0>) tensor(0.9250, device='cuda:0', grad_fn=<NllLossBackward0>) 1940 0.0\n",
      "Epoch 353, Loss: 1170.269775390625\n",
      "tensor(6.5756, device='cuda:0')\n",
      "tensor(2.0038, device='cuda:0', grad_fn=<MulBackward0>) tensor(1.5825, device='cuda:0', grad_fn=<NllLossBackward0>) tensor(0.9248, device='cuda:0', grad_fn=<NllLossBackward0>) 1940 0.0\n",
      "Epoch 354, Loss: 1170.259033203125\n",
      "tensor(6.5987, device='cuda:0')\n",
      "tensor(1.9963, device='cuda:0', grad_fn=<MulBackward0>) tensor(1.5824, device='cuda:0', grad_fn=<NllLossBackward0>) tensor(0.9250, device='cuda:0', grad_fn=<NllLossBackward0>) 1940 0.0\n",
      "Epoch 355, Loss: 1170.249267578125\n",
      "tensor(6.6103, device='cuda:0')\n",
      "tensor(1.9889, device='cuda:0', grad_fn=<MulBackward0>) tensor(1.5827, device='cuda:0', grad_fn=<NllLossBackward0>) tensor(0.9250, device='cuda:0', grad_fn=<NllLossBackward0>) 1940 0.0\n",
      "Epoch 356, Loss: 1170.2401123046875\n",
      "tensor(6.6387, device='cuda:0')\n",
      "tensor(1.9815, device='cuda:0', grad_fn=<MulBackward0>) tensor(1.5823, device='cuda:0', grad_fn=<NllLossBackward0>) tensor(0.9250, device='cuda:0', grad_fn=<NllLossBackward0>) 1940 0.0\n",
      "Epoch 357, Loss: 1170.22998046875\n",
      "tensor(6.6660, device='cuda:0')\n",
      "tensor(1.9742, device='cuda:0', grad_fn=<MulBackward0>) tensor(1.5826, device='cuda:0', grad_fn=<NllLossBackward0>) tensor(0.9250, device='cuda:0', grad_fn=<NllLossBackward0>) 1940 0.0\n",
      "Epoch 358, Loss: 1170.2208251953125\n",
      "tensor(6.6418, device='cuda:0')\n",
      "tensor(1.9669, device='cuda:0', grad_fn=<MulBackward0>) tensor(1.5832, device='cuda:0', grad_fn=<NllLossBackward0>) tensor(0.9250, device='cuda:0', grad_fn=<NllLossBackward0>) 1940 0.0\n",
      "Epoch 359, Loss: 1170.2125244140625\n",
      "tensor(6.6366, device='cuda:0')\n",
      "tensor(1.9597, device='cuda:0', grad_fn=<MulBackward0>) tensor(1.5830, device='cuda:0', grad_fn=<NllLossBackward0>) tensor(0.9250, device='cuda:0', grad_fn=<NllLossBackward0>) 1940 0.0\n",
      "Epoch 360, Loss: 1170.2027587890625\n",
      "tensor(6.6124, device='cuda:0')\n",
      "tensor(1.9525, device='cuda:0', grad_fn=<MulBackward0>) tensor(1.5820, device='cuda:0', grad_fn=<NllLossBackward0>) tensor(0.9250, device='cuda:0', grad_fn=<NllLossBackward0>) 1940 0.0\n",
      "Epoch 361, Loss: 1170.19140625\n",
      "tensor(6.5924, device='cuda:0')\n",
      "tensor(1.9453, device='cuda:0', grad_fn=<MulBackward0>) tensor(1.5842, device='cuda:0', grad_fn=<NllLossBackward0>) tensor(0.9251, device='cuda:0', grad_fn=<NllLossBackward0>) 1940 0.0\n",
      "Epoch 362, Loss: 1170.1864013671875\n",
      "tensor(6.5819, device='cuda:0')\n",
      "tensor(1.9382, device='cuda:0', grad_fn=<MulBackward0>) tensor(1.5827, device='cuda:0', grad_fn=<NllLossBackward0>) tensor(0.9250, device='cuda:0', grad_fn=<NllLossBackward0>) 1940 0.0\n",
      "Epoch 363, Loss: 1170.1741943359375\n",
      "tensor(6.5557, device='cuda:0')\n",
      "tensor(1.9311, device='cuda:0', grad_fn=<MulBackward0>) tensor(1.5824, device='cuda:0', grad_fn=<NllLossBackward0>) tensor(0.9249, device='cuda:0', grad_fn=<NllLossBackward0>) 1940 0.0\n",
      "Epoch 364, Loss: 1170.164306640625\n",
      "tensor(6.5504, device='cuda:0')\n",
      "tensor(1.9240, device='cuda:0', grad_fn=<MulBackward0>) tensor(1.5824, device='cuda:0', grad_fn=<NllLossBackward0>) tensor(0.9249, device='cuda:0', grad_fn=<NllLossBackward0>) 1940 0.0\n",
      "Epoch 365, Loss: 1170.1552734375\n",
      "tensor(6.5956, device='cuda:0')\n",
      "tensor(1.9170, device='cuda:0', grad_fn=<MulBackward0>) tensor(1.5826, device='cuda:0', grad_fn=<NllLossBackward0>) tensor(0.9249, device='cuda:0', grad_fn=<NllLossBackward0>) 1940 0.0\n",
      "Epoch 366, Loss: 1170.146484375\n",
      "tensor(6.6019, device='cuda:0')\n",
      "tensor(1.9101, device='cuda:0', grad_fn=<MulBackward0>) tensor(1.5815, device='cuda:0', grad_fn=<NllLossBackward0>) tensor(0.9248, device='cuda:0', grad_fn=<NllLossBackward0>) 1940 0.0\n",
      "Epoch 367, Loss: 1170.1353759765625\n",
      "tensor(6.6240, device='cuda:0')\n",
      "tensor(1.9032, device='cuda:0', grad_fn=<MulBackward0>) tensor(1.5823, device='cuda:0', grad_fn=<NllLossBackward0>) tensor(0.9249, device='cuda:0', grad_fn=<NllLossBackward0>) 1940 0.0\n",
      "Epoch 368, Loss: 1170.1279296875\n",
      "tensor(6.6134, device='cuda:0')\n",
      "tensor(1.8963, device='cuda:0', grad_fn=<MulBackward0>) tensor(1.5832, device='cuda:0', grad_fn=<NllLossBackward0>) tensor(0.9250, device='cuda:0', grad_fn=<NllLossBackward0>) 1940 0.0\n",
      "Epoch 369, Loss: 1170.1207275390625\n",
      "tensor(6.6197, device='cuda:0')\n",
      "tensor(1.8894, device='cuda:0', grad_fn=<MulBackward0>) tensor(1.5817, device='cuda:0', grad_fn=<NllLossBackward0>) tensor(0.9249, device='cuda:0', grad_fn=<NllLossBackward0>) 1940 0.0\n",
      "Epoch 370, Loss: 1170.10888671875\n",
      "tensor(6.6366, device='cuda:0')\n",
      "tensor(1.8826, device='cuda:0', grad_fn=<MulBackward0>) tensor(1.5818, device='cuda:0', grad_fn=<NllLossBackward0>) tensor(0.9249, device='cuda:0', grad_fn=<NllLossBackward0>) 1940 0.0\n",
      "Epoch 371, Loss: 1170.1002197265625\n",
      "tensor(6.6197, device='cuda:0')\n",
      "tensor(1.8759, device='cuda:0', grad_fn=<MulBackward0>) tensor(1.5835, device='cuda:0', grad_fn=<NllLossBackward0>) tensor(0.9251, device='cuda:0', grad_fn=<NllLossBackward0>) 1940 0.0\n",
      "Epoch 372, Loss: 1170.0948486328125\n",
      "tensor(6.6282, device='cuda:0')\n",
      "tensor(1.8691, device='cuda:0', grad_fn=<MulBackward0>) tensor(1.5810, device='cuda:0', grad_fn=<NllLossBackward0>) tensor(0.9248, device='cuda:0', grad_fn=<NllLossBackward0>) 1940 0.0\n",
      "Epoch 373, Loss: 1170.0810546875\n",
      "tensor(6.6376, device='cuda:0')\n",
      "tensor(1.8624, device='cuda:0', grad_fn=<MulBackward0>) tensor(1.5819, device='cuda:0', grad_fn=<NllLossBackward0>) tensor(0.9249, device='cuda:0', grad_fn=<NllLossBackward0>) 1940 0.0\n",
      "Epoch 374, Loss: 1170.07421875\n",
      "tensor(6.6397, device='cuda:0')\n",
      "tensor(1.8558, device='cuda:0', grad_fn=<MulBackward0>) tensor(1.5819, device='cuda:0', grad_fn=<NllLossBackward0>) tensor(0.9249, device='cuda:0', grad_fn=<NllLossBackward0>) 1940 0.0\n",
      "Epoch 375, Loss: 1170.0655517578125\n",
      "tensor(6.6481, device='cuda:0')\n",
      "tensor(1.8492, device='cuda:0', grad_fn=<MulBackward0>) tensor(1.5820, device='cuda:0', grad_fn=<NllLossBackward0>) tensor(0.9249, device='cuda:0', grad_fn=<NllLossBackward0>) 1940 0.0\n",
      "Epoch 376, Loss: 1170.0572509765625\n",
      "tensor(6.6197, device='cuda:0')\n",
      "tensor(1.8426, device='cuda:0', grad_fn=<MulBackward0>) tensor(1.5814, device='cuda:0', grad_fn=<NllLossBackward0>) tensor(0.9249, device='cuda:0', grad_fn=<NllLossBackward0>) 1940 0.0\n",
      "Epoch 377, Loss: 1170.047607421875\n",
      "tensor(6.6050, device='cuda:0')\n",
      "tensor(1.8361, device='cuda:0', grad_fn=<MulBackward0>) tensor(1.5827, device='cuda:0', grad_fn=<NllLossBackward0>) tensor(0.9249, device='cuda:0', grad_fn=<NllLossBackward0>) 1940 0.0\n",
      "Epoch 378, Loss: 1170.04150390625\n",
      "tensor(6.5914, device='cuda:0')\n",
      "tensor(1.8296, device='cuda:0', grad_fn=<MulBackward0>) tensor(1.5812, device='cuda:0', grad_fn=<NllLossBackward0>) tensor(0.9249, device='cuda:0', grad_fn=<NllLossBackward0>) 1940 0.0\n",
      "Epoch 379, Loss: 1170.0301513671875\n",
      "tensor(6.6124, device='cuda:0')\n",
      "tensor(1.8231, device='cuda:0', grad_fn=<MulBackward0>) tensor(1.5816, device='cuda:0', grad_fn=<NllLossBackward0>) tensor(0.9249, device='cuda:0', grad_fn=<NllLossBackward0>) 1940 0.0\n",
      "Epoch 380, Loss: 1170.0224609375\n",
      "tensor(6.5735, device='cuda:0')\n",
      "tensor(1.8167, device='cuda:0', grad_fn=<MulBackward0>) tensor(1.5823, device='cuda:0', grad_fn=<NllLossBackward0>) tensor(0.9249, device='cuda:0', grad_fn=<NllLossBackward0>) 1940 0.0\n",
      "Epoch 381, Loss: 1170.0155029296875\n",
      "tensor(6.6176, device='cuda:0')\n",
      "tensor(1.8102, device='cuda:0', grad_fn=<MulBackward0>) tensor(1.5807, device='cuda:0', grad_fn=<NllLossBackward0>) tensor(0.9248, device='cuda:0', grad_fn=<NllLossBackward0>) 1940 0.0\n",
      "Epoch 382, Loss: 1170.00390625\n",
      "tensor(6.6345, device='cuda:0')\n",
      "tensor(1.8037, device='cuda:0', grad_fn=<MulBackward0>) tensor(1.5815, device='cuda:0', grad_fn=<NllLossBackward0>) tensor(0.9249, device='cuda:0', grad_fn=<NllLossBackward0>) 1940 0.0\n",
      "Epoch 383, Loss: 1169.9970703125\n",
      "tensor(6.6313, device='cuda:0')\n",
      "tensor(1.7973, device='cuda:0', grad_fn=<MulBackward0>) tensor(1.5811, device='cuda:0', grad_fn=<NllLossBackward0>) tensor(0.9249, device='cuda:0', grad_fn=<NllLossBackward0>) 1940 0.0\n",
      "Epoch 384, Loss: 1169.9879150390625\n",
      "tensor(6.6492, device='cuda:0')\n",
      "tensor(1.7909, device='cuda:0', grad_fn=<MulBackward0>) tensor(1.5812, device='cuda:0', grad_fn=<NllLossBackward0>) tensor(0.9249, device='cuda:0', grad_fn=<NllLossBackward0>) 1940 0.0\n",
      "Epoch 385, Loss: 1169.97998046875\n",
      "tensor(6.6502, device='cuda:0')\n",
      "tensor(1.7847, device='cuda:0', grad_fn=<MulBackward0>) tensor(1.5817, device='cuda:0', grad_fn=<NllLossBackward0>) tensor(0.9249, device='cuda:0', grad_fn=<NllLossBackward0>) 1940 0.0\n",
      "Epoch 386, Loss: 1169.97265625\n",
      "tensor(6.6765, device='cuda:0')\n",
      "tensor(1.7784, device='cuda:0', grad_fn=<MulBackward0>) tensor(1.5821, device='cuda:0', grad_fn=<NllLossBackward0>) tensor(0.9249, device='cuda:0', grad_fn=<NllLossBackward0>) 1940 0.0\n",
      "Epoch 387, Loss: 1169.96533203125\n",
      "tensor(6.6639, device='cuda:0')\n",
      "tensor(1.7721, device='cuda:0', grad_fn=<MulBackward0>) tensor(1.5815, device='cuda:0', grad_fn=<NllLossBackward0>) tensor(0.9249, device='cuda:0', grad_fn=<NllLossBackward0>) 1940 0.0\n",
      "Epoch 388, Loss: 1169.9559326171875\n",
      "tensor(6.6912, device='cuda:0')\n",
      "tensor(1.7659, device='cuda:0', grad_fn=<MulBackward0>) tensor(1.5808, device='cuda:0', grad_fn=<NllLossBackward0>) tensor(0.9248, device='cuda:0', grad_fn=<NllLossBackward0>) 1940 0.0\n",
      "Epoch 389, Loss: 1169.946533203125\n",
      "tensor(6.6586, device='cuda:0')\n",
      "tensor(1.7597, device='cuda:0', grad_fn=<MulBackward0>) tensor(1.5809, device='cuda:0', grad_fn=<NllLossBackward0>) tensor(0.9248, device='cuda:0', grad_fn=<NllLossBackward0>) 1940 0.0\n",
      "Epoch 390, Loss: 1169.938720703125\n",
      "tensor(6.6418, device='cuda:0')\n",
      "tensor(1.7536, device='cuda:0', grad_fn=<MulBackward0>) tensor(1.5814, device='cuda:0', grad_fn=<NllLossBackward0>) tensor(0.9248, device='cuda:0', grad_fn=<NllLossBackward0>) 1940 0.0\n",
      "Epoch 391, Loss: 1169.931640625\n",
      "tensor(6.6366, device='cuda:0')\n",
      "tensor(1.7475, device='cuda:0', grad_fn=<MulBackward0>) tensor(1.5814, device='cuda:0', grad_fn=<NllLossBackward0>) tensor(0.9248, device='cuda:0', grad_fn=<NllLossBackward0>) 1940 0.0\n",
      "Epoch 392, Loss: 1169.9237060546875\n",
      "tensor(6.6292, device='cuda:0')\n",
      "tensor(1.7414, device='cuda:0', grad_fn=<MulBackward0>) tensor(1.5808, device='cuda:0', grad_fn=<NllLossBackward0>) tensor(0.9249, device='cuda:0', grad_fn=<NllLossBackward0>) 1940 0.0\n",
      "Epoch 393, Loss: 1169.914794921875\n",
      "tensor(6.5987, device='cuda:0')\n",
      "tensor(1.7354, device='cuda:0', grad_fn=<MulBackward0>) tensor(1.5810, device='cuda:0', grad_fn=<NllLossBackward0>) tensor(0.9248, device='cuda:0', grad_fn=<NllLossBackward0>) 1940 0.0\n",
      "Epoch 394, Loss: 1169.9073486328125\n",
      "tensor(6.5893, device='cuda:0')\n",
      "tensor(1.7294, device='cuda:0', grad_fn=<MulBackward0>) tensor(1.5821, device='cuda:0', grad_fn=<NllLossBackward0>) tensor(0.9249, device='cuda:0', grad_fn=<NllLossBackward0>) 1940 0.0\n",
      "Epoch 395, Loss: 1169.901611328125\n",
      "tensor(6.5966, device='cuda:0')\n",
      "tensor(1.7235, device='cuda:0', grad_fn=<MulBackward0>) tensor(1.5817, device='cuda:0', grad_fn=<NllLossBackward0>) tensor(0.9248, device='cuda:0', grad_fn=<NllLossBackward0>) 1940 0.0\n",
      "Epoch 396, Loss: 1169.8931884765625\n",
      "tensor(6.5735, device='cuda:0')\n",
      "tensor(1.7176, device='cuda:0', grad_fn=<MulBackward0>) tensor(1.5813, device='cuda:0', grad_fn=<NllLossBackward0>) tensor(0.9248, device='cuda:0', grad_fn=<NllLossBackward0>) 1940 0.0\n",
      "Epoch 397, Loss: 1169.884765625\n",
      "tensor(6.6345, device='cuda:0')\n",
      "tensor(1.7117, device='cuda:0', grad_fn=<MulBackward0>) tensor(1.5807, device='cuda:0', grad_fn=<NllLossBackward0>) tensor(0.9248, device='cuda:0', grad_fn=<NllLossBackward0>) 1940 0.0\n",
      "Epoch 398, Loss: 1169.8759765625\n",
      "tensor(6.6324, device='cuda:0')\n",
      "tensor(1.7058, device='cuda:0', grad_fn=<MulBackward0>) tensor(1.5807, device='cuda:0', grad_fn=<NllLossBackward0>) tensor(0.9248, device='cuda:0', grad_fn=<NllLossBackward0>) 1940 0.0\n",
      "Epoch 399, Loss: 1169.868408203125\n",
      "tensor(6.6681, device='cuda:0')\n",
      "tensor(1.7000, device='cuda:0', grad_fn=<MulBackward0>) tensor(1.5827, device='cuda:0', grad_fn=<NllLossBackward0>) tensor(0.9250, device='cuda:0', grad_fn=<NllLossBackward0>) 1940 0.0\n",
      "Epoch 400, Loss: 1169.86474609375\n",
      "tensor(6.6933, device='cuda:0')\n",
      "tensor(1.6942, device='cuda:0', grad_fn=<MulBackward0>) tensor(1.5804, device='cuda:0', grad_fn=<NllLossBackward0>) tensor(0.9248, device='cuda:0', grad_fn=<NllLossBackward0>) 1940 0.0\n",
      "Epoch 401, Loss: 1169.8526611328125\n",
      "tensor(6.6607, device='cuda:0')\n",
      "tensor(1.6885, device='cuda:0', grad_fn=<MulBackward0>) tensor(1.5805, device='cuda:0', grad_fn=<NllLossBackward0>) tensor(0.9248, device='cuda:0', grad_fn=<NllLossBackward0>) 1940 0.0\n",
      "Epoch 402, Loss: 1169.8453369140625\n",
      "tensor(6.6922, device='cuda:0')\n",
      "tensor(1.6828, device='cuda:0', grad_fn=<MulBackward0>) tensor(1.5804, device='cuda:0', grad_fn=<NllLossBackward0>) tensor(0.9247, device='cuda:0', grad_fn=<NllLossBackward0>) 1940 0.0\n",
      "Epoch 403, Loss: 1169.837646484375\n",
      "tensor(6.6471, device='cuda:0')\n",
      "tensor(1.6771, device='cuda:0', grad_fn=<MulBackward0>) tensor(1.5803, device='cuda:0', grad_fn=<NllLossBackward0>) tensor(0.9248, device='cuda:0', grad_fn=<NllLossBackward0>) 1940 0.0\n",
      "Epoch 404, Loss: 1169.830078125\n",
      "tensor(6.6544, device='cuda:0')\n",
      "tensor(1.6714, device='cuda:0', grad_fn=<MulBackward0>) tensor(1.5805, device='cuda:0', grad_fn=<NllLossBackward0>) tensor(0.9247, device='cuda:0', grad_fn=<NllLossBackward0>) 1940 0.0\n",
      "Epoch 405, Loss: 1169.822998046875\n",
      "tensor(6.6366, device='cuda:0')\n",
      "tensor(1.6658, device='cuda:0', grad_fn=<MulBackward0>) tensor(1.5808, device='cuda:0', grad_fn=<NllLossBackward0>) tensor(0.9248, device='cuda:0', grad_fn=<NllLossBackward0>) 1940 0.0\n",
      "Epoch 406, Loss: 1169.81640625\n",
      "tensor(6.6218, device='cuda:0')\n",
      "tensor(1.6602, device='cuda:0', grad_fn=<MulBackward0>) tensor(1.5819, device='cuda:0', grad_fn=<NllLossBackward0>) tensor(0.9249, device='cuda:0', grad_fn=<NllLossBackward0>) 1940 0.0\n",
      "Epoch 407, Loss: 1169.811279296875\n",
      "tensor(6.6103, device='cuda:0')\n",
      "tensor(1.6546, device='cuda:0', grad_fn=<MulBackward0>) tensor(1.5802, device='cuda:0', grad_fn=<NllLossBackward0>) tensor(0.9248, device='cuda:0', grad_fn=<NllLossBackward0>) 1940 0.0\n",
      "Epoch 408, Loss: 1169.8006591796875\n",
      "tensor(6.5987, device='cuda:0')\n",
      "tensor(1.6491, device='cuda:0', grad_fn=<MulBackward0>) tensor(1.5812, device='cuda:0', grad_fn=<NllLossBackward0>) tensor(0.9248, device='cuda:0', grad_fn=<NllLossBackward0>) 1940 0.0\n",
      "Epoch 409, Loss: 1169.7955322265625\n",
      "tensor(6.6334, device='cuda:0')\n",
      "tensor(1.6436, device='cuda:0', grad_fn=<MulBackward0>) tensor(1.5802, device='cuda:0', grad_fn=<NllLossBackward0>) tensor(0.9248, device='cuda:0', grad_fn=<NllLossBackward0>) 1940 0.0\n",
      "Epoch 410, Loss: 1169.786376953125\n",
      "tensor(6.6303, device='cuda:0')\n",
      "tensor(1.6381, device='cuda:0', grad_fn=<MulBackward0>) tensor(1.5823, device='cuda:0', grad_fn=<NllLossBackward0>) tensor(0.9249, device='cuda:0', grad_fn=<NllLossBackward0>) 1940 0.0\n",
      "Epoch 411, Loss: 1169.783447265625\n",
      "tensor(6.6586, device='cuda:0')\n",
      "tensor(1.6326, device='cuda:0', grad_fn=<MulBackward0>) tensor(1.5807, device='cuda:0', grad_fn=<NllLossBackward0>) tensor(0.9248, device='cuda:0', grad_fn=<NllLossBackward0>) 1940 0.0\n",
      "Epoch 412, Loss: 1169.77294921875\n",
      "tensor(6.6544, device='cuda:0')\n",
      "tensor(1.6272, device='cuda:0', grad_fn=<MulBackward0>) tensor(1.5803, device='cuda:0', grad_fn=<NllLossBackward0>) tensor(0.9248, device='cuda:0', grad_fn=<NllLossBackward0>) 1940 0.0\n",
      "Epoch 413, Loss: 1169.765380859375\n",
      "tensor(6.6597, device='cuda:0')\n",
      "tensor(1.6218, device='cuda:0', grad_fn=<MulBackward0>) tensor(1.5816, device='cuda:0', grad_fn=<NllLossBackward0>) tensor(0.9249, device='cuda:0', grad_fn=<NllLossBackward0>) 1940 0.0\n",
      "Epoch 414, Loss: 1169.7607421875\n",
      "tensor(6.6765, device='cuda:0')\n",
      "tensor(1.6164, device='cuda:0', grad_fn=<MulBackward0>) tensor(1.5808, device='cuda:0', grad_fn=<NllLossBackward0>) tensor(0.9248, device='cuda:0', grad_fn=<NllLossBackward0>) 1940 0.0\n",
      "Epoch 415, Loss: 1169.752197265625\n",
      "tensor(6.6975, device='cuda:0')\n",
      "tensor(1.6111, device='cuda:0', grad_fn=<MulBackward0>) tensor(1.5814, device='cuda:0', grad_fn=<NllLossBackward0>) tensor(0.9249, device='cuda:0', grad_fn=<NllLossBackward0>) 1940 0.0\n",
      "Epoch 416, Loss: 1169.7464599609375\n",
      "tensor(6.6754, device='cuda:0')\n",
      "tensor(1.6058, device='cuda:0', grad_fn=<MulBackward0>) tensor(1.5797, device='cuda:0', grad_fn=<NllLossBackward0>) tensor(0.9247, device='cuda:0', grad_fn=<NllLossBackward0>) 1940 0.0\n",
      "Epoch 417, Loss: 1169.736328125\n",
      "tensor(6.6880, device='cuda:0')\n",
      "tensor(1.6005, device='cuda:0', grad_fn=<MulBackward0>) tensor(1.5804, device='cuda:0', grad_fn=<NllLossBackward0>) tensor(0.9248, device='cuda:0', grad_fn=<NllLossBackward0>) 1940 0.0\n",
      "Epoch 418, Loss: 1169.73095703125\n",
      "tensor(6.6586, device='cuda:0')\n",
      "tensor(1.5952, device='cuda:0', grad_fn=<MulBackward0>) tensor(1.5806, device='cuda:0', grad_fn=<NllLossBackward0>) tensor(0.9248, device='cuda:0', grad_fn=<NllLossBackward0>) 1940 0.0\n",
      "Epoch 419, Loss: 1169.724365234375\n",
      "tensor(6.6618, device='cuda:0')\n",
      "tensor(1.5901, device='cuda:0', grad_fn=<MulBackward0>) tensor(1.5802, device='cuda:0', grad_fn=<NllLossBackward0>) tensor(0.9248, device='cuda:0', grad_fn=<NllLossBackward0>) 1940 0.0\n",
      "Epoch 420, Loss: 1169.716796875\n",
      "tensor(6.6702, device='cuda:0')\n",
      "tensor(1.5848, device='cuda:0', grad_fn=<MulBackward0>) tensor(1.5810, device='cuda:0', grad_fn=<NllLossBackward0>) tensor(0.9249, device='cuda:0', grad_fn=<NllLossBackward0>) 1940 0.0\n",
      "Epoch 421, Loss: 1169.711669921875\n",
      "tensor(6.6355, device='cuda:0')\n",
      "tensor(1.5796, device='cuda:0', grad_fn=<MulBackward0>) tensor(1.5809, device='cuda:0', grad_fn=<NllLossBackward0>) tensor(0.9249, device='cuda:0', grad_fn=<NllLossBackward0>) 1940 0.0\n",
      "Epoch 422, Loss: 1169.7047119140625\n",
      "tensor(6.6334, device='cuda:0')\n",
      "tensor(1.5745, device='cuda:0', grad_fn=<MulBackward0>) tensor(1.5806, device='cuda:0', grad_fn=<NllLossBackward0>) tensor(0.9248, device='cuda:0', grad_fn=<NllLossBackward0>) 1940 0.0\n",
      "Epoch 423, Loss: 1169.6973876953125\n",
      "tensor(6.6355, device='cuda:0')\n",
      "tensor(1.5694, device='cuda:0', grad_fn=<MulBackward0>) tensor(1.5800, device='cuda:0', grad_fn=<NllLossBackward0>) tensor(0.9248, device='cuda:0', grad_fn=<NllLossBackward0>) 1940 0.0\n",
      "Epoch 424, Loss: 1169.6895751953125\n",
      "tensor(6.6187, device='cuda:0')\n",
      "tensor(1.5642, device='cuda:0', grad_fn=<MulBackward0>) tensor(1.5800, device='cuda:0', grad_fn=<NllLossBackward0>) tensor(0.9248, device='cuda:0', grad_fn=<NllLossBackward0>) 1940 0.0\n",
      "Epoch 425, Loss: 1169.682861328125\n",
      "tensor(6.6429, device='cuda:0')\n",
      "tensor(1.5592, device='cuda:0', grad_fn=<MulBackward0>) tensor(1.5794, device='cuda:0', grad_fn=<NllLossBackward0>) tensor(0.9247, device='cuda:0', grad_fn=<NllLossBackward0>) 1940 0.0\n",
      "Epoch 426, Loss: 1169.6751708984375\n",
      "tensor(6.6534, device='cuda:0')\n",
      "tensor(1.5541, device='cuda:0', grad_fn=<MulBackward0>) tensor(1.5801, device='cuda:0', grad_fn=<NllLossBackward0>) tensor(0.9248, device='cuda:0', grad_fn=<NllLossBackward0>) 1940 0.0\n",
      "Epoch 427, Loss: 1169.6697998046875\n",
      "tensor(6.6113, device='cuda:0')\n",
      "tensor(1.5491, device='cuda:0', grad_fn=<MulBackward0>) tensor(1.5798, device='cuda:0', grad_fn=<NllLossBackward0>) tensor(0.9248, device='cuda:0', grad_fn=<NllLossBackward0>) 1940 0.0\n",
      "Epoch 428, Loss: 1169.6627197265625\n",
      "tensor(6.6197, device='cuda:0')\n",
      "tensor(1.5440, device='cuda:0', grad_fn=<MulBackward0>) tensor(1.5801, device='cuda:0', grad_fn=<NllLossBackward0>) tensor(0.9248, device='cuda:0', grad_fn=<NllLossBackward0>) 1940 0.0\n",
      "Epoch 429, Loss: 1169.6568603515625\n",
      "tensor(6.6502, device='cuda:0')\n",
      "tensor(1.5391, device='cuda:0', grad_fn=<MulBackward0>) tensor(1.5793, device='cuda:0', grad_fn=<NllLossBackward0>) tensor(0.9247, device='cuda:0', grad_fn=<NllLossBackward0>) 1940 0.0\n",
      "Epoch 430, Loss: 1169.6488037109375\n",
      "tensor(6.6607, device='cuda:0')\n",
      "tensor(1.5341, device='cuda:0', grad_fn=<MulBackward0>) tensor(1.5806, device='cuda:0', grad_fn=<NllLossBackward0>) tensor(0.9248, device='cuda:0', grad_fn=<NllLossBackward0>) 1940 0.0\n",
      "Epoch 431, Loss: 1169.644775390625\n",
      "tensor(6.6744, device='cuda:0')\n",
      "tensor(1.5292, device='cuda:0', grad_fn=<MulBackward0>) tensor(1.5797, device='cuda:0', grad_fn=<NllLossBackward0>) tensor(0.9248, device='cuda:0', grad_fn=<NllLossBackward0>) 1940 0.0\n",
      "Epoch 432, Loss: 1169.63671875\n",
      "tensor(6.7038, device='cuda:0')\n",
      "tensor(1.5243, device='cuda:0', grad_fn=<MulBackward0>) tensor(1.5801, device='cuda:0', grad_fn=<NllLossBackward0>) tensor(0.9248, device='cuda:0', grad_fn=<NllLossBackward0>) 1940 0.0\n",
      "Epoch 433, Loss: 1169.6309814453125\n",
      "tensor(6.6544, device='cuda:0')\n",
      "tensor(1.5194, device='cuda:0', grad_fn=<MulBackward0>) tensor(1.5799, device='cuda:0', grad_fn=<NllLossBackward0>) tensor(0.9248, device='cuda:0', grad_fn=<NllLossBackward0>) 1940 0.0\n",
      "Epoch 434, Loss: 1169.624267578125\n",
      "tensor(6.6607, device='cuda:0')\n",
      "tensor(1.5145, device='cuda:0', grad_fn=<MulBackward0>) tensor(1.5790, device='cuda:0', grad_fn=<NllLossBackward0>) tensor(0.9247, device='cuda:0', grad_fn=<NllLossBackward0>) 1940 0.0\n",
      "Epoch 435, Loss: 1169.6163330078125\n",
      "tensor(6.6229, device='cuda:0')\n",
      "tensor(1.5097, device='cuda:0', grad_fn=<MulBackward0>) tensor(1.5803, device='cuda:0', grad_fn=<NllLossBackward0>) tensor(0.9248, device='cuda:0', grad_fn=<NllLossBackward0>) 1940 0.0\n",
      "Epoch 436, Loss: 1169.6124267578125\n",
      "tensor(6.6387, device='cuda:0')\n",
      "tensor(1.5048, device='cuda:0', grad_fn=<MulBackward0>) tensor(1.5794, device='cuda:0', grad_fn=<NllLossBackward0>) tensor(0.9247, device='cuda:0', grad_fn=<NllLossBackward0>) 1940 0.0\n",
      "Epoch 437, Loss: 1169.6044921875\n",
      "tensor(6.6649, device='cuda:0')\n",
      "tensor(1.5000, device='cuda:0', grad_fn=<MulBackward0>) tensor(1.5795, device='cuda:0', grad_fn=<NllLossBackward0>) tensor(0.9248, device='cuda:0', grad_fn=<NllLossBackward0>) 1940 0.0\n",
      "Epoch 438, Loss: 1169.5985107421875\n",
      "tensor(6.6481, device='cuda:0')\n",
      "tensor(1.4953, device='cuda:0', grad_fn=<MulBackward0>) tensor(1.5794, device='cuda:0', grad_fn=<NllLossBackward0>) tensor(0.9247, device='cuda:0', grad_fn=<NllLossBackward0>) 1940 0.0\n",
      "Epoch 439, Loss: 1169.5921630859375\n",
      "tensor(6.6471, device='cuda:0')\n",
      "tensor(1.4905, device='cuda:0', grad_fn=<MulBackward0>) tensor(1.5798, device='cuda:0', grad_fn=<NllLossBackward0>) tensor(0.9248, device='cuda:0', grad_fn=<NllLossBackward0>) 1940 0.0\n",
      "Epoch 440, Loss: 1169.5865478515625\n",
      "tensor(6.6513, device='cuda:0')\n",
      "tensor(1.4858, device='cuda:0', grad_fn=<MulBackward0>) tensor(1.5799, device='cuda:0', grad_fn=<NllLossBackward0>) tensor(0.9248, device='cuda:0', grad_fn=<NllLossBackward0>) 1940 0.0\n",
      "Epoch 441, Loss: 1169.5806884765625\n",
      "tensor(6.6481, device='cuda:0')\n",
      "tensor(1.4811, device='cuda:0', grad_fn=<MulBackward0>) tensor(1.5801, device='cuda:0', grad_fn=<NllLossBackward0>) tensor(0.9248, device='cuda:0', grad_fn=<NllLossBackward0>) 1940 0.0\n",
      "Epoch 442, Loss: 1169.5748291015625\n",
      "tensor(6.6313, device='cuda:0')\n",
      "tensor(1.4764, device='cuda:0', grad_fn=<MulBackward0>) tensor(1.5788, device='cuda:0', grad_fn=<NllLossBackward0>) tensor(0.9247, device='cuda:0', grad_fn=<NllLossBackward0>) 1940 0.0\n",
      "Epoch 443, Loss: 1169.56640625\n",
      "tensor(6.6155, device='cuda:0')\n",
      "tensor(1.4717, device='cuda:0', grad_fn=<MulBackward0>) tensor(1.5798, device='cuda:0', grad_fn=<NllLossBackward0>) tensor(0.9248, device='cuda:0', grad_fn=<NllLossBackward0>) 1940 0.0\n",
      "Epoch 444, Loss: 1169.5621337890625\n",
      "tensor(6.6334, device='cuda:0')\n",
      "tensor(1.4671, device='cuda:0', grad_fn=<MulBackward0>) tensor(1.5789, device='cuda:0', grad_fn=<NllLossBackward0>) tensor(0.9247, device='cuda:0', grad_fn=<NllLossBackward0>) 1940 0.0\n",
      "Epoch 445, Loss: 1169.554443359375\n",
      "tensor(6.6208, device='cuda:0')\n",
      "tensor(1.4625, device='cuda:0', grad_fn=<MulBackward0>) tensor(1.5802, device='cuda:0', grad_fn=<NllLossBackward0>) tensor(0.9248, device='cuda:0', grad_fn=<NllLossBackward0>) 1940 0.0\n",
      "Epoch 446, Loss: 1169.5509033203125\n",
      "tensor(6.6460, device='cuda:0')\n",
      "tensor(1.4579, device='cuda:0', grad_fn=<MulBackward0>) tensor(1.5787, device='cuda:0', grad_fn=<NllLossBackward0>) tensor(0.9247, device='cuda:0', grad_fn=<NllLossBackward0>) 1940 0.0\n",
      "Epoch 447, Loss: 1169.5421142578125\n",
      "tensor(6.6250, device='cuda:0')\n",
      "tensor(1.4533, device='cuda:0', grad_fn=<MulBackward0>) tensor(1.5792, device='cuda:0', grad_fn=<NllLossBackward0>) tensor(0.9247, device='cuda:0', grad_fn=<NllLossBackward0>) 1940 0.0\n",
      "Epoch 448, Loss: 1169.537109375\n",
      "tensor(6.6754, device='cuda:0')\n",
      "tensor(1.4487, device='cuda:0', grad_fn=<MulBackward0>) tensor(1.5792, device='cuda:0', grad_fn=<NllLossBackward0>) tensor(0.9247, device='cuda:0', grad_fn=<NllLossBackward0>) 1940 0.0\n",
      "Epoch 449, Loss: 1169.5311279296875\n",
      "tensor(6.6618, device='cuda:0')\n",
      "tensor(1.4442, device='cuda:0', grad_fn=<MulBackward0>) tensor(1.5803, device='cuda:0', grad_fn=<NllLossBackward0>) tensor(0.9248, device='cuda:0', grad_fn=<NllLossBackward0>) 1940 0.0\n",
      "Epoch 450, Loss: 1169.52734375\n",
      "tensor(6.6639, device='cuda:0')\n",
      "tensor(1.4397, device='cuda:0', grad_fn=<MulBackward0>) tensor(1.5793, device='cuda:0', grad_fn=<NllLossBackward0>) tensor(0.9248, device='cuda:0', grad_fn=<NllLossBackward0>) 1940 0.0\n",
      "Epoch 451, Loss: 1169.519775390625\n",
      "tensor(6.6849, device='cuda:0')\n",
      "tensor(1.4352, device='cuda:0', grad_fn=<MulBackward0>) tensor(1.5790, device='cuda:0', grad_fn=<NllLossBackward0>) tensor(0.9248, device='cuda:0', grad_fn=<NllLossBackward0>) 1940 0.0\n",
      "Epoch 452, Loss: 1169.5133056640625\n",
      "tensor(6.6744, device='cuda:0')\n",
      "tensor(1.4308, device='cuda:0', grad_fn=<MulBackward0>) tensor(1.5795, device='cuda:0', grad_fn=<NllLossBackward0>) tensor(0.9248, device='cuda:0', grad_fn=<NllLossBackward0>) 1940 0.0\n",
      "Epoch 453, Loss: 1169.50830078125\n",
      "tensor(6.6639, device='cuda:0')\n",
      "tensor(1.4263, device='cuda:0', grad_fn=<MulBackward0>) tensor(1.5798, device='cuda:0', grad_fn=<NllLossBackward0>) tensor(0.9248, device='cuda:0', grad_fn=<NllLossBackward0>) 1940 0.0\n",
      "Epoch 454, Loss: 1169.5032958984375\n",
      "tensor(6.6324, device='cuda:0')\n",
      "tensor(1.4219, device='cuda:0', grad_fn=<MulBackward0>) tensor(1.5796, device='cuda:0', grad_fn=<NllLossBackward0>) tensor(0.9248, device='cuda:0', grad_fn=<NllLossBackward0>) 1940 0.0\n",
      "Epoch 455, Loss: 1169.4969482421875\n",
      "tensor(6.6681, device='cuda:0')\n",
      "tensor(1.4175, device='cuda:0', grad_fn=<MulBackward0>) tensor(1.5785, device='cuda:0', grad_fn=<NllLossBackward0>) tensor(0.9247, device='cuda:0', grad_fn=<NllLossBackward0>) 1940 0.0\n",
      "Epoch 456, Loss: 1169.4892578125\n",
      "tensor(6.6439, device='cuda:0')\n",
      "tensor(1.4131, device='cuda:0', grad_fn=<MulBackward0>) tensor(1.5785, device='cuda:0', grad_fn=<NllLossBackward0>) tensor(0.9247, device='cuda:0', grad_fn=<NllLossBackward0>) 1940 0.0\n",
      "Epoch 457, Loss: 1169.4835205078125\n",
      "tensor(6.6502, device='cuda:0')\n",
      "tensor(1.4087, device='cuda:0', grad_fn=<MulBackward0>) tensor(1.5796, device='cuda:0', grad_fn=<NllLossBackward0>) tensor(0.9248, device='cuda:0', grad_fn=<NllLossBackward0>) 1940 0.0\n",
      "Epoch 458, Loss: 1169.4798583984375\n",
      "tensor(6.6607, device='cuda:0')\n",
      "tensor(1.4044, device='cuda:0', grad_fn=<MulBackward0>) tensor(1.5798, device='cuda:0', grad_fn=<NllLossBackward0>) tensor(0.9248, device='cuda:0', grad_fn=<NllLossBackward0>) 1940 0.0\n",
      "Epoch 459, Loss: 1169.474609375\n",
      "tensor(6.6355, device='cuda:0')\n",
      "tensor(1.4001, device='cuda:0', grad_fn=<MulBackward0>) tensor(1.5798, device='cuda:0', grad_fn=<NllLossBackward0>) tensor(0.9248, device='cuda:0', grad_fn=<NllLossBackward0>) 1940 0.0\n",
      "Epoch 460, Loss: 1169.468994140625\n",
      "tensor(6.6555, device='cuda:0')\n",
      "tensor(1.3958, device='cuda:0', grad_fn=<MulBackward0>) tensor(1.5795, device='cuda:0', grad_fn=<NllLossBackward0>) tensor(0.9248, device='cuda:0', grad_fn=<NllLossBackward0>) 1940 0.0\n",
      "Epoch 461, Loss: 1169.4627685546875\n",
      "tensor(6.6334, device='cuda:0')\n",
      "tensor(1.3915, device='cuda:0', grad_fn=<MulBackward0>) tensor(1.5792, device='cuda:0', grad_fn=<NllLossBackward0>) tensor(0.9247, device='cuda:0', grad_fn=<NllLossBackward0>) 1940 0.0\n",
      "Epoch 462, Loss: 1169.4566650390625\n",
      "tensor(6.6366, device='cuda:0')\n",
      "tensor(1.3872, device='cuda:0', grad_fn=<MulBackward0>) tensor(1.5783, device='cuda:0', grad_fn=<NllLossBackward0>) tensor(0.9247, device='cuda:0', grad_fn=<NllLossBackward0>) 1940 0.0\n",
      "Epoch 463, Loss: 1169.4493408203125\n",
      "tensor(6.6513, device='cuda:0')\n",
      "tensor(1.3829, device='cuda:0', grad_fn=<MulBackward0>) tensor(1.5791, device='cuda:0', grad_fn=<NllLossBackward0>) tensor(0.9248, device='cuda:0', grad_fn=<NllLossBackward0>) 1940 0.0\n",
      "Epoch 464, Loss: 1169.4454345703125\n",
      "tensor(6.6607, device='cuda:0')\n",
      "tensor(1.3787, device='cuda:0', grad_fn=<MulBackward0>) tensor(1.5785, device='cuda:0', grad_fn=<NllLossBackward0>) tensor(0.9247, device='cuda:0', grad_fn=<NllLossBackward0>) 1940 0.0\n",
      "Epoch 465, Loss: 1169.438720703125\n",
      "tensor(6.6702, device='cuda:0')\n",
      "tensor(1.3745, device='cuda:0', grad_fn=<MulBackward0>) tensor(1.5785, device='cuda:0', grad_fn=<NllLossBackward0>) tensor(0.9247, device='cuda:0', grad_fn=<NllLossBackward0>) 1940 0.0\n",
      "Epoch 466, Loss: 1169.4332275390625\n",
      "tensor(6.7080, device='cuda:0')\n",
      "tensor(1.3702, device='cuda:0', grad_fn=<MulBackward0>) tensor(1.5782, device='cuda:0', grad_fn=<NllLossBackward0>) tensor(0.9247, device='cuda:0', grad_fn=<NllLossBackward0>) 1940 0.0\n",
      "Epoch 467, Loss: 1169.4271240234375\n",
      "tensor(6.7006, device='cuda:0')\n",
      "tensor(1.3661, device='cuda:0', grad_fn=<MulBackward0>) tensor(1.5782, device='cuda:0', grad_fn=<NllLossBackward0>) tensor(0.9247, device='cuda:0', grad_fn=<NllLossBackward0>) 1940 0.0\n",
      "Epoch 468, Loss: 1169.4217529296875\n",
      "tensor(6.6985, device='cuda:0')\n",
      "tensor(1.3619, device='cuda:0', grad_fn=<MulBackward0>) tensor(1.5789, device='cuda:0', grad_fn=<NllLossBackward0>) tensor(0.9247, device='cuda:0', grad_fn=<NllLossBackward0>) 1940 0.0\n",
      "Epoch 469, Loss: 1169.417724609375\n",
      "tensor(6.7006, device='cuda:0')\n",
      "tensor(1.3578, device='cuda:0', grad_fn=<MulBackward0>) tensor(1.5787, device='cuda:0', grad_fn=<NllLossBackward0>) tensor(0.9247, device='cuda:0', grad_fn=<NllLossBackward0>) 1940 0.0\n",
      "Epoch 470, Loss: 1169.411865234375\n",
      "tensor(6.6555, device='cuda:0')\n",
      "tensor(1.3537, device='cuda:0', grad_fn=<MulBackward0>) tensor(1.5783, device='cuda:0', grad_fn=<NllLossBackward0>) tensor(0.9247, device='cuda:0', grad_fn=<NllLossBackward0>) 1940 0.0\n",
      "Epoch 471, Loss: 1169.4058837890625\n",
      "tensor(6.6660, device='cuda:0')\n",
      "tensor(1.3496, device='cuda:0', grad_fn=<MulBackward0>) tensor(1.5784, device='cuda:0', grad_fn=<NllLossBackward0>) tensor(0.9247, device='cuda:0', grad_fn=<NllLossBackward0>) 1940 0.0\n",
      "Epoch 472, Loss: 1169.400634765625\n",
      "tensor(6.6502, device='cuda:0')\n",
      "tensor(1.3455, device='cuda:0', grad_fn=<MulBackward0>) tensor(1.5780, device='cuda:0', grad_fn=<NllLossBackward0>) tensor(0.9247, device='cuda:0', grad_fn=<NllLossBackward0>) 1940 0.0\n",
      "Epoch 473, Loss: 1169.39453125\n",
      "tensor(6.6565, device='cuda:0')\n",
      "tensor(1.3414, device='cuda:0', grad_fn=<MulBackward0>) tensor(1.5792, device='cuda:0', grad_fn=<NllLossBackward0>) tensor(0.9247, device='cuda:0', grad_fn=<NllLossBackward0>) 1940 0.0\n",
      "Epoch 474, Loss: 1169.3916015625\n",
      "tensor(6.6555, device='cuda:0')\n",
      "tensor(1.3373, device='cuda:0', grad_fn=<MulBackward0>) tensor(1.5787, device='cuda:0', grad_fn=<NllLossBackward0>) tensor(0.9247, device='cuda:0', grad_fn=<NllLossBackward0>) 1940 0.0\n",
      "Epoch 475, Loss: 1169.3853759765625\n",
      "tensor(6.6796, device='cuda:0')\n",
      "tensor(1.3333, device='cuda:0', grad_fn=<MulBackward0>) tensor(1.5789, device='cuda:0', grad_fn=<NllLossBackward0>) tensor(0.9247, device='cuda:0', grad_fn=<NllLossBackward0>) 1940 0.0\n",
      "Epoch 476, Loss: 1169.38037109375\n",
      "tensor(6.6670, device='cuda:0')\n",
      "tensor(1.3292, device='cuda:0', grad_fn=<MulBackward0>) tensor(1.5778, device='cuda:0', grad_fn=<NllLossBackward0>) tensor(0.9246, device='cuda:0', grad_fn=<NllLossBackward0>) 1940 0.0\n",
      "Epoch 477, Loss: 1169.373046875\n",
      "tensor(6.6744, device='cuda:0')\n",
      "tensor(1.3252, device='cuda:0', grad_fn=<MulBackward0>) tensor(1.5787, device='cuda:0', grad_fn=<NllLossBackward0>) tensor(0.9247, device='cuda:0', grad_fn=<NllLossBackward0>) 1940 0.0\n",
      "Epoch 478, Loss: 1169.3695068359375\n",
      "tensor(6.6912, device='cuda:0')\n",
      "tensor(1.3212, device='cuda:0', grad_fn=<MulBackward0>) tensor(1.5793, device='cuda:0', grad_fn=<NllLossBackward0>) tensor(0.9247, device='cuda:0', grad_fn=<NllLossBackward0>) 1940 0.0\n",
      "Epoch 479, Loss: 1169.3656005859375\n",
      "tensor(6.6964, device='cuda:0')\n",
      "tensor(1.3173, device='cuda:0', grad_fn=<MulBackward0>) tensor(1.5791, device='cuda:0', grad_fn=<NllLossBackward0>) tensor(0.9247, device='cuda:0', grad_fn=<NllLossBackward0>) 1940 0.0\n",
      "Epoch 480, Loss: 1169.360107421875\n",
      "tensor(6.6723, device='cuda:0')\n",
      "tensor(1.3133, device='cuda:0', grad_fn=<MulBackward0>) tensor(1.5787, device='cuda:0', grad_fn=<NllLossBackward0>) tensor(0.9247, device='cuda:0', grad_fn=<NllLossBackward0>) 1940 0.0\n",
      "Epoch 481, Loss: 1169.354248046875\n",
      "tensor(6.7237, device='cuda:0')\n",
      "tensor(1.3093, device='cuda:0', grad_fn=<MulBackward0>) tensor(1.5788, device='cuda:0', grad_fn=<NllLossBackward0>) tensor(0.9247, device='cuda:0', grad_fn=<NllLossBackward0>) 1940 0.0\n",
      "Epoch 482, Loss: 1169.3492431640625\n",
      "tensor(6.6786, device='cuda:0')\n",
      "tensor(1.3054, device='cuda:0', grad_fn=<MulBackward0>) tensor(1.5787, device='cuda:0', grad_fn=<NllLossBackward0>) tensor(0.9247, device='cuda:0', grad_fn=<NllLossBackward0>) 1940 0.0\n",
      "Epoch 483, Loss: 1169.3438720703125\n",
      "tensor(6.6618, device='cuda:0')\n",
      "tensor(1.3015, device='cuda:0', grad_fn=<MulBackward0>) tensor(1.5781, device='cuda:0', grad_fn=<NllLossBackward0>) tensor(0.9247, device='cuda:0', grad_fn=<NllLossBackward0>) 1940 0.0\n",
      "Epoch 484, Loss: 1169.337646484375\n",
      "tensor(6.6324, device='cuda:0')\n",
      "tensor(1.2976, device='cuda:0', grad_fn=<MulBackward0>) tensor(1.5778, device='cuda:0', grad_fn=<NllLossBackward0>) tensor(0.9246, device='cuda:0', grad_fn=<NllLossBackward0>) 1940 0.0\n",
      "Epoch 485, Loss: 1169.3319091796875\n",
      "tensor(6.6218, device='cuda:0')\n",
      "tensor(1.2938, device='cuda:0', grad_fn=<MulBackward0>) tensor(1.5779, device='cuda:0', grad_fn=<NllLossBackward0>) tensor(0.9247, device='cuda:0', grad_fn=<NllLossBackward0>) 1940 0.0\n",
      "Epoch 486, Loss: 1169.3272705078125\n",
      "tensor(6.6492, device='cuda:0')\n",
      "tensor(1.2899, device='cuda:0', grad_fn=<MulBackward0>) tensor(1.5783, device='cuda:0', grad_fn=<NllLossBackward0>) tensor(0.9247, device='cuda:0', grad_fn=<NllLossBackward0>) 1940 0.0\n",
      "Epoch 487, Loss: 1169.3228759765625\n",
      "tensor(6.6345, device='cuda:0')\n",
      "tensor(1.2861, device='cuda:0', grad_fn=<MulBackward0>) tensor(1.5786, device='cuda:0', grad_fn=<NllLossBackward0>) tensor(0.9247, device='cuda:0', grad_fn=<NllLossBackward0>) 1940 0.0\n",
      "Epoch 488, Loss: 1169.318603515625\n",
      "tensor(6.6345, device='cuda:0')\n",
      "tensor(1.2822, device='cuda:0', grad_fn=<MulBackward0>) tensor(1.5776, device='cuda:0', grad_fn=<NllLossBackward0>) tensor(0.9246, device='cuda:0', grad_fn=<NllLossBackward0>) 1940 0.0\n",
      "Epoch 489, Loss: 1169.3116455078125\n",
      "tensor(6.6218, device='cuda:0')\n",
      "tensor(1.2784, device='cuda:0', grad_fn=<MulBackward0>) tensor(1.5780, device='cuda:0', grad_fn=<NllLossBackward0>) tensor(0.9247, device='cuda:0', grad_fn=<NllLossBackward0>) 1940 0.0\n",
      "Epoch 490, Loss: 1169.307373046875\n",
      "tensor(6.6628, device='cuda:0')\n",
      "tensor(1.2747, device='cuda:0', grad_fn=<MulBackward0>) tensor(1.5776, device='cuda:0', grad_fn=<NllLossBackward0>) tensor(0.9246, device='cuda:0', grad_fn=<NllLossBackward0>) 1940 0.0\n",
      "Epoch 491, Loss: 1169.3016357421875\n",
      "tensor(6.6408, device='cuda:0')\n",
      "tensor(1.2709, device='cuda:0', grad_fn=<MulBackward0>) tensor(1.5788, device='cuda:0', grad_fn=<NllLossBackward0>) tensor(0.9247, device='cuda:0', grad_fn=<NllLossBackward0>) 1940 0.0\n",
      "Epoch 492, Loss: 1169.2991943359375\n",
      "tensor(6.6891, device='cuda:0')\n",
      "tensor(1.2672, device='cuda:0', grad_fn=<MulBackward0>) tensor(1.5784, device='cuda:0', grad_fn=<NllLossBackward0>) tensor(0.9247, device='cuda:0', grad_fn=<NllLossBackward0>) 1940 0.0\n",
      "Epoch 493, Loss: 1169.29345703125\n",
      "tensor(6.6796, device='cuda:0')\n",
      "tensor(1.2634, device='cuda:0', grad_fn=<MulBackward0>) tensor(1.5778, device='cuda:0', grad_fn=<NllLossBackward0>) tensor(0.9247, device='cuda:0', grad_fn=<NllLossBackward0>) 1940 0.0\n",
      "Epoch 494, Loss: 1169.2874755859375\n",
      "tensor(6.6712, device='cuda:0')\n",
      "tensor(1.2597, device='cuda:0', grad_fn=<MulBackward0>) tensor(1.5781, device='cuda:0', grad_fn=<NllLossBackward0>) tensor(0.9247, device='cuda:0', grad_fn=<NllLossBackward0>) 1940 0.0\n",
      "Epoch 495, Loss: 1169.2833251953125\n",
      "tensor(6.6880, device='cuda:0')\n",
      "tensor(1.2560, device='cuda:0', grad_fn=<MulBackward0>) tensor(1.5782, device='cuda:0', grad_fn=<NllLossBackward0>) tensor(0.9247, device='cuda:0', grad_fn=<NllLossBackward0>) 1940 0.0\n",
      "Epoch 496, Loss: 1169.2786865234375\n",
      "tensor(6.6996, device='cuda:0')\n",
      "tensor(1.2523, device='cuda:0', grad_fn=<MulBackward0>) tensor(1.5785, device='cuda:0', grad_fn=<NllLossBackward0>) tensor(0.9247, device='cuda:0', grad_fn=<NllLossBackward0>) 1940 0.0\n",
      "Epoch 497, Loss: 1169.2744140625\n",
      "tensor(6.6912, device='cuda:0')\n",
      "tensor(1.2486, device='cuda:0', grad_fn=<MulBackward0>) tensor(1.5786, device='cuda:0', grad_fn=<NllLossBackward0>) tensor(0.9247, device='cuda:0', grad_fn=<NllLossBackward0>) 1940 0.0\n",
      "Epoch 498, Loss: 1169.2698974609375\n",
      "tensor(6.7017, device='cuda:0')\n",
      "tensor(1.2450, device='cuda:0', grad_fn=<MulBackward0>) tensor(1.5782, device='cuda:0', grad_fn=<NllLossBackward0>) tensor(0.9247, device='cuda:0', grad_fn=<NllLossBackward0>) 1940 0.0\n",
      "Epoch 499, Loss: 1169.2642822265625\n",
      "tensor(6.6870, device='cuda:0')\n",
      "tensor(1.2414, device='cuda:0', grad_fn=<MulBackward0>) tensor(1.5773, device='cuda:0', grad_fn=<NllLossBackward0>) tensor(0.9246, device='cuda:0', grad_fn=<NllLossBackward0>) 1940 0.0\n",
      "Epoch 500, Loss: 1169.2578125\n",
      "tensor(6.6639, device='cuda:0')\n",
      "tensor(1.2378, device='cuda:0', grad_fn=<MulBackward0>) tensor(1.5781, device='cuda:0', grad_fn=<NllLossBackward0>) tensor(0.9247, device='cuda:0', grad_fn=<NllLossBackward0>) 1940 0.0\n",
      "Epoch 501, Loss: 1169.254638671875\n",
      "tensor(6.6838, device='cuda:0')\n",
      "tensor(1.2341, device='cuda:0', grad_fn=<MulBackward0>) tensor(1.5785, device='cuda:0', grad_fn=<NllLossBackward0>) tensor(0.9247, device='cuda:0', grad_fn=<NllLossBackward0>) 1940 0.0\n",
      "Epoch 502, Loss: 1169.250732421875\n",
      "tensor(6.6838, device='cuda:0')\n",
      "tensor(1.2305, device='cuda:0', grad_fn=<MulBackward0>) tensor(1.5771, device='cuda:0', grad_fn=<NllLossBackward0>) tensor(0.9246, device='cuda:0', grad_fn=<NllLossBackward0>) 1940 0.0\n",
      "Epoch 503, Loss: 1169.243408203125\n",
      "tensor(6.6786, device='cuda:0')\n",
      "tensor(1.2270, device='cuda:0', grad_fn=<MulBackward0>) tensor(1.5780, device='cuda:0', grad_fn=<NllLossBackward0>) tensor(0.9247, device='cuda:0', grad_fn=<NllLossBackward0>) 1940 0.0\n",
      "Epoch 504, Loss: 1169.2406005859375\n",
      "tensor(6.6775, device='cuda:0')\n",
      "tensor(1.2234, device='cuda:0', grad_fn=<MulBackward0>) tensor(1.5769, device='cuda:0', grad_fn=<NllLossBackward0>) tensor(0.9246, device='cuda:0', grad_fn=<NllLossBackward0>) 1940 0.0\n",
      "Epoch 505, Loss: 1169.23388671875\n",
      "tensor(6.6744, device='cuda:0')\n",
      "tensor(1.2199, device='cuda:0', grad_fn=<MulBackward0>) tensor(1.5773, device='cuda:0', grad_fn=<NllLossBackward0>) tensor(0.9246, device='cuda:0', grad_fn=<NllLossBackward0>) 1940 0.0\n",
      "Epoch 506, Loss: 1169.2298583984375\n",
      "tensor(6.6607, device='cuda:0')\n",
      "tensor(1.2163, device='cuda:0', grad_fn=<MulBackward0>) tensor(1.5778, device='cuda:0', grad_fn=<NllLossBackward0>) tensor(0.9247, device='cuda:0', grad_fn=<NllLossBackward0>) 1940 0.0\n",
      "Epoch 507, Loss: 1169.226318359375\n",
      "tensor(6.6796, device='cuda:0')\n",
      "tensor(1.2128, device='cuda:0', grad_fn=<MulBackward0>) tensor(1.5779, device='cuda:0', grad_fn=<NllLossBackward0>) tensor(0.9247, device='cuda:0', grad_fn=<NllLossBackward0>) 1940 0.0\n",
      "Epoch 508, Loss: 1169.2220458984375\n",
      "tensor(6.6996, device='cuda:0')\n",
      "tensor(1.2093, device='cuda:0', grad_fn=<MulBackward0>) tensor(1.5771, device='cuda:0', grad_fn=<NllLossBackward0>) tensor(0.9246, device='cuda:0', grad_fn=<NllLossBackward0>) 1940 0.0\n",
      "Epoch 509, Loss: 1169.2158203125\n",
      "tensor(6.6775, device='cuda:0')\n",
      "tensor(1.2058, device='cuda:0', grad_fn=<MulBackward0>) tensor(1.5778, device='cuda:0', grad_fn=<NllLossBackward0>) tensor(0.9247, device='cuda:0', grad_fn=<NllLossBackward0>) 1940 0.0\n",
      "Epoch 510, Loss: 1169.2127685546875\n",
      "tensor(6.7101, device='cuda:0')\n",
      "tensor(1.2024, device='cuda:0', grad_fn=<MulBackward0>) tensor(1.5771, device='cuda:0', grad_fn=<NllLossBackward0>) tensor(0.9246, device='cuda:0', grad_fn=<NllLossBackward0>) 1940 0.0\n",
      "Epoch 511, Loss: 1169.206787109375\n",
      "tensor(6.6859, device='cuda:0')\n",
      "tensor(1.1989, device='cuda:0', grad_fn=<MulBackward0>) tensor(1.5781, device='cuda:0', grad_fn=<NllLossBackward0>) tensor(0.9247, device='cuda:0', grad_fn=<NllLossBackward0>) 1940 0.0\n",
      "Epoch 512, Loss: 1169.2042236328125\n",
      "tensor(6.7048, device='cuda:0')\n",
      "tensor(1.1955, device='cuda:0', grad_fn=<MulBackward0>) tensor(1.5777, device='cuda:0', grad_fn=<NllLossBackward0>) tensor(0.9247, device='cuda:0', grad_fn=<NllLossBackward0>) 1940 0.0\n",
      "Epoch 513, Loss: 1169.198974609375\n",
      "tensor(6.7027, device='cuda:0')\n",
      "tensor(1.1920, device='cuda:0', grad_fn=<MulBackward0>) tensor(1.5780, device='cuda:0', grad_fn=<NllLossBackward0>) tensor(0.9247, device='cuda:0', grad_fn=<NllLossBackward0>) 1940 0.0\n",
      "Epoch 514, Loss: 1169.1951904296875\n",
      "tensor(6.6555, device='cuda:0')\n",
      "tensor(1.1886, device='cuda:0', grad_fn=<MulBackward0>) tensor(1.5777, device='cuda:0', grad_fn=<NllLossBackward0>) tensor(0.9247, device='cuda:0', grad_fn=<NllLossBackward0>) 1940 0.0\n",
      "Epoch 515, Loss: 1169.1900634765625\n",
      "tensor(6.6901, device='cuda:0')\n",
      "tensor(1.1852, device='cuda:0', grad_fn=<MulBackward0>) tensor(1.5774, device='cuda:0', grad_fn=<NllLossBackward0>) tensor(0.9247, device='cuda:0', grad_fn=<NllLossBackward0>) 1940 0.0\n",
      "Epoch 516, Loss: 1169.18505859375\n",
      "tensor(6.6586, device='cuda:0')\n",
      "tensor(1.1818, device='cuda:0', grad_fn=<MulBackward0>) tensor(1.5777, device='cuda:0', grad_fn=<NllLossBackward0>) tensor(0.9247, device='cuda:0', grad_fn=<NllLossBackward0>) 1940 0.0\n",
      "Epoch 517, Loss: 1169.1812744140625\n",
      "tensor(6.7122, device='cuda:0')\n",
      "tensor(1.1785, device='cuda:0', grad_fn=<MulBackward0>) tensor(1.5782, device='cuda:0', grad_fn=<NllLossBackward0>) tensor(0.9247, device='cuda:0', grad_fn=<NllLossBackward0>) 1940 0.0\n",
      "Epoch 518, Loss: 1169.177978515625\n",
      "tensor(6.7027, device='cuda:0')\n",
      "tensor(1.1752, device='cuda:0', grad_fn=<MulBackward0>) tensor(1.5777, device='cuda:0', grad_fn=<NllLossBackward0>) tensor(0.9247, device='cuda:0', grad_fn=<NllLossBackward0>) 1940 0.0\n",
      "Epoch 519, Loss: 1169.172607421875\n",
      "tensor(6.6796, device='cuda:0')\n",
      "tensor(1.1718, device='cuda:0', grad_fn=<MulBackward0>) tensor(1.5775, device='cuda:0', grad_fn=<NllLossBackward0>) tensor(0.9247, device='cuda:0', grad_fn=<NllLossBackward0>) 1940 0.0\n",
      "Epoch 520, Loss: 1169.167724609375\n",
      "tensor(6.6702, device='cuda:0')\n",
      "tensor(1.1685, device='cuda:0', grad_fn=<MulBackward0>) tensor(1.5776, device='cuda:0', grad_fn=<NllLossBackward0>) tensor(0.9247, device='cuda:0', grad_fn=<NllLossBackward0>) 1940 0.0\n",
      "Epoch 521, Loss: 1169.1636962890625\n",
      "tensor(6.6397, device='cuda:0')\n",
      "tensor(1.1651, device='cuda:0', grad_fn=<MulBackward0>) tensor(1.5778, device='cuda:0', grad_fn=<NllLossBackward0>) tensor(0.9247, device='cuda:0', grad_fn=<NllLossBackward0>) 1940 0.0\n",
      "Epoch 522, Loss: 1169.1597900390625\n",
      "tensor(6.6481, device='cuda:0')\n",
      "tensor(1.1619, device='cuda:0', grad_fn=<MulBackward0>) tensor(1.5776, device='cuda:0', grad_fn=<NllLossBackward0>) tensor(0.9247, device='cuda:0', grad_fn=<NllLossBackward0>) 1940 0.0\n",
      "Epoch 523, Loss: 1169.155029296875\n",
      "tensor(6.6565, device='cuda:0')\n",
      "tensor(1.1585, device='cuda:0', grad_fn=<MulBackward0>) tensor(1.5776, device='cuda:0', grad_fn=<NllLossBackward0>) tensor(0.9246, device='cuda:0', grad_fn=<NllLossBackward0>) 1940 0.0\n",
      "Epoch 524, Loss: 1169.1507568359375\n",
      "tensor(6.6765, device='cuda:0')\n",
      "tensor(1.1553, device='cuda:0', grad_fn=<MulBackward0>) tensor(1.5767, device='cuda:0', grad_fn=<NllLossBackward0>) tensor(0.9246, device='cuda:0', grad_fn=<NllLossBackward0>) 1940 0.0\n",
      "Epoch 525, Loss: 1169.144775390625\n",
      "tensor(6.6681, device='cuda:0')\n",
      "tensor(1.1520, device='cuda:0', grad_fn=<MulBackward0>) tensor(1.5775, device='cuda:0', grad_fn=<NllLossBackward0>) tensor(0.9247, device='cuda:0', grad_fn=<NllLossBackward0>) 1940 0.0\n",
      "Epoch 526, Loss: 1169.14208984375\n",
      "tensor(6.7101, device='cuda:0')\n",
      "tensor(1.1488, device='cuda:0', grad_fn=<MulBackward0>) tensor(1.5773, device='cuda:0', grad_fn=<NllLossBackward0>) tensor(0.9247, device='cuda:0', grad_fn=<NllLossBackward0>) 1940 0.0\n",
      "Epoch 527, Loss: 1169.137451171875\n",
      "tensor(6.7017, device='cuda:0')\n",
      "tensor(1.1455, device='cuda:0', grad_fn=<MulBackward0>) tensor(1.5767, device='cuda:0', grad_fn=<NllLossBackward0>) tensor(0.9246, device='cuda:0', grad_fn=<NllLossBackward0>) 1940 0.0\n",
      "Epoch 528, Loss: 1169.1322021484375\n",
      "tensor(6.7059, device='cuda:0')\n",
      "tensor(1.1423, device='cuda:0', grad_fn=<MulBackward0>) tensor(1.5780, device='cuda:0', grad_fn=<NllLossBackward0>) tensor(0.9247, device='cuda:0', grad_fn=<NllLossBackward0>) 1940 0.0\n",
      "Epoch 529, Loss: 1169.1304931640625\n",
      "tensor(6.7216, device='cuda:0')\n",
      "tensor(1.1391, device='cuda:0', grad_fn=<MulBackward0>) tensor(1.5779, device='cuda:0', grad_fn=<NllLossBackward0>) tensor(0.9247, device='cuda:0', grad_fn=<NllLossBackward0>) 1940 0.0\n",
      "Epoch 530, Loss: 1169.1260986328125\n",
      "tensor(6.6901, device='cuda:0')\n",
      "tensor(1.1359, device='cuda:0', grad_fn=<MulBackward0>) tensor(1.5772, device='cuda:0', grad_fn=<NllLossBackward0>) tensor(0.9246, device='cuda:0', grad_fn=<NllLossBackward0>) 1940 0.0\n",
      "Epoch 531, Loss: 1169.12060546875\n",
      "tensor(6.6912, device='cuda:0')\n",
      "tensor(1.1328, device='cuda:0', grad_fn=<MulBackward0>) tensor(1.5773, device='cuda:0', grad_fn=<NllLossBackward0>) tensor(0.9246, device='cuda:0', grad_fn=<NllLossBackward0>) 1940 0.0\n",
      "Epoch 532, Loss: 1169.11669921875\n",
      "tensor(6.7090, device='cuda:0')\n",
      "tensor(1.1296, device='cuda:0', grad_fn=<MulBackward0>) tensor(1.5765, device='cuda:0', grad_fn=<NllLossBackward0>) tensor(0.9246, device='cuda:0', grad_fn=<NllLossBackward0>) 1940 0.0\n",
      "Epoch 533, Loss: 1169.111083984375\n",
      "tensor(6.6775, device='cuda:0')\n",
      "tensor(1.1264, device='cuda:0', grad_fn=<MulBackward0>) tensor(1.5780, device='cuda:0', grad_fn=<NllLossBackward0>) tensor(0.9247, device='cuda:0', grad_fn=<NllLossBackward0>) 1940 0.0\n",
      "Epoch 534, Loss: 1169.10986328125\n",
      "tensor(6.6607, device='cuda:0')\n",
      "tensor(1.1233, device='cuda:0', grad_fn=<MulBackward0>) tensor(1.5774, device='cuda:0', grad_fn=<NllLossBackward0>) tensor(0.9246, device='cuda:0', grad_fn=<NllLossBackward0>) 1940 0.0\n",
      "Epoch 535, Loss: 1169.1046142578125\n",
      "tensor(6.6744, device='cuda:0')\n",
      "tensor(1.1202, device='cuda:0', grad_fn=<MulBackward0>) tensor(1.5776, device='cuda:0', grad_fn=<NllLossBackward0>) tensor(0.9247, device='cuda:0', grad_fn=<NllLossBackward0>) 1940 0.0\n",
      "Epoch 536, Loss: 1169.1009521484375\n",
      "tensor(6.6471, device='cuda:0')\n",
      "tensor(1.1171, device='cuda:0', grad_fn=<MulBackward0>) tensor(1.5777, device='cuda:0', grad_fn=<NllLossBackward0>) tensor(0.9247, device='cuda:0', grad_fn=<NllLossBackward0>) 1940 0.0\n",
      "Epoch 537, Loss: 1169.0970458984375\n",
      "tensor(6.6376, device='cuda:0')\n",
      "tensor(1.1140, device='cuda:0', grad_fn=<MulBackward0>) tensor(1.5780, device='cuda:0', grad_fn=<NllLossBackward0>) tensor(0.9247, device='cuda:0', grad_fn=<NllLossBackward0>) 1940 0.0\n",
      "Epoch 538, Loss: 1169.0936279296875\n",
      "tensor(6.6597, device='cuda:0')\n",
      "tensor(1.1109, device='cuda:0', grad_fn=<MulBackward0>) tensor(1.5777, device='cuda:0', grad_fn=<NllLossBackward0>) tensor(0.9247, device='cuda:0', grad_fn=<NllLossBackward0>) 1940 0.0\n",
      "Epoch 539, Loss: 1169.089111328125\n",
      "tensor(6.6786, device='cuda:0')\n",
      "tensor(1.1079, device='cuda:0', grad_fn=<MulBackward0>) tensor(1.5778, device='cuda:0', grad_fn=<NllLossBackward0>) tensor(0.9247, device='cuda:0', grad_fn=<NllLossBackward0>) 1940 0.0\n",
      "Epoch 540, Loss: 1169.0853271484375\n",
      "tensor(6.6954, device='cuda:0')\n",
      "tensor(1.1048, device='cuda:0', grad_fn=<MulBackward0>) tensor(1.5772, device='cuda:0', grad_fn=<NllLossBackward0>) tensor(0.9246, device='cuda:0', grad_fn=<NllLossBackward0>) 1940 0.0\n",
      "Epoch 541, Loss: 1169.0802001953125\n",
      "tensor(6.6943, device='cuda:0')\n",
      "tensor(1.1017, device='cuda:0', grad_fn=<MulBackward0>) tensor(1.5769, device='cuda:0', grad_fn=<NllLossBackward0>) tensor(0.9246, device='cuda:0', grad_fn=<NllLossBackward0>) 1940 0.0\n",
      "Epoch 542, Loss: 1169.0755615234375\n",
      "tensor(6.7153, device='cuda:0')\n",
      "tensor(1.0987, device='cuda:0', grad_fn=<MulBackward0>) tensor(1.5779, device='cuda:0', grad_fn=<NllLossBackward0>) tensor(0.9247, device='cuda:0', grad_fn=<NllLossBackward0>) 1940 0.0\n",
      "Epoch 543, Loss: 1169.073486328125\n",
      "tensor(6.6933, device='cuda:0')\n",
      "tensor(1.0957, device='cuda:0', grad_fn=<MulBackward0>) tensor(1.5772, device='cuda:0', grad_fn=<NllLossBackward0>) tensor(0.9246, device='cuda:0', grad_fn=<NllLossBackward0>) 1940 0.0\n",
      "Epoch 544, Loss: 1169.068359375\n",
      "tensor(6.6912, device='cuda:0')\n",
      "tensor(1.0927, device='cuda:0', grad_fn=<MulBackward0>) tensor(1.5775, device='cuda:0', grad_fn=<NllLossBackward0>) tensor(0.9246, device='cuda:0', grad_fn=<NllLossBackward0>) 1940 0.0\n",
      "Epoch 545, Loss: 1169.0650634765625\n",
      "tensor(6.6660, device='cuda:0')\n",
      "tensor(1.0897, device='cuda:0', grad_fn=<MulBackward0>) tensor(1.5776, device='cuda:0', grad_fn=<NllLossBackward0>) tensor(0.9247, device='cuda:0', grad_fn=<NllLossBackward0>) 1940 0.0\n",
      "Epoch 546, Loss: 1169.0614013671875\n",
      "tensor(6.6586, device='cuda:0')\n",
      "tensor(1.0867, device='cuda:0', grad_fn=<MulBackward0>) tensor(1.5763, device='cuda:0', grad_fn=<NllLossBackward0>) tensor(0.9246, device='cuda:0', grad_fn=<NllLossBackward0>) 1940 0.0\n",
      "Epoch 547, Loss: 1169.0550537109375\n",
      "tensor(6.6429, device='cuda:0')\n",
      "tensor(1.0838, device='cuda:0', grad_fn=<MulBackward0>) tensor(1.5769, device='cuda:0', grad_fn=<NllLossBackward0>) tensor(0.9246, device='cuda:0', grad_fn=<NllLossBackward0>) 1940 0.0\n",
      "Epoch 548, Loss: 1169.0521240234375\n",
      "tensor(6.6765, device='cuda:0')\n",
      "tensor(1.0808, device='cuda:0', grad_fn=<MulBackward0>) tensor(1.5770, device='cuda:0', grad_fn=<NllLossBackward0>) tensor(0.9246, device='cuda:0', grad_fn=<NllLossBackward0>) 1940 0.0\n",
      "Epoch 549, Loss: 1169.0487060546875\n",
      "tensor(6.6975, device='cuda:0')\n",
      "tensor(1.0778, device='cuda:0', grad_fn=<MulBackward0>) tensor(1.5774, device='cuda:0', grad_fn=<NllLossBackward0>) tensor(0.9247, device='cuda:0', grad_fn=<NllLossBackward0>) 1940 0.0\n",
      "Epoch 550, Loss: 1169.0455322265625\n",
      "tensor(6.7174, device='cuda:0')\n",
      "tensor(1.0749, device='cuda:0', grad_fn=<MulBackward0>) tensor(1.5775, device='cuda:0', grad_fn=<NllLossBackward0>) tensor(0.9246, device='cuda:0', grad_fn=<NllLossBackward0>) 1940 0.0\n",
      "Epoch 551, Loss: 1169.0418701171875\n",
      "tensor(6.6828, device='cuda:0')\n",
      "tensor(1.0720, device='cuda:0', grad_fn=<MulBackward0>) tensor(1.5769, device='cuda:0', grad_fn=<NllLossBackward0>) tensor(0.9246, device='cuda:0', grad_fn=<NllLossBackward0>) 1940 0.0\n",
      "Epoch 552, Loss: 1169.036865234375\n",
      "tensor(6.7080, device='cuda:0')\n",
      "tensor(1.0690, device='cuda:0', grad_fn=<MulBackward0>) tensor(1.5773, device='cuda:0', grad_fn=<NllLossBackward0>) tensor(0.9246, device='cuda:0', grad_fn=<NllLossBackward0>) 1940 0.0\n",
      "Epoch 553, Loss: 1169.033935546875\n",
      "tensor(6.7038, device='cuda:0')\n",
      "tensor(1.0661, device='cuda:0', grad_fn=<MulBackward0>) tensor(1.5777, device='cuda:0', grad_fn=<NllLossBackward0>) tensor(0.9247, device='cuda:0', grad_fn=<NllLossBackward0>) 1940 0.0\n",
      "Epoch 554, Loss: 1169.03076171875\n",
      "tensor(6.7027, device='cuda:0')\n",
      "tensor(1.0632, device='cuda:0', grad_fn=<MulBackward0>) tensor(1.5772, device='cuda:0', grad_fn=<NllLossBackward0>) tensor(0.9246, device='cuda:0', grad_fn=<NllLossBackward0>) 1940 0.0\n",
      "Epoch 555, Loss: 1169.026123046875\n",
      "tensor(6.6849, device='cuda:0')\n",
      "tensor(1.0604, device='cuda:0', grad_fn=<MulBackward0>) tensor(1.5772, device='cuda:0', grad_fn=<NllLossBackward0>) tensor(0.9246, device='cuda:0', grad_fn=<NllLossBackward0>) 1940 0.0\n",
      "Epoch 556, Loss: 1169.0224609375\n",
      "tensor(6.6723, device='cuda:0')\n",
      "tensor(1.0575, device='cuda:0', grad_fn=<MulBackward0>) tensor(1.5776, device='cuda:0', grad_fn=<NllLossBackward0>) tensor(0.9247, device='cuda:0', grad_fn=<NllLossBackward0>) 1940 0.0\n",
      "Epoch 557, Loss: 1169.0194091796875\n",
      "tensor(6.6639, device='cuda:0')\n",
      "tensor(1.0546, device='cuda:0', grad_fn=<MulBackward0>) tensor(1.5769, device='cuda:0', grad_fn=<NllLossBackward0>) tensor(0.9246, device='cuda:0', grad_fn=<NllLossBackward0>) 1940 0.0\n",
      "Epoch 558, Loss: 1169.0142822265625\n",
      "tensor(6.6649, device='cuda:0')\n",
      "tensor(1.0517, device='cuda:0', grad_fn=<MulBackward0>) tensor(1.5771, device='cuda:0', grad_fn=<NllLossBackward0>) tensor(0.9246, device='cuda:0', grad_fn=<NllLossBackward0>) 1940 0.0\n",
      "Epoch 559, Loss: 1169.010986328125\n",
      "tensor(6.6408, device='cuda:0')\n",
      "tensor(1.0489, device='cuda:0', grad_fn=<MulBackward0>) tensor(1.5766, device='cuda:0', grad_fn=<NllLossBackward0>) tensor(0.9246, device='cuda:0', grad_fn=<NllLossBackward0>) 1940 0.0\n",
      "Epoch 560, Loss: 1169.00634765625\n",
      "tensor(6.6954, device='cuda:0')\n",
      "tensor(1.0461, device='cuda:0', grad_fn=<MulBackward0>) tensor(1.5774, device='cuda:0', grad_fn=<NllLossBackward0>) tensor(0.9246, device='cuda:0', grad_fn=<NllLossBackward0>) 1940 0.0\n",
      "Epoch 561, Loss: 1169.004150390625\n",
      "tensor(6.6754, device='cuda:0')\n",
      "tensor(1.0433, device='cuda:0', grad_fn=<MulBackward0>) tensor(1.5769, device='cuda:0', grad_fn=<NllLossBackward0>) tensor(0.9246, device='cuda:0', grad_fn=<NllLossBackward0>) 1940 0.0\n",
      "Epoch 562, Loss: 1168.99951171875\n",
      "tensor(6.6849, device='cuda:0')\n",
      "tensor(1.0405, device='cuda:0', grad_fn=<MulBackward0>) tensor(1.5768, device='cuda:0', grad_fn=<NllLossBackward0>) tensor(0.9246, device='cuda:0', grad_fn=<NllLossBackward0>) 1940 0.0\n",
      "Epoch 563, Loss: 1168.9957275390625\n",
      "tensor(6.7080, device='cuda:0')\n",
      "tensor(1.0377, device='cuda:0', grad_fn=<MulBackward0>) tensor(1.5760, device='cuda:0', grad_fn=<NllLossBackward0>) tensor(0.9246, device='cuda:0', grad_fn=<NllLossBackward0>) 1940 0.0\n",
      "Epoch 564, Loss: 1168.99072265625\n",
      "tensor(6.7101, device='cuda:0')\n",
      "tensor(1.0349, device='cuda:0', grad_fn=<MulBackward0>) tensor(1.5768, device='cuda:0', grad_fn=<NllLossBackward0>) tensor(0.9246, device='cuda:0', grad_fn=<NllLossBackward0>) 1940 0.0\n",
      "Epoch 565, Loss: 1168.988525390625\n",
      "tensor(6.6943, device='cuda:0')\n",
      "tensor(1.0321, device='cuda:0', grad_fn=<MulBackward0>) tensor(1.5761, device='cuda:0', grad_fn=<NllLossBackward0>) tensor(0.9246, device='cuda:0', grad_fn=<NllLossBackward0>) 1940 0.0\n",
      "Epoch 566, Loss: 1168.9835205078125\n",
      "tensor(6.7153, device='cuda:0')\n",
      "tensor(1.0293, device='cuda:0', grad_fn=<MulBackward0>) tensor(1.5769, device='cuda:0', grad_fn=<NllLossBackward0>) tensor(0.9246, device='cuda:0', grad_fn=<NllLossBackward0>) 1940 0.0\n",
      "Epoch 567, Loss: 1168.9814453125\n",
      "tensor(6.6817, device='cuda:0')\n",
      "tensor(1.0266, device='cuda:0', grad_fn=<MulBackward0>) tensor(1.5760, device='cuda:0', grad_fn=<NllLossBackward0>) tensor(0.9246, device='cuda:0', grad_fn=<NllLossBackward0>) 1940 0.0\n",
      "Epoch 568, Loss: 1168.9761962890625\n",
      "tensor(6.6870, device='cuda:0')\n",
      "tensor(1.0239, device='cuda:0', grad_fn=<MulBackward0>) tensor(1.5769, device='cuda:0', grad_fn=<NllLossBackward0>) tensor(0.9246, device='cuda:0', grad_fn=<NllLossBackward0>) 1940 0.0\n",
      "Epoch 569, Loss: 1168.9744873046875\n",
      "tensor(6.7059, device='cuda:0')\n",
      "tensor(1.0211, device='cuda:0', grad_fn=<MulBackward0>) tensor(1.5769, device='cuda:0', grad_fn=<NllLossBackward0>) tensor(0.9246, device='cuda:0', grad_fn=<NllLossBackward0>) 1940 0.0\n",
      "Epoch 570, Loss: 1168.970703125\n",
      "tensor(6.6901, device='cuda:0')\n",
      "tensor(1.0184, device='cuda:0', grad_fn=<MulBackward0>) tensor(1.5767, device='cuda:0', grad_fn=<NllLossBackward0>) tensor(0.9246, device='cuda:0', grad_fn=<NllLossBackward0>) 1940 0.0\n",
      "Epoch 571, Loss: 1168.9669189453125\n",
      "tensor(6.6870, device='cuda:0')\n",
      "tensor(1.0157, device='cuda:0', grad_fn=<MulBackward0>) tensor(1.5773, device='cuda:0', grad_fn=<NllLossBackward0>) tensor(0.9246, device='cuda:0', grad_fn=<NllLossBackward0>) 1940 0.0\n",
      "Epoch 572, Loss: 1168.9644775390625\n",
      "tensor(6.6775, device='cuda:0')\n",
      "tensor(1.0130, device='cuda:0', grad_fn=<MulBackward0>) tensor(1.5776, device='cuda:0', grad_fn=<NllLossBackward0>) tensor(0.9246, device='cuda:0', grad_fn=<NllLossBackward0>) 1940 0.0\n",
      "Epoch 573, Loss: 1168.9615478515625\n",
      "tensor(6.6597, device='cuda:0')\n",
      "tensor(1.0103, device='cuda:0', grad_fn=<MulBackward0>) tensor(1.5764, device='cuda:0', grad_fn=<NllLossBackward0>) tensor(0.9246, device='cuda:0', grad_fn=<NllLossBackward0>) 1940 0.0\n",
      "Epoch 574, Loss: 1168.955810546875\n",
      "tensor(6.6964, device='cuda:0')\n",
      "tensor(1.0076, device='cuda:0', grad_fn=<MulBackward0>) tensor(1.5766, device='cuda:0', grad_fn=<NllLossBackward0>) tensor(0.9246, device='cuda:0', grad_fn=<NllLossBackward0>) 1940 0.0\n",
      "Epoch 575, Loss: 1168.95263671875\n",
      "tensor(6.6796, device='cuda:0')\n",
      "tensor(1.0049, device='cuda:0', grad_fn=<MulBackward0>) tensor(1.5773, device='cuda:0', grad_fn=<NllLossBackward0>) tensor(0.9246, device='cuda:0', grad_fn=<NllLossBackward0>) 1940 0.0\n",
      "Epoch 576, Loss: 1168.950439453125\n",
      "tensor(6.6964, device='cuda:0')\n",
      "tensor(1.0023, device='cuda:0', grad_fn=<MulBackward0>) tensor(1.5766, device='cuda:0', grad_fn=<NllLossBackward0>) tensor(0.9246, device='cuda:0', grad_fn=<NllLossBackward0>) 1940 0.0\n",
      "Epoch 577, Loss: 1168.94580078125\n",
      "tensor(6.6786, device='cuda:0')\n",
      "tensor(0.9996, device='cuda:0', grad_fn=<MulBackward0>) tensor(1.5764, device='cuda:0', grad_fn=<NllLossBackward0>) tensor(0.9246, device='cuda:0', grad_fn=<NllLossBackward0>) 1940 0.0\n",
      "Epoch 578, Loss: 1168.94189453125\n",
      "tensor(6.6744, device='cuda:0')\n",
      "tensor(0.9970, device='cuda:0', grad_fn=<MulBackward0>) tensor(1.5764, device='cuda:0', grad_fn=<NllLossBackward0>) tensor(0.9246, device='cuda:0', grad_fn=<NllLossBackward0>) 1940 0.0\n",
      "Epoch 579, Loss: 1168.9384765625\n",
      "tensor(6.6481, device='cuda:0')\n",
      "tensor(0.9944, device='cuda:0', grad_fn=<MulBackward0>) tensor(1.5766, device='cuda:0', grad_fn=<NllLossBackward0>) tensor(0.9246, device='cuda:0', grad_fn=<NllLossBackward0>) 1940 0.0\n",
      "Epoch 580, Loss: 1168.935546875\n",
      "tensor(6.6712, device='cuda:0')\n",
      "tensor(0.9917, device='cuda:0', grad_fn=<MulBackward0>) tensor(1.5768, device='cuda:0', grad_fn=<NllLossBackward0>) tensor(0.9246, device='cuda:0', grad_fn=<NllLossBackward0>) 1940 0.0\n",
      "Epoch 581, Loss: 1168.932373046875\n",
      "tensor(6.6775, device='cuda:0')\n",
      "tensor(0.9891, device='cuda:0', grad_fn=<MulBackward0>) tensor(1.5765, device='cuda:0', grad_fn=<NllLossBackward0>) tensor(0.9246, device='cuda:0', grad_fn=<NllLossBackward0>) 1940 0.0\n",
      "Epoch 582, Loss: 1168.928466796875\n",
      "tensor(6.6649, device='cuda:0')\n",
      "tensor(0.9865, device='cuda:0', grad_fn=<MulBackward0>) tensor(1.5772, device='cuda:0', grad_fn=<NllLossBackward0>) tensor(0.9247, device='cuda:0', grad_fn=<NllLossBackward0>) 1940 0.0\n",
      "Epoch 583, Loss: 1168.9263916015625\n",
      "tensor(6.6576, device='cuda:0')\n",
      "tensor(0.9839, device='cuda:0', grad_fn=<MulBackward0>) tensor(1.5762, device='cuda:0', grad_fn=<NllLossBackward0>) tensor(0.9246, device='cuda:0', grad_fn=<NllLossBackward0>) 1940 0.0\n",
      "Epoch 584, Loss: 1168.921142578125\n",
      "tensor(6.6303, device='cuda:0')\n",
      "tensor(0.9813, device='cuda:0', grad_fn=<MulBackward0>) tensor(1.5763, device='cuda:0', grad_fn=<NllLossBackward0>) tensor(0.9246, device='cuda:0', grad_fn=<NllLossBackward0>) 1940 0.0\n",
      "Epoch 585, Loss: 1168.91796875\n",
      "tensor(6.6670, device='cuda:0')\n",
      "tensor(0.9788, device='cuda:0', grad_fn=<MulBackward0>) tensor(1.5762, device='cuda:0', grad_fn=<NllLossBackward0>) tensor(0.9246, device='cuda:0', grad_fn=<NllLossBackward0>) 1940 0.0\n",
      "Epoch 586, Loss: 1168.9144287109375\n",
      "tensor(6.6544, device='cuda:0')\n",
      "tensor(0.9762, device='cuda:0', grad_fn=<MulBackward0>) tensor(1.5758, device='cuda:0', grad_fn=<NllLossBackward0>) tensor(0.9246, device='cuda:0', grad_fn=<NllLossBackward0>) 1940 0.0\n",
      "Epoch 587, Loss: 1168.9102783203125\n",
      "tensor(6.6387, device='cuda:0')\n",
      "tensor(0.9736, device='cuda:0', grad_fn=<MulBackward0>) tensor(1.5769, device='cuda:0', grad_fn=<NllLossBackward0>) tensor(0.9246, device='cuda:0', grad_fn=<NllLossBackward0>) 1940 0.0\n",
      "Epoch 588, Loss: 1168.9090576171875\n",
      "tensor(6.6229, device='cuda:0')\n",
      "tensor(0.9711, device='cuda:0', grad_fn=<MulBackward0>) tensor(1.5761, device='cuda:0', grad_fn=<NllLossBackward0>) tensor(0.9246, device='cuda:0', grad_fn=<NllLossBackward0>) 1940 0.0\n",
      "Epoch 589, Loss: 1168.904296875\n",
      "tensor(6.6744, device='cuda:0')\n",
      "tensor(0.9686, device='cuda:0', grad_fn=<MulBackward0>) tensor(1.5769, device='cuda:0', grad_fn=<NllLossBackward0>) tensor(0.9246, device='cuda:0', grad_fn=<NllLossBackward0>) 1940 0.0\n",
      "Epoch 590, Loss: 1168.902587890625\n",
      "tensor(6.6901, device='cuda:0')\n",
      "tensor(0.9661, device='cuda:0', grad_fn=<MulBackward0>) tensor(1.5759, device='cuda:0', grad_fn=<NllLossBackward0>) tensor(0.9246, device='cuda:0', grad_fn=<NllLossBackward0>) 1940 0.0\n",
      "Epoch 591, Loss: 1168.8973388671875\n",
      "tensor(6.7027, device='cuda:0')\n",
      "tensor(0.9635, device='cuda:0', grad_fn=<MulBackward0>) tensor(1.5771, device='cuda:0', grad_fn=<NllLossBackward0>) tensor(0.9246, device='cuda:0', grad_fn=<NllLossBackward0>) 1940 0.0\n",
      "Epoch 592, Loss: 1168.896240234375\n",
      "tensor(6.7101, device='cuda:0')\n",
      "tensor(0.9610, device='cuda:0', grad_fn=<MulBackward0>) tensor(1.5759, device='cuda:0', grad_fn=<NllLossBackward0>) tensor(0.9246, device='cuda:0', grad_fn=<NllLossBackward0>) 1940 0.0\n",
      "Epoch 593, Loss: 1168.8907470703125\n",
      "tensor(6.7216, device='cuda:0')\n",
      "tensor(0.9585, device='cuda:0', grad_fn=<MulBackward0>) tensor(1.5759, device='cuda:0', grad_fn=<NllLossBackward0>) tensor(0.9246, device='cuda:0', grad_fn=<NllLossBackward0>) 1940 0.0\n",
      "Epoch 594, Loss: 1168.8875732421875\n",
      "tensor(6.7069, device='cuda:0')\n",
      "tensor(0.9561, device='cuda:0', grad_fn=<MulBackward0>) tensor(1.5766, device='cuda:0', grad_fn=<NllLossBackward0>) tensor(0.9246, device='cuda:0', grad_fn=<NllLossBackward0>) 1940 0.0\n",
      "Epoch 595, Loss: 1168.8857421875\n",
      "tensor(6.7132, device='cuda:0')\n",
      "tensor(0.9535, device='cuda:0', grad_fn=<MulBackward0>) tensor(1.5759, device='cuda:0', grad_fn=<NllLossBackward0>) tensor(0.9246, device='cuda:0', grad_fn=<NllLossBackward0>) 1940 0.0\n",
      "Epoch 596, Loss: 1168.8809814453125\n",
      "tensor(6.7048, device='cuda:0')\n",
      "tensor(0.9511, device='cuda:0', grad_fn=<MulBackward0>) tensor(1.5772, device='cuda:0', grad_fn=<NllLossBackward0>) tensor(0.9246, device='cuda:0', grad_fn=<NllLossBackward0>) 1940 0.0\n",
      "Epoch 597, Loss: 1168.88037109375\n",
      "tensor(6.6985, device='cuda:0')\n",
      "tensor(0.9486, device='cuda:0', grad_fn=<MulBackward0>) tensor(1.5764, device='cuda:0', grad_fn=<NllLossBackward0>) tensor(0.9246, device='cuda:0', grad_fn=<NllLossBackward0>) 1940 0.0\n",
      "Epoch 598, Loss: 1168.8756103515625\n",
      "tensor(6.6775, device='cuda:0')\n",
      "tensor(0.9461, device='cuda:0', grad_fn=<MulBackward0>) tensor(1.5759, device='cuda:0', grad_fn=<NllLossBackward0>) tensor(0.9246, device='cuda:0', grad_fn=<NllLossBackward0>) 1940 0.0\n",
      "Epoch 599, Loss: 1168.871337890625\n",
      "tensor(6.6807, device='cuda:0')\n",
      "tensor(0.9437, device='cuda:0', grad_fn=<MulBackward0>) tensor(1.5766, device='cuda:0', grad_fn=<NllLossBackward0>) tensor(0.9246, device='cuda:0', grad_fn=<NllLossBackward0>) 1940 0.0\n",
      "Epoch 600, Loss: 1168.86962890625\n",
      "tensor(6.6723, device='cuda:0')\n",
      "tensor(0.9412, device='cuda:0', grad_fn=<MulBackward0>) tensor(1.5765, device='cuda:0', grad_fn=<NllLossBackward0>) tensor(0.9246, device='cuda:0', grad_fn=<NllLossBackward0>) 1940 0.0\n",
      "Epoch 601, Loss: 1168.8662109375\n",
      "tensor(6.6450, device='cuda:0')\n",
      "tensor(0.9388, device='cuda:0', grad_fn=<MulBackward0>) tensor(1.5764, device='cuda:0', grad_fn=<NllLossBackward0>) tensor(0.9246, device='cuda:0', grad_fn=<NllLossBackward0>) 1940 0.0\n",
      "Epoch 602, Loss: 1168.86279296875\n",
      "tensor(6.6565, device='cuda:0')\n",
      "tensor(0.9364, device='cuda:0', grad_fn=<MulBackward0>) tensor(1.5770, device='cuda:0', grad_fn=<NllLossBackward0>) tensor(0.9246, device='cuda:0', grad_fn=<NllLossBackward0>) 1940 0.0\n",
      "Epoch 603, Loss: 1168.86083984375\n",
      "tensor(6.6492, device='cuda:0')\n",
      "tensor(0.9339, device='cuda:0', grad_fn=<MulBackward0>) tensor(1.5765, device='cuda:0', grad_fn=<NllLossBackward0>) tensor(0.9246, device='cuda:0', grad_fn=<NllLossBackward0>) 1940 0.0\n",
      "Epoch 604, Loss: 1168.8565673828125\n",
      "tensor(6.6197, device='cuda:0')\n",
      "tensor(0.9315, device='cuda:0', grad_fn=<MulBackward0>) tensor(1.5773, device='cuda:0', grad_fn=<NllLossBackward0>) tensor(0.9246, device='cuda:0', grad_fn=<NllLossBackward0>) 1940 0.0\n",
      "Epoch 605, Loss: 1168.8551025390625\n",
      "tensor(6.6439, device='cuda:0')\n",
      "tensor(0.9291, device='cuda:0', grad_fn=<MulBackward0>) tensor(1.5772, device='cuda:0', grad_fn=<NllLossBackward0>) tensor(0.9246, device='cuda:0', grad_fn=<NllLossBackward0>) 1940 0.0\n",
      "Epoch 606, Loss: 1168.8516845703125\n",
      "tensor(6.6670, device='cuda:0')\n",
      "tensor(0.9267, device='cuda:0', grad_fn=<MulBackward0>) tensor(1.5756, device='cuda:0', grad_fn=<NllLossBackward0>) tensor(0.9246, device='cuda:0', grad_fn=<NllLossBackward0>) 1940 0.0\n",
      "Epoch 607, Loss: 1168.8455810546875\n",
      "tensor(6.6702, device='cuda:0')\n",
      "tensor(0.9243, device='cuda:0', grad_fn=<MulBackward0>) tensor(1.5759, device='cuda:0', grad_fn=<NllLossBackward0>) tensor(0.9246, device='cuda:0', grad_fn=<NllLossBackward0>) 1940 0.0\n",
      "Epoch 608, Loss: 1168.843017578125\n",
      "tensor(6.6996, device='cuda:0')\n",
      "tensor(0.9219, device='cuda:0', grad_fn=<MulBackward0>) tensor(1.5762, device='cuda:0', grad_fn=<NllLossBackward0>) tensor(0.9246, device='cuda:0', grad_fn=<NllLossBackward0>) 1940 0.0\n",
      "Epoch 609, Loss: 1168.840576171875\n",
      "tensor(6.7006, device='cuda:0')\n",
      "tensor(0.9195, device='cuda:0', grad_fn=<MulBackward0>) tensor(1.5758, device='cuda:0', grad_fn=<NllLossBackward0>) tensor(0.9246, device='cuda:0', grad_fn=<NllLossBackward0>) 1940 0.0\n",
      "Epoch 610, Loss: 1168.836669921875\n",
      "tensor(6.7258, device='cuda:0')\n",
      "tensor(0.9172, device='cuda:0', grad_fn=<MulBackward0>) tensor(1.5763, device='cuda:0', grad_fn=<NllLossBackward0>) tensor(0.9246, device='cuda:0', grad_fn=<NllLossBackward0>) 1940 0.0\n",
      "Epoch 611, Loss: 1168.83447265625\n",
      "tensor(6.7195, device='cuda:0')\n",
      "tensor(0.9148, device='cuda:0', grad_fn=<MulBackward0>) tensor(1.5763, device='cuda:0', grad_fn=<NllLossBackward0>) tensor(0.9246, device='cuda:0', grad_fn=<NllLossBackward0>) 1940 0.0\n",
      "Epoch 612, Loss: 1168.831298828125\n",
      "tensor(6.7227, device='cuda:0')\n",
      "tensor(0.9124, device='cuda:0', grad_fn=<MulBackward0>) tensor(1.5766, device='cuda:0', grad_fn=<NllLossBackward0>) tensor(0.9246, device='cuda:0', grad_fn=<NllLossBackward0>) 1940 0.0\n",
      "Epoch 613, Loss: 1168.8289794921875\n",
      "tensor(6.7279, device='cuda:0')\n",
      "tensor(0.9100, device='cuda:0', grad_fn=<MulBackward0>) tensor(1.5760, device='cuda:0', grad_fn=<NllLossBackward0>) tensor(0.9246, device='cuda:0', grad_fn=<NllLossBackward0>) 1940 0.0\n",
      "Epoch 614, Loss: 1168.82470703125\n",
      "tensor(6.7059, device='cuda:0')\n",
      "tensor(0.9077, device='cuda:0', grad_fn=<MulBackward0>) tensor(1.5755, device='cuda:0', grad_fn=<NllLossBackward0>) tensor(0.9246, device='cuda:0', grad_fn=<NllLossBackward0>) 1940 0.0\n",
      "Epoch 615, Loss: 1168.8206787109375\n",
      "tensor(6.7027, device='cuda:0')\n",
      "tensor(0.9054, device='cuda:0', grad_fn=<MulBackward0>) tensor(1.5768, device='cuda:0', grad_fn=<NllLossBackward0>) tensor(0.9246, device='cuda:0', grad_fn=<NllLossBackward0>) 1940 0.0\n",
      "Epoch 616, Loss: 1168.820068359375\n",
      "tensor(6.6765, device='cuda:0')\n",
      "tensor(0.9030, device='cuda:0', grad_fn=<MulBackward0>) tensor(1.5762, device='cuda:0', grad_fn=<NllLossBackward0>) tensor(0.9246, device='cuda:0', grad_fn=<NllLossBackward0>) 1940 0.0\n",
      "Epoch 617, Loss: 1168.8160400390625\n",
      "tensor(6.6607, device='cuda:0')\n",
      "tensor(0.9007, device='cuda:0', grad_fn=<MulBackward0>) tensor(1.5760, device='cuda:0', grad_fn=<NllLossBackward0>) tensor(0.9246, device='cuda:0', grad_fn=<NllLossBackward0>) 1940 0.0\n",
      "Epoch 618, Loss: 1168.8126220703125\n",
      "tensor(6.6744, device='cuda:0')\n",
      "tensor(0.8984, device='cuda:0', grad_fn=<MulBackward0>) tensor(1.5767, device='cuda:0', grad_fn=<NllLossBackward0>) tensor(0.9246, device='cuda:0', grad_fn=<NllLossBackward0>) 1940 0.0\n",
      "Epoch 619, Loss: 1168.81103515625\n",
      "tensor(6.6681, device='cuda:0')\n",
      "tensor(0.8962, device='cuda:0', grad_fn=<MulBackward0>) tensor(1.5755, device='cuda:0', grad_fn=<NllLossBackward0>) tensor(0.9246, device='cuda:0', grad_fn=<NllLossBackward0>) 1940 0.0\n",
      "Epoch 620, Loss: 1168.8056640625\n",
      "tensor(6.6607, device='cuda:0')\n",
      "tensor(0.8939, device='cuda:0', grad_fn=<MulBackward0>) tensor(1.5764, device='cuda:0', grad_fn=<NllLossBackward0>) tensor(0.9246, device='cuda:0', grad_fn=<NllLossBackward0>) 1940 0.0\n",
      "Epoch 621, Loss: 1168.804443359375\n",
      "tensor(6.6397, device='cuda:0')\n",
      "tensor(0.8916, device='cuda:0', grad_fn=<MulBackward0>) tensor(1.5754, device='cuda:0', grad_fn=<NllLossBackward0>) tensor(0.9246, device='cuda:0', grad_fn=<NllLossBackward0>) 1940 0.0\n",
      "Epoch 622, Loss: 1168.799560546875\n",
      "tensor(6.6891, device='cuda:0')\n",
      "tensor(0.8893, device='cuda:0', grad_fn=<MulBackward0>) tensor(1.5758, device='cuda:0', grad_fn=<NllLossBackward0>) tensor(0.9246, device='cuda:0', grad_fn=<NllLossBackward0>) 1940 0.0\n",
      "Epoch 623, Loss: 1168.79736328125\n",
      "tensor(6.7164, device='cuda:0')\n",
      "tensor(0.8871, device='cuda:0', grad_fn=<MulBackward0>) tensor(1.5762, device='cuda:0', grad_fn=<NllLossBackward0>) tensor(0.9246, device='cuda:0', grad_fn=<NllLossBackward0>) 1940 0.0\n",
      "Epoch 624, Loss: 1168.7952880859375\n",
      "tensor(6.6964, device='cuda:0')\n",
      "tensor(0.8848, device='cuda:0', grad_fn=<MulBackward0>) tensor(1.5759, device='cuda:0', grad_fn=<NllLossBackward0>) tensor(0.9246, device='cuda:0', grad_fn=<NllLossBackward0>) 1940 0.0\n",
      "Epoch 625, Loss: 1168.7916259765625\n",
      "tensor(6.7269, device='cuda:0')\n",
      "tensor(0.8826, device='cuda:0', grad_fn=<MulBackward0>) tensor(1.5757, device='cuda:0', grad_fn=<NllLossBackward0>) tensor(0.9246, device='cuda:0', grad_fn=<NllLossBackward0>) 1940 0.0\n",
      "Epoch 626, Loss: 1168.788330078125\n",
      "tensor(6.6933, device='cuda:0')\n",
      "tensor(0.8803, device='cuda:0', grad_fn=<MulBackward0>) tensor(1.5762, device='cuda:0', grad_fn=<NllLossBackward0>) tensor(0.9246, device='cuda:0', grad_fn=<NllLossBackward0>) 1940 0.0\n",
      "Epoch 627, Loss: 1168.786376953125\n",
      "tensor(6.6985, device='cuda:0')\n",
      "tensor(0.8781, device='cuda:0', grad_fn=<MulBackward0>) tensor(1.5757, device='cuda:0', grad_fn=<NllLossBackward0>) tensor(0.9246, device='cuda:0', grad_fn=<NllLossBackward0>) 1940 0.0\n",
      "Epoch 628, Loss: 1168.7825927734375\n",
      "tensor(6.7216, device='cuda:0')\n",
      "tensor(0.8759, device='cuda:0', grad_fn=<MulBackward0>) tensor(1.5753, device='cuda:0', grad_fn=<NllLossBackward0>) tensor(0.9246, device='cuda:0', grad_fn=<NllLossBackward0>) 1940 0.0\n",
      "Epoch 629, Loss: 1168.7789306640625\n",
      "tensor(6.6996, device='cuda:0')\n",
      "tensor(0.8737, device='cuda:0', grad_fn=<MulBackward0>) tensor(1.5766, device='cuda:0', grad_fn=<NllLossBackward0>) tensor(0.9246, device='cuda:0', grad_fn=<NllLossBackward0>) 1940 0.0\n",
      "Epoch 630, Loss: 1168.778564453125\n",
      "tensor(6.7111, device='cuda:0')\n",
      "tensor(0.8715, device='cuda:0', grad_fn=<MulBackward0>) tensor(1.5763, device='cuda:0', grad_fn=<NllLossBackward0>) tensor(0.9246, device='cuda:0', grad_fn=<NllLossBackward0>) 1940 0.0\n",
      "Epoch 631, Loss: 1168.7750244140625\n",
      "tensor(6.6807, device='cuda:0')\n",
      "tensor(0.8693, device='cuda:0', grad_fn=<MulBackward0>) tensor(1.5766, device='cuda:0', grad_fn=<NllLossBackward0>) tensor(0.9246, device='cuda:0', grad_fn=<NllLossBackward0>) 1940 0.0\n",
      "Epoch 632, Loss: 1168.7728271484375\n",
      "tensor(6.6901, device='cuda:0')\n",
      "tensor(0.8671, device='cuda:0', grad_fn=<MulBackward0>) tensor(1.5767, device='cuda:0', grad_fn=<NllLossBackward0>) tensor(0.9246, device='cuda:0', grad_fn=<NllLossBackward0>) 1940 0.0\n",
      "Epoch 633, Loss: 1168.770263671875\n",
      "tensor(6.6639, device='cuda:0')\n",
      "tensor(0.8649, device='cuda:0', grad_fn=<MulBackward0>) tensor(1.5754, device='cuda:0', grad_fn=<NllLossBackward0>) tensor(0.9246, device='cuda:0', grad_fn=<NllLossBackward0>) 1940 0.0\n",
      "Epoch 634, Loss: 1168.764892578125\n",
      "tensor(6.6723, device='cuda:0')\n",
      "tensor(0.8628, device='cuda:0', grad_fn=<MulBackward0>) tensor(1.5765, device='cuda:0', grad_fn=<NllLossBackward0>) tensor(0.9246, device='cuda:0', grad_fn=<NllLossBackward0>) 1940 0.0\n",
      "Epoch 635, Loss: 1168.76416015625\n",
      "tensor(6.6828, device='cuda:0')\n",
      "tensor(0.8606, device='cuda:0', grad_fn=<MulBackward0>) tensor(1.5761, device='cuda:0', grad_fn=<NllLossBackward0>) tensor(0.9246, device='cuda:0', grad_fn=<NllLossBackward0>) 1940 0.0\n",
      "Epoch 636, Loss: 1168.7607421875\n",
      "tensor(6.6880, device='cuda:0')\n",
      "tensor(0.8585, device='cuda:0', grad_fn=<MulBackward0>) tensor(1.5761, device='cuda:0', grad_fn=<NllLossBackward0>) tensor(0.9246, device='cuda:0', grad_fn=<NllLossBackward0>) 1940 0.0\n",
      "Epoch 637, Loss: 1168.7578125\n",
      "tensor(6.6933, device='cuda:0')\n",
      "tensor(0.8563, device='cuda:0', grad_fn=<MulBackward0>) tensor(1.5761, device='cuda:0', grad_fn=<NllLossBackward0>) tensor(0.9246, device='cuda:0', grad_fn=<NllLossBackward0>) 1940 0.0\n",
      "Epoch 638, Loss: 1168.7550048828125\n",
      "tensor(6.6870, device='cuda:0')\n",
      "tensor(0.8542, device='cuda:0', grad_fn=<MulBackward0>) tensor(1.5758, device='cuda:0', grad_fn=<NllLossBackward0>) tensor(0.9246, device='cuda:0', grad_fn=<NllLossBackward0>) 1940 0.0\n",
      "Epoch 639, Loss: 1168.751708984375\n",
      "tensor(6.7111, device='cuda:0')\n",
      "tensor(0.8520, device='cuda:0', grad_fn=<MulBackward0>) tensor(1.5759, device='cuda:0', grad_fn=<NllLossBackward0>) tensor(0.9246, device='cuda:0', grad_fn=<NllLossBackward0>) 1940 0.0\n",
      "Epoch 640, Loss: 1168.7491455078125\n",
      "tensor(6.7080, device='cuda:0')\n",
      "tensor(0.8500, device='cuda:0', grad_fn=<MulBackward0>) tensor(1.5761, device='cuda:0', grad_fn=<NllLossBackward0>) tensor(0.9246, device='cuda:0', grad_fn=<NllLossBackward0>) 1940 0.0\n",
      "Epoch 641, Loss: 1168.746826171875\n",
      "tensor(6.7059, device='cuda:0')\n",
      "tensor(0.8478, device='cuda:0', grad_fn=<MulBackward0>) tensor(1.5762, device='cuda:0', grad_fn=<NllLossBackward0>) tensor(0.9246, device='cuda:0', grad_fn=<NllLossBackward0>) 1940 0.0\n",
      "Epoch 642, Loss: 1168.744140625\n",
      "tensor(6.7048, device='cuda:0')\n",
      "tensor(0.8457, device='cuda:0', grad_fn=<MulBackward0>) tensor(1.5754, device='cuda:0', grad_fn=<NllLossBackward0>) tensor(0.9246, device='cuda:0', grad_fn=<NllLossBackward0>) 1940 0.0\n",
      "Epoch 643, Loss: 1168.7398681640625\n",
      "tensor(6.7185, device='cuda:0')\n",
      "tensor(0.8436, device='cuda:0', grad_fn=<MulBackward0>) tensor(1.5761, device='cuda:0', grad_fn=<NllLossBackward0>) tensor(0.9246, device='cuda:0', grad_fn=<NllLossBackward0>) 1940 0.0\n",
      "Epoch 644, Loss: 1168.7384033203125\n",
      "tensor(6.7080, device='cuda:0')\n",
      "tensor(0.8415, device='cuda:0', grad_fn=<MulBackward0>) tensor(1.5757, device='cuda:0', grad_fn=<NllLossBackward0>) tensor(0.9246, device='cuda:0', grad_fn=<NllLossBackward0>) 1940 0.0\n",
      "Epoch 645, Loss: 1168.7349853515625\n",
      "tensor(6.7185, device='cuda:0')\n",
      "tensor(0.8395, device='cuda:0', grad_fn=<MulBackward0>) tensor(1.5763, device='cuda:0', grad_fn=<NllLossBackward0>) tensor(0.9246, device='cuda:0', grad_fn=<NllLossBackward0>) 1940 0.0\n",
      "Epoch 646, Loss: 1168.733642578125\n",
      "tensor(6.7069, device='cuda:0')\n",
      "tensor(0.8374, device='cuda:0', grad_fn=<MulBackward0>) tensor(1.5753, device='cuda:0', grad_fn=<NllLossBackward0>) tensor(0.9246, device='cuda:0', grad_fn=<NllLossBackward0>) 1940 0.0\n",
      "Epoch 647, Loss: 1168.7288818359375\n",
      "tensor(6.7185, device='cuda:0')\n",
      "tensor(0.8353, device='cuda:0', grad_fn=<MulBackward0>) tensor(1.5764, device='cuda:0', grad_fn=<NllLossBackward0>) tensor(0.9246, device='cuda:0', grad_fn=<NllLossBackward0>) 1940 0.0\n",
      "Epoch 648, Loss: 1168.7281494140625\n",
      "tensor(6.7101, device='cuda:0')\n",
      "tensor(0.8333, device='cuda:0', grad_fn=<MulBackward0>) tensor(1.5761, device='cuda:0', grad_fn=<NllLossBackward0>) tensor(0.9246, device='cuda:0', grad_fn=<NllLossBackward0>) 1940 0.0\n",
      "Epoch 649, Loss: 1168.7249755859375\n",
      "tensor(6.6985, device='cuda:0')\n",
      "tensor(0.8312, device='cuda:0', grad_fn=<MulBackward0>) tensor(1.5752, device='cuda:0', grad_fn=<NllLossBackward0>) tensor(0.9246, device='cuda:0', grad_fn=<NllLossBackward0>) 1940 0.0\n",
      "Epoch 650, Loss: 1168.7205810546875\n",
      "tensor(6.7185, device='cuda:0')\n",
      "tensor(0.8292, device='cuda:0', grad_fn=<MulBackward0>) tensor(1.5752, device='cuda:0', grad_fn=<NllLossBackward0>) tensor(0.9246, device='cuda:0', grad_fn=<NllLossBackward0>) 1940 0.0\n",
      "Epoch 651, Loss: 1168.7181396484375\n",
      "tensor(6.7027, device='cuda:0')\n",
      "tensor(0.8271, device='cuda:0', grad_fn=<MulBackward0>) tensor(1.5759, device='cuda:0', grad_fn=<NllLossBackward0>) tensor(0.9246, device='cuda:0', grad_fn=<NllLossBackward0>) 1940 0.0\n",
      "Epoch 652, Loss: 1168.716796875\n",
      "tensor(6.7090, device='cuda:0')\n",
      "tensor(0.8251, device='cuda:0', grad_fn=<MulBackward0>) tensor(1.5758, device='cuda:0', grad_fn=<NllLossBackward0>) tensor(0.9246, device='cuda:0', grad_fn=<NllLossBackward0>) 1940 0.0\n",
      "Epoch 653, Loss: 1168.7138671875\n",
      "tensor(6.7143, device='cuda:0')\n",
      "tensor(0.8231, device='cuda:0', grad_fn=<MulBackward0>) tensor(1.5755, device='cuda:0', grad_fn=<NllLossBackward0>) tensor(0.9246, device='cuda:0', grad_fn=<NllLossBackward0>) 1940 0.0\n",
      "Epoch 654, Loss: 1168.7108154296875\n",
      "tensor(6.7080, device='cuda:0')\n",
      "tensor(0.8211, device='cuda:0', grad_fn=<MulBackward0>) tensor(1.5758, device='cuda:0', grad_fn=<NllLossBackward0>) tensor(0.9246, device='cuda:0', grad_fn=<NllLossBackward0>) 1940 0.0\n",
      "Epoch 655, Loss: 1168.7086181640625\n",
      "tensor(6.6880, device='cuda:0')\n",
      "tensor(0.8191, device='cuda:0', grad_fn=<MulBackward0>) tensor(1.5758, device='cuda:0', grad_fn=<NllLossBackward0>) tensor(0.9246, device='cuda:0', grad_fn=<NllLossBackward0>) 1940 0.0\n",
      "Epoch 656, Loss: 1168.7060546875\n",
      "tensor(6.6964, device='cuda:0')\n",
      "tensor(0.8171, device='cuda:0', grad_fn=<MulBackward0>) tensor(1.5764, device='cuda:0', grad_fn=<NllLossBackward0>) tensor(0.9246, device='cuda:0', grad_fn=<NllLossBackward0>) 1940 0.0\n",
      "Epoch 657, Loss: 1168.70458984375\n",
      "tensor(6.7132, device='cuda:0')\n",
      "tensor(0.8152, device='cuda:0', grad_fn=<MulBackward0>) tensor(1.5760, device='cuda:0', grad_fn=<NllLossBackward0>) tensor(0.9246, device='cuda:0', grad_fn=<NllLossBackward0>) 1940 0.0\n",
      "Epoch 658, Loss: 1168.7012939453125\n",
      "tensor(6.7090, device='cuda:0')\n",
      "tensor(0.8132, device='cuda:0', grad_fn=<MulBackward0>) tensor(1.5755, device='cuda:0', grad_fn=<NllLossBackward0>) tensor(0.9246, device='cuda:0', grad_fn=<NllLossBackward0>) 1940 0.0\n",
      "Epoch 659, Loss: 1168.6978759765625\n",
      "tensor(6.7027, device='cuda:0')\n",
      "tensor(0.8112, device='cuda:0', grad_fn=<MulBackward0>) tensor(1.5756, device='cuda:0', grad_fn=<NllLossBackward0>) tensor(0.9246, device='cuda:0', grad_fn=<NllLossBackward0>) 1940 0.0\n",
      "Epoch 660, Loss: 1168.6954345703125\n",
      "tensor(6.7300, device='cuda:0')\n",
      "tensor(0.8092, device='cuda:0', grad_fn=<MulBackward0>) tensor(1.5756, device='cuda:0', grad_fn=<NllLossBackward0>) tensor(0.9246, device='cuda:0', grad_fn=<NllLossBackward0>) 1940 0.0\n",
      "Epoch 661, Loss: 1168.69287109375\n",
      "tensor(6.7195, device='cuda:0')\n",
      "tensor(0.8073, device='cuda:0', grad_fn=<MulBackward0>) tensor(1.5754, device='cuda:0', grad_fn=<NllLossBackward0>) tensor(0.9246, device='cuda:0', grad_fn=<NllLossBackward0>) 1940 0.0\n",
      "Epoch 662, Loss: 1168.68994140625\n",
      "tensor(6.7216, device='cuda:0')\n",
      "tensor(0.8053, device='cuda:0', grad_fn=<MulBackward0>) tensor(1.5750, device='cuda:0', grad_fn=<NllLossBackward0>) tensor(0.9246, device='cuda:0', grad_fn=<NllLossBackward0>) 1940 0.0\n",
      "Epoch 663, Loss: 1168.686767578125\n",
      "tensor(6.7153, device='cuda:0')\n",
      "tensor(0.8034, device='cuda:0', grad_fn=<MulBackward0>) tensor(1.5754, device='cuda:0', grad_fn=<NllLossBackward0>) tensor(0.9246, device='cuda:0', grad_fn=<NllLossBackward0>) 1940 0.0\n",
      "Epoch 664, Loss: 1168.684814453125\n",
      "tensor(6.7311, device='cuda:0')\n",
      "tensor(0.8014, device='cuda:0', grad_fn=<MulBackward0>) tensor(1.5751, device='cuda:0', grad_fn=<NllLossBackward0>) tensor(0.9246, device='cuda:0', grad_fn=<NllLossBackward0>) 1940 0.0\n",
      "Epoch 665, Loss: 1168.6817626953125\n",
      "tensor(6.7206, device='cuda:0')\n",
      "tensor(0.7995, device='cuda:0', grad_fn=<MulBackward0>) tensor(1.5757, device='cuda:0', grad_fn=<NllLossBackward0>) tensor(0.9246, device='cuda:0', grad_fn=<NllLossBackward0>) 1940 0.0\n",
      "Epoch 666, Loss: 1168.680419921875\n",
      "tensor(6.7300, device='cuda:0')\n",
      "tensor(0.7976, device='cuda:0', grad_fn=<MulBackward0>) tensor(1.5760, device='cuda:0', grad_fn=<NllLossBackward0>) tensor(0.9246, device='cuda:0', grad_fn=<NllLossBackward0>) 1940 0.0\n",
      "Epoch 667, Loss: 1168.678466796875\n",
      "tensor(6.7153, device='cuda:0')\n",
      "tensor(0.7957, device='cuda:0', grad_fn=<MulBackward0>) tensor(1.5755, device='cuda:0', grad_fn=<NllLossBackward0>) tensor(0.9246, device='cuda:0', grad_fn=<NllLossBackward0>) 1940 0.0\n",
      "Epoch 668, Loss: 1168.675048828125\n",
      "tensor(6.7248, device='cuda:0')\n",
      "tensor(0.7938, device='cuda:0', grad_fn=<MulBackward0>) tensor(1.5762, device='cuda:0', grad_fn=<NllLossBackward0>) tensor(0.9246, device='cuda:0', grad_fn=<NllLossBackward0>) 1940 0.0\n",
      "Epoch 669, Loss: 1168.6739501953125\n",
      "tensor(6.6985, device='cuda:0')\n",
      "tensor(0.7919, device='cuda:0', grad_fn=<MulBackward0>) tensor(1.5757, device='cuda:0', grad_fn=<NllLossBackward0>) tensor(0.9246, device='cuda:0', grad_fn=<NllLossBackward0>) 1940 0.0\n",
      "Epoch 670, Loss: 1168.6705322265625\n",
      "tensor(6.7143, device='cuda:0')\n",
      "tensor(0.7900, device='cuda:0', grad_fn=<MulBackward0>) tensor(1.5749, device='cuda:0', grad_fn=<NllLossBackward0>) tensor(0.9246, device='cuda:0', grad_fn=<NllLossBackward0>) 1940 0.0\n",
      "Epoch 671, Loss: 1168.66650390625\n",
      "tensor(6.7122, device='cuda:0')\n",
      "tensor(0.7881, device='cuda:0', grad_fn=<MulBackward0>) tensor(1.5754, device='cuda:0', grad_fn=<NllLossBackward0>) tensor(0.9246, device='cuda:0', grad_fn=<NllLossBackward0>) 1940 0.0\n",
      "Epoch 672, Loss: 1168.6649169921875\n",
      "tensor(6.6838, device='cuda:0')\n",
      "tensor(0.7862, device='cuda:0', grad_fn=<MulBackward0>) tensor(1.5754, device='cuda:0', grad_fn=<NllLossBackward0>) tensor(0.9246, device='cuda:0', grad_fn=<NllLossBackward0>) 1940 0.0\n",
      "Epoch 673, Loss: 1168.6624755859375\n",
      "tensor(6.7111, device='cuda:0')\n",
      "tensor(0.7843, device='cuda:0', grad_fn=<MulBackward0>) tensor(1.5757, device='cuda:0', grad_fn=<NllLossBackward0>) tensor(0.9246, device='cuda:0', grad_fn=<NllLossBackward0>) 1940 0.0\n",
      "Epoch 674, Loss: 1168.66064453125\n",
      "tensor(6.7269, device='cuda:0')\n",
      "tensor(0.7825, device='cuda:0', grad_fn=<MulBackward0>) tensor(1.5757, device='cuda:0', grad_fn=<NllLossBackward0>) tensor(0.9246, device='cuda:0', grad_fn=<NllLossBackward0>) 1940 0.0\n",
      "Epoch 675, Loss: 1168.6583251953125\n",
      "tensor(6.7069, device='cuda:0')\n",
      "tensor(0.7806, device='cuda:0', grad_fn=<MulBackward0>) tensor(1.5754, device='cuda:0', grad_fn=<NllLossBackward0>) tensor(0.9246, device='cuda:0', grad_fn=<NllLossBackward0>) 1940 0.0\n",
      "Epoch 676, Loss: 1168.6552734375\n",
      "tensor(6.7290, device='cuda:0')\n",
      "tensor(0.7787, device='cuda:0', grad_fn=<MulBackward0>) tensor(1.5757, device='cuda:0', grad_fn=<NllLossBackward0>) tensor(0.9246, device='cuda:0', grad_fn=<NllLossBackward0>) 1940 0.0\n",
      "Epoch 677, Loss: 1168.6534423828125\n",
      "tensor(6.7227, device='cuda:0')\n",
      "tensor(0.7769, device='cuda:0', grad_fn=<MulBackward0>) tensor(1.5757, device='cuda:0', grad_fn=<NllLossBackward0>) tensor(0.9246, device='cuda:0', grad_fn=<NllLossBackward0>) 1940 0.0\n",
      "Epoch 678, Loss: 1168.65087890625\n",
      "tensor(6.7195, device='cuda:0')\n",
      "tensor(0.7750, device='cuda:0', grad_fn=<MulBackward0>) tensor(1.5761, device='cuda:0', grad_fn=<NllLossBackward0>) tensor(0.9246, device='cuda:0', grad_fn=<NllLossBackward0>) 1940 0.0\n",
      "Epoch 679, Loss: 1168.6492919921875\n",
      "tensor(6.7080, device='cuda:0')\n",
      "tensor(0.7732, device='cuda:0', grad_fn=<MulBackward0>) tensor(1.5752, device='cuda:0', grad_fn=<NllLossBackward0>) tensor(0.9246, device='cuda:0', grad_fn=<NllLossBackward0>) 1940 0.0\n",
      "Epoch 680, Loss: 1168.645263671875\n",
      "tensor(6.7342, device='cuda:0')\n",
      "tensor(0.7714, device='cuda:0', grad_fn=<MulBackward0>) tensor(1.5761, device='cuda:0', grad_fn=<NllLossBackward0>) tensor(0.9246, device='cuda:0', grad_fn=<NllLossBackward0>) 1940 0.0\n",
      "Epoch 681, Loss: 1168.6446533203125\n",
      "tensor(6.7122, device='cuda:0')\n",
      "tensor(0.7695, device='cuda:0', grad_fn=<MulBackward0>) tensor(1.5748, device='cuda:0', grad_fn=<NllLossBackward0>) tensor(0.9246, device='cuda:0', grad_fn=<NllLossBackward0>) 1940 0.0\n",
      "Epoch 682, Loss: 1168.6397705078125\n",
      "tensor(6.7101, device='cuda:0')\n",
      "tensor(0.7677, device='cuda:0', grad_fn=<MulBackward0>) tensor(1.5759, device='cuda:0', grad_fn=<NllLossBackward0>) tensor(0.9246, device='cuda:0', grad_fn=<NllLossBackward0>) 1940 0.0\n",
      "Epoch 683, Loss: 1168.639404296875\n",
      "tensor(6.7248, device='cuda:0')\n",
      "tensor(0.7659, device='cuda:0', grad_fn=<MulBackward0>) tensor(1.5756, device='cuda:0', grad_fn=<NllLossBackward0>) tensor(0.9246, device='cuda:0', grad_fn=<NllLossBackward0>) 1940 0.0\n",
      "Epoch 684, Loss: 1168.6365966796875\n",
      "tensor(6.7206, device='cuda:0')\n",
      "tensor(0.7641, device='cuda:0', grad_fn=<MulBackward0>) tensor(1.5751, device='cuda:0', grad_fn=<NllLossBackward0>) tensor(0.9246, device='cuda:0', grad_fn=<NllLossBackward0>) 1940 0.0\n",
      "Epoch 685, Loss: 1168.63330078125\n",
      "tensor(6.7195, device='cuda:0')\n",
      "tensor(0.7623, device='cuda:0', grad_fn=<MulBackward0>) tensor(1.5756, device='cuda:0', grad_fn=<NllLossBackward0>) tensor(0.9246, device='cuda:0', grad_fn=<NllLossBackward0>) 1940 0.0\n",
      "Epoch 686, Loss: 1168.6319580078125\n",
      "tensor(6.7279, device='cuda:0')\n",
      "tensor(0.7605, device='cuda:0', grad_fn=<MulBackward0>) tensor(1.5748, device='cuda:0', grad_fn=<NllLossBackward0>) tensor(0.9246, device='cuda:0', grad_fn=<NllLossBackward0>) 1940 0.0\n",
      "Epoch 687, Loss: 1168.6279296875\n",
      "tensor(6.7122, device='cuda:0')\n",
      "tensor(0.7587, device='cuda:0', grad_fn=<MulBackward0>) tensor(1.5752, device='cuda:0', grad_fn=<NllLossBackward0>) tensor(0.9246, device='cuda:0', grad_fn=<NllLossBackward0>) 1940 0.0\n",
      "Epoch 688, Loss: 1168.6263427734375\n",
      "tensor(6.7090, device='cuda:0')\n",
      "tensor(0.7569, device='cuda:0', grad_fn=<MulBackward0>) tensor(1.5753, device='cuda:0', grad_fn=<NllLossBackward0>) tensor(0.9246, device='cuda:0', grad_fn=<NllLossBackward0>) 1940 0.0\n",
      "Epoch 689, Loss: 1168.624267578125\n",
      "tensor(6.7405, device='cuda:0')\n",
      "tensor(0.7551, device='cuda:0', grad_fn=<MulBackward0>) tensor(1.5756, device='cuda:0', grad_fn=<NllLossBackward0>) tensor(0.9246, device='cuda:0', grad_fn=<NllLossBackward0>) 1940 0.0\n",
      "Epoch 690, Loss: 1168.62255859375\n",
      "tensor(6.7069, device='cuda:0')\n",
      "tensor(0.7533, device='cuda:0', grad_fn=<MulBackward0>) tensor(1.5748, device='cuda:0', grad_fn=<NllLossBackward0>) tensor(0.9246, device='cuda:0', grad_fn=<NllLossBackward0>) 1940 0.0\n",
      "Epoch 691, Loss: 1168.61865234375\n",
      "tensor(6.7038, device='cuda:0')\n",
      "tensor(0.7516, device='cuda:0', grad_fn=<MulBackward0>) tensor(1.5757, device='cuda:0', grad_fn=<NllLossBackward0>) tensor(0.9246, device='cuda:0', grad_fn=<NllLossBackward0>) 1940 0.0\n",
      "Epoch 692, Loss: 1168.6180419921875\n",
      "tensor(6.7174, device='cuda:0')\n",
      "tensor(0.7498, device='cuda:0', grad_fn=<MulBackward0>) tensor(1.5755, device='cuda:0', grad_fn=<NllLossBackward0>) tensor(0.9246, device='cuda:0', grad_fn=<NllLossBackward0>) 1940 0.0\n",
      "Epoch 693, Loss: 1168.615478515625\n",
      "tensor(6.7069, device='cuda:0')\n",
      "tensor(0.7480, device='cuda:0', grad_fn=<MulBackward0>) tensor(1.5751, device='cuda:0', grad_fn=<NllLossBackward0>) tensor(0.9246, device='cuda:0', grad_fn=<NllLossBackward0>) 1940 0.0\n",
      "Epoch 694, Loss: 1168.6121826171875\n",
      "tensor(6.7290, device='cuda:0')\n",
      "tensor(0.7463, device='cuda:0', grad_fn=<MulBackward0>) tensor(1.5757, device='cuda:0', grad_fn=<NllLossBackward0>) tensor(0.9246, device='cuda:0', grad_fn=<NllLossBackward0>) 1940 0.0\n",
      "Epoch 695, Loss: 1168.611083984375\n",
      "tensor(6.7132, device='cuda:0')\n",
      "tensor(0.7445, device='cuda:0', grad_fn=<MulBackward0>) tensor(1.5755, device='cuda:0', grad_fn=<NllLossBackward0>) tensor(0.9246, device='cuda:0', grad_fn=<NllLossBackward0>) 1940 0.0\n",
      "Epoch 696, Loss: 1168.6083984375\n",
      "tensor(6.7143, device='cuda:0')\n",
      "tensor(0.7427, device='cuda:0', grad_fn=<MulBackward0>) tensor(1.5752, device='cuda:0', grad_fn=<NllLossBackward0>) tensor(0.9246, device='cuda:0', grad_fn=<NllLossBackward0>) 1940 0.0\n",
      "Epoch 697, Loss: 1168.6055908203125\n",
      "tensor(6.7353, device='cuda:0')\n",
      "tensor(0.7410, device='cuda:0', grad_fn=<MulBackward0>) tensor(1.5755, device='cuda:0', grad_fn=<NllLossBackward0>) tensor(0.9246, device='cuda:0', grad_fn=<NllLossBackward0>) 1940 0.0\n",
      "Epoch 698, Loss: 1168.6038818359375\n",
      "tensor(6.7195, device='cuda:0')\n",
      "tensor(0.7393, device='cuda:0', grad_fn=<MulBackward0>) tensor(1.5754, device='cuda:0', grad_fn=<NllLossBackward0>) tensor(0.9246, device='cuda:0', grad_fn=<NllLossBackward0>) 1940 0.0\n",
      "Epoch 699, Loss: 1168.6015625\n",
      "tensor(6.7479, device='cuda:0')\n",
      "tensor(0.7375, device='cuda:0', grad_fn=<MulBackward0>) tensor(1.5748, device='cuda:0', grad_fn=<NllLossBackward0>) tensor(0.9246, device='cuda:0', grad_fn=<NllLossBackward0>) 1940 0.0\n",
      "Epoch 700, Loss: 1168.59814453125\n"
     ]
    }
   ],
   "source": [
    "num_epochs = 700\n",
    "for epoch in range(num_epochs):\n",
    "    total_loss = 0\n",
    "    #lambda_kld = min(1.0, 0.01 +  epoch/ num_epochs)\n",
    "    lambda_kld = 1.3\n",
    "    batch_count = 0\n",
    "    for data in data_object_loader:\n",
    "        # print(adj_matrix.shape)\n",
    "        optimizer.zero_grad()\n",
    "\n",
    "        # adj_matrix.to(device)\n",
    "        # node_features.to(device)\n",
    "\n",
    "        # data = process_graph_data_to_data_objects(adj_matrix, node_features)\n",
    "        data = Batch.from_data_list(data).to(device)\n",
    "\n",
    "        reconstructed, reconstructed_atoms, mu, logvar = model(data)\n",
    "\n",
    "        loss = loss_function(\n",
    "            reconstructed, data.adj_matrix,\n",
    "            mu, logvar,\n",
    "            reconstructed_atoms, data.node_features,\n",
    "            lambda_kld, device\n",
    "        )\n",
    "        total_loss += loss.item()\n",
    "\n",
    "        # Backpropagation\n",
    "        loss.backward()\n",
    "        optimizer.step()\n",
    "\n",
    "        #for name, param in model.named_parameters():\n",
    "        #    if param.requires_grad:\n",
    "        #        print(f\"Gradients of {name}: {param.grad}\")\n",
    "\n",
    "    # Calculate average loss for reporting\n",
    "    avg_loss = total_loss / len(dataloader)\n",
    "    print(f'Epoch {epoch + 1}, Loss: {loss.item()}')"
   ]
  },
  {
   "attachments": {},
   "cell_type": "markdown",
   "metadata": {},
   "source": [
    "### Use if Sampling with Conditioning"
   ]
  },
  {
   "cell_type": "code",
   "execution_count": null,
   "metadata": {},
   "outputs": [],
   "source": [
    "def sample_latent_space(mu, logvar, num_samples=1):\n",
    "    std = torch.exp(0.5 * logvar)\n",
    "    eps = torch.randn_like(std)  # Random noise\n",
    "    return mu + eps * std"
   ]
  },
  {
   "attachments": {},
   "cell_type": "markdown",
   "metadata": {},
   "source": [
    "### Use if Sampling without Conditioning"
   ]
  },
  {
   "cell_type": "code",
   "execution_count": 100,
   "metadata": {},
   "outputs": [],
   "source": [
    "def sample_z(latent_dim, num_samples=1, device=\"cuda\"):\n",
    "    return torch.randn(num_samples, latent_dim).to(device)"
   ]
  },
  {
   "cell_type": "code",
   "execution_count": 114,
   "metadata": {},
   "outputs": [],
   "source": [
    "def generate_graph(model, num_samples=1, latent_dim=LATENT_DIM+252, device=\"cuda\"):\n",
    "    z = sample_z(latent_dim, num_samples, device)\n",
    "\n",
    "    with torch.no_grad():\n",
    "        A_pred, features_pred = model.decode(z)\n",
    "\n",
    "    return A_pred, features_pred"
   ]
  },
  {
   "cell_type": "code",
   "execution_count": 102,
   "metadata": {},
   "outputs": [],
   "source": [
    "atomic_mapping = {0: 6, 1: 7, 2:8, 3:9, 4:14, 5:15, 6:16, 7:17, 8:35, 9:53}"
   ]
  },
  {
   "cell_type": "code",
   "execution_count": 103,
   "metadata": {},
   "outputs": [],
   "source": [
    "def get_bond_type(bond_type):\n",
    "    bond_type = torch.argmax(bond_type, dim=-1).item()\n",
    "    if bond_type == 0:\n",
    "        return rdchem.BondType.SINGLE\n",
    "    elif bond_type == 1:\n",
    "        return rdchem.BondType.DOUBLE\n",
    "    elif bond_type == 2:\n",
    "        return rdchem.BondType.TRIPLE\n",
    "    elif bond_type == 3:\n",
    "        return rdchem.BondType.AROMATIC\n",
    "    else:\n",
    "        return None"
   ]
  },
  {
   "cell_type": "code",
   "execution_count": 104,
   "metadata": {},
   "outputs": [],
   "source": [
    "def is_valid(data):\n",
    "    node_features = data.x\n",
    "    edge_index = data.edge_index\n",
    "    edge_attr = data.edge_attr\n",
    "\n",
    "    atomic_numbers = []\n",
    "    for num in node_features.argmax(dim=-1).tolist():\n",
    "        atomic_numbers.append(atomic_mapping[num])\n",
    "\n",
    "    mol = Chem.RWMol()\n",
    "    for atomic_num in atomic_numbers:\n",
    "        atom = Chem.Atom(atomic_num)\n",
    "        mol.AddAtom(atom)\n",
    "\n",
    "    for i, (bond_start, bond_end) in enumerate(edge_index.t().tolist()):\n",
    "        bond_val = edge_attr[i]\n",
    "        bond_type = get_bond_type(bond_val)\n",
    "        mol.AddBond(bond_start, bond_end, bond_type)\n",
    "\n",
    "    validity = Chem.SanitizeMol(mol, catchErrors=True)\n",
    "\n",
    "    return validity == Chem.SanitizeFlags.SANITIZE_NONE"
   ]
  },
  {
   "cell_type": "code",
   "execution_count": 105,
   "metadata": {},
   "outputs": [],
   "source": [
    "unique_molecules = set()\n",
    "def is_unique(data):\n",
    "    node_features = data.x\n",
    "    edge_index = data.edge_index\n",
    "    edge_attr = data.edge_attr\n",
    "\n",
    "    atomic_numbers = []\n",
    "    for num in node_features.argmax(dim=-1).tolist():\n",
    "        atomic_numbers.append(atomic_mapping[num])\n",
    "\n",
    "    mol = Chem.RWMol()\n",
    "    for atomic_num in atomic_numbers:\n",
    "        atom = Chem.Atom(atomic_num)\n",
    "        mol.AddAtom(atom)\n",
    "\n",
    "    for i, (bond_start, bond_end) in enumerate(edge_index.t().tolist()):\n",
    "        bond_val = edge_attr[i]\n",
    "        bond_type = get_bond_type(bond_val)\n",
    "        mol.AddBond(bond_start, bond_end, bond_type)\n",
    "\n",
    "    canonical_smiles = Chem.MolToSmiles(mol, isomericSmiles=True)\n",
    "    if canonical_smiles not in unique_molecules:\n",
    "        unique_molecules.add(canonical_smiles)\n",
    "        return True\n",
    "    else:\n",
    "        return False"
   ]
  },
  {
   "cell_type": "code",
   "execution_count": null,
   "metadata": {},
   "outputs": [],
   "source": [
    "# torch.save(model.state_dict(), \"models/vae_model_conditioning.pt\")"
   ]
  },
  {
   "cell_type": "code",
   "execution_count": 106,
   "metadata": {},
   "outputs": [
    {
     "name": "stdout",
     "output_type": "stream",
     "text": [
      "RGCN_VGAE(\n",
      "  (rgcn1): RGCNConv(10, 256, num_relations=4)\n",
      "  (rgcn2): RGCNConv(256, 256, num_relations=4)\n",
      "  (rgcn3): RGCNConv(256, 256, num_relations=4)\n",
      "  (fc_mu): Linear(in_features=256, out_features=256, bias=True)\n",
      "  (fc_logvar): Linear(in_features=256, out_features=256, bias=True)\n",
      "  (adj_decoder): Sequential(\n",
      "    (0): Linear(in_features=508, out_features=256, bias=True)\n",
      "    (1): ReLU()\n",
      "    (2): Linear(in_features=256, out_features=19845, bias=True)\n",
      "  )\n",
      "  (feature_decoder): Linear(in_features=508, out_features=693, bias=True)\n",
      "  (cond_pool1): AdaptiveAvgPool1d(output_size=9901)\n",
      "  (cond_linear1): Linear(in_features=9901, out_features=3808, bias=True)\n",
      ")\n"
     ]
    }
   ],
   "source": [
    "print(model)"
   ]
  },
  {
   "cell_type": "code",
   "execution_count": 107,
   "metadata": {},
   "outputs": [],
   "source": [
    "import re\n",
    "def expand_formula(formula):\n",
    "    pattern = r'([A-Z][a-z]?)(\\d*)'\n",
    "    expanded_list = []\n",
    "    total_atoms = 0\n",
    "\n",
    "    matches = re.findall(pattern, formula)\n",
    "    for element, count in matches:\n",
    "        count = int(count) if count else 1\n",
    "        expanded_list.extend([element] * count)\n",
    "        total_atoms += count\n",
    "\n",
    "    return expanded_list, total_atoms"
   ]
  },
  {
   "cell_type": "code",
   "execution_count": 108,
   "metadata": {},
   "outputs": [],
   "source": [
    "def get_molecule(datapoint):\n",
    "    _, formula = to_chemula(datapoint)\n",
    "    l, total_atoms = expand_formula(formula)\n",
    "\n",
    "    # #atomic_numbers = datapoint.x.argmax(dim=1).tolist()\n",
    "    # atomic_numbers_unmapped = datapoint.x.argmax(dim=1).tolist()\n",
    "    # atomic_numbers = []\n",
    "    # for at in atomic_numbers_unmapped:\n",
    "    #     atomic_numbers.append(atomic_mapping[at])\n",
    "    # positions = datapoint.positions.numpy()\n",
    "    positions = np.random.rand(len(l), 3) * 10\n",
    "\n",
    "    # molecule = Atoms(numbers=atomic_numbers, positions=positions)\n",
    "    molecule = Atoms(symbols=l, positions=positions)\n",
    "\n",
    "    return molecule, total_atoms\n",
    "\n",
    "@contextmanager\n",
    "def suppress_stdout():\n",
    "    with open(os.devnull, \"w\") as devnull:\n",
    "        old_stdout = sys.stdout\n",
    "        sys.stdout = devnull\n",
    "        try:\n",
    "            yield\n",
    "        finally:\n",
    "            sys.stdout = old_stdout\n",
    "\n",
    "def get_dft(datapoint, De=0.242, re=0.74, alpha=1.5):\n",
    "    molecule, _ = get_molecule(datapoint)\n",
    "    print('Molecule:', molecule)\n",
    "    dft_calculator = MorsePotential(De=De, r0=re, alpha=alpha)\n",
    "    molecule.set_calculator(dft_calculator)\n",
    "    # energy = molecule.get_potential_energy()\n",
    "    with suppress_stdout():\n",
    "        opt = QuasiNewton(molecule)\n",
    "        opt.run(fmax=0.02)\n",
    "    optimized_energy = molecule.get_potential_energy()\n",
    "    return optimized_energy\n",
    "\n",
    "# energy = get_dft(datapoint)\n",
    "\n",
    "# print(f'DFT Energy: {energy} eV')"
   ]
  },
  {
   "cell_type": "code",
   "execution_count": 109,
   "metadata": {},
   "outputs": [],
   "source": [
    "def to_chemula(data):\n",
    "    node_features = data.x\n",
    "    edge_index = data.edge_index\n",
    "    edge_attr = data.edge_attr\n",
    "\n",
    "    atomic_numbers = []\n",
    "    for num in node_features.argmax(dim=-1).tolist():\n",
    "        atomic_numbers.append(atomic_mapping[num])\n",
    "\n",
    "    mol = Chem.RWMol()\n",
    "    for atomic_num in atomic_numbers:\n",
    "        atom = Chem.Atom(atomic_num)\n",
    "        mol.AddAtom(atom)\n",
    "\n",
    "    for i, (bond_start, bond_end) in enumerate(edge_index.t().tolist()):\n",
    "        bond_val = edge_attr[i]\n",
    "        bond_type = get_bond_type(bond_val)\n",
    "        mol.AddBond(bond_start, bond_end, bond_type)\n",
    "\n",
    "    Chem.SanitizeMol(mol)\n",
    "    return mol, CalcMolFormula(mol)"
   ]
  },
  {
   "cell_type": "code",
   "execution_count": 110,
   "metadata": {},
   "outputs": [
    {
     "data": {
      "image/png": "[encoded data removed]",
      "text/plain": [
       "<rdkit.Chem.rdchem.Mol at 0x2aabb232d9c0>"
      ]
     },
     "execution_count": 110,
     "metadata": {},
     "output_type": "execute_result"
    }
   ],
   "source": [
    "Chem.MolFromSmiles('NN')"
   ]
  },
  {
   "cell_type": "code",
   "execution_count": 111,
   "metadata": {},
   "outputs": [],
   "source": [
    "class GraphEncoder(nn.Module):\n",
    "    def __init__(self, input_dim, num_relations):\n",
    "        super(GraphEncoder, self).__init__()\n",
    "        self.rgcnconv1 = RGCNConv(input_dim, 512, num_relations=num_relations)\n",
    "        self.rgcnconv2 = RGCNConv(512, 256, num_relations=num_relations)\n",
    "        self.rgcnconv3 = RGCNConv(256, 128, num_relations=num_relations)\n",
    "\n",
    "    def forward(self, x, edge_index, edge_attr):\n",
    "        x = self.rgcnconv1(x, edge_index, edge_attr)\n",
    "        x = nn.ReLU()(x)\n",
    "        x = self.rgcnconv2(x, edge_index, edge_attr)\n",
    "        x = nn.ReLU()(x)\n",
    "        x = self.rgcnconv3(x, edge_index, edge_attr)\n",
    "        x = nn.ReLU()(x)\n",
    "        return x\n",
    "\n",
    "class BioClassifier(nn.Module):\n",
    "    def __init__(self, input_dim, num_heads):\n",
    "        super(BioClassifier, self).__init__()\n",
    "\n",
    "        self.encoder = GraphEncoder(input_dim, num_heads)\n",
    "        self.fc1 = nn.Linear(128, 64)\n",
    "        self.bn1 = nn.BatchNorm1d(64)\n",
    "        self.fc2 = nn.Linear(64, 1)\n",
    "        self.dropout = nn.Dropout(0.4)\n",
    "\n",
    "    def forward(self, data):\n",
    "        x, edge_index, edge_attr = data.x, data.edge_index, data.edge_attr\n",
    "        x = x.float()\n",
    "\n",
    "        x = self.encoder(x, edge_index, edge_attr)\n",
    "        x = global_add_pool(x, data.batch)\n",
    "        x = self.dropout(x)\n",
    "        x = self.fc1(x)\n",
    "        x = nn.ReLU()(x)\n",
    "        x = self.bn1(x)\n",
    "        x = self.dropout(x)\n",
    "        x = self.fc2(x)\n",
    "        x = torch.sigmoid(x)\n",
    "        return x.squeeze(dim=1)"
   ]
  },
  {
   "cell_type": "code",
   "execution_count": 112,
   "metadata": {},
   "outputs": [],
   "source": [
    "model_bio_eval = BioClassifier(10, 4).to(device)\n",
    "\n",
    "state_dict = torch.load('models/rcgn_model_7428.pt')\n",
    "model_bio_eval.load_state_dict(state_dict)\n",
    "\n",
    "model_bio_eval.eval()\n",
    "def get_model_prediction(datapoint):\n",
    "    pred = model_bio_eval(datapoint)\n",
    "    return pred.item()"
   ]
  },
  {
   "cell_type": "code",
   "execution_count": null,
   "metadata": {},
   "outputs": [],
   "source": [
    "# print(datapoint)\n",
    "# datapoint.edge_attr = torch.argmax(datapoint.edge_attr, dim=1).to(device)\n",
    "# datapoint.edge_index = datapoint.edge_index.to(device)\n",
    "# datapoint.x = datapoint.x.to(device)"
   ]
  },
  {
   "cell_type": "code",
   "execution_count": null,
   "metadata": {},
   "outputs": [],
   "source": [
    "# print(datapoint.edge_attr)"
   ]
  },
  {
   "cell_type": "code",
   "execution_count": null,
   "metadata": {},
   "outputs": [],
   "source": [
    "# dft = get_dft(datapoint)\n",
    "# y = get_model_prediction(datapoint) * 100\n",
    "\n",
    "# print(f'DFT (remember negative is good): {dft}')\n",
    "# print(f'Chance of Biodgradability: {y:.2f}%')"
   ]
  },
  {
   "cell_type": "markdown",
   "metadata": {},
   "source": [
    "## Generating from Our Latent Space"
   ]
  },
  {
   "cell_type": "code",
   "execution_count": 99,
   "metadata": {},
   "outputs": [],
   "source": [
    "# generated_list_ours = []\n",
    "# list_len = 100\n",
    "# for i in tqdm(range(list_len)):\n",
    "#     bonds_pred_ours, atoms_pred_ours = generate_graph_ours(model)\n",
    "#     datapoints = process_graph_data_to_data_objects(bonds_pred_ours, atoms_pred_ours)\n",
    "#     datapoint = datapoints[0]\n",
    "#     validity = is_valid(datapoint)\n",
    "#     mol, formula = to_chemula(datapoint)\n",
    "#     ase_atoms = get_molecule(datapoint)\n",
    "#     energy = get_dft(datapoint)\n",
    "#     datapoint.edge_attr = torch.argmax(datapoint.edge_attr, dim=1).to(device)\n",
    "#     datapoint.edge_index = datapoint.edge_index.to(device)\n",
    "#     datapoint.x = datapoint.x.to(device)\n",
    "#     y = get_model_prediction(datapoint) * 100\n",
    "#     generated_list_ours.append({\"bond_preds\": bonds_pred, \"atom_preds\": atoms_pred, \"is_valid\": validity, \"ase_atom\": ase_atoms, \"mol\": mol, \"formula\": formula, \"energy\":energy, \"bio\":y})"
   ]
  },
  {
   "cell_type": "markdown",
   "metadata": {},
   "source": [
    "## Generating from Rand Normal Distribution"
   ]
  },
  {
   "cell_type": "code",
   "execution_count": 118,
   "metadata": {},
   "outputs": [
    {
     "name": "stderr",
     "output_type": "stream",
     "text": [
      "[16:46:58] Explicit valence for atom # 2 F, 2, is greater than permitted\n",
      "[16:46:58] Explicit valence for atom # 2 F, 2, is greater than permitted\n",
      "[16:46:58] Explicit valence for atom # 1 Br, 6, is greater than permitted\n",
      "[16:46:58] Explicit valence for atom # 1 Br, 6, is greater than permitted\n"
     ]
    },
    {
     "name": "stdout",
     "output_type": "stream",
     "text": [
      "ERROR!!!!!!\n",
      "Explicit valence for atom # 2 F, 2, is greater than permitted\n",
      "ERROR!!!!!!\n",
      "Explicit valence for atom # 1 Br, 6, is greater than permitted\n"
     ]
    },
    {
     "name": "stderr",
     "output_type": "stream",
     "text": [
      "[16:46:58] Explicit valence for atom # 4 C, 5, is greater than permitted\n",
      "[16:46:58] Explicit valence for atom # 4 C, 5, is greater than permitted\n",
      "[16:46:58] Explicit valence for atom # 2 F, 2, is greater than permitted\n",
      "[16:46:58] Explicit valence for atom # 2 F, 2, is greater than permitted\n",
      "[16:46:59] Explicit valence for atom # 0 F, 2, is greater than permitted\n",
      "[16:46:59] Explicit valence for atom # 0 F, 2, is greater than permitted\n"
     ]
    },
    {
     "name": "stdout",
     "output_type": "stream",
     "text": [
      "ERROR!!!!!!\n",
      "Explicit valence for atom # 4 C, 5, is greater than permitted\n",
      "ERROR!!!!!!\n",
      "Explicit valence for atom # 2 F, 2, is greater than permitted\n",
      "ERROR!!!!!!\n",
      "Explicit valence for atom # 0 F, 2, is greater than permitted\n"
     ]
    },
    {
     "name": "stderr",
     "output_type": "stream",
     "text": [
      "[16:46:59] Explicit valence for atom # 7 Cl, 2, is greater than permitted\n",
      "[16:46:59] Explicit valence for atom # 7 Cl, 2, is greater than permitted\n",
      "[16:46:59] Explicit valence for atom # 1 F, 2, is greater than permitted\n",
      "[16:46:59] Explicit valence for atom # 1 F, 2, is greater than permitted\n",
      "[16:46:59] Explicit valence for atom # 2 F, 2, is greater than permitted\n",
      "[16:46:59] Explicit valence for atom # 2 F, 2, is greater than permitted\n"
     ]
    },
    {
     "name": "stdout",
     "output_type": "stream",
     "text": [
      "ERROR!!!!!!\n",
      "Explicit valence for atom # 7 Cl, 2, is greater than permitted\n",
      "ERROR!!!!!!\n",
      "Explicit valence for atom # 1 F, 2, is greater than permitted\n",
      "ERROR!!!!!!\n",
      "Explicit valence for atom # 2 F, 2, is greater than permitted\n"
     ]
    },
    {
     "name": "stderr",
     "output_type": "stream",
     "text": [
      "[16:46:59] non-ring atom 4 marked aromatic\n",
      "[16:46:59] non-ring atom 4 marked aromatic\n",
      "[16:46:59] Explicit valence for atom # 1 F, 2, is greater than permitted\n",
      "[16:46:59] Explicit valence for atom # 1 F, 2, is greater than permitted\n",
      "[16:46:59] Explicit valence for atom # 6 S, 9, is greater than permitted\n",
      "[16:46:59] Explicit valence for atom # 6 S, 9, is greater than permitted\n"
     ]
    },
    {
     "name": "stdout",
     "output_type": "stream",
     "text": [
      "ERROR!!!!!!\n",
      "non-ring atom 4 marked aromatic\n",
      "ERROR!!!!!!\n",
      "Explicit valence for atom # 1 F, 2, is greater than permitted\n",
      "ERROR!!!!!!\n",
      "Explicit valence for atom # 6 S, 9, is greater than permitted\n"
     ]
    },
    {
     "name": "stderr",
     "output_type": "stream",
     "text": [
      "[16:46:59] Explicit valence for atom # 0 F, 4, is greater than permitted\n",
      "[16:46:59] Explicit valence for atom # 0 F, 4, is greater than permitted\n",
      "[16:46:59] Explicit valence for atom # 1 Br, 5, is greater than permitted\n",
      "[16:46:59] Explicit valence for atom # 1 Br, 5, is greater than permitted\n",
      "[16:46:59] Explicit valence for atom # 0 O, 3, is greater than permitted\n",
      "[16:46:59] Explicit valence for atom # 0 O, 3, is greater than permitted\n"
     ]
    },
    {
     "name": "stdout",
     "output_type": "stream",
     "text": [
      "ERROR!!!!!!\n",
      "Explicit valence for atom # 0 F, 4, is greater than permitted\n",
      "ERROR!!!!!!\n",
      "Explicit valence for atom # 1 Br, 5, is greater than permitted\n",
      "ERROR!!!!!!\n",
      "Explicit valence for atom # 0 O, 3, is greater than permitted\n"
     ]
    },
    {
     "name": "stderr",
     "output_type": "stream",
     "text": [
      "[16:47:00] Explicit valence for atom # 2 O, 3, is greater than permitted\n",
      "[16:47:00] Explicit valence for atom # 2 O, 3, is greater than permitted\n",
      "[16:47:00] Explicit valence for atom # 7 F, 4, is greater than permitted\n",
      "[16:47:00] Explicit valence for atom # 7 F, 4, is greater than permitted\n",
      "[16:47:00] Explicit valence for atom # 2 F, 2, is greater than permitted\n",
      "[16:47:00] Explicit valence for atom # 2 F, 2, is greater than permitted\n"
     ]
    },
    {
     "name": "stdout",
     "output_type": "stream",
     "text": [
      "ERROR!!!!!!\n",
      "Explicit valence for atom # 2 O, 3, is greater than permitted\n",
      "ERROR!!!!!!\n",
      "Explicit valence for atom # 7 F, 4, is greater than permitted\n",
      "ERROR!!!!!!\n",
      "Explicit valence for atom # 2 F, 2, is greater than permitted\n"
     ]
    },
    {
     "name": "stderr",
     "output_type": "stream",
     "text": [
      "[16:47:00] Explicit valence for atom # 2 Br, 6, is greater than permitted\n",
      "[16:47:00] Explicit valence for atom # 2 Br, 6, is greater than permitted\n",
      "[16:47:00] Explicit valence for atom # 8 Cl, 10, is greater than permitted\n",
      "[16:47:00] Explicit valence for atom # 8 Cl, 10, is greater than permitted\n"
     ]
    },
    {
     "name": "stdout",
     "output_type": "stream",
     "text": [
      "ERROR!!!!!!\n",
      "Explicit valence for atom # 2 Br, 6, is greater than permitted\n",
      "ERROR!!!!!!\n",
      "Explicit valence for atom # 8 Cl, 10, is greater than permitted\n"
     ]
    },
    {
     "name": "stderr",
     "output_type": "stream",
     "text": [
      "[16:47:00] Explicit valence for atom # 5 Si, 7, is greater than permitted\n",
      "[16:47:00] Explicit valence for atom # 5 Si, 7, is greater than permitted\n",
      "[16:47:00] Explicit valence for atom # 1 Br, 5, is greater than permitted\n",
      "[16:47:00] Explicit valence for atom # 1 Br, 5, is greater than permitted\n"
     ]
    },
    {
     "name": "stdout",
     "output_type": "stream",
     "text": [
      "ERROR!!!!!!\n",
      "Explicit valence for atom # 5 Si, 7, is greater than permitted\n",
      "ERROR!!!!!!\n",
      "Explicit valence for atom # 1 Br, 5, is greater than permitted\n"
     ]
    },
    {
     "name": "stderr",
     "output_type": "stream",
     "text": [
      "[16:47:00] Explicit valence for atom # 4 O, 9, is greater than permitted\n",
      "[16:47:00] Explicit valence for atom # 4 O, 9, is greater than permitted\n",
      "[16:47:01] Explicit valence for atom # 1 F, 2, is greater than permitted\n",
      "[16:47:01] Explicit valence for atom # 1 F, 2, is greater than permitted\n",
      "[16:47:01] Explicit valence for atom # 4 Br, 3, is greater than permitted\n",
      "[16:47:01] Explicit valence for atom # 4 Br, 3, is greater than permitted\n"
     ]
    },
    {
     "name": "stdout",
     "output_type": "stream",
     "text": [
      "ERROR!!!!!!\n",
      "Explicit valence for atom # 4 O, 9, is greater than permitted\n",
      "ERROR!!!!!!\n",
      "Explicit valence for atom # 1 F, 2, is greater than permitted\n",
      "ERROR!!!!!!\n",
      "Explicit valence for atom # 4 Br, 3, is greater than permitted\n"
     ]
    },
    {
     "name": "stderr",
     "output_type": "stream",
     "text": [
      "[16:47:01] Explicit valence for atom # 3 Br, 2, is greater than permitted\n",
      "[16:47:01] Explicit valence for atom # 3 Br, 2, is greater than permitted\n",
      "[16:47:01] Explicit valence for atom # 2 Cl, 2, is greater than permitted\n",
      "[16:47:01] Explicit valence for atom # 2 Cl, 2, is greater than permitted\n",
      "[16:47:01] Explicit valence for atom # 2 Br, 4, is greater than permitted\n",
      "[16:47:01] Explicit valence for atom # 2 Br, 4, is greater than permitted\n"
     ]
    },
    {
     "name": "stdout",
     "output_type": "stream",
     "text": [
      "ERROR!!!!!!\n",
      "Explicit valence for atom # 3 Br, 2, is greater than permitted\n",
      "ERROR!!!!!!\n",
      "Explicit valence for atom # 2 Cl, 2, is greater than permitted\n",
      "ERROR!!!!!!\n",
      "Explicit valence for atom # 2 Br, 4, is greater than permitted\n"
     ]
    },
    {
     "name": "stderr",
     "output_type": "stream",
     "text": [
      "[16:47:01] Explicit valence for atom # 2 Br, 2, is greater than permitted\n",
      "[16:47:01] Explicit valence for atom # 2 Br, 2, is greater than permitted\n",
      "[16:47:01] Explicit valence for atom # 5 Cl, 2, is greater than permitted\n",
      "[16:47:01] Explicit valence for atom # 5 Cl, 2, is greater than permitted\n",
      "[16:47:01] non-ring atom 3 marked aromatic\n",
      "[16:47:01] non-ring atom 3 marked aromatic\n"
     ]
    },
    {
     "name": "stdout",
     "output_type": "stream",
     "text": [
      "ERROR!!!!!!\n",
      "Explicit valence for atom # 2 Br, 2, is greater than permitted\n",
      "ERROR!!!!!!\n",
      "Explicit valence for atom # 5 Cl, 2, is greater than permitted\n",
      "ERROR!!!!!!\n",
      "non-ring atom 3 marked aromatic\n"
     ]
    },
    {
     "name": "stderr",
     "output_type": "stream",
     "text": [
      "[16:47:01] Explicit valence for atom # 3 Br, 2, is greater than permitted\n",
      "[16:47:01] Explicit valence for atom # 3 Br, 2, is greater than permitted\n",
      "[16:47:01] Explicit valence for atom # 2 F, 2, is greater than permitted\n",
      "[16:47:01] Explicit valence for atom # 2 F, 2, is greater than permitted\n",
      "[16:47:01] Explicit valence for atom # 2 Br, 2, is greater than permitted\n",
      "[16:47:01] Explicit valence for atom # 2 Br, 2, is greater than permitted\n"
     ]
    },
    {
     "name": "stdout",
     "output_type": "stream",
     "text": [
      "ERROR!!!!!!\n",
      "Explicit valence for atom # 3 Br, 2, is greater than permitted\n",
      "ERROR!!!!!!\n",
      "Explicit valence for atom # 2 F, 2, is greater than permitted\n",
      "ERROR!!!!!!\n",
      "Explicit valence for atom # 2 Br, 2, is greater than permitted\n"
     ]
    },
    {
     "name": "stderr",
     "output_type": "stream",
     "text": [
      "[16:47:02] Explicit valence for atom # 4 Cl, 2, is greater than permitted\n",
      "[16:47:02] Explicit valence for atom # 4 Cl, 2, is greater than permitted\n",
      "[16:47:02] Explicit valence for atom # 1 F, 5, is greater than permitted\n",
      "[16:47:02] Explicit valence for atom # 1 F, 5, is greater than permitted\n"
     ]
    },
    {
     "name": "stdout",
     "output_type": "stream",
     "text": [
      "ERROR!!!!!!\n",
      "Explicit valence for atom # 4 Cl, 2, is greater than permitted\n",
      "ERROR!!!!!!\n",
      "Explicit valence for atom # 1 F, 5, is greater than permitted\n"
     ]
    },
    {
     "name": "stderr",
     "output_type": "stream",
     "text": [
      "[16:47:02] Explicit valence for atom # 0 Br, 3, is greater than permitted\n",
      "[16:47:02] Explicit valence for atom # 0 Br, 3, is greater than permitted\n",
      "[16:47:02] Explicit valence for atom # 2 F, 5, is greater than permitted\n",
      "[16:47:02] Explicit valence for atom # 2 F, 5, is greater than permitted\n"
     ]
    },
    {
     "name": "stdout",
     "output_type": "stream",
     "text": [
      "ERROR!!!!!!\n",
      "Explicit valence for atom # 0 Br, 3, is greater than permitted\n",
      "ERROR!!!!!!\n",
      "Explicit valence for atom # 2 F, 5, is greater than permitted\n"
     ]
    },
    {
     "name": "stderr",
     "output_type": "stream",
     "text": [
      "[16:47:02] Explicit valence for atom # 6 Cl, 3, is greater than permitted\n",
      "[16:47:02] Explicit valence for atom # 6 Cl, 3, is greater than permitted\n",
      "[16:47:02] Explicit valence for atom # 2 Br, 2, is greater than permitted\n",
      "[16:47:02] Explicit valence for atom # 2 Br, 2, is greater than permitted\n",
      "[16:47:02] Explicit valence for atom # 10 F, 3, is greater than permitted\n",
      "[16:47:02] Explicit valence for atom # 10 F, 3, is greater than permitted\n"
     ]
    },
    {
     "name": "stdout",
     "output_type": "stream",
     "text": [
      "ERROR!!!!!!\n",
      "Explicit valence for atom # 6 Cl, 3, is greater than permitted\n",
      "ERROR!!!!!!\n",
      "Explicit valence for atom # 2 Br, 2, is greater than permitted\n",
      "ERROR!!!!!!\n",
      "Explicit valence for atom # 10 F, 3, is greater than permitted\n"
     ]
    },
    {
     "name": "stderr",
     "output_type": "stream",
     "text": [
      "[16:47:02] Explicit valence for atom # 3 F, 3, is greater than permitted\n",
      "[16:47:02] Explicit valence for atom # 3 F, 3, is greater than permitted\n",
      "[16:47:02] Explicit valence for atom # 8 Cl, 2, is greater than permitted\n",
      "[16:47:02] Explicit valence for atom # 8 Cl, 2, is greater than permitted\n",
      "[16:47:02] Explicit valence for atom # 4 C, 5, is greater than permitted\n",
      "[16:47:02] Explicit valence for atom # 4 C, 5, is greater than permitted\n"
     ]
    },
    {
     "name": "stdout",
     "output_type": "stream",
     "text": [
      "ERROR!!!!!!\n",
      "Explicit valence for atom # 3 F, 3, is greater than permitted\n",
      "ERROR!!!!!!\n",
      "Explicit valence for atom # 8 Cl, 2, is greater than permitted\n",
      "ERROR!!!!!!\n",
      "Explicit valence for atom # 4 C, 5, is greater than permitted\n"
     ]
    },
    {
     "name": "stderr",
     "output_type": "stream",
     "text": [
      "[16:47:03] Explicit valence for atom # 5 F, 4, is greater than permitted\n",
      "[16:47:03] Explicit valence for atom # 5 F, 4, is greater than permitted\n",
      "[16:47:03] Explicit valence for atom # 1 F, 4, is greater than permitted\n",
      "[16:47:03] Explicit valence for atom # 1 F, 4, is greater than permitted\n",
      "[16:47:03] Explicit valence for atom # 4 Br, 2, is greater than permitted\n",
      "[16:47:03] Explicit valence for atom # 4 Br, 2, is greater than permitted\n"
     ]
    },
    {
     "name": "stdout",
     "output_type": "stream",
     "text": [
      "ERROR!!!!!!\n",
      "Explicit valence for atom # 5 F, 4, is greater than permitted\n",
      "ERROR!!!!!!\n",
      "Explicit valence for atom # 1 F, 4, is greater than permitted\n",
      "ERROR!!!!!!\n",
      "Explicit valence for atom # 4 Br, 2, is greater than permitted\n"
     ]
    },
    {
     "name": "stderr",
     "output_type": "stream",
     "text": [
      "[16:47:03] Explicit valence for atom # 1 F, 2, is greater than permitted\n",
      "[16:47:03] Explicit valence for atom # 1 F, 2, is greater than permitted\n",
      "[16:47:03] Explicit valence for atom # 2 Cl, 2, is greater than permitted\n",
      "[16:47:03] Explicit valence for atom # 2 Cl, 2, is greater than permitted\n"
     ]
    },
    {
     "name": "stdout",
     "output_type": "stream",
     "text": [
      "ERROR!!!!!!\n",
      "Explicit valence for atom # 1 F, 2, is greater than permitted\n",
      "ERROR!!!!!!\n",
      "Explicit valence for atom # 2 Cl, 2, is greater than permitted\n",
      "Molecule: Atoms(symbols='C4H13F2NOS', pbc=False)\n"
     ]
    },
    {
     "name": "stderr",
     "output_type": "stream",
     "text": [
      "[16:47:03] Explicit valence for atom # 4 F, 2, is greater than permitted\n",
      "[16:47:03] Explicit valence for atom # 4 F, 2, is greater than permitted\n",
      "[16:47:03] Explicit valence for atom # 2 Br, 2, is greater than permitted\n",
      "[16:47:03] Explicit valence for atom # 2 Br, 2, is greater than permitted\n",
      "[16:47:03] Explicit valence for atom # 3 Si, 7, is greater than permitted\n",
      "[16:47:03] Explicit valence for atom # 3 Si, 7, is greater than permitted\n"
     ]
    },
    {
     "name": "stdout",
     "output_type": "stream",
     "text": [
      "ERROR!!!!!!\n",
      "Explicit valence for atom # 4 F, 2, is greater than permitted\n",
      "ERROR!!!!!!\n",
      "Explicit valence for atom # 2 Br, 2, is greater than permitted\n",
      "ERROR!!!!!!\n",
      "Explicit valence for atom # 3 Si, 7, is greater than permitted\n"
     ]
    },
    {
     "name": "stderr",
     "output_type": "stream",
     "text": [
      "[16:47:04] Explicit valence for atom # 2 Br, 2, is greater than permitted\n",
      "[16:47:04] Explicit valence for atom # 2 Br, 2, is greater than permitted\n",
      "[16:47:04] Explicit valence for atom # 2 Br, 2, is greater than permitted\n",
      "[16:47:04] Explicit valence for atom # 2 Br, 2, is greater than permitted\n",
      "[16:47:04] Explicit valence for atom # 2 Br, 2, is greater than permitted\n",
      "[16:47:04] Explicit valence for atom # 2 Br, 2, is greater than permitted\n"
     ]
    },
    {
     "name": "stdout",
     "output_type": "stream",
     "text": [
      "ERROR!!!!!!\n",
      "Explicit valence for atom # 2 Br, 2, is greater than permitted\n",
      "ERROR!!!!!!\n",
      "Explicit valence for atom # 2 Br, 2, is greater than permitted\n",
      "ERROR!!!!!!\n",
      "Explicit valence for atom # 2 Br, 2, is greater than permitted\n"
     ]
    },
    {
     "name": "stderr",
     "output_type": "stream",
     "text": [
      "[16:47:04] Explicit valence for atom # 0 F, 8, is greater than permitted\n",
      "[16:47:04] Explicit valence for atom # 0 F, 8, is greater than permitted\n",
      "[16:47:04] Explicit valence for atom # 0 Cl, 3, is greater than permitted\n",
      "[16:47:04] Explicit valence for atom # 0 Cl, 3, is greater than permitted\n",
      "[16:47:04] Explicit valence for atom # 3 Br, 8, is greater than permitted\n",
      "[16:47:04] Explicit valence for atom # 3 Br, 8, is greater than permitted\n"
     ]
    },
    {
     "name": "stdout",
     "output_type": "stream",
     "text": [
      "ERROR!!!!!!\n",
      "Explicit valence for atom # 0 F, 8, is greater than permitted\n",
      "ERROR!!!!!!\n",
      "Explicit valence for atom # 0 Cl, 3, is greater than permitted\n",
      "ERROR!!!!!!\n",
      "Explicit valence for atom # 3 Br, 8, is greater than permitted\n"
     ]
    },
    {
     "name": "stderr",
     "output_type": "stream",
     "text": [
      "[16:47:04] Explicit valence for atom # 5 F, 2, is greater than permitted\n",
      "[16:47:04] Explicit valence for atom # 5 F, 2, is greater than permitted\n",
      "[16:47:04] Explicit valence for atom # 2 N, 5, is greater than permitted\n",
      "[16:47:04] Explicit valence for atom # 2 N, 5, is greater than permitted\n",
      "[16:47:04] Explicit valence for atom # 3 N, 4, is greater than permitted\n",
      "[16:47:04] Explicit valence for atom # 3 N, 4, is greater than permitted\n"
     ]
    },
    {
     "name": "stdout",
     "output_type": "stream",
     "text": [
      "ERROR!!!!!!\n",
      "Explicit valence for atom # 5 F, 2, is greater than permitted\n",
      "ERROR!!!!!!\n",
      "Explicit valence for atom # 2 N, 5, is greater than permitted\n",
      "ERROR!!!!!!\n",
      "Explicit valence for atom # 3 N, 4, is greater than permitted\n"
     ]
    },
    {
     "name": "stderr",
     "output_type": "stream",
     "text": [
      "[16:47:05] Explicit valence for atom # 0 O, 3, is greater than permitted\n",
      "[16:47:05] Explicit valence for atom # 0 O, 3, is greater than permitted\n",
      "[16:47:05] Explicit valence for atom # 2 F, 8, is greater than permitted\n",
      "[16:47:05] Explicit valence for atom # 2 F, 8, is greater than permitted\n"
     ]
    },
    {
     "name": "stdout",
     "output_type": "stream",
     "text": [
      "ERROR!!!!!!\n",
      "Explicit valence for atom # 0 O, 3, is greater than permitted\n",
      "ERROR!!!!!!\n",
      "Explicit valence for atom # 2 F, 8, is greater than permitted\n"
     ]
    },
    {
     "name": "stderr",
     "output_type": "stream",
     "text": [
      "[16:47:05] Explicit valence for atom # 4 N, 4, is greater than permitted\n",
      "[16:47:05] Explicit valence for atom # 4 N, 4, is greater than permitted\n",
      "[16:47:05] Explicit valence for atom # 2 Cl, 2, is greater than permitted\n",
      "[16:47:05] Explicit valence for atom # 2 Cl, 2, is greater than permitted\n",
      "[16:47:05] Explicit valence for atom # 2 C, 5, is greater than permitted\n",
      "[16:47:05] Explicit valence for atom # 2 C, 5, is greater than permitted\n"
     ]
    },
    {
     "name": "stdout",
     "output_type": "stream",
     "text": [
      "ERROR!!!!!!\n",
      "Explicit valence for atom # 4 N, 4, is greater than permitted\n",
      "ERROR!!!!!!\n",
      "Explicit valence for atom # 2 Cl, 2, is greater than permitted\n",
      "ERROR!!!!!!\n",
      "Explicit valence for atom # 2 C, 5, is greater than permitted\n"
     ]
    },
    {
     "name": "stderr",
     "output_type": "stream",
     "text": [
      "[16:47:05] Explicit valence for atom # 3 Cl, 2, is greater than permitted\n",
      "[16:47:05] Explicit valence for atom # 3 Cl, 2, is greater than permitted\n",
      "[16:47:05] Explicit valence for atom # 5 F, 2, is greater than permitted\n",
      "[16:47:05] Explicit valence for atom # 5 F, 2, is greater than permitted\n"
     ]
    },
    {
     "name": "stdout",
     "output_type": "stream",
     "text": [
      "ERROR!!!!!!\n",
      "Explicit valence for atom # 3 Cl, 2, is greater than permitted\n",
      "ERROR!!!!!!\n",
      "Explicit valence for atom # 5 F, 2, is greater than permitted\n",
      "Molecule: Atoms(symbols='C3H10BrI2O2P', pbc=False)\n"
     ]
    },
    {
     "name": "stderr",
     "output_type": "stream",
     "text": [
      "[16:47:06] Explicit valence for atom # 3 Br, 2, is greater than permitted\n",
      "[16:47:06] Explicit valence for atom # 3 Br, 2, is greater than permitted\n",
      "[16:47:06] Explicit valence for atom # 2 F, 2, is greater than permitted\n",
      "[16:47:06] Explicit valence for atom # 2 F, 2, is greater than permitted\n",
      "[16:47:06] Explicit valence for atom # 6 F, 2, is greater than permitted\n",
      "[16:47:06] Explicit valence for atom # 6 F, 2, is greater than permitted\n"
     ]
    },
    {
     "name": "stdout",
     "output_type": "stream",
     "text": [
      "ERROR!!!!!!\n",
      "Explicit valence for atom # 3 Br, 2, is greater than permitted\n",
      "ERROR!!!!!!\n",
      "Explicit valence for atom # 2 F, 2, is greater than permitted\n",
      "ERROR!!!!!!\n",
      "Explicit valence for atom # 6 F, 2, is greater than permitted\n"
     ]
    },
    {
     "name": "stderr",
     "output_type": "stream",
     "text": [
      "[16:47:06] Explicit valence for atom # 7 Cl, 2, is greater than permitted\n",
      "[16:47:06] Explicit valence for atom # 7 Cl, 2, is greater than permitted\n",
      "[16:47:06] Explicit valence for atom # 1 Cl, 2, is greater than permitted\n",
      "[16:47:06] Explicit valence for atom # 1 Cl, 2, is greater than permitted\n",
      "[16:47:06] Explicit valence for atom # 3 F, 4, is greater than permitted\n"
     ]
    },
    {
     "name": "stdout",
     "output_type": "stream",
     "text": [
      "ERROR!!!!!!\n",
      "Explicit valence for atom # 7 Cl, 2, is greater than permitted\n",
      "ERROR!!!!!!\n",
      "Explicit valence for atom # 1 Cl, 2, is greater than permitted\n"
     ]
    },
    {
     "name": "stderr",
     "output_type": "stream",
     "text": [
      "[16:47:06] Explicit valence for atom # 3 F, 4, is greater than permitted\n",
      "[16:47:06] Explicit valence for atom # 1 Br, 2, is greater than permitted\n",
      "[16:47:06] Explicit valence for atom # 1 Br, 2, is greater than permitted\n",
      "[16:47:06] Explicit valence for atom # 1 N, 4, is greater than permitted\n",
      "[16:47:06] Explicit valence for atom # 1 N, 4, is greater than permitted\n"
     ]
    },
    {
     "name": "stdout",
     "output_type": "stream",
     "text": [
      "ERROR!!!!!!\n",
      "Explicit valence for atom # 3 F, 4, is greater than permitted\n",
      "ERROR!!!!!!\n",
      "Explicit valence for atom # 1 Br, 2, is greater than permitted\n",
      "ERROR!!!!!!\n",
      "Explicit valence for atom # 1 N, 4, is greater than permitted\n"
     ]
    },
    {
     "name": "stderr",
     "output_type": "stream",
     "text": [
      "[16:47:07] Explicit valence for atom # 3 Cl, 2, is greater than permitted\n",
      "[16:47:07] Explicit valence for atom # 3 Cl, 2, is greater than permitted\n",
      "[16:47:07] Explicit valence for atom # 0 Cl, 2, is greater than permitted\n",
      "[16:47:07] Explicit valence for atom # 0 Cl, 2, is greater than permitted\n",
      "[16:47:07] Explicit valence for atom # 1 Br, 2, is greater than permitted\n",
      "[16:47:07] Explicit valence for atom # 1 Br, 2, is greater than permitted\n"
     ]
    },
    {
     "name": "stdout",
     "output_type": "stream",
     "text": [
      "ERROR!!!!!!\n",
      "Explicit valence for atom # 3 Cl, 2, is greater than permitted\n",
      "ERROR!!!!!!\n",
      "Explicit valence for atom # 0 Cl, 2, is greater than permitted\n",
      "ERROR!!!!!!\n",
      "Explicit valence for atom # 1 Br, 2, is greater than permitted\n"
     ]
    },
    {
     "name": "stderr",
     "output_type": "stream",
     "text": [
      "[16:47:07] Explicit valence for atom # 6 Cl, 3, is greater than permitted\n",
      "[16:47:07] Explicit valence for atom # 6 Cl, 3, is greater than permitted\n",
      "[16:47:07] Explicit valence for atom # 1 Br, 4, is greater than permitted\n",
      "[16:47:07] Explicit valence for atom # 1 Br, 4, is greater than permitted\n",
      "[16:47:07] Explicit valence for atom # 1 Cl, 2, is greater than permitted\n",
      "[16:47:07] Explicit valence for atom # 1 Cl, 2, is greater than permitted\n"
     ]
    },
    {
     "name": "stdout",
     "output_type": "stream",
     "text": [
      "ERROR!!!!!!\n",
      "Explicit valence for atom # 6 Cl, 3, is greater than permitted\n",
      "ERROR!!!!!!\n",
      "Explicit valence for atom # 1 Br, 4, is greater than permitted\n",
      "ERROR!!!!!!\n",
      "Explicit valence for atom # 1 Cl, 2, is greater than permitted\n"
     ]
    },
    {
     "name": "stderr",
     "output_type": "stream",
     "text": [
      "[16:47:07] Explicit valence for atom # 1 F, 2, is greater than permitted\n",
      "[16:47:07] Explicit valence for atom # 1 F, 2, is greater than permitted\n",
      "[16:47:07] Explicit valence for atom # 7 Cl, 3, is greater than permitted\n",
      "[16:47:07] Explicit valence for atom # 7 Cl, 3, is greater than permitted\n",
      "[16:47:07] Explicit valence for atom # 11 F, 2, is greater than permitted\n",
      "[16:47:07] Explicit valence for atom # 11 F, 2, is greater than permitted\n"
     ]
    },
    {
     "name": "stdout",
     "output_type": "stream",
     "text": [
      "ERROR!!!!!!\n",
      "Explicit valence for atom # 1 F, 2, is greater than permitted\n",
      "ERROR!!!!!!\n",
      "Explicit valence for atom # 7 Cl, 3, is greater than permitted\n",
      "ERROR!!!!!!\n",
      "Explicit valence for atom # 11 F, 2, is greater than permitted\n"
     ]
    },
    {
     "name": "stderr",
     "output_type": "stream",
     "text": [
      "[16:47:07] Explicit valence for atom # 1 F, 2, is greater than permitted\n",
      "[16:47:07] Explicit valence for atom # 1 F, 2, is greater than permitted\n",
      "[16:47:07] Explicit valence for atom # 2 F, 2, is greater than permitted\n",
      "[16:47:07] Explicit valence for atom # 2 F, 2, is greater than permitted\n",
      "[16:47:08] Explicit valence for atom # 4 Cl, 2, is greater than permitted\n",
      "[16:47:08] Explicit valence for atom # 4 Cl, 2, is greater than permitted\n"
     ]
    },
    {
     "name": "stdout",
     "output_type": "stream",
     "text": [
      "ERROR!!!!!!\n",
      "Explicit valence for atom # 1 F, 2, is greater than permitted\n",
      "ERROR!!!!!!\n",
      "Explicit valence for atom # 2 F, 2, is greater than permitted\n",
      "ERROR!!!!!!\n",
      "Explicit valence for atom # 4 Cl, 2, is greater than permitted\n"
     ]
    },
    {
     "name": "stderr",
     "output_type": "stream",
     "text": [
      "[16:47:08] Explicit valence for atom # 0 Br, 3, is greater than permitted\n",
      "[16:47:08] Explicit valence for atom # 0 Br, 3, is greater than permitted\n",
      "[16:47:08] Explicit valence for atom # 0 Br, 10, is greater than permitted\n",
      "[16:47:08] Explicit valence for atom # 0 Br, 10, is greater than permitted\n"
     ]
    },
    {
     "name": "stdout",
     "output_type": "stream",
     "text": [
      "ERROR!!!!!!\n",
      "Explicit valence for atom # 0 Br, 3, is greater than permitted\n",
      "ERROR!!!!!!\n",
      "Explicit valence for atom # 0 Br, 10, is greater than permitted\n"
     ]
    },
    {
     "name": "stderr",
     "output_type": "stream",
     "text": [
      "[16:47:08] Explicit valence for atom # 1 Cl, 2, is greater than permitted\n",
      "[16:47:08] Explicit valence for atom # 1 Cl, 2, is greater than permitted\n",
      "[16:47:08] Explicit valence for atom # 1 Br, 2, is greater than permitted\n",
      "[16:47:08] Explicit valence for atom # 1 Br, 2, is greater than permitted\n"
     ]
    },
    {
     "name": "stdout",
     "output_type": "stream",
     "text": [
      "ERROR!!!!!!\n",
      "Explicit valence for atom # 1 Cl, 2, is greater than permitted\n",
      "ERROR!!!!!!\n",
      "Explicit valence for atom # 1 Br, 2, is greater than permitted\n"
     ]
    },
    {
     "name": "stderr",
     "output_type": "stream",
     "text": [
      "[16:47:08] Explicit valence for atom # 1 F, 4, is greater than permitted\n",
      "[16:47:08] Explicit valence for atom # 1 F, 4, is greater than permitted\n",
      "[16:47:08] Explicit valence for atom # 1 Cl, 2, is greater than permitted\n",
      "[16:47:08] Explicit valence for atom # 1 Cl, 2, is greater than permitted\n",
      "[16:47:08] Explicit valence for atom # 1 Br, 2, is greater than permitted\n",
      "[16:47:08] Explicit valence for atom # 1 Br, 2, is greater than permitted\n"
     ]
    },
    {
     "name": "stdout",
     "output_type": "stream",
     "text": [
      "ERROR!!!!!!\n",
      "Explicit valence for atom # 1 F, 4, is greater than permitted\n",
      "ERROR!!!!!!\n",
      "Explicit valence for atom # 1 Cl, 2, is greater than permitted\n",
      "ERROR!!!!!!\n",
      "Explicit valence for atom # 1 Br, 2, is greater than permitted\n"
     ]
    },
    {
     "name": "stderr",
     "output_type": "stream",
     "text": [
      "[16:47:08] Explicit valence for atom # 0 Br, 2, is greater than permitted\n",
      "[16:47:08] Explicit valence for atom # 0 Br, 2, is greater than permitted\n",
      "[16:47:08] Explicit valence for atom # 5 F, 6, is greater than permitted\n",
      "[16:47:08] Explicit valence for atom # 5 F, 6, is greater than permitted\n"
     ]
    },
    {
     "name": "stdout",
     "output_type": "stream",
     "text": [
      "ERROR!!!!!!\n",
      "Explicit valence for atom # 0 Br, 2, is greater than permitted\n",
      "ERROR!!!!!!\n",
      "Explicit valence for atom # 5 F, 6, is greater than permitted\n"
     ]
    },
    {
     "name": "stderr",
     "output_type": "stream",
     "text": [
      "[16:47:09] Explicit valence for atom # 1 C, 9, is greater than permitted\n",
      "[16:47:09] Explicit valence for atom # 1 C, 9, is greater than permitted\n",
      "[16:47:09] Explicit valence for atom # 2 Cl, 5, is greater than permitted\n",
      "[16:47:09] Explicit valence for atom # 2 Cl, 5, is greater than permitted\n"
     ]
    },
    {
     "name": "stdout",
     "output_type": "stream",
     "text": [
      "ERROR!!!!!!\n",
      "Explicit valence for atom # 1 C, 9, is greater than permitted\n",
      "ERROR!!!!!!\n",
      "Explicit valence for atom # 2 Cl, 5, is greater than permitted\n"
     ]
    },
    {
     "name": "stderr",
     "output_type": "stream",
     "text": [
      "[16:47:09] Explicit valence for atom # 0 I, 11, is greater than permitted\n",
      "[16:47:09] Explicit valence for atom # 0 I, 11, is greater than permitted\n",
      "[16:47:09] Explicit valence for atom # 0 Br, 5, is greater than permitted\n",
      "[16:47:09] Explicit valence for atom # 0 Br, 5, is greater than permitted\n",
      "[16:47:09] Explicit valence for atom # 1 Br, 2, is greater than permitted\n",
      "[16:47:09] Explicit valence for atom # 1 Br, 2, is greater than permitted\n"
     ]
    },
    {
     "name": "stdout",
     "output_type": "stream",
     "text": [
      "ERROR!!!!!!\n",
      "Explicit valence for atom # 0 I, 11, is greater than permitted\n",
      "ERROR!!!!!!\n",
      "Explicit valence for atom # 0 Br, 5, is greater than permitted\n",
      "ERROR!!!!!!\n",
      "Explicit valence for atom # 1 Br, 2, is greater than permitted\n"
     ]
    },
    {
     "name": "stderr",
     "output_type": "stream",
     "text": [
      "[16:47:09] Explicit valence for atom # 1 Cl, 2, is greater than permitted\n",
      "[16:47:09] Explicit valence for atom # 1 Cl, 2, is greater than permitted\n",
      "[16:47:09] Explicit valence for atom # 1 Br, 2, is greater than permitted\n",
      "[16:47:09] Explicit valence for atom # 1 Br, 2, is greater than permitted\n"
     ]
    },
    {
     "name": "stdout",
     "output_type": "stream",
     "text": [
      "ERROR!!!!!!\n",
      "Explicit valence for atom # 1 Cl, 2, is greater than permitted\n",
      "ERROR!!!!!!\n",
      "Explicit valence for atom # 1 Br, 2, is greater than permitted\n"
     ]
    },
    {
     "name": "stderr",
     "output_type": "stream",
     "text": [
      "[16:47:09] Explicit valence for atom # 9 Cl, 2, is greater than permitted\n",
      "[16:47:09] Explicit valence for atom # 9 Cl, 2, is greater than permitted\n"
     ]
    },
    {
     "name": "stdout",
     "output_type": "stream",
     "text": [
      "ERROR!!!!!!\n",
      "Explicit valence for atom # 9 Cl, 2, is greater than permitted\n"
     ]
    },
    {
     "name": "stderr",
     "output_type": "stream",
     "text": [
      "[16:47:10] non-ring atom 4 marked aromatic\n",
      "[16:47:10] non-ring atom 4 marked aromatic\n",
      "[16:47:10] Explicit valence for atom # 1 O, 4, is greater than permitted\n",
      "[16:47:10] Explicit valence for atom # 1 O, 4, is greater than permitted\n"
     ]
    },
    {
     "name": "stdout",
     "output_type": "stream",
     "text": [
      "ERROR!!!!!!\n",
      "non-ring atom 4 marked aromatic\n",
      "ERROR!!!!!!\n",
      "Explicit valence for atom # 1 O, 4, is greater than permitted\n"
     ]
    },
    {
     "name": "stderr",
     "output_type": "stream",
     "text": [
      "[16:47:10] Explicit valence for atom # 4 F, 2, is greater than permitted\n",
      "[16:47:10] Explicit valence for atom # 4 F, 2, is greater than permitted\n",
      "[16:47:10] Explicit valence for atom # 0 F, 6, is greater than permitted\n",
      "[16:47:10] Explicit valence for atom # 0 F, 6, is greater than permitted\n"
     ]
    },
    {
     "name": "stdout",
     "output_type": "stream",
     "text": [
      "ERROR!!!!!!\n",
      "Explicit valence for atom # 4 F, 2, is greater than permitted\n",
      "ERROR!!!!!!\n",
      "Explicit valence for atom # 0 F, 6, is greater than permitted\n"
     ]
    },
    {
     "name": "stderr",
     "output_type": "stream",
     "text": [
      "[16:47:10] Explicit valence for atom # 0 N, 7, is greater than permitted\n",
      "[16:47:10] Explicit valence for atom # 0 N, 7, is greater than permitted\n",
      "[16:47:10] Explicit valence for atom # 3 Cl, 2, is greater than permitted\n",
      "[16:47:10] Explicit valence for atom # 3 Cl, 2, is greater than permitted\n",
      "[16:47:10] Explicit valence for atom # 2 Cl, 3, is greater than permitted\n",
      "[16:47:10] Explicit valence for atom # 2 Cl, 3, is greater than permitted\n"
     ]
    },
    {
     "name": "stdout",
     "output_type": "stream",
     "text": [
      "ERROR!!!!!!\n",
      "Explicit valence for atom # 0 N, 7, is greater than permitted\n",
      "ERROR!!!!!!\n",
      "Explicit valence for atom # 3 Cl, 2, is greater than permitted\n",
      "ERROR!!!!!!\n",
      "Explicit valence for atom # 2 Cl, 3, is greater than permitted\n"
     ]
    },
    {
     "name": "stderr",
     "output_type": "stream",
     "text": [
      "[16:47:10] Explicit valence for atom # 2 Cl, 2, is greater than permitted\n",
      "[16:47:10] Explicit valence for atom # 2 Cl, 2, is greater than permitted\n",
      "[16:47:10] non-ring atom 4 marked aromatic\n",
      "[16:47:10] non-ring atom 4 marked aromatic\n",
      "[16:47:10] Explicit valence for atom # 1 Cl, 2, is greater than permitted\n",
      "[16:47:10] Explicit valence for atom # 1 Cl, 2, is greater than permitted\n"
     ]
    },
    {
     "name": "stdout",
     "output_type": "stream",
     "text": [
      "ERROR!!!!!!\n",
      "Explicit valence for atom # 2 Cl, 2, is greater than permitted\n",
      "ERROR!!!!!!\n",
      "non-ring atom 4 marked aromatic\n",
      "ERROR!!!!!!\n",
      "Explicit valence for atom # 1 Cl, 2, is greater than permitted\n"
     ]
    },
    {
     "name": "stderr",
     "output_type": "stream",
     "text": [
      "[16:47:11] Explicit valence for atom # 3 Br, 5, is greater than permitted\n",
      "[16:47:11] Explicit valence for atom # 3 Br, 5, is greater than permitted\n",
      "[16:47:11] Explicit valence for atom # 2 Cl, 2, is greater than permitted\n",
      "[16:47:11] Explicit valence for atom # 2 Cl, 2, is greater than permitted\n",
      "[16:47:11] Explicit valence for atom # 1 Br, 2, is greater than permitted\n",
      "[16:47:11] Explicit valence for atom # 1 Br, 2, is greater than permitted\n"
     ]
    },
    {
     "name": "stdout",
     "output_type": "stream",
     "text": [
      "ERROR!!!!!!\n",
      "Explicit valence for atom # 3 Br, 5, is greater than permitted\n",
      "ERROR!!!!!!\n",
      "Explicit valence for atom # 2 Cl, 2, is greater than permitted\n",
      "ERROR!!!!!!\n",
      "Explicit valence for atom # 1 Br, 2, is greater than permitted\n",
      "Molecule: Atoms(symbols='C6H15BrFINOPS', pbc=False)\n"
     ]
    },
    {
     "name": "stderr",
     "output_type": "stream",
     "text": [
      "[16:47:11] Explicit valence for atom # 7 O, 8, is greater than permitted\n",
      "[16:47:11] Explicit valence for atom # 7 O, 8, is greater than permitted\n",
      "[16:47:12] Explicit valence for atom # 2 Br, 3, is greater than permitted\n",
      "[16:47:12] Explicit valence for atom # 2 Br, 3, is greater than permitted\n",
      "[16:47:12] Explicit valence for atom # 5 F, 2, is greater than permitted\n",
      "[16:47:12] Explicit valence for atom # 5 F, 2, is greater than permitted\n"
     ]
    },
    {
     "name": "stdout",
     "output_type": "stream",
     "text": [
      "ERROR!!!!!!\n",
      "Explicit valence for atom # 7 O, 8, is greater than permitted\n",
      "ERROR!!!!!!\n",
      "Explicit valence for atom # 2 Br, 3, is greater than permitted\n",
      "ERROR!!!!!!\n",
      "Explicit valence for atom # 5 F, 2, is greater than permitted\n"
     ]
    },
    {
     "name": "stderr",
     "output_type": "stream",
     "text": [
      "[16:47:12] Explicit valence for atom # 0 F, 5, is greater than permitted\n",
      "[16:47:12] Explicit valence for atom # 0 F, 5, is greater than permitted\n",
      "[16:47:12] Explicit valence for atom # 1 F, 2, is greater than permitted\n",
      "[16:47:12] Explicit valence for atom # 1 F, 2, is greater than permitted\n",
      "[16:47:12] Explicit valence for atom # 7 Br, 2, is greater than permitted\n",
      "[16:47:12] Explicit valence for atom # 7 Br, 2, is greater than permitted\n"
     ]
    },
    {
     "name": "stdout",
     "output_type": "stream",
     "text": [
      "ERROR!!!!!!\n",
      "Explicit valence for atom # 0 F, 5, is greater than permitted\n",
      "ERROR!!!!!!\n",
      "Explicit valence for atom # 1 F, 2, is greater than permitted\n",
      "ERROR!!!!!!\n",
      "Explicit valence for atom # 7 Br, 2, is greater than permitted\n"
     ]
    },
    {
     "name": "stderr",
     "output_type": "stream",
     "text": [
      "[16:47:12] Explicit valence for atom # 6 C, 5, is greater than permitted\n",
      "[16:47:12] Explicit valence for atom # 6 C, 5, is greater than permitted\n"
     ]
    },
    {
     "name": "stdout",
     "output_type": "stream",
     "text": [
      "ERROR!!!!!!\n",
      "Explicit valence for atom # 6 C, 5, is greater than permitted\n",
      "Molecule: Atoms(symbols='H8BrF2N2PSi', pbc=False)\n"
     ]
    },
    {
     "name": "stderr",
     "output_type": "stream",
     "text": [
      "[16:47:12] Explicit valence for atom # 1 N, 4, is greater than permitted\n",
      "[16:47:12] Explicit valence for atom # 1 N, 4, is greater than permitted\n",
      "[16:47:12] Explicit valence for atom # 7 Cl, 2, is greater than permitted\n",
      "[16:47:12] Explicit valence for atom # 7 Cl, 2, is greater than permitted\n",
      "[16:47:12] Explicit valence for atom # 2 Br, 4, is greater than permitted\n",
      "[16:47:12] Explicit valence for atom # 2 Br, 4, is greater than permitted\n"
     ]
    },
    {
     "name": "stdout",
     "output_type": "stream",
     "text": [
      "ERROR!!!!!!\n",
      "Explicit valence for atom # 1 N, 4, is greater than permitted\n",
      "ERROR!!!!!!\n",
      "Explicit valence for atom # 7 Cl, 2, is greater than permitted\n",
      "ERROR!!!!!!\n",
      "Explicit valence for atom # 2 Br, 4, is greater than permitted\n"
     ]
    },
    {
     "name": "stderr",
     "output_type": "stream",
     "text": [
      "[16:47:13] Explicit valence for atom # 1 O, 5, is greater than permitted\n",
      "[16:47:13] Explicit valence for atom # 1 O, 5, is greater than permitted\n",
      "[16:47:13] Explicit valence for atom # 2 F, 2, is greater than permitted\n",
      "[16:47:13] Explicit valence for atom # 2 F, 2, is greater than permitted\n",
      "[16:47:13] Explicit valence for atom # 1 S, 15, is greater than permitted\n",
      "[16:47:13] Explicit valence for atom # 1 S, 15, is greater than permitted\n"
     ]
    },
    {
     "name": "stdout",
     "output_type": "stream",
     "text": [
      "ERROR!!!!!!\n",
      "Explicit valence for atom # 1 O, 5, is greater than permitted\n",
      "ERROR!!!!!!\n",
      "Explicit valence for atom # 2 F, 2, is greater than permitted\n",
      "ERROR!!!!!!\n",
      "Explicit valence for atom # 1 S, 15, is greater than permitted\n"
     ]
    },
    {
     "name": "stderr",
     "output_type": "stream",
     "text": [
      "[16:47:13] Explicit valence for atom # 0 Br, 2, is greater than permitted\n",
      "[16:47:13] Explicit valence for atom # 0 Br, 2, is greater than permitted\n",
      "[16:47:13] Explicit valence for atom # 2 Br, 2, is greater than permitted\n",
      "[16:47:13] Explicit valence for atom # 2 Br, 2, is greater than permitted\n"
     ]
    },
    {
     "name": "stdout",
     "output_type": "stream",
     "text": [
      "ERROR!!!!!!\n",
      "Explicit valence for atom # 0 Br, 2, is greater than permitted\n",
      "ERROR!!!!!!\n",
      "Explicit valence for atom # 2 Br, 2, is greater than permitted\n",
      "Molecule: Atoms(symbols='C3H10Cl4INO', pbc=False)\n"
     ]
    },
    {
     "name": "stderr",
     "output_type": "stream",
     "text": [
      "[16:47:13] Explicit valence for atom # 1 Cl, 2, is greater than permitted\n",
      "[16:47:13] Explicit valence for atom # 1 Cl, 2, is greater than permitted\n",
      "[16:47:13] Explicit valence for atom # 7 F, 2, is greater than permitted\n",
      "[16:47:13] Explicit valence for atom # 7 F, 2, is greater than permitted\n",
      "[16:47:13] Explicit valence for atom # 2 F, 3, is greater than permitted\n",
      "[16:47:13] Explicit valence for atom # 2 F, 3, is greater than permitted\n"
     ]
    },
    {
     "name": "stdout",
     "output_type": "stream",
     "text": [
      "ERROR!!!!!!\n",
      "Explicit valence for atom # 1 Cl, 2, is greater than permitted\n",
      "ERROR!!!!!!\n",
      "Explicit valence for atom # 7 F, 2, is greater than permitted\n",
      "ERROR!!!!!!\n",
      "Explicit valence for atom # 2 F, 3, is greater than permitted\n"
     ]
    },
    {
     "name": "stderr",
     "output_type": "stream",
     "text": [
      "[16:47:13] Explicit valence for atom # 4 Cl, 2, is greater than permitted\n",
      "[16:47:13] Explicit valence for atom # 4 Cl, 2, is greater than permitted\n",
      "[16:47:14] Explicit valence for atom # 0 O, 3, is greater than permitted\n",
      "[16:47:14] Explicit valence for atom # 0 O, 3, is greater than permitted\n",
      "[16:47:14] Explicit valence for atom # 4 Cl, 3, is greater than permitted\n",
      "[16:47:14] Explicit valence for atom # 4 Cl, 3, is greater than permitted\n"
     ]
    },
    {
     "name": "stdout",
     "output_type": "stream",
     "text": [
      "ERROR!!!!!!\n",
      "Explicit valence for atom # 4 Cl, 2, is greater than permitted\n",
      "ERROR!!!!!!\n",
      "Explicit valence for atom # 0 O, 3, is greater than permitted\n",
      "ERROR!!!!!!\n",
      "Explicit valence for atom # 4 Cl, 3, is greater than permitted\n"
     ]
    },
    {
     "name": "stderr",
     "output_type": "stream",
     "text": [
      "[16:47:14] Explicit valence for atom # 3 Br, 2, is greater than permitted\n",
      "[16:47:14] Explicit valence for atom # 3 Br, 2, is greater than permitted\n",
      "[16:47:14] Explicit valence for atom # 1 O, 3, is greater than permitted\n",
      "[16:47:14] Explicit valence for atom # 1 O, 3, is greater than permitted\n"
     ]
    },
    {
     "name": "stdout",
     "output_type": "stream",
     "text": [
      "ERROR!!!!!!\n",
      "Explicit valence for atom # 3 Br, 2, is greater than permitted\n",
      "ERROR!!!!!!\n",
      "Explicit valence for atom # 1 O, 3, is greater than permitted\n"
     ]
    },
    {
     "name": "stderr",
     "output_type": "stream",
     "text": [
      "[16:47:14] Explicit valence for atom # 3 Cl, 2, is greater than permitted\n",
      "[16:47:14] Explicit valence for atom # 3 Cl, 2, is greater than permitted\n"
     ]
    },
    {
     "name": "stdout",
     "output_type": "stream",
     "text": [
      "ERROR!!!!!!\n",
      "Explicit valence for atom # 3 Cl, 2, is greater than permitted\n"
     ]
    },
    {
     "name": "stderr",
     "output_type": "stream",
     "text": [
      "[16:47:14] Explicit valence for atom # 9 Cl, 4, is greater than permitted\n",
      "[16:47:14] Explicit valence for atom # 9 Cl, 4, is greater than permitted\n",
      "[16:47:14] Explicit valence for atom # 3 Br, 2, is greater than permitted\n",
      "[16:47:14] Explicit valence for atom # 3 Br, 2, is greater than permitted\n"
     ]
    },
    {
     "name": "stdout",
     "output_type": "stream",
     "text": [
      "ERROR!!!!!!\n",
      "Explicit valence for atom # 9 Cl, 4, is greater than permitted\n",
      "ERROR!!!!!!\n",
      "Explicit valence for atom # 3 Br, 2, is greater than permitted\n"
     ]
    },
    {
     "name": "stderr",
     "output_type": "stream",
     "text": [
      "[16:47:14] Explicit valence for atom # 1 F, 2, is greater than permitted\n",
      "[16:47:14] Explicit valence for atom # 1 F, 2, is greater than permitted\n"
     ]
    },
    {
     "name": "stdout",
     "output_type": "stream",
     "text": [
      "ERROR!!!!!!\n",
      "Explicit valence for atom # 1 F, 2, is greater than permitted\n",
      "Molecule: Atoms(symbols='H3BrClISSi', pbc=False)\n"
     ]
    },
    {
     "name": "stderr",
     "output_type": "stream",
     "text": [
      "[16:47:15] Explicit valence for atom # 2 Br, 6, is greater than permitted\n",
      "[16:47:15] Explicit valence for atom # 2 Br, 6, is greater than permitted\n"
     ]
    },
    {
     "name": "stdout",
     "output_type": "stream",
     "text": [
      "ERROR!!!!!!\n",
      "Explicit valence for atom # 2 Br, 6, is greater than permitted\n",
      "Molecule: Atoms(symbols='C4H14INOS', pbc=False)\n"
     ]
    },
    {
     "name": "stderr",
     "output_type": "stream",
     "text": [
      "[16:47:15] Explicit valence for atom # 2 O, 5, is greater than permitted\n",
      "[16:47:15] Explicit valence for atom # 2 O, 5, is greater than permitted\n",
      "[16:47:15] Explicit valence for atom # 11 F, 3, is greater than permitted\n",
      "[16:47:15] Explicit valence for atom # 11 F, 3, is greater than permitted\n",
      "[16:47:15] Explicit valence for atom # 5 Br, 2, is greater than permitted\n",
      "[16:47:15] Explicit valence for atom # 5 Br, 2, is greater than permitted\n"
     ]
    },
    {
     "name": "stdout",
     "output_type": "stream",
     "text": [
      "ERROR!!!!!!\n",
      "Explicit valence for atom # 2 O, 5, is greater than permitted\n",
      "ERROR!!!!!!\n",
      "Explicit valence for atom # 11 F, 3, is greater than permitted\n",
      "ERROR!!!!!!\n",
      "Explicit valence for atom # 5 Br, 2, is greater than permitted\n"
     ]
    },
    {
     "name": "stderr",
     "output_type": "stream",
     "text": [
      "[16:47:16] Explicit valence for atom # 0 P, 9, is greater than permitted\n",
      "[16:47:16] Explicit valence for atom # 0 P, 9, is greater than permitted\n",
      "[16:47:16] Explicit valence for atom # 1 Br, 2, is greater than permitted\n",
      "[16:47:16] Explicit valence for atom # 1 Br, 2, is greater than permitted\n",
      "[16:47:16] Explicit valence for atom # 1 F, 2, is greater than permitted\n",
      "[16:47:16] Explicit valence for atom # 1 F, 2, is greater than permitted\n"
     ]
    },
    {
     "name": "stdout",
     "output_type": "stream",
     "text": [
      "ERROR!!!!!!\n",
      "Explicit valence for atom # 0 P, 9, is greater than permitted\n",
      "ERROR!!!!!!\n",
      "Explicit valence for atom # 1 Br, 2, is greater than permitted\n",
      "ERROR!!!!!!\n",
      "Explicit valence for atom # 1 F, 2, is greater than permitted\n"
     ]
    },
    {
     "name": "stderr",
     "output_type": "stream",
     "text": [
      "[16:47:16] Explicit valence for atom # 0 Cl, 3, is greater than permitted\n",
      "[16:47:16] Explicit valence for atom # 0 Cl, 3, is greater than permitted\n",
      "[16:47:16] Explicit valence for atom # 10 F, 2, is greater than permitted\n",
      "[16:47:16] Explicit valence for atom # 10 F, 2, is greater than permitted\n",
      "[16:47:16] Explicit valence for atom # 6 Br, 4, is greater than permitted\n",
      "[16:47:16] Explicit valence for atom # 6 Br, 4, is greater than permitted\n"
     ]
    },
    {
     "name": "stdout",
     "output_type": "stream",
     "text": [
      "ERROR!!!!!!\n",
      "Explicit valence for atom # 0 Cl, 3, is greater than permitted\n",
      "ERROR!!!!!!\n",
      "Explicit valence for atom # 10 F, 2, is greater than permitted\n",
      "ERROR!!!!!!\n",
      "Explicit valence for atom # 6 Br, 4, is greater than permitted\n"
     ]
    },
    {
     "name": "stderr",
     "output_type": "stream",
     "text": [
      "[16:47:16] Explicit valence for atom # 8 F, 2, is greater than permitted\n",
      "[16:47:16] Explicit valence for atom # 8 F, 2, is greater than permitted\n",
      "[16:47:16] Explicit valence for atom # 1 N, 8, is greater than permitted\n",
      "[16:47:16] Explicit valence for atom # 1 N, 8, is greater than permitted\n",
      "[16:47:16] Explicit valence for atom # 3 F, 2, is greater than permitted\n",
      "[16:47:16] Explicit valence for atom # 3 F, 2, is greater than permitted\n"
     ]
    },
    {
     "name": "stdout",
     "output_type": "stream",
     "text": [
      "ERROR!!!!!!\n",
      "Explicit valence for atom # 8 F, 2, is greater than permitted\n",
      "ERROR!!!!!!\n",
      "Explicit valence for atom # 1 N, 8, is greater than permitted\n",
      "ERROR!!!!!!\n",
      "Explicit valence for atom # 3 F, 2, is greater than permitted\n"
     ]
    },
    {
     "name": "stderr",
     "output_type": "stream",
     "text": [
      "[16:47:16] Explicit valence for atom # 7 O, 3, is greater than permitted\n",
      "[16:47:16] Explicit valence for atom # 7 O, 3, is greater than permitted\n",
      "[16:47:16] Explicit valence for atom # 9 F, 2, is greater than permitted\n",
      "[16:47:16] Explicit valence for atom # 9 F, 2, is greater than permitted\n",
      "[16:47:17] Explicit valence for atom # 5 Cl, 3, is greater than permitted\n",
      "[16:47:17] Explicit valence for atom # 5 Cl, 3, is greater than permitted\n"
     ]
    },
    {
     "name": "stdout",
     "output_type": "stream",
     "text": [
      "ERROR!!!!!!\n",
      "Explicit valence for atom # 7 O, 3, is greater than permitted\n",
      "ERROR!!!!!!\n",
      "Explicit valence for atom # 9 F, 2, is greater than permitted\n",
      "ERROR!!!!!!\n",
      "Explicit valence for atom # 5 Cl, 3, is greater than permitted\n"
     ]
    },
    {
     "name": "stderr",
     "output_type": "stream",
     "text": [
      "[16:47:17] Explicit valence for atom # 10 Cl, 2, is greater than permitted\n",
      "[16:47:17] Explicit valence for atom # 10 Cl, 2, is greater than permitted\n",
      "[16:47:17] Explicit valence for atom # 4 Cl, 2, is greater than permitted\n",
      "[16:47:17] Explicit valence for atom # 4 Cl, 2, is greater than permitted\n",
      "[16:47:17] Explicit valence for atom # 1 Cl, 3, is greater than permitted\n",
      "[16:47:17] Explicit valence for atom # 1 Cl, 3, is greater than permitted\n"
     ]
    },
    {
     "name": "stdout",
     "output_type": "stream",
     "text": [
      "ERROR!!!!!!\n",
      "Explicit valence for atom # 10 Cl, 2, is greater than permitted\n",
      "ERROR!!!!!!\n",
      "Explicit valence for atom # 4 Cl, 2, is greater than permitted\n",
      "ERROR!!!!!!\n",
      "Explicit valence for atom # 1 Cl, 3, is greater than permitted\n"
     ]
    },
    {
     "name": "stderr",
     "output_type": "stream",
     "text": [
      "[16:47:17] Explicit valence for atom # 2 F, 5, is greater than permitted\n",
      "[16:47:17] Explicit valence for atom # 2 F, 5, is greater than permitted\n",
      "[16:47:17] Explicit valence for atom # 2 F, 2, is greater than permitted\n",
      "[16:47:17] Explicit valence for atom # 2 F, 2, is greater than permitted\n",
      "[16:47:17] Explicit valence for atom # 4 C, 5, is greater than permitted\n",
      "[16:47:17] Explicit valence for atom # 4 C, 5, is greater than permitted\n"
     ]
    },
    {
     "name": "stdout",
     "output_type": "stream",
     "text": [
      "ERROR!!!!!!\n",
      "Explicit valence for atom # 2 F, 5, is greater than permitted\n",
      "ERROR!!!!!!\n",
      "Explicit valence for atom # 2 F, 2, is greater than permitted\n",
      "ERROR!!!!!!\n",
      "Explicit valence for atom # 4 C, 5, is greater than permitted\n"
     ]
    },
    {
     "name": "stderr",
     "output_type": "stream",
     "text": [
      "[16:47:17] Explicit valence for atom # 8 Br, 2, is greater than permitted\n",
      "[16:47:17] Explicit valence for atom # 8 Br, 2, is greater than permitted\n",
      "[16:47:17] Explicit valence for atom # 1 Cl, 2, is greater than permitted\n",
      "[16:47:17] Explicit valence for atom # 1 Cl, 2, is greater than permitted\n"
     ]
    },
    {
     "name": "stdout",
     "output_type": "stream",
     "text": [
      "ERROR!!!!!!\n",
      "Explicit valence for atom # 8 Br, 2, is greater than permitted\n",
      "ERROR!!!!!!\n",
      "Explicit valence for atom # 1 Cl, 2, is greater than permitted\n",
      "Molecule: Atoms(symbols='CH7ClFI2OP3S3', pbc=False)\n"
     ]
    },
    {
     "name": "stderr",
     "output_type": "stream",
     "text": [
      "[16:47:18] Explicit valence for atom # 2 Cl, 2, is greater than permitted\n",
      "[16:47:18] Explicit valence for atom # 2 Cl, 2, is greater than permitted\n",
      "[16:47:18] Explicit valence for atom # 0 Br, 3, is greater than permitted\n",
      "[16:47:18] Explicit valence for atom # 0 Br, 3, is greater than permitted\n"
     ]
    },
    {
     "name": "stdout",
     "output_type": "stream",
     "text": [
      "ERROR!!!!!!\n",
      "Explicit valence for atom # 2 Cl, 2, is greater than permitted\n",
      "ERROR!!!!!!\n",
      "Explicit valence for atom # 0 Br, 3, is greater than permitted\n",
      "Molecule: Atoms(symbols='C2H12NOPSi', pbc=False)\n"
     ]
    },
    {
     "name": "stderr",
     "output_type": "stream",
     "text": [
      "[16:47:18] Explicit valence for atom # 5 Br, 3, is greater than permitted\n",
      "[16:47:18] Explicit valence for atom # 5 Br, 3, is greater than permitted\n",
      "[16:47:18] Explicit valence for atom # 6 Br, 2, is greater than permitted\n",
      "[16:47:18] Explicit valence for atom # 6 Br, 2, is greater than permitted\n",
      "[16:47:18] Explicit valence for atom # 15 F, 2, is greater than permitted\n",
      "[16:47:18] Explicit valence for atom # 15 F, 2, is greater than permitted\n"
     ]
    },
    {
     "name": "stdout",
     "output_type": "stream",
     "text": [
      "ERROR!!!!!!\n",
      "Explicit valence for atom # 5 Br, 3, is greater than permitted\n",
      "ERROR!!!!!!\n",
      "Explicit valence for atom # 6 Br, 2, is greater than permitted\n",
      "ERROR!!!!!!\n",
      "Explicit valence for atom # 15 F, 2, is greater than permitted\n"
     ]
    },
    {
     "name": "stderr",
     "output_type": "stream",
     "text": [
      "[16:47:18] Explicit valence for atom # 2 Br, 2, is greater than permitted\n",
      "[16:47:18] Explicit valence for atom # 2 Br, 2, is greater than permitted\n",
      "[16:47:18] Explicit valence for atom # 0 F, 4, is greater than permitted\n",
      "[16:47:18] Explicit valence for atom # 0 F, 4, is greater than permitted\n",
      "[16:47:18] non-ring atom 4 marked aromatic\n",
      "[16:47:18] non-ring atom 4 marked aromatic\n"
     ]
    },
    {
     "name": "stdout",
     "output_type": "stream",
     "text": [
      "ERROR!!!!!!\n",
      "Explicit valence for atom # 2 Br, 2, is greater than permitted\n",
      "ERROR!!!!!!\n",
      "Explicit valence for atom # 0 F, 4, is greater than permitted\n",
      "ERROR!!!!!!\n",
      "non-ring atom 4 marked aromatic\n"
     ]
    },
    {
     "name": "stderr",
     "output_type": "stream",
     "text": [
      "[16:47:19] Explicit valence for atom # 1 N, 5, is greater than permitted\n",
      "[16:47:19] Explicit valence for atom # 1 N, 5, is greater than permitted\n",
      "[16:47:19] Explicit valence for atom # 5 O, 4, is greater than permitted\n",
      "[16:47:19] Explicit valence for atom # 5 O, 4, is greater than permitted\n"
     ]
    },
    {
     "name": "stdout",
     "output_type": "stream",
     "text": [
      "ERROR!!!!!!\n",
      "Explicit valence for atom # 1 N, 5, is greater than permitted\n",
      "ERROR!!!!!!\n",
      "Explicit valence for atom # 5 O, 4, is greater than permitted\n"
     ]
    },
    {
     "name": "stderr",
     "output_type": "stream",
     "text": [
      "[16:47:19] Explicit valence for atom # 3 Cl, 2, is greater than permitted\n",
      "[16:47:19] Explicit valence for atom # 3 Cl, 2, is greater than permitted\n",
      "[16:47:19] Explicit valence for atom # 3 Br, 2, is greater than permitted\n",
      "[16:47:19] Explicit valence for atom # 3 Br, 2, is greater than permitted\n"
     ]
    },
    {
     "name": "stdout",
     "output_type": "stream",
     "text": [
      "ERROR!!!!!!\n",
      "Explicit valence for atom # 3 Cl, 2, is greater than permitted\n",
      "ERROR!!!!!!\n",
      "Explicit valence for atom # 3 Br, 2, is greater than permitted\n"
     ]
    },
    {
     "name": "stderr",
     "output_type": "stream",
     "text": [
      "[16:47:19] Explicit valence for atom # 1 F, 2, is greater than permitted\n",
      "[16:47:19] Explicit valence for atom # 1 F, 2, is greater than permitted\n",
      "[16:47:19] Explicit valence for atom # 0 Br, 2, is greater than permitted\n",
      "[16:47:19] Explicit valence for atom # 0 Br, 2, is greater than permitted\n",
      "[16:47:19] Explicit valence for atom # 3 Cl, 2, is greater than permitted\n",
      "[16:47:19] Explicit valence for atom # 3 Cl, 2, is greater than permitted\n"
     ]
    },
    {
     "name": "stdout",
     "output_type": "stream",
     "text": [
      "ERROR!!!!!!\n",
      "Explicit valence for atom # 1 F, 2, is greater than permitted\n",
      "ERROR!!!!!!\n",
      "Explicit valence for atom # 0 Br, 2, is greater than permitted\n",
      "ERROR!!!!!!\n",
      "Explicit valence for atom # 3 Cl, 2, is greater than permitted\n"
     ]
    },
    {
     "name": "stderr",
     "output_type": "stream",
     "text": [
      "[16:47:19] Explicit valence for atom # 2 Br, 2, is greater than permitted\n",
      "[16:47:19] Explicit valence for atom # 2 Br, 2, is greater than permitted\n",
      "[16:47:19] Explicit valence for atom # 4 O, 4, is greater than permitted\n",
      "[16:47:19] Explicit valence for atom # 4 O, 4, is greater than permitted\n",
      "[16:47:20] Explicit valence for atom # 7 N, 4, is greater than permitted\n",
      "[16:47:20] Explicit valence for atom # 7 N, 4, is greater than permitted\n"
     ]
    },
    {
     "name": "stdout",
     "output_type": "stream",
     "text": [
      "ERROR!!!!!!\n",
      "Explicit valence for atom # 2 Br, 2, is greater than permitted\n",
      "ERROR!!!!!!\n",
      "Explicit valence for atom # 4 O, 4, is greater than permitted\n",
      "ERROR!!!!!!\n",
      "Explicit valence for atom # 7 N, 4, is greater than permitted\n"
     ]
    },
    {
     "name": "stderr",
     "output_type": "stream",
     "text": [
      "[16:47:20] Explicit valence for atom # 5 Cl, 3, is greater than permitted\n",
      "[16:47:20] Explicit valence for atom # 5 Cl, 3, is greater than permitted\n",
      "[16:47:20] Explicit valence for atom # 6 C, 6, is greater than permitted\n",
      "[16:47:20] Explicit valence for atom # 6 C, 6, is greater than permitted\n",
      "[16:47:20] Explicit valence for atom # 1 F, 2, is greater than permitted\n",
      "[16:47:20] Explicit valence for atom # 1 F, 2, is greater than permitted\n"
     ]
    },
    {
     "name": "stdout",
     "output_type": "stream",
     "text": [
      "ERROR!!!!!!\n",
      "Explicit valence for atom # 5 Cl, 3, is greater than permitted\n",
      "ERROR!!!!!!\n",
      "Explicit valence for atom # 6 C, 6, is greater than permitted\n",
      "ERROR!!!!!!\n",
      "Explicit valence for atom # 1 F, 2, is greater than permitted\n"
     ]
    },
    {
     "name": "stderr",
     "output_type": "stream",
     "text": [
      "[16:47:20] Explicit valence for atom # 0 F, 4, is greater than permitted\n",
      "[16:47:20] Explicit valence for atom # 0 F, 4, is greater than permitted\n",
      "[16:47:20] Explicit valence for atom # 2 F, 4, is greater than permitted\n",
      "[16:47:20] Explicit valence for atom # 2 F, 4, is greater than permitted\n",
      "[16:47:20] Explicit valence for atom # 1 Br, 2, is greater than permitted\n",
      "[16:47:20] Explicit valence for atom # 1 Br, 2, is greater than permitted\n"
     ]
    },
    {
     "name": "stdout",
     "output_type": "stream",
     "text": [
      "ERROR!!!!!!\n",
      "Explicit valence for atom # 0 F, 4, is greater than permitted\n",
      "ERROR!!!!!!\n",
      "Explicit valence for atom # 2 F, 4, is greater than permitted\n",
      "ERROR!!!!!!\n",
      "Explicit valence for atom # 1 Br, 2, is greater than permitted\n"
     ]
    },
    {
     "name": "stderr",
     "output_type": "stream",
     "text": [
      "[16:47:20] Explicit valence for atom # 5 F, 2, is greater than permitted\n",
      "[16:47:20] Explicit valence for atom # 5 F, 2, is greater than permitted\n",
      "[16:47:20] Explicit valence for atom # 1 Cl, 4, is greater than permitted\n",
      "[16:47:20] Explicit valence for atom # 1 Cl, 4, is greater than permitted\n",
      "[16:47:20] Explicit valence for atom # 1 F, 2, is greater than permitted\n",
      "[16:47:20] Explicit valence for atom # 1 F, 2, is greater than permitted\n"
     ]
    },
    {
     "name": "stdout",
     "output_type": "stream",
     "text": [
      "ERROR!!!!!!\n",
      "Explicit valence for atom # 5 F, 2, is greater than permitted\n",
      "ERROR!!!!!!\n",
      "Explicit valence for atom # 1 Cl, 4, is greater than permitted\n",
      "ERROR!!!!!!\n",
      "Explicit valence for atom # 1 F, 2, is greater than permitted\n"
     ]
    },
    {
     "name": "stderr",
     "output_type": "stream",
     "text": [
      "[16:47:21] Explicit valence for atom # 2 F, 2, is greater than permitted\n",
      "[16:47:21] Explicit valence for atom # 2 F, 2, is greater than permitted\n",
      "[16:47:21] non-ring atom 4 marked aromatic\n",
      "[16:47:21] non-ring atom 4 marked aromatic\n",
      "[16:47:21] Explicit valence for atom # 1 F, 2, is greater than permitted\n",
      "[16:47:21] Explicit valence for atom # 1 F, 2, is greater than permitted\n"
     ]
    },
    {
     "name": "stdout",
     "output_type": "stream",
     "text": [
      "ERROR!!!!!!\n",
      "Explicit valence for atom # 2 F, 2, is greater than permitted\n",
      "ERROR!!!!!!\n",
      "non-ring atom 4 marked aromatic\n",
      "ERROR!!!!!!\n",
      "Explicit valence for atom # 1 F, 2, is greater than permitted\n"
     ]
    },
    {
     "name": "stderr",
     "output_type": "stream",
     "text": [
      "[16:47:21] Explicit valence for atom # 8 Cl, 2, is greater than permitted\n",
      "[16:47:21] Explicit valence for atom # 8 Cl, 2, is greater than permitted\n",
      "[16:47:21] Explicit valence for atom # 2 F, 2, is greater than permitted\n",
      "[16:47:21] Explicit valence for atom # 2 F, 2, is greater than permitted\n"
     ]
    },
    {
     "name": "stdout",
     "output_type": "stream",
     "text": [
      "ERROR!!!!!!\n",
      "Explicit valence for atom # 8 Cl, 2, is greater than permitted\n",
      "ERROR!!!!!!\n",
      "Explicit valence for atom # 2 F, 2, is greater than permitted\n",
      "Molecule: Atoms(symbols='C4H22N2O2P4Si', pbc=False)\n"
     ]
    },
    {
     "name": "stderr",
     "output_type": "stream",
     "text": [
      "[16:47:22] Explicit valence for atom # 1 Cl, 2, is greater than permitted\n",
      "[16:47:22] Explicit valence for atom # 1 Cl, 2, is greater than permitted\n",
      "[16:47:22] Explicit valence for atom # 1 F, 5, is greater than permitted\n",
      "[16:47:22] Explicit valence for atom # 1 F, 5, is greater than permitted\n"
     ]
    },
    {
     "name": "stdout",
     "output_type": "stream",
     "text": [
      "ERROR!!!!!!\n",
      "Explicit valence for atom # 1 Cl, 2, is greater than permitted\n",
      "ERROR!!!!!!\n",
      "Explicit valence for atom # 1 F, 5, is greater than permitted\n"
     ]
    },
    {
     "name": "stderr",
     "output_type": "stream",
     "text": [
      "[16:47:22] Explicit valence for atom # 1 Cl, 2, is greater than permitted\n",
      "[16:47:22] Explicit valence for atom # 1 Cl, 2, is greater than permitted\n",
      "[16:47:22] Explicit valence for atom # 3 Cl, 2, is greater than permitted\n",
      "[16:47:22] Explicit valence for atom # 3 Cl, 2, is greater than permitted\n"
     ]
    },
    {
     "name": "stdout",
     "output_type": "stream",
     "text": [
      "ERROR!!!!!!\n",
      "Explicit valence for atom # 1 Cl, 2, is greater than permitted\n",
      "ERROR!!!!!!\n",
      "Explicit valence for atom # 3 Cl, 2, is greater than permitted\n"
     ]
    },
    {
     "name": "stderr",
     "output_type": "stream",
     "text": [
      "[16:47:22] Explicit valence for atom # 1 Br, 2, is greater than permitted\n",
      "[16:47:22] Explicit valence for atom # 1 Br, 2, is greater than permitted\n",
      "[16:47:22] Explicit valence for atom # 4 Br, 2, is greater than permitted\n",
      "[16:47:22] Explicit valence for atom # 4 Br, 2, is greater than permitted\n",
      "[16:47:23] Explicit valence for atom # 1 F, 2, is greater than permitted\n",
      "[16:47:23] Explicit valence for atom # 1 F, 2, is greater than permitted\n"
     ]
    },
    {
     "name": "stdout",
     "output_type": "stream",
     "text": [
      "ERROR!!!!!!\n",
      "Explicit valence for atom # 1 Br, 2, is greater than permitted\n",
      "ERROR!!!!!!\n",
      "Explicit valence for atom # 4 Br, 2, is greater than permitted\n",
      "ERROR!!!!!!\n",
      "Explicit valence for atom # 1 F, 2, is greater than permitted\n"
     ]
    },
    {
     "name": "stderr",
     "output_type": "stream",
     "text": [
      "[16:47:23] Explicit valence for atom # 4 Cl, 2, is greater than permitted\n",
      "[16:47:23] Explicit valence for atom # 4 Cl, 2, is greater than permitted\n",
      "[16:47:23] Explicit valence for atom # 0 Cl, 6, is greater than permitted\n",
      "[16:47:23] Explicit valence for atom # 0 Cl, 6, is greater than permitted\n"
     ]
    },
    {
     "name": "stdout",
     "output_type": "stream",
     "text": [
      "ERROR!!!!!!\n",
      "Explicit valence for atom # 4 Cl, 2, is greater than permitted\n",
      "ERROR!!!!!!\n",
      "Explicit valence for atom # 0 Cl, 6, is greater than permitted\n"
     ]
    },
    {
     "name": "stderr",
     "output_type": "stream",
     "text": [
      "[16:47:23] Explicit valence for atom # 1 F, 10, is greater than permitted\n",
      "[16:47:23] Explicit valence for atom # 1 F, 10, is greater than permitted\n",
      "[16:47:23] Explicit valence for atom # 2 F, 2, is greater than permitted\n",
      "[16:47:23] Explicit valence for atom # 2 F, 2, is greater than permitted\n",
      "[16:47:23] non-ring atom 4 marked aromatic\n",
      "[16:47:23] non-ring atom 4 marked aromatic\n"
     ]
    },
    {
     "name": "stdout",
     "output_type": "stream",
     "text": [
      "ERROR!!!!!!\n",
      "Explicit valence for atom # 1 F, 10, is greater than permitted\n",
      "ERROR!!!!!!\n",
      "Explicit valence for atom # 2 F, 2, is greater than permitted\n",
      "ERROR!!!!!!\n",
      "non-ring atom 4 marked aromatic\n"
     ]
    },
    {
     "name": "stderr",
     "output_type": "stream",
     "text": [
      "[16:47:23] non-ring atom 4 marked aromatic\n",
      "[16:47:23] non-ring atom 4 marked aromatic\n"
     ]
    },
    {
     "name": "stdout",
     "output_type": "stream",
     "text": [
      "ERROR!!!!!!\n",
      "non-ring atom 4 marked aromatic\n",
      "Molecule: Atoms(symbols='C3H12IO2P', pbc=False)\n"
     ]
    },
    {
     "name": "stderr",
     "output_type": "stream",
     "text": [
      "[16:47:24] Explicit valence for atom # 3 Br, 11, is greater than permitted\n",
      "[16:47:24] Explicit valence for atom # 3 Br, 11, is greater than permitted\n",
      "[16:47:24] Explicit valence for atom # 1 F, 2, is greater than permitted\n",
      "[16:47:24] Explicit valence for atom # 1 F, 2, is greater than permitted\n"
     ]
    },
    {
     "name": "stdout",
     "output_type": "stream",
     "text": [
      "ERROR!!!!!!\n",
      "Explicit valence for atom # 3 Br, 11, is greater than permitted\n",
      "ERROR!!!!!!\n",
      "Explicit valence for atom # 1 F, 2, is greater than permitted\n"
     ]
    },
    {
     "name": "stderr",
     "output_type": "stream",
     "text": [
      "[16:47:24] Explicit valence for atom # 0 N, 4, is greater than permitted\n",
      "[16:47:24] Explicit valence for atom # 0 N, 4, is greater than permitted\n",
      "[16:47:24] Explicit valence for atom # 1 Br, 2, is greater than permitted\n",
      "[16:47:24] Explicit valence for atom # 1 Br, 2, is greater than permitted\n"
     ]
    },
    {
     "name": "stdout",
     "output_type": "stream",
     "text": [
      "ERROR!!!!!!\n",
      "Explicit valence for atom # 0 N, 4, is greater than permitted\n",
      "ERROR!!!!!!\n",
      "Explicit valence for atom # 1 Br, 2, is greater than permitted\n",
      "Molecule: Atoms(symbols='C2H9INO3P', pbc=False)\n"
     ]
    },
    {
     "name": "stderr",
     "output_type": "stream",
     "text": [
      "[16:47:24] Explicit valence for atom # 1 Br, 2, is greater than permitted\n",
      "[16:47:24] Explicit valence for atom # 1 Br, 2, is greater than permitted\n",
      "[16:47:25] Explicit valence for atom # 7 F, 2, is greater than permitted\n",
      "[16:47:25] Explicit valence for atom # 7 F, 2, is greater than permitted\n",
      "[16:47:25] non-ring atom 13 marked aromatic\n",
      "[16:47:25] non-ring atom 13 marked aromatic\n"
     ]
    },
    {
     "name": "stdout",
     "output_type": "stream",
     "text": [
      "ERROR!!!!!!\n",
      "Explicit valence for atom # 1 Br, 2, is greater than permitted\n",
      "ERROR!!!!!!\n",
      "Explicit valence for atom # 7 F, 2, is greater than permitted\n",
      "ERROR!!!!!!\n",
      "non-ring atom 13 marked aromatic\n"
     ]
    },
    {
     "name": "stderr",
     "output_type": "stream",
     "text": [
      "[16:47:25] Explicit valence for atom # 3 Cl, 2, is greater than permitted\n",
      "[16:47:25] Explicit valence for atom # 3 Cl, 2, is greater than permitted\n",
      "[16:47:25] Explicit valence for atom # 3 Br, 2, is greater than permitted\n",
      "[16:47:25] Explicit valence for atom # 3 Br, 2, is greater than permitted\n",
      "[16:47:25] Explicit valence for atom # 1 Br, 2, is greater than permitted\n",
      "[16:47:25] Explicit valence for atom # 1 Br, 2, is greater than permitted\n"
     ]
    },
    {
     "name": "stdout",
     "output_type": "stream",
     "text": [
      "ERROR!!!!!!\n",
      "Explicit valence for atom # 3 Cl, 2, is greater than permitted\n",
      "ERROR!!!!!!\n",
      "Explicit valence for atom # 3 Br, 2, is greater than permitted\n",
      "ERROR!!!!!!\n",
      "Explicit valence for atom # 1 Br, 2, is greater than permitted\n"
     ]
    },
    {
     "name": "stderr",
     "output_type": "stream",
     "text": [
      "[16:47:25] Explicit valence for atom # 2 F, 3, is greater than permitted\n",
      "[16:47:25] Explicit valence for atom # 2 F, 3, is greater than permitted\n",
      "[16:47:25] Explicit valence for atom # 3 Cl, 2, is greater than permitted\n",
      "[16:47:25] Explicit valence for atom # 3 Cl, 2, is greater than permitted\n",
      "[16:47:25] Explicit valence for atom # 4 Br, 2, is greater than permitted\n",
      "[16:47:25] Explicit valence for atom # 4 Br, 2, is greater than permitted\n"
     ]
    },
    {
     "name": "stdout",
     "output_type": "stream",
     "text": [
      "ERROR!!!!!!\n",
      "Explicit valence for atom # 2 F, 3, is greater than permitted\n",
      "ERROR!!!!!!\n",
      "Explicit valence for atom # 3 Cl, 2, is greater than permitted\n",
      "ERROR!!!!!!\n",
      "Explicit valence for atom # 4 Br, 2, is greater than permitted\n"
     ]
    },
    {
     "name": "stderr",
     "output_type": "stream",
     "text": [
      "[16:47:25] Explicit valence for atom # 6 Br, 3, is greater than permitted\n",
      "[16:47:25] Explicit valence for atom # 6 Br, 3, is greater than permitted\n",
      "[16:47:25] Explicit valence for atom # 3 F, 2, is greater than permitted\n",
      "[16:47:25] Explicit valence for atom # 3 F, 2, is greater than permitted\n",
      "[16:47:25] Explicit valence for atom # 2 F, 2, is greater than permitted\n",
      "[16:47:25] Explicit valence for atom # 2 F, 2, is greater than permitted\n"
     ]
    },
    {
     "name": "stdout",
     "output_type": "stream",
     "text": [
      "ERROR!!!!!!\n",
      "Explicit valence for atom # 6 Br, 3, is greater than permitted\n",
      "ERROR!!!!!!\n",
      "Explicit valence for atom # 3 F, 2, is greater than permitted\n",
      "ERROR!!!!!!\n",
      "Explicit valence for atom # 2 F, 2, is greater than permitted\n"
     ]
    },
    {
     "name": "stderr",
     "output_type": "stream",
     "text": [
      "[16:47:26] Explicit valence for atom # 2 F, 4, is greater than permitted\n",
      "[16:47:26] Explicit valence for atom # 2 F, 4, is greater than permitted\n",
      "[16:47:26] Explicit valence for atom # 3 Cl, 2, is greater than permitted\n",
      "[16:47:26] Explicit valence for atom # 3 Cl, 2, is greater than permitted\n"
     ]
    },
    {
     "name": "stdout",
     "output_type": "stream",
     "text": [
      "ERROR!!!!!!\n",
      "Explicit valence for atom # 2 F, 4, is greater than permitted\n",
      "ERROR!!!!!!\n",
      "Explicit valence for atom # 3 Cl, 2, is greater than permitted\n"
     ]
    },
    {
     "name": "stderr",
     "output_type": "stream",
     "text": [
      "[16:47:26] Explicit valence for atom # 4 Br, 2, is greater than permitted\n",
      "[16:47:26] Explicit valence for atom # 4 Br, 2, is greater than permitted\n",
      "[16:47:26] Explicit valence for atom # 3 Br, 4, is greater than permitted\n",
      "[16:47:26] Explicit valence for atom # 3 Br, 4, is greater than permitted\n",
      "[16:47:26] Explicit valence for atom # 2 Br, 2, is greater than permitted\n",
      "[16:47:26] Explicit valence for atom # 2 Br, 2, is greater than permitted\n"
     ]
    },
    {
     "name": "stdout",
     "output_type": "stream",
     "text": [
      "ERROR!!!!!!\n",
      "Explicit valence for atom # 4 Br, 2, is greater than permitted\n",
      "ERROR!!!!!!\n",
      "Explicit valence for atom # 3 Br, 4, is greater than permitted\n",
      "ERROR!!!!!!\n",
      "Explicit valence for atom # 2 Br, 2, is greater than permitted\n",
      "Molecule: Atoms(symbols='C3H12IO2PSi', pbc=False)\n"
     ]
    },
    {
     "name": "stderr",
     "output_type": "stream",
     "text": [
      "[16:47:26] Explicit valence for atom # 1 Br, 2, is greater than permitted\n",
      "[16:47:26] Explicit valence for atom # 1 Br, 2, is greater than permitted\n",
      "[16:47:27] Explicit valence for atom # 5 Cl, 2, is greater than permitted\n",
      "[16:47:27] Explicit valence for atom # 5 Cl, 2, is greater than permitted\n",
      "[16:47:27] Explicit valence for atom # 1 Br, 2, is greater than permitted\n",
      "[16:47:27] Explicit valence for atom # 1 Br, 2, is greater than permitted\n"
     ]
    },
    {
     "name": "stdout",
     "output_type": "stream",
     "text": [
      "ERROR!!!!!!\n",
      "Explicit valence for atom # 1 Br, 2, is greater than permitted\n",
      "ERROR!!!!!!\n",
      "Explicit valence for atom # 5 Cl, 2, is greater than permitted\n",
      "ERROR!!!!!!\n",
      "Explicit valence for atom # 1 Br, 2, is greater than permitted\n",
      "Molecule: Atoms(symbols='C3H15N5O', pbc=False)\n"
     ]
    },
    {
     "name": "stderr",
     "output_type": "stream",
     "text": [
      "[16:47:27] Explicit valence for atom # 11 Cl, 2, is greater than permitted\n",
      "[16:47:27] Explicit valence for atom # 11 Cl, 2, is greater than permitted\n",
      "[16:47:27] Explicit valence for atom # 14 Cl, 2, is greater than permitted\n",
      "[16:47:27] Explicit valence for atom # 14 Cl, 2, is greater than permitted\n",
      "[16:47:27] Explicit valence for atom # 7 F, 2, is greater than permitted\n",
      "[16:47:27] Explicit valence for atom # 7 F, 2, is greater than permitted\n"
     ]
    },
    {
     "name": "stdout",
     "output_type": "stream",
     "text": [
      "ERROR!!!!!!\n",
      "Explicit valence for atom # 11 Cl, 2, is greater than permitted\n",
      "ERROR!!!!!!\n",
      "Explicit valence for atom # 14 Cl, 2, is greater than permitted\n",
      "ERROR!!!!!!\n",
      "Explicit valence for atom # 7 F, 2, is greater than permitted\n"
     ]
    },
    {
     "name": "stderr",
     "output_type": "stream",
     "text": [
      "[16:47:27] Explicit valence for atom # 6 Cl, 3, is greater than permitted\n",
      "[16:47:27] Explicit valence for atom # 6 Cl, 3, is greater than permitted\n",
      "[16:47:27] Explicit valence for atom # 2 Br, 4, is greater than permitted\n",
      "[16:47:27] Explicit valence for atom # 2 Br, 4, is greater than permitted\n",
      "[16:47:28] Explicit valence for atom # 8 Br, 2, is greater than permitted\n",
      "[16:47:28] Explicit valence for atom # 8 Br, 2, is greater than permitted\n"
     ]
    },
    {
     "name": "stdout",
     "output_type": "stream",
     "text": [
      "ERROR!!!!!!\n",
      "Explicit valence for atom # 6 Cl, 3, is greater than permitted\n",
      "ERROR!!!!!!\n",
      "Explicit valence for atom # 2 Br, 4, is greater than permitted\n",
      "ERROR!!!!!!\n",
      "Explicit valence for atom # 8 Br, 2, is greater than permitted\n"
     ]
    },
    {
     "name": "stderr",
     "output_type": "stream",
     "text": [
      "[16:47:28] Explicit valence for atom # 1 Br, 4, is greater than permitted\n",
      "[16:47:28] Explicit valence for atom # 1 Br, 4, is greater than permitted\n",
      "[16:47:28] Explicit valence for atom # 0 F, 3, is greater than permitted\n",
      "[16:47:28] Explicit valence for atom # 0 F, 3, is greater than permitted\n",
      "[16:47:28] Explicit valence for atom # 1 Br, 2, is greater than permitted\n",
      "[16:47:28] Explicit valence for atom # 1 Br, 2, is greater than permitted\n"
     ]
    },
    {
     "name": "stdout",
     "output_type": "stream",
     "text": [
      "ERROR!!!!!!\n",
      "Explicit valence for atom # 1 Br, 4, is greater than permitted\n",
      "ERROR!!!!!!\n",
      "Explicit valence for atom # 0 F, 3, is greater than permitted\n",
      "ERROR!!!!!!\n",
      "Explicit valence for atom # 1 Br, 2, is greater than permitted\n"
     ]
    },
    {
     "name": "stderr",
     "output_type": "stream",
     "text": [
      "[16:47:28] Explicit valence for atom # 2 Cl, 2, is greater than permitted\n",
      "[16:47:28] Explicit valence for atom # 2 Cl, 2, is greater than permitted\n",
      "[16:47:28] Explicit valence for atom # 1 Br, 2, is greater than permitted\n",
      "[16:47:28] Explicit valence for atom # 1 Br, 2, is greater than permitted\n"
     ]
    },
    {
     "name": "stdout",
     "output_type": "stream",
     "text": [
      "ERROR!!!!!!\n",
      "Explicit valence for atom # 2 Cl, 2, is greater than permitted\n",
      "ERROR!!!!!!\n",
      "Explicit valence for atom # 1 Br, 2, is greater than permitted\n"
     ]
    },
    {
     "name": "stderr",
     "output_type": "stream",
     "text": [
      "[16:47:28] Explicit valence for atom # 5 Br, 2, is greater than permitted\n",
      "[16:47:28] Explicit valence for atom # 5 Br, 2, is greater than permitted\n",
      "[16:47:28] Explicit valence for atom # 7 Cl, 2, is greater than permitted\n",
      "[16:47:28] Explicit valence for atom # 7 Cl, 2, is greater than permitted\n"
     ]
    },
    {
     "name": "stdout",
     "output_type": "stream",
     "text": [
      "ERROR!!!!!!\n",
      "Explicit valence for atom # 5 Br, 2, is greater than permitted\n",
      "ERROR!!!!!!\n",
      "Explicit valence for atom # 7 Cl, 2, is greater than permitted\n"
     ]
    },
    {
     "name": "stderr",
     "output_type": "stream",
     "text": [
      "[16:47:28] Explicit valence for atom # 7 Br, 2, is greater than permitted\n",
      "[16:47:28] Explicit valence for atom # 7 Br, 2, is greater than permitted\n",
      "[16:47:29] Explicit valence for atom # 3 Br, 2, is greater than permitted\n",
      "[16:47:29] Explicit valence for atom # 3 Br, 2, is greater than permitted\n",
      "[16:47:29] Explicit valence for atom # 1 F, 2, is greater than permitted\n",
      "[16:47:29] Explicit valence for atom # 1 F, 2, is greater than permitted\n"
     ]
    },
    {
     "name": "stdout",
     "output_type": "stream",
     "text": [
      "ERROR!!!!!!\n",
      "Explicit valence for atom # 7 Br, 2, is greater than permitted\n",
      "ERROR!!!!!!\n",
      "Explicit valence for atom # 3 Br, 2, is greater than permitted\n",
      "ERROR!!!!!!\n",
      "Explicit valence for atom # 1 F, 2, is greater than permitted\n"
     ]
    },
    {
     "name": "stderr",
     "output_type": "stream",
     "text": [
      "[16:47:29] Explicit valence for atom # 0 Br, 4, is greater than permitted\n",
      "[16:47:29] Explicit valence for atom # 0 Br, 4, is greater than permitted\n",
      "[16:47:29] Explicit valence for atom # 0 F, 8, is greater than permitted\n",
      "[16:47:29] Explicit valence for atom # 0 F, 8, is greater than permitted\n"
     ]
    },
    {
     "name": "stdout",
     "output_type": "stream",
     "text": [
      "ERROR!!!!!!\n",
      "Explicit valence for atom # 0 Br, 4, is greater than permitted\n",
      "ERROR!!!!!!\n",
      "Explicit valence for atom # 0 F, 8, is greater than permitted\n"
     ]
    },
    {
     "name": "stderr",
     "output_type": "stream",
     "text": [
      "[16:47:29] Explicit valence for atom # 0 Br, 4, is greater than permitted\n",
      "[16:47:29] Explicit valence for atom # 0 Br, 4, is greater than permitted\n",
      "[16:47:29] Explicit valence for atom # 1 C, 11, is greater than permitted\n",
      "[16:47:29] Explicit valence for atom # 1 C, 11, is greater than permitted\n",
      "[16:47:29] Explicit valence for atom # 10 Cl, 2, is greater than permitted\n",
      "[16:47:29] Explicit valence for atom # 10 Cl, 2, is greater than permitted\n"
     ]
    },
    {
     "name": "stdout",
     "output_type": "stream",
     "text": [
      "ERROR!!!!!!\n",
      "Explicit valence for atom # 0 Br, 4, is greater than permitted\n",
      "ERROR!!!!!!\n",
      "Explicit valence for atom # 1 C, 11, is greater than permitted\n",
      "ERROR!!!!!!\n",
      "Explicit valence for atom # 10 Cl, 2, is greater than permitted\n"
     ]
    },
    {
     "name": "stderr",
     "output_type": "stream",
     "text": [
      "[16:47:29] Explicit valence for atom # 1 I, 8, is greater than permitted\n",
      "[16:47:29] Explicit valence for atom # 1 I, 8, is greater than permitted\n"
     ]
    },
    {
     "name": "stdout",
     "output_type": "stream",
     "text": [
      "ERROR!!!!!!\n",
      "Explicit valence for atom # 1 I, 8, is greater than permitted\n",
      "Molecule: Atoms(symbols='CH9FNOPS2Si', pbc=False)\n"
     ]
    },
    {
     "name": "stderr",
     "output_type": "stream",
     "text": [
      "[16:47:30] Explicit valence for atom # 2 O, 4, is greater than permitted\n",
      "[16:47:30] Explicit valence for atom # 2 O, 4, is greater than permitted\n",
      "[16:47:30] Explicit valence for atom # 2 Cl, 2, is greater than permitted\n",
      "[16:47:30] Explicit valence for atom # 2 Cl, 2, is greater than permitted\n",
      "[16:47:30] Explicit valence for atom # 1 Br, 2, is greater than permitted\n",
      "[16:47:30] Explicit valence for atom # 1 Br, 2, is greater than permitted\n"
     ]
    },
    {
     "name": "stdout",
     "output_type": "stream",
     "text": [
      "ERROR!!!!!!\n",
      "Explicit valence for atom # 2 O, 4, is greater than permitted\n",
      "ERROR!!!!!!\n",
      "Explicit valence for atom # 2 Cl, 2, is greater than permitted\n",
      "ERROR!!!!!!\n",
      "Explicit valence for atom # 1 Br, 2, is greater than permitted\n"
     ]
    },
    {
     "name": "stderr",
     "output_type": "stream",
     "text": [
      "[16:47:30] Explicit valence for atom # 1 Br, 2, is greater than permitted\n",
      "[16:47:30] Explicit valence for atom # 1 Br, 2, is greater than permitted\n",
      "[16:47:30] Explicit valence for atom # 1 Cl, 2, is greater than permitted\n",
      "[16:47:30] Explicit valence for atom # 1 Cl, 2, is greater than permitted\n",
      "[16:47:30] Explicit valence for atom # 1 F, 2, is greater than permitted\n",
      "[16:47:30] Explicit valence for atom # 1 F, 2, is greater than permitted\n"
     ]
    },
    {
     "name": "stdout",
     "output_type": "stream",
     "text": [
      "ERROR!!!!!!\n",
      "Explicit valence for atom # 1 Br, 2, is greater than permitted\n",
      "ERROR!!!!!!\n",
      "Explicit valence for atom # 1 Cl, 2, is greater than permitted\n",
      "ERROR!!!!!!\n",
      "Explicit valence for atom # 1 F, 2, is greater than permitted\n"
     ]
    },
    {
     "name": "stderr",
     "output_type": "stream",
     "text": [
      "[16:47:30] Explicit valence for atom # 15 F, 4, is greater than permitted\n",
      "[16:47:30] Explicit valence for atom # 15 F, 4, is greater than permitted\n",
      "[16:47:30] Explicit valence for atom # 0 O, 3, is greater than permitted\n",
      "[16:47:30] Explicit valence for atom # 0 O, 3, is greater than permitted\n",
      "[16:47:30] Explicit valence for atom # 4 Cl, 2, is greater than permitted\n",
      "[16:47:30] Explicit valence for atom # 4 Cl, 2, is greater than permitted\n"
     ]
    },
    {
     "name": "stdout",
     "output_type": "stream",
     "text": [
      "ERROR!!!!!!\n",
      "Explicit valence for atom # 15 F, 4, is greater than permitted\n",
      "ERROR!!!!!!\n",
      "Explicit valence for atom # 0 O, 3, is greater than permitted\n",
      "ERROR!!!!!!\n",
      "Explicit valence for atom # 4 Cl, 2, is greater than permitted\n"
     ]
    },
    {
     "name": "stderr",
     "output_type": "stream",
     "text": [
      "[16:47:30] Explicit valence for atom # 0 O, 4, is greater than permitted\n",
      "[16:47:30] Explicit valence for atom # 0 O, 4, is greater than permitted\n",
      "[16:47:31] Explicit valence for atom # 2 Cl, 2, is greater than permitted\n",
      "[16:47:31] Explicit valence for atom # 2 Cl, 2, is greater than permitted\n",
      "[16:47:31] Explicit valence for atom # 7 N, 4, is greater than permitted\n",
      "[16:47:31] Explicit valence for atom # 7 N, 4, is greater than permitted\n"
     ]
    },
    {
     "name": "stdout",
     "output_type": "stream",
     "text": [
      "ERROR!!!!!!\n",
      "Explicit valence for atom # 0 O, 4, is greater than permitted\n",
      "ERROR!!!!!!\n",
      "Explicit valence for atom # 2 Cl, 2, is greater than permitted\n",
      "ERROR!!!!!!\n",
      "Explicit valence for atom # 7 N, 4, is greater than permitted\n"
     ]
    },
    {
     "name": "stderr",
     "output_type": "stream",
     "text": [
      "[16:47:31] Explicit valence for atom # 2 F, 2, is greater than permitted\n",
      "[16:47:31] Explicit valence for atom # 2 F, 2, is greater than permitted\n",
      "[16:47:31] Explicit valence for atom # 2 Br, 5, is greater than permitted\n",
      "[16:47:31] Explicit valence for atom # 2 Br, 5, is greater than permitted\n",
      "[16:47:31] Explicit valence for atom # 1 Cl, 2, is greater than permitted\n",
      "[16:47:31] Explicit valence for atom # 1 Cl, 2, is greater than permitted\n"
     ]
    },
    {
     "name": "stdout",
     "output_type": "stream",
     "text": [
      "ERROR!!!!!!\n",
      "Explicit valence for atom # 2 F, 2, is greater than permitted\n",
      "ERROR!!!!!!\n",
      "Explicit valence for atom # 2 Br, 5, is greater than permitted\n",
      "ERROR!!!!!!\n",
      "Explicit valence for atom # 1 Cl, 2, is greater than permitted\n"
     ]
    },
    {
     "name": "stderr",
     "output_type": "stream",
     "text": [
      "[16:47:31] Explicit valence for atom # 4 Cl, 2, is greater than permitted\n",
      "[16:47:31] Explicit valence for atom # 4 Cl, 2, is greater than permitted\n",
      "[16:47:31] Explicit valence for atom # 2 Cl, 4, is greater than permitted\n",
      "[16:47:31] Explicit valence for atom # 2 Cl, 4, is greater than permitted\n"
     ]
    },
    {
     "name": "stdout",
     "output_type": "stream",
     "text": [
      "ERROR!!!!!!\n",
      "Explicit valence for atom # 4 Cl, 2, is greater than permitted\n",
      "ERROR!!!!!!\n",
      "Explicit valence for atom # 2 Cl, 4, is greater than permitted\n"
     ]
    },
    {
     "name": "stderr",
     "output_type": "stream",
     "text": [
      "[16:47:31] Explicit valence for atom # 2 N, 8, is greater than permitted\n",
      "[16:47:31] Explicit valence for atom # 2 N, 8, is greater than permitted\n",
      "[16:47:31] Explicit valence for atom # 0 Br, 3, is greater than permitted\n",
      "[16:47:31] Explicit valence for atom # 0 Br, 3, is greater than permitted\n"
     ]
    },
    {
     "name": "stdout",
     "output_type": "stream",
     "text": [
      "ERROR!!!!!!\n",
      "Explicit valence for atom # 2 N, 8, is greater than permitted\n",
      "ERROR!!!!!!\n",
      "Explicit valence for atom # 0 Br, 3, is greater than permitted\n"
     ]
    },
    {
     "name": "stderr",
     "output_type": "stream",
     "text": [
      "[16:47:31] Explicit valence for atom # 0 Br, 2, is greater than permitted\n",
      "[16:47:31] Explicit valence for atom # 0 Br, 2, is greater than permitted\n",
      "[16:47:32] Explicit valence for atom # 2 Br, 2, is greater than permitted\n",
      "[16:47:32] Explicit valence for atom # 2 Br, 2, is greater than permitted\n",
      "[16:47:32] Explicit valence for atom # 6 F, 2, is greater than permitted\n",
      "[16:47:32] Explicit valence for atom # 6 F, 2, is greater than permitted\n"
     ]
    },
    {
     "name": "stdout",
     "output_type": "stream",
     "text": [
      "ERROR!!!!!!\n",
      "Explicit valence for atom # 0 Br, 2, is greater than permitted\n",
      "ERROR!!!!!!\n",
      "Explicit valence for atom # 2 Br, 2, is greater than permitted\n",
      "ERROR!!!!!!\n",
      "Explicit valence for atom # 6 F, 2, is greater than permitted\n"
     ]
    },
    {
     "name": "stderr",
     "output_type": "stream",
     "text": [
      "[16:47:32] Explicit valence for atom # 1 Br, 2, is greater than permitted\n",
      "[16:47:32] Explicit valence for atom # 1 Br, 2, is greater than permitted\n",
      "[16:47:32] Explicit valence for atom # 9 Cl, 2, is greater than permitted\n",
      "[16:47:32] Explicit valence for atom # 9 Cl, 2, is greater than permitted\n",
      "[16:47:32] Explicit valence for atom # 3 Cl, 5, is greater than permitted\n",
      "[16:47:32] Explicit valence for atom # 3 Cl, 5, is greater than permitted\n"
     ]
    },
    {
     "name": "stdout",
     "output_type": "stream",
     "text": [
      "ERROR!!!!!!\n",
      "Explicit valence for atom # 1 Br, 2, is greater than permitted\n",
      "ERROR!!!!!!\n",
      "Explicit valence for atom # 9 Cl, 2, is greater than permitted\n",
      "ERROR!!!!!!\n",
      "Explicit valence for atom # 3 Cl, 5, is greater than permitted\n"
     ]
    },
    {
     "name": "stderr",
     "output_type": "stream",
     "text": [
      "[16:47:32] Explicit valence for atom # 0 Cl, 6, is greater than permitted\n",
      "[16:47:32] Explicit valence for atom # 0 Cl, 6, is greater than permitted\n",
      "[16:47:32] Explicit valence for atom # 4 F, 6, is greater than permitted\n",
      "[16:47:32] Explicit valence for atom # 4 F, 6, is greater than permitted\n",
      "[16:47:32] Explicit valence for atom # 1 Br, 2, is greater than permitted\n",
      "[16:47:32] Explicit valence for atom # 1 Br, 2, is greater than permitted\n"
     ]
    },
    {
     "name": "stdout",
     "output_type": "stream",
     "text": [
      "ERROR!!!!!!\n",
      "Explicit valence for atom # 0 Cl, 6, is greater than permitted\n",
      "ERROR!!!!!!\n",
      "Explicit valence for atom # 4 F, 6, is greater than permitted\n",
      "ERROR!!!!!!\n",
      "Explicit valence for atom # 1 Br, 2, is greater than permitted\n"
     ]
    },
    {
     "name": "stderr",
     "output_type": "stream",
     "text": [
      "[16:47:32] Explicit valence for atom # 6 Br, 2, is greater than permitted\n",
      "[16:47:32] Explicit valence for atom # 6 Br, 2, is greater than permitted\n",
      "[16:47:32] Explicit valence for atom # 1 F, 2, is greater than permitted\n",
      "[16:47:32] Explicit valence for atom # 1 F, 2, is greater than permitted\n",
      "[16:47:33] Explicit valence for atom # 4 F, 2, is greater than permitted\n",
      "[16:47:33] Explicit valence for atom # 4 F, 2, is greater than permitted\n"
     ]
    },
    {
     "name": "stdout",
     "output_type": "stream",
     "text": [
      "ERROR!!!!!!\n",
      "Explicit valence for atom # 6 Br, 2, is greater than permitted\n",
      "ERROR!!!!!!\n",
      "Explicit valence for atom # 1 F, 2, is greater than permitted\n",
      "ERROR!!!!!!\n",
      "Explicit valence for atom # 4 F, 2, is greater than permitted\n"
     ]
    },
    {
     "name": "stderr",
     "output_type": "stream",
     "text": [
      "[16:47:33] Explicit valence for atom # 2 Cl, 13, is greater than permitted\n",
      "[16:47:33] Explicit valence for atom # 2 Cl, 13, is greater than permitted\n",
      "[16:47:33] Explicit valence for atom # 4 Cl, 2, is greater than permitted\n",
      "[16:47:33] Explicit valence for atom # 4 Cl, 2, is greater than permitted\n"
     ]
    },
    {
     "name": "stdout",
     "output_type": "stream",
     "text": [
      "ERROR!!!!!!\n",
      "Explicit valence for atom # 2 Cl, 13, is greater than permitted\n",
      "ERROR!!!!!!\n",
      "Explicit valence for atom # 4 Cl, 2, is greater than permitted\n"
     ]
    },
    {
     "name": "stderr",
     "output_type": "stream",
     "text": [
      "[16:47:33] Explicit valence for atom # 9 Br, 2, is greater than permitted\n",
      "[16:47:33] Explicit valence for atom # 9 Br, 2, is greater than permitted\n",
      "[16:47:33] Explicit valence for atom # 1 Cl, 2, is greater than permitted\n",
      "[16:47:33] Explicit valence for atom # 1 Cl, 2, is greater than permitted\n"
     ]
    },
    {
     "name": "stdout",
     "output_type": "stream",
     "text": [
      "ERROR!!!!!!\n",
      "Explicit valence for atom # 9 Br, 2, is greater than permitted\n",
      "ERROR!!!!!!\n",
      "Explicit valence for atom # 1 Cl, 2, is greater than permitted\n",
      "Molecule: Atoms(symbols='C2H10ClISi', pbc=False)\n"
     ]
    },
    {
     "name": "stderr",
     "output_type": "stream",
     "text": [
      "[16:47:33] Explicit valence for atom # 2 F, 5, is greater than permitted\n",
      "[16:47:33] Explicit valence for atom # 2 F, 5, is greater than permitted\n",
      "[16:47:33] Explicit valence for atom # 1 Cl, 2, is greater than permitted\n",
      "[16:47:33] Explicit valence for atom # 1 Cl, 2, is greater than permitted\n",
      "[16:47:34] Explicit valence for atom # 1 Cl, 2, is greater than permitted\n",
      "[16:47:34] Explicit valence for atom # 1 Cl, 2, is greater than permitted\n"
     ]
    },
    {
     "name": "stdout",
     "output_type": "stream",
     "text": [
      "ERROR!!!!!!\n",
      "Explicit valence for atom # 2 F, 5, is greater than permitted\n",
      "ERROR!!!!!!\n",
      "Explicit valence for atom # 1 Cl, 2, is greater than permitted\n",
      "ERROR!!!!!!\n",
      "Explicit valence for atom # 1 Cl, 2, is greater than permitted\n"
     ]
    },
    {
     "name": "stderr",
     "output_type": "stream",
     "text": [
      "[16:47:34] Explicit valence for atom # 0 Si, 9, is greater than permitted\n",
      "[16:47:34] Explicit valence for atom # 0 Si, 9, is greater than permitted\n",
      "[16:47:34] Explicit valence for atom # 14 F, 2, is greater than permitted\n",
      "[16:47:34] Explicit valence for atom # 14 F, 2, is greater than permitted\n",
      "[16:47:34] Explicit valence for atom # 7 Cl, 2, is greater than permitted\n",
      "[16:47:34] Explicit valence for atom # 7 Cl, 2, is greater than permitted\n"
     ]
    },
    {
     "name": "stdout",
     "output_type": "stream",
     "text": [
      "ERROR!!!!!!\n",
      "Explicit valence for atom # 0 Si, 9, is greater than permitted\n",
      "ERROR!!!!!!\n",
      "Explicit valence for atom # 14 F, 2, is greater than permitted\n",
      "ERROR!!!!!!\n",
      "Explicit valence for atom # 7 Cl, 2, is greater than permitted\n"
     ]
    },
    {
     "name": "stderr",
     "output_type": "stream",
     "text": [
      "[16:47:34] Explicit valence for atom # 1 Br, 2, is greater than permitted\n",
      "[16:47:34] Explicit valence for atom # 1 Br, 2, is greater than permitted\n",
      "[16:47:34] Explicit valence for atom # 14 Cl, 3, is greater than permitted\n",
      "[16:47:34] Explicit valence for atom # 14 Cl, 3, is greater than permitted\n",
      "[16:47:34] Explicit valence for atom # 0 Cl, 3, is greater than permitted\n",
      "[16:47:34] Explicit valence for atom # 0 Cl, 3, is greater than permitted\n"
     ]
    },
    {
     "name": "stdout",
     "output_type": "stream",
     "text": [
      "ERROR!!!!!!\n",
      "Explicit valence for atom # 1 Br, 2, is greater than permitted\n",
      "ERROR!!!!!!\n",
      "Explicit valence for atom # 14 Cl, 3, is greater than permitted\n",
      "ERROR!!!!!!\n",
      "Explicit valence for atom # 0 Cl, 3, is greater than permitted\n"
     ]
    },
    {
     "name": "stderr",
     "output_type": "stream",
     "text": [
      "[16:47:34] Explicit valence for atom # 2 Br, 2, is greater than permitted\n",
      "[16:47:34] Explicit valence for atom # 2 Br, 2, is greater than permitted\n",
      "[16:47:34] Explicit valence for atom # 0 O, 6, is greater than permitted\n",
      "[16:47:34] Explicit valence for atom # 0 O, 6, is greater than permitted\n",
      "[16:47:34] Explicit valence for atom # 0 Cl, 3, is greater than permitted\n",
      "[16:47:34] Explicit valence for atom # 0 Cl, 3, is greater than permitted\n"
     ]
    },
    {
     "name": "stdout",
     "output_type": "stream",
     "text": [
      "ERROR!!!!!!\n",
      "Explicit valence for atom # 2 Br, 2, is greater than permitted\n",
      "ERROR!!!!!!\n",
      "Explicit valence for atom # 0 O, 6, is greater than permitted\n",
      "ERROR!!!!!!\n",
      "Explicit valence for atom # 0 Cl, 3, is greater than permitted\n"
     ]
    },
    {
     "name": "stderr",
     "output_type": "stream",
     "text": [
      "[16:47:35] Explicit valence for atom # 1 Cl, 8, is greater than permitted\n",
      "[16:47:35] Explicit valence for atom # 1 Cl, 8, is greater than permitted\n",
      "[16:47:35] Explicit valence for atom # 8 Br, 5, is greater than permitted\n",
      "[16:47:35] Explicit valence for atom # 8 Br, 5, is greater than permitted\n",
      "[16:47:35] Explicit valence for atom # 1 Br, 2, is greater than permitted\n",
      "[16:47:35] Explicit valence for atom # 1 Br, 2, is greater than permitted\n"
     ]
    },
    {
     "name": "stdout",
     "output_type": "stream",
     "text": [
      "ERROR!!!!!!\n",
      "Explicit valence for atom # 1 Cl, 8, is greater than permitted\n",
      "ERROR!!!!!!\n",
      "Explicit valence for atom # 8 Br, 5, is greater than permitted\n",
      "ERROR!!!!!!\n",
      "Explicit valence for atom # 1 Br, 2, is greater than permitted\n"
     ]
    },
    {
     "name": "stderr",
     "output_type": "stream",
     "text": [
      "[16:47:35] Explicit valence for atom # 1 F, 2, is greater than permitted\n",
      "[16:47:35] Explicit valence for atom # 1 F, 2, is greater than permitted\n",
      "[16:47:35] Explicit valence for atom # 1 F, 2, is greater than permitted\n",
      "[16:47:35] Explicit valence for atom # 1 F, 2, is greater than permitted\n",
      "[16:47:35] non-ring atom 2 marked aromatic\n",
      "[16:47:35] non-ring atom 2 marked aromatic\n"
     ]
    },
    {
     "name": "stdout",
     "output_type": "stream",
     "text": [
      "ERROR!!!!!!\n",
      "Explicit valence for atom # 1 F, 2, is greater than permitted\n",
      "ERROR!!!!!!\n",
      "Explicit valence for atom # 1 F, 2, is greater than permitted\n",
      "ERROR!!!!!!\n",
      "non-ring atom 2 marked aromatic\n"
     ]
    },
    {
     "name": "stderr",
     "output_type": "stream",
     "text": [
      "[16:47:35] Explicit valence for atom # 5 O, 5, is greater than permitted\n",
      "[16:47:35] Explicit valence for atom # 5 O, 5, is greater than permitted\n",
      "[16:47:35] Explicit valence for atom # 6 Cl, 2, is greater than permitted\n",
      "[16:47:35] Explicit valence for atom # 6 Cl, 2, is greater than permitted\n",
      "[16:47:35] Explicit valence for atom # 7 Cl, 2, is greater than permitted\n",
      "[16:47:35] Explicit valence for atom # 7 Cl, 2, is greater than permitted\n"
     ]
    },
    {
     "name": "stdout",
     "output_type": "stream",
     "text": [
      "ERROR!!!!!!\n",
      "Explicit valence for atom # 5 O, 5, is greater than permitted\n",
      "ERROR!!!!!!\n",
      "Explicit valence for atom # 6 Cl, 2, is greater than permitted\n",
      "ERROR!!!!!!\n",
      "Explicit valence for atom # 7 Cl, 2, is greater than permitted\n"
     ]
    },
    {
     "name": "stderr",
     "output_type": "stream",
     "text": [
      "[16:47:36] Explicit valence for atom # 2 Br, 2, is greater than permitted\n",
      "[16:47:36] Explicit valence for atom # 2 Br, 2, is greater than permitted\n"
     ]
    },
    {
     "name": "stdout",
     "output_type": "stream",
     "text": [
      "ERROR!!!!!!\n",
      "Explicit valence for atom # 2 Br, 2, is greater than permitted\n",
      "Molecule: Atoms(symbols='C2H13Cl2F2OPS7Si', pbc=False)\n"
     ]
    },
    {
     "name": "stderr",
     "output_type": "stream",
     "text": [
      "[16:47:36] Explicit valence for atom # 1 I, 7, is greater than permitted\n",
      "[16:47:36] Explicit valence for atom # 1 I, 7, is greater than permitted\n",
      "[16:47:36] Explicit valence for atom # 6 F, 2, is greater than permitted\n",
      "[16:47:36] Explicit valence for atom # 6 F, 2, is greater than permitted\n",
      "[16:47:36] Explicit valence for atom # 0 O, 5, is greater than permitted\n",
      "[16:47:36] Explicit valence for atom # 0 O, 5, is greater than permitted\n"
     ]
    },
    {
     "name": "stdout",
     "output_type": "stream",
     "text": [
      "ERROR!!!!!!\n",
      "Explicit valence for atom # 1 I, 7, is greater than permitted\n",
      "ERROR!!!!!!\n",
      "Explicit valence for atom # 6 F, 2, is greater than permitted\n",
      "ERROR!!!!!!\n",
      "Explicit valence for atom # 0 O, 5, is greater than permitted\n"
     ]
    },
    {
     "name": "stderr",
     "output_type": "stream",
     "text": [
      "[16:47:36] Explicit valence for atom # 2 Cl, 2, is greater than permitted\n",
      "[16:47:36] Explicit valence for atom # 2 Cl, 2, is greater than permitted\n"
     ]
    },
    {
     "name": "stdout",
     "output_type": "stream",
     "text": [
      "ERROR!!!!!!\n",
      "Explicit valence for atom # 2 Cl, 2, is greater than permitted\n",
      "Molecule: Atoms(symbols='CH12INOSSi3', pbc=False)\n",
      "Molecule: Atoms(symbols='C3H10ClIO2P2S', pbc=False)\n"
     ]
    },
    {
     "name": "stderr",
     "output_type": "stream",
     "text": [
      "[16:47:37] Explicit valence for atom # 6 Br, 2, is greater than permitted\n",
      "[16:47:37] Explicit valence for atom # 6 Br, 2, is greater than permitted\n",
      "[16:47:37] Explicit valence for atom # 8 Br, 4, is greater than permitted\n",
      "[16:47:37] Explicit valence for atom # 8 Br, 4, is greater than permitted\n",
      "[16:47:37] Explicit valence for atom # 2 P, 10, is greater than permitted\n",
      "[16:47:37] Explicit valence for atom # 2 P, 10, is greater than permitted\n"
     ]
    },
    {
     "name": "stdout",
     "output_type": "stream",
     "text": [
      "ERROR!!!!!!\n",
      "Explicit valence for atom # 6 Br, 2, is greater than permitted\n",
      "ERROR!!!!!!\n",
      "Explicit valence for atom # 8 Br, 4, is greater than permitted\n",
      "ERROR!!!!!!\n",
      "Explicit valence for atom # 2 P, 10, is greater than permitted\n"
     ]
    },
    {
     "name": "stderr",
     "output_type": "stream",
     "text": [
      "[16:47:37] Explicit valence for atom # 4 F, 2, is greater than permitted\n",
      "[16:47:37] Explicit valence for atom # 4 F, 2, is greater than permitted\n"
     ]
    },
    {
     "name": "stdout",
     "output_type": "stream",
     "text": [
      "ERROR!!!!!!\n",
      "Explicit valence for atom # 4 F, 2, is greater than permitted\n",
      "Molecule: Atoms(symbols='CH7BrCl2INSi', pbc=False)\n"
     ]
    },
    {
     "name": "stderr",
     "output_type": "stream",
     "text": [
      "[16:47:38] Explicit valence for atom # 5 Cl, 2, is greater than permitted\n",
      "[16:47:38] Explicit valence for atom # 5 Cl, 2, is greater than permitted\n",
      "[16:47:38] Explicit valence for atom # 1 Cl, 2, is greater than permitted\n",
      "[16:47:38] Explicit valence for atom # 1 Cl, 2, is greater than permitted\n"
     ]
    },
    {
     "name": "stdout",
     "output_type": "stream",
     "text": [
      "ERROR!!!!!!\n",
      "Explicit valence for atom # 5 Cl, 2, is greater than permitted\n",
      "ERROR!!!!!!\n",
      "Explicit valence for atom # 1 Cl, 2, is greater than permitted\n"
     ]
    },
    {
     "name": "stderr",
     "output_type": "stream",
     "text": [
      "[16:47:38] Explicit valence for atom # 1 Cl, 3, is greater than permitted\n",
      "[16:47:38] Explicit valence for atom # 1 Cl, 3, is greater than permitted\n",
      "[16:47:38] Explicit valence for atom # 0 Cl, 2, is greater than permitted\n",
      "[16:47:38] Explicit valence for atom # 0 Cl, 2, is greater than permitted\n"
     ]
    },
    {
     "name": "stdout",
     "output_type": "stream",
     "text": [
      "ERROR!!!!!!\n",
      "Explicit valence for atom # 1 Cl, 3, is greater than permitted\n",
      "ERROR!!!!!!\n",
      "Explicit valence for atom # 0 Cl, 2, is greater than permitted\n"
     ]
    },
    {
     "name": "stderr",
     "output_type": "stream",
     "text": [
      "[16:47:38] Explicit valence for atom # 13 F, 5, is greater than permitted\n",
      "[16:47:38] Explicit valence for atom # 13 F, 5, is greater than permitted\n",
      "[16:47:38] Explicit valence for atom # 9 Cl, 2, is greater than permitted\n",
      "[16:47:38] Explicit valence for atom # 9 Cl, 2, is greater than permitted\n",
      "[16:47:38] Explicit valence for atom # 1 Cl, 2, is greater than permitted\n"
     ]
    },
    {
     "name": "stdout",
     "output_type": "stream",
     "text": [
      "ERROR!!!!!!\n",
      "Explicit valence for atom # 13 F, 5, is greater than permitted\n",
      "ERROR!!!!!!\n",
      "Explicit valence for atom # 9 Cl, 2, is greater than permitted\n"
     ]
    },
    {
     "name": "stderr",
     "output_type": "stream",
     "text": [
      "[16:47:38] Explicit valence for atom # 1 Cl, 2, is greater than permitted\n",
      "[16:47:38] non-ring atom 10 marked aromatic\n",
      "[16:47:38] non-ring atom 10 marked aromatic\n",
      "[16:47:38] Explicit valence for atom # 2 F, 2, is greater than permitted\n",
      "[16:47:38] Explicit valence for atom # 2 F, 2, is greater than permitted\n"
     ]
    },
    {
     "name": "stdout",
     "output_type": "stream",
     "text": [
      "ERROR!!!!!!\n",
      "Explicit valence for atom # 1 Cl, 2, is greater than permitted\n",
      "ERROR!!!!!!\n",
      "non-ring atom 10 marked aromatic\n",
      "ERROR!!!!!!\n",
      "Explicit valence for atom # 2 F, 2, is greater than permitted\n"
     ]
    },
    {
     "name": "stderr",
     "output_type": "stream",
     "text": [
      "[16:47:39] Explicit valence for atom # 4 F, 2, is greater than permitted\n",
      "[16:47:39] Explicit valence for atom # 4 F, 2, is greater than permitted\n",
      "[16:47:39] Explicit valence for atom # 2 F, 6, is greater than permitted\n",
      "[16:47:39] Explicit valence for atom # 2 F, 6, is greater than permitted\n",
      "[16:47:39] Explicit valence for atom # 8 Br, 4, is greater than permitted\n",
      "[16:47:39] Explicit valence for atom # 8 Br, 4, is greater than permitted\n"
     ]
    },
    {
     "name": "stdout",
     "output_type": "stream",
     "text": [
      "ERROR!!!!!!\n",
      "Explicit valence for atom # 4 F, 2, is greater than permitted\n",
      "ERROR!!!!!!\n",
      "Explicit valence for atom # 2 F, 6, is greater than permitted\n",
      "ERROR!!!!!!\n",
      "Explicit valence for atom # 8 Br, 4, is greater than permitted\n"
     ]
    },
    {
     "name": "stderr",
     "output_type": "stream",
     "text": [
      "[16:47:39] Explicit valence for atom # 0 Br, 5, is greater than permitted\n",
      "[16:47:39] Explicit valence for atom # 0 Br, 5, is greater than permitted\n",
      "[16:47:39] Explicit valence for atom # 6 Cl, 2, is greater than permitted\n",
      "[16:47:39] Explicit valence for atom # 6 Cl, 2, is greater than permitted\n",
      "[16:47:39] Explicit valence for atom # 2 O, 5, is greater than permitted\n",
      "[16:47:39] Explicit valence for atom # 2 O, 5, is greater than permitted\n"
     ]
    },
    {
     "name": "stdout",
     "output_type": "stream",
     "text": [
      "ERROR!!!!!!\n",
      "Explicit valence for atom # 0 Br, 5, is greater than permitted\n",
      "ERROR!!!!!!\n",
      "Explicit valence for atom # 6 Cl, 2, is greater than permitted\n",
      "ERROR!!!!!!\n",
      "Explicit valence for atom # 2 O, 5, is greater than permitted\n"
     ]
    },
    {
     "name": "stderr",
     "output_type": "stream",
     "text": [
      "[16:47:39] Explicit valence for atom # 2 Br, 4, is greater than permitted\n",
      "[16:47:39] Explicit valence for atom # 2 Br, 4, is greater than permitted\n",
      "[16:47:39] Explicit valence for atom # 7 F, 2, is greater than permitted\n",
      "[16:47:39] Explicit valence for atom # 7 F, 2, is greater than permitted\n",
      "[16:47:39] Explicit valence for atom # 9 F, 2, is greater than permitted\n",
      "[16:47:39] Explicit valence for atom # 9 F, 2, is greater than permitted\n"
     ]
    },
    {
     "name": "stdout",
     "output_type": "stream",
     "text": [
      "ERROR!!!!!!\n",
      "Explicit valence for atom # 2 Br, 4, is greater than permitted\n",
      "ERROR!!!!!!\n",
      "Explicit valence for atom # 7 F, 2, is greater than permitted\n",
      "ERROR!!!!!!\n",
      "Explicit valence for atom # 9 F, 2, is greater than permitted\n"
     ]
    },
    {
     "name": "stderr",
     "output_type": "stream",
     "text": [
      "[16:47:39] Explicit valence for atom # 7 Cl, 2, is greater than permitted\n",
      "[16:47:39] Explicit valence for atom # 7 Cl, 2, is greater than permitted\n",
      "[16:47:40] non-ring atom 4 marked aromatic\n",
      "[16:47:40] non-ring atom 4 marked aromatic\n",
      "[16:47:40] Explicit valence for atom # 4 F, 4, is greater than permitted\n",
      "[16:47:40] Explicit valence for atom # 4 F, 4, is greater than permitted\n"
     ]
    },
    {
     "name": "stdout",
     "output_type": "stream",
     "text": [
      "ERROR!!!!!!\n",
      "Explicit valence for atom # 7 Cl, 2, is greater than permitted\n",
      "ERROR!!!!!!\n",
      "non-ring atom 4 marked aromatic\n",
      "ERROR!!!!!!\n",
      "Explicit valence for atom # 4 F, 4, is greater than permitted\n"
     ]
    },
    {
     "name": "stderr",
     "output_type": "stream",
     "text": [
      "[16:47:40] Explicit valence for atom # 1 Br, 2, is greater than permitted\n",
      "[16:47:40] Explicit valence for atom # 1 Br, 2, is greater than permitted\n"
     ]
    },
    {
     "name": "stdout",
     "output_type": "stream",
     "text": [
      "ERROR!!!!!!\n",
      "Explicit valence for atom # 1 Br, 2, is greater than permitted\n",
      "Molecule: Atoms(symbols='C5H22NPSSi3', pbc=False)\n"
     ]
    },
    {
     "name": "stderr",
     "output_type": "stream",
     "text": [
      "[16:47:40] Explicit valence for atom # 4 F, 2, is greater than permitted\n",
      "[16:47:40] Explicit valence for atom # 4 F, 2, is greater than permitted\n",
      "[16:47:40] Explicit valence for atom # 4 F, 2, is greater than permitted\n",
      "[16:47:40] Explicit valence for atom # 4 F, 2, is greater than permitted\n",
      "[16:47:41] Explicit valence for atom # 0 Br, 3, is greater than permitted\n",
      "[16:47:41] Explicit valence for atom # 0 Br, 3, is greater than permitted\n"
     ]
    },
    {
     "name": "stdout",
     "output_type": "stream",
     "text": [
      "ERROR!!!!!!\n",
      "Explicit valence for atom # 4 F, 2, is greater than permitted\n",
      "ERROR!!!!!!\n",
      "Explicit valence for atom # 4 F, 2, is greater than permitted\n",
      "ERROR!!!!!!\n",
      "Explicit valence for atom # 0 Br, 3, is greater than permitted\n"
     ]
    },
    {
     "name": "stderr",
     "output_type": "stream",
     "text": [
      "[16:47:41] Explicit valence for atom # 3 F, 2, is greater than permitted\n",
      "[16:47:41] Explicit valence for atom # 3 F, 2, is greater than permitted\n",
      "[16:47:41] Explicit valence for atom # 6 Br, 2, is greater than permitted\n",
      "[16:47:41] Explicit valence for atom # 6 Br, 2, is greater than permitted\n"
     ]
    },
    {
     "name": "stdout",
     "output_type": "stream",
     "text": [
      "ERROR!!!!!!\n",
      "Explicit valence for atom # 3 F, 2, is greater than permitted\n",
      "ERROR!!!!!!\n",
      "Explicit valence for atom # 6 Br, 2, is greater than permitted\n"
     ]
    },
    {
     "name": "stderr",
     "output_type": "stream",
     "text": [
      "[16:47:41] Explicit valence for atom # 1 Br, 8, is greater than permitted\n",
      "[16:47:41] Explicit valence for atom # 1 Br, 8, is greater than permitted\n",
      "[16:47:41] Explicit valence for atom # 4 O, 4, is greater than permitted\n",
      "[16:47:41] Explicit valence for atom # 4 O, 4, is greater than permitted\n",
      "[16:47:41] Explicit valence for atom # 2 N, 4, is greater than permitted\n"
     ]
    },
    {
     "name": "stdout",
     "output_type": "stream",
     "text": [
      "ERROR!!!!!!\n",
      "Explicit valence for atom # 1 Br, 8, is greater than permitted\n",
      "ERROR!!!!!!\n",
      "Explicit valence for atom # 4 O, 4, is greater than permitted\n"
     ]
    },
    {
     "name": "stderr",
     "output_type": "stream",
     "text": [
      "[16:47:41] Explicit valence for atom # 2 N, 4, is greater than permitted\n",
      "[16:47:41] Explicit valence for atom # 1 C, 5, is greater than permitted\n",
      "[16:47:41] Explicit valence for atom # 1 C, 5, is greater than permitted\n"
     ]
    },
    {
     "name": "stdout",
     "output_type": "stream",
     "text": [
      "ERROR!!!!!!\n",
      "Explicit valence for atom # 2 N, 4, is greater than permitted\n",
      "ERROR!!!!!!\n",
      "Explicit valence for atom # 1 C, 5, is greater than permitted\n",
      "Molecule: Atoms(symbols='CH9OPSi', pbc=False)\n"
     ]
    },
    {
     "name": "stderr",
     "output_type": "stream",
     "text": [
      "[16:47:41] Explicit valence for atom # 3 Br, 5, is greater than permitted\n",
      "[16:47:41] Explicit valence for atom # 3 Br, 5, is greater than permitted\n",
      "[16:47:41] Explicit valence for atom # 1 Cl, 2, is greater than permitted\n",
      "[16:47:41] Explicit valence for atom # 1 Cl, 2, is greater than permitted\n",
      "[16:47:42] Explicit valence for atom # 2 F, 2, is greater than permitted\n",
      "[16:47:42] Explicit valence for atom # 2 F, 2, is greater than permitted\n"
     ]
    },
    {
     "name": "stdout",
     "output_type": "stream",
     "text": [
      "ERROR!!!!!!\n",
      "Explicit valence for atom # 3 Br, 5, is greater than permitted\n",
      "ERROR!!!!!!\n",
      "Explicit valence for atom # 1 Cl, 2, is greater than permitted\n",
      "ERROR!!!!!!\n",
      "Explicit valence for atom # 2 F, 2, is greater than permitted\n"
     ]
    },
    {
     "name": "stderr",
     "output_type": "stream",
     "text": [
      "[16:47:42] Explicit valence for atom # 3 F, 7, is greater than permitted\n",
      "[16:47:42] Explicit valence for atom # 3 F, 7, is greater than permitted\n",
      "[16:47:42] Explicit valence for atom # 9 Br, 2, is greater than permitted\n",
      "[16:47:42] Explicit valence for atom # 9 Br, 2, is greater than permitted\n",
      "[16:47:42] Explicit valence for atom # 6 O, 8, is greater than permitted\n",
      "[16:47:42] Explicit valence for atom # 6 O, 8, is greater than permitted\n"
     ]
    },
    {
     "name": "stdout",
     "output_type": "stream",
     "text": [
      "ERROR!!!!!!\n",
      "Explicit valence for atom # 3 F, 7, is greater than permitted\n",
      "ERROR!!!!!!\n",
      "Explicit valence for atom # 9 Br, 2, is greater than permitted\n",
      "ERROR!!!!!!\n",
      "Explicit valence for atom # 6 O, 8, is greater than permitted\n"
     ]
    },
    {
     "name": "stderr",
     "output_type": "stream",
     "text": [
      "[16:47:42] Explicit valence for atom # 3 F, 2, is greater than permitted\n",
      "[16:47:42] Explicit valence for atom # 3 F, 2, is greater than permitted\n",
      "[16:47:42] Explicit valence for atom # 0 Br, 3, is greater than permitted\n",
      "[16:47:42] Explicit valence for atom # 0 Br, 3, is greater than permitted\n"
     ]
    },
    {
     "name": "stdout",
     "output_type": "stream",
     "text": [
      "ERROR!!!!!!\n",
      "Explicit valence for atom # 3 F, 2, is greater than permitted\n",
      "ERROR!!!!!!\n",
      "Explicit valence for atom # 0 Br, 3, is greater than permitted\n"
     ]
    },
    {
     "name": "stderr",
     "output_type": "stream",
     "text": [
      "[16:47:42] Explicit valence for atom # 1 Cl, 2, is greater than permitted\n",
      "[16:47:42] Explicit valence for atom # 1 Cl, 2, is greater than permitted\n",
      "[16:47:42] Explicit valence for atom # 5 O, 5, is greater than permitted\n",
      "[16:47:42] Explicit valence for atom # 5 O, 5, is greater than permitted\n"
     ]
    },
    {
     "name": "stdout",
     "output_type": "stream",
     "text": [
      "ERROR!!!!!!\n",
      "Explicit valence for atom # 1 Cl, 2, is greater than permitted\n",
      "ERROR!!!!!!\n",
      "Explicit valence for atom # 5 O, 5, is greater than permitted\n"
     ]
    },
    {
     "name": "stderr",
     "output_type": "stream",
     "text": [
      "[16:47:43] Explicit valence for atom # 13 O, 5, is greater than permitted\n",
      "[16:47:43] Explicit valence for atom # 13 O, 5, is greater than permitted\n",
      "[16:47:43] Explicit valence for atom # 7 Cl, 2, is greater than permitted\n",
      "[16:47:43] Explicit valence for atom # 7 Cl, 2, is greater than permitted\n",
      "[16:47:43] Explicit valence for atom # 1 Br, 2, is greater than permitted\n",
      "[16:47:43] Explicit valence for atom # 1 Br, 2, is greater than permitted\n"
     ]
    },
    {
     "name": "stdout",
     "output_type": "stream",
     "text": [
      "ERROR!!!!!!\n",
      "Explicit valence for atom # 13 O, 5, is greater than permitted\n",
      "ERROR!!!!!!\n",
      "Explicit valence for atom # 7 Cl, 2, is greater than permitted\n",
      "ERROR!!!!!!\n",
      "Explicit valence for atom # 1 Br, 2, is greater than permitted\n"
     ]
    },
    {
     "name": "stderr",
     "output_type": "stream",
     "text": [
      "[16:47:43] Explicit valence for atom # 2 F, 2, is greater than permitted\n",
      "[16:47:43] Explicit valence for atom # 2 F, 2, is greater than permitted\n",
      "[16:47:43] Explicit valence for atom # 1 F, 2, is greater than permitted\n",
      "[16:47:43] Explicit valence for atom # 1 F, 2, is greater than permitted\n",
      "[16:47:43] non-ring atom 4 marked aromatic\n",
      "[16:47:43] non-ring atom 4 marked aromatic\n"
     ]
    },
    {
     "name": "stdout",
     "output_type": "stream",
     "text": [
      "ERROR!!!!!!\n",
      "Explicit valence for atom # 2 F, 2, is greater than permitted\n",
      "ERROR!!!!!!\n",
      "Explicit valence for atom # 1 F, 2, is greater than permitted\n",
      "ERROR!!!!!!\n",
      "non-ring atom 4 marked aromatic\n"
     ]
    },
    {
     "name": "stderr",
     "output_type": "stream",
     "text": [
      "[16:47:43] Explicit valence for atom # 4 Cl, 2, is greater than permitted\n",
      "[16:47:43] Explicit valence for atom # 4 Cl, 2, is greater than permitted\n"
     ]
    },
    {
     "name": "stdout",
     "output_type": "stream",
     "text": [
      "ERROR!!!!!!\n",
      "Explicit valence for atom # 4 Cl, 2, is greater than permitted\n",
      "Molecule: Atoms(symbols='C3H10F2N2S2', pbc=False)\n"
     ]
    },
    {
     "name": "stderr",
     "output_type": "stream",
     "text": [
      "[16:47:43] Explicit valence for atom # 2 Cl, 2, is greater than permitted\n",
      "[16:47:43] Explicit valence for atom # 2 Cl, 2, is greater than permitted\n",
      "[16:47:43] Explicit valence for atom # 0 I, 6, is greater than permitted\n",
      "[16:47:43] Explicit valence for atom # 0 I, 6, is greater than permitted\n"
     ]
    },
    {
     "name": "stdout",
     "output_type": "stream",
     "text": [
      "ERROR!!!!!!\n",
      "Explicit valence for atom # 2 Cl, 2, is greater than permitted\n",
      "ERROR!!!!!!\n",
      "Explicit valence for atom # 0 I, 6, is greater than permitted\n"
     ]
    },
    {
     "name": "stderr",
     "output_type": "stream",
     "text": [
      "[16:47:44] Explicit valence for atom # 3 Cl, 2, is greater than permitted\n",
      "[16:47:44] Explicit valence for atom # 3 Cl, 2, is greater than permitted\n"
     ]
    },
    {
     "name": "stdout",
     "output_type": "stream",
     "text": [
      "ERROR!!!!!!\n",
      "Explicit valence for atom # 3 Cl, 2, is greater than permitted\n",
      "Molecule: Atoms(symbols='H9ClI2P2S2Si', pbc=False)\n"
     ]
    },
    {
     "name": "stderr",
     "output_type": "stream",
     "text": [
      "[16:47:44] Explicit valence for atom # 4 F, 2, is greater than permitted\n",
      "[16:47:44] Explicit valence for atom # 4 F, 2, is greater than permitted\n",
      "[16:47:44] Explicit valence for atom # 1 N, 12, is greater than permitted\n",
      "[16:47:44] Explicit valence for atom # 1 N, 12, is greater than permitted\n"
     ]
    },
    {
     "name": "stdout",
     "output_type": "stream",
     "text": [
      "ERROR!!!!!!\n",
      "Explicit valence for atom # 4 F, 2, is greater than permitted\n",
      "ERROR!!!!!!\n",
      "Explicit valence for atom # 1 N, 12, is greater than permitted\n"
     ]
    },
    {
     "name": "stderr",
     "output_type": "stream",
     "text": [
      "[16:47:44] Explicit valence for atom # 5 F, 2, is greater than permitted\n",
      "[16:47:44] Explicit valence for atom # 5 F, 2, is greater than permitted\n",
      "[16:47:44] Explicit valence for atom # 0 Cl, 6, is greater than permitted\n",
      "[16:47:44] Explicit valence for atom # 0 Cl, 6, is greater than permitted\n"
     ]
    },
    {
     "name": "stdout",
     "output_type": "stream",
     "text": [
      "ERROR!!!!!!\n",
      "Explicit valence for atom # 5 F, 2, is greater than permitted\n",
      "ERROR!!!!!!\n",
      "Explicit valence for atom # 0 Cl, 6, is greater than permitted\n"
     ]
    },
    {
     "name": "stderr",
     "output_type": "stream",
     "text": [
      "[16:47:44] Explicit valence for atom # 5 O, 5, is greater than permitted\n",
      "[16:47:44] Explicit valence for atom # 5 O, 5, is greater than permitted\n",
      "[16:47:44] Explicit valence for atom # 0 I, 10, is greater than permitted\n",
      "[16:47:44] Explicit valence for atom # 0 I, 10, is greater than permitted\n"
     ]
    },
    {
     "name": "stdout",
     "output_type": "stream",
     "text": [
      "ERROR!!!!!!\n",
      "Explicit valence for atom # 5 O, 5, is greater than permitted\n",
      "ERROR!!!!!!\n",
      "Explicit valence for atom # 0 I, 10, is greater than permitted\n"
     ]
    },
    {
     "name": "stderr",
     "output_type": "stream",
     "text": [
      "[16:47:44] Explicit valence for atom # 1 Br, 2, is greater than permitted\n",
      "[16:47:44] Explicit valence for atom # 1 Br, 2, is greater than permitted\n",
      "[16:47:45] Explicit valence for atom # 3 Br, 2, is greater than permitted\n",
      "[16:47:45] Explicit valence for atom # 3 Br, 2, is greater than permitted\n",
      "[16:47:45] Explicit valence for atom # 1 Br, 2, is greater than permitted\n",
      "[16:47:45] Explicit valence for atom # 1 Br, 2, is greater than permitted\n"
     ]
    },
    {
     "name": "stdout",
     "output_type": "stream",
     "text": [
      "ERROR!!!!!!\n",
      "Explicit valence for atom # 1 Br, 2, is greater than permitted\n",
      "ERROR!!!!!!\n",
      "Explicit valence for atom # 3 Br, 2, is greater than permitted\n",
      "ERROR!!!!!!\n",
      "Explicit valence for atom # 1 Br, 2, is greater than permitted\n"
     ]
    },
    {
     "name": "stderr",
     "output_type": "stream",
     "text": [
      "[16:47:45] Explicit valence for atom # 4 F, 2, is greater than permitted\n",
      "[16:47:45] Explicit valence for atom # 4 F, 2, is greater than permitted\n",
      "[16:47:45] Explicit valence for atom # 6 Cl, 2, is greater than permitted\n",
      "[16:47:45] Explicit valence for atom # 6 Cl, 2, is greater than permitted\n",
      "[16:47:45] non-ring atom 1 marked aromatic\n",
      "[16:47:45] non-ring atom 1 marked aromatic\n"
     ]
    },
    {
     "name": "stdout",
     "output_type": "stream",
     "text": [
      "ERROR!!!!!!\n",
      "Explicit valence for atom # 4 F, 2, is greater than permitted\n",
      "ERROR!!!!!!\n",
      "Explicit valence for atom # 6 Cl, 2, is greater than permitted\n",
      "ERROR!!!!!!\n",
      "non-ring atom 1 marked aromatic\n"
     ]
    },
    {
     "name": "stderr",
     "output_type": "stream",
     "text": [
      "[16:47:45] Explicit valence for atom # 2 F, 2, is greater than permitted\n",
      "[16:47:45] Explicit valence for atom # 2 F, 2, is greater than permitted\n",
      "[16:47:45] Explicit valence for atom # 6 Cl, 3, is greater than permitted\n",
      "[16:47:45] Explicit valence for atom # 6 Cl, 3, is greater than permitted\n"
     ]
    },
    {
     "name": "stdout",
     "output_type": "stream",
     "text": [
      "ERROR!!!!!!\n",
      "Explicit valence for atom # 2 F, 2, is greater than permitted\n",
      "ERROR!!!!!!\n",
      "Explicit valence for atom # 6 Cl, 3, is greater than permitted\n",
      "Molecule: Atoms(symbols='C3H15F2INO2PSi', pbc=False)\n"
     ]
    },
    {
     "name": "stderr",
     "output_type": "stream",
     "text": [
      "[16:47:46] Explicit valence for atom # 2 F, 2, is greater than permitted\n",
      "[16:47:46] Explicit valence for atom # 2 F, 2, is greater than permitted\n",
      "[16:47:46] Explicit valence for atom # 4 Br, 2, is greater than permitted\n",
      "[16:47:46] Explicit valence for atom # 4 Br, 2, is greater than permitted\n",
      "[16:47:46] Explicit valence for atom # 2 F, 4, is greater than permitted\n",
      "[16:47:46] Explicit valence for atom # 2 F, 4, is greater than permitted\n"
     ]
    },
    {
     "name": "stdout",
     "output_type": "stream",
     "text": [
      "ERROR!!!!!!\n",
      "Explicit valence for atom # 2 F, 2, is greater than permitted\n",
      "ERROR!!!!!!\n",
      "Explicit valence for atom # 4 Br, 2, is greater than permitted\n",
      "ERROR!!!!!!\n",
      "Explicit valence for atom # 2 F, 4, is greater than permitted\n"
     ]
    },
    {
     "name": "stderr",
     "output_type": "stream",
     "text": [
      "[16:47:46] Explicit valence for atom # 3 F, 2, is greater than permitted\n",
      "[16:47:46] Explicit valence for atom # 3 F, 2, is greater than permitted\n",
      "[16:47:46] Explicit valence for atom # 5 Br, 2, is greater than permitted\n",
      "[16:47:46] Explicit valence for atom # 5 Br, 2, is greater than permitted\n"
     ]
    },
    {
     "name": "stdout",
     "output_type": "stream",
     "text": [
      "ERROR!!!!!!\n",
      "Explicit valence for atom # 3 F, 2, is greater than permitted\n",
      "Molecule: Atoms(symbols='CH11NO2Si2', pbc=False)\n",
      "ERROR!!!!!!\n",
      "Explicit valence for atom # 5 Br, 2, is greater than permitted\n"
     ]
    },
    {
     "name": "stderr",
     "output_type": "stream",
     "text": [
      "[16:47:46] Explicit valence for atom # 2 Br, 3, is greater than permitted\n",
      "[16:47:46] Explicit valence for atom # 2 Br, 3, is greater than permitted\n",
      "[16:47:46] Explicit valence for atom # 0 Cl, 3, is greater than permitted\n",
      "[16:47:46] Explicit valence for atom # 0 Cl, 3, is greater than permitted\n",
      "[16:47:46] Explicit valence for atom # 1 Br, 2, is greater than permitted\n",
      "[16:47:46] Explicit valence for atom # 1 Br, 2, is greater than permitted\n"
     ]
    },
    {
     "name": "stdout",
     "output_type": "stream",
     "text": [
      "ERROR!!!!!!\n",
      "Explicit valence for atom # 2 Br, 3, is greater than permitted\n",
      "ERROR!!!!!!\n",
      "Explicit valence for atom # 0 Cl, 3, is greater than permitted\n",
      "ERROR!!!!!!\n",
      "Explicit valence for atom # 1 Br, 2, is greater than permitted\n"
     ]
    },
    {
     "name": "stderr",
     "output_type": "stream",
     "text": [
      "[16:47:47] Explicit valence for atom # 2 F, 4, is greater than permitted\n",
      "[16:47:47] Explicit valence for atom # 2 F, 4, is greater than permitted\n",
      "[16:47:47] Explicit valence for atom # 1 F, 2, is greater than permitted\n",
      "[16:47:47] Explicit valence for atom # 1 F, 2, is greater than permitted\n",
      "[16:47:47] Explicit valence for atom # 0 O, 5, is greater than permitted\n",
      "[16:47:47] Explicit valence for atom # 0 O, 5, is greater than permitted\n"
     ]
    },
    {
     "name": "stdout",
     "output_type": "stream",
     "text": [
      "ERROR!!!!!!\n",
      "Explicit valence for atom # 2 F, 4, is greater than permitted\n",
      "ERROR!!!!!!\n",
      "Explicit valence for atom # 1 F, 2, is greater than permitted\n",
      "ERROR!!!!!!\n",
      "Explicit valence for atom # 0 O, 5, is greater than permitted\n"
     ]
    },
    {
     "name": "stderr",
     "output_type": "stream",
     "text": [
      "[16:47:47] Explicit valence for atom # 5 Br, 2, is greater than permitted\n",
      "[16:47:47] Explicit valence for atom # 5 Br, 2, is greater than permitted\n"
     ]
    },
    {
     "name": "stdout",
     "output_type": "stream",
     "text": [
      "ERROR!!!!!!\n",
      "Explicit valence for atom # 5 Br, 2, is greater than permitted\n"
     ]
    },
    {
     "name": "stderr",
     "output_type": "stream",
     "text": [
      "[16:47:47] Explicit valence for atom # 2 F, 3, is greater than permitted\n",
      "[16:47:47] Explicit valence for atom # 2 F, 3, is greater than permitted\n",
      "[16:47:47] Explicit valence for atom # 3 N, 6, is greater than permitted\n",
      "[16:47:47] Explicit valence for atom # 3 N, 6, is greater than permitted\n"
     ]
    },
    {
     "name": "stdout",
     "output_type": "stream",
     "text": [
      "ERROR!!!!!!\n",
      "Explicit valence for atom # 2 F, 3, is greater than permitted\n",
      "ERROR!!!!!!\n",
      "Explicit valence for atom # 3 N, 6, is greater than permitted\n"
     ]
    },
    {
     "name": "stderr",
     "output_type": "stream",
     "text": [
      "[16:47:47] Explicit valence for atom # 6 F, 5, is greater than permitted\n",
      "[16:47:47] Explicit valence for atom # 6 F, 5, is greater than permitted\n",
      "[16:47:47] Explicit valence for atom # 2 Cl, 2, is greater than permitted\n",
      "[16:47:47] Explicit valence for atom # 2 Cl, 2, is greater than permitted\n",
      "[16:47:48] Explicit valence for atom # 4 Br, 2, is greater than permitted\n",
      "[16:47:48] Explicit valence for atom # 4 Br, 2, is greater than permitted\n"
     ]
    },
    {
     "name": "stdout",
     "output_type": "stream",
     "text": [
      "ERROR!!!!!!\n",
      "Explicit valence for atom # 6 F, 5, is greater than permitted\n",
      "ERROR!!!!!!\n",
      "Explicit valence for atom # 2 Cl, 2, is greater than permitted\n",
      "ERROR!!!!!!\n",
      "Explicit valence for atom # 4 Br, 2, is greater than permitted\n"
     ]
    },
    {
     "name": "stderr",
     "output_type": "stream",
     "text": [
      "[16:47:48] non-ring atom 4 marked aromatic\n",
      "[16:47:48] non-ring atom 4 marked aromatic\n",
      "[16:47:48] Explicit valence for atom # 12 F, 2, is greater than permitted\n",
      "[16:47:48] Explicit valence for atom # 12 F, 2, is greater than permitted\n",
      "[16:47:48] Explicit valence for atom # 2 Cl, 13, is greater than permitted\n",
      "[16:47:48] Explicit valence for atom # 2 Cl, 13, is greater than permitted\n"
     ]
    },
    {
     "name": "stdout",
     "output_type": "stream",
     "text": [
      "ERROR!!!!!!\n",
      "non-ring atom 4 marked aromatic\n",
      "ERROR!!!!!!\n",
      "Explicit valence for atom # 12 F, 2, is greater than permitted\n",
      "ERROR!!!!!!\n",
      "Explicit valence for atom # 2 Cl, 13, is greater than permitted\n"
     ]
    },
    {
     "name": "stderr",
     "output_type": "stream",
     "text": [
      "[16:47:48] Explicit valence for atom # 7 Br, 2, is greater than permitted\n",
      "[16:47:48] Explicit valence for atom # 7 Br, 2, is greater than permitted\n",
      "[16:47:48] Explicit valence for atom # 2 Cl, 2, is greater than permitted\n",
      "[16:47:48] Explicit valence for atom # 2 Cl, 2, is greater than permitted\n",
      "[16:47:48] Explicit valence for atom # 3 Br, 2, is greater than permitted\n",
      "[16:47:48] Explicit valence for atom # 3 Br, 2, is greater than permitted\n"
     ]
    },
    {
     "name": "stdout",
     "output_type": "stream",
     "text": [
      "ERROR!!!!!!\n",
      "Explicit valence for atom # 7 Br, 2, is greater than permitted\n",
      "ERROR!!!!!!\n",
      "Explicit valence for atom # 2 Cl, 2, is greater than permitted\n",
      "ERROR!!!!!!\n",
      "Explicit valence for atom # 3 Br, 2, is greater than permitted\n",
      "Molecule: Atoms(symbols='C2H11FN2S', pbc=False)\n",
      "Molecule: Atoms(symbols='H10I3N3OSi', pbc=False)\n"
     ]
    },
    {
     "name": "stderr",
     "output_type": "stream",
     "text": [
      "[16:47:48] Explicit valence for atom # 3 F, 2, is greater than permitted\n",
      "[16:47:48] Explicit valence for atom # 3 F, 2, is greater than permitted\n",
      "[16:47:49] Explicit valence for atom # 5 Cl, 2, is greater than permitted\n",
      "[16:47:49] Explicit valence for atom # 5 Cl, 2, is greater than permitted\n",
      "[16:47:49] non-ring atom 4 marked aromatic\n",
      "[16:47:49] non-ring atom 4 marked aromatic\n"
     ]
    },
    {
     "name": "stdout",
     "output_type": "stream",
     "text": [
      "ERROR!!!!!!\n",
      "Explicit valence for atom # 3 F, 2, is greater than permitted\n",
      "ERROR!!!!!!\n",
      "Explicit valence for atom # 5 Cl, 2, is greater than permitted\n",
      "ERROR!!!!!!\n",
      "non-ring atom 4 marked aromatic\n"
     ]
    },
    {
     "name": "stderr",
     "output_type": "stream",
     "text": [
      "[16:47:49] non-ring atom 11 marked aromatic\n",
      "[16:47:49] non-ring atom 11 marked aromatic\n",
      "[16:47:49] Explicit valence for atom # 2 F, 5, is greater than permitted\n",
      "[16:47:49] Explicit valence for atom # 2 F, 5, is greater than permitted\n"
     ]
    },
    {
     "name": "stdout",
     "output_type": "stream",
     "text": [
      "ERROR!!!!!!\n",
      "non-ring atom 11 marked aromatic\n",
      "ERROR!!!!!!\n",
      "Explicit valence for atom # 2 F, 5, is greater than permitted\n"
     ]
    },
    {
     "name": "stderr",
     "output_type": "stream",
     "text": [
      "[16:47:49] Explicit valence for atom # 1 Br, 6, is greater than permitted\n",
      "[16:47:49] Explicit valence for atom # 1 Br, 6, is greater than permitted\n",
      "[16:47:49] Explicit valence for atom # 5 F, 2, is greater than permitted\n",
      "[16:47:49] Explicit valence for atom # 5 F, 2, is greater than permitted\n",
      "[16:47:49] Explicit valence for atom # 0 F, 2, is greater than permitted\n",
      "[16:47:49] Explicit valence for atom # 0 F, 2, is greater than permitted\n"
     ]
    },
    {
     "name": "stdout",
     "output_type": "stream",
     "text": [
      "ERROR!!!!!!\n",
      "Explicit valence for atom # 1 Br, 6, is greater than permitted\n",
      "ERROR!!!!!!\n",
      "Explicit valence for atom # 5 F, 2, is greater than permitted\n",
      "ERROR!!!!!!\n",
      "Explicit valence for atom # 0 F, 2, is greater than permitted\n"
     ]
    },
    {
     "name": "stderr",
     "output_type": "stream",
     "text": [
      "[16:47:49] Explicit valence for atom # 2 F, 2, is greater than permitted\n",
      "[16:47:49] Explicit valence for atom # 2 F, 2, is greater than permitted\n",
      "[16:47:49] Explicit valence for atom # 4 Cl, 2, is greater than permitted\n",
      "[16:47:49] Explicit valence for atom # 4 Cl, 2, is greater than permitted\n",
      "[16:47:49] Explicit valence for atom # 12 O, 4, is greater than permitted\n",
      "[16:47:49] Explicit valence for atom # 12 O, 4, is greater than permitted\n"
     ]
    },
    {
     "name": "stdout",
     "output_type": "stream",
     "text": [
      "ERROR!!!!!!\n",
      "Explicit valence for atom # 2 F, 2, is greater than permitted\n",
      "ERROR!!!!!!\n",
      "Explicit valence for atom # 4 Cl, 2, is greater than permitted\n",
      "ERROR!!!!!!\n",
      "Explicit valence for atom # 12 O, 4, is greater than permitted\n"
     ]
    },
    {
     "name": "stderr",
     "output_type": "stream",
     "text": [
      "[16:47:50] Explicit valence for atom # 0 S, 11, is greater than permitted\n",
      "[16:47:50] Explicit valence for atom # 0 S, 11, is greater than permitted\n",
      "[16:47:50] Explicit valence for atom # 3 Br, 2, is greater than permitted\n",
      "[16:47:50] Explicit valence for atom # 3 Br, 2, is greater than permitted\n",
      "[16:47:50] Explicit valence for atom # 2 O, 7, is greater than permitted\n",
      "[16:47:50] Explicit valence for atom # 2 O, 7, is greater than permitted\n"
     ]
    },
    {
     "name": "stdout",
     "output_type": "stream",
     "text": [
      "ERROR!!!!!!\n",
      "Explicit valence for atom # 0 S, 11, is greater than permitted\n",
      "ERROR!!!!!!\n",
      "Explicit valence for atom # 3 Br, 2, is greater than permitted\n",
      "ERROR!!!!!!\n",
      "Explicit valence for atom # 2 O, 7, is greater than permitted\n"
     ]
    },
    {
     "name": "stderr",
     "output_type": "stream",
     "text": [
      "[16:47:50] Explicit valence for atom # 8 Cl, 2, is greater than permitted\n",
      "[16:47:50] Explicit valence for atom # 8 Cl, 2, is greater than permitted\n",
      "[16:47:50] Explicit valence for atom # 4 Br, 3, is greater than permitted\n",
      "[16:47:50] Explicit valence for atom # 4 Br, 3, is greater than permitted\n",
      "[16:47:50] Explicit valence for atom # 3 O, 5, is greater than permitted\n",
      "[16:47:50] Explicit valence for atom # 3 O, 5, is greater than permitted\n"
     ]
    },
    {
     "name": "stdout",
     "output_type": "stream",
     "text": [
      "ERROR!!!!!!\n",
      "Explicit valence for atom # 8 Cl, 2, is greater than permitted\n",
      "ERROR!!!!!!\n",
      "Explicit valence for atom # 4 Br, 3, is greater than permitted\n",
      "ERROR!!!!!!\n",
      "Explicit valence for atom # 3 O, 5, is greater than permitted\n"
     ]
    },
    {
     "name": "stderr",
     "output_type": "stream",
     "text": [
      "[16:47:50] Explicit valence for atom # 5 Br, 2, is greater than permitted\n",
      "[16:47:50] Explicit valence for atom # 5 Br, 2, is greater than permitted\n",
      "[16:47:50] Explicit valence for atom # 13 Br, 2, is greater than permitted\n",
      "[16:47:50] Explicit valence for atom # 13 Br, 2, is greater than permitted\n",
      "[16:47:50] Explicit valence for atom # 6 Cl, 2, is greater than permitted\n",
      "[16:47:50] Explicit valence for atom # 6 Cl, 2, is greater than permitted\n"
     ]
    },
    {
     "name": "stdout",
     "output_type": "stream",
     "text": [
      "ERROR!!!!!!\n",
      "Explicit valence for atom # 5 Br, 2, is greater than permitted\n",
      "ERROR!!!!!!\n",
      "Explicit valence for atom # 13 Br, 2, is greater than permitted\n",
      "ERROR!!!!!!\n",
      "Explicit valence for atom # 6 Cl, 2, is greater than permitted\n"
     ]
    },
    {
     "name": "stderr",
     "output_type": "stream",
     "text": [
      "[16:47:50] Explicit valence for atom # 7 O, 5, is greater than permitted\n",
      "[16:47:50] Explicit valence for atom # 7 O, 5, is greater than permitted\n",
      "[16:47:51] Explicit valence for atom # 3 Br, 2, is greater than permitted\n",
      "[16:47:51] Explicit valence for atom # 3 Br, 2, is greater than permitted\n",
      "[16:47:51] Explicit valence for atom # 0 N, 5, is greater than permitted\n",
      "[16:47:51] Explicit valence for atom # 0 N, 5, is greater than permitted\n"
     ]
    },
    {
     "name": "stdout",
     "output_type": "stream",
     "text": [
      "ERROR!!!!!!\n",
      "Explicit valence for atom # 7 O, 5, is greater than permitted\n",
      "ERROR!!!!!!\n",
      "Explicit valence for atom # 3 Br, 2, is greater than permitted\n",
      "ERROR!!!!!!\n",
      "Explicit valence for atom # 0 N, 5, is greater than permitted\n"
     ]
    },
    {
     "name": "stderr",
     "output_type": "stream",
     "text": [
      "[16:47:51] Explicit valence for atom # 2 O, 5, is greater than permitted\n",
      "[16:47:51] Explicit valence for atom # 2 O, 5, is greater than permitted\n",
      "[16:47:51] Explicit valence for atom # 9 Br, 2, is greater than permitted\n",
      "[16:47:51] Explicit valence for atom # 9 Br, 2, is greater than permitted\n",
      "[16:47:51] Explicit valence for atom # 12 F, 3, is greater than permitted\n",
      "[16:47:51] Explicit valence for atom # 12 F, 3, is greater than permitted\n"
     ]
    },
    {
     "name": "stdout",
     "output_type": "stream",
     "text": [
      "ERROR!!!!!!\n",
      "Explicit valence for atom # 2 O, 5, is greater than permitted\n",
      "ERROR!!!!!!\n",
      "Explicit valence for atom # 9 Br, 2, is greater than permitted\n",
      "ERROR!!!!!!\n",
      "Explicit valence for atom # 12 F, 3, is greater than permitted\n"
     ]
    },
    {
     "name": "stderr",
     "output_type": "stream",
     "text": [
      "[16:47:51] Explicit valence for atom # 8 Cl, 3, is greater than permitted\n",
      "[16:47:51] Explicit valence for atom # 8 Cl, 3, is greater than permitted\n"
     ]
    },
    {
     "name": "stdout",
     "output_type": "stream",
     "text": [
      "ERROR!!!!!!\n",
      "Explicit valence for atom # 8 Cl, 3, is greater than permitted\n",
      "Molecule: Atoms(symbols='C2H9Cl2INO2PS', pbc=False)\n"
     ]
    },
    {
     "name": "stderr",
     "output_type": "stream",
     "text": [
      "[16:47:51] Explicit valence for atom # 3 Br, 2, is greater than permitted\n",
      "[16:47:51] Explicit valence for atom # 3 Br, 2, is greater than permitted\n",
      "[16:47:52] Explicit valence for atom # 5 F, 2, is greater than permitted\n",
      "[16:47:52] Explicit valence for atom # 5 F, 2, is greater than permitted\n"
     ]
    },
    {
     "name": "stdout",
     "output_type": "stream",
     "text": [
      "ERROR!!!!!!\n",
      "Explicit valence for atom # 3 Br, 2, is greater than permitted\n",
      "ERROR!!!!!!\n",
      "Explicit valence for atom # 5 F, 2, is greater than permitted\n"
     ]
    },
    {
     "name": "stderr",
     "output_type": "stream",
     "text": [
      "[16:47:52] Explicit valence for atom # 1 Cl, 2, is greater than permitted\n",
      "[16:47:52] Explicit valence for atom # 1 Cl, 2, is greater than permitted\n",
      "[16:47:52] Explicit valence for atom # 1 Br, 4, is greater than permitted\n",
      "[16:47:52] Explicit valence for atom # 1 Br, 4, is greater than permitted\n"
     ]
    },
    {
     "name": "stdout",
     "output_type": "stream",
     "text": [
      "ERROR!!!!!!\n",
      "Explicit valence for atom # 1 Cl, 2, is greater than permitted\n",
      "ERROR!!!!!!\n",
      "Explicit valence for atom # 1 Br, 4, is greater than permitted\n"
     ]
    },
    {
     "name": "stderr",
     "output_type": "stream",
     "text": [
      "[16:47:52] Explicit valence for atom # 1 Cl, 4, is greater than permitted\n",
      "[16:47:52] Explicit valence for atom # 1 Cl, 4, is greater than permitted\n",
      "[16:47:52] Explicit valence for atom # 1 F, 3, is greater than permitted\n",
      "[16:47:52] Explicit valence for atom # 1 F, 3, is greater than permitted\n",
      "[16:47:52] Explicit valence for atom # 1 Br, 2, is greater than permitted\n",
      "[16:47:52] Explicit valence for atom # 1 Br, 2, is greater than permitted\n"
     ]
    },
    {
     "name": "stdout",
     "output_type": "stream",
     "text": [
      "ERROR!!!!!!\n",
      "Explicit valence for atom # 1 Cl, 4, is greater than permitted\n",
      "ERROR!!!!!!\n",
      "Explicit valence for atom # 1 F, 3, is greater than permitted\n",
      "ERROR!!!!!!\n",
      "Explicit valence for atom # 1 Br, 2, is greater than permitted\n"
     ]
    },
    {
     "name": "stderr",
     "output_type": "stream",
     "text": [
      "[16:47:52] Explicit valence for atom # 0 Br, 7, is greater than permitted\n",
      "[16:47:52] Explicit valence for atom # 0 Br, 7, is greater than permitted\n",
      "[16:47:52] Explicit valence for atom # 5 Br, 3, is greater than permitted\n",
      "[16:47:52] Explicit valence for atom # 5 Br, 3, is greater than permitted\n",
      "[16:47:53] Explicit valence for atom # 2 Cl, 2, is greater than permitted\n",
      "[16:47:53] Explicit valence for atom # 2 Cl, 2, is greater than permitted\n"
     ]
    },
    {
     "name": "stdout",
     "output_type": "stream",
     "text": [
      "ERROR!!!!!!\n",
      "Explicit valence for atom # 0 Br, 7, is greater than permitted\n",
      "ERROR!!!!!!\n",
      "Explicit valence for atom # 5 Br, 3, is greater than permitted\n",
      "ERROR!!!!!!\n",
      "Explicit valence for atom # 2 Cl, 2, is greater than permitted\n"
     ]
    },
    {
     "name": "stderr",
     "output_type": "stream",
     "text": [
      "[16:47:53] Explicit valence for atom # 7 Cl, 2, is greater than permitted\n",
      "[16:47:53] Explicit valence for atom # 7 Cl, 2, is greater than permitted\n",
      "[16:47:53] non-ring atom 9 marked aromatic\n",
      "[16:47:53] non-ring atom 9 marked aromatic\n",
      "[16:47:53] Explicit valence for atom # 6 F, 2, is greater than permitted\n",
      "[16:47:53] Explicit valence for atom # 6 F, 2, is greater than permitted\n"
     ]
    },
    {
     "name": "stdout",
     "output_type": "stream",
     "text": [
      "ERROR!!!!!!\n",
      "Explicit valence for atom # 7 Cl, 2, is greater than permitted\n",
      "ERROR!!!!!!\n",
      "non-ring atom 9 marked aromatic\n",
      "ERROR!!!!!!\n",
      "Explicit valence for atom # 6 F, 2, is greater than permitted\n"
     ]
    },
    {
     "name": "stderr",
     "output_type": "stream",
     "text": [
      "[16:47:53] Explicit valence for atom # 6 N, 5, is greater than permitted\n",
      "[16:47:53] Explicit valence for atom # 6 N, 5, is greater than permitted\n",
      "[16:47:53] Explicit valence for atom # 8 Br, 4, is greater than permitted\n",
      "[16:47:53] Explicit valence for atom # 8 Br, 4, is greater than permitted\n",
      "[16:47:53] Explicit valence for atom # 7 Br, 2, is greater than permitted\n",
      "[16:47:53] Explicit valence for atom # 7 Br, 2, is greater than permitted\n"
     ]
    },
    {
     "name": "stdout",
     "output_type": "stream",
     "text": [
      "ERROR!!!!!!\n",
      "Explicit valence for atom # 6 N, 5, is greater than permitted\n",
      "ERROR!!!!!!\n",
      "Explicit valence for atom # 8 Br, 4, is greater than permitted\n",
      "ERROR!!!!!!\n",
      "Explicit valence for atom # 7 Br, 2, is greater than permitted\n"
     ]
    },
    {
     "name": "stderr",
     "output_type": "stream",
     "text": [
      "[16:47:53] Explicit valence for atom # 1 Cl, 2, is greater than permitted\n",
      "[16:47:53] Explicit valence for atom # 1 Cl, 2, is greater than permitted\n"
     ]
    },
    {
     "name": "stdout",
     "output_type": "stream",
     "text": [
      "ERROR!!!!!!\n",
      "Explicit valence for atom # 1 Cl, 2, is greater than permitted\n",
      "Molecule: Atoms(symbols='CH11ClI2S2Si2', pbc=False)\n"
     ]
    },
    {
     "name": "stderr",
     "output_type": "stream",
     "text": [
      "[16:47:54] Explicit valence for atom # 1 F, 2, is greater than permitted\n",
      "[16:47:54] Explicit valence for atom # 1 F, 2, is greater than permitted\n",
      "[16:47:54] Explicit valence for atom # 5 F, 2, is greater than permitted\n",
      "[16:47:54] Explicit valence for atom # 5 F, 2, is greater than permitted\n",
      "[16:47:54] Explicit valence for atom # 1 Br, 2, is greater than permitted\n",
      "[16:47:54] Explicit valence for atom # 1 Br, 2, is greater than permitted\n"
     ]
    },
    {
     "name": "stdout",
     "output_type": "stream",
     "text": [
      "ERROR!!!!!!\n",
      "Explicit valence for atom # 1 F, 2, is greater than permitted\n",
      "ERROR!!!!!!\n",
      "Explicit valence for atom # 5 F, 2, is greater than permitted\n",
      "ERROR!!!!!!\n",
      "Explicit valence for atom # 1 Br, 2, is greater than permitted\n"
     ]
    },
    {
     "name": "stderr",
     "output_type": "stream",
     "text": [
      "[16:47:54] Explicit valence for atom # 4 O, 7, is greater than permitted\n",
      "[16:47:54] Explicit valence for atom # 4 O, 7, is greater than permitted\n",
      "[16:47:54] Explicit valence for atom # 3 F, 4, is greater than permitted\n",
      "[16:47:54] Explicit valence for atom # 3 F, 4, is greater than permitted\n",
      "[16:47:54] Explicit valence for atom # 3 C, 5, is greater than permitted\n",
      "[16:47:54] Explicit valence for atom # 3 C, 5, is greater than permitted\n"
     ]
    },
    {
     "name": "stdout",
     "output_type": "stream",
     "text": [
      "ERROR!!!!!!\n",
      "Explicit valence for atom # 4 O, 7, is greater than permitted\n",
      "ERROR!!!!!!\n",
      "Explicit valence for atom # 3 F, 4, is greater than permitted\n",
      "ERROR!!!!!!\n",
      "Explicit valence for atom # 3 C, 5, is greater than permitted\n"
     ]
    },
    {
     "name": "stderr",
     "output_type": "stream",
     "text": [
      "[16:47:54] Explicit valence for atom # 4 F, 3, is greater than permitted\n",
      "[16:47:54] Explicit valence for atom # 4 F, 3, is greater than permitted\n"
     ]
    },
    {
     "name": "stdout",
     "output_type": "stream",
     "text": [
      "ERROR!!!!!!\n",
      "Explicit valence for atom # 4 F, 3, is greater than permitted\n",
      "Molecule: Atoms(symbols='CH10BrClIN3SSi', pbc=False)\n"
     ]
    },
    {
     "name": "stderr",
     "output_type": "stream",
     "text": [
      "[16:47:54] Explicit valence for atom # 3 Cl, 5, is greater than permitted\n",
      "[16:47:54] Explicit valence for atom # 3 Cl, 5, is greater than permitted\n",
      "[16:47:55] Explicit valence for atom # 7 Br, 2, is greater than permitted\n",
      "[16:47:55] Explicit valence for atom # 7 Br, 2, is greater than permitted\n",
      "[16:47:55] Explicit valence for atom # 2 Br, 2, is greater than permitted\n",
      "[16:47:55] Explicit valence for atom # 2 Br, 2, is greater than permitted\n"
     ]
    },
    {
     "name": "stdout",
     "output_type": "stream",
     "text": [
      "ERROR!!!!!!\n",
      "Explicit valence for atom # 3 Cl, 5, is greater than permitted\n",
      "ERROR!!!!!!\n",
      "Explicit valence for atom # 7 Br, 2, is greater than permitted\n",
      "ERROR!!!!!!\n",
      "Explicit valence for atom # 2 Br, 2, is greater than permitted\n"
     ]
    },
    {
     "name": "stderr",
     "output_type": "stream",
     "text": [
      "[16:47:55] Explicit valence for atom # 3 Br, 3, is greater than permitted\n",
      "[16:47:55] Explicit valence for atom # 3 Br, 3, is greater than permitted\n",
      "[16:47:55] Explicit valence for atom # 6 O, 4, is greater than permitted\n",
      "[16:47:55] Explicit valence for atom # 6 O, 4, is greater than permitted\n",
      "[16:47:55] Explicit valence for atom # 3 N, 5, is greater than permitted\n",
      "[16:47:55] Explicit valence for atom # 3 N, 5, is greater than permitted\n"
     ]
    },
    {
     "name": "stdout",
     "output_type": "stream",
     "text": [
      "ERROR!!!!!!\n",
      "Explicit valence for atom # 3 Br, 3, is greater than permitted\n",
      "ERROR!!!!!!\n",
      "Explicit valence for atom # 6 O, 4, is greater than permitted\n",
      "ERROR!!!!!!\n",
      "Explicit valence for atom # 3 N, 5, is greater than permitted\n"
     ]
    },
    {
     "name": "stderr",
     "output_type": "stream",
     "text": [
      "[16:47:55] Explicit valence for atom # 3 Cl, 2, is greater than permitted\n",
      "[16:47:55] Explicit valence for atom # 3 Cl, 2, is greater than permitted\n"
     ]
    },
    {
     "name": "stdout",
     "output_type": "stream",
     "text": [
      "ERROR!!!!!!\n",
      "Explicit valence for atom # 3 Cl, 2, is greater than permitted\n",
      "Molecule: Atoms(symbols='CH6BrClI5NO2Si', pbc=False)\n"
     ]
    },
    {
     "name": "stderr",
     "output_type": "stream",
     "text": [
      "[16:47:55] Explicit valence for atom # 12 Cl, 4, is greater than permitted\n",
      "[16:47:55] Explicit valence for atom # 12 Cl, 4, is greater than permitted\n",
      "[16:47:55] Explicit valence for atom # 4 Cl, 2, is greater than permitted\n",
      "[16:47:55] Explicit valence for atom # 4 Cl, 2, is greater than permitted\n",
      "[16:47:56] Explicit valence for atom # 2 F, 2, is greater than permitted\n",
      "[16:47:56] Explicit valence for atom # 2 F, 2, is greater than permitted\n"
     ]
    },
    {
     "name": "stdout",
     "output_type": "stream",
     "text": [
      "ERROR!!!!!!\n",
      "Explicit valence for atom # 12 Cl, 4, is greater than permitted\n",
      "ERROR!!!!!!\n",
      "Explicit valence for atom # 4 Cl, 2, is greater than permitted\n",
      "ERROR!!!!!!\n",
      "Explicit valence for atom # 2 F, 2, is greater than permitted\n"
     ]
    },
    {
     "name": "stderr",
     "output_type": "stream",
     "text": [
      "[16:47:56] Explicit valence for atom # 1 Cl, 3, is greater than permitted\n",
      "[16:47:56] Explicit valence for atom # 1 Cl, 3, is greater than permitted\n",
      "[16:47:56] Explicit valence for atom # 0 F, 2, is greater than permitted\n",
      "[16:47:56] Explicit valence for atom # 0 F, 2, is greater than permitted\n",
      "[16:47:56] non-ring atom 4 marked aromatic\n",
      "[16:47:56] non-ring atom 4 marked aromatic\n"
     ]
    },
    {
     "name": "stdout",
     "output_type": "stream",
     "text": [
      "ERROR!!!!!!\n",
      "Explicit valence for atom # 1 Cl, 3, is greater than permitted\n",
      "ERROR!!!!!!\n",
      "Explicit valence for atom # 0 F, 2, is greater than permitted\n",
      "ERROR!!!!!!\n",
      "non-ring atom 4 marked aromatic\n"
     ]
    },
    {
     "name": "stderr",
     "output_type": "stream",
     "text": [
      "[16:47:56] Explicit valence for atom # 7 Br, 2, is greater than permitted\n",
      "[16:47:56] Explicit valence for atom # 7 Br, 2, is greater than permitted\n",
      "[16:47:56] Explicit valence for atom # 2 Br, 2, is greater than permitted\n",
      "[16:47:56] Explicit valence for atom # 2 Br, 2, is greater than permitted\n",
      "[16:47:56] Explicit valence for atom # 3 Cl, 3, is greater than permitted\n",
      "[16:47:56] Explicit valence for atom # 3 Cl, 3, is greater than permitted\n"
     ]
    },
    {
     "name": "stdout",
     "output_type": "stream",
     "text": [
      "ERROR!!!!!!\n",
      "Explicit valence for atom # 7 Br, 2, is greater than permitted\n",
      "ERROR!!!!!!\n",
      "Explicit valence for atom # 2 Br, 2, is greater than permitted\n",
      "ERROR!!!!!!\n",
      "Explicit valence for atom # 3 Cl, 3, is greater than permitted\n"
     ]
    },
    {
     "name": "stderr",
     "output_type": "stream",
     "text": [
      "[16:47:56] Explicit valence for atom # 1 F, 2, is greater than permitted\n",
      "[16:47:56] Explicit valence for atom # 1 F, 2, is greater than permitted\n"
     ]
    },
    {
     "name": "stdout",
     "output_type": "stream",
     "text": [
      "ERROR!!!!!!\n",
      "Explicit valence for atom # 1 F, 2, is greater than permitted\n"
     ]
    },
    {
     "name": "stderr",
     "output_type": "stream",
     "text": [
      "[16:47:56] Explicit valence for atom # 4 Cl, 4, is greater than permitted\n",
      "[16:47:56] Explicit valence for atom # 4 Cl, 4, is greater than permitted\n",
      "[16:47:57] Explicit valence for atom # 3 Br, 2, is greater than permitted\n",
      "[16:47:57] Explicit valence for atom # 3 Br, 2, is greater than permitted\n"
     ]
    },
    {
     "name": "stdout",
     "output_type": "stream",
     "text": [
      "ERROR!!!!!!\n",
      "Explicit valence for atom # 4 Cl, 4, is greater than permitted\n",
      "ERROR!!!!!!\n",
      "Explicit valence for atom # 3 Br, 2, is greater than permitted\n"
     ]
    },
    {
     "name": "stderr",
     "output_type": "stream",
     "text": [
      "[16:47:57] Explicit valence for atom # 0 F, 3, is greater than permitted\n",
      "[16:47:57] Explicit valence for atom # 0 F, 3, is greater than permitted\n"
     ]
    },
    {
     "name": "stdout",
     "output_type": "stream",
     "text": [
      "ERROR!!!!!!\n",
      "Explicit valence for atom # 0 F, 3, is greater than permitted\n",
      "Molecule: Atoms(symbols='CH12BrINPSi2', pbc=False)\n"
     ]
    },
    {
     "name": "stderr",
     "output_type": "stream",
     "text": [
      "[16:47:57] Explicit valence for atom # 2 F, 2, is greater than permitted\n",
      "[16:47:57] Explicit valence for atom # 2 F, 2, is greater than permitted\n",
      "[16:47:57] Explicit valence for atom # 5 N, 7, is greater than permitted\n",
      "[16:47:57] Explicit valence for atom # 5 N, 7, is greater than permitted\n",
      "[16:47:57] Explicit valence for atom # 1 Cl, 2, is greater than permitted\n",
      "[16:47:57] Explicit valence for atom # 1 Cl, 2, is greater than permitted\n"
     ]
    },
    {
     "name": "stdout",
     "output_type": "stream",
     "text": [
      "ERROR!!!!!!\n",
      "Explicit valence for atom # 2 F, 2, is greater than permitted\n",
      "ERROR!!!!!!\n",
      "Explicit valence for atom # 5 N, 7, is greater than permitted\n",
      "ERROR!!!!!!\n",
      "Explicit valence for atom # 1 Cl, 2, is greater than permitted\n"
     ]
    },
    {
     "name": "stderr",
     "output_type": "stream",
     "text": [
      "[16:47:57] Explicit valence for atom # 2 Br, 2, is greater than permitted\n",
      "[16:47:57] Explicit valence for atom # 2 Br, 2, is greater than permitted\n",
      "[16:47:57] Explicit valence for atom # 5 N, 5, is greater than permitted\n",
      "[16:47:57] Explicit valence for atom # 5 N, 5, is greater than permitted\n",
      "[16:47:58] Explicit valence for atom # 5 Br, 2, is greater than permitted\n",
      "[16:47:58] Explicit valence for atom # 5 Br, 2, is greater than permitted\n"
     ]
    },
    {
     "name": "stdout",
     "output_type": "stream",
     "text": [
      "ERROR!!!!!!\n",
      "Explicit valence for atom # 2 Br, 2, is greater than permitted\n",
      "ERROR!!!!!!\n",
      "Explicit valence for atom # 5 N, 5, is greater than permitted\n",
      "ERROR!!!!!!\n",
      "Explicit valence for atom # 5 Br, 2, is greater than permitted\n"
     ]
    },
    {
     "name": "stderr",
     "output_type": "stream",
     "text": [
      "[16:47:58] Explicit valence for atom # 1 O, 4, is greater than permitted\n",
      "[16:47:58] Explicit valence for atom # 1 O, 4, is greater than permitted\n",
      "[16:47:58] Explicit valence for atom # 1 Cl, 2, is greater than permitted\n",
      "[16:47:58] Explicit valence for atom # 1 Cl, 2, is greater than permitted\n",
      "[16:47:58] non-ring atom 8 marked aromatic\n",
      "[16:47:58] non-ring atom 8 marked aromatic\n"
     ]
    },
    {
     "name": "stdout",
     "output_type": "stream",
     "text": [
      "ERROR!!!!!!\n",
      "Explicit valence for atom # 1 O, 4, is greater than permitted\n",
      "ERROR!!!!!!\n",
      "Explicit valence for atom # 1 Cl, 2, is greater than permitted\n",
      "ERROR!!!!!!\n",
      "non-ring atom 8 marked aromatic\n"
     ]
    },
    {
     "name": "stderr",
     "output_type": "stream",
     "text": [
      "[16:47:58] Explicit valence for atom # 1 Cl, 5, is greater than permitted\n",
      "[16:47:58] Explicit valence for atom # 1 Cl, 5, is greater than permitted\n",
      "[16:47:58] Explicit valence for atom # 2 Br, 8, is greater than permitted\n",
      "[16:47:58] Explicit valence for atom # 2 Br, 8, is greater than permitted\n",
      "[16:47:58] Explicit valence for atom # 4 Br, 2, is greater than permitted\n",
      "[16:47:58] Explicit valence for atom # 4 Br, 2, is greater than permitted\n"
     ]
    },
    {
     "name": "stdout",
     "output_type": "stream",
     "text": [
      "ERROR!!!!!!\n",
      "Explicit valence for atom # 1 Cl, 5, is greater than permitted\n",
      "ERROR!!!!!!\n",
      "Explicit valence for atom # 2 Br, 8, is greater than permitted\n",
      "ERROR!!!!!!\n",
      "Explicit valence for atom # 4 Br, 2, is greater than permitted\n"
     ]
    },
    {
     "name": "stderr",
     "output_type": "stream",
     "text": [
      "[16:47:58] Explicit valence for atom # 0 N, 4, is greater than permitted\n",
      "[16:47:58] Explicit valence for atom # 0 N, 4, is greater than permitted\n",
      "[16:47:58] Explicit valence for atom # 4 Cl, 7, is greater than permitted\n",
      "[16:47:58] Explicit valence for atom # 4 Cl, 7, is greater than permitted\n",
      "[16:47:58] Explicit valence for atom # 1 F, 3, is greater than permitted\n",
      "[16:47:58] Explicit valence for atom # 1 F, 3, is greater than permitted\n"
     ]
    },
    {
     "name": "stdout",
     "output_type": "stream",
     "text": [
      "ERROR!!!!!!\n",
      "Explicit valence for atom # 0 N, 4, is greater than permitted\n",
      "ERROR!!!!!!\n",
      "Explicit valence for atom # 4 Cl, 7, is greater than permitted\n",
      "ERROR!!!!!!\n",
      "Explicit valence for atom # 1 F, 3, is greater than permitted\n"
     ]
    },
    {
     "name": "stderr",
     "output_type": "stream",
     "text": [
      "[16:47:59] Explicit valence for atom # 1 C, 5, is greater than permitted\n",
      "[16:47:59] Explicit valence for atom # 1 C, 5, is greater than permitted\n",
      "[16:47:59] Explicit valence for atom # 7 F, 3, is greater than permitted\n",
      "[16:47:59] Explicit valence for atom # 7 F, 3, is greater than permitted\n",
      "[16:47:59] Explicit valence for atom # 2 F, 2, is greater than permitted\n",
      "[16:47:59] Explicit valence for atom # 2 F, 2, is greater than permitted\n"
     ]
    },
    {
     "name": "stdout",
     "output_type": "stream",
     "text": [
      "ERROR!!!!!!\n",
      "Explicit valence for atom # 1 C, 5, is greater than permitted\n",
      "ERROR!!!!!!\n",
      "Explicit valence for atom # 7 F, 3, is greater than permitted\n",
      "ERROR!!!!!!\n",
      "Explicit valence for atom # 2 F, 2, is greater than permitted\n"
     ]
    },
    {
     "name": "stderr",
     "output_type": "stream",
     "text": [
      "[16:47:59] Explicit valence for atom # 3 F, 2, is greater than permitted\n",
      "[16:47:59] Explicit valence for atom # 3 F, 2, is greater than permitted\n",
      "[16:47:59] Explicit valence for atom # 2 Br, 3, is greater than permitted\n",
      "[16:47:59] Explicit valence for atom # 2 Br, 3, is greater than permitted\n",
      "[16:47:59] Explicit valence for atom # 0 Cl, 2, is greater than permitted\n",
      "[16:47:59] Explicit valence for atom # 0 Cl, 2, is greater than permitted\n"
     ]
    },
    {
     "name": "stdout",
     "output_type": "stream",
     "text": [
      "ERROR!!!!!!\n",
      "Explicit valence for atom # 3 F, 2, is greater than permitted\n",
      "ERROR!!!!!!\n",
      "Explicit valence for atom # 2 Br, 3, is greater than permitted\n",
      "ERROR!!!!!!\n",
      "Explicit valence for atom # 0 Cl, 2, is greater than permitted\n"
     ]
    },
    {
     "name": "stderr",
     "output_type": "stream",
     "text": [
      "[16:47:59] Explicit valence for atom # 14 O, 3, is greater than permitted\n",
      "[16:47:59] Explicit valence for atom # 14 O, 3, is greater than permitted\n",
      "[16:47:59] Explicit valence for atom # 1 Br, 2, is greater than permitted\n",
      "[16:47:59] Explicit valence for atom # 1 Br, 2, is greater than permitted\n",
      "[16:47:59] Explicit valence for atom # 1 F, 3, is greater than permitted\n",
      "[16:47:59] Explicit valence for atom # 1 F, 3, is greater than permitted\n"
     ]
    },
    {
     "name": "stdout",
     "output_type": "stream",
     "text": [
      "ERROR!!!!!!\n",
      "Explicit valence for atom # 14 O, 3, is greater than permitted\n",
      "ERROR!!!!!!\n",
      "Explicit valence for atom # 1 Br, 2, is greater than permitted\n",
      "ERROR!!!!!!\n",
      "Explicit valence for atom # 1 F, 3, is greater than permitted\n"
     ]
    },
    {
     "name": "stderr",
     "output_type": "stream",
     "text": [
      "[16:47:59] Explicit valence for atom # 1 Br, 2, is greater than permitted\n",
      "[16:47:59] Explicit valence for atom # 1 Br, 2, is greater than permitted\n",
      "[16:48:00] Explicit valence for atom # 1 Cl, 4, is greater than permitted\n",
      "[16:48:00] Explicit valence for atom # 1 Cl, 4, is greater than permitted\n",
      "[16:48:00] Explicit valence for atom # 3 Br, 4, is greater than permitted\n",
      "[16:48:00] Explicit valence for atom # 3 Br, 4, is greater than permitted\n"
     ]
    },
    {
     "name": "stdout",
     "output_type": "stream",
     "text": [
      "ERROR!!!!!!\n",
      "Explicit valence for atom # 1 Br, 2, is greater than permitted\n",
      "ERROR!!!!!!\n",
      "Explicit valence for atom # 1 Cl, 4, is greater than permitted\n",
      "ERROR!!!!!!\n",
      "Explicit valence for atom # 3 Br, 4, is greater than permitted\n"
     ]
    },
    {
     "name": "stderr",
     "output_type": "stream",
     "text": [
      "[16:48:00] Explicit valence for atom # 6 F, 2, is greater than permitted\n",
      "[16:48:00] Explicit valence for atom # 6 F, 2, is greater than permitted\n",
      "[16:48:00] Explicit valence for atom # 1 F, 2, is greater than permitted\n",
      "[16:48:00] Explicit valence for atom # 1 F, 2, is greater than permitted\n",
      "[16:48:00] Explicit valence for atom # 1 F, 2, is greater than permitted\n",
      "[16:48:00] Explicit valence for atom # 1 F, 2, is greater than permitted\n"
     ]
    },
    {
     "name": "stdout",
     "output_type": "stream",
     "text": [
      "ERROR!!!!!!\n",
      "Explicit valence for atom # 6 F, 2, is greater than permitted\n",
      "ERROR!!!!!!\n",
      "Explicit valence for atom # 1 F, 2, is greater than permitted\n",
      "ERROR!!!!!!\n",
      "Explicit valence for atom # 1 F, 2, is greater than permitted\n"
     ]
    },
    {
     "name": "stderr",
     "output_type": "stream",
     "text": [
      "[16:48:00] Explicit valence for atom # 1 Br, 2, is greater than permitted\n",
      "[16:48:00] Explicit valence for atom # 1 Br, 2, is greater than permitted\n",
      "[16:48:00] Explicit valence for atom # 10 Cl, 3, is greater than permitted\n",
      "[16:48:00] Explicit valence for atom # 10 Cl, 3, is greater than permitted\n",
      "[16:48:00] Explicit valence for atom # 17 Cl, 3, is greater than permitted\n",
      "[16:48:00] Explicit valence for atom # 17 Cl, 3, is greater than permitted\n"
     ]
    },
    {
     "name": "stdout",
     "output_type": "stream",
     "text": [
      "ERROR!!!!!!\n",
      "Explicit valence for atom # 1 Br, 2, is greater than permitted\n",
      "ERROR!!!!!!\n",
      "Explicit valence for atom # 10 Cl, 3, is greater than permitted\n",
      "ERROR!!!!!!\n",
      "Explicit valence for atom # 17 Cl, 3, is greater than permitted\n"
     ]
    },
    {
     "name": "stderr",
     "output_type": "stream",
     "text": [
      "[16:48:00] Explicit valence for atom # 2 N, 4, is greater than permitted\n",
      "[16:48:00] Explicit valence for atom # 2 N, 4, is greater than permitted\n"
     ]
    },
    {
     "name": "stdout",
     "output_type": "stream",
     "text": [
      "ERROR!!!!!!\n",
      "Explicit valence for atom # 2 N, 4, is greater than permitted\n",
      "Molecule: Atoms(symbols='CH9ClIPSi', pbc=False)\n"
     ]
    },
    {
     "name": "stderr",
     "output_type": "stream",
     "text": [
      "[16:48:01] Explicit valence for atom # 2 Br, 2, is greater than permitted\n",
      "[16:48:01] Explicit valence for atom # 2 Br, 2, is greater than permitted\n",
      "[16:48:01] Explicit valence for atom # 3 F, 2, is greater than permitted\n",
      "[16:48:01] Explicit valence for atom # 3 F, 2, is greater than permitted\n",
      "[16:48:01] Explicit valence for atom # 2 Cl, 7, is greater than permitted\n"
     ]
    },
    {
     "name": "stdout",
     "output_type": "stream",
     "text": [
      "ERROR!!!!!!\n",
      "Explicit valence for atom # 2 Br, 2, is greater than permitted\n",
      "ERROR!!!!!!\n",
      "Explicit valence for atom # 3 F, 2, is greater than permitted\n"
     ]
    },
    {
     "name": "stderr",
     "output_type": "stream",
     "text": [
      "[16:48:01] Explicit valence for atom # 2 Cl, 7, is greater than permitted\n",
      "[16:48:01] Explicit valence for atom # 1 Br, 6, is greater than permitted\n",
      "[16:48:01] Explicit valence for atom # 1 Br, 6, is greater than permitted\n"
     ]
    },
    {
     "name": "stdout",
     "output_type": "stream",
     "text": [
      "ERROR!!!!!!\n",
      "Explicit valence for atom # 2 Cl, 7, is greater than permitted\n",
      "ERROR!!!!!!\n",
      "Explicit valence for atom # 1 Br, 6, is greater than permitted\n"
     ]
    },
    {
     "name": "stderr",
     "output_type": "stream",
     "text": [
      "[16:48:01] Explicit valence for atom # 0 I, 6, is greater than permitted\n",
      "[16:48:01] Explicit valence for atom # 0 I, 6, is greater than permitted\n",
      "[16:48:01] Explicit valence for atom # 1 C, 5, is greater than permitted\n",
      "[16:48:01] Explicit valence for atom # 1 C, 5, is greater than permitted\n"
     ]
    },
    {
     "name": "stdout",
     "output_type": "stream",
     "text": [
      "ERROR!!!!!!\n",
      "Explicit valence for atom # 0 I, 6, is greater than permitted\n",
      "ERROR!!!!!!\n",
      "Explicit valence for atom # 1 C, 5, is greater than permitted\n"
     ]
    },
    {
     "name": "stderr",
     "output_type": "stream",
     "text": [
      "[16:48:01] Explicit valence for atom # 1 Br, 4, is greater than permitted\n",
      "[16:48:01] Explicit valence for atom # 1 Br, 4, is greater than permitted\n",
      "[16:48:02] Explicit valence for atom # 4 F, 2, is greater than permitted\n",
      "[16:48:02] Explicit valence for atom # 4 F, 2, is greater than permitted\n",
      "[16:48:02] Explicit valence for atom # 14 Br, 3, is greater than permitted\n",
      "[16:48:02] Explicit valence for atom # 14 Br, 3, is greater than permitted\n"
     ]
    },
    {
     "name": "stdout",
     "output_type": "stream",
     "text": [
      "ERROR!!!!!!\n",
      "Explicit valence for atom # 1 Br, 4, is greater than permitted\n",
      "ERROR!!!!!!\n",
      "Explicit valence for atom # 4 F, 2, is greater than permitted\n",
      "ERROR!!!!!!\n",
      "Explicit valence for atom # 14 Br, 3, is greater than permitted\n"
     ]
    },
    {
     "name": "stderr",
     "output_type": "stream",
     "text": [
      "[16:48:02] Explicit valence for atom # 1 Cl, 2, is greater than permitted\n",
      "[16:48:02] Explicit valence for atom # 1 Cl, 2, is greater than permitted\n",
      "[16:48:02] Explicit valence for atom # 4 Cl, 2, is greater than permitted\n",
      "[16:48:02] Explicit valence for atom # 4 Cl, 2, is greater than permitted\n",
      "[16:48:02] Explicit valence for atom # 0 Cl, 3, is greater than permitted\n",
      "[16:48:02] Explicit valence for atom # 0 Cl, 3, is greater than permitted\n"
     ]
    },
    {
     "name": "stdout",
     "output_type": "stream",
     "text": [
      "ERROR!!!!!!\n",
      "Explicit valence for atom # 1 Cl, 2, is greater than permitted\n",
      "ERROR!!!!!!\n",
      "Explicit valence for atom # 4 Cl, 2, is greater than permitted\n",
      "ERROR!!!!!!\n",
      "Explicit valence for atom # 0 Cl, 3, is greater than permitted\n"
     ]
    },
    {
     "name": "stderr",
     "output_type": "stream",
     "text": [
      "[16:48:02] Explicit valence for atom # 4 Cl, 2, is greater than permitted\n",
      "[16:48:02] Explicit valence for atom # 4 Cl, 2, is greater than permitted\n",
      "[16:48:02] Explicit valence for atom # 0 F, 4, is greater than permitted\n",
      "[16:48:02] Explicit valence for atom # 0 F, 4, is greater than permitted\n"
     ]
    },
    {
     "name": "stdout",
     "output_type": "stream",
     "text": [
      "ERROR!!!!!!\n",
      "Explicit valence for atom # 4 Cl, 2, is greater than permitted\n",
      "Molecule: Atoms(symbols='C3H10I2O2S', pbc=False)\n",
      "ERROR!!!!!!\n",
      "Explicit valence for atom # 0 F, 4, is greater than permitted\n"
     ]
    },
    {
     "name": "stderr",
     "output_type": "stream",
     "text": [
      "[16:48:02] Explicit valence for atom # 4 Cl, 4, is greater than permitted\n",
      "[16:48:02] Explicit valence for atom # 4 Cl, 4, is greater than permitted\n"
     ]
    },
    {
     "name": "stdout",
     "output_type": "stream",
     "text": [
      "ERROR!!!!!!\n",
      "Explicit valence for atom # 4 Cl, 4, is greater than permitted\n",
      "Molecule: Atoms(symbols='C6H17ClO2Si', pbc=False)\n"
     ]
    },
    {
     "name": "stderr",
     "output_type": "stream",
     "text": [
      "[16:48:03] Explicit valence for atom # 3 Cl, 4, is greater than permitted\n",
      "[16:48:03] Explicit valence for atom # 3 Cl, 4, is greater than permitted\n",
      "[16:48:03] Explicit valence for atom # 0 Br, 4, is greater than permitted\n",
      "[16:48:03] Explicit valence for atom # 0 Br, 4, is greater than permitted\n"
     ]
    },
    {
     "name": "stdout",
     "output_type": "stream",
     "text": [
      "ERROR!!!!!!\n",
      "Explicit valence for atom # 3 Cl, 4, is greater than permitted\n",
      "ERROR!!!!!!\n",
      "Explicit valence for atom # 0 Br, 4, is greater than permitted\n"
     ]
    },
    {
     "name": "stderr",
     "output_type": "stream",
     "text": [
      "[16:48:03] Explicit valence for atom # 2 F, 2, is greater than permitted\n",
      "[16:48:03] Explicit valence for atom # 2 F, 2, is greater than permitted\n",
      "[16:48:03] non-ring atom 3 marked aromatic\n",
      "[16:48:03] non-ring atom 3 marked aromatic\n",
      "[16:48:03] Explicit valence for atom # 7 Br, 2, is greater than permitted\n",
      "[16:48:03] Explicit valence for atom # 7 Br, 2, is greater than permitted\n"
     ]
    },
    {
     "name": "stdout",
     "output_type": "stream",
     "text": [
      "ERROR!!!!!!\n",
      "Explicit valence for atom # 2 F, 2, is greater than permitted\n",
      "ERROR!!!!!!\n",
      "non-ring atom 3 marked aromatic\n",
      "ERROR!!!!!!\n",
      "Explicit valence for atom # 7 Br, 2, is greater than permitted\n"
     ]
    },
    {
     "name": "stderr",
     "output_type": "stream",
     "text": [
      "[16:48:03] Explicit valence for atom # 1 Br, 2, is greater than permitted\n",
      "[16:48:03] Explicit valence for atom # 1 Br, 2, is greater than permitted\n",
      "[16:48:03] Explicit valence for atom # 2 Cl, 2, is greater than permitted\n",
      "[16:48:03] Explicit valence for atom # 2 Cl, 2, is greater than permitted\n",
      "[16:48:03] Explicit valence for atom # 3 O, 5, is greater than permitted\n",
      "[16:48:03] Explicit valence for atom # 3 O, 5, is greater than permitted\n"
     ]
    },
    {
     "name": "stdout",
     "output_type": "stream",
     "text": [
      "ERROR!!!!!!\n",
      "Explicit valence for atom # 1 Br, 2, is greater than permitted\n",
      "ERROR!!!!!!\n",
      "Explicit valence for atom # 2 Cl, 2, is greater than permitted\n",
      "ERROR!!!!!!\n",
      "Explicit valence for atom # 3 O, 5, is greater than permitted\n"
     ]
    },
    {
     "name": "stderr",
     "output_type": "stream",
     "text": [
      "[16:48:03] Explicit valence for atom # 12 Cl, 3, is greater than permitted\n",
      "[16:48:03] Explicit valence for atom # 12 Cl, 3, is greater than permitted\n",
      "[16:48:04] Explicit valence for atom # 0 Br, 3, is greater than permitted\n",
      "[16:48:04] Explicit valence for atom # 0 Br, 3, is greater than permitted\n",
      "[16:48:04] Explicit valence for atom # 2 Br, 2, is greater than permitted\n",
      "[16:48:04] Explicit valence for atom # 2 Br, 2, is greater than permitted\n"
     ]
    },
    {
     "name": "stdout",
     "output_type": "stream",
     "text": [
      "ERROR!!!!!!\n",
      "Explicit valence for atom # 12 Cl, 3, is greater than permitted\n",
      "ERROR!!!!!!\n",
      "Explicit valence for atom # 0 Br, 3, is greater than permitted\n",
      "ERROR!!!!!!\n",
      "Explicit valence for atom # 2 Br, 2, is greater than permitted\n"
     ]
    },
    {
     "name": "stderr",
     "output_type": "stream",
     "text": [
      "[16:48:04] Explicit valence for atom # 2 F, 4, is greater than permitted\n",
      "[16:48:04] Explicit valence for atom # 2 F, 4, is greater than permitted\n",
      "[16:48:04] Explicit valence for atom # 1 Cl, 2, is greater than permitted\n",
      "[16:48:04] Explicit valence for atom # 1 Cl, 2, is greater than permitted\n",
      "[16:48:04] Explicit valence for atom # 1 F, 5, is greater than permitted\n",
      "[16:48:04] Explicit valence for atom # 1 F, 5, is greater than permitted\n"
     ]
    },
    {
     "name": "stdout",
     "output_type": "stream",
     "text": [
      "ERROR!!!!!!\n",
      "Explicit valence for atom # 2 F, 4, is greater than permitted\n",
      "ERROR!!!!!!\n",
      "Explicit valence for atom # 1 Cl, 2, is greater than permitted\n",
      "ERROR!!!!!!\n",
      "Explicit valence for atom # 1 F, 5, is greater than permitted\n"
     ]
    },
    {
     "name": "stderr",
     "output_type": "stream",
     "text": [
      "[16:48:04] Explicit valence for atom # 0 Br, 4, is greater than permitted\n",
      "[16:48:04] Explicit valence for atom # 0 Br, 4, is greater than permitted\n",
      "[16:48:04] Explicit valence for atom # 2 Br, 2, is greater than permitted\n",
      "[16:48:04] Explicit valence for atom # 2 Br, 2, is greater than permitted\n",
      "[16:48:04] Explicit valence for atom # 0 F, 4, is greater than permitted\n"
     ]
    },
    {
     "name": "stdout",
     "output_type": "stream",
     "text": [
      "ERROR!!!!!!\n",
      "Explicit valence for atom # 0 Br, 4, is greater than permitted\n",
      "ERROR!!!!!!\n",
      "Explicit valence for atom # 2 Br, 2, is greater than permitted\n"
     ]
    },
    {
     "name": "stderr",
     "output_type": "stream",
     "text": [
      "[16:48:04] Explicit valence for atom # 0 F, 4, is greater than permitted\n",
      "[16:48:04] Explicit valence for atom # 1 F, 6, is greater than permitted\n",
      "[16:48:04] Explicit valence for atom # 1 F, 6, is greater than permitted\n"
     ]
    },
    {
     "name": "stdout",
     "output_type": "stream",
     "text": [
      "ERROR!!!!!!\n",
      "Explicit valence for atom # 0 F, 4, is greater than permitted\n",
      "ERROR!!!!!!\n",
      "Explicit valence for atom # 1 F, 6, is greater than permitted\n"
     ]
    },
    {
     "name": "stderr",
     "output_type": "stream",
     "text": [
      "[16:48:04] Explicit valence for atom # 1 F, 2, is greater than permitted\n",
      "[16:48:04] Explicit valence for atom # 1 F, 2, is greater than permitted\n"
     ]
    },
    {
     "name": "stdout",
     "output_type": "stream",
     "text": [
      "ERROR!!!!!!\n",
      "Explicit valence for atom # 1 F, 2, is greater than permitted\n",
      "Molecule: Atoms(symbols='C4H15FO2SSi2', pbc=False)\n"
     ]
    },
    {
     "name": "stderr",
     "output_type": "stream",
     "text": [
      "[16:48:05] Explicit valence for atom # 1 Cl, 3, is greater than permitted\n",
      "[16:48:05] Explicit valence for atom # 1 Cl, 3, is greater than permitted\n",
      "[16:48:05] Explicit valence for atom # 1 C, 5, is greater than permitted\n",
      "[16:48:05] Explicit valence for atom # 1 C, 5, is greater than permitted\n"
     ]
    },
    {
     "name": "stdout",
     "output_type": "stream",
     "text": [
      "ERROR!!!!!!\n",
      "Explicit valence for atom # 1 Cl, 3, is greater than permitted\n",
      "ERROR!!!!!!\n",
      "Explicit valence for atom # 1 C, 5, is greater than permitted\n",
      "Molecule: Atoms(symbols='H4BrFO2Si', pbc=False)\n"
     ]
    },
    {
     "name": "stderr",
     "output_type": "stream",
     "text": [
      "[16:48:05] Explicit valence for atom # 1 F, 2, is greater than permitted\n",
      "[16:48:05] Explicit valence for atom # 1 F, 2, is greater than permitted\n",
      "[16:48:05] Explicit valence for atom # 7 F, 2, is greater than permitted\n",
      "[16:48:05] Explicit valence for atom # 7 F, 2, is greater than permitted\n",
      "[16:48:06] Explicit valence for atom # 1 Cl, 2, is greater than permitted\n",
      "[16:48:06] Explicit valence for atom # 1 Cl, 2, is greater than permitted\n"
     ]
    },
    {
     "name": "stdout",
     "output_type": "stream",
     "text": [
      "ERROR!!!!!!\n",
      "Explicit valence for atom # 1 F, 2, is greater than permitted\n",
      "ERROR!!!!!!\n",
      "Explicit valence for atom # 7 F, 2, is greater than permitted\n",
      "ERROR!!!!!!\n",
      "Explicit valence for atom # 1 Cl, 2, is greater than permitted\n"
     ]
    },
    {
     "name": "stderr",
     "output_type": "stream",
     "text": [
      "[16:48:06] Explicit valence for atom # 1 Br, 2, is greater than permitted\n",
      "[16:48:06] Explicit valence for atom # 1 Br, 2, is greater than permitted\n"
     ]
    },
    {
     "name": "stdout",
     "output_type": "stream",
     "text": [
      "ERROR!!!!!!\n",
      "Explicit valence for atom # 1 Br, 2, is greater than permitted\n",
      "ERROR!!!!!!\n",
      "Explicit valence for atom # 2 F, 5, is greater than permitted\n"
     ]
    },
    {
     "name": "stderr",
     "output_type": "stream",
     "text": [
      "[16:48:06] Explicit valence for atom # 2 F, 5, is greater than permitted\n",
      "[16:48:06] Explicit valence for atom # 2 F, 5, is greater than permitted\n",
      "[16:48:06] Explicit valence for atom # 3 F, 2, is greater than permitted\n",
      "[16:48:06] Explicit valence for atom # 3 F, 2, is greater than permitted\n",
      "[16:48:06] non-ring atom 4 marked aromatic\n",
      "[16:48:06] non-ring atom 4 marked aromatic\n"
     ]
    },
    {
     "name": "stdout",
     "output_type": "stream",
     "text": [
      "ERROR!!!!!!\n",
      "Explicit valence for atom # 3 F, 2, is greater than permitted\n",
      "ERROR!!!!!!\n",
      "non-ring atom 4 marked aromatic\n",
      "ERROR!!!!!!\n",
      "Explicit valence for atom # 2 Cl, 2, is greater than permitted\n"
     ]
    },
    {
     "name": "stderr",
     "output_type": "stream",
     "text": [
      "[16:48:06] Explicit valence for atom # 2 Cl, 2, is greater than permitted\n",
      "[16:48:06] Explicit valence for atom # 2 Cl, 2, is greater than permitted\n",
      "[16:48:06] Explicit valence for atom # 1 F, 4, is greater than permitted\n",
      "[16:48:06] Explicit valence for atom # 1 F, 4, is greater than permitted\n"
     ]
    },
    {
     "name": "stdout",
     "output_type": "stream",
     "text": [
      "ERROR!!!!!!\n",
      "Explicit valence for atom # 1 F, 4, is greater than permitted\n",
      "ERROR!!!!!!\n",
      "Explicit valence for atom # 2 Br, 2, is greater than permitted\n",
      "ERROR!!!!!!\n",
      "Explicit valence for atom # 6 Cl, 2, is greater than permitted\n"
     ]
    },
    {
     "name": "stderr",
     "output_type": "stream",
     "text": [
      "[16:48:06] Explicit valence for atom # 2 Br, 2, is greater than permitted\n",
      "[16:48:06] Explicit valence for atom # 2 Br, 2, is greater than permitted\n",
      "[16:48:07] Explicit valence for atom # 6 Cl, 2, is greater than permitted\n",
      "[16:48:07] Explicit valence for atom # 6 Cl, 2, is greater than permitted\n",
      "[16:48:07] Explicit valence for atom # 1 Br, 4, is greater than permitted\n",
      "[16:48:07] Explicit valence for atom # 1 Br, 4, is greater than permitted\n",
      "[16:48:07] Explicit valence for atom # 1 Cl, 2, is greater than permitted\n",
      "[16:48:07] Explicit valence for atom # 1 Cl, 2, is greater than permitted\n",
      "[16:48:07] Explicit valence for atom # 1 F, 2, is greater than permitted\n",
      "[16:48:07] Explicit valence for atom # 1 F, 2, is greater than permitted\n"
     ]
    },
    {
     "name": "stdout",
     "output_type": "stream",
     "text": [
      "ERROR!!!!!!\n",
      "Explicit valence for atom # 1 Br, 4, is greater than permitted\n",
      "ERROR!!!!!!\n",
      "Explicit valence for atom # 1 Cl, 2, is greater than permitted\n",
      "ERROR!!!!!!\n",
      "Explicit valence for atom # 1 F, 2, is greater than permitted\n"
     ]
    },
    {
     "name": "stderr",
     "output_type": "stream",
     "text": [
      "[16:48:07] Explicit valence for atom # 0 Br, 2, is greater than permitted\n",
      "[16:48:07] Explicit valence for atom # 0 Br, 2, is greater than permitted\n",
      "[16:48:07] non-ring atom 4 marked aromatic\n",
      "[16:48:07] non-ring atom 4 marked aromatic\n",
      "[16:48:07] Explicit valence for atom # 1 Br, 2, is greater than permitted\n",
      "[16:48:07] Explicit valence for atom # 1 Br, 2, is greater than permitted\n"
     ]
    },
    {
     "name": "stdout",
     "output_type": "stream",
     "text": [
      "ERROR!!!!!!\n",
      "Explicit valence for atom # 0 Br, 2, is greater than permitted\n",
      "ERROR!!!!!!\n",
      "non-ring atom 4 marked aromatic\n",
      "ERROR!!!!!!\n",
      "Explicit valence for atom # 1 Br, 2, is greater than permitted\n"
     ]
    },
    {
     "name": "stderr",
     "output_type": "stream",
     "text": [
      "[16:48:07] Explicit valence for atom # 2 Br, 2, is greater than permitted\n",
      "[16:48:07] Explicit valence for atom # 2 Br, 2, is greater than permitted\n",
      "[16:48:07] Explicit valence for atom # 1 F, 3, is greater than permitted\n",
      "[16:48:07] Explicit valence for atom # 1 F, 3, is greater than permitted\n",
      "[16:48:07] Explicit valence for atom # 3 F, 2, is greater than permitted\n",
      "[16:48:07] Explicit valence for atom # 3 F, 2, is greater than permitted\n"
     ]
    },
    {
     "name": "stdout",
     "output_type": "stream",
     "text": [
      "ERROR!!!!!!\n",
      "Explicit valence for atom # 2 Br, 2, is greater than permitted\n",
      "ERROR!!!!!!\n",
      "Explicit valence for atom # 1 F, 3, is greater than permitted\n",
      "ERROR!!!!!!\n",
      "Explicit valence for atom # 3 F, 2, is greater than permitted\n"
     ]
    },
    {
     "name": "stderr",
     "output_type": "stream",
     "text": [
      "[16:48:08] Explicit valence for atom # 6 Br, 2, is greater than permitted\n",
      "[16:48:08] Explicit valence for atom # 6 Br, 2, is greater than permitted\n"
     ]
    },
    {
     "name": "stdout",
     "output_type": "stream",
     "text": [
      "ERROR!!!!!!\n",
      "Explicit valence for atom # 6 Br, 2, is greater than permitted\n",
      "Molecule: Atoms(symbols='C3H18Cl2IN2P3Si', pbc=False)\n"
     ]
    },
    {
     "name": "stderr",
     "output_type": "stream",
     "text": [
      "[16:48:08] Explicit valence for atom # 0 C, 8, is greater than permitted\n",
      "[16:48:08] Explicit valence for atom # 0 C, 8, is greater than permitted\n",
      "[16:48:08] Explicit valence for atom # 2 Br, 2, is greater than permitted\n",
      "[16:48:08] Explicit valence for atom # 2 Br, 2, is greater than permitted\n",
      "[16:48:08] Explicit valence for atom # 5 Cl, 2, is greater than permitted\n",
      "[16:48:08] Explicit valence for atom # 5 Cl, 2, is greater than permitted\n"
     ]
    },
    {
     "name": "stdout",
     "output_type": "stream",
     "text": [
      "ERROR!!!!!!\n",
      "Explicit valence for atom # 0 C, 8, is greater than permitted\n",
      "ERROR!!!!!!\n",
      "Explicit valence for atom # 2 Br, 2, is greater than permitted\n",
      "ERROR!!!!!!\n",
      "Explicit valence for atom # 5 Cl, 2, is greater than permitted\n"
     ]
    },
    {
     "name": "stderr",
     "output_type": "stream",
     "text": [
      "[16:48:08] Explicit valence for atom # 0 Cl, 5, is greater than permitted\n",
      "[16:48:08] Explicit valence for atom # 0 Cl, 5, is greater than permitted\n",
      "[16:48:08] Explicit valence for atom # 13 O, 3, is greater than permitted\n",
      "[16:48:08] Explicit valence for atom # 13 O, 3, is greater than permitted\n",
      "[16:48:08] Explicit valence for atom # 4 F, 2, is greater than permitted\n",
      "[16:48:08] Explicit valence for atom # 4 F, 2, is greater than permitted\n"
     ]
    },
    {
     "name": "stdout",
     "output_type": "stream",
     "text": [
      "ERROR!!!!!!\n",
      "Explicit valence for atom # 0 Cl, 5, is greater than permitted\n",
      "ERROR!!!!!!\n",
      "Explicit valence for atom # 13 O, 3, is greater than permitted\n",
      "ERROR!!!!!!\n",
      "Explicit valence for atom # 4 F, 2, is greater than permitted\n"
     ]
    },
    {
     "name": "stderr",
     "output_type": "stream",
     "text": [
      "[16:48:09] Explicit valence for atom # 3 Br, 2, is greater than permitted\n",
      "[16:48:09] Explicit valence for atom # 3 Br, 2, is greater than permitted\n",
      "[16:48:09] Explicit valence for atom # 3 F, 5, is greater than permitted\n",
      "[16:48:09] Explicit valence for atom # 3 F, 5, is greater than permitted\n",
      "[16:48:09] Explicit valence for atom # 1 O, 4, is greater than permitted\n",
      "[16:48:09] Explicit valence for atom # 1 O, 4, is greater than permitted\n"
     ]
    },
    {
     "name": "stdout",
     "output_type": "stream",
     "text": [
      "ERROR!!!!!!\n",
      "Explicit valence for atom # 3 Br, 2, is greater than permitted\n",
      "ERROR!!!!!!\n",
      "Explicit valence for atom # 3 F, 5, is greater than permitted\n",
      "ERROR!!!!!!\n",
      "Explicit valence for atom # 1 O, 4, is greater than permitted\n"
     ]
    },
    {
     "name": "stderr",
     "output_type": "stream",
     "text": [
      "[16:48:09] Explicit valence for atom # 12 Br, 3, is greater than permitted\n",
      "[16:48:09] Explicit valence for atom # 12 Br, 3, is greater than permitted\n",
      "[16:48:09] Explicit valence for atom # 6 Br, 3, is greater than permitted\n",
      "[16:48:09] Explicit valence for atom # 6 Br, 3, is greater than permitted\n",
      "[16:48:09] Explicit valence for atom # 1 Br, 2, is greater than permitted\n",
      "[16:48:09] Explicit valence for atom # 1 Br, 2, is greater than permitted\n"
     ]
    },
    {
     "name": "stdout",
     "output_type": "stream",
     "text": [
      "ERROR!!!!!!\n",
      "Explicit valence for atom # 12 Br, 3, is greater than permitted\n",
      "ERROR!!!!!!\n",
      "Explicit valence for atom # 6 Br, 3, is greater than permitted\n",
      "ERROR!!!!!!\n",
      "Explicit valence for atom # 1 Br, 2, is greater than permitted\n"
     ]
    },
    {
     "name": "stderr",
     "output_type": "stream",
     "text": [
      "[16:48:09] Explicit valence for atom # 1 F, 6, is greater than permitted\n",
      "[16:48:09] Explicit valence for atom # 1 F, 6, is greater than permitted\n",
      "[16:48:09] Explicit valence for atom # 1 F, 2, is greater than permitted\n",
      "[16:48:09] Explicit valence for atom # 1 F, 2, is greater than permitted\n",
      "[16:48:09] Explicit valence for atom # 5 N, 4, is greater than permitted\n",
      "[16:48:09] Explicit valence for atom # 5 N, 4, is greater than permitted\n"
     ]
    },
    {
     "name": "stdout",
     "output_type": "stream",
     "text": [
      "ERROR!!!!!!\n",
      "Explicit valence for atom # 1 F, 6, is greater than permitted\n",
      "ERROR!!!!!!\n",
      "Explicit valence for atom # 1 F, 2, is greater than permitted\n",
      "ERROR!!!!!!\n",
      "Explicit valence for atom # 5 N, 4, is greater than permitted\n"
     ]
    },
    {
     "name": "stderr",
     "output_type": "stream",
     "text": [
      "[16:48:09] Explicit valence for atom # 6 Br, 2, is greater than permitted\n",
      "[16:48:09] Explicit valence for atom # 6 Br, 2, is greater than permitted\n",
      "[16:48:10] Explicit valence for atom # 1 Cl, 3, is greater than permitted\n",
      "[16:48:10] Explicit valence for atom # 1 Cl, 3, is greater than permitted\n",
      "[16:48:10] non-ring atom 7 marked aromatic\n",
      "[16:48:10] non-ring atom 7 marked aromatic\n"
     ]
    },
    {
     "name": "stdout",
     "output_type": "stream",
     "text": [
      "ERROR!!!!!!\n",
      "Explicit valence for atom # 6 Br, 2, is greater than permitted\n",
      "ERROR!!!!!!\n",
      "Explicit valence for atom # 1 Cl, 3, is greater than permitted\n",
      "ERROR!!!!!!\n",
      "non-ring atom 7 marked aromatic\n"
     ]
    },
    {
     "name": "stderr",
     "output_type": "stream",
     "text": [
      "[16:48:10] Explicit valence for atom # 1 Br, 4, is greater than permitted\n",
      "[16:48:10] Explicit valence for atom # 1 Br, 4, is greater than permitted\n",
      "[16:48:10] Explicit valence for atom # 1 Br, 2, is greater than permitted\n",
      "[16:48:10] Explicit valence for atom # 1 Br, 2, is greater than permitted\n",
      "[16:48:10] Explicit valence for atom # 3 Br, 2, is greater than permitted\n",
      "[16:48:10] Explicit valence for atom # 3 Br, 2, is greater than permitted\n"
     ]
    },
    {
     "name": "stdout",
     "output_type": "stream",
     "text": [
      "ERROR!!!!!!\n",
      "Explicit valence for atom # 1 Br, 4, is greater than permitted\n",
      "ERROR!!!!!!\n",
      "Explicit valence for atom # 1 Br, 2, is greater than permitted\n",
      "ERROR!!!!!!\n",
      "Explicit valence for atom # 3 Br, 2, is greater than permitted\n"
     ]
    },
    {
     "name": "stderr",
     "output_type": "stream",
     "text": [
      "[16:48:10] Explicit valence for atom # 1 Cl, 4, is greater than permitted\n",
      "[16:48:10] Explicit valence for atom # 1 Cl, 4, is greater than permitted\n",
      "[16:48:10] Explicit valence for atom # 0 Cl, 2, is greater than permitted\n",
      "[16:48:10] Explicit valence for atom # 0 Cl, 2, is greater than permitted\n",
      "[16:48:10] Explicit valence for atom # 1 Br, 2, is greater than permitted\n",
      "[16:48:10] Explicit valence for atom # 1 Br, 2, is greater than permitted\n"
     ]
    },
    {
     "name": "stdout",
     "output_type": "stream",
     "text": [
      "ERROR!!!!!!\n",
      "Explicit valence for atom # 1 Cl, 4, is greater than permitted\n",
      "ERROR!!!!!!\n",
      "Explicit valence for atom # 0 Cl, 2, is greater than permitted\n",
      "ERROR!!!!!!\n",
      "Explicit valence for atom # 1 Br, 2, is greater than permitted\n"
     ]
    },
    {
     "name": "stderr",
     "output_type": "stream",
     "text": [
      "[16:48:10] Explicit valence for atom # 2 O, 3, is greater than permitted\n",
      "[16:48:10] Explicit valence for atom # 2 O, 3, is greater than permitted\n"
     ]
    },
    {
     "name": "stdout",
     "output_type": "stream",
     "text": [
      "ERROR!!!!!!\n",
      "Explicit valence for atom # 2 O, 3, is greater than permitted\n",
      "Molecule: Atoms(symbols='C3H11FOSSi', pbc=False)\n",
      "ERROR!!!!!!\n",
      "Explicit valence for atom # 2 Cl, 2, is greater than permitted\n"
     ]
    },
    {
     "name": "stderr",
     "output_type": "stream",
     "text": [
      "[16:48:11] Explicit valence for atom # 2 Cl, 2, is greater than permitted\n",
      "[16:48:11] Explicit valence for atom # 2 Cl, 2, is greater than permitted\n",
      "[16:48:11] Explicit valence for atom # 6 F, 2, is greater than permitted\n",
      "[16:48:11] Explicit valence for atom # 6 F, 2, is greater than permitted\n",
      "[16:48:11] Explicit valence for atom # 0 Br, 3, is greater than permitted\n",
      "[16:48:11] Explicit valence for atom # 0 Br, 3, is greater than permitted\n"
     ]
    },
    {
     "name": "stdout",
     "output_type": "stream",
     "text": [
      "ERROR!!!!!!\n",
      "Explicit valence for atom # 6 F, 2, is greater than permitted\n",
      "ERROR!!!!!!\n",
      "Explicit valence for atom # 0 Br, 3, is greater than permitted\n",
      "ERROR!!!!!!\n",
      "Explicit valence for atom # 0 Cl, 2, is greater than permitted\n"
     ]
    },
    {
     "name": "stderr",
     "output_type": "stream",
     "text": [
      "[16:48:11] Explicit valence for atom # 0 Cl, 2, is greater than permitted\n",
      "[16:48:11] Explicit valence for atom # 0 Cl, 2, is greater than permitted\n",
      "[16:48:11] Explicit valence for atom # 3 Br, 2, is greater than permitted\n",
      "[16:48:11] Explicit valence for atom # 3 Br, 2, is greater than permitted\n"
     ]
    },
    {
     "name": "stdout",
     "output_type": "stream",
     "text": [
      "ERROR!!!!!!\n",
      "Explicit valence for atom # 3 Br, 2, is greater than permitted\n",
      "ERROR!!!!!!\n",
      "Explicit valence for atom # 2 N, 9, is greater than permitted\n"
     ]
    },
    {
     "name": "stderr",
     "output_type": "stream",
     "text": [
      "[16:48:11] Explicit valence for atom # 2 N, 9, is greater than permitted\n",
      "[16:48:11] Explicit valence for atom # 2 N, 9, is greater than permitted\n",
      "[16:48:11] Explicit valence for atom # 3 Br, 2, is greater than permitted\n",
      "[16:48:11] Explicit valence for atom # 3 Br, 2, is greater than permitted\n"
     ]
    },
    {
     "name": "stdout",
     "output_type": "stream",
     "text": [
      "ERROR!!!!!!\n",
      "Explicit valence for atom # 3 Br, 2, is greater than permitted\n",
      "ERROR!!!!!!\n",
      "Explicit valence for atom # 2 F, 2, is greater than permitted\n"
     ]
    },
    {
     "name": "stderr",
     "output_type": "stream",
     "text": [
      "[16:48:12] Explicit valence for atom # 2 F, 2, is greater than permitted\n",
      "[16:48:12] Explicit valence for atom # 2 F, 2, is greater than permitted\n",
      "[16:48:12] Explicit valence for atom # 1 Cl, 2, is greater than permitted\n",
      "[16:48:12] Explicit valence for atom # 1 Cl, 2, is greater than permitted\n"
     ]
    },
    {
     "name": "stdout",
     "output_type": "stream",
     "text": [
      "ERROR!!!!!!\n",
      "Explicit valence for atom # 1 Cl, 2, is greater than permitted\n",
      "ERROR!!!!!!\n",
      "non-ring atom 4 marked aromatic\n",
      "Molecule: Atoms(symbols='C2H9INOP', pbc=False)\n"
     ]
    },
    {
     "name": "stderr",
     "output_type": "stream",
     "text": [
      "[16:48:12] non-ring atom 4 marked aromatic\n",
      "[16:48:12] non-ring atom 4 marked aromatic\n",
      "[16:48:12] Explicit valence for atom # 2 Cl, 2, is greater than permitted\n",
      "[16:48:12] Explicit valence for atom # 2 Cl, 2, is greater than permitted\n",
      "[16:48:12] Explicit valence for atom # 13 Br, 2, is greater than permitted\n",
      "[16:48:12] Explicit valence for atom # 13 Br, 2, is greater than permitted\n",
      "[16:48:12] Explicit valence for atom # 1 Cl, 2, is greater than permitted\n",
      "[16:48:12] Explicit valence for atom # 1 Cl, 2, is greater than permitted\n"
     ]
    },
    {
     "name": "stdout",
     "output_type": "stream",
     "text": [
      "ERROR!!!!!!\n",
      "Explicit valence for atom # 2 Cl, 2, is greater than permitted\n",
      "ERROR!!!!!!\n",
      "Explicit valence for atom # 13 Br, 2, is greater than permitted\n",
      "ERROR!!!!!!\n",
      "Explicit valence for atom # 1 Cl, 2, is greater than permitted\n"
     ]
    },
    {
     "name": "stderr",
     "output_type": "stream",
     "text": [
      "[16:48:12] Explicit valence for atom # 5 Br, 2, is greater than permitted\n",
      "[16:48:12] Explicit valence for atom # 5 Br, 2, is greater than permitted\n",
      "[16:48:12] Explicit valence for atom # 2 Br, 2, is greater than permitted\n",
      "[16:48:12] Explicit valence for atom # 2 Br, 2, is greater than permitted\n",
      "[16:48:13] Explicit valence for atom # 1 O, 3, is greater than permitted\n",
      "[16:48:13] Explicit valence for atom # 1 O, 3, is greater than permitted\n"
     ]
    },
    {
     "name": "stdout",
     "output_type": "stream",
     "text": [
      "ERROR!!!!!!\n",
      "Explicit valence for atom # 5 Br, 2, is greater than permitted\n",
      "ERROR!!!!!!\n",
      "Explicit valence for atom # 2 Br, 2, is greater than permitted\n",
      "ERROR!!!!!!\n",
      "Explicit valence for atom # 1 O, 3, is greater than permitted\n"
     ]
    },
    {
     "name": "stderr",
     "output_type": "stream",
     "text": [
      "[16:48:13] Explicit valence for atom # 1 C, 5, is greater than permitted\n",
      "[16:48:13] Explicit valence for atom # 1 C, 5, is greater than permitted\n",
      "[16:48:13] non-ring atom 4 marked aromatic\n",
      "[16:48:13] non-ring atom 4 marked aromatic\n",
      "[16:48:13] Explicit valence for atom # 6 Cl, 2, is greater than permitted\n",
      "[16:48:13] Explicit valence for atom # 6 Cl, 2, is greater than permitted\n"
     ]
    },
    {
     "name": "stdout",
     "output_type": "stream",
     "text": [
      "ERROR!!!!!!\n",
      "Explicit valence for atom # 1 C, 5, is greater than permitted\n",
      "ERROR!!!!!!\n",
      "non-ring atom 4 marked aromatic\n",
      "ERROR!!!!!!\n",
      "Explicit valence for atom # 6 Cl, 2, is greater than permitted\n"
     ]
    },
    {
     "name": "stderr",
     "output_type": "stream",
     "text": [
      "[16:48:13] Explicit valence for atom # 1 Br, 2, is greater than permitted\n",
      "[16:48:13] Explicit valence for atom # 1 Br, 2, is greater than permitted\n",
      "[16:48:13] Explicit valence for atom # 8 F, 2, is greater than permitted\n",
      "[16:48:13] Explicit valence for atom # 8 F, 2, is greater than permitted\n",
      "[16:48:13] Explicit valence for atom # 7 Br, 3, is greater than permitted\n",
      "[16:48:13] Explicit valence for atom # 7 Br, 3, is greater than permitted\n"
     ]
    },
    {
     "name": "stdout",
     "output_type": "stream",
     "text": [
      "ERROR!!!!!!\n",
      "Explicit valence for atom # 1 Br, 2, is greater than permitted\n",
      "ERROR!!!!!!\n",
      "Explicit valence for atom # 8 F, 2, is greater than permitted\n",
      "ERROR!!!!!!\n",
      "Explicit valence for atom # 7 Br, 3, is greater than permitted\n"
     ]
    },
    {
     "name": "stderr",
     "output_type": "stream",
     "text": [
      "[16:48:13] Explicit valence for atom # 5 Br, 2, is greater than permitted\n",
      "[16:48:13] Explicit valence for atom # 5 Br, 2, is greater than permitted\n",
      "[16:48:13] Explicit valence for atom # 3 Br, 2, is greater than permitted\n",
      "[16:48:13] Explicit valence for atom # 3 Br, 2, is greater than permitted\n",
      "[16:48:13] Explicit valence for atom # 3 Cl, 2, is greater than permitted\n",
      "[16:48:13] Explicit valence for atom # 3 Cl, 2, is greater than permitted\n"
     ]
    },
    {
     "name": "stdout",
     "output_type": "stream",
     "text": [
      "ERROR!!!!!!\n",
      "Explicit valence for atom # 5 Br, 2, is greater than permitted\n",
      "ERROR!!!!!!\n",
      "Explicit valence for atom # 3 Br, 2, is greater than permitted\n",
      "ERROR!!!!!!\n",
      "Explicit valence for atom # 3 Cl, 2, is greater than permitted\n"
     ]
    },
    {
     "name": "stderr",
     "output_type": "stream",
     "text": [
      "[16:48:14] Explicit valence for atom # 1 O, 4, is greater than permitted\n",
      "[16:48:14] Explicit valence for atom # 1 O, 4, is greater than permitted\n"
     ]
    },
    {
     "name": "stdout",
     "output_type": "stream",
     "text": [
      "ERROR!!!!!!\n",
      "Explicit valence for atom # 1 O, 4, is greater than permitted\n"
     ]
    },
    {
     "name": "stderr",
     "output_type": "stream",
     "text": [
      "[16:48:14] Explicit valence for atom # 2 F, 2, is greater than permitted\n",
      "[16:48:14] Explicit valence for atom # 2 F, 2, is greater than permitted\n",
      "[16:48:14] Explicit valence for atom # 4 Cl, 2, is greater than permitted\n",
      "[16:48:14] Explicit valence for atom # 4 Cl, 2, is greater than permitted\n",
      "[16:48:14] non-ring atom 4 marked aromatic\n",
      "[16:48:14] non-ring atom 4 marked aromatic\n"
     ]
    },
    {
     "name": "stdout",
     "output_type": "stream",
     "text": [
      "ERROR!!!!!!\n",
      "Explicit valence for atom # 2 F, 2, is greater than permitted\n",
      "ERROR!!!!!!\n",
      "Explicit valence for atom # 4 Cl, 2, is greater than permitted\n",
      "ERROR!!!!!!\n",
      "non-ring atom 4 marked aromatic\n"
     ]
    },
    {
     "name": "stderr",
     "output_type": "stream",
     "text": [
      "[16:48:14] Explicit valence for atom # 5 Br, 2, is greater than permitted\n",
      "[16:48:14] Explicit valence for atom # 5 Br, 2, is greater than permitted\n",
      "[16:48:14] Explicit valence for atom # 4 F, 2, is greater than permitted\n",
      "[16:48:14] Explicit valence for atom # 4 F, 2, is greater than permitted\n"
     ]
    },
    {
     "name": "stdout",
     "output_type": "stream",
     "text": [
      "ERROR!!!!!!\n",
      "Explicit valence for atom # 5 Br, 2, is greater than permitted\n",
      "ERROR!!!!!!\n",
      "Explicit valence for atom # 4 F, 2, is greater than permitted\n"
     ]
    },
    {
     "name": "stderr",
     "output_type": "stream",
     "text": [
      "[16:48:14] Explicit valence for atom # 0 F, 8, is greater than permitted\n",
      "[16:48:14] Explicit valence for atom # 0 F, 8, is greater than permitted\n",
      "[16:48:14] Explicit valence for atom # 4 Cl, 2, is greater than permitted\n",
      "[16:48:14] Explicit valence for atom # 4 Cl, 2, is greater than permitted\n",
      "[16:48:14] Explicit valence for atom # 1 Br, 5, is greater than permitted\n",
      "[16:48:14] Explicit valence for atom # 1 Br, 5, is greater than permitted\n"
     ]
    },
    {
     "name": "stdout",
     "output_type": "stream",
     "text": [
      "ERROR!!!!!!\n",
      "Explicit valence for atom # 0 F, 8, is greater than permitted\n",
      "ERROR!!!!!!\n",
      "Explicit valence for atom # 4 Cl, 2, is greater than permitted\n",
      "ERROR!!!!!!\n",
      "Explicit valence for atom # 1 Br, 5, is greater than permitted\n"
     ]
    },
    {
     "name": "stderr",
     "output_type": "stream",
     "text": [
      "[16:48:15] non-ring atom 8 marked aromatic\n",
      "[16:48:15] non-ring atom 8 marked aromatic\n",
      "[16:48:15] Explicit valence for atom # 0 F, 4, is greater than permitted\n",
      "[16:48:15] Explicit valence for atom # 0 F, 4, is greater than permitted\n"
     ]
    },
    {
     "name": "stdout",
     "output_type": "stream",
     "text": [
      "ERROR!!!!!!\n",
      "non-ring atom 8 marked aromatic\n",
      "ERROR!!!!!!\n",
      "Explicit valence for atom # 0 F, 4, is greater than permitted\n",
      "Molecule: Atoms(symbols='C5H15FOP2S2', pbc=False)\n",
      "Molecule: Atoms(symbols='C5H14Br2Si', pbc=False)\n"
     ]
    },
    {
     "name": "stderr",
     "output_type": "stream",
     "text": [
      "[16:48:15] Explicit valence for atom # 5 Br, 6, is greater than permitted\n",
      "[16:48:15] Explicit valence for atom # 5 Br, 6, is greater than permitted\n",
      "[16:48:15] Explicit valence for atom # 6 Br, 2, is greater than permitted\n",
      "[16:48:15] Explicit valence for atom # 6 Br, 2, is greater than permitted\n"
     ]
    },
    {
     "name": "stdout",
     "output_type": "stream",
     "text": [
      "ERROR!!!!!!\n",
      "Explicit valence for atom # 5 Br, 6, is greater than permitted\n",
      "ERROR!!!!!!\n",
      "Explicit valence for atom # 6 Br, 2, is greater than permitted\n"
     ]
    },
    {
     "name": "stderr",
     "output_type": "stream",
     "text": [
      "[16:48:16] Explicit valence for atom # 4 F, 2, is greater than permitted\n",
      "[16:48:16] Explicit valence for atom # 4 F, 2, is greater than permitted\n",
      "[16:48:16] Explicit valence for atom # 1 Br, 2, is greater than permitted\n",
      "[16:48:16] Explicit valence for atom # 1 Br, 2, is greater than permitted\n",
      "[16:48:16] Explicit valence for atom # 6 Br, 2, is greater than permitted\n",
      "[16:48:16] Explicit valence for atom # 6 Br, 2, is greater than permitted\n"
     ]
    },
    {
     "name": "stdout",
     "output_type": "stream",
     "text": [
      "ERROR!!!!!!\n",
      "Explicit valence for atom # 4 F, 2, is greater than permitted\n",
      "ERROR!!!!!!\n",
      "Explicit valence for atom # 1 Br, 2, is greater than permitted\n",
      "ERROR!!!!!!\n",
      "Explicit valence for atom # 6 Br, 2, is greater than permitted\n",
      "Molecule: Atoms(symbols='C4H12INP2S', pbc=False)\n"
     ]
    },
    {
     "name": "stderr",
     "output_type": "stream",
     "text": [
      "[16:48:16] Explicit valence for atom # 0 Si, 16, is greater than permitted\n",
      "[16:48:16] Explicit valence for atom # 0 Si, 16, is greater than permitted\n",
      "[16:48:16] Explicit valence for atom # 0 Cl, 4, is greater than permitted\n",
      "[16:48:16] Explicit valence for atom # 0 Cl, 4, is greater than permitted\n"
     ]
    },
    {
     "name": "stdout",
     "output_type": "stream",
     "text": [
      "ERROR!!!!!!\n",
      "Explicit valence for atom # 0 Si, 16, is greater than permitted\n",
      "ERROR!!!!!!\n",
      "Explicit valence for atom # 0 Cl, 4, is greater than permitted\n"
     ]
    },
    {
     "name": "stderr",
     "output_type": "stream",
     "text": [
      "[16:48:16] Explicit valence for atom # 0 Br, 5, is greater than permitted\n",
      "[16:48:16] Explicit valence for atom # 0 Br, 5, is greater than permitted\n",
      "[16:48:16] Explicit valence for atom # 1 Br, 2, is greater than permitted\n",
      "[16:48:16] Explicit valence for atom # 1 Br, 2, is greater than permitted\n",
      "[16:48:16] Explicit valence for atom # 1 F, 2, is greater than permitted\n",
      "[16:48:16] Explicit valence for atom # 1 F, 2, is greater than permitted\n"
     ]
    },
    {
     "name": "stdout",
     "output_type": "stream",
     "text": [
      "ERROR!!!!!!\n",
      "Explicit valence for atom # 0 Br, 5, is greater than permitted\n",
      "ERROR!!!!!!\n",
      "Explicit valence for atom # 1 Br, 2, is greater than permitted\n",
      "ERROR!!!!!!\n",
      "Explicit valence for atom # 1 F, 2, is greater than permitted\n"
     ]
    },
    {
     "name": "stderr",
     "output_type": "stream",
     "text": [
      "[16:48:17] Explicit valence for atom # 5 N, 4, is greater than permitted\n",
      "[16:48:17] Explicit valence for atom # 5 N, 4, is greater than permitted\n",
      "[16:48:17] Explicit valence for atom # 2 Br, 3, is greater than permitted\n",
      "[16:48:17] Explicit valence for atom # 2 Br, 3, is greater than permitted\n",
      "[16:48:17] Explicit valence for atom # 2 Br, 2, is greater than permitted\n",
      "[16:48:17] Explicit valence for atom # 2 Br, 2, is greater than permitted\n"
     ]
    },
    {
     "name": "stdout",
     "output_type": "stream",
     "text": [
      "ERROR!!!!!!\n",
      "Explicit valence for atom # 5 N, 4, is greater than permitted\n",
      "ERROR!!!!!!\n",
      "Explicit valence for atom # 2 Br, 3, is greater than permitted\n",
      "ERROR!!!!!!\n",
      "Explicit valence for atom # 2 Br, 2, is greater than permitted\n"
     ]
    },
    {
     "name": "stderr",
     "output_type": "stream",
     "text": [
      "[16:48:17] Explicit valence for atom # 1 Br, 2, is greater than permitted\n",
      "[16:48:17] Explicit valence for atom # 1 Br, 2, is greater than permitted\n",
      "[16:48:17] Explicit valence for atom # 2 Cl, 2, is greater than permitted\n",
      "[16:48:17] Explicit valence for atom # 2 Cl, 2, is greater than permitted\n",
      "[16:48:17] Explicit valence for atom # 2 I, 8, is greater than permitted\n",
      "[16:48:17] Explicit valence for atom # 2 I, 8, is greater than permitted\n"
     ]
    },
    {
     "name": "stdout",
     "output_type": "stream",
     "text": [
      "ERROR!!!!!!\n",
      "Explicit valence for atom # 1 Br, 2, is greater than permitted\n",
      "ERROR!!!!!!\n",
      "Explicit valence for atom # 2 Cl, 2, is greater than permitted\n",
      "ERROR!!!!!!\n",
      "Explicit valence for atom # 2 I, 8, is greater than permitted\n"
     ]
    },
    {
     "name": "stderr",
     "output_type": "stream",
     "text": [
      "[16:48:17] Explicit valence for atom # 3 Br, 2, is greater than permitted\n",
      "[16:48:17] Explicit valence for atom # 3 Br, 2, is greater than permitted\n",
      "[16:48:17] Explicit valence for atom # 1 Cl, 2, is greater than permitted\n",
      "[16:48:17] Explicit valence for atom # 1 Cl, 2, is greater than permitted\n",
      "[16:48:17] non-ring atom 4 marked aromatic\n",
      "[16:48:17] non-ring atom 4 marked aromatic\n"
     ]
    },
    {
     "name": "stdout",
     "output_type": "stream",
     "text": [
      "ERROR!!!!!!\n",
      "Explicit valence for atom # 3 Br, 2, is greater than permitted\n",
      "ERROR!!!!!!\n",
      "Explicit valence for atom # 1 Cl, 2, is greater than permitted\n",
      "ERROR!!!!!!\n",
      "non-ring atom 4 marked aromatic\n"
     ]
    },
    {
     "name": "stderr",
     "output_type": "stream",
     "text": [
      "[16:48:17] Explicit valence for atom # 6 O, 3, is greater than permitted\n",
      "[16:48:17] Explicit valence for atom # 6 O, 3, is greater than permitted\n"
     ]
    },
    {
     "name": "stdout",
     "output_type": "stream",
     "text": [
      "ERROR!!!!!!\n",
      "Explicit valence for atom # 6 O, 3, is greater than permitted\n"
     ]
    },
    {
     "name": "stderr",
     "output_type": "stream",
     "text": [
      "[16:48:18] Explicit valence for atom # 1 N, 7, is greater than permitted\n",
      "[16:48:18] Explicit valence for atom # 1 N, 7, is greater than permitted\n",
      "[16:48:18] Explicit valence for atom # 1 Cl, 4, is greater than permitted\n",
      "[16:48:18] Explicit valence for atom # 1 Cl, 4, is greater than permitted\n"
     ]
    },
    {
     "name": "stdout",
     "output_type": "stream",
     "text": [
      "ERROR!!!!!!\n",
      "Explicit valence for atom # 1 N, 7, is greater than permitted\n",
      "ERROR!!!!!!\n",
      "Explicit valence for atom # 1 Cl, 4, is greater than permitted\n"
     ]
    },
    {
     "name": "stderr",
     "output_type": "stream",
     "text": [
      "[16:48:18] Explicit valence for atom # 1 Br, 2, is greater than permitted\n",
      "[16:48:18] Explicit valence for atom # 1 Br, 2, is greater than permitted\n",
      "[16:48:18] Explicit valence for atom # 5 O, 3, is greater than permitted\n",
      "[16:48:18] Explicit valence for atom # 5 O, 3, is greater than permitted\n",
      "[16:48:18] Explicit valence for atom # 1 N, 4, is greater than permitted\n",
      "[16:48:18] Explicit valence for atom # 1 N, 4, is greater than permitted\n"
     ]
    },
    {
     "name": "stdout",
     "output_type": "stream",
     "text": [
      "ERROR!!!!!!\n",
      "Explicit valence for atom # 1 Br, 2, is greater than permitted\n",
      "ERROR!!!!!!\n",
      "Explicit valence for atom # 5 O, 3, is greater than permitted\n",
      "ERROR!!!!!!\n",
      "Explicit valence for atom # 1 N, 4, is greater than permitted\n"
     ]
    },
    {
     "name": "stderr",
     "output_type": "stream",
     "text": [
      "[16:48:18] Explicit valence for atom # 2 Si, 9, is greater than permitted\n",
      "[16:48:18] Explicit valence for atom # 2 Si, 9, is greater than permitted\n",
      "[16:48:18] Explicit valence for atom # 3 Br, 2, is greater than permitted\n",
      "[16:48:18] Explicit valence for atom # 3 Br, 2, is greater than permitted\n"
     ]
    },
    {
     "name": "stdout",
     "output_type": "stream",
     "text": [
      "ERROR!!!!!!\n",
      "Explicit valence for atom # 2 Si, 9, is greater than permitted\n",
      "ERROR!!!!!!\n",
      "Explicit valence for atom # 3 Br, 2, is greater than permitted\n",
      "Molecule: Atoms(symbols='C3H13BrClFN2SSi', pbc=False)\n"
     ]
    },
    {
     "name": "stderr",
     "output_type": "stream",
     "text": [
      "[16:48:19] Explicit valence for atom # 0 Br, 16, is greater than permitted\n",
      "[16:48:19] Explicit valence for atom # 0 Br, 16, is greater than permitted\n",
      "[16:48:19] Explicit valence for atom # 3 O, 3, is greater than permitted\n",
      "[16:48:19] Explicit valence for atom # 3 O, 3, is greater than permitted\n",
      "[16:48:19] Explicit valence for atom # 1 Br, 2, is greater than permitted\n",
      "[16:48:19] Explicit valence for atom # 1 Br, 2, is greater than permitted\n"
     ]
    },
    {
     "name": "stdout",
     "output_type": "stream",
     "text": [
      "ERROR!!!!!!\n",
      "Explicit valence for atom # 0 Br, 16, is greater than permitted\n",
      "ERROR!!!!!!\n",
      "Explicit valence for atom # 3 O, 3, is greater than permitted\n",
      "ERROR!!!!!!\n",
      "Explicit valence for atom # 1 Br, 2, is greater than permitted\n"
     ]
    },
    {
     "name": "stderr",
     "output_type": "stream",
     "text": [
      "[16:48:19] Explicit valence for atom # 0 O, 3, is greater than permitted\n",
      "[16:48:19] Explicit valence for atom # 0 O, 3, is greater than permitted\n",
      "[16:48:19] Explicit valence for atom # 2 F, 4, is greater than permitted\n",
      "[16:48:19] Explicit valence for atom # 2 F, 4, is greater than permitted\n",
      "[16:48:19] Explicit valence for atom # 4 Cl, 3, is greater than permitted\n",
      "[16:48:19] Explicit valence for atom # 4 Cl, 3, is greater than permitted\n"
     ]
    },
    {
     "name": "stdout",
     "output_type": "stream",
     "text": [
      "ERROR!!!!!!\n",
      "Explicit valence for atom # 0 O, 3, is greater than permitted\n",
      "ERROR!!!!!!\n",
      "Explicit valence for atom # 2 F, 4, is greater than permitted\n",
      "ERROR!!!!!!\n",
      "Explicit valence for atom # 4 Cl, 3, is greater than permitted\n"
     ]
    },
    {
     "name": "stderr",
     "output_type": "stream",
     "text": [
      "[16:48:19] Explicit valence for atom # 3 F, 2, is greater than permitted\n",
      "[16:48:19] Explicit valence for atom # 3 F, 2, is greater than permitted\n",
      "[16:48:19] Explicit valence for atom # 6 O, 6, is greater than permitted\n",
      "[16:48:19] Explicit valence for atom # 6 O, 6, is greater than permitted\n"
     ]
    },
    {
     "name": "stdout",
     "output_type": "stream",
     "text": [
      "ERROR!!!!!!\n",
      "Explicit valence for atom # 3 F, 2, is greater than permitted\n",
      "ERROR!!!!!!\n",
      "Explicit valence for atom # 6 O, 6, is greater than permitted\n"
     ]
    },
    {
     "name": "stderr",
     "output_type": "stream",
     "text": [
      "[16:48:19] Explicit valence for atom # 2 Cl, 6, is greater than permitted\n",
      "[16:48:19] Explicit valence for atom # 2 Cl, 6, is greater than permitted\n",
      "[16:48:20] Explicit valence for atom # 1 Br, 2, is greater than permitted\n",
      "[16:48:20] Explicit valence for atom # 1 Br, 2, is greater than permitted\n"
     ]
    },
    {
     "name": "stdout",
     "output_type": "stream",
     "text": [
      "ERROR!!!!!!\n",
      "Explicit valence for atom # 2 Cl, 6, is greater than permitted\n",
      "ERROR!!!!!!\n",
      "Explicit valence for atom # 1 Br, 2, is greater than permitted\n"
     ]
    },
    {
     "name": "stderr",
     "output_type": "stream",
     "text": [
      "[16:48:20] Explicit valence for atom # 1 Cl, 5, is greater than permitted\n",
      "[16:48:20] Explicit valence for atom # 1 Cl, 5, is greater than permitted\n",
      "[16:48:20] Explicit valence for atom # 0 F, 5, is greater than permitted\n",
      "[16:48:20] Explicit valence for atom # 0 F, 5, is greater than permitted\n"
     ]
    },
    {
     "name": "stdout",
     "output_type": "stream",
     "text": [
      "ERROR!!!!!!\n",
      "Explicit valence for atom # 1 Cl, 5, is greater than permitted\n",
      "ERROR!!!!!!\n",
      "Explicit valence for atom # 0 F, 5, is greater than permitted\n"
     ]
    },
    {
     "name": "stderr",
     "output_type": "stream",
     "text": [
      "[16:48:20] Explicit valence for atom # 0 O, 3, is greater than permitted\n",
      "[16:48:20] Explicit valence for atom # 0 O, 3, is greater than permitted\n",
      "[16:48:20] Explicit valence for atom # 1 Br, 2, is greater than permitted\n",
      "[16:48:20] Explicit valence for atom # 1 Br, 2, is greater than permitted\n"
     ]
    },
    {
     "name": "stdout",
     "output_type": "stream",
     "text": [
      "ERROR!!!!!!\n",
      "Explicit valence for atom # 0 O, 3, is greater than permitted\n",
      "ERROR!!!!!!\n",
      "Explicit valence for atom # 1 Br, 2, is greater than permitted\n"
     ]
    },
    {
     "name": "stderr",
     "output_type": "stream",
     "text": [
      "[16:48:20] Explicit valence for atom # 1 F, 2, is greater than permitted\n",
      "[16:48:20] Explicit valence for atom # 1 F, 2, is greater than permitted\n"
     ]
    },
    {
     "name": "stdout",
     "output_type": "stream",
     "text": [
      "ERROR!!!!!!\n",
      "Explicit valence for atom # 1 F, 2, is greater than permitted\n",
      "Molecule: Atoms(symbols='H14BrClIO2P3S2Si2', pbc=False)\n"
     ]
    },
    {
     "name": "stderr",
     "output_type": "stream",
     "text": [
      "[16:48:21] Explicit valence for atom # 2 O, 5, is greater than permitted\n",
      "[16:48:21] Explicit valence for atom # 2 O, 5, is greater than permitted\n",
      "[16:48:21] Explicit valence for atom # 2 Cl, 2, is greater than permitted\n",
      "[16:48:21] Explicit valence for atom # 2 Cl, 2, is greater than permitted\n",
      "[16:48:21] Explicit valence for atom # 3 Cl, 3, is greater than permitted\n",
      "[16:48:21] Explicit valence for atom # 3 Cl, 3, is greater than permitted\n"
     ]
    },
    {
     "name": "stdout",
     "output_type": "stream",
     "text": [
      "ERROR!!!!!!\n",
      "Explicit valence for atom # 2 O, 5, is greater than permitted\n",
      "ERROR!!!!!!\n",
      "Explicit valence for atom # 2 Cl, 2, is greater than permitted\n",
      "ERROR!!!!!!\n",
      "Explicit valence for atom # 3 Cl, 3, is greater than permitted\n"
     ]
    },
    {
     "name": "stderr",
     "output_type": "stream",
     "text": [
      "[16:48:21] Explicit valence for atom # 1 F, 2, is greater than permitted\n",
      "[16:48:21] Explicit valence for atom # 1 F, 2, is greater than permitted\n"
     ]
    },
    {
     "name": "stdout",
     "output_type": "stream",
     "text": [
      "ERROR!!!!!!\n",
      "Explicit valence for atom # 1 F, 2, is greater than permitted\n"
     ]
    },
    {
     "name": "stderr",
     "output_type": "stream",
     "text": [
      "[16:48:21] Explicit valence for atom # 1 Br, 2, is greater than permitted\n",
      "[16:48:21] Explicit valence for atom # 1 Br, 2, is greater than permitted\n",
      "[16:48:21] Explicit valence for atom # 0 F, 2, is greater than permitted\n",
      "[16:48:21] Explicit valence for atom # 0 F, 2, is greater than permitted\n"
     ]
    },
    {
     "name": "stdout",
     "output_type": "stream",
     "text": [
      "ERROR!!!!!!\n",
      "Explicit valence for atom # 1 Br, 2, is greater than permitted\n",
      "ERROR!!!!!!\n",
      "Explicit valence for atom # 0 F, 2, is greater than permitted\n"
     ]
    },
    {
     "name": "stderr",
     "output_type": "stream",
     "text": [
      "[16:48:21] Explicit valence for atom # 1 Cl, 2, is greater than permitted\n",
      "[16:48:21] Explicit valence for atom # 1 Cl, 2, is greater than permitted\n",
      "[16:48:21] Explicit valence for atom # 4 N, 7, is greater than permitted\n",
      "[16:48:21] Explicit valence for atom # 4 N, 7, is greater than permitted\n",
      "[16:48:22] Explicit valence for atom # 1 Cl, 2, is greater than permitted\n",
      "[16:48:22] Explicit valence for atom # 1 Cl, 2, is greater than permitted\n"
     ]
    },
    {
     "name": "stdout",
     "output_type": "stream",
     "text": [
      "ERROR!!!!!!\n",
      "Explicit valence for atom # 1 Cl, 2, is greater than permitted\n",
      "ERROR!!!!!!\n",
      "Explicit valence for atom # 4 N, 7, is greater than permitted\n",
      "ERROR!!!!!!\n",
      "Explicit valence for atom # 1 Cl, 2, is greater than permitted\n"
     ]
    },
    {
     "name": "stderr",
     "output_type": "stream",
     "text": [
      "[16:48:22] Explicit valence for atom # 1 F, 2, is greater than permitted\n",
      "[16:48:22] Explicit valence for atom # 1 F, 2, is greater than permitted\n",
      "[16:48:22] Explicit valence for atom # 1 O, 3, is greater than permitted\n",
      "[16:48:22] Explicit valence for atom # 1 O, 3, is greater than permitted\n",
      "[16:48:22] Explicit valence for atom # 1 Br, 2, is greater than permitted\n",
      "[16:48:22] Explicit valence for atom # 1 Br, 2, is greater than permitted\n"
     ]
    },
    {
     "name": "stdout",
     "output_type": "stream",
     "text": [
      "ERROR!!!!!!\n",
      "Explicit valence for atom # 1 F, 2, is greater than permitted\n",
      "ERROR!!!!!!\n",
      "Explicit valence for atom # 1 O, 3, is greater than permitted\n",
      "ERROR!!!!!!\n",
      "Explicit valence for atom # 1 Br, 2, is greater than permitted\n"
     ]
    },
    {
     "name": "stderr",
     "output_type": "stream",
     "text": [
      "[16:48:22] Explicit valence for atom # 4 F, 2, is greater than permitted\n",
      "[16:48:22] Explicit valence for atom # 4 F, 2, is greater than permitted\n"
     ]
    },
    {
     "name": "stdout",
     "output_type": "stream",
     "text": [
      "ERROR!!!!!!\n",
      "Explicit valence for atom # 4 F, 2, is greater than permitted\n",
      "Molecule: Atoms(symbols='C3H15N2PSSi', pbc=False)\n"
     ]
    },
    {
     "name": "stderr",
     "output_type": "stream",
     "text": [
      "[16:48:22] Explicit valence for atom # 1 F, 2, is greater than permitted\n",
      "[16:48:22] Explicit valence for atom # 1 F, 2, is greater than permitted\n",
      "[16:48:22] Explicit valence for atom # 3 Br, 2, is greater than permitted\n",
      "[16:48:22] Explicit valence for atom # 3 Br, 2, is greater than permitted\n",
      "[16:48:22] Explicit valence for atom # 0 O, 3, is greater than permitted\n",
      "[16:48:22] Explicit valence for atom # 0 O, 3, is greater than permitted\n"
     ]
    },
    {
     "name": "stdout",
     "output_type": "stream",
     "text": [
      "ERROR!!!!!!\n",
      "Explicit valence for atom # 1 F, 2, is greater than permitted\n",
      "ERROR!!!!!!\n",
      "Explicit valence for atom # 3 Br, 2, is greater than permitted\n",
      "ERROR!!!!!!\n",
      "Explicit valence for atom # 0 O, 3, is greater than permitted\n"
     ]
    },
    {
     "name": "stderr",
     "output_type": "stream",
     "text": [
      "[16:48:22] Explicit valence for atom # 5 Br, 2, is greater than permitted\n",
      "[16:48:22] Explicit valence for atom # 5 Br, 2, is greater than permitted\n",
      "[16:48:23] Explicit valence for atom # 1 Cl, 2, is greater than permitted\n",
      "[16:48:23] Explicit valence for atom # 1 Cl, 2, is greater than permitted\n"
     ]
    },
    {
     "name": "stdout",
     "output_type": "stream",
     "text": [
      "ERROR!!!!!!\n",
      "Explicit valence for atom # 5 Br, 2, is greater than permitted\n",
      "ERROR!!!!!!\n",
      "Explicit valence for atom # 1 Cl, 2, is greater than permitted\n"
     ]
    },
    {
     "name": "stderr",
     "output_type": "stream",
     "text": [
      "[16:48:23] Explicit valence for atom # 1 F, 3, is greater than permitted\n",
      "[16:48:23] Explicit valence for atom # 1 F, 3, is greater than permitted\n",
      "[16:48:23] Explicit valence for atom # 1 Cl, 2, is greater than permitted\n",
      "[16:48:23] Explicit valence for atom # 1 Cl, 2, is greater than permitted\n",
      "[16:48:23] Explicit valence for atom # 1 Br, 2, is greater than permitted\n",
      "[16:48:23] Explicit valence for atom # 1 Br, 2, is greater than permitted\n"
     ]
    },
    {
     "name": "stdout",
     "output_type": "stream",
     "text": [
      "ERROR!!!!!!\n",
      "Explicit valence for atom # 1 F, 3, is greater than permitted\n",
      "ERROR!!!!!!\n",
      "Explicit valence for atom # 1 Cl, 2, is greater than permitted\n",
      "ERROR!!!!!!\n",
      "Explicit valence for atom # 1 Br, 2, is greater than permitted\n"
     ]
    },
    {
     "name": "stderr",
     "output_type": "stream",
     "text": [
      "[16:48:23] Explicit valence for atom # 1 Cl, 5, is greater than permitted\n",
      "[16:48:23] Explicit valence for atom # 1 Cl, 5, is greater than permitted\n",
      "[16:48:23] Explicit valence for atom # 4 Cl, 2, is greater than permitted\n",
      "[16:48:23] Explicit valence for atom # 4 Cl, 2, is greater than permitted\n"
     ]
    },
    {
     "name": "stdout",
     "output_type": "stream",
     "text": [
      "ERROR!!!!!!\n",
      "Explicit valence for atom # 1 Cl, 5, is greater than permitted\n",
      "ERROR!!!!!!\n",
      "Explicit valence for atom # 4 Cl, 2, is greater than permitted\n",
      "Molecule: Atoms(symbols='C3H11FI2O2Si', pbc=False)\n",
      "Molecule: Atoms(symbols='CH5Br2N', pbc=False)\n",
      "ERROR!!!!!!\n",
      "Explicit valence for atom # 3 F, 2, is greater than permitted\n",
      "ERROR!!!!!!\n",
      "Explicit valence for atom # 12 F, 2, is greater than permitted\n"
     ]
    },
    {
     "name": "stderr",
     "output_type": "stream",
     "text": [
      "[16:48:23] Explicit valence for atom # 3 F, 2, is greater than permitted\n",
      "[16:48:23] Explicit valence for atom # 3 F, 2, is greater than permitted\n",
      "[16:48:24] Explicit valence for atom # 12 F, 2, is greater than permitted\n",
      "[16:48:24] Explicit valence for atom # 12 F, 2, is greater than permitted\n",
      "[16:48:24] Explicit valence for atom # 8 O, 4, is greater than permitted\n",
      "[16:48:24] Explicit valence for atom # 8 O, 4, is greater than permitted\n"
     ]
    },
    {
     "name": "stdout",
     "output_type": "stream",
     "text": [
      "ERROR!!!!!!\n",
      "Explicit valence for atom # 8 O, 4, is greater than permitted\n",
      "ERROR!!!!!!\n",
      "Explicit valence for atom # 0 O, 4, is greater than permitted\n"
     ]
    },
    {
     "name": "stderr",
     "output_type": "stream",
     "text": [
      "[16:48:24] Explicit valence for atom # 0 O, 4, is greater than permitted\n",
      "[16:48:24] Explicit valence for atom # 0 O, 4, is greater than permitted\n"
     ]
    },
    {
     "name": "stdout",
     "output_type": "stream",
     "text": [
      "Molecule: Atoms(symbols='C5H18FN2P', pbc=False)\n"
     ]
    },
    {
     "name": "stderr",
     "output_type": "stream",
     "text": [
      "[16:48:24] Explicit valence for atom # 4 Cl, 3, is greater than permitted\n",
      "[16:48:24] Explicit valence for atom # 4 Cl, 3, is greater than permitted\n",
      "[16:48:24] Explicit valence for atom # 5 C, 5, is greater than permitted\n",
      "[16:48:24] Explicit valence for atom # 5 C, 5, is greater than permitted\n",
      "[16:48:24] Explicit valence for atom # 2 Si, 10, is greater than permitted\n",
      "[16:48:24] Explicit valence for atom # 2 Si, 10, is greater than permitted\n"
     ]
    },
    {
     "name": "stdout",
     "output_type": "stream",
     "text": [
      "ERROR!!!!!!\n",
      "Explicit valence for atom # 4 Cl, 3, is greater than permitted\n",
      "ERROR!!!!!!\n",
      "Explicit valence for atom # 5 C, 5, is greater than permitted\n",
      "ERROR!!!!!!\n",
      "Explicit valence for atom # 2 Si, 10, is greater than permitted\n"
     ]
    },
    {
     "name": "stderr",
     "output_type": "stream",
     "text": [
      "[16:48:25] Explicit valence for atom # 3 Br, 2, is greater than permitted\n",
      "[16:48:25] Explicit valence for atom # 3 Br, 2, is greater than permitted\n"
     ]
    },
    {
     "name": "stdout",
     "output_type": "stream",
     "text": [
      "ERROR!!!!!!\n",
      "Explicit valence for atom # 3 Br, 2, is greater than permitted\n"
     ]
    },
    {
     "name": "stderr",
     "output_type": "stream",
     "text": [
      "[16:48:25] Explicit valence for atom # 1 Cl, 2, is greater than permitted\n",
      "[16:48:25] Explicit valence for atom # 1 Cl, 2, is greater than permitted\n",
      "[16:48:25] Explicit valence for atom # 3 Br, 2, is greater than permitted\n",
      "[16:48:25] Explicit valence for atom # 3 Br, 2, is greater than permitted\n"
     ]
    },
    {
     "name": "stdout",
     "output_type": "stream",
     "text": [
      "ERROR!!!!!!\n",
      "Explicit valence for atom # 1 Cl, 2, is greater than permitted\n",
      "ERROR!!!!!!\n",
      "Explicit valence for atom # 3 Br, 2, is greater than permitted\n"
     ]
    },
    {
     "name": "stderr",
     "output_type": "stream",
     "text": [
      "[16:48:25] Explicit valence for atom # 2 F, 2, is greater than permitted\n",
      "[16:48:25] Explicit valence for atom # 2 F, 2, is greater than permitted\n",
      "[16:48:25] Explicit valence for atom # 1 Br, 3, is greater than permitted\n",
      "[16:48:25] Explicit valence for atom # 1 Br, 3, is greater than permitted\n"
     ]
    },
    {
     "name": "stdout",
     "output_type": "stream",
     "text": [
      "ERROR!!!!!!\n",
      "Explicit valence for atom # 2 F, 2, is greater than permitted\n",
      "ERROR!!!!!!\n",
      "Explicit valence for atom # 1 Br, 3, is greater than permitted\n"
     ]
    },
    {
     "name": "stderr",
     "output_type": "stream",
     "text": [
      "[16:48:25] Explicit valence for atom # 1 Cl, 2, is greater than permitted\n",
      "[16:48:25] Explicit valence for atom # 1 Cl, 2, is greater than permitted\n",
      "[16:48:25] Explicit valence for atom # 1 O, 6, is greater than permitted\n",
      "[16:48:25] Explicit valence for atom # 1 O, 6, is greater than permitted\n"
     ]
    },
    {
     "name": "stdout",
     "output_type": "stream",
     "text": [
      "ERROR!!!!!!\n",
      "Explicit valence for atom # 1 Cl, 2, is greater than permitted\n",
      "ERROR!!!!!!\n",
      "Explicit valence for atom # 1 O, 6, is greater than permitted\n"
     ]
    },
    {
     "name": "stderr",
     "output_type": "stream",
     "text": [
      "[16:48:26] Explicit valence for atom # 0 I, 8, is greater than permitted\n",
      "[16:48:26] Explicit valence for atom # 0 I, 8, is greater than permitted\n",
      "[16:48:26] Explicit valence for atom # 7 F, 2, is greater than permitted\n",
      "[16:48:26] Explicit valence for atom # 7 F, 2, is greater than permitted\n"
     ]
    },
    {
     "name": "stdout",
     "output_type": "stream",
     "text": [
      "ERROR!!!!!!\n",
      "Explicit valence for atom # 0 I, 8, is greater than permitted\n",
      "Molecule: Atoms(symbols='C3H13BrINOSi', pbc=False)\n",
      "ERROR!!!!!!\n",
      "Explicit valence for atom # 7 F, 2, is greater than permitted\n",
      "Molecule: Atoms(symbols='C3H16IN2O2PS3', pbc=False)\n",
      "ERROR!!!!!!\n",
      "Explicit valence for atom # 1 F, 2, is greater than permitted\n"
     ]
    },
    {
     "name": "stderr",
     "output_type": "stream",
     "text": [
      "[16:48:26] Explicit valence for atom # 1 F, 2, is greater than permitted\n",
      "[16:48:26] Explicit valence for atom # 1 F, 2, is greater than permitted\n",
      "[16:48:26] Explicit valence for atom # 4 Cl, 2, is greater than permitted\n",
      "[16:48:26] Explicit valence for atom # 4 Cl, 2, is greater than permitted\n"
     ]
    },
    {
     "name": "stdout",
     "output_type": "stream",
     "text": [
      "ERROR!!!!!!\n",
      "Explicit valence for atom # 4 Cl, 2, is greater than permitted\n",
      "Molecule: Atoms(symbols='C4H15BrClO2PS', pbc=False)\n"
     ]
    },
    {
     "name": "stderr",
     "output_type": "stream",
     "text": [
      "[16:48:26] Explicit valence for atom # 3 Cl, 3, is greater than permitted\n",
      "[16:48:26] Explicit valence for atom # 3 Cl, 3, is greater than permitted\n",
      "[16:48:27] Explicit valence for atom # 3 Cl, 2, is greater than permitted\n",
      "[16:48:27] Explicit valence for atom # 3 Cl, 2, is greater than permitted\n",
      "[16:48:27] Explicit valence for atom # 3 Br, 2, is greater than permitted\n",
      "[16:48:27] Explicit valence for atom # 3 Br, 2, is greater than permitted\n"
     ]
    },
    {
     "name": "stdout",
     "output_type": "stream",
     "text": [
      "ERROR!!!!!!\n",
      "Explicit valence for atom # 3 Cl, 3, is greater than permitted\n",
      "ERROR!!!!!!\n",
      "Explicit valence for atom # 3 Cl, 2, is greater than permitted\n",
      "ERROR!!!!!!\n",
      "Explicit valence for atom # 3 Br, 2, is greater than permitted\n"
     ]
    },
    {
     "name": "stderr",
     "output_type": "stream",
     "text": [
      "[16:48:27] Explicit valence for atom # 1 O, 5, is greater than permitted\n",
      "[16:48:27] Explicit valence for atom # 1 O, 5, is greater than permitted\n",
      "[16:48:27] Explicit valence for atom # 3 Cl, 6, is greater than permitted\n",
      "[16:48:27] Explicit valence for atom # 3 Cl, 6, is greater than permitted\n",
      "[16:48:27] Explicit valence for atom # 1 Br, 2, is greater than permitted\n",
      "[16:48:27] Explicit valence for atom # 1 Br, 2, is greater than permitted\n"
     ]
    },
    {
     "name": "stdout",
     "output_type": "stream",
     "text": [
      "ERROR!!!!!!\n",
      "Explicit valence for atom # 1 O, 5, is greater than permitted\n",
      "ERROR!!!!!!\n",
      "Explicit valence for atom # 3 Cl, 6, is greater than permitted\n",
      "ERROR!!!!!!\n",
      "Explicit valence for atom # 1 Br, 2, is greater than permitted\n"
     ]
    },
    {
     "name": "stderr",
     "output_type": "stream",
     "text": [
      "[16:48:27] Explicit valence for atom # 6 Cl, 2, is greater than permitted\n",
      "[16:48:27] Explicit valence for atom # 6 Cl, 2, is greater than permitted\n",
      "[16:48:27] Explicit valence for atom # 3 F, 5, is greater than permitted\n",
      "[16:48:27] Explicit valence for atom # 3 F, 5, is greater than permitted\n",
      "[16:48:27] Explicit valence for atom # 2 S, 8, is greater than permitted\n",
      "[16:48:27] Explicit valence for atom # 2 S, 8, is greater than permitted\n"
     ]
    },
    {
     "name": "stdout",
     "output_type": "stream",
     "text": [
      "ERROR!!!!!!\n",
      "Explicit valence for atom # 6 Cl, 2, is greater than permitted\n",
      "ERROR!!!!!!\n",
      "Explicit valence for atom # 3 F, 5, is greater than permitted\n",
      "ERROR!!!!!!\n",
      "Explicit valence for atom # 2 S, 8, is greater than permitted\n"
     ]
    },
    {
     "name": "stderr",
     "output_type": "stream",
     "text": [
      "[16:48:27] Explicit valence for atom # 1 Br, 4, is greater than permitted\n",
      "[16:48:27] Explicit valence for atom # 1 Br, 4, is greater than permitted\n",
      "[16:48:28] Explicit valence for atom # 10 O, 3, is greater than permitted\n",
      "[16:48:28] Explicit valence for atom # 10 O, 3, is greater than permitted\n",
      "[16:48:28] Explicit valence for atom # 1 Br, 2, is greater than permitted\n",
      "[16:48:28] Explicit valence for atom # 1 Br, 2, is greater than permitted\n"
     ]
    },
    {
     "name": "stdout",
     "output_type": "stream",
     "text": [
      "ERROR!!!!!!\n",
      "Explicit valence for atom # 1 Br, 4, is greater than permitted\n",
      "ERROR!!!!!!\n",
      "Explicit valence for atom # 10 O, 3, is greater than permitted\n",
      "ERROR!!!!!!\n",
      "Explicit valence for atom # 1 Br, 2, is greater than permitted\n"
     ]
    },
    {
     "name": "stderr",
     "output_type": "stream",
     "text": [
      "[16:48:28] Explicit valence for atom # 1 Cl, 2, is greater than permitted\n",
      "[16:48:28] Explicit valence for atom # 1 Cl, 2, is greater than permitted\n",
      "[16:48:28] Explicit valence for atom # 1 Br, 2, is greater than permitted\n",
      "[16:48:28] Explicit valence for atom # 1 Br, 2, is greater than permitted\n",
      "[16:48:28] Explicit valence for atom # 9 Cl, 2, is greater than permitted\n",
      "[16:48:28] Explicit valence for atom # 9 Cl, 2, is greater than permitted\n"
     ]
    },
    {
     "name": "stdout",
     "output_type": "stream",
     "text": [
      "ERROR!!!!!!\n",
      "Explicit valence for atom # 1 Cl, 2, is greater than permitted\n",
      "ERROR!!!!!!\n",
      "Explicit valence for atom # 1 Br, 2, is greater than permitted\n",
      "ERROR!!!!!!\n",
      "Explicit valence for atom # 9 Cl, 2, is greater than permitted\n"
     ]
    },
    {
     "name": "stderr",
     "output_type": "stream",
     "text": [
      "[16:48:28] Explicit valence for atom # 6 F, 2, is greater than permitted\n",
      "[16:48:28] Explicit valence for atom # 6 F, 2, is greater than permitted\n",
      "[16:48:28] Explicit valence for atom # 1 F, 2, is greater than permitted\n",
      "[16:48:28] Explicit valence for atom # 1 F, 2, is greater than permitted\n",
      "[16:48:28] Explicit valence for atom # 5 F, 3, is greater than permitted\n",
      "[16:48:28] Explicit valence for atom # 5 F, 3, is greater than permitted\n"
     ]
    },
    {
     "name": "stdout",
     "output_type": "stream",
     "text": [
      "ERROR!!!!!!\n",
      "Explicit valence for atom # 6 F, 2, is greater than permitted\n",
      "ERROR!!!!!!\n",
      "Explicit valence for atom # 1 F, 2, is greater than permitted\n",
      "ERROR!!!!!!\n",
      "Explicit valence for atom # 5 F, 3, is greater than permitted\n"
     ]
    },
    {
     "name": "stderr",
     "output_type": "stream",
     "text": [
      "[16:48:28] Explicit valence for atom # 1 O, 6, is greater than permitted\n",
      "[16:48:28] Explicit valence for atom # 1 O, 6, is greater than permitted\n",
      "[16:48:28] Explicit valence for atom # 3 F, 2, is greater than permitted\n",
      "[16:48:28] Explicit valence for atom # 3 F, 2, is greater than permitted\n",
      "[16:48:29] Explicit valence for atom # 3 N, 4, is greater than permitted\n",
      "[16:48:29] Explicit valence for atom # 3 N, 4, is greater than permitted\n"
     ]
    },
    {
     "name": "stdout",
     "output_type": "stream",
     "text": [
      "ERROR!!!!!!\n",
      "Explicit valence for atom # 1 O, 6, is greater than permitted\n",
      "ERROR!!!!!!\n",
      "Explicit valence for atom # 3 F, 2, is greater than permitted\n",
      "ERROR!!!!!!\n",
      "Explicit valence for atom # 3 N, 4, is greater than permitted\n"
     ]
    },
    {
     "name": "stderr",
     "output_type": "stream",
     "text": [
      "[16:48:29] Explicit valence for atom # 1 Cl, 5, is greater than permitted\n",
      "[16:48:29] Explicit valence for atom # 1 Cl, 5, is greater than permitted\n",
      "[16:48:29] Explicit valence for atom # 6 F, 2, is greater than permitted\n",
      "[16:48:29] Explicit valence for atom # 6 F, 2, is greater than permitted\n",
      "[16:48:29] Explicit valence for atom # 1 F, 2, is greater than permitted\n",
      "[16:48:29] Explicit valence for atom # 1 F, 2, is greater than permitted\n"
     ]
    },
    {
     "name": "stdout",
     "output_type": "stream",
     "text": [
      "ERROR!!!!!!\n",
      "Explicit valence for atom # 1 Cl, 5, is greater than permitted\n",
      "ERROR!!!!!!\n",
      "Explicit valence for atom # 6 F, 2, is greater than permitted\n",
      "ERROR!!!!!!\n",
      "Explicit valence for atom # 1 F, 2, is greater than permitted\n"
     ]
    },
    {
     "name": "stderr",
     "output_type": "stream",
     "text": [
      "[16:48:29] Explicit valence for atom # 7 Br, 2, is greater than permitted\n",
      "[16:48:29] Explicit valence for atom # 7 Br, 2, is greater than permitted\n",
      "[16:48:29] Explicit valence for atom # 1 O, 5, is greater than permitted\n",
      "[16:48:29] Explicit valence for atom # 1 O, 5, is greater than permitted\n",
      "[16:48:29] Explicit valence for atom # 2 Br, 5, is greater than permitted\n",
      "[16:48:29] Explicit valence for atom # 2 Br, 5, is greater than permitted\n"
     ]
    },
    {
     "name": "stdout",
     "output_type": "stream",
     "text": [
      "ERROR!!!!!!\n",
      "Explicit valence for atom # 7 Br, 2, is greater than permitted\n",
      "ERROR!!!!!!\n",
      "Explicit valence for atom # 1 O, 5, is greater than permitted\n",
      "ERROR!!!!!!\n",
      "Explicit valence for atom # 2 Br, 5, is greater than permitted\n"
     ]
    },
    {
     "name": "stderr",
     "output_type": "stream",
     "text": [
      "[16:48:29] Explicit valence for atom # 5 F, 2, is greater than permitted\n",
      "[16:48:29] Explicit valence for atom # 5 F, 2, is greater than permitted\n",
      "[16:48:29] Explicit valence for atom # 5 O, 5, is greater than permitted\n",
      "[16:48:29] Explicit valence for atom # 5 O, 5, is greater than permitted\n"
     ]
    },
    {
     "name": "stdout",
     "output_type": "stream",
     "text": [
      "ERROR!!!!!!\n",
      "Explicit valence for atom # 5 F, 2, is greater than permitted\n",
      "ERROR!!!!!!\n",
      "Explicit valence for atom # 5 O, 5, is greater than permitted\n"
     ]
    },
    {
     "name": "stderr",
     "output_type": "stream",
     "text": [
      "[16:48:30] Explicit valence for atom # 7 Cl, 3, is greater than permitted\n",
      "[16:48:30] Explicit valence for atom # 7 Cl, 3, is greater than permitted\n",
      "[16:48:30] Explicit valence for atom # 11 O, 5, is greater than permitted\n",
      "[16:48:30] Explicit valence for atom # 11 O, 5, is greater than permitted\n"
     ]
    },
    {
     "name": "stdout",
     "output_type": "stream",
     "text": [
      "ERROR!!!!!!\n",
      "Explicit valence for atom # 7 Cl, 3, is greater than permitted\n",
      "ERROR!!!!!!\n",
      "Explicit valence for atom # 11 O, 5, is greater than permitted\n"
     ]
    },
    {
     "name": "stderr",
     "output_type": "stream",
     "text": [
      "[16:48:30] Explicit valence for atom # 3 O, 5, is greater than permitted\n",
      "[16:48:30] Explicit valence for atom # 3 O, 5, is greater than permitted\n",
      "[16:48:30] Explicit valence for atom # 1 F, 3, is greater than permitted\n",
      "[16:48:30] Explicit valence for atom # 1 F, 3, is greater than permitted\n",
      "[16:48:30] Explicit valence for atom # 10 F, 2, is greater than permitted\n",
      "[16:48:30] Explicit valence for atom # 10 F, 2, is greater than permitted\n"
     ]
    },
    {
     "name": "stdout",
     "output_type": "stream",
     "text": [
      "ERROR!!!!!!\n",
      "Explicit valence for atom # 3 O, 5, is greater than permitted\n",
      "ERROR!!!!!!\n",
      "Explicit valence for atom # 1 F, 3, is greater than permitted\n",
      "ERROR!!!!!!\n",
      "Explicit valence for atom # 10 F, 2, is greater than permitted\n"
     ]
    },
    {
     "name": "stderr",
     "output_type": "stream",
     "text": [
      "[16:48:30] Explicit valence for atom # 4 F, 2, is greater than permitted\n",
      "[16:48:30] Explicit valence for atom # 4 F, 2, is greater than permitted\n",
      "[16:48:30] Explicit valence for atom # 8 F, 2, is greater than permitted\n",
      "[16:48:30] Explicit valence for atom # 8 F, 2, is greater than permitted\n",
      "[16:48:30] Explicit valence for atom # 3 Br, 2, is greater than permitted\n",
      "[16:48:30] Explicit valence for atom # 3 Br, 2, is greater than permitted\n"
     ]
    },
    {
     "name": "stdout",
     "output_type": "stream",
     "text": [
      "ERROR!!!!!!\n",
      "Explicit valence for atom # 4 F, 2, is greater than permitted\n",
      "ERROR!!!!!!\n",
      "Explicit valence for atom # 8 F, 2, is greater than permitted\n",
      "ERROR!!!!!!\n",
      "Explicit valence for atom # 3 Br, 2, is greater than permitted\n"
     ]
    },
    {
     "name": "stderr",
     "output_type": "stream",
     "text": [
      "[16:48:31] Explicit valence for atom # 2 O, 4, is greater than permitted\n",
      "[16:48:31] Explicit valence for atom # 2 O, 4, is greater than permitted\n",
      "[16:48:31] Explicit valence for atom # 1 F, 2, is greater than permitted\n",
      "[16:48:31] Explicit valence for atom # 1 F, 2, is greater than permitted\n",
      "[16:48:31] Explicit valence for atom # 4 F, 2, is greater than permitted\n",
      "[16:48:31] Explicit valence for atom # 4 F, 2, is greater than permitted\n"
     ]
    },
    {
     "name": "stdout",
     "output_type": "stream",
     "text": [
      "ERROR!!!!!!\n",
      "Explicit valence for atom # 2 O, 4, is greater than permitted\n",
      "ERROR!!!!!!\n",
      "Explicit valence for atom # 1 F, 2, is greater than permitted\n",
      "ERROR!!!!!!\n",
      "Explicit valence for atom # 4 F, 2, is greater than permitted\n"
     ]
    },
    {
     "name": "stderr",
     "output_type": "stream",
     "text": [
      "[16:48:31] Explicit valence for atom # 6 O, 7, is greater than permitted\n",
      "[16:48:31] Explicit valence for atom # 6 O, 7, is greater than permitted\n",
      "[16:48:31] Explicit valence for atom # 4 Cl, 2, is greater than permitted\n",
      "[16:48:31] Explicit valence for atom # 4 Cl, 2, is greater than permitted\n",
      "[16:48:31] Explicit valence for atom # 2 F, 4, is greater than permitted\n",
      "[16:48:31] Explicit valence for atom # 2 F, 4, is greater than permitted\n"
     ]
    },
    {
     "name": "stdout",
     "output_type": "stream",
     "text": [
      "ERROR!!!!!!\n",
      "Explicit valence for atom # 6 O, 7, is greater than permitted\n",
      "ERROR!!!!!!\n",
      "Explicit valence for atom # 4 Cl, 2, is greater than permitted\n",
      "ERROR!!!!!!\n",
      "Explicit valence for atom # 2 F, 4, is greater than permitted\n"
     ]
    },
    {
     "name": "stderr",
     "output_type": "stream",
     "text": [
      "[16:48:31] Explicit valence for atom # 0 F, 5, is greater than permitted\n",
      "[16:48:31] Explicit valence for atom # 0 F, 5, is greater than permitted\n",
      "[16:48:31] Explicit valence for atom # 0 O, 11, is greater than permitted\n",
      "[16:48:31] Explicit valence for atom # 0 O, 11, is greater than permitted\n"
     ]
    },
    {
     "name": "stdout",
     "output_type": "stream",
     "text": [
      "ERROR!!!!!!\n",
      "Explicit valence for atom # 0 F, 5, is greater than permitted\n",
      "ERROR!!!!!!\n",
      "Explicit valence for atom # 0 O, 11, is greater than permitted\n"
     ]
    },
    {
     "name": "stderr",
     "output_type": "stream",
     "text": [
      "[16:48:31] Explicit valence for atom # 0 F, 6, is greater than permitted\n",
      "[16:48:31] Explicit valence for atom # 0 F, 6, is greater than permitted\n",
      "[16:48:31] Explicit valence for atom # 0 I, 9, is greater than permitted\n",
      "[16:48:31] Explicit valence for atom # 0 I, 9, is greater than permitted\n"
     ]
    },
    {
     "name": "stdout",
     "output_type": "stream",
     "text": [
      "ERROR!!!!!!\n",
      "Explicit valence for atom # 0 F, 6, is greater than permitted\n",
      "ERROR!!!!!!\n",
      "Explicit valence for atom # 0 I, 9, is greater than permitted\n"
     ]
    },
    {
     "name": "stderr",
     "output_type": "stream",
     "text": [
      "[16:48:32] Explicit valence for atom # 0 F, 2, is greater than permitted\n",
      "[16:48:32] Explicit valence for atom # 0 F, 2, is greater than permitted\n",
      "[16:48:32] Explicit valence for atom # 2 Br, 2, is greater than permitted\n",
      "[16:48:32] Explicit valence for atom # 2 Br, 2, is greater than permitted\n"
     ]
    },
    {
     "name": "stdout",
     "output_type": "stream",
     "text": [
      "ERROR!!!!!!\n",
      "Explicit valence for atom # 0 F, 2, is greater than permitted\n",
      "ERROR!!!!!!\n",
      "Explicit valence for atom # 2 Br, 2, is greater than permitted\n"
     ]
    },
    {
     "name": "stderr",
     "output_type": "stream",
     "text": [
      "[16:48:32] Explicit valence for atom # 6 F, 5, is greater than permitted\n",
      "[16:48:32] Explicit valence for atom # 6 F, 5, is greater than permitted\n",
      "[16:48:32] Explicit valence for atom # 6 Cl, 2, is greater than permitted\n",
      "[16:48:32] Explicit valence for atom # 6 Cl, 2, is greater than permitted\n"
     ]
    },
    {
     "name": "stdout",
     "output_type": "stream",
     "text": [
      "ERROR!!!!!!\n",
      "Explicit valence for atom # 6 F, 5, is greater than permitted\n",
      "ERROR!!!!!!\n",
      "Explicit valence for atom # 6 Cl, 2, is greater than permitted\n"
     ]
    },
    {
     "name": "stderr",
     "output_type": "stream",
     "text": [
      "[16:48:32] Explicit valence for atom # 0 Cl, 4, is greater than permitted\n",
      "[16:48:32] Explicit valence for atom # 0 Cl, 4, is greater than permitted\n",
      "[16:48:32] Explicit valence for atom # 2 N, 4, is greater than permitted\n",
      "[16:48:32] Explicit valence for atom # 2 N, 4, is greater than permitted\n"
     ]
    },
    {
     "name": "stdout",
     "output_type": "stream",
     "text": [
      "ERROR!!!!!!\n",
      "Explicit valence for atom # 0 Cl, 4, is greater than permitted\n",
      "ERROR!!!!!!\n",
      "Explicit valence for atom # 2 N, 4, is greater than permitted\n"
     ]
    },
    {
     "name": "stderr",
     "output_type": "stream",
     "text": [
      "[16:48:32] Explicit valence for atom # 2 F, 2, is greater than permitted\n",
      "[16:48:32] Explicit valence for atom # 2 F, 2, is greater than permitted\n",
      "[16:48:32] Explicit valence for atom # 5 Cl, 2, is greater than permitted\n",
      "[16:48:32] Explicit valence for atom # 5 Cl, 2, is greater than permitted\n"
     ]
    },
    {
     "name": "stdout",
     "output_type": "stream",
     "text": [
      "ERROR!!!!!!\n",
      "Explicit valence for atom # 2 F, 2, is greater than permitted\n",
      "ERROR!!!!!!\n",
      "Explicit valence for atom # 5 Cl, 2, is greater than permitted\n"
     ]
    },
    {
     "name": "stderr",
     "output_type": "stream",
     "text": [
      "[16:48:32] Explicit valence for atom # 2 F, 2, is greater than permitted\n",
      "[16:48:32] Explicit valence for atom # 2 F, 2, is greater than permitted\n",
      "[16:48:33] Explicit valence for atom # 1 F, 2, is greater than permitted\n",
      "[16:48:33] Explicit valence for atom # 1 F, 2, is greater than permitted\n",
      "[16:48:33] Explicit valence for atom # 3 Cl, 2, is greater than permitted\n",
      "[16:48:33] Explicit valence for atom # 3 Cl, 2, is greater than permitted\n"
     ]
    },
    {
     "name": "stdout",
     "output_type": "stream",
     "text": [
      "ERROR!!!!!!\n",
      "Explicit valence for atom # 2 F, 2, is greater than permitted\n",
      "ERROR!!!!!!\n",
      "Explicit valence for atom # 1 F, 2, is greater than permitted\n",
      "ERROR!!!!!!\n",
      "Explicit valence for atom # 3 Cl, 2, is greater than permitted\n"
     ]
    },
    {
     "name": "stderr",
     "output_type": "stream",
     "text": [
      "[16:48:33] Explicit valence for atom # 3 F, 2, is greater than permitted\n",
      "[16:48:33] Explicit valence for atom # 3 F, 2, is greater than permitted\n",
      "[16:48:33] Explicit valence for atom # 1 O, 7, is greater than permitted\n",
      "[16:48:33] Explicit valence for atom # 1 O, 7, is greater than permitted\n"
     ]
    },
    {
     "name": "stdout",
     "output_type": "stream",
     "text": [
      "ERROR!!!!!!\n",
      "Explicit valence for atom # 3 F, 2, is greater than permitted\n",
      "ERROR!!!!!!\n",
      "Explicit valence for atom # 1 O, 7, is greater than permitted\n",
      "Molecule: Atoms(symbols='C4H25INO2P3SSi2', pbc=False)\n"
     ]
    },
    {
     "name": "stderr",
     "output_type": "stream",
     "text": [
      "[16:48:33] Explicit valence for atom # 1 F, 2, is greater than permitted\n",
      "[16:48:33] Explicit valence for atom # 1 F, 2, is greater than permitted\n",
      "[16:48:33] Explicit valence for atom # 1 F, 2, is greater than permitted\n",
      "[16:48:33] Explicit valence for atom # 1 F, 2, is greater than permitted\n",
      "[16:48:33] Explicit valence for atom # 7 C, 5, is greater than permitted\n",
      "[16:48:33] Explicit valence for atom # 7 C, 5, is greater than permitted\n"
     ]
    },
    {
     "name": "stdout",
     "output_type": "stream",
     "text": [
      "ERROR!!!!!!\n",
      "Explicit valence for atom # 1 F, 2, is greater than permitted\n",
      "ERROR!!!!!!\n",
      "Explicit valence for atom # 1 F, 2, is greater than permitted\n",
      "ERROR!!!!!!\n",
      "Explicit valence for atom # 7 C, 5, is greater than permitted\n",
      "Molecule: Atoms(symbols='CH7Cl2NO4', pbc=False)\n",
      "ERROR!!!!!!\n",
      "Explicit valence for atom # 7 Br, 2, is greater than permitted\n"
     ]
    },
    {
     "name": "stderr",
     "output_type": "stream",
     "text": [
      "[16:48:34] Explicit valence for atom # 7 Br, 2, is greater than permitted\n",
      "[16:48:34] Explicit valence for atom # 7 Br, 2, is greater than permitted\n"
     ]
    },
    {
     "name": "stdout",
     "output_type": "stream",
     "text": [
      "Molecule: Atoms(symbols='C3H25IN3PSi3', pbc=False)\n"
     ]
    },
    {
     "name": "stderr",
     "output_type": "stream",
     "text": [
      "[16:48:35] Explicit valence for atom # 6 O, 6, is greater than permitted\n",
      "[16:48:35] Explicit valence for atom # 6 O, 6, is greater than permitted\n"
     ]
    },
    {
     "name": "stdout",
     "output_type": "stream",
     "text": [
      "ERROR!!!!!!\n",
      "Explicit valence for atom # 6 O, 6, is greater than permitted\n",
      "Molecule: Atoms(symbols='C5H17Br2ISi', pbc=False)\n"
     ]
    },
    {
     "name": "stderr",
     "output_type": "stream",
     "text": [
      "[16:48:35] Explicit valence for atom # 1 F, 5, is greater than permitted\n",
      "[16:48:35] Explicit valence for atom # 1 F, 5, is greater than permitted\n",
      "[16:48:35] Explicit valence for atom # 1 Cl, 4, is greater than permitted\n",
      "[16:48:35] Explicit valence for atom # 1 Cl, 4, is greater than permitted\n"
     ]
    },
    {
     "name": "stdout",
     "output_type": "stream",
     "text": [
      "ERROR!!!!!!\n",
      "Explicit valence for atom # 1 F, 5, is greater than permitted\n",
      "ERROR!!!!!!\n",
      "Explicit valence for atom # 1 Cl, 4, is greater than permitted\n",
      "Molecule: Atoms(symbols='C6H21NO2Si', pbc=False)\n"
     ]
    },
    {
     "name": "stderr",
     "output_type": "stream",
     "text": [
      "[16:48:36] Explicit valence for atom # 0 Cl, 3, is greater than permitted\n",
      "[16:48:36] Explicit valence for atom # 0 Cl, 3, is greater than permitted\n",
      "[16:48:36] Explicit valence for atom # 4 Br, 4, is greater than permitted\n",
      "[16:48:36] Explicit valence for atom # 4 Br, 4, is greater than permitted\n",
      "[16:48:36] Explicit valence for atom # 2 Br, 2, is greater than permitted\n",
      "[16:48:36] Explicit valence for atom # 2 Br, 2, is greater than permitted\n"
     ]
    },
    {
     "name": "stdout",
     "output_type": "stream",
     "text": [
      "ERROR!!!!!!\n",
      "Explicit valence for atom # 0 Cl, 3, is greater than permitted\n",
      "ERROR!!!!!!\n",
      "Explicit valence for atom # 4 Br, 4, is greater than permitted\n",
      "ERROR!!!!!!\n",
      "Explicit valence for atom # 2 Br, 2, is greater than permitted\n"
     ]
    },
    {
     "name": "stderr",
     "output_type": "stream",
     "text": [
      "[16:48:36] non-ring atom 4 marked aromatic\n",
      "[16:48:36] non-ring atom 4 marked aromatic\n",
      "[16:48:36] Explicit valence for atom # 3 O, 4, is greater than permitted\n",
      "[16:48:36] Explicit valence for atom # 3 O, 4, is greater than permitted\n",
      "[16:48:36] Explicit valence for atom # 1 Br, 3, is greater than permitted\n",
      "[16:48:36] Explicit valence for atom # 1 Br, 3, is greater than permitted\n"
     ]
    },
    {
     "name": "stdout",
     "output_type": "stream",
     "text": [
      "ERROR!!!!!!\n",
      "non-ring atom 4 marked aromatic\n",
      "ERROR!!!!!!\n",
      "Explicit valence for atom # 3 O, 4, is greater than permitted\n",
      "ERROR!!!!!!\n",
      "Explicit valence for atom # 1 Br, 3, is greater than permitted\n"
     ]
    },
    {
     "name": "stderr",
     "output_type": "stream",
     "text": [
      "[16:48:36] Explicit valence for atom # 3 O, 3, is greater than permitted\n",
      "[16:48:36] Explicit valence for atom # 3 O, 3, is greater than permitted\n",
      "[16:48:36] Explicit valence for atom # 2 F, 5, is greater than permitted\n",
      "[16:48:36] Explicit valence for atom # 2 F, 5, is greater than permitted\n",
      "[16:48:36] Explicit valence for atom # 0 Br, 2, is greater than permitted\n",
      "[16:48:37] Explicit valence for atom # 0 Br, 2, is greater than permitted\n"
     ]
    },
    {
     "name": "stdout",
     "output_type": "stream",
     "text": [
      "ERROR!!!!!!\n",
      "Explicit valence for atom # 3 O, 3, is greater than permitted\n",
      "ERROR!!!!!!\n",
      "Explicit valence for atom # 2 F, 5, is greater than permitted\n",
      "ERROR!!!!!!\n",
      "Explicit valence for atom # 0 Br, 2, is greater than permitted\n"
     ]
    },
    {
     "name": "stderr",
     "output_type": "stream",
     "text": [
      "[16:48:37] Explicit valence for atom # 2 F, 2, is greater than permitted\n",
      "[16:48:37] Explicit valence for atom # 2 F, 2, is greater than permitted\n",
      "[16:48:37] Explicit valence for atom # 2 Cl, 2, is greater than permitted\n",
      "[16:48:37] Explicit valence for atom # 2 Cl, 2, is greater than permitted\n"
     ]
    },
    {
     "name": "stdout",
     "output_type": "stream",
     "text": [
      "ERROR!!!!!!\n",
      "Explicit valence for atom # 2 F, 2, is greater than permitted\n",
      "ERROR!!!!!!\n",
      "Explicit valence for atom # 2 Cl, 2, is greater than permitted\n"
     ]
    },
    {
     "name": "stderr",
     "output_type": "stream",
     "text": [
      "[16:48:37] Explicit valence for atom # 24 Br, 3, is greater than permitted\n",
      "[16:48:37] Explicit valence for atom # 24 Br, 3, is greater than permitted\n",
      "[16:48:37] Explicit valence for atom # 6 Cl, 2, is greater than permitted\n",
      "[16:48:37] Explicit valence for atom # 6 Cl, 2, is greater than permitted\n",
      "[16:48:37] Explicit valence for atom # 1 Br, 2, is greater than permitted\n",
      "[16:48:37] Explicit valence for atom # 1 Br, 2, is greater than permitted\n"
     ]
    },
    {
     "name": "stdout",
     "output_type": "stream",
     "text": [
      "ERROR!!!!!!\n",
      "Explicit valence for atom # 24 Br, 3, is greater than permitted\n",
      "ERROR!!!!!!\n",
      "Explicit valence for atom # 6 Cl, 2, is greater than permitted\n",
      "ERROR!!!!!!\n",
      "Explicit valence for atom # 1 Br, 2, is greater than permitted\n"
     ]
    },
    {
     "name": "stderr",
     "output_type": "stream",
     "text": [
      "[16:48:37] Explicit valence for atom # 7 N, 6, is greater than permitted\n",
      "[16:48:37] Explicit valence for atom # 7 N, 6, is greater than permitted\n",
      "[16:48:37] Explicit valence for atom # 4 F, 7, is greater than permitted\n",
      "[16:48:37] Explicit valence for atom # 4 F, 7, is greater than permitted\n",
      "[16:48:37] Explicit valence for atom # 1 O, 3, is greater than permitted\n",
      "[16:48:37] Explicit valence for atom # 1 O, 3, is greater than permitted\n"
     ]
    },
    {
     "name": "stdout",
     "output_type": "stream",
     "text": [
      "ERROR!!!!!!\n",
      "Explicit valence for atom # 7 N, 6, is greater than permitted\n",
      "ERROR!!!!!!\n",
      "Explicit valence for atom # 4 F, 7, is greater than permitted\n",
      "ERROR!!!!!!\n",
      "Explicit valence for atom # 1 O, 3, is greater than permitted\n"
     ]
    },
    {
     "name": "stderr",
     "output_type": "stream",
     "text": [
      "[16:48:38] Explicit valence for atom # 4 F, 2, is greater than permitted\n",
      "[16:48:38] Explicit valence for atom # 4 F, 2, is greater than permitted\n"
     ]
    },
    {
     "name": "stdout",
     "output_type": "stream",
     "text": [
      "ERROR!!!!!!\n",
      "Explicit valence for atom # 4 F, 2, is greater than permitted\n",
      "Molecule: Atoms(symbols='C3H13ClFOPSSi', pbc=False)\n"
     ]
    },
    {
     "name": "stderr",
     "output_type": "stream",
     "text": [
      "[16:48:38] Explicit valence for atom # 2 C, 11, is greater than permitted\n",
      "[16:48:38] Explicit valence for atom # 2 C, 11, is greater than permitted\n",
      "[16:48:38] Explicit valence for atom # 3 Br, 2, is greater than permitted\n",
      "[16:48:38] Explicit valence for atom # 3 Br, 2, is greater than permitted\n",
      "[16:48:38] Explicit valence for atom # 1 Cl, 5, is greater than permitted\n",
      "[16:48:38] Explicit valence for atom # 1 Cl, 5, is greater than permitted\n"
     ]
    },
    {
     "name": "stdout",
     "output_type": "stream",
     "text": [
      "ERROR!!!!!!\n",
      "Explicit valence for atom # 2 C, 11, is greater than permitted\n",
      "ERROR!!!!!!\n",
      "Explicit valence for atom # 3 Br, 2, is greater than permitted\n",
      "ERROR!!!!!!\n",
      "Explicit valence for atom # 1 Cl, 5, is greater than permitted\n"
     ]
    },
    {
     "name": "stderr",
     "output_type": "stream",
     "text": [
      "[16:48:38] Explicit valence for atom # 0 Cl, 12, is greater than permitted\n",
      "[16:48:38] Explicit valence for atom # 0 Cl, 12, is greater than permitted\n"
     ]
    },
    {
     "name": "stdout",
     "output_type": "stream",
     "text": [
      "ERROR!!!!!!\n",
      "Explicit valence for atom # 0 Cl, 12, is greater than permitted\n",
      "Molecule: Atoms(symbols='C4H18FINOPSi2', pbc=False)\n"
     ]
    },
    {
     "name": "stderr",
     "output_type": "stream",
     "text": [
      "[16:48:38] Explicit valence for atom # 0 O, 3, is greater than permitted\n",
      "[16:48:38] Explicit valence for atom # 0 O, 3, is greater than permitted\n"
     ]
    },
    {
     "name": "stdout",
     "output_type": "stream",
     "text": [
      "ERROR!!!!!!\n",
      "Explicit valence for atom # 0 O, 3, is greater than permitted\n",
      "Molecule: Atoms(symbols='C3H13NO2Si', pbc=False)\n",
      "Molecule: Atoms(symbols='C2H11Cl2PSSi', pbc=False)\n",
      "ERROR!!!!!!\n",
      "Explicit valence for atom # 1 Cl, 2, is greater than permitted\n"
     ]
    },
    {
     "name": "stderr",
     "output_type": "stream",
     "text": [
      "[16:48:39] Explicit valence for atom # 1 Cl, 2, is greater than permitted\n",
      "[16:48:39] Explicit valence for atom # 1 Cl, 2, is greater than permitted\n",
      "[16:48:39] Explicit valence for atom # 0 O, 4, is greater than permitted\n",
      "[16:48:39] Explicit valence for atom # 0 O, 4, is greater than permitted\n"
     ]
    },
    {
     "name": "stdout",
     "output_type": "stream",
     "text": [
      "ERROR!!!!!!\n",
      "Explicit valence for atom # 0 O, 4, is greater than permitted\n",
      "ERROR!!!!!!\n",
      "Explicit valence for atom # 1 Br, 2, is greater than permitted\n"
     ]
    },
    {
     "name": "stderr",
     "output_type": "stream",
     "text": [
      "[16:48:39] Explicit valence for atom # 1 Br, 2, is greater than permitted\n",
      "[16:48:39] Explicit valence for atom # 1 Br, 2, is greater than permitted\n",
      "[16:48:39] Explicit valence for atom # 2 O, 8, is greater than permitted\n",
      "[16:48:39] Explicit valence for atom # 2 O, 8, is greater than permitted\n"
     ]
    },
    {
     "name": "stdout",
     "output_type": "stream",
     "text": [
      "ERROR!!!!!!\n",
      "Explicit valence for atom # 2 O, 8, is greater than permitted\n",
      "Molecule: Atoms(symbols='CH10FNP2S3Si', pbc=False)\n"
     ]
    },
    {
     "name": "stderr",
     "output_type": "stream",
     "text": [
      "[16:48:40] Explicit valence for atom # 2 Br, 2, is greater than permitted\n",
      "[16:48:40] Explicit valence for atom # 2 Br, 2, is greater than permitted\n",
      "[16:48:40] Explicit valence for atom # 1 C, 5, is greater than permitted\n",
      "[16:48:40] Explicit valence for atom # 1 C, 5, is greater than permitted\n",
      "[16:48:40] non-ring atom 3 marked aromatic\n",
      "[16:48:40] non-ring atom 3 marked aromatic\n"
     ]
    },
    {
     "name": "stdout",
     "output_type": "stream",
     "text": [
      "ERROR!!!!!!\n",
      "Explicit valence for atom # 2 Br, 2, is greater than permitted\n",
      "ERROR!!!!!!\n",
      "Explicit valence for atom # 1 C, 5, is greater than permitted\n",
      "ERROR!!!!!!\n",
      "non-ring atom 3 marked aromatic\n"
     ]
    },
    {
     "name": "stderr",
     "output_type": "stream",
     "text": [
      "[16:48:40] Explicit valence for atom # 9 Cl, 2, is greater than permitted\n",
      "[16:48:40] Explicit valence for atom # 9 Cl, 2, is greater than permitted\n",
      "[16:48:40] Explicit valence for atom # 1 Br, 2, is greater than permitted\n",
      "[16:48:40] Explicit valence for atom # 1 Br, 2, is greater than permitted\n"
     ]
    },
    {
     "name": "stdout",
     "output_type": "stream",
     "text": [
      "ERROR!!!!!!\n",
      "Explicit valence for atom # 9 Cl, 2, is greater than permitted\n",
      "ERROR!!!!!!\n",
      "Explicit valence for atom # 1 Br, 2, is greater than permitted\n"
     ]
    },
    {
     "name": "stderr",
     "output_type": "stream",
     "text": [
      "[16:48:40] Explicit valence for atom # 1 Cl, 2, is greater than permitted\n",
      "[16:48:40] Explicit valence for atom # 1 Cl, 2, is greater than permitted\n",
      "[16:48:40] Explicit valence for atom # 9 Br, 3, is greater than permitted\n",
      "[16:48:40] Explicit valence for atom # 9 Br, 3, is greater than permitted\n",
      "[16:48:40] Explicit valence for atom # 2 F, 2, is greater than permitted\n",
      "[16:48:40] Explicit valence for atom # 2 F, 2, is greater than permitted\n"
     ]
    },
    {
     "name": "stdout",
     "output_type": "stream",
     "text": [
      "ERROR!!!!!!\n",
      "Explicit valence for atom # 1 Cl, 2, is greater than permitted\n",
      "ERROR!!!!!!\n",
      "Explicit valence for atom # 9 Br, 3, is greater than permitted\n",
      "ERROR!!!!!!\n",
      "Explicit valence for atom # 2 F, 2, is greater than permitted\n"
     ]
    },
    {
     "name": "stderr",
     "output_type": "stream",
     "text": [
      "[16:48:40] Explicit valence for atom # 4 Br, 2, is greater than permitted\n",
      "[16:48:40] Explicit valence for atom # 4 Br, 2, is greater than permitted\n",
      "[16:48:41] non-ring atom 2 marked aromatic\n",
      "[16:48:41] non-ring atom 2 marked aromatic\n"
     ]
    },
    {
     "name": "stdout",
     "output_type": "stream",
     "text": [
      "ERROR!!!!!!\n",
      "Explicit valence for atom # 4 Br, 2, is greater than permitted\n",
      "Molecule: Atoms(symbols='H4BrClN2OS', pbc=False)\n",
      "ERROR!!!!!!\n",
      "non-ring atom 2 marked aromatic\n"
     ]
    },
    {
     "name": "stderr",
     "output_type": "stream",
     "text": [
      "[16:48:41] Explicit valence for atom # 0 N, 4, is greater than permitted\n",
      "[16:48:41] Explicit valence for atom # 0 N, 4, is greater than permitted\n",
      "[16:48:41] Explicit valence for atom # 3 Br, 2, is greater than permitted\n",
      "[16:48:41] Explicit valence for atom # 3 Br, 2, is greater than permitted\n",
      "[16:48:41] non-ring atom 4 marked aromatic\n",
      "[16:48:41] non-ring atom 4 marked aromatic\n"
     ]
    },
    {
     "name": "stdout",
     "output_type": "stream",
     "text": [
      "ERROR!!!!!!\n",
      "Explicit valence for atom # 0 N, 4, is greater than permitted\n",
      "ERROR!!!!!!\n",
      "Explicit valence for atom # 3 Br, 2, is greater than permitted\n",
      "ERROR!!!!!!\n",
      "non-ring atom 4 marked aromatic\n"
     ]
    },
    {
     "name": "stderr",
     "output_type": "stream",
     "text": [
      "[16:48:41] Explicit valence for atom # 11 Cl, 2, is greater than permitted\n",
      "[16:48:41] Explicit valence for atom # 11 Cl, 2, is greater than permitted\n",
      "[16:48:41] Explicit valence for atom # 0 O, 4, is greater than permitted\n",
      "[16:48:41] Explicit valence for atom # 0 O, 4, is greater than permitted\n",
      "[16:48:41] non-ring atom 2 marked aromatic\n",
      "[16:48:41] non-ring atom 2 marked aromatic\n"
     ]
    },
    {
     "name": "stdout",
     "output_type": "stream",
     "text": [
      "ERROR!!!!!!\n",
      "Explicit valence for atom # 11 Cl, 2, is greater than permitted\n",
      "ERROR!!!!!!\n",
      "Explicit valence for atom # 0 O, 4, is greater than permitted\n",
      "ERROR!!!!!!\n",
      "non-ring atom 2 marked aromatic\n"
     ]
    },
    {
     "name": "stderr",
     "output_type": "stream",
     "text": [
      "[16:48:41] Explicit valence for atom # 1 Cl, 2, is greater than permitted\n",
      "[16:48:41] Explicit valence for atom # 1 Cl, 2, is greater than permitted\n",
      "[16:48:41] Explicit valence for atom # 1 Cl, 2, is greater than permitted\n",
      "[16:48:41] Explicit valence for atom # 1 Cl, 2, is greater than permitted\n",
      "[16:48:42] Explicit valence for atom # 1 Br, 2, is greater than permitted\n",
      "[16:48:42] Explicit valence for atom # 1 Br, 2, is greater than permitted\n"
     ]
    },
    {
     "name": "stdout",
     "output_type": "stream",
     "text": [
      "ERROR!!!!!!\n",
      "Explicit valence for atom # 1 Cl, 2, is greater than permitted\n",
      "ERROR!!!!!!\n",
      "Explicit valence for atom # 1 Cl, 2, is greater than permitted\n",
      "ERROR!!!!!!\n",
      "Explicit valence for atom # 1 Br, 2, is greater than permitted\n"
     ]
    },
    {
     "name": "stderr",
     "output_type": "stream",
     "text": [
      "[16:48:42] Explicit valence for atom # 3 N, 4, is greater than permitted\n",
      "[16:48:42] Explicit valence for atom # 3 N, 4, is greater than permitted\n",
      "[16:48:42] Explicit valence for atom # 1 Cl, 2, is greater than permitted\n",
      "[16:48:42] Explicit valence for atom # 1 Cl, 2, is greater than permitted\n"
     ]
    },
    {
     "name": "stdout",
     "output_type": "stream",
     "text": [
      "ERROR!!!!!!\n",
      "Explicit valence for atom # 3 N, 4, is greater than permitted\n",
      "ERROR!!!!!!\n",
      "Explicit valence for atom # 1 Cl, 2, is greater than permitted\n"
     ]
    },
    {
     "name": "stderr",
     "output_type": "stream",
     "text": [
      "[16:48:42] Explicit valence for atom # 1 Cl, 2, is greater than permitted\n",
      "[16:48:42] Explicit valence for atom # 1 Cl, 2, is greater than permitted\n",
      "[16:48:42] Explicit valence for atom # 7 Cl, 2, is greater than permitted\n",
      "[16:48:42] Explicit valence for atom # 7 Cl, 2, is greater than permitted\n",
      "[16:48:42] Explicit valence for atom # 2 F, 2, is greater than permitted\n",
      "[16:48:42] Explicit valence for atom # 2 F, 2, is greater than permitted\n"
     ]
    },
    {
     "name": "stdout",
     "output_type": "stream",
     "text": [
      "ERROR!!!!!!\n",
      "Explicit valence for atom # 1 Cl, 2, is greater than permitted\n",
      "ERROR!!!!!!\n",
      "Explicit valence for atom # 7 Cl, 2, is greater than permitted\n",
      "ERROR!!!!!!\n",
      "Explicit valence for atom # 2 F, 2, is greater than permitted\n"
     ]
    },
    {
     "name": "stderr",
     "output_type": "stream",
     "text": [
      "[16:48:42] Explicit valence for atom # 12 Cl, 2, is greater than permitted\n",
      "[16:48:42] Explicit valence for atom # 12 Cl, 2, is greater than permitted\n",
      "[16:48:42] Explicit valence for atom # 5 F, 2, is greater than permitted\n",
      "[16:48:42] Explicit valence for atom # 5 F, 2, is greater than permitted\n",
      "[16:48:42] Explicit valence for atom # 6 Cl, 4, is greater than permitted\n",
      "[16:48:42] Explicit valence for atom # 6 Cl, 4, is greater than permitted\n"
     ]
    },
    {
     "name": "stdout",
     "output_type": "stream",
     "text": [
      "ERROR!!!!!!\n",
      "Explicit valence for atom # 12 Cl, 2, is greater than permitted\n",
      "ERROR!!!!!!\n",
      "Explicit valence for atom # 5 F, 2, is greater than permitted\n",
      "ERROR!!!!!!\n",
      "Explicit valence for atom # 6 Cl, 4, is greater than permitted\n"
     ]
    },
    {
     "name": "stderr",
     "output_type": "stream",
     "text": [
      "[16:48:42] Explicit valence for atom # 4 F, 2, is greater than permitted\n",
      "[16:48:42] Explicit valence for atom # 4 F, 2, is greater than permitted\n",
      "[16:48:43] Explicit valence for atom # 0 Br, 3, is greater than permitted\n",
      "[16:48:43] Explicit valence for atom # 0 Br, 3, is greater than permitted\n"
     ]
    },
    {
     "name": "stdout",
     "output_type": "stream",
     "text": [
      "ERROR!!!!!!\n",
      "Explicit valence for atom # 4 F, 2, is greater than permitted\n",
      "ERROR!!!!!!\n",
      "Explicit valence for atom # 0 Br, 3, is greater than permitted\n"
     ]
    },
    {
     "name": "stderr",
     "output_type": "stream",
     "text": [
      "[16:48:43] Explicit valence for atom # 1 Cl, 5, is greater than permitted\n",
      "[16:48:43] Explicit valence for atom # 1 Cl, 5, is greater than permitted\n"
     ]
    },
    {
     "name": "stdout",
     "output_type": "stream",
     "text": [
      "ERROR!!!!!!\n",
      "Explicit valence for atom # 1 Cl, 5, is greater than permitted\n"
     ]
    },
    {
     "name": "stderr",
     "output_type": "stream",
     "text": [
      "[16:48:43] Explicit valence for atom # 6 O, 3, is greater than permitted\n",
      "[16:48:43] Explicit valence for atom # 6 O, 3, is greater than permitted\n",
      "[16:48:43] Explicit valence for atom # 1 N, 4, is greater than permitted\n",
      "[16:48:43] Explicit valence for atom # 1 N, 4, is greater than permitted\n"
     ]
    },
    {
     "name": "stdout",
     "output_type": "stream",
     "text": [
      "ERROR!!!!!!\n",
      "Explicit valence for atom # 6 O, 3, is greater than permitted\n",
      "ERROR!!!!!!\n",
      "Explicit valence for atom # 1 N, 4, is greater than permitted\n"
     ]
    },
    {
     "name": "stderr",
     "output_type": "stream",
     "text": [
      "[16:48:43] Explicit valence for atom # 4 F, 2, is greater than permitted\n",
      "[16:48:43] Explicit valence for atom # 4 F, 2, is greater than permitted\n",
      "[16:48:43] Explicit valence for atom # 2 Cl, 2, is greater than permitted\n",
      "[16:48:43] Explicit valence for atom # 2 Cl, 2, is greater than permitted\n",
      "[16:48:43] Explicit valence for atom # 3 Br, 2, is greater than permitted\n",
      "[16:48:43] Explicit valence for atom # 3 Br, 2, is greater than permitted\n"
     ]
    },
    {
     "name": "stdout",
     "output_type": "stream",
     "text": [
      "ERROR!!!!!!\n",
      "Explicit valence for atom # 4 F, 2, is greater than permitted\n",
      "ERROR!!!!!!\n",
      "Explicit valence for atom # 2 Cl, 2, is greater than permitted\n",
      "ERROR!!!!!!\n",
      "Explicit valence for atom # 3 Br, 2, is greater than permitted\n"
     ]
    },
    {
     "name": "stderr",
     "output_type": "stream",
     "text": [
      "[16:48:43] Explicit valence for atom # 3 F, 2, is greater than permitted\n",
      "[16:48:43] Explicit valence for atom # 3 F, 2, is greater than permitted\n",
      "[16:48:43] Explicit valence for atom # 1 Br, 2, is greater than permitted\n",
      "[16:48:43] Explicit valence for atom # 1 Br, 2, is greater than permitted\n"
     ]
    },
    {
     "name": "stdout",
     "output_type": "stream",
     "text": [
      "ERROR!!!!!!\n",
      "Explicit valence for atom # 3 F, 2, is greater than permitted\n",
      "ERROR!!!!!!\n",
      "Explicit valence for atom # 1 Br, 2, is greater than permitted\n"
     ]
    },
    {
     "name": "stderr",
     "output_type": "stream",
     "text": [
      "[16:48:44] Explicit valence for atom # 4 O, 7, is greater than permitted\n",
      "[16:48:44] Explicit valence for atom # 4 O, 7, is greater than permitted\n",
      "[16:48:44] non-ring atom 1 marked aromatic\n",
      "[16:48:44] non-ring atom 1 marked aromatic\n"
     ]
    },
    {
     "name": "stdout",
     "output_type": "stream",
     "text": [
      "ERROR!!!!!!\n",
      "Explicit valence for atom # 4 O, 7, is greater than permitted\n",
      "ERROR!!!!!!\n",
      "non-ring atom 1 marked aromatic\n"
     ]
    },
    {
     "name": "stderr",
     "output_type": "stream",
     "text": [
      "[16:48:44] Explicit valence for atom # 2 Br, 4, is greater than permitted\n",
      "[16:48:44] Explicit valence for atom # 2 Br, 4, is greater than permitted\n",
      "[16:48:44] Explicit valence for atom # 2 Br, 7, is greater than permitted\n",
      "[16:48:44] Explicit valence for atom # 2 Br, 7, is greater than permitted\n",
      "[16:48:44] Explicit valence for atom # 7 F, 2, is greater than permitted\n",
      "[16:48:44] Explicit valence for atom # 7 F, 2, is greater than permitted\n"
     ]
    },
    {
     "name": "stdout",
     "output_type": "stream",
     "text": [
      "ERROR!!!!!!\n",
      "Explicit valence for atom # 2 Br, 4, is greater than permitted\n",
      "ERROR!!!!!!\n",
      "Explicit valence for atom # 2 Br, 7, is greater than permitted\n",
      "ERROR!!!!!!\n",
      "Explicit valence for atom # 7 F, 2, is greater than permitted\n"
     ]
    },
    {
     "name": "stderr",
     "output_type": "stream",
     "text": [
      "[16:48:44] Explicit valence for atom # 1 F, 2, is greater than permitted\n",
      "[16:48:44] Explicit valence for atom # 1 F, 2, is greater than permitted\n",
      "[16:48:44] Explicit valence for atom # 2 Br, 5, is greater than permitted\n",
      "[16:48:44] Explicit valence for atom # 2 Br, 5, is greater than permitted\n"
     ]
    },
    {
     "name": "stdout",
     "output_type": "stream",
     "text": [
      "ERROR!!!!!!\n",
      "Explicit valence for atom # 1 F, 2, is greater than permitted\n",
      "ERROR!!!!!!\n",
      "Explicit valence for atom # 2 Br, 5, is greater than permitted\n"
     ]
    },
    {
     "name": "stderr",
     "output_type": "stream",
     "text": [
      "[16:48:44] Explicit valence for atom # 0 O, 3, is greater than permitted\n",
      "[16:48:44] Explicit valence for atom # 0 O, 3, is greater than permitted\n",
      "[16:48:45] Explicit valence for atom # 1 Br, 2, is greater than permitted\n",
      "[16:48:45] Explicit valence for atom # 1 Br, 2, is greater than permitted\n"
     ]
    },
    {
     "name": "stdout",
     "output_type": "stream",
     "text": [
      "ERROR!!!!!!\n",
      "Explicit valence for atom # 0 O, 3, is greater than permitted\n",
      "ERROR!!!!!!\n",
      "Explicit valence for atom # 1 Br, 2, is greater than permitted\n"
     ]
    },
    {
     "name": "stderr",
     "output_type": "stream",
     "text": [
      "[16:48:45] Explicit valence for atom # 1 Br, 2, is greater than permitted\n",
      "[16:48:45] Explicit valence for atom # 1 Br, 2, is greater than permitted\n"
     ]
    },
    {
     "name": "stdout",
     "output_type": "stream",
     "text": [
      "ERROR!!!!!!\n",
      "Explicit valence for atom # 1 Br, 2, is greater than permitted\n"
     ]
    },
    {
     "name": "stderr",
     "output_type": "stream",
     "text": [
      "[16:48:45] Explicit valence for atom # 3 P, 11, is greater than permitted\n",
      "[16:48:45] Explicit valence for atom # 3 P, 11, is greater than permitted\n",
      "[16:48:45] Explicit valence for atom # 0 F, 3, is greater than permitted\n",
      "[16:48:45] Explicit valence for atom # 0 F, 3, is greater than permitted\n"
     ]
    },
    {
     "name": "stdout",
     "output_type": "stream",
     "text": [
      "ERROR!!!!!!\n",
      "Explicit valence for atom # 3 P, 11, is greater than permitted\n",
      "ERROR!!!!!!\n",
      "Explicit valence for atom # 0 F, 3, is greater than permitted\n"
     ]
    },
    {
     "name": "stderr",
     "output_type": "stream",
     "text": [
      "[16:48:45] Explicit valence for atom # 9 Cl, 2, is greater than permitted\n",
      "[16:48:45] Explicit valence for atom # 9 Cl, 2, is greater than permitted\n",
      "[16:48:45] Explicit valence for atom # 2 O, 5, is greater than permitted\n",
      "[16:48:45] Explicit valence for atom # 2 O, 5, is greater than permitted\n",
      "[16:48:45] Explicit valence for atom # 1 F, 2, is greater than permitted\n",
      "[16:48:45] Explicit valence for atom # 1 F, 2, is greater than permitted\n"
     ]
    },
    {
     "name": "stdout",
     "output_type": "stream",
     "text": [
      "ERROR!!!!!!\n",
      "Explicit valence for atom # 9 Cl, 2, is greater than permitted\n",
      "ERROR!!!!!!\n",
      "Explicit valence for atom # 2 O, 5, is greater than permitted\n",
      "ERROR!!!!!!\n",
      "Explicit valence for atom # 1 F, 2, is greater than permitted\n"
     ]
    },
    {
     "name": "stderr",
     "output_type": "stream",
     "text": [
      "[16:48:45] Explicit valence for atom # 6 Br, 2, is greater than permitted\n",
      "[16:48:45] Explicit valence for atom # 6 Br, 2, is greater than permitted\n",
      "[16:48:46] Explicit valence for atom # 5 Br, 2, is greater than permitted\n",
      "[16:48:46] Explicit valence for atom # 5 Br, 2, is greater than permitted\n",
      "[16:48:46] Explicit valence for atom # 2 F, 2, is greater than permitted\n",
      "[16:48:46] Explicit valence for atom # 2 F, 2, is greater than permitted\n"
     ]
    },
    {
     "name": "stdout",
     "output_type": "stream",
     "text": [
      "ERROR!!!!!!\n",
      "Explicit valence for atom # 6 Br, 2, is greater than permitted\n",
      "ERROR!!!!!!\n",
      "Explicit valence for atom # 5 Br, 2, is greater than permitted\n",
      "ERROR!!!!!!\n",
      "Explicit valence for atom # 2 F, 2, is greater than permitted\n"
     ]
    },
    {
     "name": "stderr",
     "output_type": "stream",
     "text": [
      "[16:48:46] Explicit valence for atom # 1 Cl, 6, is greater than permitted\n",
      "[16:48:46] Explicit valence for atom # 1 Cl, 6, is greater than permitted\n",
      "[16:48:46] Explicit valence for atom # 3 F, 2, is greater than permitted\n",
      "[16:48:46] Explicit valence for atom # 3 F, 2, is greater than permitted\n",
      "[16:48:46] Explicit valence for atom # 5 F, 2, is greater than permitted\n",
      "[16:48:46] Explicit valence for atom # 5 F, 2, is greater than permitted\n"
     ]
    },
    {
     "name": "stdout",
     "output_type": "stream",
     "text": [
      "ERROR!!!!!!\n",
      "Explicit valence for atom # 1 Cl, 6, is greater than permitted\n",
      "ERROR!!!!!!\n",
      "Explicit valence for atom # 3 F, 2, is greater than permitted\n",
      "ERROR!!!!!!\n",
      "Explicit valence for atom # 5 F, 2, is greater than permitted\n"
     ]
    },
    {
     "name": "stderr",
     "output_type": "stream",
     "text": [
      "[16:48:46] Explicit valence for atom # 3 O, 4, is greater than permitted\n",
      "[16:48:46] Explicit valence for atom # 3 O, 4, is greater than permitted\n",
      "[16:48:46] Explicit valence for atom # 3 F, 4, is greater than permitted\n",
      "[16:48:46] Explicit valence for atom # 3 F, 4, is greater than permitted\n",
      "[16:48:46] non-ring atom 3 marked aromatic\n",
      "[16:48:46] non-ring atom 3 marked aromatic\n"
     ]
    },
    {
     "name": "stdout",
     "output_type": "stream",
     "text": [
      "ERROR!!!!!!\n",
      "Explicit valence for atom # 3 O, 4, is greater than permitted\n",
      "ERROR!!!!!!\n",
      "Explicit valence for atom # 3 F, 4, is greater than permitted\n",
      "ERROR!!!!!!\n",
      "non-ring atom 3 marked aromatic\n"
     ]
    },
    {
     "name": "stderr",
     "output_type": "stream",
     "text": [
      "[16:48:46] Explicit valence for atom # 6 Cl, 2, is greater than permitted\n",
      "[16:48:46] Explicit valence for atom # 6 Cl, 2, is greater than permitted\n",
      "[16:48:46] Explicit valence for atom # 1 F, 2, is greater than permitted\n",
      "[16:48:46] Explicit valence for atom # 1 F, 2, is greater than permitted\n"
     ]
    },
    {
     "name": "stdout",
     "output_type": "stream",
     "text": [
      "ERROR!!!!!!\n",
      "Explicit valence for atom # 6 Cl, 2, is greater than permitted\n",
      "ERROR!!!!!!\n",
      "Explicit valence for atom # 1 F, 2, is greater than permitted\n",
      "Molecule: Atoms(symbols='C3H11BrIO3PS', pbc=False)\n"
     ]
    },
    {
     "name": "stderr",
     "output_type": "stream",
     "text": [
      "[16:48:47] Explicit valence for atom # 3 Cl, 3, is greater than permitted\n",
      "[16:48:47] Explicit valence for atom # 3 Cl, 3, is greater than permitted\n",
      "[16:48:47] Explicit valence for atom # 9 Cl, 2, is greater than permitted\n",
      "[16:48:47] Explicit valence for atom # 9 Cl, 2, is greater than permitted\n",
      "[16:48:47] Explicit valence for atom # 7 F, 2, is greater than permitted\n",
      "[16:48:47] Explicit valence for atom # 7 F, 2, is greater than permitted\n"
     ]
    },
    {
     "name": "stdout",
     "output_type": "stream",
     "text": [
      "ERROR!!!!!!\n",
      "Explicit valence for atom # 3 Cl, 3, is greater than permitted\n",
      "ERROR!!!!!!\n",
      "Explicit valence for atom # 9 Cl, 2, is greater than permitted\n",
      "ERROR!!!!!!\n",
      "Explicit valence for atom # 7 F, 2, is greater than permitted\n",
      "Molecule: Atoms(symbols='C3H10BrNO2S', pbc=False)\n"
     ]
    },
    {
     "name": "stderr",
     "output_type": "stream",
     "text": [
      "[16:48:47] Explicit valence for atom # 2 F, 2, is greater than permitted\n",
      "[16:48:47] Explicit valence for atom # 2 F, 2, is greater than permitted\n"
     ]
    },
    {
     "name": "stdout",
     "output_type": "stream",
     "text": [
      "ERROR!!!!!!\n",
      "Explicit valence for atom # 2 F, 2, is greater than permitted\n",
      "Molecule: Atoms(symbols='CH12N2OP2SSi', pbc=False)\n"
     ]
    },
    {
     "name": "stderr",
     "output_type": "stream",
     "text": [
      "[16:48:47] Explicit valence for atom # 1 Cl, 2, is greater than permitted\n",
      "[16:48:47] Explicit valence for atom # 1 Cl, 2, is greater than permitted\n",
      "[16:48:47] Explicit valence for atom # 6 Cl, 2, is greater than permitted\n",
      "[16:48:47] Explicit valence for atom # 6 Cl, 2, is greater than permitted\n"
     ]
    },
    {
     "name": "stdout",
     "output_type": "stream",
     "text": [
      "ERROR!!!!!!\n",
      "Explicit valence for atom # 1 Cl, 2, is greater than permitted\n",
      "ERROR!!!!!!\n",
      "Explicit valence for atom # 6 Cl, 2, is greater than permitted\n",
      "Molecule: Atoms(symbols='C3H15IN2O2SSi', pbc=False)\n"
     ]
    },
    {
     "name": "stderr",
     "output_type": "stream",
     "text": [
      "[16:48:48] Explicit valence for atom # 4 Br, 2, is greater than permitted\n",
      "[16:48:48] Explicit valence for atom # 4 Br, 2, is greater than permitted\n",
      "[16:48:48] Explicit valence for atom # 4 N, 6, is greater than permitted\n",
      "[16:48:48] Explicit valence for atom # 4 N, 6, is greater than permitted\n"
     ]
    },
    {
     "name": "stdout",
     "output_type": "stream",
     "text": [
      "ERROR!!!!!!\n",
      "Explicit valence for atom # 4 Br, 2, is greater than permitted\n",
      "ERROR!!!!!!\n",
      "Explicit valence for atom # 4 N, 6, is greater than permitted\n"
     ]
    },
    {
     "name": "stderr",
     "output_type": "stream",
     "text": [
      "[16:48:48] Explicit valence for atom # 0 F, 6, is greater than permitted\n",
      "[16:48:48] Explicit valence for atom # 0 F, 6, is greater than permitted\n",
      "[16:48:48] Explicit valence for atom # 4 Br, 2, is greater than permitted\n",
      "[16:48:48] Explicit valence for atom # 4 Br, 2, is greater than permitted\n"
     ]
    },
    {
     "name": "stdout",
     "output_type": "stream",
     "text": [
      "ERROR!!!!!!\n",
      "Explicit valence for atom # 0 F, 6, is greater than permitted\n",
      "ERROR!!!!!!\n",
      "Explicit valence for atom # 4 Br, 2, is greater than permitted\n",
      "Molecule: Atoms(symbols='C2H12ClF2NP2S', pbc=False)\n"
     ]
    },
    {
     "name": "stderr",
     "output_type": "stream",
     "text": [
      "[16:48:48] Explicit valence for atom # 4 F, 2, is greater than permitted\n",
      "[16:48:48] Explicit valence for atom # 4 F, 2, is greater than permitted\n",
      "[16:48:49] Explicit valence for atom # 5 F, 2, is greater than permitted\n",
      "[16:48:49] Explicit valence for atom # 5 F, 2, is greater than permitted\n"
     ]
    },
    {
     "name": "stdout",
     "output_type": "stream",
     "text": [
      "ERROR!!!!!!\n",
      "Explicit valence for atom # 4 F, 2, is greater than permitted\n",
      "ERROR!!!!!!\n",
      "Explicit valence for atom # 5 F, 2, is greater than permitted\n"
     ]
    },
    {
     "name": "stderr",
     "output_type": "stream",
     "text": [
      "[16:48:49] Explicit valence for atom # 1 Br, 2, is greater than permitted\n",
      "[16:48:49] Explicit valence for atom # 1 Br, 2, is greater than permitted\n",
      "[16:48:49] Explicit valence for atom # 3 Br, 2, is greater than permitted\n",
      "[16:48:49] Explicit valence for atom # 3 Br, 2, is greater than permitted\n",
      "[16:48:49] Explicit valence for atom # 0 F, 8, is greater than permitted\n",
      "[16:48:49] Explicit valence for atom # 0 F, 8, is greater than permitted\n"
     ]
    },
    {
     "name": "stdout",
     "output_type": "stream",
     "text": [
      "ERROR!!!!!!\n",
      "Explicit valence for atom # 1 Br, 2, is greater than permitted\n",
      "ERROR!!!!!!\n",
      "Explicit valence for atom # 3 Br, 2, is greater than permitted\n",
      "ERROR!!!!!!\n",
      "Explicit valence for atom # 0 F, 8, is greater than permitted\n"
     ]
    },
    {
     "name": "stderr",
     "output_type": "stream",
     "text": [
      "[16:48:49] Explicit valence for atom # 6 F, 2, is greater than permitted\n",
      "[16:48:49] Explicit valence for atom # 6 F, 2, is greater than permitted\n",
      "[16:48:49] Explicit valence for atom # 8 Cl, 2, is greater than permitted\n",
      "[16:48:49] Explicit valence for atom # 8 Cl, 2, is greater than permitted\n",
      "[16:48:49] Explicit valence for atom # 6 F, 2, is greater than permitted\n",
      "[16:48:49] Explicit valence for atom # 6 F, 2, is greater than permitted\n"
     ]
    },
    {
     "name": "stdout",
     "output_type": "stream",
     "text": [
      "ERROR!!!!!!\n",
      "Explicit valence for atom # 6 F, 2, is greater than permitted\n",
      "ERROR!!!!!!\n",
      "Explicit valence for atom # 8 Cl, 2, is greater than permitted\n",
      "ERROR!!!!!!\n",
      "Explicit valence for atom # 6 F, 2, is greater than permitted\n"
     ]
    },
    {
     "name": "stderr",
     "output_type": "stream",
     "text": [
      "[16:48:49] Explicit valence for atom # 2 N, 5, is greater than permitted\n",
      "[16:48:49] Explicit valence for atom # 2 N, 5, is greater than permitted\n",
      "[16:48:50] Explicit valence for atom # 5 Cl, 2, is greater than permitted\n",
      "[16:48:50] Explicit valence for atom # 5 Cl, 2, is greater than permitted\n"
     ]
    },
    {
     "name": "stdout",
     "output_type": "stream",
     "text": [
      "ERROR!!!!!!\n",
      "Explicit valence for atom # 2 N, 5, is greater than permitted\n",
      "Molecule: Atoms(symbols='CH6ClNO3S', pbc=False)\n",
      "ERROR!!!!!!\n",
      "Explicit valence for atom # 5 Cl, 2, is greater than permitted\n",
      "Molecule: Atoms(symbols='CH7ClIN3O', pbc=False)\n",
      "ERROR!!!!!!\n",
      "Explicit valence for atom # 3 Cl, 2, is greater than permitted\n",
      "ERROR!!!!!!\n",
      "Explicit valence for atom # 6 Br, 2, is greater than permitted\n"
     ]
    },
    {
     "name": "stderr",
     "output_type": "stream",
     "text": [
      "[16:48:50] Explicit valence for atom # 3 Cl, 2, is greater than permitted\n",
      "[16:48:50] Explicit valence for atom # 3 Cl, 2, is greater than permitted\n",
      "[16:48:50] Explicit valence for atom # 6 Br, 2, is greater than permitted\n",
      "[16:48:50] Explicit valence for atom # 6 Br, 2, is greater than permitted\n",
      "[16:48:50] Explicit valence for atom # 0 Cl, 2, is greater than permitted\n",
      "[16:48:50] Explicit valence for atom # 0 Cl, 2, is greater than permitted\n"
     ]
    },
    {
     "name": "stdout",
     "output_type": "stream",
     "text": [
      "ERROR!!!!!!\n",
      "Explicit valence for atom # 0 Cl, 2, is greater than permitted\n",
      "ERROR!!!!!!\n",
      "Explicit valence for atom # 3 F, 3, is greater than permitted\n"
     ]
    },
    {
     "name": "stderr",
     "output_type": "stream",
     "text": [
      "[16:48:50] Explicit valence for atom # 3 F, 3, is greater than permitted\n",
      "[16:48:50] Explicit valence for atom # 3 F, 3, is greater than permitted\n",
      "[16:48:50] Explicit valence for atom # 6 Cl, 2, is greater than permitted\n",
      "[16:48:50] Explicit valence for atom # 6 Cl, 2, is greater than permitted\n",
      "[16:48:50] Explicit valence for atom # 1 F, 3, is greater than permitted\n",
      "[16:48:50] Explicit valence for atom # 1 F, 3, is greater than permitted\n"
     ]
    },
    {
     "name": "stdout",
     "output_type": "stream",
     "text": [
      "ERROR!!!!!!\n",
      "Explicit valence for atom # 6 Cl, 2, is greater than permitted\n",
      "ERROR!!!!!!\n",
      "Explicit valence for atom # 1 F, 3, is greater than permitted\n"
     ]
    },
    {
     "name": "stderr",
     "output_type": "stream",
     "text": [
      "[16:48:50] Explicit valence for atom # 1 F, 2, is greater than permitted\n",
      "[16:48:50] Explicit valence for atom # 1 F, 2, is greater than permitted\n",
      "[16:48:50] non-ring atom 13 marked aromatic\n",
      "[16:48:50] non-ring atom 13 marked aromatic\n",
      "[16:48:51] Explicit valence for atom # 6 F, 2, is greater than permitted\n",
      "[16:48:51] Explicit valence for atom # 6 F, 2, is greater than permitted\n"
     ]
    },
    {
     "name": "stdout",
     "output_type": "stream",
     "text": [
      "ERROR!!!!!!\n",
      "Explicit valence for atom # 1 F, 2, is greater than permitted\n",
      "ERROR!!!!!!\n",
      "non-ring atom 13 marked aromatic\n",
      "ERROR!!!!!!\n",
      "Explicit valence for atom # 6 F, 2, is greater than permitted\n"
     ]
    },
    {
     "name": "stderr",
     "output_type": "stream",
     "text": [
      "[16:48:51] Explicit valence for atom # 3 Br, 2, is greater than permitted\n",
      "[16:48:51] Explicit valence for atom # 3 Br, 2, is greater than permitted\n"
     ]
    },
    {
     "name": "stdout",
     "output_type": "stream",
     "text": [
      "ERROR!!!!!!\n",
      "Explicit valence for atom # 3 Br, 2, is greater than permitted\n"
     ]
    },
    {
     "name": "stderr",
     "output_type": "stream",
     "text": [
      "[16:48:51] Explicit valence for atom # 2 N, 8, is greater than permitted\n",
      "[16:48:51] Explicit valence for atom # 2 N, 8, is greater than permitted\n"
     ]
    },
    {
     "name": "stdout",
     "output_type": "stream",
     "text": [
      "ERROR!!!!!!\n",
      "Explicit valence for atom # 2 N, 8, is greater than permitted\n"
     ]
    },
    {
     "name": "stderr",
     "output_type": "stream",
     "text": [
      "[16:48:51] non-ring atom 4 marked aromatic\n",
      "[16:48:51] non-ring atom 4 marked aromatic\n"
     ]
    },
    {
     "name": "stdout",
     "output_type": "stream",
     "text": [
      "ERROR!!!!!!\n",
      "non-ring atom 4 marked aromatic\n"
     ]
    },
    {
     "name": "stderr",
     "output_type": "stream",
     "text": [
      "[16:48:52] Explicit valence for atom # 1 Br, 2, is greater than permitted\n",
      "[16:48:52] Explicit valence for atom # 1 Br, 2, is greater than permitted\n"
     ]
    },
    {
     "name": "stdout",
     "output_type": "stream",
     "text": [
      "ERROR!!!!!!\n",
      "Explicit valence for atom # 1 Br, 2, is greater than permitted\n"
     ]
    },
    {
     "name": "stderr",
     "output_type": "stream",
     "text": [
      "[16:48:52] Explicit valence for atom # 1 Br, 4, is greater than permitted\n",
      "[16:48:52] Explicit valence for atom # 1 Br, 4, is greater than permitted\n"
     ]
    },
    {
     "name": "stdout",
     "output_type": "stream",
     "text": [
      "ERROR!!!!!!\n",
      "Explicit valence for atom # 1 Br, 4, is greater than permitted\n"
     ]
    },
    {
     "name": "stderr",
     "output_type": "stream",
     "text": [
      "[16:48:52] Explicit valence for atom # 1 O, 5, is greater than permitted\n",
      "[16:48:52] Explicit valence for atom # 1 O, 5, is greater than permitted\n",
      "[16:48:52] Explicit valence for atom # 1 O, 3, is greater than permitted\n",
      "[16:48:52] Explicit valence for atom # 1 O, 3, is greater than permitted\n"
     ]
    },
    {
     "name": "stdout",
     "output_type": "stream",
     "text": [
      "ERROR!!!!!!\n",
      "Explicit valence for atom # 1 O, 5, is greater than permitted\n",
      "ERROR!!!!!!\n",
      "Explicit valence for atom # 1 O, 3, is greater than permitted\n"
     ]
    },
    {
     "name": "stderr",
     "output_type": "stream",
     "text": [
      "[16:48:52] Explicit valence for atom # 3 Cl, 4, is greater than permitted\n",
      "[16:48:52] Explicit valence for atom # 3 Cl, 4, is greater than permitted\n",
      "[16:48:52] Explicit valence for atom # 2 Cl, 4, is greater than permitted\n",
      "[16:48:52] Explicit valence for atom # 2 Cl, 4, is greater than permitted\n",
      "[16:48:53] Explicit valence for atom # 1 F, 2, is greater than permitted\n"
     ]
    },
    {
     "name": "stdout",
     "output_type": "stream",
     "text": [
      "ERROR!!!!!!\n",
      "Explicit valence for atom # 3 Cl, 4, is greater than permitted\n",
      "ERROR!!!!!!\n",
      "Explicit valence for atom # 2 Cl, 4, is greater than permitted\n"
     ]
    },
    {
     "name": "stderr",
     "output_type": "stream",
     "text": [
      "[16:48:53] Explicit valence for atom # 1 F, 2, is greater than permitted\n",
      "[16:48:53] Explicit valence for atom # 5 F, 2, is greater than permitted\n",
      "[16:48:53] Explicit valence for atom # 5 F, 2, is greater than permitted\n",
      "[16:48:53] Explicit valence for atom # 1 F, 2, is greater than permitted\n",
      "[16:48:53] Explicit valence for atom # 1 F, 2, is greater than permitted\n"
     ]
    },
    {
     "name": "stdout",
     "output_type": "stream",
     "text": [
      "ERROR!!!!!!\n",
      "Explicit valence for atom # 1 F, 2, is greater than permitted\n",
      "ERROR!!!!!!\n",
      "Explicit valence for atom # 5 F, 2, is greater than permitted\n",
      "ERROR!!!!!!\n",
      "Explicit valence for atom # 1 F, 2, is greater than permitted\n"
     ]
    },
    {
     "name": "stderr",
     "output_type": "stream",
     "text": [
      "[16:48:53] Explicit valence for atom # 5 Br, 2, is greater than permitted\n",
      "[16:48:53] Explicit valence for atom # 5 Br, 2, is greater than permitted\n",
      "[16:48:53] Explicit valence for atom # 0 Br, 4, is greater than permitted\n",
      "[16:48:53] Explicit valence for atom # 0 Br, 4, is greater than permitted\n"
     ]
    },
    {
     "name": "stdout",
     "output_type": "stream",
     "text": [
      "ERROR!!!!!!\n",
      "Explicit valence for atom # 5 Br, 2, is greater than permitted\n",
      "ERROR!!!!!!\n",
      "Explicit valence for atom # 0 Br, 4, is greater than permitted\n"
     ]
    },
    {
     "name": "stderr",
     "output_type": "stream",
     "text": [
      "[16:48:53] Explicit valence for atom # 1 F, 2, is greater than permitted\n",
      "[16:48:53] Explicit valence for atom # 1 F, 2, is greater than permitted\n"
     ]
    },
    {
     "name": "stdout",
     "output_type": "stream",
     "text": [
      "ERROR!!!!!!\n",
      "Explicit valence for atom # 1 F, 2, is greater than permitted\n"
     ]
    },
    {
     "name": "stderr",
     "output_type": "stream",
     "text": [
      "[16:48:53] Explicit valence for atom # 1 Br, 2, is greater than permitted\n",
      "[16:48:53] Explicit valence for atom # 1 Br, 2, is greater than permitted\n",
      "[16:48:54] Explicit valence for atom # 1 Cl, 3, is greater than permitted\n",
      "[16:48:54] Explicit valence for atom # 1 Cl, 3, is greater than permitted\n"
     ]
    },
    {
     "name": "stdout",
     "output_type": "stream",
     "text": [
      "ERROR!!!!!!\n",
      "Explicit valence for atom # 1 Br, 2, is greater than permitted\n",
      "ERROR!!!!!!\n",
      "Explicit valence for atom # 1 Cl, 3, is greater than permitted\n",
      "Molecule: Atoms(symbols='CH17IN2O2P2SSi2', pbc=False)\n"
     ]
    },
    {
     "name": "stderr",
     "output_type": "stream",
     "text": [
      "[16:48:54] Explicit valence for atom # 3 Cl, 2, is greater than permitted\n",
      "[16:48:54] Explicit valence for atom # 3 Cl, 2, is greater than permitted\n",
      "[16:48:54] Explicit valence for atom # 4 F, 2, is greater than permitted\n",
      "[16:48:54] Explicit valence for atom # 4 F, 2, is greater than permitted\n",
      "[16:48:54] non-ring atom 4 marked aromatic\n",
      "[16:48:54] non-ring atom 4 marked aromatic\n"
     ]
    },
    {
     "name": "stdout",
     "output_type": "stream",
     "text": [
      "ERROR!!!!!!\n",
      "Explicit valence for atom # 3 Cl, 2, is greater than permitted\n",
      "ERROR!!!!!!\n",
      "Explicit valence for atom # 4 F, 2, is greater than permitted\n",
      "ERROR!!!!!!\n",
      "non-ring atom 4 marked aromatic\n"
     ]
    },
    {
     "name": "stderr",
     "output_type": "stream",
     "text": [
      "[16:48:54] Explicit valence for atom # 0 Br, 4, is greater than permitted\n",
      "[16:48:54] Explicit valence for atom # 0 Br, 4, is greater than permitted\n",
      "[16:48:54] Explicit valence for atom # 2 Cl, 5, is greater than permitted\n",
      "[16:48:54] Explicit valence for atom # 2 Cl, 5, is greater than permitted\n",
      "[16:48:54] Explicit valence for atom # 2 Br, 2, is greater than permitted\n",
      "[16:48:54] Explicit valence for atom # 2 Br, 2, is greater than permitted\n"
     ]
    },
    {
     "name": "stdout",
     "output_type": "stream",
     "text": [
      "ERROR!!!!!!\n",
      "Explicit valence for atom # 0 Br, 4, is greater than permitted\n",
      "ERROR!!!!!!\n",
      "Explicit valence for atom # 2 Cl, 5, is greater than permitted\n",
      "ERROR!!!!!!\n",
      "Explicit valence for atom # 2 Br, 2, is greater than permitted\n"
     ]
    },
    {
     "name": "stderr",
     "output_type": "stream",
     "text": [
      "[16:48:55] Explicit valence for atom # 3 F, 2, is greater than permitted\n",
      "[16:48:55] Explicit valence for atom # 3 F, 2, is greater than permitted\n",
      "[16:48:55] Explicit valence for atom # 16 O, 3, is greater than permitted\n",
      "[16:48:55] Explicit valence for atom # 16 O, 3, is greater than permitted\n",
      "[16:48:55] Explicit valence for atom # 1 S, 7, is greater than permitted\n",
      "[16:48:55] Explicit valence for atom # 1 S, 7, is greater than permitted\n"
     ]
    },
    {
     "name": "stdout",
     "output_type": "stream",
     "text": [
      "ERROR!!!!!!\n",
      "Explicit valence for atom # 3 F, 2, is greater than permitted\n",
      "ERROR!!!!!!\n",
      "Explicit valence for atom # 16 O, 3, is greater than permitted\n",
      "ERROR!!!!!!\n",
      "Explicit valence for atom # 1 S, 7, is greater than permitted\n"
     ]
    },
    {
     "name": "stderr",
     "output_type": "stream",
     "text": [
      "[16:48:55] Explicit valence for atom # 9 F, 2, is greater than permitted\n",
      "[16:48:55] Explicit valence for atom # 9 F, 2, is greater than permitted\n"
     ]
    },
    {
     "name": "stdout",
     "output_type": "stream",
     "text": [
      "ERROR!!!!!!\n",
      "Explicit valence for atom # 9 F, 2, is greater than permitted\n",
      "Molecule: Atoms(symbols='CH13N2OPSSi2', pbc=False)\n"
     ]
    },
    {
     "name": "stderr",
     "output_type": "stream",
     "text": [
      "[16:48:55] Explicit valence for atom # 3 F, 2, is greater than permitted\n",
      "[16:48:55] Explicit valence for atom # 3 F, 2, is greater than permitted\n",
      "[16:48:55] Explicit valence for atom # 2 Br, 2, is greater than permitted\n",
      "[16:48:55] Explicit valence for atom # 2 Br, 2, is greater than permitted\n"
     ]
    },
    {
     "name": "stdout",
     "output_type": "stream",
     "text": [
      "ERROR!!!!!!\n",
      "Explicit valence for atom # 3 F, 2, is greater than permitted\n",
      "Molecule: Atoms(symbols='C2H6S2', pbc=False)\n",
      "ERROR!!!!!!\n",
      "Explicit valence for atom # 2 Br, 2, is greater than permitted\n",
      "Molecule: Atoms(symbols='C2H18BrI2O3PSi3', pbc=False)\n"
     ]
    },
    {
     "name": "stderr",
     "output_type": "stream",
     "text": [
      "[16:48:56] Explicit valence for atom # 6 O, 5, is greater than permitted\n",
      "[16:48:56] Explicit valence for atom # 6 O, 5, is greater than permitted\n",
      "[16:48:56] Explicit valence for atom # 2 O, 4, is greater than permitted\n",
      "[16:48:56] Explicit valence for atom # 2 O, 4, is greater than permitted\n"
     ]
    },
    {
     "name": "stdout",
     "output_type": "stream",
     "text": [
      "ERROR!!!!!!\n",
      "Explicit valence for atom # 6 O, 5, is greater than permitted\n",
      "ERROR!!!!!!\n",
      "Explicit valence for atom # 2 O, 4, is greater than permitted\n"
     ]
    },
    {
     "name": "stderr",
     "output_type": "stream",
     "text": [
      "[16:48:56] Explicit valence for atom # 1 N, 5, is greater than permitted\n",
      "[16:48:56] Explicit valence for atom # 1 N, 5, is greater than permitted\n",
      "[16:48:56] Explicit valence for atom # 2 Cl, 2, is greater than permitted\n",
      "[16:48:56] Explicit valence for atom # 2 Cl, 2, is greater than permitted\n"
     ]
    },
    {
     "name": "stdout",
     "output_type": "stream",
     "text": [
      "ERROR!!!!!!\n",
      "Explicit valence for atom # 1 N, 5, is greater than permitted\n",
      "ERROR!!!!!!\n",
      "Explicit valence for atom # 2 Cl, 2, is greater than permitted\n"
     ]
    },
    {
     "name": "stderr",
     "output_type": "stream",
     "text": [
      "[16:48:57] Explicit valence for atom # 3 Br, 2, is greater than permitted\n",
      "[16:48:57] Explicit valence for atom # 3 Br, 2, is greater than permitted\n",
      "[16:48:57] Explicit valence for atom # 2 F, 2, is greater than permitted\n",
      "[16:48:57] Explicit valence for atom # 2 F, 2, is greater than permitted\n"
     ]
    },
    {
     "name": "stdout",
     "output_type": "stream",
     "text": [
      "ERROR!!!!!!\n",
      "Explicit valence for atom # 3 Br, 2, is greater than permitted\n",
      "ERROR!!!!!!\n",
      "Explicit valence for atom # 2 F, 2, is greater than permitted\n"
     ]
    },
    {
     "name": "stderr",
     "output_type": "stream",
     "text": [
      "[16:48:57] Explicit valence for atom # 1 F, 2, is greater than permitted\n",
      "[16:48:57] Explicit valence for atom # 1 F, 2, is greater than permitted\n",
      "[16:48:57] Explicit valence for atom # 1 Cl, 2, is greater than permitted\n",
      "[16:48:57] Explicit valence for atom # 1 Cl, 2, is greater than permitted\n"
     ]
    },
    {
     "name": "stdout",
     "output_type": "stream",
     "text": [
      "ERROR!!!!!!\n",
      "Explicit valence for atom # 1 F, 2, is greater than permitted\n",
      "ERROR!!!!!!\n",
      "Explicit valence for atom # 1 Cl, 2, is greater than permitted\n"
     ]
    },
    {
     "name": "stderr",
     "output_type": "stream",
     "text": [
      "[16:48:57] Explicit valence for atom # 4 Br, 2, is greater than permitted\n",
      "[16:48:57] Explicit valence for atom # 4 Br, 2, is greater than permitted\n",
      "[16:48:57] Explicit valence for atom # 1 O, 5, is greater than permitted\n",
      "[16:48:57] Explicit valence for atom # 1 O, 5, is greater than permitted\n"
     ]
    },
    {
     "name": "stdout",
     "output_type": "stream",
     "text": [
      "ERROR!!!!!!\n",
      "Explicit valence for atom # 4 Br, 2, is greater than permitted\n",
      "ERROR!!!!!!\n",
      "Explicit valence for atom # 1 O, 5, is greater than permitted\n"
     ]
    },
    {
     "name": "stderr",
     "output_type": "stream",
     "text": [
      "[16:48:57] Explicit valence for atom # 5 Br, 3, is greater than permitted\n",
      "[16:48:57] Explicit valence for atom # 5 Br, 3, is greater than permitted\n",
      "[16:48:57] Explicit valence for atom # 3 Br, 6, is greater than permitted\n",
      "[16:48:57] Explicit valence for atom # 3 Br, 6, is greater than permitted\n"
     ]
    },
    {
     "name": "stdout",
     "output_type": "stream",
     "text": [
      "ERROR!!!!!!\n",
      "Explicit valence for atom # 5 Br, 3, is greater than permitted\n",
      "ERROR!!!!!!\n",
      "Explicit valence for atom # 3 Br, 6, is greater than permitted\n"
     ]
    },
    {
     "name": "stderr",
     "output_type": "stream",
     "text": [
      "[16:48:57] Explicit valence for atom # 0 Br, 2, is greater than permitted\n",
      "[16:48:57] Explicit valence for atom # 0 Br, 2, is greater than permitted\n",
      "[16:48:58] Explicit valence for atom # 1 Cl, 7, is greater than permitted\n",
      "[16:48:58] Explicit valence for atom # 1 Cl, 7, is greater than permitted\n"
     ]
    },
    {
     "name": "stdout",
     "output_type": "stream",
     "text": [
      "ERROR!!!!!!\n",
      "Explicit valence for atom # 0 Br, 2, is greater than permitted\n",
      "ERROR!!!!!!\n",
      "Explicit valence for atom # 1 Cl, 7, is greater than permitted\n"
     ]
    },
    {
     "name": "stderr",
     "output_type": "stream",
     "text": [
      "[16:48:58] Explicit valence for atom # 5 Cl, 2, is greater than permitted\n",
      "[16:48:58] Explicit valence for atom # 5 Cl, 2, is greater than permitted\n",
      "[16:48:58] Explicit valence for atom # 0 I, 8, is greater than permitted\n",
      "[16:48:58] Explicit valence for atom # 0 I, 8, is greater than permitted\n",
      "[16:48:58] Explicit valence for atom # 1 N, 7, is greater than permitted\n",
      "[16:48:58] Explicit valence for atom # 1 N, 7, is greater than permitted\n"
     ]
    },
    {
     "name": "stdout",
     "output_type": "stream",
     "text": [
      "ERROR!!!!!!\n",
      "Explicit valence for atom # 5 Cl, 2, is greater than permitted\n",
      "ERROR!!!!!!\n",
      "Explicit valence for atom # 0 I, 8, is greater than permitted\n",
      "ERROR!!!!!!\n",
      "Explicit valence for atom # 1 N, 7, is greater than permitted\n"
     ]
    },
    {
     "name": "stderr",
     "output_type": "stream",
     "text": [
      "[16:48:58] Explicit valence for atom # 3 F, 4, is greater than permitted\n",
      "[16:48:58] Explicit valence for atom # 3 F, 4, is greater than permitted\n",
      "[16:48:58] Explicit valence for atom # 1 F, 2, is greater than permitted\n",
      "[16:48:58] Explicit valence for atom # 1 F, 2, is greater than permitted\n"
     ]
    },
    {
     "name": "stdout",
     "output_type": "stream",
     "text": [
      "ERROR!!!!!!\n",
      "Explicit valence for atom # 3 F, 4, is greater than permitted\n",
      "ERROR!!!!!!\n",
      "Explicit valence for atom # 1 F, 2, is greater than permitted\n"
     ]
    },
    {
     "name": "stderr",
     "output_type": "stream",
     "text": [
      "[16:48:58] Explicit valence for atom # 1 F, 3, is greater than permitted\n",
      "[16:48:58] Explicit valence for atom # 1 F, 3, is greater than permitted\n",
      "[16:48:58] Explicit valence for atom # 1 Br, 2, is greater than permitted\n",
      "[16:48:58] Explicit valence for atom # 1 Br, 2, is greater than permitted\n",
      "[16:48:59] Explicit valence for atom # 7 F, 2, is greater than permitted\n",
      "[16:48:59] Explicit valence for atom # 7 F, 2, is greater than permitted\n"
     ]
    },
    {
     "name": "stdout",
     "output_type": "stream",
     "text": [
      "ERROR!!!!!!\n",
      "Explicit valence for atom # 1 F, 3, is greater than permitted\n",
      "ERROR!!!!!!\n",
      "Explicit valence for atom # 1 Br, 2, is greater than permitted\n",
      "ERROR!!!!!!\n",
      "Explicit valence for atom # 7 F, 2, is greater than permitted\n"
     ]
    },
    {
     "name": "stderr",
     "output_type": "stream",
     "text": [
      "[16:48:59] Explicit valence for atom # 1 F, 2, is greater than permitted\n",
      "[16:48:59] Explicit valence for atom # 1 F, 2, is greater than permitted\n",
      "[16:48:59] Explicit valence for atom # 6 Br, 2, is greater than permitted\n",
      "[16:48:59] Explicit valence for atom # 6 Br, 2, is greater than permitted\n",
      "[16:48:59] Explicit valence for atom # 15 Cl, 3, is greater than permitted\n",
      "[16:48:59] Explicit valence for atom # 15 Cl, 3, is greater than permitted\n"
     ]
    },
    {
     "name": "stdout",
     "output_type": "stream",
     "text": [
      "ERROR!!!!!!\n",
      "Explicit valence for atom # 1 F, 2, is greater than permitted\n",
      "ERROR!!!!!!\n",
      "Explicit valence for atom # 6 Br, 2, is greater than permitted\n",
      "ERROR!!!!!!\n",
      "Explicit valence for atom # 15 Cl, 3, is greater than permitted\n"
     ]
    },
    {
     "name": "stderr",
     "output_type": "stream",
     "text": [
      "[16:48:59] Explicit valence for atom # 2 Br, 2, is greater than permitted\n",
      "[16:48:59] Explicit valence for atom # 2 Br, 2, is greater than permitted\n",
      "[16:48:59] Explicit valence for atom # 1 O, 3, is greater than permitted\n",
      "[16:48:59] Explicit valence for atom # 1 O, 3, is greater than permitted\n"
     ]
    },
    {
     "name": "stdout",
     "output_type": "stream",
     "text": [
      "ERROR!!!!!!\n",
      "Explicit valence for atom # 2 Br, 2, is greater than permitted\n",
      "ERROR!!!!!!\n",
      "Explicit valence for atom # 1 O, 3, is greater than permitted\n"
     ]
    },
    {
     "name": "stderr",
     "output_type": "stream",
     "text": [
      "[16:48:59] Explicit valence for atom # 1 F, 2, is greater than permitted\n",
      "[16:48:59] Explicit valence for atom # 1 F, 2, is greater than permitted\n",
      "[16:48:59] Explicit valence for atom # 3 F, 2, is greater than permitted\n",
      "[16:48:59] Explicit valence for atom # 3 F, 2, is greater than permitted\n"
     ]
    },
    {
     "name": "stdout",
     "output_type": "stream",
     "text": [
      "ERROR!!!!!!\n",
      "Explicit valence for atom # 1 F, 2, is greater than permitted\n",
      "ERROR!!!!!!\n",
      "Explicit valence for atom # 3 F, 2, is greater than permitted\n"
     ]
    },
    {
     "name": "stderr",
     "output_type": "stream",
     "text": [
      "[16:48:59] Explicit valence for atom # 2 Br, 2, is greater than permitted\n",
      "[16:48:59] Explicit valence for atom # 2 Br, 2, is greater than permitted\n"
     ]
    },
    {
     "name": "stdout",
     "output_type": "stream",
     "text": [
      "ERROR!!!!!!\n",
      "Explicit valence for atom # 2 Br, 2, is greater than permitted\n"
     ]
    },
    {
     "name": "stderr",
     "output_type": "stream",
     "text": [
      "[16:49:00] Explicit valence for atom # 0 F, 5, is greater than permitted\n",
      "[16:49:00] Explicit valence for atom # 0 F, 5, is greater than permitted\n",
      "[16:49:00] Explicit valence for atom # 4 Br, 2, is greater than permitted\n",
      "[16:49:00] Explicit valence for atom # 4 Br, 2, is greater than permitted\n",
      "[16:49:00] Explicit valence for atom # 5 F, 2, is greater than permitted\n",
      "[16:49:00] Explicit valence for atom # 5 F, 2, is greater than permitted\n"
     ]
    },
    {
     "name": "stdout",
     "output_type": "stream",
     "text": [
      "ERROR!!!!!!\n",
      "Explicit valence for atom # 0 F, 5, is greater than permitted\n",
      "ERROR!!!!!!\n",
      "Explicit valence for atom # 4 Br, 2, is greater than permitted\n",
      "ERROR!!!!!!\n",
      "Explicit valence for atom # 5 F, 2, is greater than permitted\n"
     ]
    },
    {
     "name": "stderr",
     "output_type": "stream",
     "text": [
      "[16:49:00] Explicit valence for atom # 3 F, 2, is greater than permitted\n",
      "[16:49:00] Explicit valence for atom # 3 F, 2, is greater than permitted\n",
      "[16:49:00] Explicit valence for atom # 4 F, 8, is greater than permitted\n",
      "[16:49:00] Explicit valence for atom # 4 F, 8, is greater than permitted\n",
      "[16:49:00] Explicit valence for atom # 7 Cl, 4, is greater than permitted\n",
      "[16:49:00] Explicit valence for atom # 7 Cl, 4, is greater than permitted\n"
     ]
    },
    {
     "name": "stdout",
     "output_type": "stream",
     "text": [
      "ERROR!!!!!!\n",
      "Explicit valence for atom # 3 F, 2, is greater than permitted\n",
      "ERROR!!!!!!\n",
      "Explicit valence for atom # 4 F, 8, is greater than permitted\n",
      "ERROR!!!!!!\n",
      "Explicit valence for atom # 7 Cl, 4, is greater than permitted\n"
     ]
    },
    {
     "name": "stderr",
     "output_type": "stream",
     "text": [
      "[16:49:00] Explicit valence for atom # 2 F, 3, is greater than permitted\n",
      "[16:49:00] Explicit valence for atom # 2 F, 3, is greater than permitted\n",
      "[16:49:00] Explicit valence for atom # 1 Br, 2, is greater than permitted\n",
      "[16:49:00] Explicit valence for atom # 1 Br, 2, is greater than permitted\n",
      "[16:49:00] Explicit valence for atom # 7 Cl, 3, is greater than permitted\n",
      "[16:49:00] Explicit valence for atom # 7 Cl, 3, is greater than permitted\n"
     ]
    },
    {
     "name": "stdout",
     "output_type": "stream",
     "text": [
      "ERROR!!!!!!\n",
      "Explicit valence for atom # 2 F, 3, is greater than permitted\n",
      "ERROR!!!!!!\n",
      "Explicit valence for atom # 1 Br, 2, is greater than permitted\n",
      "ERROR!!!!!!\n",
      "Explicit valence for atom # 7 Cl, 3, is greater than permitted\n"
     ]
    },
    {
     "name": "stderr",
     "output_type": "stream",
     "text": [
      "[16:49:01] Explicit valence for atom # 2 Br, 2, is greater than permitted\n",
      "[16:49:01] Explicit valence for atom # 2 Br, 2, is greater than permitted\n"
     ]
    },
    {
     "name": "stdout",
     "output_type": "stream",
     "text": [
      "ERROR!!!!!!\n",
      "Explicit valence for atom # 2 Br, 2, is greater than permitted\n",
      "Molecule: Atoms(symbols='C3H11FINOSSi', pbc=False)\n",
      "Molecule: Atoms(symbols='C2H17I2O2PSSi2', pbc=False)\n"
     ]
    },
    {
     "name": "stderr",
     "output_type": "stream",
     "text": [
      "[16:49:01] Explicit valence for atom # 2 Br, 2, is greater than permitted\n",
      "[16:49:01] Explicit valence for atom # 2 Br, 2, is greater than permitted\n",
      "[16:49:01] Explicit valence for atom # 1 O, 6, is greater than permitted\n",
      "[16:49:01] Explicit valence for atom # 1 O, 6, is greater than permitted\n",
      "[16:49:01] Explicit valence for atom # 6 Cl, 2, is greater than permitted\n",
      "[16:49:01] Explicit valence for atom # 6 Cl, 2, is greater than permitted\n"
     ]
    },
    {
     "name": "stdout",
     "output_type": "stream",
     "text": [
      "ERROR!!!!!!\n",
      "Explicit valence for atom # 2 Br, 2, is greater than permitted\n",
      "ERROR!!!!!!\n",
      "Explicit valence for atom # 1 O, 6, is greater than permitted\n",
      "ERROR!!!!!!\n",
      "Explicit valence for atom # 6 Cl, 2, is greater than permitted\n"
     ]
    },
    {
     "name": "stderr",
     "output_type": "stream",
     "text": [
      "[16:49:01] Explicit valence for atom # 2 Br, 2, is greater than permitted\n",
      "[16:49:01] Explicit valence for atom # 2 Br, 2, is greater than permitted\n",
      "[16:49:02] Explicit valence for atom # 3 F, 2, is greater than permitted\n",
      "[16:49:02] Explicit valence for atom # 3 F, 2, is greater than permitted\n",
      "[16:49:02] Explicit valence for atom # 2 Cl, 2, is greater than permitted\n",
      "[16:49:02] Explicit valence for atom # 2 Cl, 2, is greater than permitted\n"
     ]
    },
    {
     "name": "stdout",
     "output_type": "stream",
     "text": [
      "ERROR!!!!!!\n",
      "Explicit valence for atom # 2 Br, 2, is greater than permitted\n",
      "ERROR!!!!!!\n",
      "Explicit valence for atom # 3 F, 2, is greater than permitted\n",
      "ERROR!!!!!!\n",
      "Explicit valence for atom # 2 Cl, 2, is greater than permitted\n"
     ]
    },
    {
     "name": "stderr",
     "output_type": "stream",
     "text": [
      "[16:49:02] Explicit valence for atom # 1 Cl, 2, is greater than permitted\n",
      "[16:49:02] Explicit valence for atom # 1 Cl, 2, is greater than permitted\n",
      "[16:49:02] Explicit valence for atom # 3 F, 2, is greater than permitted\n",
      "[16:49:02] Explicit valence for atom # 3 F, 2, is greater than permitted\n"
     ]
    },
    {
     "name": "stdout",
     "output_type": "stream",
     "text": [
      "ERROR!!!!!!\n",
      "Explicit valence for atom # 1 Cl, 2, is greater than permitted\n",
      "ERROR!!!!!!\n",
      "Explicit valence for atom # 3 F, 2, is greater than permitted\n"
     ]
    },
    {
     "name": "stderr",
     "output_type": "stream",
     "text": [
      "[16:49:02] Explicit valence for atom # 1 Br, 2, is greater than permitted\n",
      "[16:49:02] Explicit valence for atom # 1 Br, 2, is greater than permitted\n",
      "[16:49:02] non-ring atom 10 marked aromatic\n",
      "[16:49:02] non-ring atom 10 marked aromatic\n"
     ]
    },
    {
     "name": "stdout",
     "output_type": "stream",
     "text": [
      "ERROR!!!!!!\n",
      "Explicit valence for atom # 1 Br, 2, is greater than permitted\n",
      "ERROR!!!!!!\n",
      "non-ring atom 10 marked aromatic\n"
     ]
    },
    {
     "name": "stderr",
     "output_type": "stream",
     "text": [
      "[16:49:02] Explicit valence for atom # 1 Cl, 5, is greater than permitted\n",
      "[16:49:02] Explicit valence for atom # 1 Cl, 5, is greater than permitted\n",
      "[16:49:02] Explicit valence for atom # 15 O, 6, is greater than permitted\n",
      "[16:49:02] Explicit valence for atom # 15 O, 6, is greater than permitted\n",
      "[16:49:03] Explicit valence for atom # 1 F, 2, is greater than permitted\n",
      "[16:49:03] Explicit valence for atom # 1 F, 2, is greater than permitted\n"
     ]
    },
    {
     "name": "stdout",
     "output_type": "stream",
     "text": [
      "ERROR!!!!!!\n",
      "Explicit valence for atom # 1 Cl, 5, is greater than permitted\n",
      "ERROR!!!!!!\n",
      "Explicit valence for atom # 15 O, 6, is greater than permitted\n",
      "ERROR!!!!!!\n",
      "Explicit valence for atom # 1 F, 2, is greater than permitted\n",
      "Molecule: Atoms(symbols='CH13FI4N3O3PSSi', pbc=False)\n"
     ]
    },
    {
     "name": "stderr",
     "output_type": "stream",
     "text": [
      "[16:49:03] Explicit valence for atom # 5 Cl, 4, is greater than permitted\n",
      "[16:49:03] Explicit valence for atom # 5 Cl, 4, is greater than permitted\n",
      "[16:49:03] Explicit valence for atom # 0 Cl, 3, is greater than permitted\n",
      "[16:49:03] Explicit valence for atom # 0 Cl, 3, is greater than permitted\n"
     ]
    },
    {
     "name": "stdout",
     "output_type": "stream",
     "text": [
      "ERROR!!!!!!\n",
      "Explicit valence for atom # 5 Cl, 4, is greater than permitted\n",
      "ERROR!!!!!!\n",
      "Explicit valence for atom # 0 Cl, 3, is greater than permitted\n",
      "Molecule: Atoms(symbols='CH11F2NO2S2Si2', pbc=False)\n"
     ]
    },
    {
     "name": "stderr",
     "output_type": "stream",
     "text": [
      "[16:49:03] Explicit valence for atom # 1 Br, 2, is greater than permitted\n",
      "[16:49:03] Explicit valence for atom # 1 Br, 2, is greater than permitted\n",
      "[16:49:04] Explicit valence for atom # 3 N, 4, is greater than permitted\n",
      "[16:49:04] Explicit valence for atom # 3 N, 4, is greater than permitted\n",
      "[16:49:04] Explicit valence for atom # 2 Br, 2, is greater than permitted\n",
      "[16:49:04] Explicit valence for atom # 2 Br, 2, is greater than permitted\n"
     ]
    },
    {
     "name": "stdout",
     "output_type": "stream",
     "text": [
      "ERROR!!!!!!\n",
      "Explicit valence for atom # 1 Br, 2, is greater than permitted\n",
      "ERROR!!!!!!\n",
      "Explicit valence for atom # 3 N, 4, is greater than permitted\n",
      "ERROR!!!!!!\n",
      "Explicit valence for atom # 2 Br, 2, is greater than permitted\n"
     ]
    },
    {
     "name": "stderr",
     "output_type": "stream",
     "text": [
      "[16:49:04] Explicit valence for atom # 1 Cl, 2, is greater than permitted\n",
      "[16:49:04] Explicit valence for atom # 1 Cl, 2, is greater than permitted\n",
      "[16:49:04] Explicit valence for atom # 1 F, 2, is greater than permitted\n",
      "[16:49:04] Explicit valence for atom # 1 F, 2, is greater than permitted\n",
      "[16:49:04] Explicit valence for atom # 1 N, 4, is greater than permitted\n",
      "[16:49:04] Explicit valence for atom # 1 N, 4, is greater than permitted\n"
     ]
    },
    {
     "name": "stdout",
     "output_type": "stream",
     "text": [
      "ERROR!!!!!!\n",
      "Explicit valence for atom # 1 Cl, 2, is greater than permitted\n",
      "ERROR!!!!!!\n",
      "Explicit valence for atom # 1 F, 2, is greater than permitted\n",
      "ERROR!!!!!!\n",
      "Explicit valence for atom # 1 N, 4, is greater than permitted\n"
     ]
    },
    {
     "name": "stderr",
     "output_type": "stream",
     "text": [
      "[16:49:04] Explicit valence for atom # 1 Cl, 3, is greater than permitted\n",
      "[16:49:04] Explicit valence for atom # 1 Cl, 3, is greater than permitted\n",
      "[16:49:04] Explicit valence for atom # 5 Br, 2, is greater than permitted\n",
      "[16:49:04] Explicit valence for atom # 5 Br, 2, is greater than permitted\n"
     ]
    },
    {
     "name": "stdout",
     "output_type": "stream",
     "text": [
      "ERROR!!!!!!\n",
      "Explicit valence for atom # 1 Cl, 3, is greater than permitted\n",
      "ERROR!!!!!!\n",
      "Explicit valence for atom # 5 Br, 2, is greater than permitted\n"
     ]
    },
    {
     "name": "stderr",
     "output_type": "stream",
     "text": [
      "[16:49:04] Explicit valence for atom # 0 S, 12, is greater than permitted\n",
      "[16:49:04] Explicit valence for atom # 0 S, 12, is greater than permitted\n"
     ]
    },
    {
     "name": "stdout",
     "output_type": "stream",
     "text": [
      "ERROR!!!!!!\n",
      "Explicit valence for atom # 0 S, 12, is greater than permitted\n",
      "Molecule: Atoms(symbols='CH11BrFI6NO2P2S', pbc=False)\n"
     ]
    },
    {
     "name": "stderr",
     "output_type": "stream",
     "text": [
      "[16:49:05] Explicit valence for atom # 5 Cl, 2, is greater than permitted\n",
      "[16:49:05] Explicit valence for atom # 5 Cl, 2, is greater than permitted\n",
      "[16:49:05] non-ring atom 7 marked aromatic\n",
      "[16:49:05] non-ring atom 7 marked aromatic\n",
      "[16:49:05] Explicit valence for atom # 3 F, 2, is greater than permitted\n",
      "[16:49:05] Explicit valence for atom # 3 F, 2, is greater than permitted\n"
     ]
    },
    {
     "name": "stdout",
     "output_type": "stream",
     "text": [
      "ERROR!!!!!!\n",
      "Explicit valence for atom # 5 Cl, 2, is greater than permitted\n",
      "ERROR!!!!!!\n",
      "non-ring atom 7 marked aromatic\n",
      "ERROR!!!!!!\n",
      "Explicit valence for atom # 3 F, 2, is greater than permitted\n"
     ]
    },
    {
     "name": "stderr",
     "output_type": "stream",
     "text": [
      "[16:49:05] non-ring atom 10 marked aromatic\n",
      "[16:49:05] non-ring atom 10 marked aromatic\n",
      "[16:49:05] Explicit valence for atom # 6 F, 2, is greater than permitted\n",
      "[16:49:05] Explicit valence for atom # 6 F, 2, is greater than permitted\n",
      "[16:49:05] Explicit valence for atom # 1 F, 2, is greater than permitted\n",
      "[16:49:05] Explicit valence for atom # 1 F, 2, is greater than permitted\n"
     ]
    },
    {
     "name": "stdout",
     "output_type": "stream",
     "text": [
      "ERROR!!!!!!\n",
      "non-ring atom 10 marked aromatic\n",
      "ERROR!!!!!!\n",
      "Explicit valence for atom # 6 F, 2, is greater than permitted\n",
      "ERROR!!!!!!\n",
      "Explicit valence for atom # 1 F, 2, is greater than permitted\n"
     ]
    },
    {
     "name": "stderr",
     "output_type": "stream",
     "text": [
      "[16:49:05] Explicit valence for atom # 6 Cl, 2, is greater than permitted\n",
      "[16:49:05] Explicit valence for atom # 6 Cl, 2, is greater than permitted\n"
     ]
    },
    {
     "name": "stdout",
     "output_type": "stream",
     "text": [
      "ERROR!!!!!!\n",
      "Explicit valence for atom # 6 Cl, 2, is greater than permitted\n"
     ]
    },
    {
     "name": "stderr",
     "output_type": "stream",
     "text": [
      "[16:49:05] Explicit valence for atom # 1 Br, 2, is greater than permitted\n",
      "[16:49:05] Explicit valence for atom # 1 Br, 2, is greater than permitted\n",
      "[16:49:06] Explicit valence for atom # 1 Cl, 2, is greater than permitted\n",
      "[16:49:06] Explicit valence for atom # 1 Cl, 2, is greater than permitted\n"
     ]
    },
    {
     "name": "stdout",
     "output_type": "stream",
     "text": [
      "ERROR!!!!!!\n",
      "Explicit valence for atom # 1 Br, 2, is greater than permitted\n",
      "ERROR!!!!!!\n",
      "Explicit valence for atom # 1 Cl, 2, is greater than permitted\n",
      "Molecule: Atoms(symbols='C5H16BrFOSi', pbc=False)\n"
     ]
    },
    {
     "name": "stderr",
     "output_type": "stream",
     "text": [
      "[16:49:06] Explicit valence for atom # 2 Cl, 4, is greater than permitted\n",
      "[16:49:06] Explicit valence for atom # 2 Cl, 4, is greater than permitted\n",
      "[16:49:06] Explicit valence for atom # 1 Br, 2, is greater than permitted\n",
      "[16:49:06] Explicit valence for atom # 1 Br, 2, is greater than permitted\n",
      "[16:49:06] Explicit valence for atom # 1 F, 3, is greater than permitted\n",
      "[16:49:06] Explicit valence for atom # 1 F, 3, is greater than permitted\n"
     ]
    },
    {
     "name": "stdout",
     "output_type": "stream",
     "text": [
      "ERROR!!!!!!\n",
      "Explicit valence for atom # 2 Cl, 4, is greater than permitted\n",
      "ERROR!!!!!!\n",
      "Explicit valence for atom # 1 Br, 2, is greater than permitted\n",
      "ERROR!!!!!!\n",
      "Explicit valence for atom # 1 F, 3, is greater than permitted\n"
     ]
    },
    {
     "name": "stderr",
     "output_type": "stream",
     "text": [
      "[16:49:06] Explicit valence for atom # 1 Br, 6, is greater than permitted\n",
      "[16:49:06] Explicit valence for atom # 1 Br, 6, is greater than permitted\n",
      "[16:49:06] Explicit valence for atom # 4 O, 5, is greater than permitted\n",
      "[16:49:06] Explicit valence for atom # 4 O, 5, is greater than permitted\n",
      "[16:49:06] Explicit valence for atom # 1 Br, 2, is greater than permitted\n",
      "[16:49:06] Explicit valence for atom # 1 Br, 2, is greater than permitted\n"
     ]
    },
    {
     "name": "stdout",
     "output_type": "stream",
     "text": [
      "ERROR!!!!!!\n",
      "Explicit valence for atom # 1 Br, 6, is greater than permitted\n",
      "ERROR!!!!!!\n",
      "Explicit valence for atom # 4 O, 5, is greater than permitted\n",
      "ERROR!!!!!!\n",
      "Explicit valence for atom # 1 Br, 2, is greater than permitted\n"
     ]
    },
    {
     "name": "stderr",
     "output_type": "stream",
     "text": [
      "[16:49:06] Explicit valence for atom # 0 Cl, 2, is greater than permitted\n",
      "[16:49:06] Explicit valence for atom # 0 Cl, 2, is greater than permitted\n",
      "[16:49:06] Explicit valence for atom # 0 Cl, 2, is greater than permitted\n",
      "[16:49:06] Explicit valence for atom # 0 Cl, 2, is greater than permitted\n",
      "[16:49:07] Explicit valence for atom # 1 Cl, 2, is greater than permitted\n",
      "[16:49:07] Explicit valence for atom # 1 Cl, 2, is greater than permitted\n"
     ]
    },
    {
     "name": "stdout",
     "output_type": "stream",
     "text": [
      "ERROR!!!!!!\n",
      "Explicit valence for atom # 0 Cl, 2, is greater than permitted\n",
      "ERROR!!!!!!\n",
      "Explicit valence for atom # 0 Cl, 2, is greater than permitted\n",
      "ERROR!!!!!!\n",
      "Explicit valence for atom # 1 Cl, 2, is greater than permitted\n"
     ]
    },
    {
     "name": "stderr",
     "output_type": "stream",
     "text": [
      "[16:49:07] Explicit valence for atom # 1 Cl, 2, is greater than permitted\n",
      "[16:49:07] Explicit valence for atom # 1 Cl, 2, is greater than permitted\n",
      "[16:49:07] Explicit valence for atom # 1 Br, 2, is greater than permitted\n",
      "[16:49:07] Explicit valence for atom # 1 Br, 2, is greater than permitted\n",
      "[16:49:07] Explicit valence for atom # 3 F, 2, is greater than permitted\n",
      "[16:49:07] Explicit valence for atom # 3 F, 2, is greater than permitted\n"
     ]
    },
    {
     "name": "stdout",
     "output_type": "stream",
     "text": [
      "ERROR!!!!!!\n",
      "Explicit valence for atom # 1 Cl, 2, is greater than permitted\n",
      "ERROR!!!!!!\n",
      "Explicit valence for atom # 1 Br, 2, is greater than permitted\n",
      "ERROR!!!!!!\n",
      "Explicit valence for atom # 3 F, 2, is greater than permitted\n"
     ]
    },
    {
     "name": "stderr",
     "output_type": "stream",
     "text": [
      "[16:49:07] Explicit valence for atom # 3 Br, 2, is greater than permitted\n",
      "[16:49:07] Explicit valence for atom # 3 Br, 2, is greater than permitted\n",
      "[16:49:07] Explicit valence for atom # 2 Br, 6, is greater than permitted\n",
      "[16:49:07] Explicit valence for atom # 2 Br, 6, is greater than permitted\n"
     ]
    },
    {
     "name": "stdout",
     "output_type": "stream",
     "text": [
      "ERROR!!!!!!\n",
      "Explicit valence for atom # 3 Br, 2, is greater than permitted\n",
      "ERROR!!!!!!\n",
      "Explicit valence for atom # 2 Br, 6, is greater than permitted\n"
     ]
    },
    {
     "name": "stderr",
     "output_type": "stream",
     "text": [
      "[16:49:07] Explicit valence for atom # 1 F, 2, is greater than permitted\n",
      "[16:49:07] Explicit valence for atom # 1 F, 2, is greater than permitted\n",
      "[16:49:07] Explicit valence for atom # 3 F, 2, is greater than permitted\n",
      "[16:49:07] Explicit valence for atom # 3 F, 2, is greater than permitted\n"
     ]
    },
    {
     "name": "stdout",
     "output_type": "stream",
     "text": [
      "ERROR!!!!!!\n",
      "Explicit valence for atom # 1 F, 2, is greater than permitted\n",
      "ERROR!!!!!!\n",
      "Explicit valence for atom # 3 F, 2, is greater than permitted\n"
     ]
    },
    {
     "name": "stderr",
     "output_type": "stream",
     "text": [
      "[16:49:07] Explicit valence for atom # 3 Br, 2, is greater than permitted\n",
      "[16:49:07] Explicit valence for atom # 3 Br, 2, is greater than permitted\n"
     ]
    },
    {
     "name": "stdout",
     "output_type": "stream",
     "text": [
      "ERROR!!!!!!\n",
      "Explicit valence for atom # 3 Br, 2, is greater than permitted\n"
     ]
    },
    {
     "name": "stderr",
     "output_type": "stream",
     "text": [
      "[16:49:08] Explicit valence for atom # 2 F, 3, is greater than permitted\n",
      "[16:49:08] Explicit valence for atom # 2 F, 3, is greater than permitted\n",
      "[16:49:08] Explicit valence for atom # 0 Br, 7, is greater than permitted\n",
      "[16:49:08] Explicit valence for atom # 0 Br, 7, is greater than permitted\n"
     ]
    },
    {
     "name": "stdout",
     "output_type": "stream",
     "text": [
      "ERROR!!!!!!\n",
      "Explicit valence for atom # 2 F, 3, is greater than permitted\n",
      "ERROR!!!!!!\n",
      "Explicit valence for atom # 0 Br, 7, is greater than permitted\n"
     ]
    },
    {
     "name": "stderr",
     "output_type": "stream",
     "text": [
      "[16:49:08] Explicit valence for atom # 0 Br, 3, is greater than permitted\n",
      "[16:49:08] Explicit valence for atom # 0 Br, 3, is greater than permitted\n",
      "[16:49:08] Explicit valence for atom # 3 O, 5, is greater than permitted\n",
      "[16:49:08] Explicit valence for atom # 3 O, 5, is greater than permitted\n",
      "[16:49:08] Explicit valence for atom # 6 Br, 2, is greater than permitted\n",
      "[16:49:08] Explicit valence for atom # 6 Br, 2, is greater than permitted\n"
     ]
    },
    {
     "name": "stdout",
     "output_type": "stream",
     "text": [
      "ERROR!!!!!!\n",
      "Explicit valence for atom # 0 Br, 3, is greater than permitted\n",
      "ERROR!!!!!!\n",
      "Explicit valence for atom # 3 O, 5, is greater than permitted\n",
      "ERROR!!!!!!\n",
      "Explicit valence for atom # 6 Br, 2, is greater than permitted\n"
     ]
    },
    {
     "name": "stderr",
     "output_type": "stream",
     "text": [
      "[16:49:08] Explicit valence for atom # 1 F, 2, is greater than permitted\n",
      "[16:49:08] Explicit valence for atom # 1 F, 2, is greater than permitted\n",
      "[16:49:08] Explicit valence for atom # 1 Cl, 6, is greater than permitted\n",
      "[16:49:08] Explicit valence for atom # 1 Cl, 6, is greater than permitted\n",
      "[16:49:09] Explicit valence for atom # 3 Br, 2, is greater than permitted\n",
      "[16:49:09] Explicit valence for atom # 3 Br, 2, is greater than permitted\n"
     ]
    },
    {
     "name": "stdout",
     "output_type": "stream",
     "text": [
      "ERROR!!!!!!\n",
      "Explicit valence for atom # 1 F, 2, is greater than permitted\n",
      "ERROR!!!!!!\n",
      "Explicit valence for atom # 1 Cl, 6, is greater than permitted\n",
      "ERROR!!!!!!\n",
      "Explicit valence for atom # 3 Br, 2, is greater than permitted\n"
     ]
    },
    {
     "name": "stderr",
     "output_type": "stream",
     "text": [
      "[16:49:09] non-ring atom 3 marked aromatic\n",
      "[16:49:09] non-ring atom 3 marked aromatic\n",
      "[16:49:09] non-ring atom 3 marked aromatic\n",
      "[16:49:09] non-ring atom 3 marked aromatic\n",
      "[16:49:09] Explicit valence for atom # 2 F, 5, is greater than permitted\n",
      "[16:49:09] Explicit valence for atom # 2 F, 5, is greater than permitted\n"
     ]
    },
    {
     "name": "stdout",
     "output_type": "stream",
     "text": [
      "ERROR!!!!!!\n",
      "non-ring atom 3 marked aromatic\n",
      "ERROR!!!!!!\n",
      "non-ring atom 3 marked aromatic\n",
      "ERROR!!!!!!\n",
      "Explicit valence for atom # 2 F, 5, is greater than permitted\n"
     ]
    },
    {
     "name": "stderr",
     "output_type": "stream",
     "text": [
      "[16:49:09] Explicit valence for atom # 2 F, 2, is greater than permitted\n",
      "[16:49:09] Explicit valence for atom # 2 F, 2, is greater than permitted\n",
      "[16:49:09] Explicit valence for atom # 0 F, 2, is greater than permitted\n",
      "[16:49:09] Explicit valence for atom # 0 F, 2, is greater than permitted\n"
     ]
    },
    {
     "name": "stdout",
     "output_type": "stream",
     "text": [
      "ERROR!!!!!!\n",
      "Explicit valence for atom # 2 F, 2, is greater than permitted\n",
      "ERROR!!!!!!\n",
      "Explicit valence for atom # 0 F, 2, is greater than permitted\n"
     ]
    },
    {
     "name": "stderr",
     "output_type": "stream",
     "text": [
      "[16:49:09] Explicit valence for atom # 0 Br, 2, is greater than permitted\n",
      "[16:49:09] Explicit valence for atom # 0 Br, 2, is greater than permitted\n",
      "[16:49:09] Explicit valence for atom # 2 Br, 2, is greater than permitted\n",
      "[16:49:09] Explicit valence for atom # 2 Br, 2, is greater than permitted\n",
      "[16:49:09] Explicit valence for atom # 1 F, 2, is greater than permitted\n",
      "[16:49:09] Explicit valence for atom # 1 F, 2, is greater than permitted\n"
     ]
    },
    {
     "name": "stdout",
     "output_type": "stream",
     "text": [
      "ERROR!!!!!!\n",
      "Explicit valence for atom # 0 Br, 2, is greater than permitted\n",
      "ERROR!!!!!!\n",
      "Explicit valence for atom # 2 Br, 2, is greater than permitted\n",
      "ERROR!!!!!!\n",
      "Explicit valence for atom # 1 F, 2, is greater than permitted\n"
     ]
    },
    {
     "name": "stderr",
     "output_type": "stream",
     "text": [
      "[16:49:09] Explicit valence for atom # 1 Br, 2, is greater than permitted\n",
      "[16:49:09] Explicit valence for atom # 1 Br, 2, is greater than permitted\n",
      "[16:49:10] Explicit valence for atom # 1 F, 2, is greater than permitted\n",
      "[16:49:10] Explicit valence for atom # 1 F, 2, is greater than permitted\n",
      "[16:49:10] non-ring atom 4 marked aromatic\n",
      "[16:49:10] non-ring atom 4 marked aromatic\n"
     ]
    },
    {
     "name": "stdout",
     "output_type": "stream",
     "text": [
      "ERROR!!!!!!\n",
      "Explicit valence for atom # 1 Br, 2, is greater than permitted\n",
      "ERROR!!!!!!\n",
      "Explicit valence for atom # 1 F, 2, is greater than permitted\n",
      "ERROR!!!!!!\n",
      "non-ring atom 4 marked aromatic\n"
     ]
    },
    {
     "name": "stderr",
     "output_type": "stream",
     "text": [
      "[16:49:10] Explicit valence for atom # 2 Cl, 2, is greater than permitted\n",
      "[16:49:10] Explicit valence for atom # 2 Cl, 2, is greater than permitted\n",
      "[16:49:10] Explicit valence for atom # 9 N, 4, is greater than permitted\n",
      "[16:49:10] Explicit valence for atom # 9 N, 4, is greater than permitted\n",
      "[16:49:10] Explicit valence for atom # 13 O, 4, is greater than permitted\n",
      "[16:49:10] Explicit valence for atom # 13 O, 4, is greater than permitted\n"
     ]
    },
    {
     "name": "stdout",
     "output_type": "stream",
     "text": [
      "ERROR!!!!!!\n",
      "Explicit valence for atom # 2 Cl, 2, is greater than permitted\n",
      "ERROR!!!!!!\n",
      "Explicit valence for atom # 9 N, 4, is greater than permitted\n",
      "ERROR!!!!!!\n",
      "Explicit valence for atom # 13 O, 4, is greater than permitted\n"
     ]
    },
    {
     "name": "stderr",
     "output_type": "stream",
     "text": [
      "[16:49:10] Explicit valence for atom # 2 F, 2, is greater than permitted\n",
      "[16:49:10] Explicit valence for atom # 2 F, 2, is greater than permitted\n",
      "[16:49:10] Explicit valence for atom # 3 Cl, 2, is greater than permitted\n",
      "[16:49:10] Explicit valence for atom # 3 Cl, 2, is greater than permitted\n",
      "[16:49:10] Explicit valence for atom # 4 O, 5, is greater than permitted\n",
      "[16:49:10] Explicit valence for atom # 4 O, 5, is greater than permitted\n"
     ]
    },
    {
     "name": "stdout",
     "output_type": "stream",
     "text": [
      "ERROR!!!!!!\n",
      "Explicit valence for atom # 2 F, 2, is greater than permitted\n",
      "ERROR!!!!!!\n",
      "Explicit valence for atom # 3 Cl, 2, is greater than permitted\n",
      "ERROR!!!!!!\n",
      "Explicit valence for atom # 4 O, 5, is greater than permitted\n",
      "Molecule: Atoms(symbols='H13BrIN3O2Si2', pbc=False)\n"
     ]
    },
    {
     "name": "stderr",
     "output_type": "stream",
     "text": [
      "[16:49:11] Explicit valence for atom # 10 Cl, 2, is greater than permitted\n",
      "[16:49:11] Explicit valence for atom # 10 Cl, 2, is greater than permitted\n",
      "[16:49:11] Explicit valence for atom # 4 Br, 2, is greater than permitted\n",
      "[16:49:11] Explicit valence for atom # 4 Br, 2, is greater than permitted\n",
      "[16:49:11] Explicit valence for atom # 5 F, 4, is greater than permitted\n",
      "[16:49:11] Explicit valence for atom # 5 F, 4, is greater than permitted\n"
     ]
    },
    {
     "name": "stdout",
     "output_type": "stream",
     "text": [
      "ERROR!!!!!!\n",
      "Explicit valence for atom # 10 Cl, 2, is greater than permitted\n",
      "ERROR!!!!!!\n",
      "Explicit valence for atom # 4 Br, 2, is greater than permitted\n",
      "ERROR!!!!!!\n",
      "Explicit valence for atom # 5 F, 4, is greater than permitted\n"
     ]
    },
    {
     "name": "stderr",
     "output_type": "stream",
     "text": [
      "[16:49:11] Explicit valence for atom # 2 F, 2, is greater than permitted\n",
      "[16:49:11] Explicit valence for atom # 2 F, 2, is greater than permitted\n"
     ]
    },
    {
     "name": "stdout",
     "output_type": "stream",
     "text": [
      "ERROR!!!!!!\n",
      "Explicit valence for atom # 2 F, 2, is greater than permitted\n",
      "Molecule: Atoms(symbols='C5H15INPSSi', pbc=False)\n"
     ]
    },
    {
     "name": "stderr",
     "output_type": "stream",
     "text": [
      "[16:49:11] Explicit valence for atom # 1 F, 2, is greater than permitted\n",
      "[16:49:11] Explicit valence for atom # 1 F, 2, is greater than permitted\n",
      "[16:49:11] Explicit valence for atom # 0 Cl, 3, is greater than permitted\n",
      "[16:49:11] Explicit valence for atom # 0 Cl, 3, is greater than permitted\n"
     ]
    },
    {
     "name": "stdout",
     "output_type": "stream",
     "text": [
      "ERROR!!!!!!\n",
      "Explicit valence for atom # 1 F, 2, is greater than permitted\n",
      "ERROR!!!!!!\n",
      "Explicit valence for atom # 0 Cl, 3, is greater than permitted\n"
     ]
    },
    {
     "name": "stderr",
     "output_type": "stream",
     "text": [
      "[16:49:11] Explicit valence for atom # 0 N, 5, is greater than permitted\n",
      "[16:49:11] Explicit valence for atom # 0 N, 5, is greater than permitted\n",
      "[16:49:11] Explicit valence for atom # 1 Br, 2, is greater than permitted\n",
      "[16:49:11] Explicit valence for atom # 1 Br, 2, is greater than permitted\n",
      "[16:49:12] Explicit valence for atom # 1 F, 2, is greater than permitted\n",
      "[16:49:12] Explicit valence for atom # 1 F, 2, is greater than permitted\n"
     ]
    },
    {
     "name": "stdout",
     "output_type": "stream",
     "text": [
      "ERROR!!!!!!\n",
      "Explicit valence for atom # 0 N, 5, is greater than permitted\n",
      "ERROR!!!!!!\n",
      "Explicit valence for atom # 1 Br, 2, is greater than permitted\n",
      "ERROR!!!!!!\n",
      "Explicit valence for atom # 1 F, 2, is greater than permitted\n"
     ]
    },
    {
     "name": "stderr",
     "output_type": "stream",
     "text": [
      "[16:49:12] Explicit valence for atom # 1 Cl, 4, is greater than permitted\n",
      "[16:49:12] Explicit valence for atom # 1 Cl, 4, is greater than permitted\n",
      "[16:49:12] Explicit valence for atom # 2 Cl, 2, is greater than permitted\n",
      "[16:49:12] Explicit valence for atom # 2 Cl, 2, is greater than permitted\n"
     ]
    },
    {
     "name": "stdout",
     "output_type": "stream",
     "text": [
      "ERROR!!!!!!\n",
      "Explicit valence for atom # 1 Cl, 4, is greater than permitted\n",
      "ERROR!!!!!!\n",
      "Explicit valence for atom # 2 Cl, 2, is greater than permitted\n"
     ]
    },
    {
     "name": "stderr",
     "output_type": "stream",
     "text": [
      "[16:49:12] Explicit valence for atom # 5 F, 2, is greater than permitted\n",
      "[16:49:12] Explicit valence for atom # 5 F, 2, is greater than permitted\n",
      "[16:49:12] Explicit valence for atom # 5 Br, 4, is greater than permitted\n",
      "[16:49:12] Explicit valence for atom # 5 Br, 4, is greater than permitted\n"
     ]
    },
    {
     "name": "stdout",
     "output_type": "stream",
     "text": [
      "ERROR!!!!!!\n",
      "Explicit valence for atom # 5 F, 2, is greater than permitted\n",
      "ERROR!!!!!!\n",
      "Explicit valence for atom # 5 Br, 4, is greater than permitted\n"
     ]
    },
    {
     "name": "stderr",
     "output_type": "stream",
     "text": [
      "[16:49:12] Explicit valence for atom # 1 Cl, 5, is greater than permitted\n",
      "[16:49:12] Explicit valence for atom # 1 Cl, 5, is greater than permitted\n",
      "[16:49:12] Explicit valence for atom # 4 Br, 2, is greater than permitted\n",
      "[16:49:12] Explicit valence for atom # 4 Br, 2, is greater than permitted\n"
     ]
    },
    {
     "name": "stdout",
     "output_type": "stream",
     "text": [
      "ERROR!!!!!!\n",
      "Explicit valence for atom # 1 Cl, 5, is greater than permitted\n",
      "ERROR!!!!!!\n",
      "Explicit valence for atom # 4 Br, 2, is greater than permitted\n"
     ]
    },
    {
     "name": "stderr",
     "output_type": "stream",
     "text": [
      "[16:49:13] Explicit valence for atom # 1 Cl, 2, is greater than permitted\n",
      "[16:49:13] Explicit valence for atom # 1 Cl, 2, is greater than permitted\n",
      "[16:49:13] Explicit valence for atom # 0 Si, 7, is greater than permitted\n",
      "[16:49:13] Explicit valence for atom # 0 Si, 7, is greater than permitted\n"
     ]
    },
    {
     "name": "stdout",
     "output_type": "stream",
     "text": [
      "ERROR!!!!!!\n",
      "Explicit valence for atom # 1 Cl, 2, is greater than permitted\n",
      "ERROR!!!!!!\n",
      "Explicit valence for atom # 0 Si, 7, is greater than permitted\n"
     ]
    },
    {
     "name": "stderr",
     "output_type": "stream",
     "text": [
      "[16:49:13] Explicit valence for atom # 2 Cl, 2, is greater than permitted\n",
      "[16:49:13] Explicit valence for atom # 2 Cl, 2, is greater than permitted\n",
      "[16:49:13] Explicit valence for atom # 19 Br, 3, is greater than permitted\n",
      "[16:49:13] Explicit valence for atom # 19 Br, 3, is greater than permitted\n"
     ]
    },
    {
     "name": "stdout",
     "output_type": "stream",
     "text": [
      "ERROR!!!!!!\n",
      "Explicit valence for atom # 2 Cl, 2, is greater than permitted\n",
      "ERROR!!!!!!\n",
      "Explicit valence for atom # 19 Br, 3, is greater than permitted\n"
     ]
    },
    {
     "name": "stderr",
     "output_type": "stream",
     "text": [
      "[16:49:13] Explicit valence for atom # 0 O, 3, is greater than permitted\n",
      "[16:49:13] Explicit valence for atom # 0 O, 3, is greater than permitted\n",
      "[16:49:13] Explicit valence for atom # 6 C, 7, is greater than permitted\n",
      "[16:49:13] Explicit valence for atom # 6 C, 7, is greater than permitted\n"
     ]
    },
    {
     "name": "stdout",
     "output_type": "stream",
     "text": [
      "ERROR!!!!!!\n",
      "Explicit valence for atom # 0 O, 3, is greater than permitted\n",
      "ERROR!!!!!!\n",
      "Explicit valence for atom # 6 C, 7, is greater than permitted\n"
     ]
    },
    {
     "name": "stderr",
     "output_type": "stream",
     "text": [
      "[16:49:13] Explicit valence for atom # 1 F, 4, is greater than permitted\n",
      "[16:49:13] Explicit valence for atom # 1 F, 4, is greater than permitted\n",
      "[16:49:13] Explicit valence for atom # 3 C, 10, is greater than permitted\n",
      "[16:49:13] Explicit valence for atom # 3 C, 10, is greater than permitted\n"
     ]
    },
    {
     "name": "stdout",
     "output_type": "stream",
     "text": [
      "ERROR!!!!!!\n",
      "Explicit valence for atom # 1 F, 4, is greater than permitted\n",
      "ERROR!!!!!!\n",
      "Explicit valence for atom # 3 C, 10, is greater than permitted\n"
     ]
    },
    {
     "name": "stderr",
     "output_type": "stream",
     "text": [
      "[16:49:14] Explicit valence for atom # 2 F, 6, is greater than permitted\n",
      "[16:49:14] Explicit valence for atom # 2 F, 6, is greater than permitted\n",
      "[16:49:14] Explicit valence for atom # 6 Cl, 2, is greater than permitted\n",
      "[16:49:14] Explicit valence for atom # 6 Cl, 2, is greater than permitted\n",
      "[16:49:14] Explicit valence for atom # 1 Cl, 2, is greater than permitted\n",
      "[16:49:14] Explicit valence for atom # 1 Cl, 2, is greater than permitted\n"
     ]
    },
    {
     "name": "stdout",
     "output_type": "stream",
     "text": [
      "ERROR!!!!!!\n",
      "Explicit valence for atom # 2 F, 6, is greater than permitted\n",
      "ERROR!!!!!!\n",
      "Explicit valence for atom # 6 Cl, 2, is greater than permitted\n",
      "ERROR!!!!!!\n",
      "Explicit valence for atom # 1 Cl, 2, is greater than permitted\n"
     ]
    },
    {
     "name": "stderr",
     "output_type": "stream",
     "text": [
      "[16:49:14] Explicit valence for atom # 1 Br, 6, is greater than permitted\n",
      "[16:49:14] Explicit valence for atom # 1 Br, 6, is greater than permitted\n",
      "[16:49:14] Explicit valence for atom # 1 F, 2, is greater than permitted\n",
      "[16:49:14] Explicit valence for atom # 1 F, 2, is greater than permitted\n",
      "[16:49:14] Explicit valence for atom # 1 F, 2, is greater than permitted\n",
      "[16:49:14] Explicit valence for atom # 1 F, 2, is greater than permitted\n"
     ]
    },
    {
     "name": "stdout",
     "output_type": "stream",
     "text": [
      "ERROR!!!!!!\n",
      "Explicit valence for atom # 1 Br, 6, is greater than permitted\n",
      "ERROR!!!!!!\n",
      "Explicit valence for atom # 1 F, 2, is greater than permitted\n",
      "ERROR!!!!!!\n",
      "Explicit valence for atom # 1 F, 2, is greater than permitted\n"
     ]
    },
    {
     "name": "stderr",
     "output_type": "stream",
     "text": [
      "[16:49:14] Explicit valence for atom # 7 C, 8, is greater than permitted\n",
      "[16:49:14] Explicit valence for atom # 7 C, 8, is greater than permitted\n",
      "[16:49:14] Explicit valence for atom # 7 Cl, 2, is greater than permitted\n",
      "[16:49:14] Explicit valence for atom # 7 Cl, 2, is greater than permitted\n"
     ]
    },
    {
     "name": "stdout",
     "output_type": "stream",
     "text": [
      "ERROR!!!!!!\n",
      "Explicit valence for atom # 7 C, 8, is greater than permitted\n",
      "ERROR!!!!!!\n",
      "Explicit valence for atom # 7 Cl, 2, is greater than permitted\n"
     ]
    },
    {
     "name": "stderr",
     "output_type": "stream",
     "text": [
      "[16:49:14] Explicit valence for atom # 0 O, 3, is greater than permitted\n",
      "[16:49:14] Explicit valence for atom # 0 O, 3, is greater than permitted\n",
      "[16:49:14] non-ring atom 4 marked aromatic\n",
      "[16:49:14] non-ring atom 4 marked aromatic\n"
     ]
    },
    {
     "name": "stdout",
     "output_type": "stream",
     "text": [
      "ERROR!!!!!!\n",
      "Explicit valence for atom # 0 O, 3, is greater than permitted\n",
      "ERROR!!!!!!\n",
      "non-ring atom 4 marked aromatic\n",
      "Molecule: Atoms(symbols='CH6Cl2NOP', pbc=False)\n"
     ]
    },
    {
     "name": "stderr",
     "output_type": "stream",
     "text": [
      "[16:49:15] Explicit valence for atom # 1 Br, 4, is greater than permitted\n",
      "[16:49:15] Explicit valence for atom # 1 Br, 4, is greater than permitted\n",
      "[16:49:15] Explicit valence for atom # 2 C, 8, is greater than permitted\n",
      "[16:49:15] Explicit valence for atom # 2 C, 8, is greater than permitted\n",
      "[16:49:15] Explicit valence for atom # 5 Cl, 2, is greater than permitted\n",
      "[16:49:15] Explicit valence for atom # 5 Cl, 2, is greater than permitted\n"
     ]
    },
    {
     "name": "stdout",
     "output_type": "stream",
     "text": [
      "ERROR!!!!!!\n",
      "Explicit valence for atom # 1 Br, 4, is greater than permitted\n",
      "ERROR!!!!!!\n",
      "Explicit valence for atom # 2 C, 8, is greater than permitted\n",
      "ERROR!!!!!!\n",
      "Explicit valence for atom # 5 Cl, 2, is greater than permitted\n"
     ]
    },
    {
     "name": "stderr",
     "output_type": "stream",
     "text": [
      "[16:49:15] Explicit valence for atom # 17 Cl, 4, is greater than permitted\n",
      "[16:49:15] Explicit valence for atom # 17 Cl, 4, is greater than permitted\n",
      "[16:49:15] Explicit valence for atom # 2 F, 2, is greater than permitted\n",
      "[16:49:15] Explicit valence for atom # 2 F, 2, is greater than permitted\n",
      "[16:49:15] Explicit valence for atom # 3 Cl, 2, is greater than permitted\n",
      "[16:49:15] Explicit valence for atom # 3 Cl, 2, is greater than permitted\n"
     ]
    },
    {
     "name": "stdout",
     "output_type": "stream",
     "text": [
      "ERROR!!!!!!\n",
      "Explicit valence for atom # 17 Cl, 4, is greater than permitted\n",
      "ERROR!!!!!!\n",
      "Explicit valence for atom # 2 F, 2, is greater than permitted\n",
      "ERROR!!!!!!\n",
      "Explicit valence for atom # 3 Cl, 2, is greater than permitted\n"
     ]
    },
    {
     "name": "stderr",
     "output_type": "stream",
     "text": [
      "[16:49:15] Explicit valence for atom # 0 Cl, 3, is greater than permitted\n",
      "[16:49:15] Explicit valence for atom # 0 Cl, 3, is greater than permitted\n",
      "[16:49:15] Explicit valence for atom # 6 Cl, 2, is greater than permitted\n",
      "[16:49:15] Explicit valence for atom # 6 Cl, 2, is greater than permitted\n",
      "[16:49:15] Explicit valence for atom # 3 F, 2, is greater than permitted\n",
      "[16:49:15] Explicit valence for atom # 3 F, 2, is greater than permitted\n"
     ]
    },
    {
     "name": "stdout",
     "output_type": "stream",
     "text": [
      "ERROR!!!!!!\n",
      "Explicit valence for atom # 0 Cl, 3, is greater than permitted\n",
      "ERROR!!!!!!\n",
      "Explicit valence for atom # 6 Cl, 2, is greater than permitted\n",
      "ERROR!!!!!!\n",
      "Explicit valence for atom # 3 F, 2, is greater than permitted\n"
     ]
    },
    {
     "name": "stderr",
     "output_type": "stream",
     "text": [
      "[16:49:16] Explicit valence for atom # 2 Cl, 2, is greater than permitted\n",
      "[16:49:16] Explicit valence for atom # 2 Cl, 2, is greater than permitted\n",
      "[16:49:16] Explicit valence for atom # 3 Cl, 2, is greater than permitted\n",
      "[16:49:16] Explicit valence for atom # 3 Cl, 2, is greater than permitted\n"
     ]
    },
    {
     "name": "stdout",
     "output_type": "stream",
     "text": [
      "ERROR!!!!!!\n",
      "Explicit valence for atom # 2 Cl, 2, is greater than permitted\n",
      "Molecule: Atoms(symbols='H3BrCl2F2INSi', pbc=False)\n",
      "ERROR!!!!!!\n",
      "Explicit valence for atom # 3 Cl, 2, is greater than permitted\n"
     ]
    },
    {
     "name": "stderr",
     "output_type": "stream",
     "text": [
      "[16:49:16] Explicit valence for atom # 3 Cl, 2, is greater than permitted\n",
      "[16:49:16] Explicit valence for atom # 3 Cl, 2, is greater than permitted\n",
      "[16:49:16] Explicit valence for atom # 3 Cl, 5, is greater than permitted\n",
      "[16:49:16] Explicit valence for atom # 3 Cl, 5, is greater than permitted\n"
     ]
    },
    {
     "name": "stdout",
     "output_type": "stream",
     "text": [
      "ERROR!!!!!!\n",
      "Explicit valence for atom # 3 Cl, 2, is greater than permitted\n",
      "ERROR!!!!!!\n",
      "Explicit valence for atom # 3 Cl, 5, is greater than permitted\n",
      "Molecule: Atoms(symbols='C5H14', pbc=False)\n",
      "ERROR!!!!!!\n",
      "Explicit valence for atom # 0 N, 5, is greater than permitted\n"
     ]
    },
    {
     "name": "stderr",
     "output_type": "stream",
     "text": [
      "[16:49:16] Explicit valence for atom # 0 N, 5, is greater than permitted\n",
      "[16:49:16] Explicit valence for atom # 0 N, 5, is greater than permitted\n"
     ]
    },
    {
     "name": "stdout",
     "output_type": "stream",
     "text": [
      "Molecule: Atoms(symbols='C3H14ClF2IN2S2Si', pbc=False)\n",
      "Molecule: Atoms(symbols='C3H12Br2N2OSi', pbc=False)\n",
      "ERROR!!!!!!\n",
      "Explicit valence for atom # 1 Br, 2, is greater than permitted\n"
     ]
    },
    {
     "name": "stderr",
     "output_type": "stream",
     "text": [
      "[16:49:17] Explicit valence for atom # 1 Br, 2, is greater than permitted\n",
      "[16:49:17] Explicit valence for atom # 1 Br, 2, is greater than permitted\n",
      "[16:49:17] Explicit valence for atom # 1 N, 5, is greater than permitted\n",
      "[16:49:17] Explicit valence for atom # 1 N, 5, is greater than permitted\n"
     ]
    },
    {
     "name": "stdout",
     "output_type": "stream",
     "text": [
      "ERROR!!!!!!\n",
      "Explicit valence for atom # 1 N, 5, is greater than permitted\n",
      "Molecule: Atoms(symbols='C4H14BrFNOP', pbc=False)\n"
     ]
    },
    {
     "name": "stderr",
     "output_type": "stream",
     "text": [
      "[16:49:17] Explicit valence for atom # 0 Br, 6, is greater than permitted\n",
      "[16:49:17] Explicit valence for atom # 0 Br, 6, is greater than permitted\n",
      "[16:49:18] Explicit valence for atom # 5 Cl, 2, is greater than permitted\n",
      "[16:49:18] Explicit valence for atom # 5 Cl, 2, is greater than permitted\n",
      "[16:49:18] Explicit valence for atom # 0 O, 4, is greater than permitted\n",
      "[16:49:18] Explicit valence for atom # 0 O, 4, is greater than permitted\n"
     ]
    },
    {
     "name": "stdout",
     "output_type": "stream",
     "text": [
      "ERROR!!!!!!\n",
      "Explicit valence for atom # 0 Br, 6, is greater than permitted\n",
      "ERROR!!!!!!\n",
      "Explicit valence for atom # 5 Cl, 2, is greater than permitted\n",
      "ERROR!!!!!!\n",
      "Explicit valence for atom # 0 O, 4, is greater than permitted\n"
     ]
    },
    {
     "name": "stderr",
     "output_type": "stream",
     "text": [
      "[16:49:18] Explicit valence for atom # 11 Cl, 2, is greater than permitted\n",
      "[16:49:18] Explicit valence for atom # 11 Cl, 2, is greater than permitted\n",
      "[16:49:18] Explicit valence for atom # 1 C, 7, is greater than permitted\n",
      "[16:49:18] Explicit valence for atom # 1 C, 7, is greater than permitted\n",
      "[16:49:18] Explicit valence for atom # 6 F, 2, is greater than permitted\n",
      "[16:49:18] Explicit valence for atom # 6 F, 2, is greater than permitted\n"
     ]
    },
    {
     "name": "stdout",
     "output_type": "stream",
     "text": [
      "ERROR!!!!!!\n",
      "Explicit valence for atom # 11 Cl, 2, is greater than permitted\n",
      "ERROR!!!!!!\n",
      "Explicit valence for atom # 1 C, 7, is greater than permitted\n",
      "ERROR!!!!!!\n",
      "Explicit valence for atom # 6 F, 2, is greater than permitted\n"
     ]
    },
    {
     "name": "stderr",
     "output_type": "stream",
     "text": [
      "[16:49:18] Explicit valence for atom # 9 Cl, 2, is greater than permitted\n",
      "[16:49:18] Explicit valence for atom # 9 Cl, 2, is greater than permitted\n",
      "[16:49:18] Explicit valence for atom # 1 Cl, 2, is greater than permitted\n",
      "[16:49:18] Explicit valence for atom # 1 Cl, 2, is greater than permitted\n"
     ]
    },
    {
     "name": "stdout",
     "output_type": "stream",
     "text": [
      "ERROR!!!!!!\n",
      "Explicit valence for atom # 9 Cl, 2, is greater than permitted\n",
      "ERROR!!!!!!\n",
      "Explicit valence for atom # 1 Cl, 2, is greater than permitted\n"
     ]
    },
    {
     "name": "stderr",
     "output_type": "stream",
     "text": [
      "[16:49:18] Explicit valence for atom # 1 F, 4, is greater than permitted\n",
      "[16:49:18] Explicit valence for atom # 1 F, 4, is greater than permitted\n",
      "[16:49:18] Explicit valence for atom # 0 Br, 3, is greater than permitted\n",
      "[16:49:18] Explicit valence for atom # 0 Br, 3, is greater than permitted\n",
      "[16:49:18] Explicit valence for atom # 7 Br, 3, is greater than permitted\n",
      "[16:49:18] Explicit valence for atom # 7 Br, 3, is greater than permitted\n"
     ]
    },
    {
     "name": "stdout",
     "output_type": "stream",
     "text": [
      "ERROR!!!!!!\n",
      "Explicit valence for atom # 1 F, 4, is greater than permitted\n",
      "ERROR!!!!!!\n",
      "Explicit valence for atom # 0 Br, 3, is greater than permitted\n",
      "ERROR!!!!!!\n",
      "Explicit valence for atom # 7 Br, 3, is greater than permitted\n"
     ]
    },
    {
     "name": "stderr",
     "output_type": "stream",
     "text": [
      "[16:49:19] Explicit valence for atom # 3 Cl, 5, is greater than permitted\n",
      "[16:49:19] Explicit valence for atom # 3 Cl, 5, is greater than permitted\n",
      "[16:49:19] Explicit valence for atom # 2 Cl, 2, is greater than permitted\n",
      "[16:49:19] Explicit valence for atom # 2 Cl, 2, is greater than permitted\n",
      "[16:49:19] Explicit valence for atom # 1 Br, 2, is greater than permitted\n",
      "[16:49:19] Explicit valence for atom # 1 Br, 2, is greater than permitted\n"
     ]
    },
    {
     "name": "stdout",
     "output_type": "stream",
     "text": [
      "ERROR!!!!!!\n",
      "Explicit valence for atom # 3 Cl, 5, is greater than permitted\n",
      "ERROR!!!!!!\n",
      "Explicit valence for atom # 2 Cl, 2, is greater than permitted\n",
      "ERROR!!!!!!\n",
      "Explicit valence for atom # 1 Br, 2, is greater than permitted\n"
     ]
    },
    {
     "name": "stderr",
     "output_type": "stream",
     "text": [
      "[16:49:19] Explicit valence for atom # 1 F, 2, is greater than permitted\n",
      "[16:49:19] Explicit valence for atom # 1 F, 2, is greater than permitted\n",
      "[16:49:19] Explicit valence for atom # 3 F, 4, is greater than permitted\n",
      "[16:49:19] Explicit valence for atom # 3 F, 4, is greater than permitted\n"
     ]
    },
    {
     "name": "stdout",
     "output_type": "stream",
     "text": [
      "ERROR!!!!!!\n",
      "Explicit valence for atom # 1 F, 2, is greater than permitted\n",
      "ERROR!!!!!!\n",
      "Explicit valence for atom # 3 F, 4, is greater than permitted\n"
     ]
    },
    {
     "name": "stderr",
     "output_type": "stream",
     "text": [
      "[16:49:19] Explicit valence for atom # 1 Br, 4, is greater than permitted\n",
      "[16:49:19] Explicit valence for atom # 1 Br, 4, is greater than permitted\n",
      "[16:49:19] Explicit valence for atom # 2 N, 4, is greater than permitted\n",
      "[16:49:19] Explicit valence for atom # 2 N, 4, is greater than permitted\n"
     ]
    },
    {
     "name": "stdout",
     "output_type": "stream",
     "text": [
      "ERROR!!!!!!\n",
      "Explicit valence for atom # 1 Br, 4, is greater than permitted\n",
      "ERROR!!!!!!\n",
      "Explicit valence for atom # 2 N, 4, is greater than permitted\n"
     ]
    },
    {
     "name": "stderr",
     "output_type": "stream",
     "text": [
      "[16:49:19] Explicit valence for atom # 3 Br, 2, is greater than permitted\n",
      "[16:49:19] Explicit valence for atom # 3 Br, 2, is greater than permitted\n",
      "[16:49:19] Explicit valence for atom # 2 Br, 2, is greater than permitted\n",
      "[16:49:19] Explicit valence for atom # 2 Br, 2, is greater than permitted\n"
     ]
    },
    {
     "name": "stdout",
     "output_type": "stream",
     "text": [
      "ERROR!!!!!!\n",
      "Explicit valence for atom # 3 Br, 2, is greater than permitted\n",
      "ERROR!!!!!!\n",
      "Explicit valence for atom # 2 Br, 2, is greater than permitted\n"
     ]
    },
    {
     "name": "stderr",
     "output_type": "stream",
     "text": [
      "[16:49:20] Explicit valence for atom # 6 F, 3, is greater than permitted\n",
      "[16:49:20] Explicit valence for atom # 6 F, 3, is greater than permitted\n",
      "[16:49:20] Explicit valence for atom # 18 F, 2, is greater than permitted\n",
      "[16:49:20] Explicit valence for atom # 18 F, 2, is greater than permitted\n"
     ]
    },
    {
     "name": "stdout",
     "output_type": "stream",
     "text": [
      "ERROR!!!!!!\n",
      "Explicit valence for atom # 6 F, 3, is greater than permitted\n",
      "ERROR!!!!!!\n",
      "Explicit valence for atom # 18 F, 2, is greater than permitted\n"
     ]
    },
    {
     "name": "stderr",
     "output_type": "stream",
     "text": [
      "[16:49:20] Explicit valence for atom # 6 Cl, 2, is greater than permitted\n",
      "[16:49:20] Explicit valence for atom # 6 Cl, 2, is greater than permitted\n",
      "[16:49:20] Explicit valence for atom # 2 Br, 2, is greater than permitted\n",
      "[16:49:20] Explicit valence for atom # 2 Br, 2, is greater than permitted\n",
      "[16:49:20] Explicit valence for atom # 1 Br, 4, is greater than permitted\n",
      "[16:49:20] Explicit valence for atom # 1 Br, 4, is greater than permitted\n"
     ]
    },
    {
     "name": "stdout",
     "output_type": "stream",
     "text": [
      "ERROR!!!!!!\n",
      "Explicit valence for atom # 6 Cl, 2, is greater than permitted\n",
      "ERROR!!!!!!\n",
      "Explicit valence for atom # 2 Br, 2, is greater than permitted\n",
      "ERROR!!!!!!\n",
      "Explicit valence for atom # 1 Br, 4, is greater than permitted\n"
     ]
    },
    {
     "name": "stderr",
     "output_type": "stream",
     "text": [
      "[16:49:20] Explicit valence for atom # 4 Cl, 2, is greater than permitted\n",
      "[16:49:20] Explicit valence for atom # 4 Cl, 2, is greater than permitted\n",
      "[16:49:20] Explicit valence for atom # 1 Cl, 2, is greater than permitted\n",
      "[16:49:20] Explicit valence for atom # 1 Cl, 2, is greater than permitted\n",
      "[16:49:20] Explicit valence for atom # 7 F, 2, is greater than permitted\n",
      "[16:49:20] Explicit valence for atom # 7 F, 2, is greater than permitted\n"
     ]
    },
    {
     "name": "stdout",
     "output_type": "stream",
     "text": [
      "ERROR!!!!!!\n",
      "Explicit valence for atom # 4 Cl, 2, is greater than permitted\n",
      "ERROR!!!!!!\n",
      "Explicit valence for atom # 1 Cl, 2, is greater than permitted\n",
      "ERROR!!!!!!\n",
      "Explicit valence for atom # 7 F, 2, is greater than permitted\n"
     ]
    },
    {
     "name": "stderr",
     "output_type": "stream",
     "text": [
      "[16:49:21] Explicit valence for atom # 3 Cl, 2, is greater than permitted\n",
      "[16:49:21] Explicit valence for atom # 3 Cl, 2, is greater than permitted\n",
      "[16:49:21] Explicit valence for atom # 1 O, 11, is greater than permitted\n",
      "[16:49:21] Explicit valence for atom # 1 O, 11, is greater than permitted\n",
      "[16:49:21] Explicit valence for atom # 1 F, 2, is greater than permitted\n",
      "[16:49:21] Explicit valence for atom # 1 F, 2, is greater than permitted\n"
     ]
    },
    {
     "name": "stdout",
     "output_type": "stream",
     "text": [
      "ERROR!!!!!!\n",
      "Explicit valence for atom # 3 Cl, 2, is greater than permitted\n",
      "ERROR!!!!!!\n",
      "Explicit valence for atom # 1 O, 11, is greater than permitted\n",
      "ERROR!!!!!!\n",
      "Explicit valence for atom # 1 F, 2, is greater than permitted\n"
     ]
    },
    {
     "name": "stderr",
     "output_type": "stream",
     "text": [
      "[16:49:21] Explicit valence for atom # 1 N, 7, is greater than permitted\n",
      "[16:49:21] Explicit valence for atom # 1 N, 7, is greater than permitted\n",
      "[16:49:21] Explicit valence for atom # 0 N, 5, is greater than permitted\n",
      "[16:49:21] Explicit valence for atom # 0 N, 5, is greater than permitted\n",
      "[16:49:21] non-ring atom 4 marked aromatic\n",
      "[16:49:21] non-ring atom 4 marked aromatic\n"
     ]
    },
    {
     "name": "stdout",
     "output_type": "stream",
     "text": [
      "ERROR!!!!!!\n",
      "Explicit valence for atom # 1 N, 7, is greater than permitted\n",
      "ERROR!!!!!!\n",
      "Explicit valence for atom # 0 N, 5, is greater than permitted\n",
      "ERROR!!!!!!\n",
      "non-ring atom 4 marked aromatic\n"
     ]
    },
    {
     "name": "stderr",
     "output_type": "stream",
     "text": [
      "[16:49:21] Explicit valence for atom # 2 Br, 2, is greater than permitted\n",
      "[16:49:21] Explicit valence for atom # 2 Br, 2, is greater than permitted\n",
      "[16:49:21] Explicit valence for atom # 5 Cl, 5, is greater than permitted\n",
      "[16:49:21] Explicit valence for atom # 5 Cl, 5, is greater than permitted\n"
     ]
    },
    {
     "name": "stdout",
     "output_type": "stream",
     "text": [
      "ERROR!!!!!!\n",
      "Explicit valence for atom # 2 Br, 2, is greater than permitted\n",
      "ERROR!!!!!!\n",
      "Explicit valence for atom # 5 Cl, 5, is greater than permitted\n"
     ]
    },
    {
     "name": "stderr",
     "output_type": "stream",
     "text": [
      "[16:49:21] Explicit valence for atom # 2 Cl, 2, is greater than permitted\n",
      "[16:49:21] Explicit valence for atom # 2 Cl, 2, is greater than permitted\n"
     ]
    },
    {
     "name": "stdout",
     "output_type": "stream",
     "text": [
      "ERROR!!!!!!\n",
      "Explicit valence for atom # 2 Cl, 2, is greater than permitted\n",
      "Molecule: Atoms(symbols='C3H14BrClINO2S2Si2', pbc=False)\n"
     ]
    },
    {
     "name": "stderr",
     "output_type": "stream",
     "text": [
      "[16:49:22] Explicit valence for atom # 4 Cl, 2, is greater than permitted\n",
      "[16:49:22] Explicit valence for atom # 4 Cl, 2, is greater than permitted\n",
      "[16:49:22] Explicit valence for atom # 1 F, 2, is greater than permitted\n",
      "[16:49:22] Explicit valence for atom # 1 F, 2, is greater than permitted\n"
     ]
    },
    {
     "name": "stdout",
     "output_type": "stream",
     "text": [
      "ERROR!!!!!!\n",
      "Explicit valence for atom # 4 Cl, 2, is greater than permitted\n",
      "ERROR!!!!!!\n",
      "Explicit valence for atom # 1 F, 2, is greater than permitted\n",
      "Molecule: Atoms(symbols='CH13I2NOP2SSi', pbc=False)\n"
     ]
    },
    {
     "name": "stderr",
     "output_type": "stream",
     "text": [
      "[16:49:23] Explicit valence for atom # 1 Cl, 2, is greater than permitted\n",
      "[16:49:23] Explicit valence for atom # 1 Cl, 2, is greater than permitted\n",
      "[16:49:23] Explicit valence for atom # 4 Br, 4, is greater than permitted\n",
      "[16:49:23] Explicit valence for atom # 4 Br, 4, is greater than permitted\n"
     ]
    },
    {
     "name": "stdout",
     "output_type": "stream",
     "text": [
      "ERROR!!!!!!\n",
      "Explicit valence for atom # 1 Cl, 2, is greater than permitted\n",
      "ERROR!!!!!!\n",
      "Explicit valence for atom # 4 Br, 4, is greater than permitted\n"
     ]
    },
    {
     "name": "stderr",
     "output_type": "stream",
     "text": [
      "[16:49:23] Explicit valence for atom # 1 F, 2, is greater than permitted\n",
      "[16:49:23] Explicit valence for atom # 1 F, 2, is greater than permitted\n",
      "[16:49:23] Explicit valence for atom # 0 F, 8, is greater than permitted\n",
      "[16:49:23] Explicit valence for atom # 0 F, 8, is greater than permitted\n"
     ]
    },
    {
     "name": "stdout",
     "output_type": "stream",
     "text": [
      "ERROR!!!!!!\n",
      "Explicit valence for atom # 1 F, 2, is greater than permitted\n",
      "ERROR!!!!!!\n",
      "Explicit valence for atom # 0 F, 8, is greater than permitted\n",
      "Molecule: Atoms(symbols='C2H14FN2PS2Si', pbc=False)\n"
     ]
    },
    {
     "name": "stderr",
     "output_type": "stream",
     "text": [
      "[16:49:23] Explicit valence for atom # 1 F, 2, is greater than permitted\n",
      "[16:49:23] Explicit valence for atom # 1 F, 2, is greater than permitted\n",
      "[16:49:23] Explicit valence for atom # 1 I, 6, is greater than permitted\n",
      "[16:49:23] Explicit valence for atom # 1 I, 6, is greater than permitted\n",
      "[16:49:23] Explicit valence for atom # 2 N, 4, is greater than permitted\n",
      "[16:49:23] Explicit valence for atom # 2 N, 4, is greater than permitted\n"
     ]
    },
    {
     "name": "stdout",
     "output_type": "stream",
     "text": [
      "ERROR!!!!!!\n",
      "Explicit valence for atom # 1 F, 2, is greater than permitted\n",
      "ERROR!!!!!!\n",
      "Explicit valence for atom # 1 I, 6, is greater than permitted\n",
      "ERROR!!!!!!\n",
      "Explicit valence for atom # 2 N, 4, is greater than permitted\n"
     ]
    },
    {
     "name": "stderr",
     "output_type": "stream",
     "text": [
      "[16:49:24] Explicit valence for atom # 3 N, 4, is greater than permitted\n",
      "[16:49:24] Explicit valence for atom # 3 N, 4, is greater than permitted\n",
      "[16:49:24] Explicit valence for atom # 15 Cl, 2, is greater than permitted\n",
      "[16:49:24] Explicit valence for atom # 15 Cl, 2, is greater than permitted\n",
      "[16:49:24] Explicit valence for atom # 4 Br, 2, is greater than permitted\n",
      "[16:49:24] Explicit valence for atom # 4 Br, 2, is greater than permitted\n"
     ]
    },
    {
     "name": "stdout",
     "output_type": "stream",
     "text": [
      "ERROR!!!!!!\n",
      "Explicit valence for atom # 3 N, 4, is greater than permitted\n",
      "ERROR!!!!!!\n",
      "Explicit valence for atom # 15 Cl, 2, is greater than permitted\n",
      "ERROR!!!!!!\n",
      "Explicit valence for atom # 4 Br, 2, is greater than permitted\n"
     ]
    },
    {
     "name": "stderr",
     "output_type": "stream",
     "text": [
      "[16:49:24] Explicit valence for atom # 0 Cl, 3, is greater than permitted\n",
      "[16:49:24] Explicit valence for atom # 0 Cl, 3, is greater than permitted\n",
      "[16:49:24] Explicit valence for atom # 1 Cl, 2, is greater than permitted\n",
      "[16:49:24] Explicit valence for atom # 1 Cl, 2, is greater than permitted\n",
      "[16:49:24] Explicit valence for atom # 1 Br, 4, is greater than permitted\n",
      "[16:49:24] Explicit valence for atom # 1 Br, 4, is greater than permitted\n"
     ]
    },
    {
     "name": "stdout",
     "output_type": "stream",
     "text": [
      "ERROR!!!!!!\n",
      "Explicit valence for atom # 0 Cl, 3, is greater than permitted\n",
      "ERROR!!!!!!\n",
      "Explicit valence for atom # 1 Cl, 2, is greater than permitted\n",
      "ERROR!!!!!!\n",
      "Explicit valence for atom # 1 Br, 4, is greater than permitted\n"
     ]
    },
    {
     "name": "stderr",
     "output_type": "stream",
     "text": [
      "[16:49:24] Explicit valence for atom # 1 Cl, 2, is greater than permitted\n",
      "[16:49:24] Explicit valence for atom # 1 Cl, 2, is greater than permitted\n",
      "[16:49:24] Explicit valence for atom # 2 Cl, 10, is greater than permitted\n",
      "[16:49:24] Explicit valence for atom # 2 Cl, 10, is greater than permitted\n",
      "[16:49:24] Explicit valence for atom # 3 F, 2, is greater than permitted\n",
      "[16:49:24] Explicit valence for atom # 3 F, 2, is greater than permitted\n"
     ]
    },
    {
     "name": "stdout",
     "output_type": "stream",
     "text": [
      "ERROR!!!!!!\n",
      "Explicit valence for atom # 1 Cl, 2, is greater than permitted\n",
      "ERROR!!!!!!\n",
      "Explicit valence for atom # 2 Cl, 10, is greater than permitted\n",
      "ERROR!!!!!!\n",
      "Explicit valence for atom # 3 F, 2, is greater than permitted\n"
     ]
    },
    {
     "name": "stderr",
     "output_type": "stream",
     "text": [
      "[16:49:24] Explicit valence for atom # 1 F, 4, is greater than permitted\n",
      "[16:49:24] Explicit valence for atom # 1 F, 4, is greater than permitted\n",
      "[16:49:25] Explicit valence for atom # 0 N, 5, is greater than permitted\n",
      "[16:49:25] Explicit valence for atom # 0 N, 5, is greater than permitted\n"
     ]
    },
    {
     "name": "stdout",
     "output_type": "stream",
     "text": [
      "ERROR!!!!!!\n",
      "Explicit valence for atom # 1 F, 4, is greater than permitted\n",
      "ERROR!!!!!!\n",
      "Explicit valence for atom # 0 N, 5, is greater than permitted\n"
     ]
    },
    {
     "name": "stderr",
     "output_type": "stream",
     "text": [
      "[16:49:25] Explicit valence for atom # 2 Br, 2, is greater than permitted\n",
      "[16:49:25] Explicit valence for atom # 2 Br, 2, is greater than permitted\n"
     ]
    },
    {
     "name": "stdout",
     "output_type": "stream",
     "text": [
      "ERROR!!!!!!\n",
      "Explicit valence for atom # 2 Br, 2, is greater than permitted\n",
      "Molecule: Atoms(symbols='C2H10Cl2FO2PSi', pbc=False)\n"
     ]
    },
    {
     "name": "stderr",
     "output_type": "stream",
     "text": [
      "[16:49:25] Explicit valence for atom # 7 N, 4, is greater than permitted\n",
      "[16:49:25] Explicit valence for atom # 7 N, 4, is greater than permitted\n"
     ]
    },
    {
     "name": "stdout",
     "output_type": "stream",
     "text": [
      "ERROR!!!!!!\n",
      "Explicit valence for atom # 7 N, 4, is greater than permitted\n",
      "Molecule: Atoms(symbols='CH11BrIN2OPS2', pbc=False)\n"
     ]
    },
    {
     "name": "stderr",
     "output_type": "stream",
     "text": [
      "[16:49:25] Explicit valence for atom # 1 F, 4, is greater than permitted\n",
      "[16:49:25] Explicit valence for atom # 1 F, 4, is greater than permitted\n",
      "[16:49:25] Explicit valence for atom # 4 Br, 5, is greater than permitted\n",
      "[16:49:25] Explicit valence for atom # 4 Br, 5, is greater than permitted\n"
     ]
    },
    {
     "name": "stdout",
     "output_type": "stream",
     "text": [
      "ERROR!!!!!!\n",
      "Explicit valence for atom # 1 F, 4, is greater than permitted\n",
      "ERROR!!!!!!\n",
      "Explicit valence for atom # 4 Br, 5, is greater than permitted\n",
      "Molecule: Atoms(symbols='C4H16BrClIOPS2Si', pbc=False)\n"
     ]
    },
    {
     "name": "stderr",
     "output_type": "stream",
     "text": [
      "[16:49:26] Explicit valence for atom # 4 F, 2, is greater than permitted\n",
      "[16:49:26] Explicit valence for atom # 4 F, 2, is greater than permitted\n",
      "[16:49:26] Explicit valence for atom # 5 F, 3, is greater than permitted\n",
      "[16:49:26] Explicit valence for atom # 5 F, 3, is greater than permitted\n"
     ]
    },
    {
     "name": "stdout",
     "output_type": "stream",
     "text": [
      "ERROR!!!!!!\n",
      "Explicit valence for atom # 4 F, 2, is greater than permitted\n",
      "ERROR!!!!!!\n",
      "Explicit valence for atom # 5 F, 3, is greater than permitted\n"
     ]
    },
    {
     "name": "stderr",
     "output_type": "stream",
     "text": [
      "[16:49:26] Explicit valence for atom # 3 Cl, 7, is greater than permitted\n",
      "[16:49:26] Explicit valence for atom # 3 Cl, 7, is greater than permitted\n",
      "[16:49:26] Explicit valence for atom # 1 Br, 5, is greater than permitted\n",
      "[16:49:26] Explicit valence for atom # 1 Br, 5, is greater than permitted\n",
      "[16:49:26] non-ring atom 4 marked aromatic\n",
      "[16:49:26] non-ring atom 4 marked aromatic\n"
     ]
    },
    {
     "name": "stdout",
     "output_type": "stream",
     "text": [
      "ERROR!!!!!!\n",
      "Explicit valence for atom # 3 Cl, 7, is greater than permitted\n",
      "ERROR!!!!!!\n",
      "Explicit valence for atom # 1 Br, 5, is greater than permitted\n",
      "ERROR!!!!!!\n",
      "non-ring atom 4 marked aromatic\n"
     ]
    },
    {
     "name": "stderr",
     "output_type": "stream",
     "text": [
      "[16:49:26] Explicit valence for atom # 1 F, 2, is greater than permitted\n",
      "[16:49:26] Explicit valence for atom # 1 F, 2, is greater than permitted\n",
      "[16:49:26] Explicit valence for atom # 3 Br, 2, is greater than permitted\n",
      "[16:49:26] Explicit valence for atom # 3 Br, 2, is greater than permitted\n"
     ]
    },
    {
     "name": "stdout",
     "output_type": "stream",
     "text": [
      "ERROR!!!!!!\n",
      "Explicit valence for atom # 1 F, 2, is greater than permitted\n",
      "ERROR!!!!!!\n",
      "Explicit valence for atom # 3 Br, 2, is greater than permitted\n"
     ]
    },
    {
     "name": "stderr",
     "output_type": "stream",
     "text": [
      "[16:49:26] Explicit valence for atom # 1 F, 2, is greater than permitted\n",
      "[16:49:26] Explicit valence for atom # 1 F, 2, is greater than permitted\n"
     ]
    },
    {
     "name": "stdout",
     "output_type": "stream",
     "text": [
      "ERROR!!!!!!\n",
      "Explicit valence for atom # 1 F, 2, is greater than permitted\n"
     ]
    },
    {
     "name": "stderr",
     "output_type": "stream",
     "text": [
      "[16:49:27] Explicit valence for atom # 3 Cl, 2, is greater than permitted\n",
      "[16:49:27] Explicit valence for atom # 3 Cl, 2, is greater than permitted\n",
      "[16:49:27] Explicit valence for atom # 1 Cl, 2, is greater than permitted\n",
      "[16:49:27] Explicit valence for atom # 1 Cl, 2, is greater than permitted\n"
     ]
    },
    {
     "name": "stdout",
     "output_type": "stream",
     "text": [
      "ERROR!!!!!!\n",
      "Explicit valence for atom # 3 Cl, 2, is greater than permitted\n",
      "ERROR!!!!!!\n",
      "Explicit valence for atom # 1 Cl, 2, is greater than permitted\n"
     ]
    },
    {
     "name": "stderr",
     "output_type": "stream",
     "text": [
      "[16:49:27] Explicit valence for atom # 12 O, 3, is greater than permitted\n",
      "[16:49:27] Explicit valence for atom # 12 O, 3, is greater than permitted\n",
      "[16:49:27] Explicit valence for atom # 6 Cl, 2, is greater than permitted\n",
      "[16:49:27] Explicit valence for atom # 6 Cl, 2, is greater than permitted\n",
      "[16:49:27] Explicit valence for atom # 5 Cl, 6, is greater than permitted\n",
      "[16:49:27] Explicit valence for atom # 5 Cl, 6, is greater than permitted\n"
     ]
    },
    {
     "name": "stdout",
     "output_type": "stream",
     "text": [
      "ERROR!!!!!!\n",
      "Explicit valence for atom # 12 O, 3, is greater than permitted\n",
      "ERROR!!!!!!\n",
      "Explicit valence for atom # 6 Cl, 2, is greater than permitted\n",
      "ERROR!!!!!!\n",
      "Explicit valence for atom # 5 Cl, 6, is greater than permitted\n"
     ]
    },
    {
     "name": "stderr",
     "output_type": "stream",
     "text": [
      "[16:49:27] Explicit valence for atom # 8 Br, 5, is greater than permitted\n",
      "[16:49:27] Explicit valence for atom # 8 Br, 5, is greater than permitted\n",
      "[16:49:27] Explicit valence for atom # 1 F, 2, is greater than permitted\n",
      "[16:49:27] Explicit valence for atom # 1 F, 2, is greater than permitted\n",
      "[16:49:27] non-ring atom 3 marked aromatic\n",
      "[16:49:27] non-ring atom 3 marked aromatic\n"
     ]
    },
    {
     "name": "stdout",
     "output_type": "stream",
     "text": [
      "ERROR!!!!!!\n",
      "Explicit valence for atom # 8 Br, 5, is greater than permitted\n",
      "ERROR!!!!!!\n",
      "Explicit valence for atom # 1 F, 2, is greater than permitted\n",
      "ERROR!!!!!!\n",
      "non-ring atom 3 marked aromatic\n",
      "Molecule: Atoms(symbols='CH14Cl2IO3PS2Si2', pbc=False)\n"
     ]
    },
    {
     "name": "stderr",
     "output_type": "stream",
     "text": [
      "[16:49:28] Explicit valence for atom # 1 I, 7, is greater than permitted\n",
      "[16:49:28] Explicit valence for atom # 1 I, 7, is greater than permitted\n",
      "[16:49:28] Explicit valence for atom # 0 F, 4, is greater than permitted\n",
      "[16:49:28] Explicit valence for atom # 0 F, 4, is greater than permitted\n",
      "[16:49:28] Explicit valence for atom # 1 O, 4, is greater than permitted\n",
      "[16:49:28] Explicit valence for atom # 1 O, 4, is greater than permitted\n"
     ]
    },
    {
     "name": "stdout",
     "output_type": "stream",
     "text": [
      "ERROR!!!!!!\n",
      "Explicit valence for atom # 1 I, 7, is greater than permitted\n",
      "ERROR!!!!!!\n",
      "Explicit valence for atom # 0 F, 4, is greater than permitted\n",
      "ERROR!!!!!!\n",
      "Explicit valence for atom # 1 O, 4, is greater than permitted\n"
     ]
    },
    {
     "name": "stderr",
     "output_type": "stream",
     "text": [
      "[16:49:28] Explicit valence for atom # 2 O, 5, is greater than permitted\n",
      "[16:49:28] Explicit valence for atom # 2 O, 5, is greater than permitted\n",
      "[16:49:28] Explicit valence for atom # 2 Cl, 2, is greater than permitted\n",
      "[16:49:28] Explicit valence for atom # 2 Cl, 2, is greater than permitted\n",
      "[16:49:29] Explicit valence for atom # 1 F, 2, is greater than permitted\n",
      "[16:49:29] Explicit valence for atom # 1 F, 2, is greater than permitted\n"
     ]
    },
    {
     "name": "stdout",
     "output_type": "stream",
     "text": [
      "ERROR!!!!!!\n",
      "Explicit valence for atom # 2 O, 5, is greater than permitted\n",
      "ERROR!!!!!!\n",
      "Explicit valence for atom # 2 Cl, 2, is greater than permitted\n",
      "ERROR!!!!!!\n",
      "Explicit valence for atom # 1 F, 2, is greater than permitted\n",
      "Molecule: Atoms(symbols='C4H17IN2P2Si', pbc=False)\n"
     ]
    },
    {
     "name": "stderr",
     "output_type": "stream",
     "text": [
      "[16:49:29] Explicit valence for atom # 2 Cl, 2, is greater than permitted\n",
      "[16:49:29] Explicit valence for atom # 2 Cl, 2, is greater than permitted\n",
      "[16:49:29] Explicit valence for atom # 1 F, 4, is greater than permitted\n",
      "[16:49:29] Explicit valence for atom # 1 F, 4, is greater than permitted\n",
      "[16:49:29] Explicit valence for atom # 1 Br, 2, is greater than permitted\n",
      "[16:49:29] Explicit valence for atom # 1 Br, 2, is greater than permitted\n"
     ]
    },
    {
     "name": "stdout",
     "output_type": "stream",
     "text": [
      "ERROR!!!!!!\n",
      "Explicit valence for atom # 2 Cl, 2, is greater than permitted\n",
      "ERROR!!!!!!\n",
      "Explicit valence for atom # 1 F, 4, is greater than permitted\n",
      "ERROR!!!!!!\n",
      "Explicit valence for atom # 1 Br, 2, is greater than permitted\n"
     ]
    },
    {
     "name": "stderr",
     "output_type": "stream",
     "text": [
      "[16:49:29] Explicit valence for atom # 1 O, 3, is greater than permitted\n",
      "[16:49:29] Explicit valence for atom # 1 O, 3, is greater than permitted\n",
      "[16:49:30] Explicit valence for atom # 2 Cl, 5, is greater than permitted\n",
      "[16:49:30] Explicit valence for atom # 2 Cl, 5, is greater than permitted\n"
     ]
    },
    {
     "name": "stdout",
     "output_type": "stream",
     "text": [
      "ERROR!!!!!!\n",
      "Explicit valence for atom # 1 O, 3, is greater than permitted\n",
      "ERROR!!!!!!\n",
      "Explicit valence for atom # 2 Cl, 5, is greater than permitted\n"
     ]
    },
    {
     "name": "stderr",
     "output_type": "stream",
     "text": [
      "[16:49:30] Explicit valence for atom # 4 Br, 2, is greater than permitted\n",
      "[16:49:30] Explicit valence for atom # 4 Br, 2, is greater than permitted\n"
     ]
    },
    {
     "name": "stdout",
     "output_type": "stream",
     "text": [
      "ERROR!!!!!!\n",
      "Explicit valence for atom # 4 Br, 2, is greater than permitted\n"
     ]
    },
    {
     "name": "stderr",
     "output_type": "stream",
     "text": [
      "[16:49:30] Explicit valence for atom # 1 Cl, 4, is greater than permitted\n",
      "[16:49:30] Explicit valence for atom # 1 Cl, 4, is greater than permitted\n"
     ]
    },
    {
     "name": "stdout",
     "output_type": "stream",
     "text": [
      "ERROR!!!!!!\n",
      "Explicit valence for atom # 1 Cl, 4, is greater than permitted\n",
      "Molecule: Atoms(symbols='C2H13I2NOP4Si', pbc=False)\n"
     ]
    },
    {
     "name": "stderr",
     "output_type": "stream",
     "text": [
      "[16:49:30] Explicit valence for atom # 2 Cl, 2, is greater than permitted\n",
      "[16:49:30] Explicit valence for atom # 2 Cl, 2, is greater than permitted\n",
      "[16:49:30] Explicit valence for atom # 21 N, 4, is greater than permitted\n",
      "[16:49:30] Explicit valence for atom # 21 N, 4, is greater than permitted\n"
     ]
    },
    {
     "name": "stdout",
     "output_type": "stream",
     "text": [
      "ERROR!!!!!!\n",
      "Explicit valence for atom # 2 Cl, 2, is greater than permitted\n",
      "ERROR!!!!!!\n",
      "Explicit valence for atom # 21 N, 4, is greater than permitted\n",
      "Molecule: Atoms(symbols='C2H11BrINOSi', pbc=False)\n"
     ]
    },
    {
     "name": "stderr",
     "output_type": "stream",
     "text": [
      "[16:49:31] Explicit valence for atom # 2 F, 2, is greater than permitted\n",
      "[16:49:31] Explicit valence for atom # 2 F, 2, is greater than permitted\n",
      "[16:49:31] Explicit valence for atom # 6 Cl, 2, is greater than permitted\n",
      "[16:49:31] Explicit valence for atom # 6 Cl, 2, is greater than permitted\n",
      "[16:49:31] Explicit valence for atom # 2 Br, 2, is greater than permitted\n",
      "[16:49:31] Explicit valence for atom # 2 Br, 2, is greater than permitted\n"
     ]
    },
    {
     "name": "stdout",
     "output_type": "stream",
     "text": [
      "ERROR!!!!!!\n",
      "Explicit valence for atom # 2 F, 2, is greater than permitted\n",
      "ERROR!!!!!!\n",
      "Explicit valence for atom # 6 Cl, 2, is greater than permitted\n",
      "ERROR!!!!!!\n",
      "Explicit valence for atom # 2 Br, 2, is greater than permitted\n"
     ]
    },
    {
     "name": "stderr",
     "output_type": "stream",
     "text": [
      "[16:49:31] Explicit valence for atom # 0 Cl, 2, is greater than permitted\n",
      "[16:49:31] Explicit valence for atom # 0 Cl, 2, is greater than permitted\n"
     ]
    },
    {
     "name": "stdout",
     "output_type": "stream",
     "text": [
      "ERROR!!!!!!\n",
      "Explicit valence for atom # 0 Cl, 2, is greater than permitted\n",
      "Molecule: Atoms(symbols='C2H11INO2P', pbc=False)\n",
      "1193\n"
     ]
    }
   ],
   "source": [
    "generated_list = []\n",
    "\n",
    "num_errors = 0\n",
    "\n",
    "while len(generated_list) < 100:\n",
    "    try:\n",
    "        bonds_pred, atoms_pred = generate_graph(model)\n",
    "        datapoints = process_graph_data_to_data_objects(bonds_pred, atoms_pred)\n",
    "        datapoint = datapoints[0]\n",
    "        validity = is_valid(datapoint)\n",
    "        mol, formula = to_chemula(datapoint)\n",
    "        ase_atoms, total_atoms = get_molecule(datapoint)\n",
    "        energy = get_dft(datapoint)\n",
    "        datapoint.edge_attr = torch.argmax(datapoint.edge_attr, dim=1).to(device)\n",
    "        datapoint.edge_index = datapoint.edge_index.to(device)\n",
    "        datapoint.x = datapoint.x.to(device)\n",
    "        y = get_model_prediction(datapoint) * 100\n",
    "        generated_list.append({\"atom_count\": total_atoms, \"is_valid\": validity, \"ase_atom\": ase_atoms, \"mol\": mol, \"formula\": formula, \"energy\":energy, \"bio\":y})\n",
    "    except Exception as e:\n",
    "        num_errors += 1\n",
    "        print(\"ERROR!!!!!!\")\n",
    "        print(e)\n",
    "print(num_errors)"
   ]
  },
  {
   "cell_type": "code",
   "execution_count": null,
   "metadata": {},
   "outputs": [
    {
     "name": "stdout",
     "output_type": "stream",
     "text": [
      "100\n"
     ]
    }
   ],
   "source": [
    "print(len(generated_list))"
   ]
  },
  {
   "cell_type": "code",
   "execution_count": 119,
   "metadata": {},
   "outputs": [
    {
     "name": "stdout",
     "output_type": "stream",
     "text": [
      "Atoms(symbols='C4H13F2NOS', pbc=False)\n"
     ]
    }
   ],
   "source": [
    "print(generated_list[0][\"ase_atom\"])"
   ]
  },
  {
   "cell_type": "code",
   "execution_count": 120,
   "metadata": {},
   "outputs": [],
   "source": [
    "unique_formulas = set()\n",
    "count_formulas = {}\n",
    "count_valid = 0\n",
    "total_atom_count = 0\n",
    "for item in generated_list:\n",
    "    if 'formula' in item:\n",
    "        if item['formula'] not in count_formulas:\n",
    "            count_formulas[item['formula']] = 1\n",
    "        else:\n",
    "            count_formulas[item['formula']] += 1\n",
    "        unique_formulas.add(item['formula'])\n",
    "    if 'is_valid' in item:\n",
    "        if item['is_valid'] == True:\n",
    "            count_valid += 1\n",
    "    if 'atom_count' in item:\n",
    "        total_atom_count += item['atom_count']\n"
   ]
  },
  {
   "cell_type": "code",
   "execution_count": 121,
   "metadata": {},
   "outputs": [
    {
     "name": "stdout",
     "output_type": "stream",
     "text": [
      "{'H4BrFO2Si', 'C4H15BrClO2PS', 'C2H11INO2P', 'C3H10F2N2S2', 'C2H17I2O2PSSi2', 'C5H14Br2Si', 'C4H13F2NOS', 'C6H21NO2Si', 'CH12BrINPSi2', 'C4H17IN2P2Si', 'CH13I2NOP2SSi', 'C2H9INO3P', 'C3H10BrNO2S', 'C2H9INOP', 'C3H12IO2PSi', 'C4H16BrClIOPS2Si', 'C2H11BrINOSi', 'C3H10ClIO2P2S', 'C4H22N2O2P4Si', 'C3H13ClFOPSSi', 'CH9OPSi', 'C3H18Cl2IN2P3Si', 'C2H14FN2PS2Si', 'CH6Cl2NOP', 'CH7Cl2NO4', 'CH7ClFI2OP3S3', 'CH7ClIN3O', 'C2H9Cl2INO2PS', 'C2H13Cl2F2OPS7Si', 'C2H12ClF2NP2S', 'CH9ClIPSi', 'C5H14', 'C6H17ClO2Si', 'C3H25IN3PSi3', 'C3H11BrIO3PS', 'CH11BrIN2OPS2', 'H4BrClN2OS', 'C2H10Cl2FO2PSi', 'C4H14INOS', 'C3H12IO2P', 'CH11ClI2S2Si2', 'CH13FI4N3O3PSSi', 'CH11F2NO2S2Si2', 'CH12INOSSi3', 'C5H16BrFOSi', 'C2H18BrI2O3PSi3', 'CH11NO2Si2', 'H9ClI2P2S2Si', 'C3H11FOSSi', 'C3H10BrI2O2P', 'C3H14ClF2IN2S2Si', 'C2H10ClISi', 'C3H16IN2O2PS3', 'C2H12NOPSi', 'C3H10Cl4INO', 'C4H14BrFNOP', 'C3H11FINOSSi', 'CH10BrClIN3SSi', 'C5H18FN2P', 'C3H13NO2Si', 'H13BrIN3O2Si2', 'CH11BrFI6NO2P2S', 'C4H12INP2S', 'C2H11Cl2PSSi', 'CH9FNOPS2Si', 'C3H13BrINOSi', 'C3H12Br2N2OSi', 'H14BrClIO2P3S2Si2', 'C3H15IN2O2SSi', 'C5H17Br2ISi', 'C3H15N5O', 'CH6BrClI5NO2Si', 'C3H13BrClFN2SSi', 'CH17IN2O2P2SSi2', 'C2H6S2', 'C3H14BrClINO2S2Si2', 'CH14Cl2IO3PS2Si2', 'C3H10I2O2S', 'C4H15FO2SSi2', 'C3H15N2PSSi', 'C3H15F2INO2PSi', 'H3BrCl2F2INSi', 'H8BrF2N2PSi', 'H3BrClISSi', 'C6H15BrFINOPS', 'C4H25INO2P3SSi2', 'C2H11FN2S', 'C5H15FOP2S2', 'C2H13I2NOP4Si', 'CH6ClNO3S', 'C5H22NPSSi3', 'CH5Br2N', 'H10I3N3OSi', 'C3H11FI2O2Si', 'C5H15INPSSi', 'CH12N2OP2SSi', 'C4H18FINOPSi2', 'CH10FNP2S3Si', 'CH13N2OPSSi2', 'CH7BrCl2INSi'}\n",
      "Average Number of atoms:  21.26\n",
      "Number of Unique Formulas:  100\n",
      "Number of Valid Formulas:  100\n"
     ]
    }
   ],
   "source": [
    "print(unique_formulas)\n",
    "print(\"Average Number of atoms: \", total_atom_count / 100)\n",
    "print(\"Number of Unique Formulas: \", len(unique_formulas))\n",
    "print(\"Number of Valid Formulas: \", count_valid)"
   ]
  },
  {
   "cell_type": "code",
   "execution_count": null,
   "metadata": {},
   "outputs": [
    {
     "name": "stdout",
     "output_type": "stream",
     "text": [
      "{'C5H13N': 3, 'C2H11N3O2': 1, 'C4H11NO': 5, 'C2H7NO2': 5, 'C4H10': 1, 'C4H15N3O': 1, 'C3H9NO3': 2, 'C6H16N2O': 2, 'C4H12N2': 3, 'C4H13NO2': 1, 'C4H14N2O3': 1, 'C3H8O3': 1, 'H5N3O': 1, 'CH4O4': 1, 'C5H14O2': 2, 'C2H7NO3': 2, 'C2H8N2O': 3, 'C6H15NO2': 1, 'C3H8O2': 3, 'C4H14N2O': 2, 'C6H15N': 3, 'C2H6O2': 1, 'C3H9NO2': 3, 'C3H8O': 1, 'C4H12N2O': 2, 'C6H18N2': 1, 'C5H13NO': 1, 'C4H10O': 3, 'C3H9NO': 4, 'C2H11N3O': 1, 'CH7N3O2': 1, 'C2H6O3': 3, 'C4H14N2O2': 2, 'CH5NO3': 2, 'CH6N2O': 2, 'C3H13N3': 1, 'C6H16O2': 1, 'CH6N2O2': 1, 'C3H9N': 1, 'C2H6O4': 1, 'C2H8N2': 1, 'C2H9N3O2': 1, 'C3H10O3': 1, 'H4N2O2': 1, 'C5H15N': 1, 'C7H16': 1, 'C4H12N2O2': 1, 'C5H15NO': 1, 'C6H14O': 1, 'C5H14O': 1, 'C3H12N2O2': 1, 'C7H19N': 1, 'C2H7NO': 2, 'C5H12O2': 1, 'C6H14': 1, 'C4H13NO': 2, 'C3H13N3O': 1, 'CH5NO2': 2, 'C2H10N2O2': 1, 'C2H8N2O2': 1, 'C7H19NO': 1}\n"
     ]
    }
   ],
   "source": [
    "print(count_formulas)"
   ]
  },
  {
   "cell_type": "markdown",
   "metadata": {},
   "source": [
    "### Novelty"
   ]
  },
  {
   "cell_type": "code",
   "execution_count": 122,
   "metadata": {},
   "outputs": [],
   "source": [
    "with open(\"data/og_formulas.pkl\", \"rb\") as file:\n",
    "    og_formulas = pickle.load(file)"
   ]
  },
  {
   "cell_type": "code",
   "execution_count": 123,
   "metadata": {},
   "outputs": [
    {
     "name": "stdout",
     "output_type": "stream",
     "text": [
      "['C4H10O2S2', 'C17H11BrClFN2O4', 'C7H7Br', 'C7H16BrN', 'C2HBrCl2O2', 'C4H6Br2', 'CBrCl3', 'C6H5F2N', 'C11H20O', 'C6BrF5', 'C10H24N2O4', 'C6H4ClNO2', 'C6H14O3', 'C10H22O5', 'C2H3BrO2', 'C8H18BrN', 'C7H5ClO2', 'C6H3Br3', 'C10H22OS', 'C7H6Br2', 'C14H15N5O6S', 'C10H16Cl3NOS', 'C3H5BrO', 'C2H4Br2', 'C8H14O', 'C6H6N2O', 'C22H25ClN2O9', 'C15H17N5O6S', 'C12H12', 'C6H12S', 'C8H14N4O7', 'C4H5NS', 'C4H10S', 'C3H12NO9P3', 'C6H4BrF', 'C22H24N2O8', 'C4H8BrCl', 'C11H10', 'C6H8N2S', 'C13H27Br', 'C10H12N6', 'C13H21N3O6S2', 'C14H29Br', 'C2H3FO2', 'C2H4N4O2', 'C14H16N2O4S', 'C11H24O6Si', 'C10H20O', 'C7H3Cl2FO', 'C3H5Br2Cl', 'C12H22F6N2O4S2', 'C9H17IN2', 'C8H12N4', 'C27H50O6', 'C2H5NO2', 'C9H6F3N', 'C7H6F3N', 'C11H16N8O8', 'H4N2O3', 'C2H5NO3', 'C4H10O3', 'C7H7ClS', 'C8H15IN2', 'C11H10FNO2S', 'C8H8O3', 'C12H16O7', 'C21H40O5', 'C13H22N4O3S', 'C9H10ClN5O2', 'C4H9NO4', 'C28H46O4', 'C8H5N3O4', 'C14H16ClN5O5S', 'C25H48O4', 'C16H10F3NO', 'C12H13ClF3N3O4', 'C12H8N2O5', 'C13H18N2O4', 'C10H22BrN', 'C6H11ClN2', 'C8H11N3O4', 'C5H6N2O2S', 'C13H16O3', 'C17H25N7O', 'C8H10N2', 'CHF3O3S', 'C37H61BrN2O4', 'C8H12N2O2', 'C5H13NO2', 'C9H10N4O2S2', 'C17H12Cl2N6O4', 'C22H28INO2', 'C5H4ClNO', 'C8H10O2', 'C15H27N3O', 'C10H22IN', 'C3H9O3P', 'C9H17ClN2', 'C3H3NO2', 'C6H12O2', 'C7H14O3', 'C2H3F3O', 'C21H23ClFNO5', 'C6H10', 'C22H42O4', 'C27H46O2', 'C8H17NO3', 'C15H16F5NO2S2', 'C10H14', 'C7H9NO3S', 'C5H7N3O2', 'C5H13N', 'C12H18N2O3S', 'C12H21N2O4P', 'C14H22O8', 'C14H22N2O3', 'C8H19NO', 'C12H19N3O', 'C10H11NO3', 'C9H10', 'C10H12O', 'C13H26O4', 'C7H3ClF3NO2', 'C8H7NO3', 'C7H5NO4', 'C9H19NO4', 'C8H14O3', 'C5H11NOS', 'C10H24N2', 'C34H58O4', 'C7H4F3NO2', 'C9H20S', 'C12H18', 'C5H10O', 'C3H6O', 'C4H6N2O', 'C19H36O2', 'C6H10N2O3', 'C15H21NO4', 'C7H5Cl2NO', 'C11H7NO4', 'C2H5NS', 'C5H8O4', 'C10H21NO', 'C5H12O3', 'C11H20O4', 'C8H10F3NO3S', 'C5H7N', 'C13H16O2', 'C4H8Cl2', 'C6H16N2', 'C9H16O', 'C7H14N2O', 'C4H10O4S', 'C10H6O8', 'C12H18O3', 'C13H19NO9', 'C10H15NO2', 'C13H24O4', 'C10H15F6N3O4S2', 'C12H10O3', 'C14H8Br2O2', 'C4H8O3', 'C17H21IO2', 'C11H15NO2S', 'C22H42O6', 'C14H17N3O3', 'C18H18O5', 'C11H22O2', 'C14H22O6', 'C6H14', 'C14H19ClO', 'C14H30O', 'C10H15N', 'C22H42O2', 'C9H20N2', 'C7H9NO2S', 'C7H10O2', 'C2H3NS', 'C2H3NO', 'C3H4Cl2', 'C12H12N2O2S', 'C5H8O', 'C4H6O2', 'CH2O', 'C16H13ClN2O2', 'C38H72N2O12', 'C22H20O13', 'C8H16O', 'C5H7ClO2', 'C26H47O3P', 'C8H18F6NP', 'C9H18N3OP', 'C9H16N4OS', 'C9H16F6N2O4S2', 'C5H11NO2', 'C5H9NO3S', 'C11H14N2O', 'C15H30N2', 'CH4N2O', 'C10H20O2S', 'C10H18F6N2O4S2', 'C7H14N2O4S', 'C4H12O3Si', 'C32H60O10', 'C9H13N3O3', 'C19H24N4O3', 'C2H7NO2S', 'C2H6OSi', 'C9H13F6N3O4S2', 'C8H24O2Si3', 'C7H22O2Si3', 'C6H7N', 'C12H2Br8O', 'C14H17BrN2O2', 'C12H10', 'C9H16N2', 'C6H14O6', 'C10H12O2', 'C16H14O3', 'C6H12O6', 'C4H8N2O2', 'C7H9N', 'C7H10O4S', 'C2H8N2O', 'C4H12N2O', 'C23H22ClF3O2', 'C7H16O', 'C12H22O11', 'C17H28N4O7S', 'C5H12O5', 'C14H28O2', 'C6H10O4', 'C6H18N4', 'C9H7N', 'C3H4N2', 'C4H4N2', 'C6H12N2', 'C6H6', 'C8H10N2O3S', 'C8H6O', 'C9H11N', 'C3H6O2', 'C10H14S', 'C10H12', 'C24H34N8O4S2', 'C6H7NO3S', 'C4H6O3', 'C3H4N2S', 'C12H14', 'C7H10O3', 'C2H3N3', 'C6H12N4', 'C16H33NO2', 'C4H8S2', 'C2H8O7P2', 'C13H30O6P2', 'C6H12Br2', 'C8H14ClN5', 'C17H26O', 'C11H18O3Si', 'C18H28O2', 'C9H13ClN6', 'C6H10O', 'C8H16', 'C7H12ClN5', 'C9H4Cl6O4', 'C21H25NO2', 'C14H21NO4', 'C7H14N2O3S', 'C24H45NO6S', 'C6H15Cl2NO', 'C8H13NO3S', 'C12H17N5O4S', 'C6H11NO2', 'C10H8N2', 'C12H24', 'C4H7ClO2', 'C8H12', 'C8H19O3PS2', 'C20H26', 'C18H35NO2', 'C8H20O5P2S2', 'C6H15O3P', 'C12H20ClN3O', 'C6H4Cl2', 'C31H52O3', 'C6H3Cl3', 'C12H8', 'C4H4O', 'C12H22', 'C7H6Cl2', 'C12H8O2', 'C10H8O2', 'C11H14N2', 'C10H10O3', 'C17H17N3O3', 'C4H6O', 'C9H8N2', 'C6H9N3O3', 'C13H22O', 'C12H27P', 'C28H52N2O4', 'C12H11NO3', 'C3H8N2O', 'C8H10ClN5O3S', 'C6H14N2O', 'C17H16O4', 'C10H18O3', 'C15H20ClN3O', 'C26H48O4', 'C15H10ClF3N2O6S', 'C9H21O2PS3', 'C16H34O4', 'C8H18O2', 'C17H34O2', 'C4H10O', 'C14H32N2O4', 'C14H6Cl2F4N2O2', 'C4H11N', 'C18H38N4O15S', 'C3H8S', 'C3H5ClO2', 'C8H18O3Si', 'C8H20O3Si', 'C23H31ClN2O', 'C10H11ClN4', 'C8H20ClN', 'C22H27FN2O', 'C2HCl3', 'C11H17NO2', 'C7H15NO', 'C8Cl6O2', 'C7H12O', 'C17H34O4', 'C15H30O4', 'C20H32N2O11', 'C5H4N4O', 'C6H13NO2', 'C9H9ClO3', 'C9H18ClNO2', 'C9H17BrN2', 'C7H3Cl3O', 'C8H20BrN', 'C8H18S2', 'C8H22N2O3Si', 'C7H16O4', 'C10H20O5Si', 'C8H7Br3O', 'C6H3Cl3O3S', 'C16H13ClF3NO4', 'C7H5NO3S', 'C8Cl4O3', 'C15H12N2O2', 'C3H6O2S', 'C8H6N2OS2', 'C14H18O6', 'C2H2Cl2', 'CCl4S', 'C13H18O', 'CHCl3', 'C7H4Cl2O3', 'C19H24N2O8', 'C16H32O6', 'C19H38O3', 'C11H13NO2', 'C18H12Cl2N2O', 'C8H9NO5', 'C7H18ClN', 'C8H15ClN2', 'C11H15Cl2O2PS3', 'C8H6Cl2O3', 'C7H4Cl2O', 'CH2BrCl', 'C17H35Br', 'C7H8', 'C12H4Br6O', 'C23H38O', 'C8H11F6N3O4S2', 'C10H28N2OSi2', 'C12H23NO3', 'C3H12O4Si2', 'C10H13Cl', 'C12H27NO', 'C4H12Cl2N2', 'C8H6Cl2O2', 'C9H7NO2', 'H6N2O3S', 'C3H5NO4', 'C5HCl4N', 'C11H13ClN4O2', 'H4ClNO', 'C8H20O4Si', 'H8N2O6S', 'C4H6Cl2O2', 'C2HCl3O', 'C21H27ClN2O', 'C9H23NO3Si', 'C15H17N', 'C10H19N', 'C11H24', 'C15H32O', 'C13H28O', 'C6H12S2', 'C11H21NOS', 'C7H4Cl3NO3', 'C6H14ClN', 'C11H18N2', 'C13H19Cl2NO', 'C11H26O3Si', 'C13H16Cl3NO4', 'C10H11N3O3S', 'C24H44O6', 'C16H18N2', 'C2H5N5', 'C5H6N2', 'C12H11NO2S', 'C24H38O4', 'C8H16O2', 'C6H6ClN', 'C27H41NO2', 'C14H10O2', 'C7H6BrNO2', 'C13H27N3O3Si', 'C18H39O7P', 'C6H5F', 'C7H4ClF3', 'C10HF19O2', 'C26H38N2O4S', 'C9H20O5', 'C13H22ClNO2', 'C2H5ClO', 'C7H16O3', 'C17H14ClF7O2', 'C22H28FNO3', 'C21H28ClNO', 'C14F24', 'C4H8N2', 'C5H5N3O', 'C2H4N2S2', 'C3H7NO2', 'C3H7N3O2', 'C11H20F6N2O4S2', 'C16H20N4O2', 'C7H5N', 'C8H8O2', 'C8H14O6Si', 'C6H16O3SSi', 'C6H11N2O4PS3', 'C8H5NO3', 'C8H4O3', 'C8Br4O3', 'C9H13ClN2O2', 'C10H16N2O3S', 'C7H12N4OS', 'C12H9Cl2NO3', 'C12H23NO', 'C12H18O2S', 'C10H17NO', 'C26H27O3P', 'C15H10', 'C4H8OS', 'C13H29N', 'C12H14N2O2', 'C15H17N3O2', 'C9H4O5', 'C10H12O6', 'C24H31NO8', 'C12H15NO2', 'C15H15NO', 'C7H5ClN2O3', 'C19H36O3', 'C7H11NO2', 'C15H14IN3O3', 'C22H21FN2O3', 'C15H10N2O2', 'C6H11O6P', 'C8H12O3', 'C26H50O4', 'C13H22O3', 'C10H16O4', 'C5H13Cl2N', 'C16H25ClN2', 'C13H18ClN', 'C4H9ClS', 'C12H17NO2', 'C18H17NO3', 'C2H2Cl2O', 'C14H20ClN3S', 'C3H6Cl2O', 'C22H29ClN2O2', 'C10H17F3N2O3S', 'C9H17ClO', 'C7H11Cl3O2Si', 'C13H17N3O', 'C9H14ClNO2', 'C6H13ClO', 'C4H9NO', 'C4H10N2S', 'C16H22N2O3', 'C17H26ClNO4', 'C13H21ClO3', 'C18H26O4', 'C12H26', 'C6H10N2O2', 'C10H20', 'C20H42O', 'C8H15ClO', 'C12H23N', 'C10H20O4', 'C12H27OPS3', 'C15H26O4', 'C12H26O3', 'C15H30O2', 'C20H34O8', 'C4H14N3PS', 'C2Cl3N', 'C6Cl6', 'C16H32', 'C16H32O', 'C8H15NO', 'C38H69NO13', 'C18H36', 'Cl5P', 'C6H8N4O4', 'C12H26O', 'C12H26S', 'C10H13ClN6', 'C12H10ClO3P', 'C11H27N3', 'C28H40F3N3O7', 'C8H12O5', 'C4H12O4Si', 'C16H14Cl2O4', 'C2H6N2O', 'C8H15N', 'C8H20N2O', 'C34H48N2O10S', 'C9H20', 'C6H18N3OP', 'C8H16N2O4S', 'C10H13ClO2', 'C10H11ClO3', 'C10H23NO', 'C8H8Cl2', 'C6H4Cl3N', 'C9H18N2O3S', 'C7H5Cl2NO2', 'C7H3Cl5O', 'C9H15F3N2O3S', 'C7H18N2', 'C10H10Cl2O3', 'C14H10Cl2O3', 'C4H2Cl2N2', 'C12H4Cl6', 'C7H17N', 'C6H13I', 'C11H10Cl2F2N4O3S', 'C7H3Cl2F3', 'C13H25NS', 'C7H13NO2', 'C14H18Cl2O4', 'C7H18N2O2', 'C15H12F3NO4S', 'C4Cl6', 'C11H14ClN3O5', 'C14H26ClN3O9', 'C12H21ClN2O3S', 'C8H12ClNO3', 'C9H21ClN2O2', 'C7H5ClO', 'C2H3ClO2', 'C8H7ClO2', 'CCl3NO2', 'C13H22ClN3O', 'C7H14ClNO3', 'C2HCl3O2', 'C12H19ClN2O4', 'C4H12ClN', 'C12H17Cl2NO3', 'C9H10Cl3N3', 'C2H8ClN', 'C19H18ClN9O5S2', 'C11H18ClNO2', 'C9H18ClNO4', 'C7H9ClN2', 'CH6ClN3O', 'C13H21ClN2O2', 'C9H12ClNO', 'C3Cl6O', 'C2Cl4O', 'C18H26Cl2O3', 'C10H13Cl2NO3', 'C9H8Cl2O3', 'C12H14Cl2O3', 'C16H22Cl2O3', 'C16H21Cl3O3', 'C13H18ClNO2', 'C12H11ClF3NO3', 'C11H15Cl', 'C9H11ClN2O', 'C8H5Cl2N', 'C2Cl3F3', 'C5H5Cl3N2OS', 'C2HCl5', 'C2H3Cl2NO', 'C15H14ClN3O6', 'C10H14ClNO2', 'C6HCl5', 'C7H15ClN2', 'C10H14ClNO3', 'C16H33Cl', 'C22H48N2', 'C8H18N2O', 'C8H18O', 'C8H19O3P', 'C10H23N', 'C8H18S', 'C3H8O', 'C12H28O4Si', 'C10H22O3', 'C12H27N', 'C8H19O2PS2', 'C12H25I', 'C36H75N', 'C9H20O', 'C11H21NO', 'C6H14S2', 'C5H6ClN', 'C6H10O2S4', 'C12H17NO3', 'C8H10N2O3', 'C10H24N2O4Si', 'C8H16O4', 'C4H11O2PS2', 'C4H11O3P', 'C8H19O2PS3', 'C9H22O3SSi', 'C12H27NO5Si', 'C13H17NO', 'C10H21N', 'C16H33NO', 'C9H20N2O', 'C7H15NOS', 'C6H13NO', 'C5H11NO', 'C9H19NO3Si', 'C11H19N3O', 'C2H6O', 'C7H18O3Si', 'C7H7ClN2O', 'C8H9ClO2', 'C28H36O15', 'C29H36O15', 'C18H27NO5', 'C18H23NO3', 'C7H6Cl2O', 'C7H7BrO', 'C9H14N2O', 'C6H5Cl', 'C8H4F13I', 'C5H6N2S', 'C13H28S', 'C10H22F6NP', 'C6H11F6N2P', 'C20H39F6N2P', 'C9H14F6NP', 'C8H5F13O', 'C8H8OS', 'C4H5F3O2', 'C13H18F3N3O4S2', 'C16H14F5N5O5S', 'C7H5F3', 'CH3ClO2S', 'C11H24O6', 'C15H30N6O6', 'C3H8O3S', 'C5H12NO4PS', 'C5H12NO3PS2', 'C7H17O3P', 'C2H6O3S', 'C12H12O6', 'C6H5Cl2P', 'C4H8Cl2O', 'C6H12Cl3O4P', 'C3Cl3N3O3', 'C2H6ClO2PS', 'Cl3OP', 'C8H11N3', 'C3H6Cl2', 'C3H9N', 'C3H6ClNO', 'C3H7NO', 'CH2Cl2', 'C6H12Cl2', 'C4Cl4S', 'C5H4ClN', 'C6H8ClN5O2S', 'C9H18Cl3O4P', 'C3H4ClN', 'C2H2Cl4', 'C2H3ClO', 'C7H7Cl', 'C9H18N6', 'C12H20N4O2', 'C3H9NO', 'C6H9NO3', 'C5H11N', 'C2H7N', 'CH4O', 'C12H21N5O2S2', 'C9H14O2Si', 'C6H16O3Si', 'C12H31NO6Si2', 'C9H14O3Si', 'C21H45N3O12Si3', 'C5H10N2O3', 'C4H8N2O3', 'C17H37N', 'C13H25N', 'C2H8N2', 'C9H22N2O2', 'C7H18N2O', 'C10H25N3', 'C8H17N3', 'C13H31N3O', 'C18H39N', 'C16H35N', 'C14H31N', 'C16H33I', 'C18H37Cl', 'C10H14F3NO3S', 'C9H18S3', 'C15H19N3O3', 'C15H19N3O4', 'C13H15N3O3', 'C4H5NO2', 'C4H10S2', 'C7H10O', 'C6H8N2O3', 'C6H8O3', 'C8H12O2', 'C8H10ClN', 'C10H14N2', 'C9H17NS', 'C10H18OS', 'C7H8ClNO3S', 'C15H19BrN2O5', 'C3H8O2', 'C18H35N', 'C19H38O2', 'C7H16N2O', 'C14H18O4', 'C9H22N2', 'C10H16N4', 'C11H11NO2', 'C29H50O2', 'C9H21N', 'C24H46O4', 'C11H23NOS', 'C8H19N', 'C14H26O4', 'C5H10O3', 'C2H5NO', 'C2H3Cl2NO2', 'C6H12Cl2O', 'C3H4Cl2O2', 'C2H3Cl3', 'C7H12O4', 'C12H16O2', 'C7H13BrN2O2', 'C13H16N2O3', 'C9H20F6NP', 'C7H16O2', 'C4H7ClO', 'C5H9NO', 'C14H16O4S', 'C9H19Br', 'C13H23N', 'C17H28', 'C13H28', 'C14H28', 'C18H30', 'C14H30', 'C15H32', 'C5H10', 'C5H9N', 'C9H20O2', 'C16H35O3P', 'C7H13N', 'C9H6O3', 'C9H13NO2S', 'C13H12', 'C20H37O3PS', 'C8H7NO3S', 'C11H17NO2S', 'C7H7NO5S', 'C8H16OS', 'C6H8OS2', 'C12H14N4O3S', 'C23H25ClN8O5', 'C3H5N', 'C11H18N4O2', 'C6H10N2', 'C3H7N', 'C19H39NO', 'C8H9Cl', 'C7H5N3O', 'C9H6ClNO2', 'C9H7NO3', 'C17H16ClF3O6S', 'C14H18N2O2', 'C11H12N2O', 'C21H29N5O2', 'C7H5BrO', 'C12H18N2O3', 'C11H18N2O3', 'C7H5NO2', 'C5H10N2O2', 'C8H6N2O', 'C16H23NO6', 'C17H6O7', 'C31H20O8', 'C8H10O3', 'C15H18N6O6S', 'C3H9O4P', 'C7H14NO5P', 'C2H7O3P', 'C7H14NO3PS2', 'C6H5ClO2S', 'C12H13N5O6S2', 'C2H7O4P', 'C10H10N2O4S', 'C10H8N2O6S', 'C7H15NO4S', 'C2H7NO4S', 'C2H6O4S', 'C6H7O2P', 'C12H17N2O4P', 'C11H18O2', 'C5H11NO3', 'C5H9NO2', 'C2H4N2O2', 'C18H32ClN3O8P2', 'C8H18N2O2', 'C4H8N2O', 'C5H10N2O', 'C20H22O6', 'C12H19O8P', 'C9H17NOS', 'C10H21NOS', 'C12H18N2O2', 'C8H14N4OS', 'C17H25NO7', 'C16H13ClF4N2O4', 'C18H24O6', 'C9H14O3', 'C6H9ClO', 'C6H9NO', 'C5H8N2O2', 'C12H20O', 'C4H4N2OS', 'C8H12N2O', 'C4H2O3', 'C4H4N2O2', 'C4H4ClNO2', 'C4H4O3', 'C9H16O2', 'C9H8O2', 'C12H15Cl2NO5S', 'C7H7ClO2S', 'C6H15NO3', 'C4H10N2O3', 'C4H11NO2', 'C3H7ClO2', 'C5H12O4', 'C20H33N3O7', 'C12H26O5', 'C4H11NO3', 'C3H8O3', 'C11H22O4', 'C21H42O4', 'C2H6O2', 'C9H12O3S', 'C5H12O2S2', 'C3H8N2O3', 'C6H7O3P', 'C8H6O7S', 'C6H5ClO3S', 'C8H10OS', 'C12H22S2', 'C7H5Cl2NS', 'C7H8N2S', 'CS2', 'C4H10O2S', 'C10H22O6', 'C10H22O2', 'C20H42O2', 'C6H14O4', 'C8H18O4', 'C9H20O4', 'C5H10Br2O2', 'C8H6O4', 'C9H6O6', 'C13H21NO6', 'C9H9NO4', 'C6H6O3S', 'C8H12NO5PS2', 'C6H6ClNO2S', 'C7H6F3NO3S', 'C6H7NO4S2', 'C4H6N4O3S2', 'C4H6O2S', 'C5H6O5', 'C3H6O3S', 'C8H10O8', 'C6H6O', 'C6H7NO4S', 'C10H13NO4', 'C9H18NO2', 'C8H11NO3', 'C7H7NO6S', 'C4H2O4', 'C8H13N3O6', 'C4H10O4', 'C13H28O4', 'C14H16O6', 'C21H18F3N3O3', 'H3NO3S', 'C16H16ClN3O3S', 'C7H6ClN3O4S2', 'C7H8ClN3O4S2', 'C12H24N2O3', 'C2H8NO2PS', 'C18H15O3P', 'C5H13NO3', 'C2H10O8P2', 'C34H50N2O11S', 'C4H10N2O8', 'C16H25N3O7S', 'C5H11NO5', 'C16H17N9O5S2', 'C8H18N2', 'C12H29N3', 'C12H26O13', 'C12H26O12', 'C3H4ClN5', 'C6H11N3O3', 'C5H11NO4', 'C11H12Cl2N2O5', 'C7H6N2O3', 'C8H15N3O7', 'C6H10O6', 'C31H63NO2', 'C12H18ClNO2', 'C7H14O6', 'C16H18O9', 'C6H12O7', 'C6H12Br2O4', 'C5H10O5', 'C13H20O4', 'C14H20N4', 'C5H7NO2', 'C8H4N2', 'C6H9N3', 'C8H15N7O2S3', 'CH4N4O2', 'HFO3S', 'C7H4BrFO', 'C20H20FNO4', 'C6H3ClFNO2', 'C6H5FO', 'C12H9F', 'C12H8F3N5O3S', 'C2H10I2N2', 'C7H4ClN', 'C6H4INO2', 'C7H11N3S', 'C7H3Cl2N', 'C7H3F2N', 'CH4N2O2S', 'C7H7NO', 'C10H13NO', 'C6H7NO6S2', 'C11H17N3O3S', 'C17H23NO2', 'C6H14N2', 'C8H11N3O3S', 'CH3NO', 'C11H14N2O4', 'C4H8N2S', 'C2H6N4S2', 'C23H19FN2O7', 'C15H16N4O5S', 'C16H18N4O7S', 'C11H14ClN3O3S', 'C4H6O6', 'C9H12N2O', 'C18H14O8', 'C4H6O5', 'C15H20N2O4S', 'C13H20N4O2', 'C12H10O4', 'C7H4ClFO', 'C9H17ClO2', 'C6H12N2O2', 'C9H18N2O4', 'C10H11F3N2O', 'C20H26N2O5S', 'C16H20N2O3', 'C10H14N2O', 'C12H24N2O4', 'C22H18I6N2O9', 'C7H5Cl2FN2O3', 'C2H4O2S', 'C14H24O2', 'C4H7NO4', 'C15H15ClFN3O3S2', 'C15H17N3O6S', 'C23H12Cl2F2N2O5', 'C5H4O3', 'C4H6O4', 'C8H4Cl2O2', 'C9H18O4', 'C11H22O3', 'C10H18O6', 'C11H12O2', 'C13H8Cl2O', 'C26H52O2', 'C6H12N4O9', 'O2Si', 'C9H14O2', 'C9H14O4', 'C8H8O4', 'C4H10NO3PS', 'C7H9NOS', 'C11H9I3N2O4', 'C9H9NO3', 'C11H19NO2', 'C17H32O4', 'C18H34O4', 'C13H26O2', 'C20H38O2', 'C9H16O3', 'C7H11NS', 'C7H11F3N2O3S', 'C4H12Si', 'C19H39N3Si', 'C8H24O4Si4', 'C8H16F3NO3S', 'C4H5N', 'C9H16NO2', 'C7H16IN', 'H8N2O3S2', 'C42H71NO19', 'C7H14N4O3', 'C10H14N2O5', 'C17H37NO3S', 'C15H31Br', 'CBr2Cl2', 'C7H4Br2O3', 'C12H9Br', 'C3H5Br', 'C11H11N3O3', 'C19H24F6N2O5', 'C28H38O19', 'C3H5NO', 'C7H6N4', 'C14H24O4', 'C11H22N2', 'C7H16ClN', 'C11H13ClO3', 'C13H26N2', 'C19H18ClF2N3O3', 'CH4N2O2', 'C6H10ClN5', 'C5H10N2', 'C10H24N4', 'C12H21NO8S', 'C5H8N4O12', 'C18H25N3O2', 'CH2N2', 'C8H9FN2O3', 'C9H20O5Si', 'C6H12Cl2O2', 'C6H12Cl3O3P', 'C6H10N6O', 'C8H5F3O2', 'C11H10O', 'C10H19ClNO5P', 'C8H15N5S', 'C15H26O2', 'C5H14ClNO', 'C8H11Cl3O6', 'C15H20O4', 'C13H12F2N6O', 'C18H41NO7S', 'C16H31BrN2', 'C9H14BrN', 'C17H19F3N2O4S', 'C14H15O4P', 'C10H16N2O8', 'C21H27N3O5', 'C15H14N4O', 'C10H19NO2', 'C12H18O5', 'C9H17NO', 'C10H17N2O4PS', 'C14H29Cl', 'C31H49N5O4', 'C18H22', 'C11H15O3P', 'C13H19ClN2O5S2', 'C5H9ClO', 'C12H20O3Si', 'C18H24ClN5O2', 'C11H16ClNO3', 'C20H26ClN5O7S2', 'C21H33ClN6O3', 'C10H21Cl2N3OS', 'C10H14Cl2N2', 'C3H10ClN', 'C12H16N2O3', 'C10H21Cl', 'C11H24O', 'C10H22S', 'C9H21N3', 'C4H9ClO2S', 'C11H17NO', 'C11H22O2S', 'C19H32O3', 'C8H19NO2', 'C7H13NO', 'C10H11N', 'C12H24O3', 'C8H12OS', 'C6H10N2O', 'C11H13N', 'C8H10O3S', 'C11H16', 'C3H7ClO', 'C3H10N2', 'C9H18NO3PS2', 'C11H12Cl2O3', 'C2H3Cl3O2', 'C18H27ClN4O6S', 'C13H8O', 'C10H12N4O3', 'C4H8N4O2', 'C4H9N3O', 'C8H17O5P', 'C15H18F2N6O7S2', 'H3O4P', 'C3H6N2O', 'C5H4N4O2', 'C4H6N4O2', 'C5H11N3O', 'C10H8ClN3O', 'C11H12ClNO3S', 'C4H6O7S', 'C8H7NO', 'C9H20O3', 'C15H16N2O2', 'C2H4O4S', 'C8H16NO5P', 'C12H14N4O5S2', 'C7H15Cl2N2O2P', 'C12H9O2P', 'C10H13ClN2O3S', 'C18H14N4O5S', 'C13H10N2O3S', 'C10H8O3S', 'C42H46N4O8S', 'C8H8ClNO3S', 'C16H20N2O4', 'C34H46N2O6', 'C19H22O6', 'C4H4O5', 'C29H41NO7', 'C2H2O4', 'C11H8ClNO2', 'C10H5Cl2NO2', 'C28H34N2O3', 'C13H11NO5', 'C32H62O4S', 'C4H4N2O3', 'C5H6O3', 'C16H14F3NO3S', 'C2H4O3', 'C9H18N2O2S', 'C18H18O6', 'C18H26O6', 'C10H11BrO2', 'C13H16O5', 'C14H28O6', 'C8H13NO', 'C8H26O3Si4', 'C29H44O2', 'C28H50O8', 'C7H5FO', 'C15H15F3N2O2', 'C10H6N2O8S', 'C11H24O4Si', 'C11H9NO2', 'C3H5BrO2', 'C2HBrClF3', 'C2H4BrCl', 'C9H18F3NO3S', 'C16H20', 'C20H16O4', 'C18H36O', 'C17H29NO3S', 'C23H30FN3', 'C18H29N3O2', 'C14H28O4Si', 'C11H15NO3', 'C16H17F5N2O2S', 'C36H60O6', 'C22H34O4', 'C13H28N2', 'C8H9BrO', 'C6H6ClNO4S', 'C6H7O4P', 'C12H11O4P', 'C6H13NO3S', 'C12H14N4O4S2', 'C5H10S', 'C18H34O2', 'C22H18O12', 'C10H22O7', 'C6H12O4', 'C5H6O2', 'C7H14N2O2', 'C6H15N3', 'C41H76N2O15', 'C20H40O', 'C9H19NOS', 'C12H11Cl2NO', 'C18H16F2N2O2S', 'C20H17ClF3N3O4', 'C27H48O8', 'C8H6N2', 'CHBr2Cl', 'C5H12ClO2PS2', 'C11H18O', 'C23H26O3', 'C12H17ClF3N', 'C5H10ClNO4', 'C5H10N2O2S', 'C8H11N5', 'C7H15N2O4P', 'C13H18N2O3S', 'C6H12N2O4S', 'C6H18O3Si3', 'C6H18OSi2', 'C8H18OSi2', 'C4H12O2Si', 'C10H30O5Si5', 'C10H10', 'C13H26', 'C6H11N', 'C12H22O3', 'C9H15NO2', 'C18H30O4', 'C3H3N', 'C5H12O3Si', 'C10H8N4O4', 'C8H3NO5', 'H4ClNO4', 'C18H42O4P2', 'C5H15NO2', 'C7H15BrN2', 'CH6N2O2', 'C17H22BrNO4', 'C13H30ClN', 'C6H14ClNO', 'C10H21ClN2O', 'C8H18ClN', 'C7H11ClN2', 'C8H16ClN', 'H8N2O8S2', 'C9H14ClN', 'C8H18IN', 'C6H11IN2', 'C7H13IN2', 'C9H14IN', 'C6H14N2O7', 'C8H17BrN2', 'CHBr3', 'C14H14', 'C3H7BrO', 'C8H12O', 'C14H14O', 'C8H17Br', 'C16H33Br', 'C6H13Br', 'C3H7Br', 'C6H5Br', 'C4H9Br', 'C21H20Br8O2', 'C6H4Br2', 'C12H9BrO', 'C5H10Br2', 'CH2Br2', 'C2H5Br', 'C2H2BrN', 'C3H6Br2', 'C5H11Br', 'C10H16FNO4', 'C28H43N', 'C30H29N3O', 'C22H29N3O', 'C12H16O4', 'C6H11ClO', 'C7H14N2O2S', 'C6H10Cl2O', 'C15H23ClO4S', 'C20H22N2O', 'C5H6', 'C24H46N4O6', 'C13H25NO', 'C8H18', 'C7H14N2', 'C18H28N2O3', 'C22H28N2O5S', 'C2H3N', 'C2H4S', 'C10H8', 'C13H10', 'C5H5N', 'C7H6N2', 'C12H8O', 'C7H15N', 'C2H4O2', 'C3H5ClO', 'C5H12ClNO2', 'C3H7Cl2N', 'C17H28ClNO2', 'C9H17NO2S', 'C4H11N5', 'C7H9N3O', 'C11H10N2S', 'CH6N2O3', 'C4H5N3O', 'C4H5N3', 'C5H8ClN5', 'C19H19FO4', 'C12H9F13O2', 'C3H2ClF5O', 'C10H8Cl2FNO3', 'C9H10FNO2', 'C12H9F2N5O2S', 'C2H4FNO', 'C10H16N6S', 'C7H12N2', 'C12H9N3O', 'C3H6N6', 'C10F22', 'C8H16O3', 'C10H16N2O2', 'C8H6ClNO4', 'C10H13N5O2', 'C5H14N2', 'C12H19Cl3O8', 'C8H5NO6', 'C10H5F17O', 'C9H20BrN', 'C14H17Cl3O4', 'C13H17ClO', 'C8H10Cl2N2O3', 'C13H11Cl2NO2', 'C8H7ClO3', 'C10H9ClN4S', 'C2H4Cl2', 'C12H11Cl2N3O2', 'C5H10Cl2O2', 'C8H11Cl2NO', 'C4H12ClNO3', 'C4H7ClOS', 'CCl4', 'C2Cl4F2', 'C17H25ClO3', 'C2H2Cl2O2', 'C3Cl4', 'C2H6S2', 'C22H35NO7', 'C18H26O3', 'CH4O3S', 'C2H6ClO3P', 'C2H5Cl2O2P', 'C12H25NO', 'C3H8N2S', 'C9H18N2O', 'C19H14F3NO', 'C24H32N2O3', 'C21H36O3S', 'C6H3Cl3O2S', 'C2H4O3S', 'C6H6O4', 'C6H8O7', 'C18H15OP', 'C13H10N2O4', 'C6H12N2O', 'C14H16O3', 'C7H6O', 'C6H10O4S', 'C2H4N4S', 'C6H5N3O', 'C15H17NO3S', 'C7H10N2O2S', 'C4H10S3', 'C6H9NOS', 'C6H11BrN2', 'C20H38BrNO2', 'C22H28BrN', 'C12H28BrN', 'C16H36BrN', 'C9H19NO', 'C3H3N3O3', 'C13H21NO3', 'C4H8O4', 'C12H16O', 'C8H7N3O2', 'C5H10O4', 'C46H54O16', 'C12H18O7', 'C40H50N6O12S2', 'C6H8Cl2O5', 'C11H21NO3', 'C10H16N4O3', 'C14H14N2O', 'C9H20N2O2', 'C15H22N2O2', 'C17H13ClFNO4', 'C7H11NO5', 'C13H18O9', 'C5H5N3O3S', 'C9H6I3NO3', 'C7H12N2O4', 'C8H15NO3', 'C11H15NO', 'C22H23NO4S2', 'C7H5F3N2O2', 'C11H16N2O3', 'C6H9N2O3+', 'C15H16O6S', 'C8H10O3S2', 'C36H49N5O8S', 'C14H20ClN3O3', 'C18H26N2O4', 'C12H22N2O', 'C9H9N3O3', 'C10H20N2O4', 'C6H10N2O5', 'C12H23N3O', 'C7H10N4O4', 'C12H12N4O3', 'C18H25N3O4', 'C19H21N5O2', 'C24H31N5O2', 'C10H10ClFO', 'C9H15ClO3', 'C18H37NO2', 'C22H32N2O2', 'C13H19NO8', 'C17H25N3O5S', 'C10H13NO4S2', 'C10H12ClN3O3S', 'C14H17ClN2O3S', 'C12H21N3O5S3', 'C16H20ClN3O3S', 'C8H10N6', 'C5H9N3', 'C25H44N14O7', 'C14H15NOS', 'C7H16N2', 'C9H17NO2', 'C10H12N5O6P', 'C11H15N5O5', 'C13H17N5O6', 'C7H7N5', 'C13H16N4O2', 'C14H18N4O2', 'C10H10ClN3O2', 'C19H23N4O6PS', 'C32H46N8O6S2', 'C9H12ClN3O4S2', 'C15H24N4O6S2', 'C12H17N3O4S', 'C16H14F3N5O', 'C20H32O5', 'C21H39NO6', 'C6H10O8', 'C12H20N4O7', 'C16H25NO2', 'C8H12NO7P', 'C20H26N2O4', 'C11H13I3N2O6', 'C24H26F2N2O8S', 'C13H21N5O', 'C8H8N2O3S', 'C14H16ClN3O4S2', 'C13H18ClN3O4S2', 'C15H14ClN3O4S3', 'C15H22N2O3', 'C13H11Cl2N5O4', 'C10H10N2O2', 'C22H24ClN3O5', 'C11H8ClNO2S', 'C24H34O5', 'C19H21FN2O4', 'C15H14FNO3', 'C12H10N2O5', 'C16H15NO3', 'C14H17N5O3', 'C14H16N4O3', 'C15H17FN4O3', 'C16H18FN3O3', 'C13H9ClFNO3', 'C19H17NO7', 'C17H16O6', 'C16H17N3O2', 'C34H32N4O9', 'C20H21N3O7S', 'C12H21N5O3', 'C8H13NO3', 'C15H14FN3O3', 'C24H35NO5', 'C9H14N4O4', 'C23H32N2O5', 'C19H32N2O5', 'C29H24N4O8', 'C21H26N4O8S', 'C18H28N2O8', 'C11H10N4O4', 'C24H30O6', 'C2H5O5P', 'C14H9NO4', 'C9H10N4O4', 'C3H4N4O2', 'C14H24N2O10', 'C16H11NO3', 'C16H16FN3O3S', 'C16H17N3O7S2', 'C40H66N2O12', 'C7H9FN3O2P', 'C16H18N4O2', 'C10H14N4O2', 'C13H21N3O', 'C9H17NO3', 'C19H18ClN3O5S', 'C9H8INO3', 'C9H10N2O3', 'C10H17N3O6S', 'C15H22N2O4', 'C14H20N2O3S', 'C20H33N3O3', 'C11H12F3NO', 'C26H26I6N2O10', 'C24H20I6N4O8', 'C16H22N2O5', 'C11H16N4O', 'C14H22N2O', 'C10H12N2O5S', 'C20H23BrN2O4', 'C23H29NO8', 'C22H29N3O7', 'C26H35NO7', 'C3H7NO2S', 'C15H18O3', 'C28H36O6', 'C9H7N5O3', 'C20H28O3', 'C34H56N2O12', 'C12H22O12', 'C25H30N2O7', 'C4H7NO2S', 'C22H22N2O4', 'C17H18N2O5', 'C17H19N3O4', 'C24H30N2O4', 'C24H28ClN3O6', 'C8H11N5O3', 'C9H13ClN6O2', 'C15H22FN3O6', 'C20H43N', 'C19H24N2', 'C18H20N2', 'C20H22N2', 'C19H19NOS', 'C8H13NO2', 'C15H19NO', 'C18H16N2O3', 'C18H26N4O2S', 'C17H21NO', 'C13H18ClN3O', 'C22H26N2O4S', 'C14H19N3S', 'C20H24N2OS', 'C16H21N3O2', 'C24H40N2', 'C6H8ClNS', 'C10H12ClNO', 'C17H17ClN6O3', 'C17H18F3N3O3', 'C16H19N5O', 'C18H24FN3O6S', 'C17H25NO4', 'C9H12O3', 'C14H21N3O2S', 'C11H21N', 'C20H24FN3O4', 'C4H7Cl3N2O2', 'C15H18N8O5', 'C19H20FN3O3', 'C22H26N2O2S', 'C5H13N3', 'C28H38N6O11S', 'C19H22N4O2S', 'C18H20FN3O4', 'C18H18ClN3S', 'C10H13ClN2S', 'C9H9Cl2N3', 'C11H12ClNO4', 'C5H4ClNO2', 'C15H14ClN3O4S', 'C5H6Cl6N2O3', 'C4H7Cl3O', 'C11H6Cl3NO2', 'C22H19Cl2NO3', 'C10H16ClN3O5', 'C18H24ClNO3', 'C10H14ClNO4', 'C11H17Cl2NO', 'C12H19Cl2NO', 'C20H32ClNO', 'C19H30ClNO', 'C20H28ClN3O6', 'C7H11ClN2O2S', 'C15H25ClN2O4S', 'C19H25ClN2O', 'C16H25ClN2O2', 'C24H26ClNO4', 'C20H27Cl2NO5', 'C23H29ClN2O5S2', 'C18H30ClN3O5', 'C11H6ClN3O6', 'C9H7ClF3NO4S', 'C23H29ClFN3O4', 'C23H26Cl2O6', 'C11H14ClN', 'C10H14ClN', 'C17H14Cl2N2O2', 'C8H8Cl2N4', 'C9H7Cl2N5', 'C8H7ClN2O2S', 'C14H21ClN2O2', 'C11H15ClN4O2', 'C22H30Cl2N2O2', 'C21H30Cl2N2O5', 'C10H9ClN2', 'C11H17ClO7P2', 'C14H19ClN2O2', 'C9H10ClNO2', 'C7H5ClN2O', 'C10H8ClN', 'C10H13ClN2O', 'C12H18Cl2N2O', 'C17H20ClN3O3', 'C23H36N4O5S3', 'C10H8F2N4O', 'C7H8N4S', 'C11H15NO5', 'C20H24N2O', 'C9H13N3O6', 'C9H14N4O5', 'C6H6N6O2', 'C28H27Cl2N3O7S', 'C37H49N7O9S', 'C35H49N11O9S2', 'C2H14N8O4S', 'C3H12N6O3', 'C4H7N3O', 'C19H37N5O7', 'C3H6N2O2', 'C18H39NO2', 'C14H36N2O4S', 'C4H7NO2', 'C16H15FN2O4', 'C13H14N2O2S', 'C15H14N4O2S', 'C13H12N2O3S', 'C7H10N4O2S', 'C18H30N2O2', 'C21H25N3O', 'C14H22ClN3O2', 'C14H22BrN3O2', 'C9H15N5O', 'C10H15NO5S', 'C8H8Cl3N3O4S2', 'C15H14N2O2', 'C10H17N', 'C8H12N4O4', 'C9H8N2O2', 'C4H6N4O', 'C7H15N5O4', 'C10H16N8S2', 'C11H12NO4PS2', 'C16H20O6P2S3', 'C16H20N2O5', 'C18H26ClN3O3', 'C26H35FO6', 'C22H23NO7', 'C11H12N4O3S', 'C12H14N4O4S', 'C16H21NO3', 'C16H17ClN2O4S', 'C20H24N4O4', 'C16H12O3', 'C17H28N2O2', 'C10H10N2O4', 'C18H15ClN2O2S', 'C13H17NO3S', 'C14H16N6O', 'C12H17N3O', 'C20H24I2O2', 'C16H13I3N2O3', 'C9H9I2NO3', 'C9H11IN2O5', 'C9H11FIN3O4', 'C21H23ClFN3O', 'C12H9ClFN5', 'C14H9F', 'C11H9FN2O3', 'C13H12FNO', 'C22H22FN3O2', 'C22H22FN3O3', 'C4H4FN3O', 'C17H20F6N2O3', 'C15H14F3N3O4S2', 'C18H18F3NO4', 'C8BrF17', 'C21H26N2OS2', 'C21H30N2O7S', 'C20H30N2O3S2', 'C20H27NO6S', 'C25H30ClI2NO3', 'C22H43NO3', 'C33H37N5O5', 'C14H21Br2ClN2', 'C23H26N2O', 'C27H30N4O', 'C19H28O8', 'C47H51NO14', 'C24H45NO8', 'C35H41N5O5', 'C22H24ClF4NO2', 'C24H30ClNO4', 'C25H29I2NO3', 'C30H41FO7', 'C21H15N3O4', 'C14H12O3S', 'C19H20N2O3', 'C17H18F3NO', 'C22H26F3N3OS', 'C25H35ClN2O7S', 'C29H43BrN2O4', 'C3H8OS2', 'C16H23N3OS', 'C18H14F3N3O6S', 'C23H25F3N2OS', 'C19H22ClN', 'C20H24ClN', 'C22H30ClNO2', 'C24H34N2O', 'C28H44O2', 'C25H37NO4', 'C20H22N4O4S2', 'C27H38N2O4', 'C20H24N2S2', 'C20H27ClN2S', 'C23H31Cl2N3O', 'C17H9ClF8N2O4', 'C45H73NO15', 'C32H38N4O12S3', 'C11H11I3O3', 'C11H15Cl2N5', 'C19H21N5O4', 'C23H27Cl2N3O2', 'C23H25ClN2O4S', 'C17H20N2S', 'C32H41NO2', 'C34H42Cl2F6N2O4S', 'C17H18Cl3N', 'C35H42N2O11', 'C6H3I2NO3', 'C46H73ClN4O9', 'C21H26N2S2', 'C13H30ClNO2', 'C28H29F2N3O', 'C37H49F3N4O5S', 'C17H19ClF3NO', 'C25H33Cl2N5O2', 'C19H25NO', 'C22H48ClN', 'C18H20ClNOS', 'C27H60ClNO3Si', 'C16H35NO2', 'C7HCl2F3N2O4', 'C27H32ClNO2', 'C24H26ClFN4O', 'C32H39NO2', 'C22H26ClF2NO4', 'C22H30O3', 'C25H29N3O2', 'C19H20FNO3', 'C23H25F7N4O3', 'C23H23NO4S', 'C11H14ClNO3', 'C14H21NO7S', 'C19H17NOS', 'C30H26N2O13', 'C12H28ClN', 'C42H67NO16', 'C35H38Cl2FN3O7', 'C17H19ClN2S', 'C21H21Cl2NO5', 'C29H31F2N3O', 'C9H4Cl3IO', 'C21H26Cl2F3N3S', 'C10H16N5O13P3', 'C31H52N2O5S', 'C26H26F2N2', 'C19H21ClF3NO2', 'C20H25ClN2OS', 'C25H32ClNO', 'C29H33ClN2O2', 'C14H33O4PS', 'C18H35F6N2P', 'C8H9I', 'C19H19N3O6', 'C13H29O4P', 'C5H8', 'C11H13F3N4O4', 'C18H34O3', 'C32H29N5O2', 'C15H9ClO2', 'C19H28ClN5O3', 'C6H10ClN3O2', 'C18H21ClN2S', 'C19H21ClN2OS', 'C22H24ClN5O2', 'C20H22ClN', 'C30H35F2N3O', 'C9H11BrN2O5', 'C21H26ClN3OS', 'C34H38N3O7P', 'C15H21F3N2O2', 'C18H23NO', 'C20H23N', 'C20H25N3S', 'C19H19ClN2', 'C21H26BrNO3', 'C20H30O5', 'C20H20ClF3N2O', 'C18H18ClNS', 'C19H22BrNO4S2', 'C19H24Cl2N2', 'C16H20ClN3S', 'C18H20ClN3O', 'C21H27NO3', 'C28H31BrN2O2', 'C19H17NO2', 'C18H19ClN4', 'C19H22N2S', 'C22H27Cl2NO', 'C21H28Cl2N2O2', 'C37H48N6O5S2', 'C11H12BrNO', 'C23H29N3O2S2', 'C18H18ClNOS', 'C20H21F3N2OS', 'C13H8F2O3', 'C8H11NO5S', 'C24H25FN6O', 'C19H17NO5', 'C21H30ClNO', 'C41H49ClN2O9', 'C17H19N3O', 'C24H34N4O5S', 'C38H52N6O7', 'C20H28N4O4', 'C31H33NO7', 'C20H21ClO4', 'C19H21NS', 'C18H20N2S', 'C22H26ClN7O2S', 'C20H8Br4O5', 'C10H26N4O8S2', 'C19H26N2O5S', 'C18H39N5O14S', 'C17H36N4O14S', 'C18H28ClN3O5S', 'C38H60N2O10S2', 'C10H12N4O2S2', 'C17H13N3O5S2', 'C13H13N3O5S2', 'C11H12N4O2S', 'C10H9ClN4O2S', 'C7H7ClN2O3S', 'C16H20N4O3S', 'C10H16NO5PS2', 'C11H14O5S', 'C12H14Cl2FNO4S', 'C22H29N3O4S', 'C18H23N3O6', 'C14H11NO4', 'C34H63N5O9', 'C5H9NO4S', 'C6H6O6', 'C24H28N2O7S2', 'C16H19N3O4S', 'C18H24N2O5', 'C20H28N2O5', 'C10H14N2O4S2', 'C17H20N2O5S', 'C7H7NO4S', 'C6H7ClN2O4S2', 'C9H11NO5S', 'C9H11NO6S', 'C15H15NO2S', 'C10H14N5O7P', 'C3H8NO6P', 'C11H13N3O', 'C11H11IN2O', 'C8H11NO4S2', 'C6H9NO2S', 'C13H16N4O3S', 'C13H13N3O3', 'C17H25NO3', 'C11H10ClNO2', 'C10H9ClN2O2', 'C28H32FNO6', 'C18H19N3O', 'C14H15F3N3O6P', 'C14H15N2O2P', 'C8H8N2O4S', 'C22H19N3O4', 'C22H25N3O3', 'C26H21N3O', 'C19H23N5O3S', 'C27H42O4', 'C16H18N2O3', 'C6H8N2O2', 'C12H15N3O', 'C12H13NO3', 'C9H13NO2', 'C7H7BrN4O2', 'C21H27NO3S2', 'C20H25NO3', 'C3H8O2S', 'C18H24I3N3O9', 'C35H44I6N6O15', 'C10H14N4O4', 'C19H24N2O6', 'C9H13N5O4', 'C21H27NO2', 'C10H15N5O3', 'C25H36O6', 'C8H17NO5', 'C30H35NO3', 'C26H30ClN3O6', 'C16H19N3O5S', 'C28H31FN4O', 'C27H54F6N2O4S2', 'C28H34Cl2F2N2O', 'C11H18ClNO', 'C6H5ClS', 'C12H15NO3S', 'C14H19NO4S', 'C14H14N2O6S2', 'C5H15N2O3PS', 'C16H15N2O6P', 'C7H7O6P', 'C21H25N3O2S', 'C12H13N3O4', 'C9H11NO3', 'C10H13NO3', 'C22H36N2O10S', 'C24H40N2O10S', 'C7H7Cl2NO', 'C6H4O6', 'C10H21NO4', 'C5H8Cl3NO3', 'C23H32N2O6', 'C13H20N2O2', 'C3H11NO7P2', 'C21H27NO', 'C18H21NO', 'C10H12N4O5', 'C14H13NO', 'C19H25NOS', 'C16H23NO15', 'C9H13NO3', 'C21H24ClNO3', 'C14H20ClNO3', 'C19H25NO2', 'C19H23NO', 'C7H6O2S', 'C20H33N5O9', 'C9H6INO4S', 'C15H27N3O9P2', 'C31H36Cl2N4O7S', 'C11H16FN3O3', 'C20H23NO4', 'C33H36N2O12', 'C28H31NO5', 'C14H14ClNO2', 'C23H34N5O14P', 'C22H22N2O6', 'C32H42F3N5O6', 'C14H6O8', 'C32H43Cl3N4O3', 'C21H22Cl2N2O8', 'C22H31ClN2', 'C22H23ClF3N', 'C24H28ClN3O3', 'C36H40ClN3O6', 'C22H35NO2', 'C22H24F3N3O2S', 'C22H34N2O10S', 'C15H14O6', 'C9H11NO5', 'C20H23ClN2O5', 'C23H28ClN3O5S', 'C19H24FN5O7S', 'C9H16N2O3S', 'C14H12N2O2S', 'C23H26N2O3', 'C21H27N', 'C6H12ClN', 'C19H15ClN2O4', 'C34H40ClNO4', 'C12H14ClN3O', 'C22H24ClN3OS', 'C15H10BrClFNO2', 'C9H14ClNO3', 'C12H18ClNO4', 'C20H14I6N2O6', 'C19H19F2NO2', 'C23H32N4O4', 'C22H28N6O3S', 'C22H34O2', 'C25H24O12', 'C11H13ClF3N3O4S3', 'C14H11ClN2O4S', 'C8H23N5', 'C14H22N4', 'C10H9N3O', 'C21H21FN2O4S', 'C19H22FN3O', 'C21H23ClFNO2', 'C23H24FN3O2', 'C24H30N2O2S', 'C16H24N2O', 'C14H17N3O9', 'C12H8S', 'C18H26N2O6', 'C18H23ClN2', 'C22H30N2O', 'C20H32O', 'C7H5Br2F', 'C41H42N4O6', 'C28H42Cl4N4O2', 'C21H34BrNO3', 'C24H29Br2FNO3-', 'C19H27NO3', 'C16H21Cl2N3', 'C10H15Cl2N', 'C16H22Cl2N2O4S2', 'C14H26Cl2N2O7', 'C21H26ClNO2', 'C20H29N3O2', 'C27H41NO6', 'C12H15N3O3S', 'C40H71NO14', 'C26H38O5', 'C20H21FN6O5', 'C7H10ClN3O3', 'C16H24N2O3S', 'C18H18F3N3O3', 'C17H28O5', 'C21H45N3', 'C27H38O6', 'C10H10BrNO2', 'C14H14Cl3O6P', 'C48H74O14', 'C18H37N', 'C15H11N3O', 'C16H15NO3S', 'C21H46ClN', 'C24H38N4O8S4', 'C27H29N3O2', 'C30H35N3O9S', 'C23H26N2O5S', 'C9H16ClN3O2', 'C15H24N4O2S2', 'C21H23BrFNO2', 'C23H27N', 'C17H16ClNO', 'C24H32ClNO6', 'C22H23ClN2O8', 'C21H22ClN', 'C22H25Cl2N3O', 'C23H32ClNO2', 'C26H31Cl3F3NO', 'C24H31ClN2O2', 'C17H19ClFN3O3', 'C17H20ClF2N3O3', 'C19H29N3O2', 'C21H23NO', 'C20H25Cl2NO', 'C17H20ClN', 'C21H23Cl2N3O', 'C15H9BrO2', 'C23H31Cl2NO3', 'C32H37NO13', 'C17H20BrNO', 'C22H16O8', 'C40H50N4O6S2', 'C20H38N4O4', 'C21H24FN3O2S', 'C24H29N5O8S', 'C22H28ClN3O4', 'C22H25ClN2O8', 'C25H30ClNO5', 'C21H27ClN2S2', 'C29H40Cl2FN3O3', 'C34H41N7O5', 'C21H22N2O7', 'C20H24ClNS', 'C16H23N5O', 'C26H58Cl2N10', 'C25H39ClN2O', 'C37H38N2O6', 'C25H34N2O3', 'C21H46NO4P', 'C32H37NO12', 'C33H38N2O8', 'C21H22F3N3OS', 'C21H29Cl2N3', 'C36H50O6', 'C26H33FN4O7', 'C22H40O7', 'C21H25N', 'C32H40ClNO4', 'C30H62', 'C15H18', 'C19H20BrN3O3', 'C27H29N5O6S', 'C13H18N2O3', 'C21H30N2O8S', 'C30H35N3O3', 'C26H52N6O11S', 'C16H34O2S', 'C20H17F3N2O4', 'C16H17N3O4S', 'C23H27FN4O2', 'C5H10ClNO3', 'C18H24ClN9O4S3', 'C21H28ClN3O7S', 'C19H24ClN3O', 'C20H22ClN3', 'C25H40ClN3O8', 'C12H15ClN2', 'C19H23ClFN3O3', 'C13H17ClN4O6', 'C10H19O6PS2', 'C23H33NO7S2', 'C20H21NOS', 'C20H21N5O5S', 'C20H17FO4S', 'C29H28N2O7', 'C11H12Cl2N2O', 'C18H16Cl2N2O2', 'C12H8ClNS', 'C16H25ClN4O2', 'C21H22Cl2N6O', 'C28H39N3O2', 'C16H19FN2O3S', 'C24H31N3O', 'C6H12N2O4S2', 'C11H17NO3', 'C12H15NO5S', 'C20H26N2O2', 'C23H16O3', 'C15H12ClNO2', 'C22H23FN2O5', 'C18H15ClN2O6S2', 'C29H34O6', 'C11H17Cl2N5', 'C13H18N2', 'C23H29NO3', 'C24H37NO10', 'C27H36O6', 'C24H36O4', 'C25H32N6O5', 'C22H33NO3', 'C17H19N3O2S', 'C15H23NO3', 'C9H9N', 'C16H22N2O6S', 'C12H16N2S', 'C12H13N3O4S', 'C15H18N2O', 'C13H19N', 'C12H15NO', 'C6H7FN2O2', 'C11H17N3O3', 'C26H37N5O2', 'C21H26N2O2', 'C17H27N3O4S', 'C15H23N3O4S', 'C16H23BrN2O3', 'C15H20Cl2N2O3', 'C19H22FN3O3', 'C20H31NO3', 'C19H35NO2', 'C10H15N5', 'C22H32N2O5', 'C13H13N5O2', 'C10H17N3S', 'C18H28N2O', 'C18H38O', 'C8H17N', 'C9H12N2S', 'C5H5BrS', 'C20H25N3O2', 'C10H14N4O3', 'C13H20N4O3', 'C12H18ClN', 'C16H29NO5', 'C15H18N2O2', 'C15H23NO2', 'C18H29NO3', 'C14H19N3O', 'C21H29N3O', 'C18H19F2NO5', 'C21H23Cl2NO6', 'C7H11N3O3', 'C15H21N3O3S', 'C19H22N2', 'C13H15N3O4S', 'C8H8F3N', 'C12H21N', 'C10H12N2O4', 'C10H13FN2O4', 'C10H13FN2O5', 'C23H37NO6', 'C14H27NO6', 'C23H27FN4O3', 'C26H30ClFN2O2', 'C6H13ClF2N2O2', 'C20H30ClN5O3', 'C11H17ClN2O', 'C26H37ClN2O5', 'C16H23ClN4O', 'C25H36ClNO5', 'C20H27ClN2O4', 'C28H41ClN2O5', 'C21H29ClN2O5', 'C20H29ClN2O3', 'C23H30ClNO3', 'C17H19ClFN3O3S', 'C15H24ClNO', 'C17H26ClN3O2S', 'C19H28ClN5O5', 'C17H25ClN2O', 'C15H25ClN2O2', 'C18H22ClN3O', 'C14H28ClNO6', 'C19H22ClNO', 'C20H21ClFNO3S', 'C14H11ClN4O', 'C9H12ClN', 'C21H24ClN3O7S', 'C21H25ClFN3O4', 'C13H13ClN2O2', 'C22H26ClN3O', 'C13H21ClN2O', 'C13H21ClN2O3S', 'C15H25ClN2O', 'C15H24ClN3O2', 'C13H20ClNO', 'C9H14ClNO', 'C18H35ClN2O6S', 'C22H39ClN2O6S', 'C12H19ClN2O', 'C10H17ClN2O4S3', 'C2H8ClNS', 'C5H10ClN3', 'C17H21ClN2O', 'C16H16ClN3', 'C13H19Cl2F3N2O', 'C30H54ClN3O6', 'C6H14ClN5O', 'C4H12ClN5', 'C17H27Cl2N', 'C10H15Cl2N3', 'C11H16ClNO', 'C18H29ClN2O', 'C4H7ClN2', 'C12H22ClN', 'C16H24ClNO2', 'C13H15ClN2O2', 'C15H24ClNO3', 'C18H29ClN2O4', 'C16H26ClNO4', 'C22H35ClN2O2', 'C13H21ClN6O4', 'C8H20ClNO', 'C16H25ClN2O3', 'C16H26ClNO3', 'C12H17ClN2O2', 'C13H14ClN3', 'C7H16ClNO3', 'C17H20ClN3', 'C17H19ClN4O', 'C8H11Cl2N3O', 'C9H10Cl3N3O', 'C16H20Cl2N2', 'C14H23Cl2NO', 'C15H21Cl2N3O2', 'C8H14Cl2N2O2', 'C16H21BrCl2N2O', 'C21H28Cl3N3O2', 'C21H32Cl2FN3O2', 'C14H24Cl2N2O3', 'C18H24Cl2N2', 'C9H17Cl2N3O', 'C17H24Cl2N4O', 'C10H26Cl2N2O2', 'C16H22Cl2N2', 'C13H20ClNO3', 'C20H28ClN5O3', 'C20H26ClNO2', 'C19H25ClN2S', 'C20H34ClN3O4', 'C17H27ClN2O', 'C11H16N4O2', 'C19H32N2O2', 'C24H26N2O2', 'C19H21NO4', 'C14H10O4', 'C19H21N3O5', 'C29H53NO5', 'C24H20N6O3', 'C14H12FNO3', 'C31H46O2', 'C14H18N4O9', 'C15H13NO3', 'C28H37N3O3', 'C27H33N3O8', 'C8H9N3O4', 'C8H12N2O3', 'C11H14N4O4', 'C9H12N4O3', 'C19H20ClNO', 'C14H20O7', 'C24H33N3O4', 'C20H21NO', 'C17H15N3O6', 'C9H15NO3S', 'C15H15ClN2O4S', 'C20H28N6O4S', 'C22H36N2O4S', 'C12H16N4O2S2', 'C13H17N3O3S2', 'C11H11N3O2S', 'C11H15NO4S', 'C17H25N3O2S', 'C23H20N2O3S', 'C17H16N4O2', 'C14H19NO5', 'C15H17Cl2NO2', 'C17H20N4S', 'C19H20FN3', 'C25H34N4O9', 'C19H31NO', 'C22H22ClN5O2S', 'C21H27ClN2O2', 'C21H18ClNO6', 'C19H26ClN5O4', 'C20H18ClF2N3O3', 'C19H24ClNO', 'C22H24BrFN4O2', 'C9H15N3', 'C21H35N3O7', 'C16H14N2O3S', 'C13H17N5O8S2', 'C3H5N3O', 'C10F18', 'C16H22FNO', 'C8H8F3N3O4S2', 'C20H21NO2', 'C19H26I3N3O9', 'C29H32O6', 'C15H17NO2', 'C20H24N2O5', 'C17H15N5O', 'C15H22N4O3', 'C13H18N4O3', 'C24H27FN2O4', 'C10H8OS', 'C22H36O2', 'C15H26N2', 'C11H12N2OS2', 'C14H19N5O4', 'C21H23NO4S', 'C35H53NO3', 'C19H23NO2', 'C14H18N2O', 'C16H24N2', 'C27H30N2O6S', 'C15H19N3OS', 'C23H33N2O+', 'C7H16O4S2', 'C28H41N3O3', 'C23H28N2O3', 'C18H29NO4', 'C19H28N2O4', 'C15H25NO2', 'C31H48O2S2', 'C22H29N3O6S', 'C10H16N2O', 'C10H15N3S', 'C16H38Br2N2', 'C19H24INO3', 'C40H48I2N2O6', 'C30H60I3N3O3', 'C25H30ClNO3', 'C7H9ClN2O', 'C6H11ClN4O2', 'C37H42Cl2N2O6', 'C14H20Cl2N4', 'C18H26ClNO2', 'C6H15ClN2O2', 'C7H16ClNO2', 'C7H17ClN2O2', 'C8H18ClNO2', 'C14H30Cl2N2O4', 'C21H30BrNO4', 'C18H24BrNO4', 'C22H26BrNO3', 'C12H19BrN2O2', 'C22H28BrNO3', 'C23H24BrO2P', 'C22H29BrN2O', 'C17H22BrNOS2', 'C19H28BrNO3', 'C22H34INO2', 'C12H30N2+2', 'C23H36N6O5S', 'C24H28N2O4', 'C13H28N4O2', 'C7H9ClO', 'C11H10BrN5', 'C10H8BrN3O', 'C11H13BrN2O6', 'C12H16BrNO3', 'C21H27NO4S', 'C5H11Cl2NO', 'C6H8N2O8', 'C9H14N4O3', 'C15H11N3O3', 'C15H35N2O6P', 'C19H17N5O7S3', 'C16H15N5O7S2', 'C14H13N5O5S2', 'C27H37N3O7S', 'C14H18O10', 'C6H10O5', 'C22H28N2O11', 'C2H7NS', 'C15H33NO', 'C8H10FN3O3S', 'C4H3F7O', 'C5F12', 'C6F14', 'C18H34ClN2O8PS', 'C20H29N5O3', 'C21H24N2O5', 'C28H34O15', 'C19H21NO3', 'C59H90O4', 'C19H19N9O9S3', 'C13H13F2N6O4P', 'C16H15NO', 'C19H24N2O4', 'C35H46N6O8S', 'C12H10FN3O4', 'C10H13N3O2', 'C18H37N5O9', 'C24H21I6N5O8', 'C8H15NO6', 'C13H16ClNO', 'C20H34N2O10', 'C18H26N2O9', 'C23H42N2O12', 'C29H38N4O10', 'C19H20N8O5', 'C24H29N5O3', 'C32H34O19', 'C19H26N6O6', 'C22H31N3O5', 'C24H34N2O5', 'C22H23NO4', 'C26H44O9', 'C17H12BrFN2O3', 'C28H50N2O5', 'C42H38O20', 'C14H20ClN3O3S', 'C7H17NO3', 'C11H19NO9', 'C21H41N5O11', 'C18H38N2O6', 'C13H8Cl2O4S', 'C22H42N4O8S2', 'C16H25N3O5', 'C13H24N2O3', 'C15H16N4O2', 'C7H13NO3S2', 'C16H22N6O4', 'C48H76N2O4S', 'C11H15N3O4', 'C43H75NO16', 'C7H18NO2P', 'C35H58O12', 'C8H17NO', 'C18H24N5O8P', 'C41H67NO15', 'C25H42ClNO2', 'C14H22ClNO', 'C17H27ClN4O3S2', 'C21H34ClN3O5S', 'C18H22N2O2', 'C27H48O', 'C42H69NO15', 'C18H14F2N4O', 'C20H28O5S', 'C29H41F2N5O', 'C34H56N2O4', 'C34H47NO11', 'C17H20', 'C19H42N2O8S2', 'C18H23ClN2O2', 'C16H14ClN3O', 'C9H11ClO3', 'C7H11Cl3O4', 'C15H19Cl2N3O3S', 'C19H22ClNO3', 'C12H21ClN2O3', 'C10H16ClNO2', 'C16H11ClN4', 'C16H19NO4', 'C5H8N4O3S2', 'C40H63N3O4S2', 'C15H19N5', 'C32H37NO5S', 'C43H65N5O10', 'C43H74N2O14', 'C28H29ClN2O2', 'C14H19Cl3N2O6S', 'C4H7ClN4', 'C34H64Cl2N2O6S', 'C27H37ClN2O5', 'C17H20ClNO3', 'C9H11Cl3N4', 'C13H20Cl2N2O2', 'C20H48Cl2N4O', 'C12H18ClNOS', 'C22H31ClN2O5S2', 'C24H33ClN2O5', 'C27H34ClN3O8', 'C15H23ClN2O', 'C21H27ClFN3O5', 'Cl2O2S', 'C3HCl2N3O3', 'C10Cl12', 'C12H13Cl3O3', 'C7H7Cl2N', 'C8H20O7P2', 'C16H34', 'C9H23N3', 'C17H22N2S', 'C12H21NO3Si', 'C19H20ClN3O4S', 'C2H6N2O2', 'C6H16N2O2', 'C23H19N5O2', 'C10H9N5O', 'C7H10N4O3', 'C18H22F2N6O', 'C9H17N5S', 'C5H8N4O', 'C2H6N4O2', 'C2H4INO', 'C9H9IO2', 'C6HF11O2', 'C12H9ClO3S', 'C13H15ClO', 'C7H3Cl5S', 'C12H19Cl7', 'C21H20Cl2O3', 'C18H24ClNO', 'C9H10ClNO', 'C12H13N', 'C12H14O', 'C12H9N', 'C20H33NO', 'C4H7BrO2', 'C20H23ClN2O4', 'C16H36ClP', 'C16H36BrP', 'C13H19N3O6S', 'C20H18ClF3N2O6', 'C3Cl3N3', 'C12H7Cl3', 'C8H4Cl6', 'C2Cl4', 'C3H8ClNO2S', 'C10H18ClN3O2', 'C17H17ClN2', 'C5H6Br2N2O2', 'C9H19I', 'C8H9Br', 'C13H21N', 'C12H12ClN5O4S', 'C7H8O3S', 'C6H11ClO2', 'C4H7N5', 'C6H8N2O3S', 'C9H13N5', 'C9H11N3', 'C6H3F2NO2', 'C9H17N5O', 'C8H8Cl2O2', 'C11H23Br', 'C3H6Br2O', 'C9H6N2O4', 'C3H11N2O4P', 'C9H20IN', 'C6H11ClN2O', 'C35H46O20', 'C12H20O7', 'H2O4S', 'C10H15NO2S', 'C10H11N5O', 'C4H10O3S', 'C10H13N3O5S', 'C21H27N5O7S', 'C25H45N13O14S', 'C20H40N6O8S', 'C14H15NO5S2', 'C21H28BrNO3', 'C21H36N2O5S', 'C10H17NO5S', 'C18H18N6O5S2', 'C12H19NO2', 'C13H11N3O5S2', 'C12H21NO', 'C21H22N2O2', 'C5H4N4O3', 'C16H12N2O2', 'C17H22N2O4', 'C10H10N4O2S', 'C12H13BrN4O2S', 'C9H12N2O7P2', 'C23H26N2O2', 'C17H27N5O', 'C6H6OS', 'C14H17NO6', 'C10H11N3', 'C6H6FN', 'C12H16ClNOS', 'C20H27ClN2OS', 'C7H14O2S', 'C43H49N7O10', 'C22H20N4O4', 'C15H33N3O2', 'C28H37N3O5S', 'C21H23FN2O7S', 'C28H35N7O4S', 'C9H10N2O', 'C6H10ClNO2', 'C15H16', 'C12H25Br', 'C3H4Br2O2', 'C11H13ClN2', 'C22H19FN4O3', 'C22H38O3', 'C15H12O4', 'C35H47FN4O2', 'C10H16N2OS', 'C33H42O19', 'C22H34O5', 'C18H22I3N3O8', 'C35H42Cl2N4O2', 'C11H10O4', 'C7H9ClN2O2', 'C20H27O4P', 'C22H30N4O2', 'C22H28N2O3', 'C21H21ClN2O', 'C24H25NO3', 'C3H2Br2N2O', 'C18H19FN2O6S', 'C4H10ClO2PS', 'C33H39ClF2N4O3', 'C22H27Cl2NO4', 'C38H42N8O6S2', 'C20H19NO4', 'C22H27N9O4', 'C17H22BrNO5', 'C21H27N7O14P2', 'C4H4F6O', 'C29H35NO8', 'C20H21Cl2NO4', 'C35H35N3O6', 'C6H6N4O3S', 'C17H32BrNO2', 'C42H52N4O12', 'C22H28FNO6S', 'C20H32N6O4S', 'C20H25N3O3S', 'C34H24N4O16S4', 'C19H21N3', 'C27H46ClNO2', 'C20H24INO4', 'C27H58NO6P', 'C11H17Br2NO2', 'C23H31NO7S', 'C6H6Cl2N2O4S2', 'C22H32ClNO3', 'C16H18BrCl2N3O3', 'C12H20ClNO2', 'C18H22Cl2N2', 'C18H23NO4', 'C18H23IN2O2', 'C46H80N2O13', 'C10H12ClNO4', 'C30H40ClNO4', 'C6H14O8S2', 'C14H13N3O2S', 'C12H22N2O4', 'C16H22I2N6O4S', 'C28H30FN3OS', 'C17H23FN2O', 'C12H16F3N', 'C17H20N2O3S', 'C15H12', 'C20H27N5O5S', 'C20H27NO5', 'C22H31O4P', 'C7H11N3O2', 'C15H18O7', 'C21H23NO5', 'C27H33NO10S', 'C36H72NO8P', 'C18H24ClN3O3', 'C19H24ClNO5', 'C11H14Cl2N2', 'C8H22N4O2', 'C14H24ClN3O3S', 'C29H30N6O6', 'C44H76N4O10S2', 'C19H25NO5', 'C7H9N3O2S2', 'C19H25ClN2O3', 'C6H12O2S2', 'C4H4S', 'C14H15O2PS2', 'C33H54O5', 'C24H24FN5O2S', 'C4H6ClNOS', 'C19H25ClN2', 'C21H38O6', 'C21H16F4N2O4', 'C19H10Br4O5S', 'C21H14Br4O5S', 'C15H13NO4', 'C19H16O5', 'C30H41N3O10S2', 'C4H6BrNO4', 'C22H29NO4S', 'C32H43N5O5', 'C20H26N2', 'C30H32ClN3O8S', 'C23H27ClN2O2', 'C22H22Cl3F3N2O', 'C17H20Br2Cl2N4O2', 'C20H28ClN', 'C16H22N2O2', 'C43H51N3O11', 'C16H14F3IN2O4', 'C20H32F2O5', 'C21H25NO', 'C23H27NO6', 'C21H25N3O3', 'C14H12Cl2FNO', 'C16H15ClN2', 'C19H30ClNO5', 'C28H47NO4S', 'C25H37NO3', 'C12H25BrN2', 'C25H33ClN6O4S2', 'C36H60N2O8S', 'C22H27Cl3N2OS', 'C11H13BrN2O5', 'C29H27ClN2O14S', 'C6H17N3', 'C17H12Cl2N4', 'C27H39ClN2O4', 'C32H52Br2N4O4', 'C18H39NO5', 'C48H48N4O6S2', 'C23H28N2O5S', 'C25H35N3O6S', 'C20H37N3O13', 'C35H42N2O9', 'C43H63NO11', 'C5H8Cl2O', 'C12H20O4', 'C10H15BrClNO2', 'C23H30O4', 'C12H29NO4S', 'C11H18IN', 'C12H23BrO2', 'I2', 'C21H27NO4', 'C25H29NO2', 'C19H22O2', 'C27H33NO3', 'C20H24N2O6S', 'C19H25N3O2S2', 'C26H56NO5PS', 'C10H6N2O3', 'C17H22N2O3S2', 'C20H23F3N2O2', 'C26H41Br2NO4', 'C32H55BrN4O', 'C10H14N2S', 'C11H20O11', 'C20H26ClNO3', 'C19H21ClN4O5', 'C13H11ClN2O2S', 'C21H26ClNO3', 'C17H22ClNO3', 'C18H34Cl2N2O5S', 'C5H13ClN2O2', 'C23H30ClN3O2', 'C20H28ClNO4', 'C18H25ClN4O', 'C17H19N3', 'C6H11NO6', 'C14H14ClN3O4S2', 'C17H17N7O8S4', 'C22H23F2NO2', 'C17H14O4S', 'C22H27N3O2', 'C18H23ClN2O2S', 'C16H23NO2', 'C11H10ClN3O', 'C14H21NO3S', 'C18H28BrNO2', 'C26H35N3O9', 'C12H12FNO', 'C42H56N4O14', 'C20H28Cl3N3O3', 'C14H23ClN6O5', 'C19H23NO3', 'C11H16N2O5', 'C21H36ClNO', 'C12H19ClN4O7P2S', 'C12H18ClN4O4PS', 'C19H28Cl2N6O6S2', 'C12H18Cl2N4OS', 'C6H14ClNO2S', 'C44H50Cl2N4O2', 'C19H32BrNO2', 'C5H14BrNO', 'C35H60Br2N2O4', 'C25H52NO4P', 'C28H44N2O23', 'C6H10N4', 'C14H19NO2', 'C15H23NS', 'C8H8', 'C12H15N5O3', 'C30H50', 'C17H23NO4', 'C16H26O5', 'C18H24BrNO3S', 'C9H14BrNO', 'C35H62Br2N4O4', 'C36H42Br2N2', 'C13H15N5O3', 'C12H15NO6', 'C33H47NO13', 'C24H35N5O5', 'C17H28N2O', 'C17H23N7O5', 'C14H25NO6S', 'C22H38O7', 'C15H15NO3S', 'C7H15Cl2N2O4P', 'C36H51N2O18P3', 'C20H30N2O5S', 'C16H14O6', 'C10H18N4O4S3', 'C16H21NO4S', 'C5H4N2O3', 'C18H25NO', 'C7H9NO2', 'C27H23N5O4', 'C8H7BrO2', 'C11H25NO', 'C18H42O6S4Si2', 'C11H20N4', 'C5H9Br3O', 'C4H6Br2O2', 'C8HF17O3S', 'C11HF21O2', 'C16H13ClN2S', 'C6H4ClN3', 'C18H18N2O6S', 'C12H13I3N2O3', 'C17H19N3O6', 'C22H24N2O2', 'C15H13N3O4', 'C51H98O6', 'C11H10O6', 'C9H12N2O4S', 'C8H12N2O3S', 'C19H24N8O10S3', 'C8H18O4S2', 'C18H28NO4P', 'C9H14N2O3', 'C23H28ClN', 'C17H26N4O3S2', 'C7H4O3S', 'C11H16N2O8', 'C16H33NO3', 'C27H22Cl2N4', 'C13H21NO2', 'C12H9ClO2S', 'C17H14N2O6S', 'C21H26ClN3O2', 'C30H50O', 'C19H24BrNS2', 'C22H24N6O9S3', 'C10H20S2', 'CHBrCl2', 'C13H20N2O2S', 'C8H8N2O2', 'C14H14Cl4O4', 'C14H20O4', 'C14H32O3Si', 'C5H12', 'C28H37NO4S', 'C2Cl6', 'C16H13NO4S', 'C25H20FNO5S', 'C8H8N4O', 'C20H38O5S', 'C23H44O5', 'C57H104O6', 'C21H41NO2', 'C21H41NO4S', 'C18H33N', 'C22H38O6', 'C10H19NO3', 'C12H25NO3', 'C22H43NO', 'C17H24O4', 'C14H29NO3', 'C49H96O4', 'C13H27NO3', 'C9H17N', 'C42H78O4', 'C20H38O4S', 'C24H48O2', 'C26H50O2', 'C13H20O3', 'C21H34O', 'C21H42O3', 'C19H37N', 'C28H58O', 'C44H90', 'C40H82', 'C38H78', 'C37H76', 'C36H74', 'C35H72', 'C34H70', 'C32H66', 'C28H58', 'C26H54', 'C25H52', 'C24H50', 'C23H48', 'C44H88O2', 'C22H46', 'C21H44', 'C20H42', 'C26H54O', 'C24H50O', 'C16H35NO', 'C17H38N+', 'C30H58O6', 'C21H36O', 'C15H32O3S', 'C34H66O6', 'C19H41N', 'C17H36O', 'C18H38O4S', 'C41H82O6P2', 'C54H111O3P', 'C42H82O4S', 'C19H40', 'C15H32N2O', 'C19H35NO5', 'C18H37NO3', 'C18H34O6', 'C17H32O3', 'C15H30O5S', 'C19H39N2O3+', 'C18H39N2O+', 'C28H56O2', 'C30H60O2', 'C32H66O', 'C38H74O4', 'C24H46O6', 'C19H39NO2', 'C23H48N2O', 'C22H45NO3', 'C18H38', 'C34H66O4', 'C20H41NO3', 'C10H8N2O2', 'C3H4N2O2', 'C23H35NO2', 'C19H28O4', 'C8H6FNO', 'C19H20N4O3', 'C19H18N4O5', 'C3H4O2', 'C14H18O3', 'C21H36O8S4', 'C2H4O6S2', 'C5H13NO', 'C5H10N6O2', 'C10H16O5', 'C7H13NO3', 'C4H10', 'C4H6Cl2O', 'C12H26O4S', 'C14H24N2O2S', 'C14H23N', 'C8H10Br2O4', 'C33H62O6', 'C3H8', 'C7H10O4', 'C11H22O5', 'C27H34O14', 'C14H28O4', 'C20H38O7S', 'C14H14O6', 'C12H9NO', 'C18H41N3', 'C7H10O5', 'C7H3F9O3', 'C12H9Cl', 'C3H9NO3S', 'C4H12N2', 'CHNS', 'C3H7NS2', 'C10H17N3O2', 'CH5N', 'C7H13N3O4', 'C7H19N3', 'C3H9NO2', 'C2H2F4', 'C21H45N', 'C6H8N2O', 'C10H7I', 'C17H16N4O8', 'C18H42N6', 'C7H15N2O2+', 'C7H18NO2+', 'C12H23N4O11P2+', 'C14H27N4O11P2+', 'C8H16NO2+', 'C5H14NO+', 'C6H14NO+', 'C5H12NO2+', 'C4H12N+', 'C5H11NO2S', 'C2H6S', 'CH4S', 'C33H60OS2', 'C5H12NO4P', 'C21H21O3P', 'C9H10O5', 'CH5NO', 'C14H14O4S', 'C2H4ClNO', 'C21H30O6', 'C13H14N2O4', 'C8H16N2O2', 'C6H9N2O2P', 'C3H8N2O2', 'C10H22O4S', 'C18H31N', 'C14H31NO', 'C16H34NO2+', 'C12H26O3S', 'C30H58O4S', 'C8H18O4S', 'CH6N4O', 'C5H11NS2', 'C3H6OS2', 'C24H26O8', 'C11H12ClNO3', 'C5H9NO4', 'C21H28N7O14P2+', 'C3H7NO3', 'C12H25NO2', 'C8H20N2', 'C11H23NO2', 'C8H22N4', 'C2H7NO', 'C10H12N2', 'C4H6F2O2', 'C4H5Cl3O2', 'C6H11BrO2', 'C6H14N2O2', 'C14H10O4S2', 'C12H18O11', 'C5H5NO', 'CH2O2', 'C11H10Cl2N2O', 'C6H9O9P', 'C4H5ClO2', 'C17H35NO', 'C10H16N2O4', 'C24H46O7S', 'C16H15NO4', 'C14H25NO3', 'C13H24O3', 'C6H4O5', 'C13H10O2S', 'C13H15NO5', 'C20H29NO3', 'C23H44O2', 'C10H18O5', 'C8H8N4O2', 'C6H6O5S', 'C13H20O2', 'C7H12O5', 'C2H4OS', 'C4H6Br2O', 'C4H4O2', 'C11H19ClO2', 'C7H11NO6', 'C16H13NO', 'C11H10N2O', 'C15H24O4', 'C6H11NO5', 'C40H76N2O4', 'C7H14O8', 'C4H9N', 'CH4O4S', 'C6H11NO4', 'C12H14O6', 'C9H21N3O3', 'C9H18NO2+', 'C14H24O', 'C11H23NO6P+', 'C12H22O5', 'C2H2O3', 'C16H30O7S', 'C7H11ClO3', 'C7H9NO3', 'C15H30O', 'C6H10O7', 'C6H11ClO3', 'C5H10OS2', 'C5H4N2O2', 'C7H13ClO2', 'C4H8OS2', 'C8H19PS2', 'C6H6N2O2S', 'C10H14O6', 'C3H7Cl', 'C9H13NO8', 'C25H40N2O9', 'C14H15NO4']\n",
      "3208\n"
     ]
    }
   ],
   "source": [
    "print(og_formulas)\n",
    "print(len(og_formulas))"
   ]
  },
  {
   "cell_type": "code",
   "execution_count": 124,
   "metadata": {},
   "outputs": [
    {
     "name": "stdout",
     "output_type": "stream",
     "text": [
      "{'C2H6S2'}\n",
      "1\n",
      "Number of Novel Molecules:  99\n"
     ]
    }
   ],
   "source": [
    "og_formulas = set(og_formulas)\n",
    "print(og_formulas & unique_formulas)\n",
    "print(len(og_formulas & unique_formulas))\n",
    "print(\"Number of Novel Molecules: \", 100 - len(og_formulas & unique_formulas))"
   ]
  },
  {
   "cell_type": "code",
   "execution_count": 128,
   "metadata": {},
   "outputs": [
    {
     "data": {
      "text/html": [
       "<div>\n",
       "<style scoped>\n",
       "    .dataframe tbody tr th:only-of-type {\n",
       "        vertical-align: middle;\n",
       "    }\n",
       "\n",
       "    .dataframe tbody tr th {\n",
       "        vertical-align: top;\n",
       "    }\n",
       "\n",
       "    .dataframe thead th {\n",
       "        text-align: right;\n",
       "    }\n",
       "</style>\n",
       "<table border=\"1\" class=\"dataframe\">\n",
       "  <thead>\n",
       "    <tr style=\"text-align: right;\">\n",
       "      <th></th>\n",
       "      <th>Formula</th>\n",
       "      <th>Count</th>\n",
       "    </tr>\n",
       "  </thead>\n",
       "  <tbody>\n",
       "    <tr>\n",
       "      <th>0</th>\n",
       "      <td>C4H13F2NOS</td>\n",
       "      <td>1</td>\n",
       "    </tr>\n",
       "    <tr>\n",
       "      <th>63</th>\n",
       "      <td>H4BrClN2OS</td>\n",
       "      <td>1</td>\n",
       "    </tr>\n",
       "    <tr>\n",
       "      <th>73</th>\n",
       "      <td>C2H6S2</td>\n",
       "      <td>1</td>\n",
       "    </tr>\n",
       "    <tr>\n",
       "      <th>72</th>\n",
       "      <td>CH13N2OPSSi2</td>\n",
       "      <td>1</td>\n",
       "    </tr>\n",
       "    <tr>\n",
       "      <th>71</th>\n",
       "      <td>CH17IN2O2P2SSi2</td>\n",
       "      <td>1</td>\n",
       "    </tr>\n",
       "    <tr>\n",
       "      <th>70</th>\n",
       "      <td>CH7ClIN3O</td>\n",
       "      <td>1</td>\n",
       "    </tr>\n",
       "    <tr>\n",
       "      <th>69</th>\n",
       "      <td>CH6ClNO3S</td>\n",
       "      <td>1</td>\n",
       "    </tr>\n",
       "    <tr>\n",
       "      <th>68</th>\n",
       "      <td>C2H12ClF2NP2S</td>\n",
       "      <td>1</td>\n",
       "    </tr>\n",
       "    <tr>\n",
       "      <th>67</th>\n",
       "      <td>C3H15IN2O2SSi</td>\n",
       "      <td>1</td>\n",
       "    </tr>\n",
       "    <tr>\n",
       "      <th>66</th>\n",
       "      <td>CH12N2OP2SSi</td>\n",
       "      <td>1</td>\n",
       "    </tr>\n",
       "    <tr>\n",
       "      <th>65</th>\n",
       "      <td>C3H10BrNO2S</td>\n",
       "      <td>1</td>\n",
       "    </tr>\n",
       "    <tr>\n",
       "      <th>64</th>\n",
       "      <td>C3H11BrIO3PS</td>\n",
       "      <td>1</td>\n",
       "    </tr>\n",
       "    <tr>\n",
       "      <th>62</th>\n",
       "      <td>CH10FNP2S3Si</td>\n",
       "      <td>1</td>\n",
       "    </tr>\n",
       "    <tr>\n",
       "      <th>1</th>\n",
       "      <td>C3H10BrI2O2P</td>\n",
       "      <td>1</td>\n",
       "    </tr>\n",
       "    <tr>\n",
       "      <th>61</th>\n",
       "      <td>C2H11Cl2PSSi</td>\n",
       "      <td>1</td>\n",
       "    </tr>\n",
       "    <tr>\n",
       "      <th>60</th>\n",
       "      <td>C3H13NO2Si</td>\n",
       "      <td>1</td>\n",
       "    </tr>\n",
       "    <tr>\n",
       "      <th>59</th>\n",
       "      <td>C4H18FINOPSi2</td>\n",
       "      <td>1</td>\n",
       "    </tr>\n",
       "    <tr>\n",
       "      <th>58</th>\n",
       "      <td>C3H13ClFOPSSi</td>\n",
       "      <td>1</td>\n",
       "    </tr>\n",
       "    <tr>\n",
       "      <th>57</th>\n",
       "      <td>C6H21NO2Si</td>\n",
       "      <td>1</td>\n",
       "    </tr>\n",
       "    <tr>\n",
       "      <th>56</th>\n",
       "      <td>C5H17Br2ISi</td>\n",
       "      <td>1</td>\n",
       "    </tr>\n",
       "    <tr>\n",
       "      <th>55</th>\n",
       "      <td>C3H25IN3PSi3</td>\n",
       "      <td>1</td>\n",
       "    </tr>\n",
       "    <tr>\n",
       "      <th>54</th>\n",
       "      <td>CH7Cl2NO4</td>\n",
       "      <td>1</td>\n",
       "    </tr>\n",
       "    <tr>\n",
       "      <th>53</th>\n",
       "      <td>C4H25INO2P3SSi2</td>\n",
       "      <td>1</td>\n",
       "    </tr>\n",
       "    <tr>\n",
       "      <th>52</th>\n",
       "      <td>C4H15BrClO2PS</td>\n",
       "      <td>1</td>\n",
       "    </tr>\n",
       "    <tr>\n",
       "      <th>74</th>\n",
       "      <td>C2H18BrI2O3PSi3</td>\n",
       "      <td>1</td>\n",
       "    </tr>\n",
       "    <tr>\n",
       "      <th>75</th>\n",
       "      <td>C3H11FINOSSi</td>\n",
       "      <td>1</td>\n",
       "    </tr>\n",
       "    <tr>\n",
       "      <th>76</th>\n",
       "      <td>C2H17I2O2PSSi2</td>\n",
       "      <td>1</td>\n",
       "    </tr>\n",
       "    <tr>\n",
       "      <th>77</th>\n",
       "      <td>CH13FI4N3O3PSSi</td>\n",
       "      <td>1</td>\n",
       "    </tr>\n",
       "    <tr>\n",
       "      <th>98</th>\n",
       "      <td>C2H11BrINOSi</td>\n",
       "      <td>1</td>\n",
       "    </tr>\n",
       "    <tr>\n",
       "      <th>97</th>\n",
       "      <td>C2H13I2NOP4Si</td>\n",
       "      <td>1</td>\n",
       "    </tr>\n",
       "    <tr>\n",
       "      <th>96</th>\n",
       "      <td>C4H17IN2P2Si</td>\n",
       "      <td>1</td>\n",
       "    </tr>\n",
       "  </tbody>\n",
       "</table>\n",
       "</div>"
      ],
      "text/plain": [
       "            Formula  Count\n",
       "0        C4H13F2NOS      1\n",
       "63       H4BrClN2OS      1\n",
       "73           C2H6S2      1\n",
       "72     CH13N2OPSSi2      1\n",
       "71  CH17IN2O2P2SSi2      1\n",
       "70        CH7ClIN3O      1\n",
       "69        CH6ClNO3S      1\n",
       "68    C2H12ClF2NP2S      1\n",
       "67    C3H15IN2O2SSi      1\n",
       "66     CH12N2OP2SSi      1\n",
       "65      C3H10BrNO2S      1\n",
       "64     C3H11BrIO3PS      1\n",
       "62     CH10FNP2S3Si      1\n",
       "1      C3H10BrI2O2P      1\n",
       "61     C2H11Cl2PSSi      1\n",
       "60       C3H13NO2Si      1\n",
       "59    C4H18FINOPSi2      1\n",
       "58    C3H13ClFOPSSi      1\n",
       "57       C6H21NO2Si      1\n",
       "56      C5H17Br2ISi      1\n",
       "55     C3H25IN3PSi3      1\n",
       "54        CH7Cl2NO4      1\n",
       "53  C4H25INO2P3SSi2      1\n",
       "52    C4H15BrClO2PS      1\n",
       "74  C2H18BrI2O3PSi3      1\n",
       "75     C3H11FINOSSi      1\n",
       "76   C2H17I2O2PSSi2      1\n",
       "77  CH13FI4N3O3PSSi      1\n",
       "98     C2H11BrINOSi      1\n",
       "97    C2H13I2NOP4Si      1\n",
       "96     C4H17IN2P2Si      1"
      ]
     },
     "execution_count": 128,
     "metadata": {},
     "output_type": "execute_result"
    }
   ],
   "source": [
    "df = pd.DataFrame(list(count_formulas.items()), columns=['Formula', 'Count'])\n",
    "sorted_df = df.sort_values(by='Count', ascending=False)\n",
    "sorted_df.head(31)"
   ]
  },
  {
   "cell_type": "code",
   "execution_count": null,
   "metadata": {},
   "outputs": [],
   "source": [
    "sorted_df.to_csv(\"vae_generated_count_test.csv\", index=False)"
   ]
  },
  {
   "cell_type": "code",
   "execution_count": 125,
   "metadata": {},
   "outputs": [
    {
     "data": {
      "text/html": [
       "<div>\n",
       "<style scoped>\n",
       "    .dataframe tbody tr th:only-of-type {\n",
       "        vertical-align: middle;\n",
       "    }\n",
       "\n",
       "    .dataframe tbody tr th {\n",
       "        vertical-align: top;\n",
       "    }\n",
       "\n",
       "    .dataframe thead th {\n",
       "        text-align: right;\n",
       "    }\n",
       "</style>\n",
       "<table border=\"1\" class=\"dataframe\">\n",
       "  <thead>\n",
       "    <tr style=\"text-align: right;\">\n",
       "      <th></th>\n",
       "      <th>atom_count</th>\n",
       "      <th>is_valid</th>\n",
       "      <th>ase_atom</th>\n",
       "      <th>mol</th>\n",
       "      <th>formula</th>\n",
       "      <th>energy</th>\n",
       "      <th>bio</th>\n",
       "    </tr>\n",
       "  </thead>\n",
       "  <tbody>\n",
       "    <tr>\n",
       "      <th>0</th>\n",
       "      <td>22</td>\n",
       "      <td>True</td>\n",
       "      <td>(Atom('C', [7.422787774919661, 4.9049447040398...</td>\n",
       "      <td>&lt;rdkit.Chem.rdchem.RWMol object at 0x2aabb1fa0...</td>\n",
       "      <td>C4H13F2NOS</td>\n",
       "      <td>-3.004893</td>\n",
       "      <td>16.439052</td>\n",
       "    </tr>\n",
       "    <tr>\n",
       "      <th>1</th>\n",
       "      <td>19</td>\n",
       "      <td>True</td>\n",
       "      <td>(Atom('C', [1.3879396359506602, 2.839478024525...</td>\n",
       "      <td>&lt;rdkit.Chem.rdchem.RWMol object at 0x2aabb2293...</td>\n",
       "      <td>C3H10BrI2O2P</td>\n",
       "      <td>-10.000000</td>\n",
       "      <td>13.835625</td>\n",
       "    </tr>\n",
       "    <tr>\n",
       "      <th>2</th>\n",
       "      <td>28</td>\n",
       "      <td>True</td>\n",
       "      <td>(Atom('C', [0.6983084011642682, 4.811040208415...</td>\n",
       "      <td>&lt;rdkit.Chem.rdchem.RWMol object at 0x2aabb1f1f...</td>\n",
       "      <td>C6H15BrFINOPS</td>\n",
       "      <td>-14.000000</td>\n",
       "      <td>3.808640</td>\n",
       "    </tr>\n",
       "    <tr>\n",
       "      <th>3</th>\n",
       "      <td>15</td>\n",
       "      <td>True</td>\n",
       "      <td>(Atom('H', [1.3209106614410637, 7.155454256839...</td>\n",
       "      <td>&lt;rdkit.Chem.rdchem.RWMol object at 0x2aabb2338...</td>\n",
       "      <td>H8BrF2N2PSi</td>\n",
       "      <td>-3.004946</td>\n",
       "      <td>5.892674</td>\n",
       "    </tr>\n",
       "    <tr>\n",
       "      <th>4</th>\n",
       "      <td>20</td>\n",
       "      <td>True</td>\n",
       "      <td>(Atom('C', [7.821257590305471, 2.2168945699236...</td>\n",
       "      <td>&lt;rdkit.Chem.rdchem.RWMol object at 0x2aabb1fa3...</td>\n",
       "      <td>C3H10Cl4INO</td>\n",
       "      <td>-3.000000</td>\n",
       "      <td>2.460807</td>\n",
       "    </tr>\n",
       "  </tbody>\n",
       "</table>\n",
       "</div>"
      ],
      "text/plain": [
       "   atom_count  is_valid                                           ase_atom   \n",
       "0          22      True  (Atom('C', [7.422787774919661, 4.9049447040398...  \\\n",
       "1          19      True  (Atom('C', [1.3879396359506602, 2.839478024525...   \n",
       "2          28      True  (Atom('C', [0.6983084011642682, 4.811040208415...   \n",
       "3          15      True  (Atom('H', [1.3209106614410637, 7.155454256839...   \n",
       "4          20      True  (Atom('C', [7.821257590305471, 2.2168945699236...   \n",
       "\n",
       "                                                 mol        formula   \n",
       "0  <rdkit.Chem.rdchem.RWMol object at 0x2aabb1fa0...     C4H13F2NOS  \\\n",
       "1  <rdkit.Chem.rdchem.RWMol object at 0x2aabb2293...   C3H10BrI2O2P   \n",
       "2  <rdkit.Chem.rdchem.RWMol object at 0x2aabb1f1f...  C6H15BrFINOPS   \n",
       "3  <rdkit.Chem.rdchem.RWMol object at 0x2aabb2338...    H8BrF2N2PSi   \n",
       "4  <rdkit.Chem.rdchem.RWMol object at 0x2aabb1fa3...    C3H10Cl4INO   \n",
       "\n",
       "      energy        bio  \n",
       "0  -3.004893  16.439052  \n",
       "1 -10.000000  13.835625  \n",
       "2 -14.000000   3.808640  \n",
       "3  -3.004946   5.892674  \n",
       "4  -3.000000   2.460807  "
      ]
     },
     "execution_count": 125,
     "metadata": {},
     "output_type": "execute_result"
    }
   ],
   "source": [
    "df = pd.DataFrame(generated_list)\n",
    "df.head()"
   ]
  },
  {
   "cell_type": "code",
   "execution_count": null,
   "metadata": {},
   "outputs": [
    {
     "name": "stdout",
     "output_type": "stream",
     "text": [
      "Index(['bond_preds', 'atom_preds', 'is_valid', 'ase_atom', 'mol', 'formula',\n",
      "       'energy', 'bio'],\n",
      "      dtype='object')\n"
     ]
    }
   ],
   "source": [
    "print(df.columns)"
   ]
  },
  {
   "cell_type": "code",
   "execution_count": 126,
   "metadata": {},
   "outputs": [
    {
     "data": {
      "text/html": [
       "<div>\n",
       "<style scoped>\n",
       "    .dataframe tbody tr th:only-of-type {\n",
       "        vertical-align: middle;\n",
       "    }\n",
       "\n",
       "    .dataframe tbody tr th {\n",
       "        vertical-align: top;\n",
       "    }\n",
       "\n",
       "    .dataframe thead th {\n",
       "        text-align: right;\n",
       "    }\n",
       "</style>\n",
       "<table border=\"1\" class=\"dataframe\">\n",
       "  <thead>\n",
       "    <tr style=\"text-align: right;\">\n",
       "      <th></th>\n",
       "      <th>formula</th>\n",
       "      <th>bio</th>\n",
       "    </tr>\n",
       "  </thead>\n",
       "  <tbody>\n",
       "    <tr>\n",
       "      <th>85</th>\n",
       "      <td>C5H14</td>\n",
       "      <td>93.142748</td>\n",
       "    </tr>\n",
       "    <tr>\n",
       "      <th>34</th>\n",
       "      <td>C3H10I2O2S</td>\n",
       "      <td>90.193057</td>\n",
       "    </tr>\n",
       "    <tr>\n",
       "      <th>12</th>\n",
       "      <td>C3H12IO2PSi</td>\n",
       "      <td>86.862665</td>\n",
       "    </tr>\n",
       "    <tr>\n",
       "      <th>25</th>\n",
       "      <td>CH11NO2Si2</td>\n",
       "      <td>86.754799</td>\n",
       "    </tr>\n",
       "    <tr>\n",
       "      <th>73</th>\n",
       "      <td>C2H6S2</td>\n",
       "      <td>84.190583</td>\n",
       "    </tr>\n",
       "    <tr>\n",
       "      <th>57</th>\n",
       "      <td>C6H21NO2Si</td>\n",
       "      <td>79.624057</td>\n",
       "    </tr>\n",
       "    <tr>\n",
       "      <th>21</th>\n",
       "      <td>CH9OPSi</td>\n",
       "      <td>79.098994</td>\n",
       "    </tr>\n",
       "    <tr>\n",
       "      <th>47</th>\n",
       "      <td>C3H11FI2O2Si</td>\n",
       "      <td>79.067975</td>\n",
       "    </tr>\n",
       "    <tr>\n",
       "      <th>69</th>\n",
       "      <td>CH6ClNO3S</td>\n",
       "      <td>71.602678</td>\n",
       "    </tr>\n",
       "    <tr>\n",
       "      <th>99</th>\n",
       "      <td>C2H11INO2P</td>\n",
       "      <td>70.922112</td>\n",
       "    </tr>\n",
       "    <tr>\n",
       "      <th>60</th>\n",
       "      <td>C3H13NO2Si</td>\n",
       "      <td>66.777420</td>\n",
       "    </tr>\n",
       "    <tr>\n",
       "      <th>35</th>\n",
       "      <td>C6H17ClO2Si</td>\n",
       "      <td>48.091528</td>\n",
       "    </tr>\n",
       "    <tr>\n",
       "      <th>90</th>\n",
       "      <td>CH13I2NOP2SSi</td>\n",
       "      <td>42.489240</td>\n",
       "    </tr>\n",
       "    <tr>\n",
       "      <th>65</th>\n",
       "      <td>C3H10BrNO2S</td>\n",
       "      <td>35.103002</td>\n",
       "    </tr>\n",
       "    <tr>\n",
       "      <th>37</th>\n",
       "      <td>H4BrFO2Si</td>\n",
       "      <td>33.175176</td>\n",
       "    </tr>\n",
       "    <tr>\n",
       "      <th>10</th>\n",
       "      <td>C3H12IO2P</td>\n",
       "      <td>31.940153</td>\n",
       "    </tr>\n",
       "    <tr>\n",
       "      <th>36</th>\n",
       "      <td>C4H15FO2SSi2</td>\n",
       "      <td>31.341329</td>\n",
       "    </tr>\n",
       "    <tr>\n",
       "      <th>49</th>\n",
       "      <td>C5H18FN2P</td>\n",
       "      <td>30.056828</td>\n",
       "    </tr>\n",
       "    <tr>\n",
       "      <th>26</th>\n",
       "      <td>C2H11FN2S</td>\n",
       "      <td>29.193044</td>\n",
       "    </tr>\n",
       "    <tr>\n",
       "      <th>40</th>\n",
       "      <td>C2H9INOP</td>\n",
       "      <td>26.671880</td>\n",
       "    </tr>\n",
       "    <tr>\n",
       "      <th>5</th>\n",
       "      <td>H3BrClISSi</td>\n",
       "      <td>23.507102</td>\n",
       "    </tr>\n",
       "    <tr>\n",
       "      <th>54</th>\n",
       "      <td>CH7Cl2NO4</td>\n",
       "      <td>22.583786</td>\n",
       "    </tr>\n",
       "    <tr>\n",
       "      <th>15</th>\n",
       "      <td>C2H10ClISi</td>\n",
       "      <td>22.045085</td>\n",
       "    </tr>\n",
       "    <tr>\n",
       "      <th>33</th>\n",
       "      <td>CH9ClIPSi</td>\n",
       "      <td>18.308544</td>\n",
       "    </tr>\n",
       "    <tr>\n",
       "      <th>39</th>\n",
       "      <td>C3H11FOSSi</td>\n",
       "      <td>18.168788</td>\n",
       "    </tr>\n",
       "    <tr>\n",
       "      <th>8</th>\n",
       "      <td>C2H12NOPSi</td>\n",
       "      <td>18.044814</td>\n",
       "    </tr>\n",
       "    <tr>\n",
       "      <th>0</th>\n",
       "      <td>C4H13F2NOS</td>\n",
       "      <td>16.439052</td>\n",
       "    </tr>\n",
       "    <tr>\n",
       "      <th>71</th>\n",
       "      <td>CH17IN2O2P2SSi2</td>\n",
       "      <td>16.420002</td>\n",
       "    </tr>\n",
       "    <tr>\n",
       "      <th>72</th>\n",
       "      <td>CH13N2OPSSi2</td>\n",
       "      <td>16.154294</td>\n",
       "    </tr>\n",
       "    <tr>\n",
       "      <th>67</th>\n",
       "      <td>C3H15IN2O2SSi</td>\n",
       "      <td>15.605891</td>\n",
       "    </tr>\n",
       "    <tr>\n",
       "      <th>77</th>\n",
       "      <td>CH13FI4N3O3PSSi</td>\n",
       "      <td>14.240088</td>\n",
       "    </tr>\n",
       "  </tbody>\n",
       "</table>\n",
       "</div>"
      ],
      "text/plain": [
       "            formula        bio\n",
       "85            C5H14  93.142748\n",
       "34       C3H10I2O2S  90.193057\n",
       "12      C3H12IO2PSi  86.862665\n",
       "25       CH11NO2Si2  86.754799\n",
       "73           C2H6S2  84.190583\n",
       "57       C6H21NO2Si  79.624057\n",
       "21          CH9OPSi  79.098994\n",
       "47     C3H11FI2O2Si  79.067975\n",
       "69        CH6ClNO3S  71.602678\n",
       "99       C2H11INO2P  70.922112\n",
       "60       C3H13NO2Si  66.777420\n",
       "35      C6H17ClO2Si  48.091528\n",
       "90    CH13I2NOP2SSi  42.489240\n",
       "65      C3H10BrNO2S  35.103002\n",
       "37        H4BrFO2Si  33.175176\n",
       "10        C3H12IO2P  31.940153\n",
       "36     C4H15FO2SSi2  31.341329\n",
       "49        C5H18FN2P  30.056828\n",
       "26        C2H11FN2S  29.193044\n",
       "40         C2H9INOP  26.671880\n",
       "5        H3BrClISSi  23.507102\n",
       "54        CH7Cl2NO4  22.583786\n",
       "15       C2H10ClISi  22.045085\n",
       "33        CH9ClIPSi  18.308544\n",
       "39       C3H11FOSSi  18.168788\n",
       "8        C2H12NOPSi  18.044814\n",
       "0        C4H13F2NOS  16.439052\n",
       "71  CH17IN2O2P2SSi2  16.420002\n",
       "72     CH13N2OPSSi2  16.154294\n",
       "67    C3H15IN2O2SSi  15.605891\n",
       "77  CH13FI4N3O3PSSi  14.240088"
      ]
     },
     "execution_count": 126,
     "metadata": {},
     "output_type": "execute_result"
    }
   ],
   "source": [
    "bio_formula = df[['formula', 'bio']]\n",
    "sorted_df = bio_formula.sort_values(by='bio', ascending=False)\n",
    "sorted_df.head(31)\n"
   ]
  },
  {
   "cell_type": "code",
   "execution_count": 127,
   "metadata": {},
   "outputs": [
    {
     "name": "stdout",
     "output_type": "stream",
     "text": [
      "18.146231797523797\n"
     ]
    }
   ],
   "source": [
    "print(sorted_df['bio'].sum() / 100)"
   ]
  },
  {
   "cell_type": "code",
   "execution_count": null,
   "metadata": {},
   "outputs": [],
   "source": [
    "df.to_csv('vae_generated_test.csv', index=False)\n"
   ]
  },
  {
   "cell_type": "code",
   "execution_count": null,
   "metadata": {},
   "outputs": [],
   "source": [
    "sorted_df.to_csv('vae_generated_bio_test.csv', index=False)"
   ]
  },
  {
   "cell_type": "markdown",
   "metadata": {},
   "source": []
  },
  {
   "cell_type": "code",
   "execution_count": null,
   "metadata": {},
   "outputs": [],
   "source": [
    "error_count = 0\n",
    "success_count = 0\n",
    "\n",
    "for index, row in df.iterrows():\n",
    "    try:\n",
    "        mol = row['mol']\n",
    "        smiles = Chem.MolToSmiles(mol)\n",
    "        new_mol = Chem.MolFromSmiles(smiles)\n",
    "        if new_mol is not None:\n",
    "            success_count += 1\n",
    "        else: error_count += 1\n",
    "    except Exception as e:\n",
    "        error_count += 1\n",
    "\n",
    "print(\"Percentage of Valid Molecules\", success_count / (error_count + success_count) * 100)"
   ]
  }
 ],
 "metadata": {
  "kernelspec": {
   "display_name": "Python 3",
   "language": "python",
   "name": "python3"
  },
  "language_info": {
   "codemirror_mode": {
    "name": "ipython",
    "version": 3
   },
   "file_extension": ".py",
   "mimetype": "text/x-python",
   "name": "python",
   "nbconvert_exporter": "python",
   "pygments_lexer": "ipython3",
   "version": "3.10.13"
  }
 },
 "nbformat": 4,
 "nbformat_minor": 2
}
