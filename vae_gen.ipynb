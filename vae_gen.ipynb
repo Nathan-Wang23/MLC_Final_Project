{
 "cells": [
  {
   "cell_type": "code",
   "execution_count": 99,
   "metadata": {},
   "outputs": [],
   "source": [
    "import torch\n",
    "import torch.nn as nn\n",
    "import torch.nn.functional as F\n",
    "import os\n",
    "import numpy as np\n",
    "from torch_geometric.nn import global_add_pool, GATConv, CGConv, VGAE,GCNConv\n",
    "import pickle\n",
    "from itertools import combinations\n",
    "from sklearn.model_selection import train_test_split\n",
    "from torch_geometric.data import DataLoader\n",
    "from torch.utils.data import Dataset, DataLoader\n"
   ]
  },
  {
   "cell_type": "code",
   "execution_count": 32,
   "metadata": {},
   "outputs": [],
   "source": [
    "input_dim = 10\n",
    "hidden_dim = 5\n",
    "num_heads = 3"
   ]
  },
  {
   "cell_type": "code",
   "execution_count": 66,
   "metadata": {},
   "outputs": [],
   "source": [
    "#class VAEGeneratorEncoder(nn.Module):\n",
    "#    def __init__(self, input_dim, hidden_dim, num_heads):\n",
    "#        super().__init__()\n",
    "#        self.conv_gat = GATConv(input_dim, hidden_dim, heads=num_heads)\n",
    "#        self.conv1 = GCNConv(hidden_dim * num_heads, 2 * hidden_dim)\n",
    "#        self.conv_mu = GCNConv(2 * hidden_dim, hidden_dim)\n",
    "#        self.conv_logstd = GCNConv(2 * hidden_dim, hidden_dim)\n",
    "#        self.relu = nn.ReLU()\n",
    "\n",
    "#    def forward(self, x, edge_index, edge_attr):\n",
    "#        x = x.float()\n",
    "#        x = self.relu(self.conv_gat(x, edge_index, edge_attr))\n",
    "#        x = self.relu(self.conv1(x, edge_index))\n",
    "#        return self.conv_mu(x, edge_index), self.conv_logstd(x, edge_index)\n",
    "\n",
    "#model = VGAE(VAEGeneratorEncoder(input_dim, hidden_dim, num_heads))\n"
   ]
  },
  {
   "cell_type": "code",
   "execution_count": 176,
   "metadata": {},
   "outputs": [],
   "source": [
    "input_dim = 11\n",
    "hidden_dim_1 = 20\n",
    "hidden_dim_2 = 10\n",
    "num_bond_types = 5\n",
    "num_atomic_features = 11\n",
    "\n",
    "class VGAE(nn.Module):\n",
    "    def __init__(self, input_dim, hidden_dim_1, hidden_dim_2, num_bond_types, num_atomic_features):\n",
    "        super(VGAE,self).__init__()\n",
    "        self.input_dim = input_dim\n",
    "        self.hidden_dim_1 = hidden_dim_1\n",
    "        self.hidden_dim_2 = hidden_dim_2\n",
    "        self.num_bond_types = num_bond_types\n",
    "        self.base_gcn = GraphConvSparse(input_dim, hidden_dim_1, num_bond_types)\n",
    "        self.gcn_mu = GraphConvSparse(hidden_dim_1, hidden_dim_2, num_bond_types, activation=lambda x:x)\n",
    "        self.gcn_logstd = GraphConvSparse(hidden_dim_1, hidden_dim_2, num_bond_types, activation=lambda x:x)\n",
    "        self.atomic_pred = nn.Linear(hidden_dim_2, num_atomic_features)\n",
    "        self.decoder = nn.Linear(hidden_dim_2, 63 * num_bond_types)\n",
    "        self.atomic_decoder = nn.Linear(hidden_dim_2, num_atomic_features)\n",
    "\n",
    "\n",
    "    def reparameterize(self, mu, logstd):\n",
    "        if self.training:\n",
    "            std = torch.exp(logstd)\n",
    "            eps = torch.randn_like(std)\n",
    "            return eps.mul(std).add_(mu)\n",
    "        else:\n",
    "            return mu\n",
    "\n",
    "    def encode(self, x, adj):\n",
    "        hidden = self.base_gcn(x, adj)\n",
    "        self.mean = self.gcn_mu(hidden, adj)\n",
    "        self.logstd = self.gcn_logstd(hidden, adj)\n",
    "        return self.mean, self.logstd\n",
    "\n",
    "    def forward(self, x, adj):\n",
    "        mu, logstd = self.encode(x, adj)\n",
    "        z = self.reparameterize(mu, logstd)\n",
    "        A_pred = self.decode_adj(z, x.size(1), self.num_bond_types)\n",
    "        atomic_numbers_pred = self.atomic_decoder(z)\n",
    "        atomic_numbers_pred = torch.sigmoid(atomic_numbers_pred)\n",
    "        return A_pred, atomic_numbers_pred, mu, logstd\n",
    "\n",
    "    def decode_adj(self, Z, num_nodes, num_bond_types):\n",
    "        batch_size = Z.size(0)\n",
    "        logits = self.decoder(Z)\n",
    "        A_pred = logits.view(batch_size, num_nodes, num_nodes, num_bond_types)\n",
    "        A_pred = torch.sigmoid(A_pred)\n",
    "        return A_pred\n",
    "\n",
    "class GraphConvSparse(nn.Module):\n",
    "    def __init__(self, input_dim, output_dim, num_bond_types, activation = F.relu, **kwargs):\n",
    "        super(GraphConvSparse, self).__init__(**kwargs)\n",
    "        self.input_dim = input_dim\n",
    "        self.weights = nn.Parameter(torch.randn(num_bond_types, input_dim, output_dim))\n",
    "        self.num_bond_types = num_bond_types\n",
    "        self.activation = activation\n",
    "\n",
    "    def forward(self, x, adj):\n",
    "        batch_size, num_nodes, _ = x.size()\n",
    "        _, _, _, num_relations = adj.size()\n",
    "        outputs = torch.zeros(batch_size, num_nodes, self.weights[0].size(1), device=x.device)\n",
    "        for r in range(num_relations):\n",
    "\n",
    "            weight = self.weights[r]\n",
    "\n",
    "            support = torch.bmm(x, weight.unsqueeze(0).expand(batch_size, *weight.size()))\n",
    "\n",
    "            adj_relation = adj[:, :, :, r]\n",
    "\n",
    "            output = torch.bmm(adj_relation, support)\n",
    "            outputs += output\n",
    "        outputs = self.activation(outputs)\n",
    "        return outputs\n",
    "\n",
    "\n",
    "\n",
    "\n",
    "model = VGAE(input_dim, hidden_dim_1, hidden_dim_2, num_bond_types, num_atomic_features)"
   ]
  },
  {
   "cell_type": "code",
   "execution_count": 174,
   "metadata": {},
   "outputs": [],
   "source": [
    "optimizer = torch.optim.Adam(model.parameters(), lr=0.00001)\n"
   ]
  },
  {
   "cell_type": "code",
   "execution_count": 85,
   "metadata": {},
   "outputs": [],
   "source": [
    "with open(\"../data/combined_data.pkl\", \"rb\") as file:\n",
    "    combined_data = pickle.load(file)\n",
    "\n",
    "atomic_num_tensors = torch.load(\"../data/atomic_number_tensors.pt\")\n",
    "bond_tensors = torch.load(\"../data/bond_tensors.pt\")"
   ]
  },
  {
   "cell_type": "code",
   "execution_count": 10,
   "metadata": {},
   "outputs": [
    {
     "name": "stdout",
     "output_type": "stream",
     "text": [
      "Data(x=[8, 10], edge_index=[2, 7], edge_attr=[7, 5], atom_data=[8, 35])\n",
      "3208\n"
     ]
    }
   ],
   "source": [
    "print(combined_data[0])\n",
    "print(len(combined_data))"
   ]
  },
  {
   "cell_type": "code",
   "execution_count": 86,
   "metadata": {},
   "outputs": [
    {
     "name": "stdout",
     "output_type": "stream",
     "text": [
      "torch.Size([3208, 63, 11])\n"
     ]
    }
   ],
   "source": [
    "print(atomic_num_tensors.shape)"
   ]
  },
  {
   "cell_type": "code",
   "execution_count": 87,
   "metadata": {},
   "outputs": [
    {
     "name": "stdout",
     "output_type": "stream",
     "text": [
      "torch.Size([3208, 63, 63, 5])\n"
     ]
    }
   ],
   "source": [
    "print(bond_tensors.shape)"
   ]
  },
  {
   "cell_type": "code",
   "execution_count": 100,
   "metadata": {},
   "outputs": [],
   "source": [
    "class GraphDataset(Dataset):\n",
    "    def __init__(self, atomic_numbers, bond_tensor):\n",
    "        self.atomic_numbers = atomic_numbers\n",
    "        self.bond_tensor = bond_tensor\n",
    "\n",
    "    def __len__(self):\n",
    "        return self.atomic_numbers.shape[0]\n",
    "\n",
    "    def __getitem__(self, idx):\n",
    "        node_features = self.atomic_numbers[idx]\n",
    "        adj_matrix = self.bond_tensor[idx]\n",
    "        return node_features, adj_matrix"
   ]
  },
  {
   "cell_type": "code",
   "execution_count": 101,
   "metadata": {},
   "outputs": [],
   "source": [
    "dataset = GraphDataset(atomic_num_tensors, bond_tensors)"
   ]
  },
  {
   "cell_type": "code",
   "execution_count": 102,
   "metadata": {},
   "outputs": [],
   "source": [
    "train_data, test_data = train_test_split(dataset, test_size=0.15, random_state=48)\n",
    "\n",
    "batch_size = 32\n",
    "\n",
    "train_data, valid_data = train_test_split(train_data, test_size=0.1, random_state=48)\n",
    "\n",
    "train_loader = DataLoader(train_data, batch_size=batch_size, shuffle=True)\n",
    "test_loader = DataLoader(test_data, batch_size=batch_size, shuffle=True)\n",
    "valid_loader = DataLoader(valid_data, batch_size=batch_size)\n"
   ]
  },
  {
   "cell_type": "code",
   "execution_count": 94,
   "metadata": {},
   "outputs": [],
   "source": [
    "def preprocess_bonds(bond_tensor):\n",
    "    ''' bond_tensor is of shape [num_nodes, num_nodes, 5]\n",
    "    We split it to create a list of 5 [num_nodes, num_nodes] tensors'''\n",
    "    return [bond_tensor[:, :, i] for i in range(bond_tensor.shape[2])]"
   ]
  },
  {
   "cell_type": "code",
   "execution_count": 47,
   "metadata": {},
   "outputs": [],
   "source": [
    "def create_pos_edge_index(data):\n",
    "    return data.edge_index\n",
    "\n",
    "def create_neg_edge_index(num_nodes, pos_edge_index):\n",
    "    all_possible_edges = list(combinations(range(num_nodes), 2))\n",
    "\n",
    "    pos_edges = [(src.item(), dst.item()) for src, dst in pos_edge_index.t()]\n",
    "\n",
    "    neg_edges = [edge for edge in all_possible_edges if edge not in pos_edges]\n",
    "\n",
    "    neg_edge_index = torch.tensor(neg_edges).t()\n",
    "\n",
    "    return neg_edge_index"
   ]
  },
  {
   "cell_type": "code",
   "execution_count": 180,
   "metadata": {},
   "outputs": [],
   "source": [
    "def calculate_kl_divergence(mu, logvar):\n",
    "    logvar = torch.clamp(logvar, min=-10, max=10)\n",
    "\n",
    "    kl_divergence = 0.5 * torch.sum(logvar.exp() - logvar - 1 + mu.pow(2))\n",
    "    term1 = 1 + logvar\n",
    "    term2 = mu.pow(2)\n",
    "    term3 = logvar.exp()\n",
    "    kl_divergence = -0.5 * torch.sum(term1 - term2 - term3)\n",
    "\n",
    "    return kl_divergence"
   ]
  },
  {
   "cell_type": "code",
   "execution_count": 181,
   "metadata": {},
   "outputs": [],
   "source": [
    "def loss_function(preds, labels, mu, logvar, preds_atomic, atomic_numbers):\n",
    "    labels = torch.argmax(labels, dim=-1)\n",
    "    BCE = torch.nn.functional.cross_entropy(preds.view(-1, preds.size(-1)), labels.view(-1), reduction='sum')\n",
    "    KLD = calculate_kl_divergence(mu, logvar)\n",
    "    MSE_atomic = F.mse_loss(preds_atomic, atomic_numbers, reduction='sum')\n",
    "    return BCE + KLD + MSE_atomic"
   ]
  },
  {
   "cell_type": "code",
   "execution_count": 182,
   "metadata": {},
   "outputs": [
    {
     "name": "stdout",
     "output_type": "stream",
     "text": [
      "Epoch 1, Loss: 9586603.0\n",
      "Epoch 2, Loss: 11914190.0\n",
      "Epoch 3, Loss: 9378263.0\n",
      "Epoch 4, Loss: 8511828.0\n",
      "Epoch 5, Loss: 7259391.5\n",
      "Epoch 6, Loss: 8440001.0\n",
      "Epoch 7, Loss: 9503491.0\n",
      "Epoch 8, Loss: 9329538.0\n",
      "Epoch 9, Loss: 9527532.0\n",
      "Epoch 10, Loss: 9338478.0\n",
      "Epoch 11, Loss: 9302072.0\n",
      "Epoch 12, Loss: 10026549.0\n",
      "Epoch 13, Loss: 7777640.5\n",
      "Epoch 14, Loss: 10640034.0\n",
      "Epoch 15, Loss: 7919554.5\n",
      "Epoch 16, Loss: 9311752.0\n",
      "Epoch 17, Loss: 11546408.0\n",
      "Epoch 18, Loss: 10369405.0\n",
      "Epoch 19, Loss: 12746552.0\n",
      "Epoch 20, Loss: 7528205.0\n",
      "Epoch 21, Loss: 10939868.0\n",
      "Epoch 22, Loss: 8023830.0\n",
      "Epoch 23, Loss: 9061849.0\n",
      "Epoch 24, Loss: 11810005.0\n",
      "Epoch 25, Loss: 8558274.0\n",
      "Epoch 26, Loss: 8935355.0\n",
      "Epoch 27, Loss: 8115506.5\n",
      "Epoch 28, Loss: 10183830.0\n",
      "Epoch 29, Loss: 10590085.0\n",
      "Epoch 30, Loss: 9525789.0\n",
      "Epoch 31, Loss: 10794018.0\n",
      "Epoch 32, Loss: 11314034.0\n",
      "Epoch 33, Loss: 8560840.0\n",
      "Epoch 34, Loss: 10057752.0\n",
      "Epoch 35, Loss: 9003507.0\n",
      "Epoch 36, Loss: 8306642.5\n",
      "Epoch 37, Loss: 10779516.0\n",
      "Epoch 38, Loss: 7522270.0\n",
      "Epoch 39, Loss: 8429500.0\n",
      "Epoch 40, Loss: 9394738.0\n",
      "Epoch 41, Loss: 10567502.0\n",
      "Epoch 42, Loss: 10487434.0\n",
      "Epoch 43, Loss: 10276178.0\n",
      "Epoch 44, Loss: 7345672.0\n",
      "Epoch 45, Loss: 10940756.0\n",
      "Epoch 46, Loss: 10939003.0\n",
      "Epoch 47, Loss: 8789606.0\n",
      "Epoch 48, Loss: 8987977.0\n",
      "Epoch 49, Loss: 10200063.0\n",
      "Epoch 50, Loss: 7975550.0\n"
     ]
    }
   ],
   "source": [
    "num_epochs = 50\n",
    "for epoch in range(num_epochs):\n",
    "    total_loss = 0\n",
    "    for node_features, adj_matrix in train_loader:\n",
    "        optimizer.zero_grad()\n",
    "\n",
    "        # Ensure adj_matrix is in the correct format\n",
    "        adj_matrix_dense = adj_matrix.to_dense() if adj_matrix.is_sparse else adj_matrix\n",
    "\n",
    "        # Forward pass: compute the reconstructed matrix, mu, and logvar\n",
    "        reconstructed, reconstructed_atoms, mu, logvar = model(node_features, adj_matrix_dense)\n",
    "\n",
    "        # Compute the loss\n",
    "        loss = loss_function(reconstructed, adj_matrix_dense, mu, logvar, reconstructed_atoms, node_features)\n",
    "        total_loss += loss.item()\n",
    "\n",
    "        # Backward pass: compute gradient and update params\n",
    "        loss.backward()\n",
    "        optimizer.step()\n",
    "\n",
    "    # Calculate average loss for reporting\n",
    "    avg_loss = total_loss / len(train_loader)\n",
    "    print(f'Epoch {epoch + 1}, Loss: {loss.item()}')"
   ]
  },
  {
   "cell_type": "code",
   "execution_count": 192,
   "metadata": {},
   "outputs": [
    {
     "name": "stdout",
     "output_type": "stream",
     "text": [
      "Epoch 1, Loss: 9867673.0\n",
      "tensor([[[4, 4, 3,  ..., 2, 2, 1],\n",
      "         [0, 4, 3,  ..., 0, 2, 1],\n",
      "         [0, 4, 3,  ..., 0, 2, 1],\n",
      "         ...,\n",
      "         [0, 4, 3,  ..., 1, 0, 4],\n",
      "         [0, 4, 3,  ..., 1, 0, 4],\n",
      "         [0, 4, 3,  ..., 1, 0, 4]],\n",
      "\n",
      "        [[0, 4, 3,  ..., 0, 2, 4],\n",
      "         [0, 4, 3,  ..., 0, 2, 4],\n",
      "         [0, 4, 3,  ..., 0, 2, 1],\n",
      "         ...,\n",
      "         [0, 4, 3,  ..., 1, 0, 4],\n",
      "         [0, 4, 3,  ..., 1, 0, 4],\n",
      "         [0, 4, 3,  ..., 1, 0, 4]],\n",
      "\n",
      "        [[0, 4, 4,  ..., 0, 3, 0],\n",
      "         [0, 4, 3,  ..., 0, 2, 4],\n",
      "         [4, 4, 3,  ..., 0, 2, 4],\n",
      "         ...,\n",
      "         [0, 4, 3,  ..., 1, 0, 4],\n",
      "         [0, 4, 3,  ..., 1, 0, 4],\n",
      "         [0, 4, 3,  ..., 1, 0, 4]],\n",
      "\n",
      "        ...,\n",
      "\n",
      "        [[3, 2, 1,  ..., 1, 2, 3],\n",
      "         [3, 2, 1,  ..., 1, 2, 3],\n",
      "         [0, 4, 3,  ..., 0, 2, 4],\n",
      "         ...,\n",
      "         [0, 4, 3,  ..., 1, 0, 4],\n",
      "         [0, 4, 3,  ..., 1, 0, 4],\n",
      "         [0, 4, 3,  ..., 1, 0, 4]],\n",
      "\n",
      "        [[4, 4, 3,  ..., 0, 2, 3],\n",
      "         [0, 0, 1,  ..., 1, 1, 1],\n",
      "         [3, 0, 1,  ..., 1, 4, 3],\n",
      "         ...,\n",
      "         [0, 4, 3,  ..., 1, 0, 4],\n",
      "         [0, 4, 3,  ..., 1, 0, 4],\n",
      "         [0, 4, 3,  ..., 1, 0, 4]],\n",
      "\n",
      "        [[0, 4, 3,  ..., 0, 2, 1],\n",
      "         [0, 4, 2,  ..., 4, 0, 0],\n",
      "         [3, 0, 2,  ..., 4, 2, 1],\n",
      "         ...,\n",
      "         [0, 4, 3,  ..., 1, 0, 4],\n",
      "         [0, 4, 3,  ..., 1, 0, 4],\n",
      "         [0, 4, 3,  ..., 1, 0, 4]]]) tensor([[7, 0, 0,  ..., 0, 0, 0],\n",
      "        [7, 2, 0,  ..., 0, 0, 0],\n",
      "        [1, 7, 2,  ..., 0, 0, 0],\n",
      "        ...,\n",
      "        [8, 8, 7,  ..., 0, 0, 0],\n",
      "        [9, 9, 8,  ..., 0, 0, 0],\n",
      "        [0, 0, 0,  ..., 0, 0, 0]])\n"
     ]
    }
   ],
   "source": [
    "model.eval()\n",
    "num_epochs = 1\n",
    "for epoch in range(num_epochs):\n",
    "    total_loss = 0\n",
    "    for node_features, adj_matrix in train_loader:\n",
    "        #optimizer.zero_grad()\n",
    "\n",
    "        adj_matrix_dense = adj_matrix.to_dense() if adj_matrix.is_sparse else adj_matrix\n",
    "\n",
    "        reconstructed, reconstructed_atoms, mu, logvar = model(node_features, adj_matrix_dense)\n",
    "\n",
    "        loss = loss_function(reconstructed, adj_matrix_dense, mu, logvar, reconstructed_atoms, node_features)\n",
    "        total_loss += loss.item()\n",
    "\n",
    "        #optimizer.step()\n",
    "\n",
    "    #avg_loss = total_loss / len(train_loader)\n",
    "    print(f'Epoch {epoch + 1}, Loss: {loss.item()}')\n",
    "print(torch.argmax(reconstructed, dim=-1), torch.argmax(reconstructed_atoms, dim=-1))"
   ]
  },
  {
   "cell_type": "code",
   "execution_count": 69,
   "metadata": {},
   "outputs": [
    {
     "ename": "IndexError",
     "evalue": "index 0 is out of bounds for dimension 0 with size 0",
     "output_type": "error",
     "traceback": [
      "\u001b[0;31m---------------------------------------------------------------------------\u001b[0m",
      "\u001b[0;31mIndexError\u001b[0m                                Traceback (most recent call last)",
      "Cell \u001b[0;32mIn [69], line 12\u001b[0m\n\u001b[1;32m     10\u001b[0m pos_edge \u001b[38;5;241m=\u001b[39m create_pos_edge_index(batch)\n\u001b[1;32m     11\u001b[0m neg_edge \u001b[38;5;241m=\u001b[39m create_neg_edge_index(\u001b[38;5;28mlen\u001b[39m(batch\u001b[38;5;241m.\u001b[39mx), pos_edge)\n\u001b[0;32m---> 12\u001b[0m loss \u001b[38;5;241m=\u001b[39m \u001b[43mmodel\u001b[49m\u001b[38;5;241;43m.\u001b[39;49m\u001b[43mrecon_loss\u001b[49m\u001b[43m(\u001b[49m\u001b[43moutput\u001b[49m\u001b[43m,\u001b[49m\u001b[43m \u001b[49m\u001b[43mpos_edge\u001b[49m\u001b[43m,\u001b[49m\u001b[43m \u001b[49m\u001b[43mneg_edge\u001b[49m\u001b[43m)\u001b[49m\n\u001b[1;32m     13\u001b[0m loss \u001b[38;5;241m=\u001b[39m loss \u001b[38;5;241m+\u001b[39m (\u001b[38;5;241m1\u001b[39m \u001b[38;5;241m/\u001b[39m batch\u001b[38;5;241m.\u001b[39mx\u001b[38;5;241m.\u001b[39mshape[\u001b[38;5;241m0\u001b[39m]) \u001b[38;5;241m*\u001b[39m model\u001b[38;5;241m.\u001b[39mkl_loss()\n\u001b[1;32m     14\u001b[0m \u001b[38;5;66;03m#loss.requires_grad = True\u001b[39;00m\n",
      "File \u001b[0;32m/Library/Frameworks/Python.framework/Versions/3.10/lib/python3.10/site-packages/torch_geometric/nn/models/autoencoder.py:111\u001b[0m, in \u001b[0;36mGAE.recon_loss\u001b[0;34m(self, z, pos_edge_index, neg_edge_index)\u001b[0m\n\u001b[1;32m    108\u001b[0m \u001b[38;5;28;01mif\u001b[39;00m neg_edge_index \u001b[38;5;129;01mis\u001b[39;00m \u001b[38;5;28;01mNone\u001b[39;00m:\n\u001b[1;32m    109\u001b[0m     neg_edge_index \u001b[38;5;241m=\u001b[39m negative_sampling(pos_edge_index, z\u001b[38;5;241m.\u001b[39msize(\u001b[38;5;241m0\u001b[39m))\n\u001b[1;32m    110\u001b[0m neg_loss \u001b[38;5;241m=\u001b[39m \u001b[38;5;241m-\u001b[39mtorch\u001b[38;5;241m.\u001b[39mlog(\u001b[38;5;241m1\u001b[39m \u001b[38;5;241m-\u001b[39m\n\u001b[0;32m--> 111\u001b[0m                       \u001b[38;5;28;43mself\u001b[39;49m\u001b[38;5;241;43m.\u001b[39;49m\u001b[43mdecoder\u001b[49m\u001b[43m(\u001b[49m\u001b[43mz\u001b[49m\u001b[43m,\u001b[49m\u001b[43m \u001b[49m\u001b[43mneg_edge_index\u001b[49m\u001b[43m,\u001b[49m\u001b[43m \u001b[49m\u001b[43msigmoid\u001b[49m\u001b[38;5;241;43m=\u001b[39;49m\u001b[38;5;28;43;01mTrue\u001b[39;49;00m\u001b[43m)\u001b[49m \u001b[38;5;241m+\u001b[39m\n\u001b[1;32m    112\u001b[0m                       EPS)\u001b[38;5;241m.\u001b[39mmean()\n\u001b[1;32m    114\u001b[0m \u001b[38;5;28;01mreturn\u001b[39;00m pos_loss \u001b[38;5;241m+\u001b[39m neg_loss\n",
      "File \u001b[0;32m/Library/Frameworks/Python.framework/Versions/3.10/lib/python3.10/site-packages/torch/nn/modules/module.py:1511\u001b[0m, in \u001b[0;36mModule._wrapped_call_impl\u001b[0;34m(self, *args, **kwargs)\u001b[0m\n\u001b[1;32m   1509\u001b[0m     \u001b[38;5;28;01mreturn\u001b[39;00m \u001b[38;5;28mself\u001b[39m\u001b[38;5;241m.\u001b[39m_compiled_call_impl(\u001b[38;5;241m*\u001b[39margs, \u001b[38;5;241m*\u001b[39m\u001b[38;5;241m*\u001b[39mkwargs)  \u001b[38;5;66;03m# type: ignore[misc]\u001b[39;00m\n\u001b[1;32m   1510\u001b[0m \u001b[38;5;28;01melse\u001b[39;00m:\n\u001b[0;32m-> 1511\u001b[0m     \u001b[38;5;28;01mreturn\u001b[39;00m \u001b[38;5;28;43mself\u001b[39;49m\u001b[38;5;241;43m.\u001b[39;49m\u001b[43m_call_impl\u001b[49m\u001b[43m(\u001b[49m\u001b[38;5;241;43m*\u001b[39;49m\u001b[43margs\u001b[49m\u001b[43m,\u001b[49m\u001b[43m \u001b[49m\u001b[38;5;241;43m*\u001b[39;49m\u001b[38;5;241;43m*\u001b[39;49m\u001b[43mkwargs\u001b[49m\u001b[43m)\u001b[49m\n",
      "File \u001b[0;32m/Library/Frameworks/Python.framework/Versions/3.10/lib/python3.10/site-packages/torch/nn/modules/module.py:1520\u001b[0m, in \u001b[0;36mModule._call_impl\u001b[0;34m(self, *args, **kwargs)\u001b[0m\n\u001b[1;32m   1515\u001b[0m \u001b[38;5;66;03m# If we don't have any hooks, we want to skip the rest of the logic in\u001b[39;00m\n\u001b[1;32m   1516\u001b[0m \u001b[38;5;66;03m# this function, and just call forward.\u001b[39;00m\n\u001b[1;32m   1517\u001b[0m \u001b[38;5;28;01mif\u001b[39;00m \u001b[38;5;129;01mnot\u001b[39;00m (\u001b[38;5;28mself\u001b[39m\u001b[38;5;241m.\u001b[39m_backward_hooks \u001b[38;5;129;01mor\u001b[39;00m \u001b[38;5;28mself\u001b[39m\u001b[38;5;241m.\u001b[39m_backward_pre_hooks \u001b[38;5;129;01mor\u001b[39;00m \u001b[38;5;28mself\u001b[39m\u001b[38;5;241m.\u001b[39m_forward_hooks \u001b[38;5;129;01mor\u001b[39;00m \u001b[38;5;28mself\u001b[39m\u001b[38;5;241m.\u001b[39m_forward_pre_hooks\n\u001b[1;32m   1518\u001b[0m         \u001b[38;5;129;01mor\u001b[39;00m _global_backward_pre_hooks \u001b[38;5;129;01mor\u001b[39;00m _global_backward_hooks\n\u001b[1;32m   1519\u001b[0m         \u001b[38;5;129;01mor\u001b[39;00m _global_forward_hooks \u001b[38;5;129;01mor\u001b[39;00m _global_forward_pre_hooks):\n\u001b[0;32m-> 1520\u001b[0m     \u001b[38;5;28;01mreturn\u001b[39;00m \u001b[43mforward_call\u001b[49m\u001b[43m(\u001b[49m\u001b[38;5;241;43m*\u001b[39;49m\u001b[43margs\u001b[49m\u001b[43m,\u001b[49m\u001b[43m \u001b[49m\u001b[38;5;241;43m*\u001b[39;49m\u001b[38;5;241;43m*\u001b[39;49m\u001b[43mkwargs\u001b[49m\u001b[43m)\u001b[49m\n\u001b[1;32m   1522\u001b[0m \u001b[38;5;28;01mtry\u001b[39;00m:\n\u001b[1;32m   1523\u001b[0m     result \u001b[38;5;241m=\u001b[39m \u001b[38;5;28;01mNone\u001b[39;00m\n",
      "File \u001b[0;32m/Library/Frameworks/Python.framework/Versions/3.10/lib/python3.10/site-packages/torch_geometric/nn/models/autoencoder.py:40\u001b[0m, in \u001b[0;36mInnerProductDecoder.forward\u001b[0;34m(self, z, edge_index, sigmoid)\u001b[0m\n\u001b[1;32m     24\u001b[0m \u001b[38;5;28;01mdef\u001b[39;00m \u001b[38;5;21mforward\u001b[39m(\n\u001b[1;32m     25\u001b[0m     \u001b[38;5;28mself\u001b[39m,\n\u001b[1;32m     26\u001b[0m     z: Tensor,\n\u001b[1;32m     27\u001b[0m     edge_index: Tensor,\n\u001b[1;32m     28\u001b[0m     sigmoid: \u001b[38;5;28mbool\u001b[39m \u001b[38;5;241m=\u001b[39m \u001b[38;5;28;01mTrue\u001b[39;00m,\n\u001b[1;32m     29\u001b[0m ) \u001b[38;5;241m-\u001b[39m\u001b[38;5;241m>\u001b[39m Tensor:\n\u001b[1;32m     30\u001b[0m     \u001b[38;5;124mr\u001b[39m\u001b[38;5;124;03m\"\"\"Decodes the latent variables :obj:`z` into edge probabilities for\u001b[39;00m\n\u001b[1;32m     31\u001b[0m \u001b[38;5;124;03m    the given node-pairs :obj:`edge_index`.\u001b[39;00m\n\u001b[1;32m     32\u001b[0m \n\u001b[0;32m   (...)\u001b[0m\n\u001b[1;32m     38\u001b[0m \u001b[38;5;124;03m            (default: :obj:`True`)\u001b[39;00m\n\u001b[1;32m     39\u001b[0m \u001b[38;5;124;03m    \"\"\"\u001b[39;00m\n\u001b[0;32m---> 40\u001b[0m     value \u001b[38;5;241m=\u001b[39m (z[\u001b[43medge_index\u001b[49m\u001b[43m[\u001b[49m\u001b[38;5;241;43m0\u001b[39;49m\u001b[43m]\u001b[49m] \u001b[38;5;241m*\u001b[39m z[edge_index[\u001b[38;5;241m1\u001b[39m]])\u001b[38;5;241m.\u001b[39msum(dim\u001b[38;5;241m=\u001b[39m\u001b[38;5;241m1\u001b[39m)\n\u001b[1;32m     41\u001b[0m     \u001b[38;5;28;01mreturn\u001b[39;00m torch\u001b[38;5;241m.\u001b[39msigmoid(value) \u001b[38;5;28;01mif\u001b[39;00m sigmoid \u001b[38;5;28;01melse\u001b[39;00m value\n",
      "\u001b[0;31mIndexError\u001b[0m: index 0 is out of bounds for dimension 0 with size 0"
     ]
    }
   ],
   "source": [
    "## Train model\n",
    "#num_epochs = 200\n",
    "#losses = []\n",
    "#valid_losses = []\n",
    "#for epoch in range(num_epochs):\n",
    "#    model.train()\n",
    "#    for batch in train_loader:\n",
    "#        optimizer.zero_grad()\n",
    "#        output = model.encode(batch.x, batch.edge_index, batch.edge_attr)\n",
    "#        pos_edge = create_pos_edge_index(batch)\n",
    "#        neg_edge = create_neg_edge_index(len(batch.x), pos_edge)\n",
    "#        loss = model.recon_loss(output, pos_edge, neg_edge)\n",
    "#        loss = loss + (1 / batch.x.shape[0]) * model.kl_loss()\n",
    "#        #loss.requires_grad = True\n",
    "#        loss.backward()\n",
    "#        optimizer.step()\n",
    "#        #scheduler.step()\n",
    "#    #model.eval()\n",
    "#    #with torch.no_grad():\n",
    "#    #    valid_loss = 0\n",
    "#    #    for graph in valid_loader:\n",
    "#    #        output_valid = model.encode(graph.x, graph.edge_index)\n",
    "#    #        pos_edge = create_pos_edge_index(batch)\n",
    "#    #        neg_edge = create_neg_edge_index(batch)\n",
    "#    #        valid_loss_calc = model.recon_loss(output, pos_edge, neg_edge)\n",
    "#    #        loss = loss + (1 / graph.x.shape[0]) * model.kl_loss()\n",
    "#    #        valid_loss += valid_loss_calc.item()\n",
    "#    #    valid_loss /= len(valid_loader)\n",
    "#    #    valid_losses.append(valid_loss)\n",
    "\n",
    "#    if epoch % 10 == 0:\n",
    "#        losses.append(loss.item())\n",
    "#    print(f'Epoch {epoch+1}/{num_epochs}, Loss: {loss.item()}')\n",
    "\n"
   ]
  },
  {
   "cell_type": "code",
   "execution_count": null,
   "metadata": {},
   "outputs": [],
   "source": []
  }
 ],
 "metadata": {
  "kernelspec": {
   "display_name": "Python 3",
   "language": "python",
   "name": "python3"
  },
  "language_info": {
   "codemirror_mode": {
    "name": "ipython",
    "version": 3
   },
   "file_extension": ".py",
   "mimetype": "text/x-python",
   "name": "python",
   "nbconvert_exporter": "python",
   "pygments_lexer": "ipython3",
   "version": "3.10.1"
  }
 },
 "nbformat": 4,
 "nbformat_minor": 2
}
