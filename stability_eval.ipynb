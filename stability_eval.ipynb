{
 "cells": [
  {
   "cell_type": "code",
   "execution_count": 127,
   "metadata": {},
   "outputs": [],
   "source": [
    "# %pip install torch numpy ase torch_geometric scikit-learn pandas rdkit"
   ]
  },
  {
   "cell_type": "code",
   "execution_count": 103,
   "metadata": {},
   "outputs": [],
   "source": [
    "from contextlib import contextmanager\n",
    "import sys\n",
    "import os\n",
    "import torch\n",
    "from ase import Atoms\n",
    "from ase.data import chemical_symbols\n",
    "from ase.calculators.morse import MorsePotential\n",
    "from ase.optimize import QuasiNewton"
   ]
  },
  {
   "cell_type": "code",
   "execution_count": 8,
   "metadata": {},
   "outputs": [
    {
     "name": "stdout",
     "output_type": "stream",
     "text": [
      "/Users/varunhegde/Documents/Georgia Tech/Spring 2024/MLC/MLC_GAN_ToxBio/models/stability\n"
     ]
    },
    {
     "data": {
      "text/plain": [
       "True"
      ]
     },
     "execution_count": 8,
     "metadata": {},
     "output_type": "execute_result"
    }
   ],
   "source": [
    "print(os.getcwd())\n",
    "os.path.exists('../../data')"
   ]
  },
  {
   "cell_type": "code",
   "execution_count": 14,
   "metadata": {},
   "outputs": [
    {
     "name": "stdout",
     "output_type": "stream",
     "text": [
      "Biodegradability Data:\n",
      "Data(x=[9, 100], formula='C8H7Br', name='', positions=[9, 3], edge_index=[2, 9], edge_attr=[9, 4], bio=[1], tox=[0])\n",
      "Toxicity Data:\n",
      "Data(x=[34, 100], formula='C27H25ClN6', name='NCGC00178831-03', positions=[34, 3], edge_index=[2, 37], edge_attr=[37, 4], bio=[0], tox=[1])\n"
     ]
    }
   ],
   "source": [
    "# Loading data\n",
    "data_dir = os.path.join('..', '..', 'data')\n",
    "databio_path = os.path.join(data_dir, 'datalist_bio.pt')\n",
    "datatox_path = os.path.join(data_dir, 'datalist_tox.pt')\n",
    "\n",
    "datalist_bio = torch.load(databio_path)\n",
    "datalist_tox = torch.load(datatox_path)\n",
    "\n",
    "# test that it works\n",
    "print(\"Biodegradability Data:\")\n",
    "for data in datalist_bio:\n",
    "    print(data)\n",
    "    break\n",
    "\n",
    "print(\"Toxicity Data:\")\n",
    "for data in datalist_tox:\n",
    "    print(data)\n",
    "    break"
   ]
  },
  {
   "cell_type": "code",
   "execution_count": 124,
   "metadata": {},
   "outputs": [
    {
     "name": "stdout",
     "output_type": "stream",
     "text": [
      "Atoms(symbols='C11B62N12', pbc=False)\n"
     ]
    }
   ],
   "source": [
    "datapoint = datalist_tox[500]\n",
    "def get_molecule(datapoint):\n",
    "    atomic_numbers = datapoint.x.argmax(dim=1).tolist()\n",
    "    atomic_symbols = [chemical_symbols[number] for number in atomic_numbers]\n",
    "    # print('Atomic symbols:', atomic_symbols)\n",
    "\n",
    "    positions = datapoint.positions.numpy()\n",
    "    # print('Positions:', positions.shape)\n",
    "\n",
    "    # molecule = Atoms(symbols=atomic_symbols, positions=positions)\n",
    "    molecule = Atoms(numbers=atomic_numbers, positions=positions)\n",
    "    return molecule\n",
    "\n",
    "molecule = get_molecule(datapoint)\n",
    "print(molecule)"
   ]
  },
  {
   "cell_type": "code",
   "execution_count": 125,
   "metadata": {},
   "outputs": [],
   "source": [
    "@contextmanager\n",
    "def suppress_stdout():\n",
    "    with open(os.devnull, \"w\") as devnull:\n",
    "        old_stdout = sys.stdout\n",
    "        sys.stdout = devnull\n",
    "        try:  \n",
    "            yield\n",
    "        finally:\n",
    "            sys.stdout = old_stdout"
   ]
  },
  {
   "cell_type": "code",
   "execution_count": 126,
   "metadata": {},
   "outputs": [
    {
     "name": "stdout",
     "output_type": "stream",
     "text": [
      "The DFT calculated energy is: -183.669265825246 eV\n"
     ]
    }
   ],
   "source": [
    "def get_dft(molecule, De=0.242, re=0.74, alpha=1.5):\n",
    "    dft_calculator = MorsePotential(De=De, r0=re, alpha=alpha)\n",
    "    molecule.set_calculator(dft_calculator)\n",
    "    energy = molecule.get_potential_energy()\n",
    "    with suppress_stdout():\n",
    "        opt = QuasiNewton(molecule)\n",
    "        opt.run(fmax=0.02)  # Converge forces to less than 0.02 eV/Angstrom\n",
    "        # Check the optimized bond length and energy\n",
    "        optimized_energy = molecule.get_potential_energy()\n",
    "    return optimized_energy\n",
    "\n",
    "energy = get_dft(molecule)\n",
    "print(f'The DFT calculated energy is: {energy} eV')"
   ]
  }
 ],
 "metadata": {
  "kernelspec": {
   "display_name": "Python 3",
   "language": "python",
   "name": "python3"
  },
  "language_info": {
   "codemirror_mode": {
    "name": "ipython",
    "version": 3
   },
   "file_extension": ".py",
   "mimetype": "text/x-python",
   "name": "python",
   "nbconvert_exporter": "python",
   "pygments_lexer": "ipython3",
   "version": "3.12.2"
  }
 },
 "nbformat": 4,
 "nbformat_minor": 2
}
