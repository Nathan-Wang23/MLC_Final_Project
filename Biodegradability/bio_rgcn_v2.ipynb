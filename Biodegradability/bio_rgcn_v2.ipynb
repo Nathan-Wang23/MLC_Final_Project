{
 "cells": [
  {
   "cell_type": "code",
   "execution_count": 28,
   "metadata": {},
   "outputs": [
    {
     "name": "stdout",
     "output_type": "stream",
     "text": [
      "Requirement already satisfied: seaborn in ./.venv/lib/python3.10/site-packages (0.13.2)\n",
      "Requirement already satisfied: numpy!=1.24.0,>=1.20 in ./.venv/lib/python3.10/site-packages (from seaborn) (1.26.4)\n",
      "Requirement already satisfied: pandas>=1.2 in ./.venv/lib/python3.10/site-packages (from seaborn) (2.2.2)\n",
      "Requirement already satisfied: matplotlib!=3.6.1,>=3.4 in ./.venv/lib/python3.10/site-packages (from seaborn) (3.8.4)\n",
      "Requirement already satisfied: contourpy>=1.0.1 in ./.venv/lib/python3.10/site-packages (from matplotlib!=3.6.1,>=3.4->seaborn) (1.2.1)\n",
      "Requirement already satisfied: cycler>=0.10 in ./.venv/lib/python3.10/site-packages (from matplotlib!=3.6.1,>=3.4->seaborn) (0.12.1)\n",
      "Requirement already satisfied: fonttools>=4.22.0 in ./.venv/lib/python3.10/site-packages (from matplotlib!=3.6.1,>=3.4->seaborn) (4.51.0)\n",
      "Requirement already satisfied: kiwisolver>=1.3.1 in ./.venv/lib/python3.10/site-packages (from matplotlib!=3.6.1,>=3.4->seaborn) (1.4.5)\n",
      "Requirement already satisfied: packaging>=20.0 in ./.venv/lib/python3.10/site-packages (from matplotlib!=3.6.1,>=3.4->seaborn) (24.0)\n",
      "Requirement already satisfied: pillow>=8 in ./.venv/lib/python3.10/site-packages (from matplotlib!=3.6.1,>=3.4->seaborn) (10.3.0)\n",
      "Requirement already satisfied: pyparsing>=2.3.1 in ./.venv/lib/python3.10/site-packages (from matplotlib!=3.6.1,>=3.4->seaborn) (3.1.2)\n",
      "Requirement already satisfied: python-dateutil>=2.7 in ./.venv/lib/python3.10/site-packages (from matplotlib!=3.6.1,>=3.4->seaborn) (2.9.0.post0)\n",
      "Requirement already satisfied: pytz>=2020.1 in ./.venv/lib/python3.10/site-packages (from pandas>=1.2->seaborn) (2024.1)\n",
      "Requirement already satisfied: tzdata>=2022.7 in ./.venv/lib/python3.10/site-packages (from pandas>=1.2->seaborn) (2024.1)\n",
      "Requirement already satisfied: six>=1.5 in ./.venv/lib/python3.10/site-packages (from python-dateutil>=2.7->matplotlib!=3.6.1,>=3.4->seaborn) (1.16.0)\n",
      "Note: you may need to restart the kernel to use updated packages.\n"
     ]
    }
   ],
   "source": [
    "# %pip install torch numpy ase torch_geometric scikit-learn pandas rdkit matplotlib imbalanced-learn seaborn"
   ]
  },
  {
   "cell_type": "code",
   "execution_count": 1,
   "metadata": {},
   "outputs": [],
   "source": [
    "import numpy as np\n",
    "import torch\n",
    "import torch.nn as nn\n",
    "import torch.optim as optim\n",
    "from ase import Atoms\n",
    "from ase.io import read\n",
    "from torch_geometric.data import Data\n",
    "from torch_geometric.nn import MessagePassing\n",
    "from torch_geometric.utils import to_networkx\n",
    "# from torch_geometric.data import DataLoader, TensorDataset\n",
    "from torch_geometric.loader import DataLoader\n",
    "from sklearn.model_selection import train_test_split\n",
    "from ase.build import molecule\n",
    "import pandas as pd\n",
    "from rdkit import Chem\n",
    "from rdkit.Chem import AllChem\n",
    "import random\n",
    "from torch_geometric.nn import global_add_pool, GATConv, CGConv, GCNConv, RGCNConv\n",
    "from torch_geometric.nn.models.schnet import GaussianSmearing\n",
    "from sklearn.metrics import roc_auc_score, precision_score, confusion_matrix\n",
    "from sklearn.utils import shuffle\n",
    "import matplotlib.pyplot as plt\n",
    "import pickle\n",
    "from collections import Counter\n",
    "import seaborn as sns\n",
    "import time\n",
    "from torch.optim.lr_scheduler import StepLR\n",
    "import copy"
   ]
  },
  {
   "cell_type": "code",
   "execution_count": 2,
   "metadata": {},
   "outputs": [],
   "source": [
    "with open('data/bio_data_rcgn.pkl', 'rb') as file:\n",
    "    bio_data = pickle.load(file)"
   ]
  },
  {
   "cell_type": "code",
   "execution_count": 3,
   "metadata": {},
   "outputs": [
    {
     "name": "stdout",
     "output_type": "stream",
     "text": [
      "2231\n"
     ]
    }
   ],
   "source": [
    "data = bio_data[0]\n",
    "print(len(bio_data))"
   ]
  },
  {
   "cell_type": "code",
   "execution_count": 4,
   "metadata": {},
   "outputs": [],
   "source": [
    "with open('data/bio_labels_rcgn.pkl', 'rb') as file:\n",
    "    bio_labels = pickle.load(file)"
   ]
  },
  {
   "cell_type": "code",
   "execution_count": 5,
   "metadata": {},
   "outputs": [],
   "source": [
    "X_train, X_test, y_train, y_test = train_test_split(bio_data, bio_labels, test_size=0.2, random_state=49)"
   ]
  },
  {
   "cell_type": "code",
   "execution_count": 6,
   "metadata": {},
   "outputs": [
    {
     "name": "stdout",
     "output_type": "stream",
     "text": [
      "Counter({0: 1196, 1: 588})\n"
     ]
    }
   ],
   "source": [
    "# 0 is non-biodegradable, 1 is biodegradable\n",
    "class_counts = Counter(y_train)\n",
    "print(class_counts)"
   ]
  },
  {
   "cell_type": "code",
   "execution_count": 8,
   "metadata": {},
   "outputs": [
    {
     "name": "stdout",
     "output_type": "stream",
     "text": [
      "Counter({0: 1196, 1: 1176})\n"
     ]
    }
   ],
   "source": [
    "class_data = {}\n",
    "for data, label in zip(X_train, y_train):\n",
    "    if label not in class_data:\n",
    "        class_data[label] = []\n",
    "    class_data[label].append(data)\n",
    "\n",
    "minority_class = min(class_counts, key=class_counts.get)\n",
    "majority_class = max(class_counts, key=class_counts.get)\n",
    "\n",
    "oversampled_data = class_data[minority_class].copy()\n",
    "num_samples_to_add = int((class_counts[majority_class] - class_counts[minority_class]) * (1.0))\n",
    "oversampled_data += class_data[minority_class][:num_samples_to_add]\n",
    "balanced_data = oversampled_data + class_data[majority_class]\n",
    "balanced_labels = [minority_class] * len(oversampled_data) + [majority_class] * len(class_data[majority_class])\n",
    "\n",
    "combined_data = list(zip(balanced_data, balanced_labels))\n",
    "random.shuffle(combined_data)\n",
    "balanced_data, balanced_labels = zip(*combined_data)\n",
    "\n",
    "balanced_X_train = list(balanced_data)\n",
    "balanced_y_train = list(balanced_labels)\n",
    "\n",
    "class_counts = Counter(balanced_y_train)\n",
    "print(class_counts)"
   ]
  },
  {
   "cell_type": "code",
   "execution_count": 9,
   "metadata": {},
   "outputs": [
    {
     "name": "stdout",
     "output_type": "stream",
     "text": [
      "Data(x=[20, 10], edge_index=[2, 21], edge_attr=[21], atom_data=[20, 35])\n",
      "0\n"
     ]
    }
   ],
   "source": [
    "batch_size = 32\n",
    "\n",
    "print(balanced_X_train[0])\n",
    "print(balanced_y_train[0])\n",
    "\n",
    "train_dataset = list(zip(X_train, y_train))\n",
    "test_dataset = list(zip(X_test, y_test))\n",
    "\n",
    "train_loader = DataLoader(train_dataset, batch_size=batch_size, shuffle=True)\n",
    "test_loader = DataLoader(test_dataset, batch_size=batch_size, shuffle=True)"
   ]
  },
  {
   "cell_type": "code",
   "execution_count": 10,
   "metadata": {},
   "outputs": [],
   "source": [
    "NUM_ATOMS = 63\n",
    "ATOM_DIM = 11\n",
    "BOND_DIM = 5\n",
    "LATENT_DIM = 256\n",
    "HIDDEN_CHANNELS = 128\n",
    "NUM_RELATION_TYPES = BOND_DIM - 1\n",
    "NODE_FEATURE_DIM = ATOM_DIM - 1\n",
    "BATCH_SIZE = 512\n",
    "NUM_EPOCHS = 300"
   ]
  },
  {
   "cell_type": "code",
   "execution_count": 35,
   "metadata": {},
   "outputs": [],
   "source": [
    "class GraphEncoder(nn.Module):\n",
    "    def __init__(self, input_dim, num_relations):\n",
    "        super(GraphEncoder, self).__init__()\n",
    "        self.rgcnconv1 = RGCNConv(input_dim, 512, num_relations=num_relations)\n",
    "        self.rgcnconv2 = RGCNConv(512, 256, num_relations=num_relations)\n",
    "        self.rgcnconv3 = RGCNConv(256, 128, num_relations=num_relations)\n",
    "\n",
    "    def forward(self, x, edge_index, edge_attr):\n",
    "        x = self.rgcnconv1(x, edge_index, edge_attr)\n",
    "        x = nn.ReLU()(x)\n",
    "        x = self.rgcnconv2(x, edge_index, edge_attr)\n",
    "        x = nn.ReLU()(x)\n",
    "        x = self.rgcnconv3(x, edge_index, edge_attr)\n",
    "        x = nn.ReLU()(x)\n",
    "        return x\n",
    "\n",
    "class BioClassifier(nn.Module):\n",
    "    def __init__(self, input_dim, num_heads):\n",
    "        super(BioClassifier, self).__init__()\n",
    "        \n",
    "        self.encoder = GraphEncoder(input_dim, num_heads)\n",
    "        self.fc1 = nn.Linear(128, 64)\n",
    "        self.bn1 = nn.BatchNorm1d(64)\n",
    "        self.fc2 = nn.Linear(64, 1)\n",
    "        self.dropout = nn.Dropout(0.4)\n",
    "\n",
    "    def forward(self, data):\n",
    "        x, edge_index, edge_attr = data.x, data.edge_index, data.edge_attr\n",
    "        x = x.float()\n",
    "\n",
    "        x = self.encoder(x, edge_index, edge_attr)\n",
    "        x = global_add_pool(x, data.batch)\n",
    "        x = self.dropout(x)\n",
    "        x = self.fc1(x)\n",
    "        x = nn.ReLU()(x)\n",
    "        x = self.bn1(x)\n",
    "        x = self.dropout(x)\n",
    "        x = self.fc2(x)\n",
    "        x = torch.sigmoid(x)\n",
    "        return x.squeeze(dim=1)"
   ]
  },
  {
   "cell_type": "code",
   "execution_count": 39,
   "metadata": {},
   "outputs": [],
   "source": [
    "model = BioClassifier(NODE_FEATURE_DIM, 4)\n",
    "\n",
    "criterion = nn.BCELoss()\n",
    "optimizer = optim.Adam(model.parameters(), lr=0.00001)\n",
    "scheduler = StepLR(optimizer, gamma=0.9, step_size=10)"
   ]
  },
  {
   "cell_type": "code",
   "execution_count": 30,
   "metadata": {},
   "outputs": [
    {
     "ename": "NameError",
     "evalue": "name 'optimizer' is not defined",
     "output_type": "error",
     "traceback": [
      "\u001b[0;31m---------------------------------------------------------------------------\u001b[0m",
      "\u001b[0;31mNameError\u001b[0m                                 Traceback (most recent call last)",
      "Cell \u001b[0;32mIn[30], line 18\u001b[0m\n\u001b[1;32m     16\u001b[0m train_loss \u001b[38;5;241m=\u001b[39m \u001b[38;5;241m0.0\u001b[39m\n\u001b[1;32m     17\u001b[0m \u001b[38;5;28;01mfor\u001b[39;00m batch \u001b[38;5;129;01min\u001b[39;00m train_loader:\n\u001b[0;32m---> 18\u001b[0m     \u001b[43moptimizer\u001b[49m\u001b[38;5;241m.\u001b[39mzero_grad()\n\u001b[1;32m     19\u001b[0m     graph, bio \u001b[38;5;241m=\u001b[39m batch[\u001b[38;5;241m0\u001b[39m], batch[\u001b[38;5;241m1\u001b[39m]\n\u001b[1;32m     20\u001b[0m     output \u001b[38;5;241m=\u001b[39m model(graph)\n",
      "\u001b[0;31mNameError\u001b[0m: name 'optimizer' is not defined"
     ]
    }
   ],
   "source": [
    "num_epochs = 600\n",
    "train_losses, val_losses = [], []\n",
    "\n",
    "best_val_loss = float('inf')\n",
    "patience = 15\n",
    "counter = 0\n",
    "early_stopping = False\n",
    "\n",
    "best_model, best_epoch, best_precision = None, 0, 0\n",
    "\n",
    "for epoch in range(num_epochs):\n",
    "    model.train()\n",
    "    train_loss = 0.0\n",
    "    for batch in train_loader:\n",
    "        optimizer.zero_grad()\n",
    "        graph, bio = batch[0], batch[1]\n",
    "        output = model(graph)\n",
    "        loss = criterion(output.to(torch.float), bio.to(torch.float))\n",
    "        loss.backward()\n",
    "        optimizer.step()\n",
    "        train_loss += loss.item()\n",
    "    train_loss /= len(train_loader.dataset)\n",
    "    train_losses.append(train_loss)\n",
    "        \n",
    "    model.eval()\n",
    "    val_loss = 0.0\n",
    "    with torch.no_grad():\n",
    "        for batch in test_loader:\n",
    "            graph, bio = batch[0], batch[1]\n",
    "            output = model(graph)\n",
    "            loss = criterion(output.to(torch.float), bio.to(torch.float))\n",
    "            \n",
    "            predicted = torch.round(output).int()\n",
    "            bio = bio.int()\n",
    "            \n",
    "            val_loss += loss.item()\n",
    "    val_loss /= len(test_loader.dataset)\n",
    "    val_losses.append(val_loss)\n",
    "    \n",
    "    # old_lr = optimizer.param_groups[0]['lr']\n",
    "    # scheduler.step()\n",
    "    # new_lr = optimizer.param_groups[0]['lr']\n",
    "    # if old_lr != new_lr:\n",
    "    #     print(f'Learning rate reduced from {old_lr} to {new_lr}')\n",
    "    \n",
    "    if val_loss < best_val_loss:\n",
    "        best_val_loss = val_loss\n",
    "        best_model = copy.deepcopy(model)\n",
    "        best_epoch = epoch\n",
    "    \n",
    "    print(f'Epoch {epoch + 1}/{num_epochs}, Train Loss: {train_loss}, Val Loss: {val_loss}')\n",
    "\n",
    "    if early_stopping:\n",
    "        if val_loss < best_val_loss:\n",
    "            best_val_loss = val_loss\n",
    "            counter = 0\n",
    "        else:\n",
    "            counter += 1\n",
    "            if counter >= patience:\n",
    "                print(f'Early stopping at epoch {epoch+1}')\n",
    "                break\n",
    "\n",
    "if best_model == None:\n",
    "    best_model = model\n",
    "print(f'Best Epoch: {best_epoch}, Best Val loss: {best_val_loss}')"
   ]
  },
  {
   "cell_type": "code",
   "execution_count": 48,
   "metadata": {},
   "outputs": [
    {
     "name": "stdout",
     "output_type": "stream",
     "text": [
      "Accuracy: 0.8456375838926175\n",
      "Balanced Accuracy: 0.8329639643632818\n",
      "Sn: 0.7922077922077922\n",
      "Sp: 0.8737201365187713\n",
      "Er: 0.15436241610738255\n"
     ]
    }
   ],
   "source": [
    "best_model = BioClassifier(10, 4)\n",
    "\n",
    "state_dict = torch.load('models/rcgn_model_7707.pt')\n",
    "best_model.load_state_dict(state_dict)\n",
    "\n",
    "best_model.eval()\n",
    "\n",
    "y_true = []\n",
    "y_pred = []\n",
    "with torch.no_grad():\n",
    "    correct = 0\n",
    "    total = 0\n",
    "    TP, FP, TN, FN = 0, 0, 0, 0\n",
    "    for batch in test_dataset:\n",
    "        graph, label = batch[0], batch[1]\n",
    "        output = best_model(graph)\n",
    "        predicted = torch.round(output)\n",
    "        total += 1\n",
    "        y_true.append(int(label))\n",
    "        y_pred.append(predicted)\n",
    "        if predicted == int(label):\n",
    "            correct += 1\n",
    "        if predicted == 1:\n",
    "            if int(label) == 1:\n",
    "                TP += 1\n",
    "            else:\n",
    "                FP += 1\n",
    "        if predicted == 0:\n",
    "            if int(label) == 1:\n",
    "                FN += 1\n",
    "            else:\n",
    "                TN += 1\n",
    "\n",
    "    accuracy = correct / total\n",
    "    print(f'Accuracy: {accuracy}')\n",
    "    Sn = TP / (TP + FN)\n",
    "    Sp = TN / (TN + FP)\n",
    "    Ba = (Sn + Sp) / 2\n",
    "    Er = (FN + FP) / (TP + FN + FP + TN)\n",
    "    print(f'Balanced Accuracy: {Ba}')\n",
    "    print(f'Sn: {Sn}')\n",
    "    print(f'Sp: {Sp}')\n",
    "    print(f'Er: {Er}')"
   ]
  },
  {
   "cell_type": "code",
   "execution_count": 33,
   "metadata": {},
   "outputs": [
    {
     "name": "stdout",
     "output_type": "stream",
     "text": [
      "ROC AUC Score: 0.8156885776339701\n",
      "Precision:  0.7902097902097902\n"
     ]
    },
    {
     "data": {
      "image/png": "[encoded data removed]",
      "text/plain": [
       "<Figure size 500x350 with 2 Axes>"
      ]
     },
     "metadata": {},
     "output_type": "display_data"
    }
   ],
   "source": [
    "auc_roc = roc_auc_score(y_true, y_pred)\n",
    "print(\"ROC AUC Score:\", auc_roc)\n",
    "precision = precision_score(y_true, y_pred)\n",
    "print(\"Precision: \", precision)\n",
    "\n",
    "cm = confusion_matrix(y_true, y_pred)\n",
    "plt.figure(figsize=(5, 3.5))\n",
    "sns.heatmap(cm, annot=True, fmt='d', cmap='Greens', xticklabels=['Predicted 0', 'Predicted 1'],\n",
    "            yticklabels=['True 0', 'True 1'])\n",
    "plt.ylabel('Actual')\n",
    "plt.xlabel('Predicted')\n",
    "plt.tight_layout()\n",
    "plt.show()"
   ]
  },
  {
   "cell_type": "code",
   "execution_count": null,
   "metadata": {},
   "outputs": [
    {
     "data": {
      "image/png": "[encoded data removed]",
      "text/plain": [
       "<Figure size 640x480 with 1 Axes>"
      ]
     },
     "metadata": {},
     "output_type": "display_data"
    }
   ],
   "source": [
    "train_loss_list=[]\n",
    "for i in range(len(train_losses)):\n",
    "    if i % 5 == 0:\n",
    "        train_loss_list.append(train_losses[i])\n",
    "        \n",
    "val_loss_list=[]\n",
    "for i in range(len(val_losses)):\n",
    "    if i % 5 == 0:\n",
    "        val_loss_list.append(val_losses[i])\n",
    "\n",
    "epochs = [n * 5 for n in range(0, len(val_loss_list))]\n",
    "\n",
    "plt.plot(epochs, train_loss_list, label='Train Loss')\n",
    "plt.plot(epochs, val_loss_list, label='Val Loss')\n",
    "plt.xlabel('Epoch')\n",
    "plt.ylabel('Loss')\n",
    "plt.title('Loss over Epochs')\n",
    "plt.legend()\n",
    "plt.show()"
   ]
  },
  {
   "cell_type": "code",
   "execution_count": null,
   "metadata": {},
   "outputs": [
    {
     "name": "stdout",
     "output_type": "stream",
     "text": [
      "BioClassifier(\n",
      "  (encoder): GraphEncoder(\n",
      "    (rgcnconv1): RGCNConv(10, 256, num_relations=4)\n",
      "    (rgcnconv2): RGCNConv(256, 128, num_relations=4)\n",
      "    (rgcnconv3): RGCNConv(256, 128, num_relations=4)\n",
      "  )\n",
      "  (fc1): Linear(in_features=128, out_features=64, bias=True)\n",
      "  (bn1): BatchNorm1d(64, eps=1e-05, momentum=0.1, affine=True, track_running_stats=True)\n",
      "  (fc2): Linear(in_features=64, out_features=1, bias=True)\n",
      "  (dropout): Dropout(p=0.3, inplace=False)\n",
      ")\n"
     ]
    }
   ],
   "source": [
    "print(model)"
   ]
  },
  {
   "cell_type": "code",
   "execution_count": null,
   "metadata": {},
   "outputs": [],
   "source": [
    "# torch.save(model.state_dict(), 'models/rcgn_model_.pt')"
   ]
  },
  {
   "cell_type": "code",
   "execution_count": 61,
   "metadata": {},
   "outputs": [
    {
     "data": {
      "text/plain": [
       "BioClassifier(\n",
       "  (encoder): GraphEncoder(\n",
       "    (rgcnconv1): RGCNConv(10, 512, num_relations=4)\n",
       "    (rgcnconv2): RGCNConv(512, 256, num_relations=4)\n",
       "    (rgcnconv3): RGCNConv(256, 128, num_relations=4)\n",
       "  )\n",
       "  (fc1): Linear(in_features=128, out_features=64, bias=True)\n",
       "  (bn1): BatchNorm1d(64, eps=1e-05, momentum=0.1, affine=True, track_running_stats=True)\n",
       "  (fc2): Linear(in_features=64, out_features=1, bias=True)\n",
       "  (dropout): Dropout(p=0.4, inplace=False)\n",
       ")"
      ]
     },
     "execution_count": 61,
     "metadata": {},
     "output_type": "execute_result"
    }
   ],
   "source": [
    "model = BioClassifier(10, 4)\n",
    "\n",
    "state_dict = torch.load('models/rcgn_model_7428.pt')\n",
    "model.load_state_dict(state_dict)\n",
    "\n",
    "model.eval()"
   ]
  },
  {
   "cell_type": "code",
   "execution_count": 63,
   "metadata": {},
   "outputs": [
    {
     "name": "stdout",
     "output_type": "stream",
     "text": [
      "ROC-AUC: 0.8684, Precision: 0.7506\n",
      "ROC-AUC: 0.8758, Precision: 0.7550\n",
      "ROC-AUC: 0.8655, Precision: 0.7269\n",
      "ROC-AUC: 0.8782, Precision: 0.7494\n",
      "ROC-AUC: 0.8705, Precision: 0.7403\n",
      "ROC-AUC: 0.8848, Precision: 0.7627\n",
      "ROC-AUC: 0.8741, Precision: 0.7565\n",
      "ROC-AUC: 0.8769, Precision: 0.7388\n",
      "ROC-AUC: 0.8728, Precision: 0.7247\n",
      "ROC-AUC: 0.8750, Precision: 0.7472\n",
      "ROC-AUC: 0.8723, Precision: 0.7422\n",
      "ROC-AUC: 0.8723, Precision: 0.7633\n",
      "ROC-AUC: 0.8680, Precision: 0.7174\n",
      "ROC-AUC: 0.8869, Precision: 0.7809\n",
      "ROC-AUC: 0.8667, Precision: 0.7206\n",
      "ROC-AUC: 0.8737, Precision: 0.7467\n",
      "ROC-AUC: 0.8769, Precision: 0.7419\n",
      "ROC-AUC: 0.8781, Precision: 0.7394\n",
      "ROC-AUC: 0.8725, Precision: 0.7522\n",
      "ROC-AUC: 0.8758, Precision: 0.7516\n",
      "ROC-AUC: 0.8829, Precision: 0.7460\n",
      "ROC-AUC: 0.8789, Precision: 0.7410\n",
      "ROC-AUC: 0.8707, Precision: 0.7489\n",
      "ROC-AUC: 0.8703, Precision: 0.7392\n",
      "ROC-AUC: 0.8779, Precision: 0.7572\n",
      "ROC-AUC: 0.8620, Precision: 0.7320\n",
      "ROC-AUC: 0.8736, Precision: 0.7319\n",
      "ROC-AUC: 0.8815, Precision: 0.7780\n",
      "ROC-AUC: 0.8682, Precision: 0.7494\n",
      "ROC-AUC: 0.8663, Precision: 0.7113\n"
     ]
    }
   ],
   "source": [
    "def evaluate_model(model, X_test, y_test):\n",
    "  test_dataset = list(zip(X_test, y_test))\n",
    "  y_pred = []\n",
    "  y_true = []\n",
    "  with torch.no_grad():\n",
    "    for batch in test_dataset:\n",
    "      graph, label = batch[0], batch[1]\n",
    "      if len(graph.edge_index.shape) == 1:\n",
    "        continue\n",
    "      output = model(graph)\n",
    "      predicted = torch.round(output)\n",
    "      y_true.append(int(label))\n",
    "      y_pred.append(predicted)\n",
    "\n",
    "  roc_auc = roc_auc_score(y_true, y_pred)\n",
    "  precision = precision_score(y_true, y_pred)\n",
    "  print(f\"ROC-AUC: {roc_auc:.4f}, Precision: {precision:.4f}\")\n",
    "\n",
    "for _ in range(30):\n",
    "  X_train, X_test, y_train, y_test = train_test_split(bio_data, bio_labels, test_size=0.5, shuffle=True)\n",
    "  evaluate_model(model, X_test, y_test)"
   ]
  }
 ],
 "metadata": {
  "kernelspec": {
   "display_name": "Python 3",
   "language": "python",
   "name": "python3"
  },
  "language_info": {
   "codemirror_mode": {
    "name": "ipython",
    "version": 3
   },
   "file_extension": ".py",
   "mimetype": "text/x-python",
   "name": "python",
   "nbconvert_exporter": "python",
   "pygments_lexer": "ipython3",
   "version": "3.10.13"
  }
 },
 "nbformat": 4,
 "nbformat_minor": 2
}
