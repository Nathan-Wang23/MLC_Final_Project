{
 "cells": [
  {
   "cell_type": "code",
   "execution_count": 804,
   "metadata": {},
   "outputs": [
    {
     "name": "stdout",
     "output_type": "stream",
     "text": [
      "Requirement already satisfied: seaborn in ./.venv/lib/python3.11/site-packages (0.13.2)\n",
      "Requirement already satisfied: numpy!=1.24.0,>=1.20 in ./.venv/lib/python3.11/site-packages (from seaborn) (1.26.4)\n",
      "Requirement already satisfied: pandas>=1.2 in ./.venv/lib/python3.11/site-packages (from seaborn) (2.2.2)\n",
      "Requirement already satisfied: matplotlib!=3.6.1,>=3.4 in ./.venv/lib/python3.11/site-packages (from seaborn) (3.8.4)\n",
      "Requirement already satisfied: contourpy>=1.0.1 in ./.venv/lib/python3.11/site-packages (from matplotlib!=3.6.1,>=3.4->seaborn) (1.2.1)\n",
      "Requirement already satisfied: cycler>=0.10 in ./.venv/lib/python3.11/site-packages (from matplotlib!=3.6.1,>=3.4->seaborn) (0.12.1)\n",
      "Requirement already satisfied: fonttools>=4.22.0 in ./.venv/lib/python3.11/site-packages (from matplotlib!=3.6.1,>=3.4->seaborn) (4.51.0)\n",
      "Requirement already satisfied: kiwisolver>=1.3.1 in ./.venv/lib/python3.11/site-packages (from matplotlib!=3.6.1,>=3.4->seaborn) (1.4.5)\n",
      "Requirement already satisfied: packaging>=20.0 in ./.venv/lib/python3.11/site-packages (from matplotlib!=3.6.1,>=3.4->seaborn) (24.0)\n",
      "Requirement already satisfied: pillow>=8 in ./.venv/lib/python3.11/site-packages (from matplotlib!=3.6.1,>=3.4->seaborn) (10.3.0)\n",
      "Requirement already satisfied: pyparsing>=2.3.1 in ./.venv/lib/python3.11/site-packages (from matplotlib!=3.6.1,>=3.4->seaborn) (3.1.2)\n",
      "Requirement already satisfied: python-dateutil>=2.7 in ./.venv/lib/python3.11/site-packages (from matplotlib!=3.6.1,>=3.4->seaborn) (2.9.0.post0)\n",
      "Requirement already satisfied: pytz>=2020.1 in ./.venv/lib/python3.11/site-packages (from pandas>=1.2->seaborn) (2024.1)\n",
      "Requirement already satisfied: tzdata>=2022.7 in ./.venv/lib/python3.11/site-packages (from pandas>=1.2->seaborn) (2024.1)\n",
      "Requirement already satisfied: six>=1.5 in ./.venv/lib/python3.11/site-packages (from python-dateutil>=2.7->matplotlib!=3.6.1,>=3.4->seaborn) (1.16.0)\n",
      "Note: you may need to restart the kernel to use updated packages.\n"
     ]
    }
   ],
   "source": [
    "# %pip install torch numpy ase torch_geometric scikit-learn pandas rdkit matplotlib imbalanced-learn seaborn\n",
    "%pip install seaborn"
   ]
  },
  {
   "cell_type": "code",
   "execution_count": 805,
   "metadata": {},
   "outputs": [],
   "source": [
    "import numpy as np\n",
    "import torch\n",
    "import torch.nn as nn\n",
    "import torch.optim as optim\n",
    "from ase import Atoms\n",
    "from ase.io import read\n",
    "from torch_geometric.data import Data\n",
    "from torch_geometric.nn import MessagePassing\n",
    "from torch_geometric.utils import to_networkx\n",
    "# from torch_geometric.data import DataLoader, TensorDataset\n",
    "from torch_geometric.loader import DataLoader\n",
    "from sklearn.model_selection import train_test_split\n",
    "from ase.build import molecule\n",
    "import pandas as pd\n",
    "from rdkit import Chem\n",
    "from rdkit.Chem import AllChem\n",
    "import random\n",
    "from torch_geometric.nn import global_add_pool, GATConv, CGConv, GCNConv, RGCNConv\n",
    "from torch_geometric.nn.models.schnet import GaussianSmearing\n",
    "from sklearn.metrics import roc_auc_score, precision_score, confusion_matrix\n",
    "import matplotlib.pyplot as plt\n",
    "import pickle\n",
    "from collections import Counter\n",
    "import seaborn as sns\n",
    "import time"
   ]
  },
  {
   "cell_type": "code",
   "execution_count": 806,
   "metadata": {},
   "outputs": [],
   "source": [
    "device = 'mps'\n",
    "# device = 'cpu'"
   ]
  },
  {
   "cell_type": "code",
   "execution_count": 807,
   "metadata": {},
   "outputs": [],
   "source": [
    "with open('data/bio_data.pkl', 'rb') as file:\n",
    "    bio_data = pickle.load(file)"
   ]
  },
  {
   "cell_type": "code",
   "execution_count": 808,
   "metadata": {},
   "outputs": [],
   "source": [
    "data = bio_data[0]"
   ]
  },
  {
   "cell_type": "code",
   "execution_count": 809,
   "metadata": {},
   "outputs": [],
   "source": [
    "# 0 is non-biodegradable, 1 is biodegradable\n",
    "with open('data/bio_labels.pkl', 'rb') as file:\n",
    "    bio_labels = pickle.load(file)"
   ]
  },
  {
   "cell_type": "code",
   "execution_count": 810,
   "metadata": {},
   "outputs": [],
   "source": [
    "X_train, X_test, y_train, y_test = train_test_split(bio_data, bio_labels, test_size=0.2, random_state=49)"
   ]
  },
  {
   "cell_type": "code",
   "execution_count": 811,
   "metadata": {},
   "outputs": [
    {
     "name": "stdout",
     "output_type": "stream",
     "text": [
      "Counter({0: 1196, 1: 588})\n"
     ]
    }
   ],
   "source": [
    "# 0 is non-biodegradable, 1 is biodegradable\n",
    "class_counts = Counter(y_train)\n",
    "print(class_counts)"
   ]
  },
  {
   "cell_type": "code",
   "execution_count": 812,
   "metadata": {},
   "outputs": [
    {
     "name": "stdout",
     "output_type": "stream",
     "text": [
      "Counter({0: 1196, 1: 1176})\n"
     ]
    }
   ],
   "source": [
    "class_data = {}\n",
    "for data, label in zip(X_train, y_train):\n",
    "    if label not in class_data:\n",
    "        class_data[label] = []\n",
    "    class_data[label].append(data)\n",
    "\n",
    "minority_class = min(class_counts, key=class_counts.get)\n",
    "majority_class = max(class_counts, key=class_counts.get)\n",
    "\n",
    "oversampled_data = class_data[minority_class].copy()\n",
    "num_samples_to_add = class_counts[majority_class] - class_counts[minority_class]\n",
    "oversampled_data += class_data[minority_class][:num_samples_to_add]\n",
    "balanced_data = oversampled_data + class_data[majority_class]\n",
    "balanced_labels = [minority_class] * len(oversampled_data) + [majority_class] * len(class_data[majority_class])\n",
    "\n",
    "combined_data = list(zip(balanced_data, balanced_labels))\n",
    "random.shuffle(combined_data)\n",
    "balanced_data, balanced_labels = zip(*combined_data)\n",
    "\n",
    "balanced_X_train = list(balanced_data)\n",
    "balanced_y_train = list(balanced_labels)\n",
    "\n",
    "class_counts = Counter(balanced_y_train)\n",
    "print(class_counts)"
   ]
  },
  {
   "cell_type": "code",
   "execution_count": 813,
   "metadata": {},
   "outputs": [
    {
     "name": "stdout",
     "output_type": "stream",
     "text": [
      "Data(x=[11, 10], edge_index=[2, 10], edge_attr=[10, 5], atom_data=[11, 35])\n",
      "1\n"
     ]
    }
   ],
   "source": [
    "batch_size = 32\n",
    "\n",
    "print(balanced_X_train[0])\n",
    "print(balanced_y_train[0])\n",
    "\n",
    "train_dataset = list(zip(balanced_X_train, balanced_y_train))\n",
    "test_dataset = list(zip(X_test, y_test))\n",
    "\n",
    "train_loader = DataLoader(train_dataset, batch_size=batch_size, shuffle=True)\n",
    "test_loader = DataLoader(test_dataset, batch_size=batch_size, shuffle=True)"
   ]
  },
  {
   "cell_type": "code",
   "execution_count": 814,
   "metadata": {},
   "outputs": [],
   "source": [
    "cutoff = 8.0\n",
    "edge_dim = 50\n",
    "node_dim = 10\n",
    "\n",
    "class GraphEncoder(nn.Module):\n",
    "    def __init__(self, input_dim, num_heads):\n",
    "        super(GraphEncoder, self).__init__()\n",
    "        self.gcnconv1 = GATConv(input_dim, 512)\n",
    "        self.bn1 = nn.BatchNorm1d(512)\n",
    "        self.gcnconv2 = GATConv(512, 512)\n",
    "        self.bn2 = nn.BatchNorm1d(512)\n",
    "        self.gcnconv3 = GATConv(512, 512, heads=num_heads, concat=False)\n",
    "        self.bn3 = nn.BatchNorm1d(512)\n",
    "        # self.gcnconv4 = GATConv(512, 512, heads=num_heads, concat=False)\n",
    "        # self.bn4 = nn.BatchNorm1d(512)\n",
    "\n",
    "    def forward(self, x, edge_index, edge_attr):\n",
    "        x = self.gcnconv1(x, edge_index, edge_attr)\n",
    "        x = nn.ReLU()(x)\n",
    "        x = self.bn1(x)\n",
    "        x = self.gcnconv2(x, edge_index, edge_attr)\n",
    "        x = nn.ReLU()(x)\n",
    "        x = self.bn2(x)\n",
    "        x = self.gcnconv3(x, edge_index, edge_attr)\n",
    "        x = nn.ReLU()(x)\n",
    "        x = self.bn3(x)\n",
    "        # x = self.gcnconv4(x, edge_index, edge_attr)\n",
    "        # x = nn.ReLU()(x)\n",
    "        # x = self.bn4(x)\n",
    "        return x\n",
    "\n",
    "class BioClassifier(nn.Module):\n",
    "    def __init__(self, input_dim, num_heads):\n",
    "        super(BioClassifier, self).__init__()\n",
    "        \n",
    "        self.encoder = GraphEncoder(input_dim, num_heads)\n",
    "        self.fc1 = nn.Linear(512, 256)\n",
    "        self.bn1 = nn.BatchNorm1d(256)\n",
    "        self.fc2 = nn.Linear(256, 128)\n",
    "        self.fc3 = nn.Linear(128, 1)\n",
    "        self.dropout = nn.Dropout(0.1)\n",
    "\n",
    "    def forward(self, data):\n",
    "        x, edge_index, edge_attr = data.x, data.edge_index, data.edge_attr\n",
    "        x = x.float()\n",
    "\n",
    "        x = self.encoder(x, edge_index, edge_attr)\n",
    "        x = global_add_pool(x, data.batch)\n",
    "        x = self.dropout(x)\n",
    "        x = self.fc1(x)\n",
    "        x = nn.ReLU()(x)\n",
    "        x = self.bn1(x)\n",
    "        x = self.fc2(x)\n",
    "        x = nn.ReLU()(x)\n",
    "        # x = self.dropout(x)\n",
    "        x = self.fc3(x)\n",
    "        # x = self.readout(x)\n",
    "        x = torch.sigmoid(x)\n",
    "        return x.squeeze(dim=1)"
   ]
  },
  {
   "cell_type": "code",
   "execution_count": 815,
   "metadata": {},
   "outputs": [],
   "source": [
    "# Initialize model\n",
    "model = BioClassifier(node_dim, 4)\n",
    "\n",
    "criterion = nn.BCELoss()\n",
    "optimizer = optim.Adam(model.parameters(), lr=0.00001)"
   ]
  },
  {
   "cell_type": "code",
   "execution_count": 816,
   "metadata": {},
   "outputs": [
    {
     "name": "stdout",
     "output_type": "stream",
     "text": [
      "Epoch 1/50, Train Loss: 0.020705466527761937, Val Loss: 0.020701738145260735\n",
      "Epoch 2/50, Train Loss: 0.019104369914451295, Val Loss: 0.018774539698957062\n",
      "Epoch 3/50, Train Loss: 0.01860299088299576, Val Loss: 0.01810714202439225\n",
      "Epoch 4/50, Train Loss: 0.018227025049834387, Val Loss: 0.017891589027123164\n",
      "Epoch 5/50, Train Loss: 0.017809814800198928, Val Loss: 0.017292866770853132\n",
      "Epoch 6/50, Train Loss: 0.017435618071592277, Val Loss: 0.018117172206008194\n",
      "Epoch 7/50, Train Loss: 0.017299300590514332, Val Loss: 0.017429654563566717\n",
      "Epoch 8/50, Train Loss: 0.01714952709702979, Val Loss: 0.017370668300312905\n",
      "Epoch 9/50, Train Loss: 0.01707401097725455, Val Loss: 0.01703559812283356\n",
      "Epoch 10/50, Train Loss: 0.016616813122321543, Val Loss: 0.0167831509171983\n",
      "Epoch 11/50, Train Loss: 0.01652554998058091, Val Loss: 0.016230075151328273\n",
      "Epoch 12/50, Train Loss: 0.016423135329961376, Val Loss: 0.01601529741447244\n",
      "Epoch 13/50, Train Loss: 0.016057792856259048, Val Loss: 0.01676116007019743\n",
      "Epoch 14/50, Train Loss: 0.015925799940931053, Val Loss: 0.0160992610907928\n",
      "Epoch 15/50, Train Loss: 0.01595825847696896, Val Loss: 0.01564805693007689\n",
      "Epoch 16/50, Train Loss: 0.01596409584981394, Val Loss: 0.015627082695630307\n",
      "Epoch 17/50, Train Loss: 0.015740330527343395, Val Loss: 0.015434616430760497\n",
      "Epoch 18/50, Train Loss: 0.015539415482224341, Val Loss: 0.016091791042012124\n",
      "Epoch 19/50, Train Loss: 0.015484015955189227, Val Loss: 0.016029046419216215\n",
      "Epoch 20/50, Train Loss: 0.015531802220147536, Val Loss: 0.015570790042279818\n",
      "Epoch 21/50, Train Loss: 0.01534432419033919, Val Loss: 0.016272937824795445\n",
      "Epoch 22/50, Train Loss: 0.015336510591824582, Val Loss: 0.015669420794885962\n",
      "Epoch 23/50, Train Loss: 0.015530987254785245, Val Loss: 0.015906041300536803\n",
      "Epoch 24/50, Train Loss: 0.015177693902742602, Val Loss: 0.01555658920232615\n",
      "Epoch 25/50, Train Loss: 0.015229862026279732, Val Loss: 0.015693800761395652\n",
      "Epoch 26/50, Train Loss: 0.015271775236017185, Val Loss: 0.015640780296368353\n",
      "Epoch 27/50, Train Loss: 0.015248117418755569, Val Loss: 0.015514619198421504\n",
      "Epoch 28/50, Train Loss: 0.015056581021259847, Val Loss: 0.015308717486575679\n",
      "Epoch 29/50, Train Loss: 0.015154466497857896, Val Loss: 0.014973328884282634\n",
      "Epoch 30/50, Train Loss: 0.014953782182017225, Val Loss: 0.014914245346781924\n",
      "Epoch 31/50, Train Loss: 0.014963058757942804, Val Loss: 0.015373992173197019\n",
      "Epoch 32/50, Train Loss: 0.014822255374006235, Val Loss: 0.015096947250750241\n",
      "Epoch 33/50, Train Loss: 0.014470661709220171, Val Loss: 0.014906388601200693\n",
      "Epoch 34/50, Train Loss: 0.0147736836319026, Val Loss: 0.014738144157183518\n",
      "Epoch 35/50, Train Loss: 0.01433360703528229, Val Loss: 0.015188629395209702\n",
      "Epoch 36/50, Train Loss: 0.014578115641065634, Val Loss: 0.014830704303395828\n",
      "Epoch 37/50, Train Loss: 0.014402380316796231, Val Loss: 0.015061705171128514\n",
      "Epoch 38/50, Train Loss: 0.0142605255089361, Val Loss: 0.01517158180008532\n",
      "Epoch 39/50, Train Loss: 0.014561353958075203, Val Loss: 0.015361006027900132\n",
      "Epoch 40/50, Train Loss: 0.014504550392370402, Val Loss: 0.015543857743542734\n",
      "Epoch 41/50, Train Loss: 0.014411939449394734, Val Loss: 0.01570959505885506\n",
      "Epoch 42/50, Train Loss: 0.014195475105390983, Val Loss: 0.01524806302665864\n",
      "Epoch 43/50, Train Loss: 0.014150794865610628, Val Loss: 0.015415471205508683\n",
      "Epoch 44/50, Train Loss: 0.014254631898656462, Val Loss: 0.014442844278860412\n",
      "Epoch 45/50, Train Loss: 0.014531458742150167, Val Loss: 0.015886339498579635\n",
      "Epoch 46/50, Train Loss: 0.014198623283516495, Val Loss: 0.015707905660539666\n",
      "Epoch 47/50, Train Loss: 0.014271675196003551, Val Loss: 0.014791605856594623\n",
      "Epoch 48/50, Train Loss: 0.013843177354456402, Val Loss: 0.01603838768048041\n",
      "Epoch 49/50, Train Loss: 0.014154692876198239, Val Loss: 0.015154032499198146\n",
      "Epoch 50/50, Train Loss: 0.014301156245084073, Val Loss: 0.015663215311314968\n"
     ]
    }
   ],
   "source": [
    "# Train model\n",
    "num_epochs = 50\n",
    "train_losses, val_losses = [], []\n",
    "\n",
    "# for early stopping\n",
    "best_val_loss = float('inf')\n",
    "patience = 15  # Number of epochs to wait if validation loss doesn't improve\n",
    "counter = 0  # Counter for early stopping\n",
    "early_stopping = False\n",
    "\n",
    "for epoch in range(num_epochs):\n",
    "    # Training\n",
    "    model.train()\n",
    "    train_loss = 0.0\n",
    "    for batch in train_loader:\n",
    "        optimizer.zero_grad()\n",
    "        graph, bio = batch[0], batch[1]\n",
    "        output = model(graph).to(device)\n",
    "        loss = criterion(output.to(torch.float).to(device), bio.to(torch.float).to(device))\n",
    "        loss.backward()\n",
    "        optimizer.step()\n",
    "        train_loss += loss.item()\n",
    "    train_loss /= len(train_loader.dataset)\n",
    "    train_losses.append(train_loss)\n",
    "        \n",
    "    # Validation\n",
    "    model.eval()\n",
    "    val_loss = 0.0\n",
    "    with torch.no_grad():\n",
    "        for batch in test_loader:\n",
    "            graph, bio = batch[0], batch[1]\n",
    "            output = model(graph)\n",
    "            loss = criterion(output.to(torch.float).to(device), bio.to(torch.float).to(device))\n",
    "            val_loss += loss.item()\n",
    "    val_loss /= len(test_loader.dataset)\n",
    "    val_losses.append(val_loss)\n",
    "        \n",
    "    print(f'Epoch {epoch + 1}/{num_epochs}, Train Loss: {train_loss}, Val Loss: {val_loss}')\n",
    "\n",
    "    # Early stopping\n",
    "    if early_stopping:\n",
    "        if val_loss < best_val_loss:\n",
    "            best_val_loss = val_loss\n",
    "            counter = 0\n",
    "        else:\n",
    "            counter += 1\n",
    "            if counter >= patience:\n",
    "                print(f'Early stopping at epoch {epoch+1}')\n",
    "                break"
   ]
  },
  {
   "cell_type": "code",
   "execution_count": 817,
   "metadata": {},
   "outputs": [
    {
     "name": "stdout",
     "output_type": "stream",
     "text": [
      "Accuracy: 0.7516778523489933\n",
      "Balanced Accuracy: 0.7951775187270067\n"
     ]
    }
   ],
   "source": [
    "# Evaluate model\n",
    "model.eval()\n",
    "\n",
    "y_true = []\n",
    "y_pred = []\n",
    "with torch.no_grad():\n",
    "    correct = 0\n",
    "    total = 0\n",
    "    TP, FP, TN, FN = 0, 0, 0, 0\n",
    "    for batch in test_dataset:\n",
    "        graph, label = batch[0], batch[1]\n",
    "        output = model(graph)\n",
    "        predicted = torch.round(output)\n",
    "        total += 1\n",
    "        y_true.append(int(label))\n",
    "        y_pred.append(predicted)\n",
    "        if predicted == int(label):\n",
    "            correct += 1\n",
    "        if predicted == 1:\n",
    "            if int(label) == 1:\n",
    "                TP += 1\n",
    "            else:\n",
    "                FP += 1\n",
    "        if predicted == 0:\n",
    "            if int(label) == 1:\n",
    "                FN += 1\n",
    "            else:\n",
    "                TN += 1\n",
    "\n",
    "    accuracy = correct / total\n",
    "    print(f'Accuracy: {accuracy}')\n",
    "    Sn = TP / (TP + FN)\n",
    "    Sp = TN / (TN + FP)\n",
    "    Ba = (Sn + Sp) / 2\n",
    "    print(f'Balanced Accuracy: {Ba}')"
   ]
  },
  {
   "cell_type": "code",
   "execution_count": 818,
   "metadata": {},
   "outputs": [
    {
     "name": "stdout",
     "output_type": "stream",
     "text": [
      "ROC AUC Score: 0.7951775187270067\n",
      "Precision:  0.5877551020408164\n"
     ]
    },
    {
     "data": {
      "image/png": "[encoded data removed]",
      "text/plain": [
       "<Figure size 500x350 with 2 Axes>"
      ]
     },
     "metadata": {},
     "output_type": "display_data"
    }
   ],
   "source": [
    "auc_roc = roc_auc_score(y_true, y_pred)\n",
    "print(\"ROC AUC Score:\", auc_roc)\n",
    "precision = precision_score(y_true, y_pred)\n",
    "print(\"Precision: \", precision)\n",
    "\n",
    "cm = confusion_matrix(y_true, y_pred)\n",
    "plt.figure(figsize=(5, 3.5))\n",
    "sns.heatmap(cm, annot=True, fmt='d', cmap='Greens', xticklabels=['Predicted 0', 'Predicted 1'],\n",
    "            yticklabels=['True 0', 'True 1'])\n",
    "plt.ylabel('Actual')\n",
    "plt.xlabel('Predicted')\n",
    "plt.tight_layout()  # Adjust layout to fit\n",
    "plt.show()"
   ]
  },
  {
   "cell_type": "code",
   "execution_count": 819,
   "metadata": {},
   "outputs": [
    {
     "name": "stdout",
     "output_type": "stream",
     "text": [
      "10\n"
     ]
    },
    {
     "data": {
      "image/png": "[encoded data removed]",
      "text/plain": [
       "<Figure size 640x480 with 1 Axes>"
      ]
     },
     "metadata": {},
     "output_type": "display_data"
    }
   ],
   "source": [
    "train_loss_list=[]\n",
    "for i in range(len(train_losses)):\n",
    "    if i % 5 == 0:\n",
    "        train_loss_list.append(train_losses[i])\n",
    "        \n",
    "print(len(train_loss_list))\n",
    "\n",
    "epochs = range(0, len(train_loss_list))\n",
    "\n",
    "plt.plot(epochs, train_loss_list, label='Loss')\n",
    "plt.xlabel('Epoch')\n",
    "plt.ylabel('Loss')\n",
    "plt.title('Loss over Epochs')\n",
    "plt.legend()\n",
    "plt.show()"
   ]
  },
  {
   "cell_type": "code",
   "execution_count": 820,
   "metadata": {},
   "outputs": [
    {
     "data": {
      "image/png": "[encoded data removed]",
      "text/plain": [
       "<Figure size 640x480 with 1 Axes>"
      ]
     },
     "metadata": {},
     "output_type": "display_data"
    }
   ],
   "source": [
    "val_loss_list=[]\n",
    "for i in range(len(val_losses)):\n",
    "    if i % 5 == 0:\n",
    "        val_loss_list.append(val_losses[i])\n",
    "\n",
    "epochs = range(0, len(val_loss_list))\n",
    "\n",
    "plt.plot(epochs, val_loss_list, label='Loss')\n",
    "plt.xlabel('Epoch')\n",
    "plt.ylabel('Loss')\n",
    "plt.title('Loss over Epochs')\n",
    "plt.legend()\n",
    "plt.show()"
   ]
  },
  {
   "cell_type": "code",
   "execution_count": 821,
   "metadata": {},
   "outputs": [
    {
     "name": "stdout",
     "output_type": "stream",
     "text": [
      "BioClassifier(\n",
      "  (encoder): GraphEncoder(\n",
      "    (gcnconv1): GATConv(10, 512, heads=1)\n",
      "    (bn1): BatchNorm1d(512, eps=1e-05, momentum=0.1, affine=True, track_running_stats=True)\n",
      "    (gcnconv2): GATConv(512, 512, heads=1)\n",
      "    (bn2): BatchNorm1d(512, eps=1e-05, momentum=0.1, affine=True, track_running_stats=True)\n",
      "    (gcnconv3): GATConv(512, 512, heads=4)\n",
      "    (bn3): BatchNorm1d(512, eps=1e-05, momentum=0.1, affine=True, track_running_stats=True)\n",
      "  )\n",
      "  (fc1): Linear(in_features=512, out_features=256, bias=True)\n",
      "  (bn1): BatchNorm1d(256, eps=1e-05, momentum=0.1, affine=True, track_running_stats=True)\n",
      "  (fc2): Linear(in_features=256, out_features=128, bias=True)\n",
      "  (fc3): Linear(in_features=128, out_features=1, bias=True)\n",
      "  (dropout): Dropout(p=0.1, inplace=False)\n",
      ")\n"
     ]
    }
   ],
   "source": [
    "print(model)"
   ]
  }
 ],
 "metadata": {
  "kernelspec": {
   "display_name": "Python 3",
   "language": "python",
   "name": "python3"
  },
  "language_info": {
   "codemirror_mode": {
    "name": "ipython",
    "version": 3
   },
   "file_extension": ".py",
   "mimetype": "text/x-python",
   "name": "python",
   "nbconvert_exporter": "python",
   "pygments_lexer": "ipython3",
   "version": "3.11.2"
  }
 },
 "nbformat": 4,
 "nbformat_minor": 2
}
