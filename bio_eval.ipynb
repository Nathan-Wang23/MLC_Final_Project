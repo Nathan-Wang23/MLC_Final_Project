{
 "cells": [
  {
   "cell_type": "code",
   "execution_count": 1,
   "metadata": {},
   "outputs": [
    {
     "name": "stderr",
     "output_type": "stream",
     "text": [
      "/Library/Frameworks/Python.framework/Versions/3.10/lib/python3.10/site-packages/transformers/utils/generic.py:441: UserWarning: torch.utils._pytree._register_pytree_node is deprecated. Please use torch.utils._pytree.register_pytree_node instead.\n",
      "  _torch_pytree._register_pytree_node(\n"
     ]
    }
   ],
   "source": [
    "import numpy as np\n",
    "import torch\n",
    "import torch.nn as nn\n",
    "import torch.optim as optim\n",
    "from ase import Atoms\n",
    "from ase.io import read\n",
    "from torch_geometric.data import Data\n",
    "from torch_geometric.nn import MessagePassing\n",
    "from torch_geometric.utils import to_networkx\n",
    "from torch_geometric.data import DataLoader\n",
    "from sklearn.model_selection import train_test_split\n",
    "from ase.build import molecule\n",
    "import pandas as pd\n",
    "from rdkit import Chem\n",
    "from rdkit.Chem import AllChem\n",
    "import random\n",
    "from torch_geometric.nn import global_add_pool, GATConv, CGConv\n",
    "from torch_geometric.nn.models.schnet import GaussianSmearing\n",
    "from sklearn.metrics import roc_auc_score\n",
    "import matplotlib.pyplot as plt\n",
    "\n"
   ]
  },
  {
   "cell_type": "code",
   "execution_count": 3,
   "metadata": {},
   "outputs": [],
   "source": [
    "bio_df = pd.read_csv(\"data/bio_data.csv\")"
   ]
  },
  {
   "cell_type": "code",
   "execution_count": 4,
   "metadata": {},
   "outputs": [
    {
     "data": {
      "text/html": [
       "<div>\n",
       "<style scoped>\n",
       "    .dataframe tbody tr th:only-of-type {\n",
       "        vertical-align: middle;\n",
       "    }\n",
       "\n",
       "    .dataframe tbody tr th {\n",
       "        vertical-align: top;\n",
       "    }\n",
       "\n",
       "    .dataframe thead th {\n",
       "        text-align: right;\n",
       "    }\n",
       "</style>\n",
       "<table border=\"1\" class=\"dataframe\">\n",
       "  <thead>\n",
       "    <tr style=\"text-align: right;\">\n",
       "      <th></th>\n",
       "      <th>index</th>\n",
       "      <th>formula</th>\n",
       "      <th>data_object</th>\n",
       "      <th>node_dim</th>\n",
       "      <th>bio</th>\n",
       "    </tr>\n",
       "  </thead>\n",
       "  <tbody>\n",
       "    <tr>\n",
       "      <th>0</th>\n",
       "      <td>1009</td>\n",
       "      <td>C14H23N</td>\n",
       "      <td>Data(x=[15, 54], edge_index=[2, 15], edge_attr...</td>\n",
       "      <td>15</td>\n",
       "      <td>1</td>\n",
       "    </tr>\n",
       "    <tr>\n",
       "      <th>1</th>\n",
       "      <td>964</td>\n",
       "      <td>C3H6O2</td>\n",
       "      <td>Data(x=[5, 54], edge_index=[2, 4], edge_attr=[...</td>\n",
       "      <td>5</td>\n",
       "      <td>1</td>\n",
       "    </tr>\n",
       "    <tr>\n",
       "      <th>2</th>\n",
       "      <td>962</td>\n",
       "      <td>C8H19NO</td>\n",
       "      <td>Data(x=[10, 54], edge_index=[2, 9], edge_attr=...</td>\n",
       "      <td>10</td>\n",
       "      <td>1</td>\n",
       "    </tr>\n",
       "    <tr>\n",
       "      <th>3</th>\n",
       "      <td>955</td>\n",
       "      <td>C13H26O4</td>\n",
       "      <td>Data(x=[17, 54], edge_index=[2, 16], edge_attr...</td>\n",
       "      <td>17</td>\n",
       "      <td>1</td>\n",
       "    </tr>\n",
       "    <tr>\n",
       "      <th>4</th>\n",
       "      <td>2597</td>\n",
       "      <td>C20H26O4</td>\n",
       "      <td>Data(x=[24, 54], edge_index=[2, 26], edge_attr...</td>\n",
       "      <td>24</td>\n",
       "      <td>1</td>\n",
       "    </tr>\n",
       "  </tbody>\n",
       "</table>\n",
       "</div>"
      ],
      "text/plain": [
       "   index   formula                                        data_object  \\\n",
       "0   1009   C14H23N  Data(x=[15, 54], edge_index=[2, 15], edge_attr...   \n",
       "1    964    C3H6O2  Data(x=[5, 54], edge_index=[2, 4], edge_attr=[...   \n",
       "2    962   C8H19NO  Data(x=[10, 54], edge_index=[2, 9], edge_attr=...   \n",
       "3    955  C13H26O4  Data(x=[17, 54], edge_index=[2, 16], edge_attr...   \n",
       "4   2597  C20H26O4  Data(x=[24, 54], edge_index=[2, 26], edge_attr...   \n",
       "\n",
       "   node_dim  bio  \n",
       "0        15    1  \n",
       "1         5    1  \n",
       "2        10    1  \n",
       "3        17    1  \n",
       "4        24    1  "
      ]
     },
     "execution_count": 4,
     "metadata": {},
     "output_type": "execute_result"
    }
   ],
   "source": [
    "bio_df.head()\n"
   ]
  },
  {
   "cell_type": "code",
   "execution_count": 5,
   "metadata": {},
   "outputs": [
    {
     "data": {
      "text/plain": [
       "0    1514\n",
       "1     744\n",
       "Name: bio, dtype: int64"
      ]
     },
     "execution_count": 5,
     "metadata": {},
     "output_type": "execute_result"
    }
   ],
   "source": [
    "bio_df['bio'].value_counts()"
   ]
  },
  {
   "cell_type": "code",
   "execution_count": 8,
   "metadata": {},
   "outputs": [
    {
     "name": "stdout",
     "output_type": "stream",
     "text": [
      "1514 1514\n",
      "3028\n"
     ]
    }
   ],
   "source": [
    "bio_samples = bio_df[bio_df['bio'] == 1]\n",
    "non_bio_samples = bio_df[bio_df['bio'] == 0]\n",
    "\n",
    "target_size = 1514\n",
    "\n",
    "balanced_toxic_samples = bio_samples.sample(n=target_size, replace=True, random_state=42)\n",
    "balanced_non_toxic_samples = non_bio_samples.sample(n=target_size, replace=False, random_state=42)\n",
    "\n",
    "balanced_dataset = pd.concat([balanced_toxic_samples, balanced_non_toxic_samples])\n",
    "\n",
    "balanced_dataset = balanced_dataset.sample(frac=1, random_state=42).reset_index(drop=True)\n",
    "\n",
    "print(len(balanced_non_toxic_samples), len(balanced_toxic_samples))\n",
    "print(len(balanced_dataset))"
   ]
  },
  {
   "cell_type": "code",
   "execution_count": null,
   "metadata": {},
   "outputs": [],
   "source": [
    "train_data, test_data = train_test_split(balanced_dataset, test_size=0.2, random_state=49)"
   ]
  },
  {
   "cell_type": "code",
   "execution_count": null,
   "metadata": {},
   "outputs": [],
   "source": [
    "batch_size = 8\n",
    "\n",
    "train_loader = DataLoader(train_data, batch_size=batch_size, shuffle=True)\n",
    "test_loader = DataLoader(test_data, batch_size=batch_size, shuffle=True)"
   ]
  },
  {
   "cell_type": "code",
   "execution_count": null,
   "metadata": {},
   "outputs": [],
   "source": [
    "\n",
    "cutoff = 8.0\n",
    "edge_dim = 50\n",
    "node_dim = 54\n",
    "\n",
    "class GraphEncoder(nn.Module):\n",
    "    def __init__(self, input_dim, hidden_dim, num_heads):\n",
    "        super(GraphEncoder, self).__init__()\n",
    "        self.conv1 = GATConv(input_dim+25, hidden_dim, heads=num_heads)\n",
    "        self.conv2 = GATConv(hidden_dim * num_heads, hidden_dim, heads=num_heads)\n",
    "        self.conv3 = CGConv(input_dim+25, edge_dim)\n",
    "        self.dropout = nn.Dropout(0.4)\n",
    "        self.batch = nn.BatchNorm1d(hidden_dim*num_heads)\n",
    "\n",
    "    def forward(self, x, edge_index, edge_attr, positions):\n",
    "        #x = torch.cat([x, positions], dim=1)\n",
    "        x = self.conv1(x, edge_index, edge_attr)\n",
    "        x = nn.GELU()(x)\n",
    "        x = self.dropout(x)\n",
    "        x = self.batch(x)\n",
    "        #x = self.conv2(x, edge_index, edge_attr)\n",
    "        #x = nn.ReLU()(x)\n",
    "        #x = self.dropout(x)\n",
    "        #x = self.batch(x)\n",
    "        #x = self.conv3(x, edge_index, edge_attr)\n",
    "        #x = nn.ReLU()(x)\n",
    "        #x = self.dropout(x)\n",
    "        #x = self.batch(x)\n",
    "        return x\n",
    "\n",
    "class BioClassifier(nn.Module):\n",
    "    def __init__(self, input_dim, hidden_dim, num_heads):\n",
    "        super(BioClassifier, self).__init__()\n",
    "        self.pre_graph = [\n",
    "            nn.Linear(input_dim+25, hidden_dim),\n",
    "            nn.GELU(),\n",
    "            nn.Linear(hidden_dim, input_dim+25),\n",
    "            nn.ReLU(),\n",
    "        ]\n",
    "        self.encoder = GraphEncoder(input_dim, hidden_dim, num_heads)\n",
    "        self.fc = nn.Linear(hidden_dim * num_heads, 12)\n",
    "\n",
    "    def forward(self, data):\n",
    "        x, edge_index, edge_attr, positions = data.x, data.edge_index, data.edge_attr, data.positions\n",
    "        x = x.float()\n",
    "\n",
    "        #gaussian_smearing = GaussianSmearing(0.0, cutoff, edge_dim)\n",
    "\n",
    "        #row, col = edge_index\n",
    "        #edge_distances = torch.norm(positions[row] - positions[col], dim=1)\n",
    "        #edge_attr = torch.cat([edge_attr, gaussian_smearing(edge_distances)], dim=1)\n",
    "\n",
    "        #for layer in self.pre_graph:\n",
    "        #    x = layer(x)\n",
    "        x = self.encoder(x, edge_index, edge_attr, positions)\n",
    "        x = global_add_pool(x, data.batch)\n",
    "        x = self.fc(x)\n",
    "        x = torch.sigmoid(x)\n",
    "        return x.squeeze(dim=1)"
   ]
  },
  {
   "cell_type": "code",
   "execution_count": null,
   "metadata": {},
   "outputs": [],
   "source": [
    "# Initialize model\n",
    "hidden_dim = 2\n",
    "model = BioClassifier(node_dim, hidden_dim, 2)\n",
    "\n",
    "criterion = nn.BCELoss()\n",
    "optimizer = optim.Adam(model.parameters(), lr=0.00001)\n",
    "#scheduler = torch.optim.lr_scheduler.StepLR(optimizer, step_size=10, gamma=0.5)"
   ]
  },
  {
   "cell_type": "code",
   "execution_count": null,
   "metadata": {},
   "outputs": [],
   "source": [
    "# Train model\n",
    "num_epochs = 200\n",
    "losses = []\n",
    "for epoch in range(num_epochs):\n",
    "    model.train()\n",
    "    for graph in train_loader:\n",
    "        optimizer.zero_grad()\n",
    "        output = model(graph)\n",
    "\n",
    "        loss = criterion(output.to(torch.float), (graph.tox).to(torch.float))\n",
    "        loss.requires_grad = True\n",
    "        loss.backward()\n",
    "        optimizer.step()\n",
    "        #scheduler.step()\n",
    "    print(f'Epoch {epoch+1}/{num_epochs}, Loss: {loss.item()}')\n",
    "    if epoch % 5 == 0:\n",
    "        losses.append(loss.item())\n"
   ]
  },
  {
   "cell_type": "code",
   "execution_count": null,
   "metadata": {},
   "outputs": [],
   "source": [
    "# Evaluate model\n",
    "model.eval()\n",
    "\n",
    "y_true = []\n",
    "y_pred = []\n",
    "with torch.no_grad():\n",
    "    correct = 0\n",
    "    correct_0s = 0\n",
    "    correct_1s = 0\n",
    "    total_1s = 0\n",
    "    total_0s = 0\n",
    "    total = 0\n",
    "    tote_0 = 0\n",
    "    tote_1 = 0\n",
    "    for graph in test_data:\n",
    "        output = model(graph)\n",
    "        predicted = torch.round(output)\n",
    "        total += 1\n",
    "        y_true.append(int(graph.tox))\n",
    "        y_pred.append(predicted)\n",
    "        if predicted == 0:\n",
    "            tote_0 += 1\n",
    "        if predicted == 1:\n",
    "            tote_1 += 1\n",
    "        if predicted == int(graph.tox):\n",
    "            correct += 1\n",
    "        if int(graph.tox) == 1:\n",
    "            total_1s += 1\n",
    "            if predicted == 1:\n",
    "                correct_1s += 1\n",
    "        if int(graph.tox) == 0:\n",
    "            total_0s += 1\n",
    "            if predicted == 0:\n",
    "                correct_0s += 1\n",
    "\n",
    "    accuracy = correct / total\n",
    "    print(f'Accuracy: {accuracy}')\n",
    "    print(correct_0s, \" correct 0 predictions out of \", total_0s)\n",
    "    print(correct_1s, \" correct 1 predictions out of \", total_1s)\n",
    "    print(\"Total 0s Predicted: \", tote_0)\n",
    "    print(\"Total 1s Predicted: \", tote_1)"
   ]
  },
  {
   "cell_type": "code",
   "execution_count": null,
   "metadata": {},
   "outputs": [],
   "source": [
    "from sklearn.metrics import roc_auc_score\n",
    "auc_roc = roc_auc_score(y_true, y_pred)\n",
    "print(\"ROC AUC Score:\", auc_roc)"
   ]
  },
  {
   "cell_type": "code",
   "execution_count": null,
   "metadata": {},
   "outputs": [],
   "source": [
    "loss_list=[]\n",
    "for i in losses:\n",
    "    loss_list.append(i)\n",
    "\n",
    "epochs = range(0, 40)\n",
    "\n",
    "plt.plot(epochs, loss_list, label='Loss')\n",
    "plt.xlabel('Epoch')\n",
    "plt.ylabel('Loss')\n",
    "plt.title('Loss over Epochs')\n",
    "plt.legend()\n",
    "plt.show()"
   ]
  }
 ],
 "metadata": {
  "kernelspec": {
   "display_name": "Python 3",
   "language": "python",
   "name": "python3"
  },
  "language_info": {
   "codemirror_mode": {
    "name": "ipython",
    "version": 3
   },
   "file_extension": ".py",
   "mimetype": "text/x-python",
   "name": "python",
   "nbconvert_exporter": "python",
   "pygments_lexer": "ipython3",
   "version": "3.10.1"
  }
 },
 "nbformat": 4,
 "nbformat_minor": 2
}
